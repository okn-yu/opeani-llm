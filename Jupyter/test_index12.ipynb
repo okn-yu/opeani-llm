{
 "cells": [
  {
   "cell_type": "markdown",
   "id": "b0ae5eb1",
   "metadata": {},
   "source": [
    "# 概要\n",
    "* GPT_indexの実装を確認する\n",
    "* 区切りは解決したが、次は複数インデックスを参照して検索してほしい。\n",
    "\n",
    "# 参考\n",
    "* https://gpt-index.readthedocs.io/en/latest/how_to/custom_llms.html"
   ]
  },
  {
   "cell_type": "code",
   "execution_count": 1,
   "id": "d0bdc17b",
   "metadata": {},
   "outputs": [],
   "source": [
    "import os\n",
    "import openai\n",
    "\n",
    "openai.api_key = os.getenv(\"OPENAI_API_KEY\")"
   ]
  },
  {
   "cell_type": "code",
   "execution_count": 2,
   "id": "382f4e9d",
   "metadata": {},
   "outputs": [],
   "source": [
    "#Jupyterでも実行できるのは知らんかった...\n",
    "import logging\n",
    "import sys\n",
    "logging.basicConfig(stream=sys.stdout, level=logging.DEBUG, force=True)"
   ]
  },
  {
   "cell_type": "markdown",
   "id": "9ec9a1eb",
   "metadata": {},
   "source": [
    "# GPT-indexを用いた場合"
   ]
  },
  {
   "cell_type": "code",
   "execution_count": 3,
   "id": "29350e01",
   "metadata": {},
   "outputs": [
    {
     "name": "stdout",
     "output_type": "stream",
     "text": [
      "DEBUG:root:> [SimpleDirectoryReader] Total files added: 1\n",
      "DEBUG:root:> Adding chunk: 孫悟空少年編\n",
      "地球の人里離れた山奥に住む尻尾の生えた少年・孫悟空はある日、西の都からやって来た...\n",
      "DEBUG:root:> Adding chunk: その後、悟空は旅の途中に知り合った武術の達人・亀仙人の下で、後に親友となるクリリンと共に8か月...\n",
      "DEBUG:root:> Adding chunk: ピッコロ大魔王編\n",
      "天下一武道会終了後、ピラフ一味によって復活したピッコロ大魔王によって、クリリ...\n",
      "DEBUG:root:> Adding chunk: その約3年後、少年から青年へと成長した悟空は、天下一武道会の会場で仲間たちと再会。試合では、少...\n",
      "DEBUG:root:> Adding chunk: サイヤ人編\n",
      "ピッコロ（マジュニア）との闘いから約5年後、息子の孫悟飯を儲けて平和な日々を過ごし...\n",
      "DEBUG:root:> Adding chunk: 悟空はドラゴンボールによって生き返るまでの間、あの世の界王の下で修業し、仲間と共に地球に強襲し...\n",
      "DEBUG:root:> Adding chunk: フリーザ編\n",
      "地球の神と殺された仲間たちを甦らせるため、重傷で入院中の悟空に代わり、悟飯、クリリ...\n",
      "DEBUG:root:> Adding chunk: 出し抜かれて願いが叶えられなかったフリーザは激怒し、一行は対決を強いられる。フリーザの持つ圧倒...\n",
      "DEBUG:root:> Adding chunk: 人造人間・セル編\n",
      "ナメック星での闘いから約1年後、密かに生き延びていたフリーザとその一味が地球...\n",
      "DEBUG:root:> Adding chunk: 人造人間17号と人造人間18号を吸収することで完全体となったセルは地球の命運を賭けた武道会「セ...\n",
      "DEBUG:root:> Adding chunk: 魔人ブウ編\n",
      "セルゲームより約7年後、高校生に成長した悟飯が天下一武道会に出場することを知った悟...\n",
      "DEBUG:root:> Adding chunk: 一方、魔人ブウは様々な人間との出会いからより邪悪で強力な魔人へと変貌。悟天とトランクスが「フュ...\n",
      "DEBUG:openai:message='Request to OpenAI API' method=post path=https://api.openai.com/v1/completions\n",
      "DEBUG:openai:api_version=None data='{\"prompt\": [\"Some text is provided below. Given the text, extract up to 10 keywords from the text. Avoid stopwords.---------------------\\\\n\\\\u5b6b\\\\u609f\\\\u7a7a\\\\u5c11\\\\u5e74\\\\u7de8\\\\n\\\\u5730\\\\u7403\\\\u306e\\\\u4eba\\\\u91cc\\\\u96e2\\\\u308c\\\\u305f\\\\u5c71\\\\u5965\\\\u306b\\\\u4f4f\\\\u3080\\\\u5c3b\\\\u5c3e\\\\u306e\\\\u751f\\\\u3048\\\\u305f\\\\u5c11\\\\u5e74\\\\u30fb\\\\u5b6b\\\\u609f\\\\u7a7a\\\\u306f\\\\u3042\\\\u308b\\\\u65e5\\\\u3001\\\\u897f\\\\u306e\\\\u90fd\\\\u304b\\\\u3089\\\\u3084\\\\u3063\\\\u3066\\\\u6765\\\\u305f\\\\u5c11\\\\u5973\\\\u30fb\\\\u30d6\\\\u30eb\\\\u30de\\\\u3068\\\\u51fa\\\\u4f1a\\\\u3046\\\\u3002\\\\u305d\\\\u3053\\\\u3067\\\\u30017\\\\u3064\\\\u96c6\\\\u3081\\\\u308b\\\\u3068\\\\u795e\\\\u9f8d\\\\uff08\\\\u30b7\\\\u30a7\\\\u30f3\\\\u30ed\\\\u30f3\\\\uff09\\\\u304c\\\\u73fe\\\\u308c\\\\u3001\\\\u3069\\\\u3093\\\\u306a\\\\u9858\\\\u3044\\\\u3067\\\\u3082\\\\u4e00\\\\u3064\\\\u3060\\\\u3051\\\\u53f6\\\\u3048\\\\u3066\\\\u304f\\\\u308c\\\\u308b\\\\u3068\\\\u3044\\\\u3046\\\\u30c9\\\\u30e9\\\\u30b4\\\\u30f3\\\\u30dc\\\\u30fc\\\\u30eb\\\\u306e\\\\u5b58\\\\u5728\\\\u3092\\\\u3001\\\\u3055\\\\u3089\\\\u306b\\\\u80b2\\\\u3066\\\\u306e\\\\u89aa\\\\u3067\\\\u3042\\\\u308b\\\\u5b6b\\\\u609f\\\\u98ef\\\\u306e\\\\u5f62\\\\u898b\\\\u3068\\\\u3057\\\\u3066\\\\u5927\\\\u5207\\\\u306b\\\\u6301\\\\u3063\\\\u3066\\\\u3044\\\\u305f\\\\u7403\\\\u304c\\\\u305d\\\\u306e1\\\\u3064\\\\u300c\\\\u56db\\\\u661f\\\\u7403\\\\uff08\\\\u30b9\\\\u30fc\\\\u30b7\\\\u30f3\\\\u30c1\\\\u30e5\\\\u30a6\\\\uff09\\\\u300d\\\\u3067\\\\u3042\\\\u308b\\\\u3053\\\\u3068\\\\u3092\\\\u77e5\\\\u308a\\\\u3001\\\\u30d6\\\\u30eb\\\\u30de\\\\u3068\\\\u5171\\\\u306b\\\\u6b8b\\\\u308a\\\\u306e\\\\u30c9\\\\u30e9\\\\u30b4\\\\u30f3\\\\u30dc\\\\u30fc\\\\u30eb\\\\u3092\\\\u63a2\\\\u3059\\\\u65c5\\\\u306b\\\\u51fa\\\\u308b\\\\u3002\\\\u4eba\\\\u3055\\\\u3089\\\\u3044\\\\u306e\\\\u30a6\\\\u30fc\\\\u30ed\\\\u30f3\\\\u3084\\\\u76d7\\\\u8cca\\\\u306e\\\\u30e4\\\\u30e0\\\\u30c1\\\\u30e3\\\\u3089\\\\u3092\\\\u5dfb\\\\u304d\\\\u8fbc\\\\u3093\\\\u3060\\\\u30dc\\\\u30fc\\\\u30eb\\\\u63a2\\\\u3057\\\\u306e\\\\u672b\\\\u3001\\\\u4e16\\\\u754c\\\\u5f81\\\\u670d\\\\u3092\\\\u4f01\\\\u3080\\\\u30d4\\\\u30e9\\\\u30d5\\\\u4e00\\\\u5473\\\\u306b\\\\u30dc\\\\u30fc\\\\u30eb\\\\u3092\\\\u596a\\\\u308f\\\\u308c\\\\u795e\\\\u9f8d\\\\u3092\\\\u547c\\\\u3073\\\\u51fa\\\\u3055\\\\u308c\\\\u308b\\\\u304c\\\\u3001\\\\u30a6\\\\u30fc\\\\u30ed\\\\u30f3\\\\u304c\\\\u3068\\\\u3063\\\\u3055\\\\u306b\\\\u8a00\\\\u3044\\\\u653e\\\\u3063\\\\u305f\\\\u4e0b\\\\u3089\\\\u306a\\\\u3044\\\\u9858\\\\u3044\\\\u3092\\\\u53f6\\\\u3048\\\\u3066\\\\u3082\\\\u3089\\\\u3046\\\\u3053\\\\u3068\\\\u3067\\\\u4e00\\\\u5473\\\\u306e\\\\u91ce\\\\u671b\\\\u3092\\\\u963b\\\\u6b62\\\\u3059\\\\u308b\\\\u3002\\\\n---------------------\\\\nProvide keywords in the following comma-separated format: \\'KEYWORDS: <keywords>\\'\\\\n\"], \"model\": \"text-davinci-003\", \"temperature\": 0.0, \"max_tokens\": 2048, \"top_p\": 1, \"frequency_penalty\": 0, \"presence_penalty\": 0, \"n\": 1, \"best_of\": 1, \"logit_bias\": {}}' message='Post details'\n",
      "DEBUG:urllib3.util.retry:Converted retries value: 2 -> Retry(total=2, connect=None, read=None, redirect=None, status=None)\n",
      "DEBUG:urllib3.connectionpool:Starting new HTTPS connection (1): api.openai.com:443\n",
      "DEBUG:urllib3.connectionpool:https://api.openai.com:443 \"POST /v1/completions HTTP/1.1\" 200 None\n",
      "DEBUG:openai:message='OpenAI API response' path=https://api.openai.com/v1/completions processing_ms=2088 request_id=263213636d8671bcfde88aa60d384a71 response_code=200\n",
      "DEBUG:root:\n",
      "KEYWORDS: 孫悟空, 少年, 少女, ブルマ, ドラゴンボール, 四星球, ウーロン, 盗賊, ヤムチャ, ピラフ\n",
      "DEBUG:openai:message='Request to OpenAI API' method=post path=https://api.openai.com/v1/completions\n",
      "DEBUG:openai:api_version=None data='{\"prompt\": [\"Some text is provided below. Given the text, extract up to 10 keywords from the text. Avoid stopwords.---------------------\\\\n\\\\u305d\\\\u306e\\\\u5f8c\\\\u3001\\\\u609f\\\\u7a7a\\\\u306f\\\\u65c5\\\\u306e\\\\u9014\\\\u4e2d\\\\u306b\\\\u77e5\\\\u308a\\\\u5408\\\\u3063\\\\u305f\\\\u6b66\\\\u8853\\\\u306e\\\\u9054\\\\u4eba\\\\u30fb\\\\u4e80\\\\u4ed9\\\\u4eba\\\\u306e\\\\u4e0b\\\\u3067\\\\u3001\\\\u5f8c\\\\u306b\\\\u89aa\\\\u53cb\\\\u3068\\\\u306a\\\\u308b\\\\u30af\\\\u30ea\\\\u30ea\\\\u30f3\\\\u3068\\\\u5171\\\\u306b8\\\\u304b\\\\u6708\\\\u9593\\\\u306b\\\\u308f\\\\u305f\\\\u308b\\\\u4fee\\\\u884c\\\\u3092\\\\u7a4d\\\\u307f\\\\u3001\\\\u305d\\\\u306e\\\\u6210\\\\u679c\\\\u3092\\\\u78ba\\\\u304b\\\\u3081\\\\u308b\\\\u305f\\\\u3081\\\\u306b\\\\u4e16\\\\u754c\\\\u4e00\\\\u306e\\\\u6b66\\\\u8853\\\\u306e\\\\u9054\\\\u4eba\\\\u3092\\\\u6c7a\\\\u3081\\\\u308b\\\\u5929\\\\u4e0b\\\\u4e00\\\\u6b66\\\\u9053\\\\u4f1a\\\\u306b\\\\u51fa\\\\u5834\\\\u3057\\\\u3001\\\\u5909\\\\u88c5\\\\u3057\\\\u3066\\\\u51fa\\\\u5834\\\\u3057\\\\u3066\\\\u3044\\\\u305f\\\\u4e80\\\\u4ed9\\\\u4eba\\\\u306b\\\\u6557\\\\u308c\\\\u308b\\\\u3082\\\\u6e96\\\\u512a\\\\u52dd\\\\u3092\\\\u679c\\\\u305f\\\\u3059\\\\u3002\\\\u609f\\\\u7a7a\\\\u306f\\\\u518d\\\\u3073\\\\u4fee\\\\u884c\\\\u306e\\\\u65c5\\\\u3078\\\\u3068\\\\u51fa\\\\u767a\\\\u3057\\\\u3001\\\\u30c9\\\\u30e9\\\\u30b4\\\\u30f3\\\\u30dc\\\\u30fc\\\\u30eb\\\\u306e\\\\u60aa\\\\u7528\\\\u3092\\\\u4f01\\\\u3080\\\\u30ec\\\\u30c3\\\\u30c9\\\\u30ea\\\\u30dc\\\\u30f3\\\\u8ecd\\\\u3068\\\\u306e\\\\u95d8\\\\u3044\\\\u3084\\\\u3001\\\\u5b6b\\\\u609f\\\\u98ef\\\\u3068\\\\u306e\\\\u518d\\\\u4f1a\\\\u306a\\\\u3069\\\\u3092\\\\u7d4c\\\\u3066\\\\u3055\\\\u3089\\\\u306b\\\\u5f37\\\\u3055\\\\u3092\\\\u5897\\\\u3057\\\\u3066\\\\u3044\\\\u304f\\\\u3002\\\\u3055\\\\u3089\\\\u306b3\\\\u5e74\\\\u5f8c\\\\u306e\\\\u5929\\\\u4e0b\\\\u4e00\\\\u6b66\\\\u9053\\\\u4f1a\\\\u3067\\\\u306f\\\\u3001\\\\u4e80\\\\u4ed9\\\\u6d41\\\\u306e\\\\u30e9\\\\u30a4\\\\u30d0\\\\u30eb\\\\u3067\\\\u3042\\\\u308b\\\\u9db4\\\\u4ed9\\\\u6d41\\\\u306e\\\\u5929\\\\u6d25\\\\u98ef\\\\uff08\\\\u3066\\\\u3093\\\\u3057\\\\u3093\\\\u306f\\\\u3093\\\\uff09\\\\u3068\\\\u95d8\\\\u3046\\\\u304c\\\\u3001\\\\u3042\\\\u3068\\\\u4e00\\\\u6b69\\\\u306e\\\\u3068\\\\u3053\\\\u308d\\\\u3067\\\\u6557\\\\u308c\\\\u3001\\\\u524d\\\\u56de\\\\u3068\\\\u540c\\\\u3058\\\\u304f\\\\u6e96\\\\u512a\\\\u52dd\\\\u306b\\\\u7d42\\\\u308f\\\\u308b\\\\u3002\\\\n---------------------\\\\nProvide keywords in the following comma-separated format: \\'KEYWORDS: <keywords>\\'\\\\n\"], \"model\": \"text-davinci-003\", \"temperature\": 0.0, \"max_tokens\": 2048, \"top_p\": 1, \"frequency_penalty\": 0, \"presence_penalty\": 0, \"n\": 1, \"best_of\": 1, \"logit_bias\": {}}' message='Post details'\n",
      "DEBUG:urllib3.connectionpool:https://api.openai.com:443 \"POST /v1/completions HTTP/1.1\" 200 None\n",
      "DEBUG:openai:message='OpenAI API response' path=https://api.openai.com/v1/completions processing_ms=3437 request_id=2cd261e5775146d73a438ad3ba686650 response_code=200\n",
      "DEBUG:root:\n",
      "KEYWORDS: 悟空, 亀仙人, クリリン, 天下一武道会, 修行, 変装, レッドリボン軍, 孫悟飯, 鶴仙流, 天津飯\n",
      "DEBUG:openai:message='Request to OpenAI API' method=post path=https://api.openai.com/v1/completions\n",
      "DEBUG:openai:api_version=None data='{\"prompt\": [\"Some text is provided below. Given the text, extract up to 10 keywords from the text. Avoid stopwords.---------------------\\\\n\\\\u30d4\\\\u30c3\\\\u30b3\\\\u30ed\\\\u5927\\\\u9b54\\\\u738b\\\\u7de8\\\\n\\\\u5929\\\\u4e0b\\\\u4e00\\\\u6b66\\\\u9053\\\\u4f1a\\\\u7d42\\\\u4e86\\\\u5f8c\\\\u3001\\\\u30d4\\\\u30e9\\\\u30d5\\\\u4e00\\\\u5473\\\\u306b\\\\u3088\\\\u3063\\\\u3066\\\\u5fa9\\\\u6d3b\\\\u3057\\\\u305f\\\\u30d4\\\\u30c3\\\\u30b3\\\\u30ed\\\\u5927\\\\u9b54\\\\u738b\\\\u306b\\\\u3088\\\\u3063\\\\u3066\\\\u3001\\\\u30af\\\\u30ea\\\\u30ea\\\\u30f3\\\\u3084\\\\u4e80\\\\u4ed9\\\\u4eba\\\\u306a\\\\u3069\\\\u609f\\\\u7a7a\\\\u306e\\\\u4ef2\\\\u9593\\\\u305f\\\\u3061\\\\u3084\\\\u591a\\\\u304f\\\\u306e\\\\u6b66\\\\u9053\\\\u5bb6\\\\u305f\\\\u3061\\\\u304c\\\\u6bba\\\\u3055\\\\u308c\\\\u308b\\\\u3002\\\\u609f\\\\u7a7a\\\\u306f\\\\u4ec7\\\\u3092\\\\u8a0e\\\\u3064\\\\u305f\\\\u3081\\\\u3001\\\\u9053\\\\u4e2d\\\\u306b\\\\u51fa\\\\u4f1a\\\\u3063\\\\u305f\\\\u30e4\\\\u30b8\\\\u30ed\\\\u30d9\\\\u30fc\\\\u3084\\\\u4ed9\\\\u732b\\\\u30ab\\\\u30ea\\\\u30f3\\\\u306e\\\\u5354\\\\u529b\\\\u3092\\\\u5f97\\\\u3066\\\\u547d\\\\u3092\\\\u8ced\\\\u3057\\\\u3066\\\\u6f5c\\\\u5728\\\\u3059\\\\u308b\\\\u529b\\\\u3092\\\\u5f15\\\\u304d\\\\u51fa\\\\u3057\\\\u3001\\\\u30d4\\\\u30c3\\\\u30b3\\\\u30ed\\\\u5927\\\\u9b54\\\\u738b\\\\u306b\\\\u95d8\\\\u3044\\\\u3092\\\\u6311\\\\u307f\\\\u52dd\\\\u5229\\\\u3059\\\\u308b\\\\u3002\\\\u95d8\\\\u3044\\\\u306e\\\\u5f8c\\\\u3001\\\\u609f\\\\u7a7a\\\\u306f\\\\u30d4\\\\u30c3\\\\u30b3\\\\u30ed\\\\u5927\\\\u9b54\\\\u738b\\\\u306b\\\\u6bba\\\\u3055\\\\u308c\\\\u305f\\\\u795e\\\\u9f8d\\\\u3084\\\\u4ef2\\\\u9593\\\\u305f\\\\u3061\\\\u306e\\\\u5fa9\\\\u6d3b\\\\u306e\\\\u305f\\\\u3081\\\\u5929\\\\u754c\\\\u3078\\\\u5411\\\\u304b\\\\u3044\\\\u3001\\\\u30c9\\\\u30e9\\\\u30b4\\\\u30f3\\\\u30dc\\\\u30fc\\\\u30eb\\\\u306e\\\\u5275\\\\u9020\\\\u8005\\\\u3067\\\\u3042\\\\u308b\\\\u795e\\\\u306b\\\\u4f1a\\\\u3046\\\\u3002\\\\u305d\\\\u3053\\\\u3067\\\\u795e\\\\u9f8d\\\\u5fa9\\\\u6d3b\\\\u306e\\\\u6761\\\\u4ef6\\\\u3068\\\\u3057\\\\u3066\\\\u3001\\\\u795e\\\\u306e\\\\u4e0b\\\\u3067\\\\u5929\\\\u754c\\\\u3067\\\\u4fee\\\\u884c\\\\u3059\\\\u308b\\\\u3053\\\\u3068\\\\u3068\\\\u306a\\\\u3063\\\\u305f\\\\u3002\\\\n---------------------\\\\nProvide keywords in the following comma-separated format: \\'KEYWORDS: <keywords>\\'\\\\n\"], \"model\": \"text-davinci-003\", \"temperature\": 0.0, \"max_tokens\": 2048, \"top_p\": 1, \"frequency_penalty\": 0, \"presence_penalty\": 0, \"n\": 1, \"best_of\": 1, \"logit_bias\": {}}' message='Post details'\n"
     ]
    },
    {
     "name": "stdout",
     "output_type": "stream",
     "text": [
      "DEBUG:urllib3.connectionpool:https://api.openai.com:443 \"POST /v1/completions HTTP/1.1\" 200 None\n",
      "DEBUG:openai:message='OpenAI API response' path=https://api.openai.com/v1/completions processing_ms=1945 request_id=4592a669238aa843f9c0659dfb356ef0 response_code=200\n",
      "DEBUG:root:\n",
      "KEYWORDS: ピッコロ大魔王, クリリン, 亀仙人, 悟空, ヤジロベー, 仙猫カリン, 神龍, 神, 天界, ドラゴンボール\n",
      "DEBUG:openai:message='Request to OpenAI API' method=post path=https://api.openai.com/v1/completions\n",
      "DEBUG:openai:api_version=None data='{\"prompt\": [\"Some text is provided below. Given the text, extract up to 10 keywords from the text. Avoid stopwords.---------------------\\\\n\\\\u305d\\\\u306e\\\\u7d043\\\\u5e74\\\\u5f8c\\\\u3001\\\\u5c11\\\\u5e74\\\\u304b\\\\u3089\\\\u9752\\\\u5e74\\\\u3078\\\\u3068\\\\u6210\\\\u9577\\\\u3057\\\\u305f\\\\u609f\\\\u7a7a\\\\u306f\\\\u3001\\\\u5929\\\\u4e0b\\\\u4e00\\\\u6b66\\\\u9053\\\\u4f1a\\\\u306e\\\\u4f1a\\\\u5834\\\\u3067\\\\u4ef2\\\\u9593\\\\u305f\\\\u3061\\\\u3068\\\\u518d\\\\u4f1a\\\\u3002\\\\u8a66\\\\u5408\\\\u3067\\\\u306f\\\\u3001\\\\u5c11\\\\u5e74\\\\u6642\\\\u4ee3\\\\u306b\\\\u51fa\\\\u4f1a\\\\u3063\\\\u305f\\\\u969b\\\\u306b\\\\u300c\\\\u5ac1\\\\u306b\\\\u3082\\\\u3089\\\\u3046\\\\u300d\\\\u3068\\\\u7d04\\\\u675f\\\\u3057\\\\u3066\\\\u3044\\\\u305f\\\\u725b\\\\u9b54\\\\u738b\\\\u306e\\\\u5a18\\\\u30fb\\\\u30c1\\\\u30c1\\\\u3068\\\\u518d\\\\u4f1a\\\\u3057\\\\u305d\\\\u306e\\\\u5834\\\\u3067\\\\u7d50\\\\u5a5a\\\\u3002\\\\u305d\\\\u3057\\\\u3066\\\\u6b66\\\\u9053\\\\u4f1a\\\\u306b\\\\u51fa\\\\u5834\\\\u3057\\\\u3066\\\\u3044\\\\u305f\\\\u30d4\\\\u30c3\\\\u30b3\\\\u30ed\\\\u5927\\\\u9b54\\\\u738b\\\\u306e\\\\u751f\\\\u307e\\\\u308c\\\\u5909\\\\u308f\\\\u308a\\\\u3067\\\\u3042\\\\u308b\\\\u30de\\\\u30b8\\\\u30e5\\\\u30cb\\\\u30a2\\\\u3068\\\\u6c7a\\\\u52dd\\\\u6226\\\\u3067\\\\u6fc0\\\\u7a81\\\\u3001\\\\u3053\\\\u308c\\\\u306b\\\\u52dd\\\\u5229\\\\u3057\\\\u521d\\\\u306e\\\\u5929\\\\u4e0b\\\\u4e00\\\\u6b66\\\\u9053\\\\u4f1a\\\\u512a\\\\u52dd\\\\u3092\\\\u98fe\\\\u308b\\\\u3002\\\\n---------------------\\\\nProvide keywords in the following comma-separated format: \\'KEYWORDS: <keywords>\\'\\\\n\"], \"model\": \"text-davinci-003\", \"temperature\": 0.0, \"max_tokens\": 2048, \"top_p\": 1, \"frequency_penalty\": 0, \"presence_penalty\": 0, \"n\": 1, \"best_of\": 1, \"logit_bias\": {}}' message='Post details'\n",
      "DEBUG:urllib3.connectionpool:https://api.openai.com:443 \"POST /v1/completions HTTP/1.1\" 200 None\n",
      "DEBUG:openai:message='OpenAI API response' path=https://api.openai.com/v1/completions processing_ms=1987 request_id=0826ff178c00c4dadc91b30038e080ef response_code=200\n",
      "DEBUG:root:\n",
      "KEYWORDS: 悟空, 牛魔王, チチ, ピッコロ大魔王, マジュニア, 決勝戦, 優勝, 天下一武道会, 仲間, 結婚\n",
      "DEBUG:openai:message='Request to OpenAI API' method=post path=https://api.openai.com/v1/completions\n",
      "DEBUG:openai:api_version=None data='{\"prompt\": [\"Some text is provided below. Given the text, extract up to 10 keywords from the text. Avoid stopwords.---------------------\\\\n\\\\u30b5\\\\u30a4\\\\u30e4\\\\u4eba\\\\u7de8\\\\n\\\\u30d4\\\\u30c3\\\\u30b3\\\\u30ed\\\\uff08\\\\u30de\\\\u30b8\\\\u30e5\\\\u30cb\\\\u30a2\\\\uff09\\\\u3068\\\\u306e\\\\u95d8\\\\u3044\\\\u304b\\\\u3089\\\\u7d045\\\\u5e74\\\\u5f8c\\\\u3001\\\\u606f\\\\u5b50\\\\u306e\\\\u5b6b\\\\u609f\\\\u98ef\\\\u3092\\\\u5132\\\\u3051\\\\u3066\\\\u5e73\\\\u548c\\\\u306a\\\\u65e5\\\\u3005\\\\u3092\\\\u904e\\\\u3054\\\\u3057\\\\u3066\\\\u3044\\\\u305f\\\\u609f\\\\u7a7a\\\\u306e\\\\u3082\\\\u3068\\\\u306b\\\\u3001\\\\u5b9f\\\\u5144\\\\u30fb\\\\u30e9\\\\u30c7\\\\u30a3\\\\u30c3\\\\u30c4\\\\u304c\\\\u5b87\\\\u5b99\\\\u3088\\\\u308a\\\\u6765\\\\u8972\\\\u3057\\\\u3001\\\\u81ea\\\\u5206\\\\u304c\\\\u60d1\\\\u661f\\\\u30d9\\\\u30b8\\\\u30fc\\\\u30bf\\\\u306e\\\\u6226\\\\u95d8\\\\u6c11\\\\u65cf\\\\u30fb\\\\u30b5\\\\u30a4\\\\u30e4\\\\u4eba\\\\u3067\\\\u3042\\\\u308b\\\\u3053\\\\u3068\\\\u3092\\\\u77e5\\\\u3089\\\\u3055\\\\u308c\\\\u308b\\\\u3002\\\\u3055\\\\u3089\\\\u308f\\\\u308c\\\\u305f\\\\u5b6b\\\\u609f\\\\u98ef\\\\u3092\\\\u52a9\\\\u3051\\\\u308b\\\\u305f\\\\u3081\\\\u609f\\\\u7a7a\\\\u306f\\\\u5bbf\\\\u6575\\\\u30d4\\\\u30c3\\\\u30b3\\\\u30ed\\\\u3068\\\\u624b\\\\u3092\\\\u7d44\\\\u307f\\\\u3001\\\\u81ea\\\\u3089\\\\u306e\\\\u547d\\\\u3068\\\\u5f15\\\\u304d\\\\u63db\\\\u3048\\\\u306b\\\\u30e9\\\\u30c7\\\\u30a3\\\\u30c3\\\\u30c4\\\\u3092\\\\u5012\\\\u3059\\\\u304c\\\\u3001\\\\u7d041\\\\u5e74\\\\u5f8c\\\\u306b\\\\u306f\\\\u3055\\\\u3089\\\\u306b\\\\u5f37\\\\u529b\\\\u306a\\\\u30b5\\\\u30a4\\\\u30e4\\\\u4eba\\\\u305f\\\\u3061\\\\u304c\\\\u30c9\\\\u30e9\\\\u30b4\\\\u30f3\\\\u30dc\\\\u30fc\\\\u30eb\\\\u3092\\\\u6c42\\\\u3081\\\\u3066\\\\u5730\\\\u7403\\\\u306b\\\\u6765\\\\u8972\\\\u3059\\\\u308b\\\\u3053\\\\u3068\\\\u3092\\\\u77e5\\\\u308b\\\\u3002\\\\n---------------------\\\\nProvide keywords in the following comma-separated format: \\'KEYWORDS: <keywords>\\'\\\\n\"], \"model\": \"text-davinci-003\", \"temperature\": 0.0, \"max_tokens\": 2048, \"top_p\": 1, \"frequency_penalty\": 0, \"presence_penalty\": 0, \"n\": 1, \"best_of\": 1, \"logit_bias\": {}}' message='Post details'\n",
      "DEBUG:urllib3.connectionpool:https://api.openai.com:443 \"POST /v1/completions HTTP/1.1\" 200 None\n",
      "DEBUG:openai:message='OpenAI API response' path=https://api.openai.com/v1/completions processing_ms=2061 request_id=a2f08063ebc679bd48eb2106778c7e41 response_code=200\n",
      "DEBUG:root:\n",
      "KEYWORDS: サイヤ人, ピッコロ, 悟空, ラディッツ, 孫悟飯, 惑星ベジータ, 戦闘民族, 宇宙, 強力, ドラゴンボール\n",
      "DEBUG:openai:message='Request to OpenAI API' method=post path=https://api.openai.com/v1/completions\n",
      "DEBUG:openai:api_version=None data='{\"prompt\": [\"Some text is provided below. Given the text, extract up to 10 keywords from the text. Avoid stopwords.---------------------\\\\n\\\\u609f\\\\u7a7a\\\\u306f\\\\u30c9\\\\u30e9\\\\u30b4\\\\u30f3\\\\u30dc\\\\u30fc\\\\u30eb\\\\u306b\\\\u3088\\\\u3063\\\\u3066\\\\u751f\\\\u304d\\\\u8fd4\\\\u308b\\\\u307e\\\\u3067\\\\u306e\\\\u9593\\\\u3001\\\\u3042\\\\u306e\\\\u4e16\\\\u306e\\\\u754c\\\\u738b\\\\u306e\\\\u4e0b\\\\u3067\\\\u4fee\\\\u696d\\\\u3057\\\\u3001\\\\u4ef2\\\\u9593\\\\u3068\\\\u5171\\\\u306b\\\\u5730\\\\u7403\\\\u306b\\\\u5f37\\\\u8972\\\\u3057\\\\u305f\\\\u30b5\\\\u30a4\\\\u30e4\\\\u4eba\\\\u306e\\\\u6226\\\\u58eb\\\\u30fb\\\\u30ca\\\\u30c3\\\\u30d1\\\\u3068\\\\u738b\\\\u5b50\\\\u30fb\\\\u30d9\\\\u30b8\\\\u30fc\\\\u30bf\\\\u3092\\\\u8fce\\\\u3048\\\\u6483\\\\u3064\\\\u3002\\\\u609f\\\\u7a7a\\\\u306f\\\\u4fee\\\\u884c\\\\u306b\\\\u3088\\\\u308a\\\\u5897\\\\u3057\\\\u305f\\\\u529b\\\\u3067\\\\u30ca\\\\u30c3\\\\u30d1\\\\u3092\\\\u4e00\\\\u8e74\\\\u3057\\\\u3001\\\\u30d9\\\\u30b8\\\\u30fc\\\\u30bf\\\\u3068\\\\u6c7a\\\\u95d8\\\\u3002\\\\u4ef2\\\\u9593\\\\u306e\\\\u5354\\\\u529b\\\\u3082\\\\u3042\\\\u308a\\\\u3001\\\\u4f55\\\\u3068\\\\u304b\\\\u8f9b\\\\u52dd\\\\u3057\\\\u64a4\\\\u9000\\\\u3055\\\\u305b\\\\u308b\\\\u304c\\\\u3001\\\\u591a\\\\u304f\\\\u306e\\\\u4ef2\\\\u9593\\\\u3092\\\\u5931\\\\u3046\\\\u3068\\\\u3068\\\\u3082\\\\u306b\\\\u3001\\\\u30d4\\\\u30c3\\\\u30b3\\\\u30ed\\\\u306e\\\\u6226\\\\u6b7b\\\\u306b\\\\u3088\\\\u308a\\\\u5f7c\\\\u3068\\\\u4e00\\\\u5fc3\\\\u540c\\\\u4f53\\\\u3067\\\\u3042\\\\u3063\\\\u305f\\\\u795e\\\\u3082\\\\u6b7b\\\\u4ea1\\\\u3057\\\\u3001\\\\u5730\\\\u7403\\\\u306e\\\\u30c9\\\\u30e9\\\\u30b4\\\\u30f3\\\\u30dc\\\\u30fc\\\\u30eb\\\\u3082\\\\u6d88\\\\u6ec5\\\\u3059\\\\u308b\\\\u3002\\\\n---------------------\\\\nProvide keywords in the following comma-separated format: \\'KEYWORDS: <keywords>\\'\\\\n\"], \"model\": \"text-davinci-003\", \"temperature\": 0.0, \"max_tokens\": 2048, \"top_p\": 1, \"frequency_penalty\": 0, \"presence_penalty\": 0, \"n\": 1, \"best_of\": 1, \"logit_bias\": {}}' message='Post details'\n",
      "DEBUG:urllib3.connectionpool:https://api.openai.com:443 \"POST /v1/completions HTTP/1.1\" 200 None\n",
      "DEBUG:openai:message='OpenAI API response' path=https://api.openai.com/v1/completions processing_ms=1968 request_id=3794a9b0bb8f591a3ad17b3d978181ce response_code=200\n",
      "DEBUG:root:\n",
      "KEYWORDS: 悟空, ドラゴンボール, 界王, 修業, サイヤ人, ナッパ, ベジータ, 仲間, 協力, 決闘\n",
      "DEBUG:openai:message='Request to OpenAI API' method=post path=https://api.openai.com/v1/completions\n",
      "DEBUG:openai:api_version=None data='{\"prompt\": [\"Some text is provided below. Given the text, extract up to 10 keywords from the text. Avoid stopwords.---------------------\\\\n\\\\u30d5\\\\u30ea\\\\u30fc\\\\u30b6\\\\u7de8\\\\n\\\\u5730\\\\u7403\\\\u306e\\\\u795e\\\\u3068\\\\u6bba\\\\u3055\\\\u308c\\\\u305f\\\\u4ef2\\\\u9593\\\\u305f\\\\u3061\\\\u3092\\\\u7526\\\\u3089\\\\u305b\\\\u308b\\\\u305f\\\\u3081\\\\u3001\\\\u91cd\\\\u50b7\\\\u3067\\\\u5165\\\\u9662\\\\u4e2d\\\\u306e\\\\u609f\\\\u7a7a\\\\u306b\\\\u4ee3\\\\u308f\\\\u308a\\\\u3001\\\\u609f\\\\u98ef\\\\u3001\\\\u30af\\\\u30ea\\\\u30ea\\\\u30f3\\\\u3001\\\\u30d6\\\\u30eb\\\\u30de\\\\u306e3\\\\u4eba\\\\u304c\\\\u795e\\\\u3068\\\\u30d4\\\\u30c3\\\\u30b3\\\\u30ed\\\\u306e\\\\u6545\\\\u90f7\\\\u3067\\\\u3042\\\\u308b\\\\u30ca\\\\u30e1\\\\u30c3\\\\u30af\\\\u661f\\\\u3078\\\\u5411\\\\u304b\\\\u3046\\\\u3002\\\\u3060\\\\u304c\\\\u3001\\\\u305d\\\\u3053\\\\u306b\\\\u306f\\\\u5730\\\\u7403\\\\u3067\\\\u95d8\\\\u3063\\\\u305f\\\\u30d9\\\\u30b8\\\\u30fc\\\\u30bf\\\\u3084\\\\u3001\\\\u754c\\\\u738b\\\\u3059\\\\u3089\\\\u754f\\\\u6016\\\\u3059\\\\u308b\\\\u5b87\\\\u5b99\\\\u306e\\\\u5e1d\\\\u738b\\\\u30fb\\\\u30d5\\\\u30ea\\\\u30fc\\\\u30b6\\\\u3068\\\\u305d\\\\u306e\\\\u4e00\\\\u5473\\\\u304c\\\\u4e0d\\\\u8001\\\\u4e0d\\\\u6b7b\\\\u3092\\\\u6c42\\\\u3081\\\\u3066\\\\u6765\\\\u8972\\\\u3057\\\\u3001\\\\u30ca\\\\u30e1\\\\u30c3\\\\u30af\\\\u661f\\\\u4eba\\\\u3092\\\\u8650\\\\u6bba\\\\u3057\\\\u306a\\\\u304c\\\\u3089\\\\u30c9\\\\u30e9\\\\u30b4\\\\u30f3\\\\u30dc\\\\u30fc\\\\u30eb\\\\u3092\\\\u7565\\\\u596a\\\\u3057\\\\u3066\\\\u3044\\\\u305f\\\\u3002\\\\u609f\\\\u98ef\\\\u305f\\\\u3061\\\\u306f\\\\u30d9\\\\u30b8\\\\u30fc\\\\u30bf\\\\u3001\\\\u30d5\\\\u30ea\\\\u30fc\\\\u30b6\\\\u4e00\\\\u5473\\\\u3068\\\\u306e\\\\u30c9\\\\u30e9\\\\u30b4\\\\u30f3\\\\u30dc\\\\u30fc\\\\u30eb\\\\u3092\\\\u3081\\\\u3050\\\\u308b\\\\u4e09\\\\u3064\\\\u5df4\\\\u306e\\\\u653b\\\\u9632\\\\u306e\\\\u672b\\\\u3001\\\\u5f8c\\\\u304b\\\\u3089\\\\u5230\\\\u7740\\\\u3057\\\\u305f\\\\u609f\\\\u7a7a\\\\u3068\\\\u30ca\\\\u30e1\\\\u30c3\\\\u30af\\\\u661f\\\\u4eba\\\\u305f\\\\u3061\\\\u306e\\\\u5354\\\\u529b\\\\u3092\\\\u5f97\\\\u3066\\\\u30ca\\\\u30e1\\\\u30c3\\\\u30af\\\\u661f\\\\u306e\\\\u795e\\\\u9f8d\\\\u30fb\\\\u30dd\\\\u30eb\\\\u30f3\\\\u30ac\\\\u3092\\\\u547c\\\\u3073\\\\u51fa\\\\u3057\\\\u3001\\\\u30d4\\\\u30c3\\\\u30b3\\\\u30ed\\\\u3068\\\\u5730\\\\u7403\\\\u306e\\\\u30c9\\\\u30e9\\\\u30b4\\\\u30f3\\\\u30dc\\\\u30fc\\\\u30eb\\\\u3092\\\\u5fa9\\\\u6d3b\\\\u3055\\\\u305b\\\\u308b\\\\u3002\\\\n---------------------\\\\nProvide keywords in the following comma-separated format: \\'KEYWORDS: <keywords>\\'\\\\n\"], \"model\": \"text-davinci-003\", \"temperature\": 0.0, \"max_tokens\": 2048, \"top_p\": 1, \"frequency_penalty\": 0, \"presence_penalty\": 0, \"n\": 1, \"best_of\": 1, \"logit_bias\": {}}' message='Post details'\n"
     ]
    },
    {
     "name": "stdout",
     "output_type": "stream",
     "text": [
      "DEBUG:urllib3.connectionpool:https://api.openai.com:443 \"POST /v1/completions HTTP/1.1\" 200 None\n",
      "DEBUG:openai:message='OpenAI API response' path=https://api.openai.com/v1/completions processing_ms=1969 request_id=54c8d67df58906cf5e3bedad3d657832 response_code=200\n",
      "DEBUG:root:\n",
      "KEYWORDS: 悟空, 悟飯, クリリン, ブルマ, ベジータ, フリーザ, ナメック星, ドラゴンボール, ポルンガ, 地球\n",
      "DEBUG:openai:message='Request to OpenAI API' method=post path=https://api.openai.com/v1/completions\n",
      "DEBUG:openai:api_version=None data='{\"prompt\": [\"Some text is provided below. Given the text, extract up to 10 keywords from the text. Avoid stopwords.---------------------\\\\n\\\\u51fa\\\\u3057\\\\u629c\\\\u304b\\\\u308c\\\\u3066\\\\u9858\\\\u3044\\\\u304c\\\\u53f6\\\\u3048\\\\u3089\\\\u308c\\\\u306a\\\\u304b\\\\u3063\\\\u305f\\\\u30d5\\\\u30ea\\\\u30fc\\\\u30b6\\\\u306f\\\\u6fc0\\\\u6012\\\\u3057\\\\u3001\\\\u4e00\\\\u884c\\\\u306f\\\\u5bfe\\\\u6c7a\\\\u3092\\\\u5f37\\\\u3044\\\\u3089\\\\u308c\\\\u308b\\\\u3002\\\\u30d5\\\\u30ea\\\\u30fc\\\\u30b6\\\\u306e\\\\u6301\\\\u3064\\\\u5727\\\\u5012\\\\u7684\\\\u306a\\\\u529b\\\\u306e\\\\u524d\\\\u306b\\\\u306f\\\\u30d9\\\\u30b8\\\\u30fc\\\\u30bf\\\\u3084\\\\u30d4\\\\u30c3\\\\u30b3\\\\u30ed\\\\u3001\\\\u609f\\\\u7a7a\\\\u3059\\\\u3089\\\\u6b6f\\\\u304c\\\\u7acb\\\\u305f\\\\u305a\\\\u4ef2\\\\u9593\\\\u305f\\\\u3061\\\\u304c\\\\u6b21\\\\u3005\\\\u3068\\\\u547d\\\\u3092\\\\u843d\\\\u3068\\\\u3057\\\\u3066\\\\u3044\\\\u3063\\\\u305f\\\\u3002\\\\u6012\\\\u308a\\\\u3092\\\\u7206\\\\u767a\\\\u3055\\\\u305b\\\\u305f\\\\u609f\\\\u7a7a\\\\u306f\\\\u4f1d\\\\u8aac\\\\u306e\\\\u6226\\\\u58eb\\\\u30fb\\\\u8d85\\\\uff08\\\\u30b9\\\\u30fc\\\\u30d1\\\\u30fc\\\\uff09\\\\u30b5\\\\u30a4\\\\u30e4\\\\u4eba\\\\u3078\\\\u3068\\\\u899a\\\\u9192\\\\u3002\\\\u30d5\\\\u30eb\\\\u30d1\\\\u30ef\\\\u30fc\\\\u3092\\\\u89e3\\\\u653e\\\\u3057\\\\u305f\\\\u30d5\\\\u30ea\\\\u30fc\\\\u30b6\\\\u306b\\\\u52dd\\\\u5229\\\\u3059\\\\u308b\\\\u3002\\\\u30dd\\\\u30eb\\\\u30f3\\\\u30ac\\\\u306b\\\\u3088\\\\u3063\\\\u3066\\\\u5730\\\\u7403\\\\u306b\\\\u5e30\\\\u9084\\\\u3057\\\\u305f\\\\u609f\\\\u98ef\\\\u305f\\\\u3061\\\\u306f\\\\u5fa9\\\\u6d3b\\\\u3057\\\\u305f\\\\u30c9\\\\u30e9\\\\u30b4\\\\u30f3\\\\u30dc\\\\u30fc\\\\u30eb\\\\u306b\\\\u3088\\\\u308a\\\\u30b5\\\\u30a4\\\\u30e4\\\\u4eba\\\\u3084\\\\u30d5\\\\u30ea\\\\u30fc\\\\u30b6\\\\u4e00\\\\u5473\\\\u306b\\\\u6bba\\\\u3055\\\\u308c\\\\u305f\\\\u4eba\\\\u3005\\\\u3092\\\\u8607\\\\u751f\\\\u3055\\\\u305b\\\\u305f\\\\u3002\\\\u4e00\\\\u65b9\\\\u306e\\\\u609f\\\\u7a7a\\\\u3082\\\\u7206\\\\u767a\\\\u3059\\\\u308b\\\\u30ca\\\\u30e1\\\\u30c3\\\\u30af\\\\u661f\\\\u3092\\\\u8f9b\\\\u304f\\\\u3082\\\\u8131\\\\u51fa\\\\u3001\\\\u30e4\\\\u30fc\\\\u30c9\\\\u30e9\\\\u30c3\\\\u30c8\\\\u661f\\\\u306b\\\\u6f02\\\\u7740\\\\u3057\\\\u4e00\\\\u547d\\\\u3092\\\\u53d6\\\\u308a\\\\u7559\\\\u3081\\\\u305f\\\\u3002\\\\n---------------------\\\\nProvide keywords in the following comma-separated format: \\'KEYWORDS: <keywords>\\'\\\\n\"], \"model\": \"text-davinci-003\", \"temperature\": 0.0, \"max_tokens\": 2048, \"top_p\": 1, \"frequency_penalty\": 0, \"presence_penalty\": 0, \"n\": 1, \"best_of\": 1, \"logit_bias\": {}}' message='Post details'\n",
      "DEBUG:urllib3.connectionpool:https://api.openai.com:443 \"POST /v1/completions HTTP/1.1\" 200 None\n",
      "DEBUG:openai:message='OpenAI API response' path=https://api.openai.com/v1/completions processing_ms=2063 request_id=14650cfdf23899abbd9492ce30a1bedd response_code=200\n",
      "DEBUG:root:\n",
      "KEYWORDS: フリーザ, ベジータ, ピッコロ, 悟空, 超サイヤ人, ポルンガ, 地球, ドラゴンボール, ナメック星, ヤードラット星\n",
      "DEBUG:openai:message='Request to OpenAI API' method=post path=https://api.openai.com/v1/completions\n",
      "DEBUG:openai:api_version=None data='{\"prompt\": [\"Some text is provided below. Given the text, extract up to 10 keywords from the text. Avoid stopwords.---------------------\\\\n\\\\u4eba\\\\u9020\\\\u4eba\\\\u9593\\\\u30fb\\\\u30bb\\\\u30eb\\\\u7de8\\\\n\\\\u30ca\\\\u30e1\\\\u30c3\\\\u30af\\\\u661f\\\\u3067\\\\u306e\\\\u95d8\\\\u3044\\\\u304b\\\\u3089\\\\u7d041\\\\u5e74\\\\u5f8c\\\\u3001\\\\u5bc6\\\\u304b\\\\u306b\\\\u751f\\\\u304d\\\\u5ef6\\\\u3073\\\\u3066\\\\u3044\\\\u305f\\\\u30d5\\\\u30ea\\\\u30fc\\\\u30b6\\\\u3068\\\\u305d\\\\u306e\\\\u4e00\\\\u5473\\\\u304c\\\\u5730\\\\u7403\\\\u3092\\\\u8972\\\\u6483\\\\u3059\\\\u308b\\\\u304c\\\\u3001\\\\u8b0e\\\\u306e\\\\u8d85\\\\u30b5\\\\u30a4\\\\u30e4\\\\u4eba\\\\u306b\\\\u3088\\\\u3063\\\\u3066\\\\u6483\\\\u9000\\\\u3055\\\\u308c\\\\u308b\\\\u3002\\\\u30c8\\\\u30e9\\\\u30f3\\\\u30af\\\\u30b9\\\\u3068\\\\u540d\\\\u4e57\\\\u308b\\\\u305d\\\\u306e\\\\u9752\\\\u5e74\\\\u306f\\\\u3001\\\\u81ea\\\\u5206\\\\u306f\\\\u672a\\\\u6765\\\\u304b\\\\u3089\\\\u3084\\\\u3063\\\\u3066\\\\u304d\\\\u305f\\\\u30d6\\\\u30eb\\\\u30de\\\\u3068\\\\u30d9\\\\u30b8\\\\u30fc\\\\u30bf\\\\u306e\\\\u606f\\\\u5b50\\\\u3067\\\\u3042\\\\u308b\\\\u3053\\\\u3068\\\\u3092\\\\u609f\\\\u7a7a\\\\u306b\\\\u3060\\\\u3051\\\\u660e\\\\u304b\\\\u3059\\\\u3068\\\\u540c\\\\u6642\\\\u306b\\\\u3001\\\\u609f\\\\u7a7a\\\\u306f\\\\u5fc3\\\\u81d3\\\\u75c5\\\\u306b\\\\u3088\\\\u3063\\\\u3066\\\\u547d\\\\u3092\\\\u843d\\\\u3068\\\\u3059\\\\u3053\\\\u3068\\\\u30013\\\\u5e74\\\\u5f8c\\\\u306b\\\\u73fe\\\\u308c\\\\u308b2\\\\u4f53\\\\u306e\\\\u4eba\\\\u9020\\\\u4eba\\\\u9593\\\\u304c\\\\u7d76\\\\u671b\\\\u306e\\\\u672a\\\\u6765\\\\u3092\\\\u3082\\\\u305f\\\\u3089\\\\u3059\\\\u3053\\\\u3068\\\\u3092\\\\u544a\\\\u3052\\\\u308b\\\\u3002\\\\u305d\\\\u306e\\\\u5f8c\\\\u672c\\\\u5f53\\\\u306b\\\\u5fc3\\\\u81d3\\\\u75c5\\\\u306b\\\\u3088\\\\u3063\\\\u3066\\\\u5371\\\\u7be4\\\\u72b6\\\\u614b\\\\u306b\\\\u306a\\\\u308b\\\\u3082\\\\u3001\\\\u30c8\\\\u30e9\\\\u30f3\\\\u30af\\\\u30b9\\\\u304b\\\\u3089\\\\u6e21\\\\u3055\\\\u308c\\\\u305f\\\\u7279\\\\u52b9\\\\u85ac\\\\u306b\\\\u3088\\\\u3063\\\\u3066\\\\u751f\\\\u9084\\\\u3001\\\\u6765\\\\u308b\\\\u3079\\\\u304d\\\\u65e5\\\\u306b\\\\u5099\\\\u3048\\\\u30663\\\\u5e74\\\\u9593\\\\u5404\\\\u3005\\\\u306b\\\\u4fee\\\\u884c\\\\u3057\\\\u3066\\\\u305d\\\\u306e\\\\u65e5\\\\u3092\\\\u8fce\\\\u3048\\\\u308b\\\\u609f\\\\u7a7a\\\\u305f\\\\u3061\\\\u3067\\\\u3042\\\\u3063\\\\u305f\\\\u304c\\\\u3001\\\\u4e8b\\\\u614b\\\\u306f\\\\u30c8\\\\u30e9\\\\u30f3\\\\u30af\\\\u30b9\\\\u304c\\\\u77e5\\\\u3063\\\\u3066\\\\u3044\\\\u308b\\\\u6b74\\\\u53f2\\\\u3068\\\\u306f\\\\u5927\\\\u304d\\\\u304f\\\\u9055\\\\u3046\\\\u3082\\\\u306e\\\\u3068\\\\u306a\\\\u308a\\\\u3001\\\\u5f7c\\\\u3055\\\\u3048\\\\u77e5\\\\u3089\\\\u306a\\\\u304b\\\\u3063\\\\u305f\\\\u4eba\\\\u9020\\\\u4eba\\\\u9593\\\\u305f\\\\u3061\\\\u307e\\\\u3067\\\\u73fe\\\\u308c\\\\u3001\\\\u3055\\\\u3089\\\\u306b\\\\u7a76\\\\u6975\\\\u306e\\\\u4eba\\\\u9020\\\\u4eba\\\\u9593\\\\u30fb\\\\u30bb\\\\u30eb\\\\u304c\\\\u672a\\\\u6765\\\\u304b\\\\u3089\\\\u51fa\\\\u73fe\\\\u3002\\\\u609f\\\\u7a7a\\\\u3089\\\\u306e\\\\u60f3\\\\u5b9a\\\\u3092\\\\u9065\\\\u304b\\\\u306b\\\\u8d85\\\\u3048\\\\u305f\\\\u6226\\\\u58eb\\\\u304c\\\\u7d9a\\\\u3005\\\\u3068\\\\u73fe\\\\u308c\\\\u305f\\\\u3002\\\\n---------------------\\\\nProvide keywords in the following comma-separated format: \\'KEYWORDS: <keywords>\\'\\\\n\"], \"model\": \"text-davinci-003\", \"temperature\": 0.0, \"max_tokens\": 2048, \"top_p\": 1, \"frequency_penalty\": 0, \"presence_penalty\": 0, \"n\": 1, \"best_of\": 1, \"logit_bias\": {}}' message='Post details'\n",
      "DEBUG:urllib3.connectionpool:https://api.openai.com:443 \"POST /v1/completions HTTP/1.1\" 200 None\n",
      "DEBUG:openai:message='OpenAI API response' path=https://api.openai.com/v1/completions processing_ms=3294 request_id=1b34dc900b4496d854e7be7310067c31 response_code=200\n",
      "DEBUG:root:\n",
      "KEYWORDS: 人造人間, セル, ナメック星, フリーザ, 超サイヤ人, トランクス, ブルマ, ベジータ, 悟空, 心臓病, 特効薬, 修行, 究極, 歴史, 現れ, 戦士\n",
      "DEBUG:openai:message='Request to OpenAI API' method=post path=https://api.openai.com/v1/completions\n",
      "DEBUG:openai:api_version=None data='{\"prompt\": [\"Some text is provided below. Given the text, extract up to 10 keywords from the text. Avoid stopwords.---------------------\\\\n\\\\u4eba\\\\u9020\\\\u4eba\\\\u959317\\\\u53f7\\\\u3068\\\\u4eba\\\\u9020\\\\u4eba\\\\u959318\\\\u53f7\\\\u3092\\\\u5438\\\\u53ce\\\\u3059\\\\u308b\\\\u3053\\\\u3068\\\\u3067\\\\u5b8c\\\\u5168\\\\u4f53\\\\u3068\\\\u306a\\\\u3063\\\\u305f\\\\u30bb\\\\u30eb\\\\u306f\\\\u5730\\\\u7403\\\\u306e\\\\u547d\\\\u904b\\\\u3092\\\\u8ced\\\\u3051\\\\u305f\\\\u6b66\\\\u9053\\\\u4f1a\\\\u300c\\\\u30bb\\\\u30eb\\\\u30b2\\\\u30fc\\\\u30e0\\\\u300d\\\\u306e\\\\u958b\\\\u50ac\\\\u3092\\\\u5168\\\\u4e16\\\\u754c\\\\u306b\\\\u5ba3\\\\u8a00\\\\u3059\\\\u308b\\\\u3002\\\\u609f\\\\u7a7a\\\\u3089\\\\u306f\\\\u5929\\\\u754c\\\\u306b\\\\u3042\\\\u308b1\\\\u65e5\\\\u30671\\\\u5e74\\\\u306e\\\\u4fee\\\\u884c\\\\u304c\\\\u884c\\\\u3048\\\\u308b\\\\u3082\\\\u904e\\\\u9177\\\\u306a\\\\u74b0\\\\u5883\\\\u306b\\\\u6652\\\\u3055\\\\u308c\\\\u308b\\\\u300c\\\\u7cbe\\\\u795e\\\\u3068\\\\u6642\\\\u306e\\\\u90e8\\\\u5c4b\\\\u300d\\\\u3067\\\\u4fee\\\\u884c\\\\u3057\\\\u3001\\\\u5f37\\\\u3055\\\\u3092\\\\u5897\\\\u3057\\\\u3066\\\\u30bb\\\\u30eb\\\\u30b2\\\\u30fc\\\\u30e0\\\\u306b\\\\u81e8\\\\u3080\\\\u304c\\\\u3001\\\\u609f\\\\u7a7a\\\\u306f\\\\u3053\\\\u306e\\\\u30bb\\\\u30eb\\\\u3068\\\\u306e\\\\u95d8\\\\u3044\\\\u306e\\\\u4e2d\\\\u3067\\\\u5730\\\\u7403\\\\u3092\\\\u5b88\\\\u308b\\\\u305f\\\\u3081\\\\u306b\\\\u547d\\\\u3092\\\\u843d\\\\u3068\\\\u3059\\\\u3002\\\\u3060\\\\u304c\\\\u3001\\\\u305d\\\\u306e\\\\u907a\\\\u5fd7\\\\u3092\\\\u53d7\\\\u3051\\\\u7d99\\\\u3044\\\\u3060\\\\u606f\\\\u5b50\\\\u30fb\\\\u609f\\\\u98ef\\\\u304c\\\\u8d85\\\\u30b5\\\\u30a4\\\\u30e4\\\\u4eba2\\\\u3078\\\\u3068\\\\u899a\\\\u9192\\\\u3001\\\\u7236\\\\u30fb\\\\u609f\\\\u7a7a\\\\u306e\\\\u5e7b\\\\u5f71\\\\u3068\\\\u5171\\\\u306b\\\\u304b\\\\u3081\\\\u306f\\\\u3081\\\\u6ce2\\\\u3092\\\\u653e\\\\u3061\\\\u30bb\\\\u30eb\\\\u3092\\\\u6483\\\\u7834\\\\u3002\\\\u30bb\\\\u30eb\\\\u30b2\\\\u30fc\\\\u30e0\\\\u3092\\\\u5236\\\\u3057\\\\u305f\\\\u609f\\\\u98ef\\\\u305f\\\\u3061\\\\u306f\\\\u3001\\\\u30c9\\\\u30e9\\\\u30b4\\\\u30f3\\\\u30dc\\\\u30fc\\\\u30eb\\\\u306b\\\\u3088\\\\u308a\\\\u30bb\\\\u30eb\\\\u306b\\\\u6bba\\\\u3055\\\\u308c\\\\u305f\\\\u4eba\\\\u3005\\\\u3092\\\\u8607\\\\u751f\\\\u3055\\\\u305b\\\\u308b\\\\u304c\\\\u3001\\\\u609f\\\\u7a7a\\\\u306f\\\\u81ea\\\\u5206\\\\u304c\\\\u60aa\\\\u4eba\\\\u3092\\\\u5f15\\\\u304d\\\\u5bc4\\\\u305b\\\\u3066\\\\u3044\\\\u308b\\\\u3068\\\\u3044\\\\u3046\\\\u7406\\\\u7531\\\\u3067\\\\u751f\\\\u304d\\\\u8fd4\\\\u308a\\\\u3092\\\\u62d2\\\\u5426\\\\u3057\\\\u3001\\\\u3042\\\\u306e\\\\u4e16\\\\u306b\\\\u6b8b\\\\u308b\\\\u3053\\\\u3068\\\\u3092\\\\u9078\\\\u3076\\\\u3002\\\\n---------------------\\\\nProvide keywords in the following comma-separated format: \\'KEYWORDS: <keywords>\\'\\\\n\"], \"model\": \"text-davinci-003\", \"temperature\": 0.0, \"max_tokens\": 2048, \"top_p\": 1, \"frequency_penalty\": 0, \"presence_penalty\": 0, \"n\": 1, \"best_of\": 1, \"logit_bias\": {}}' message='Post details'\n"
     ]
    },
    {
     "name": "stdout",
     "output_type": "stream",
     "text": [
      "DEBUG:urllib3.connectionpool:https://api.openai.com:443 \"POST /v1/completions HTTP/1.1\" 200 None\n",
      "DEBUG:openai:message='OpenAI API response' path=https://api.openai.com/v1/completions processing_ms=3007 request_id=e2acf9d7990044163b5507739e463e08 response_code=200\n",
      "DEBUG:root:\n",
      "KEYWORDS: 人造人間17号, 人造人間18号, 完全体, 武道会, セルゲーム, 悟空, 精神時の部屋, 超サイヤ人2, 悟飯, かめはめ波, ドラゴンボール, 悪人, 世界\n",
      "DEBUG:openai:message='Request to OpenAI API' method=post path=https://api.openai.com/v1/completions\n",
      "DEBUG:openai:api_version=None data='{\"prompt\": [\"Some text is provided below. Given the text, extract up to 10 keywords from the text. Avoid stopwords.---------------------\\\\n\\\\u9b54\\\\u4eba\\\\u30d6\\\\u30a6\\\\u7de8\\\\n\\\\u30bb\\\\u30eb\\\\u30b2\\\\u30fc\\\\u30e0\\\\u3088\\\\u308a\\\\u7d047\\\\u5e74\\\\u5f8c\\\\u3001\\\\u9ad8\\\\u6821\\\\u751f\\\\u306b\\\\u6210\\\\u9577\\\\u3057\\\\u305f\\\\u609f\\\\u98ef\\\\u304c\\\\u5929\\\\u4e0b\\\\u4e00\\\\u6b66\\\\u9053\\\\u4f1a\\\\u306b\\\\u51fa\\\\u5834\\\\u3059\\\\u308b\\\\u3053\\\\u3068\\\\u3092\\\\u77e5\\\\u3063\\\\u305f\\\\u609f\\\\u7a7a\\\\u306f\\\\u3001\\\\u81ea\\\\u3089\\\\u3082\\\\u51fa\\\\u5834\\\\u3059\\\\u308b\\\\u305f\\\\u3081\\\\u306b\\\\u5360\\\\u3044\\\\u30d0\\\\u30d0\\\\u306e\\\\u529b\\\\u306b\\\\u3088\\\\u3063\\\\u30661\\\\u65e5\\\\u3060\\\\u3051\\\\u3053\\\\u306e\\\\u4e16\\\\u306b\\\\u623b\\\\u308b\\\\u3002\\\\u5929\\\\u4e0b\\\\u4e00\\\\u6b66\\\\u9053\\\\u4f1a\\\\u306e\\\\u6700\\\\u4e2d\\\\u3001\\\\u609f\\\\u7a7a\\\\u305f\\\\u3061\\\\u306f\\\\u754c\\\\u738b\\\\u3088\\\\u308a\\\\u3082\\\\u3055\\\\u3089\\\\u306b\\\\u9ad8\\\\u4f4d\\\\u306e\\\\u5b58\\\\u5728\\\\u3067\\\\u3042\\\\u308b\\\\u754c\\\\u738b\\\\u795e\\\\u304b\\\\u3089\\\\u3001\\\\u6050\\\\u308d\\\\u3057\\\\u3044\\\\u529b\\\\u3092\\\\u6301\\\\u3064\\\\u9b54\\\\u4eba\\\\u30d6\\\\u30a6\\\\u306e\\\\u5c01\\\\u5370\\\\u304c\\\\u89e3\\\\u304b\\\\u308c\\\\u3088\\\\u3046\\\\u3068\\\\u3057\\\\u3066\\\\u3044\\\\u308b\\\\u3053\\\\u3068\\\\u3092\\\\u77e5\\\\u3089\\\\u3055\\\\u308c\\\\u308b\\\\u3002\\\\u5fa9\\\\u6d3b\\\\u3057\\\\u305f\\\\u9b54\\\\u4eba\\\\u30d6\\\\u30a6\\\\u306b\\\\u3088\\\\u308a\\\\u609f\\\\u98ef\\\\u3084\\\\u30d9\\\\u30b8\\\\u30fc\\\\u30bf\\\\u304c\\\\u5012\\\\u3055\\\\u308c\\\\u3001\\\\u609f\\\\u7a7a\\\\u306f\\\\u3042\\\\u306e\\\\u4e16\\\\u306b\\\\u5e30\\\\u3063\\\\u305f\\\\u305f\\\\u3081\\\\u3001\\\\u5730\\\\u7403\\\\u306e\\\\u547d\\\\u904b\\\\u306f\\\\u609f\\\\u7a7a\\\\u306e\\\\u6b21\\\\u7537\\\\u30fb\\\\u5b6b\\\\u609f\\\\u5929\\\\u3068\\\\u5c11\\\\u5e74\\\\u30c8\\\\u30e9\\\\u30f3\\\\u30af\\\\u30b9\\\\u306e\\\\u5e7c\\\\u3044\\\\u4e8c\\\\u4eba\\\\u306b\\\\u8a17\\\\u3055\\\\u308c\\\\u308b\\\\u3002\\\\n---------------------\\\\nProvide keywords in the following comma-separated format: \\'KEYWORDS: <keywords>\\'\\\\n\"], \"model\": \"text-davinci-003\", \"temperature\": 0.0, \"max_tokens\": 2048, \"top_p\": 1, \"frequency_penalty\": 0, \"presence_penalty\": 0, \"n\": 1, \"best_of\": 1, \"logit_bias\": {}}' message='Post details'\n",
      "DEBUG:urllib3.connectionpool:https://api.openai.com:443 \"POST /v1/completions HTTP/1.1\" 200 None\n",
      "DEBUG:openai:message='OpenAI API response' path=https://api.openai.com/v1/completions processing_ms=2120 request_id=92d9acf56c9d7e781ffc9cea86731378 response_code=200\n",
      "DEBUG:root:\n",
      "KEYWORDS: 悟飯, 悟空, 天下一武道会, 占いババ, 界王神, 魔人ブウ, 封印, 悟天, トランクス, 地球\n",
      "DEBUG:openai:message='Request to OpenAI API' method=post path=https://api.openai.com/v1/completions\n",
      "DEBUG:openai:api_version=None data='{\"prompt\": [\"Some text is provided below. Given the text, extract up to 10 keywords from the text. Avoid stopwords.---------------------\\\\n\\\\u4e00\\\\u65b9\\\\u3001\\\\u9b54\\\\u4eba\\\\u30d6\\\\u30a6\\\\u306f\\\\u69d8\\\\u3005\\\\u306a\\\\u4eba\\\\u9593\\\\u3068\\\\u306e\\\\u51fa\\\\u4f1a\\\\u3044\\\\u304b\\\\u3089\\\\u3088\\\\u308a\\\\u90aa\\\\u60aa\\\\u3067\\\\u5f37\\\\u529b\\\\u306a\\\\u9b54\\\\u4eba\\\\u3078\\\\u3068\\\\u5909\\\\u8c8c\\\\u3002\\\\u609f\\\\u5929\\\\u3068\\\\u30c8\\\\u30e9\\\\u30f3\\\\u30af\\\\u30b9\\\\u304c\\\\u300c\\\\u30d5\\\\u30e5\\\\u30fc\\\\u30b8\\\\u30e7\\\\u30f3\\\\uff08\\\\u878d\\\\u5408\\\\uff09\\\\u300d\\\\u3057\\\\u3066\\\\u8a95\\\\u751f\\\\u3057\\\\u305f\\\\u6226\\\\u58eb\\\\u30fb\\\\u30b4\\\\u30c6\\\\u30f3\\\\u30af\\\\u30b9\\\\u3084\\\\u3001\\\\u6f5c\\\\u5728\\\\u80fd\\\\u529b\\\\u3092\\\\u89e3\\\\u653e\\\\u3057\\\\u3001\\\\u30d1\\\\u30ef\\\\u30fc\\\\u30a2\\\\u30c3\\\\u30d7\\\\u3092\\\\u9042\\\\u3052\\\\u3066\\\\u5e30\\\\u3063\\\\u3066\\\\u304d\\\\u305f\\\\u609f\\\\u98ef\\\\u3089\\\\u304c\\\\u5fdc\\\\u6226\\\\u3059\\\\u308b\\\\u304c\\\\u3001\\\\u6226\\\\u58eb\\\\u305f\\\\u3061\\\\u3092\\\\u6b21\\\\u3005\\\\u3068\\\\u5438\\\\u53ce\\\\u3057\\\\u59ff\\\\u3092\\\\u5909\\\\u3048\\\\u3066\\\\u3044\\\\u304f\\\\u9b54\\\\u4eba\\\\u30d6\\\\u30a6\\\\u306b\\\\u82e6\\\\u6226\\\\u3092\\\\u5f37\\\\u3044\\\\u3089\\\\u308c\\\\u308b\\\\u3002\\\\u5371\\\\u6a5f\\\\u306b\\\\u9665\\\\u3063\\\\u305f\\\\u609f\\\\u98ef\\\\u3089\\\\u3092\\\\u6551\\\\u3046\\\\u305f\\\\u3081\\\\u73fe\\\\u4e16\\\\u306b\\\\u821e\\\\u3044\\\\u623b\\\\u3063\\\\u305f\\\\u609f\\\\u7a7a\\\\u3068\\\\u30d9\\\\u30b8\\\\u30fc\\\\u30bf\\\\u306f\\\\u3001\\\\u754c\\\\u738b\\\\u795e\\\\u754c\\\\u3067\\\\u771f\\\\u306e\\\\u59ff\\\\u3068\\\\u306a\\\\u3063\\\\u305f\\\\u9b54\\\\u4eba\\\\u30d6\\\\u30a6\\\\u3068\\\\u306e\\\\u6700\\\\u7d42\\\\u6c7a\\\\u6226\\\\u306b\\\\u81e8\\\\u3080\\\\u3002\\\\u30c9\\\\u30e9\\\\u30b4\\\\u30f3\\\\u30dc\\\\u30fc\\\\u30eb\\\\u306e\\\\u5354\\\\u529b\\\\u3082\\\\u3042\\\\u308a\\\\u3001\\\\u5730\\\\u7403\\\\u30fb\\\\u30ca\\\\u30e1\\\\u30c3\\\\u30af\\\\u661f\\\\u30fb\\\\u3042\\\\u306e\\\\u4e16\\\\u306e\\\\u4eba\\\\u3005\\\\u306e\\\\u30a8\\\\u30cd\\\\u30eb\\\\u30ae\\\\u30fc\\\\u306b\\\\u3088\\\\u3063\\\\u3066\\\\u4f5c\\\\u308a\\\\u4e0a\\\\u3052\\\\u3089\\\\u308c\\\\u305f\\\\u8d85\\\\u7279\\\\u5927\\\\u306e\\\\u5143\\\\u6c17\\\\u7389\\\\u306b\\\\u3088\\\\u3063\\\\u3066\\\\u9b54\\\\u4eba\\\\u30d6\\\\u30a6\\\\u306f\\\\u5b8c\\\\u5168\\\\u306b\\\\u6d88\\\\u6ec5\\\\u3059\\\\u308b\\\\u3002\\\\n\\\\n\\\\u305d\\\\u308c\\\\u304b\\\\u308910\\\\u5e74\\\\u5f8c\\\\u3001\\\\u609f\\\\u7a7a\\\\u306f\\\\u5b6b\\\\u306e\\\\u30d1\\\\u30f3\\\\u3068\\\\u5171\\\\u306b\\\\u5929\\\\u4e0b\\\\u4e00\\\\u6b66\\\\u9053\\\\u4f1a\\\\u306b\\\\u4e45\\\\u3057\\\\u3076\\\\u308a\\\\u306b\\\\u51fa\\\\u5834\\\\u3057\\\\u3001\\\\u9b54\\\\u4eba\\\\u30d6\\\\u30a6\\\\u306e\\\\u751f\\\\u307e\\\\u308c\\\\u5909\\\\u308f\\\\u308a\\\\u3067\\\\u3042\\\\u308b\\\\u5c11\\\\u5e74\\\\u30fb\\\\u30a6\\\\u30fc\\\\u30d6\\\\u3068\\\\u51fa\\\\u4f1a\\\\u3046\\\\u3002\\\\u609f\\\\u7a7a\\\\u306f\\\\u30a6\\\\u30fc\\\\u30d6\\\\u3068\\\\u5171\\\\u306b\\\\u898b\\\\u679c\\\\u3066\\\\u306c\\\\u5f37\\\\u3055\\\\u3092\\\\u8ffd\\\\u3044\\\\u6c42\\\\u3081\\\\u3066\\\\u4fee\\\\u884c\\\\u306b\\\\u65c5\\\\u7acb\\\\u3061\\\\u3001\\\\u7269\\\\u8a9e\\\\u306f\\\\u5e55\\\\u3092\\\\u9589\\\\u3058\\\\u308b\\\\u3002\\\\n\\\\n\\\\n---------------------\\\\nProvide keywords in the following comma-separated format: \\'KEYWORDS: <keywords>\\'\\\\n\"], \"model\": \"text-davinci-003\", \"temperature\": 0.0, \"max_tokens\": 2048, \"top_p\": 1, \"frequency_penalty\": 0, \"presence_penalty\": 0, \"n\": 1, \"best_of\": 1, \"logit_bias\": {}}' message='Post details'\n",
      "DEBUG:urllib3.connectionpool:https://api.openai.com:443 \"POST /v1/completions HTTP/1.1\" 200 None\n",
      "DEBUG:openai:message='OpenAI API response' path=https://api.openai.com/v1/completions processing_ms=1980 request_id=a76b4a8b7d45de99d6458d95bf08cbf6 response_code=200\n",
      "DEBUG:root:\n",
      "KEYWORDS: 悟空, ベジータ, 悟天, トランクス, ゴテンクス, 悟飯, ブウ, 界王神界, 元気玉, ウーブ\n",
      "INFO:root:> [build_index_from_documents] Total LLM token usage: 5903 tokens\n",
      "INFO:root:> [build_index_from_documents] Total embedding token usage: 0 tokens\n"
     ]
    }
   ],
   "source": [
    "from llama_index import (\n",
    "    GPTKeywordTableIndex, \n",
    "    SimpleDirectoryReader, \n",
    "    LLMPredictor,\n",
    "    PromptHelper\n",
    ")\n",
    "\n",
    "from gpt_index.indices.knowledge_graph.base import GPTKnowledgeGraphIndex\n",
    "from langchain import OpenAI\n",
    "\n",
    "documents = SimpleDirectoryReader('story/dragonball').load_data()\n",
    "\n",
    "# define prompt helper\n",
    "# set maximum input size\n",
    "max_input_size = 4096\n",
    "# set number of output tokens\n",
    "num_output = 2048\n",
    "# set maximum chunk overlap\n",
    "max_chunk_overlap = 0\n",
    "prompt_helper = PromptHelper(max_input_size, num_output, max_chunk_overlap, separator=\"\\n\\n\", chunk_size_limit=512)\n",
    "\n",
    "# define LLM\n",
    "llm_predictor = LLMPredictor(llm=OpenAI(temperature=0, model_name=\"text-davinci-003\", max_tokens=num_output))\n",
    "\n",
    "# build index\n",
    "index = GPTKeywordTableIndex(documents, llm_predictor=llm_predictor, prompt_helper=prompt_helper)"
   ]
  },
  {
   "cell_type": "code",
   "execution_count": 6,
   "id": "70623513",
   "metadata": {},
   "outputs": [
    {
     "name": "stdout",
     "output_type": "stream",
     "text": [
      "INFO:root:> Starting query: フリーザに関して日本語で教えてください\n",
      "DEBUG:openai:message='Request to OpenAI API' method=post path=https://api.openai.com/v1/completions\n",
      "DEBUG:openai:api_version=None data='{\"prompt\": [\"A question is provided below. Given the question, extract up to 10 keywords from the text. Focus on extracting the keywords that we can use to best lookup answers to the question. Avoid stopwords.\\\\n---------------------\\\\n\\\\u30d5\\\\u30ea\\\\u30fc\\\\u30b6\\\\u306b\\\\u95a2\\\\u3057\\\\u3066\\\\u65e5\\\\u672c\\\\u8a9e\\\\u3067\\\\u6559\\\\u3048\\\\u3066\\\\u304f\\\\u3060\\\\u3055\\\\u3044\\\\n---------------------\\\\nProvide keywords in the following comma-separated format: \\'KEYWORDS: <keywords>\\'\\\\n\"], \"model\": \"text-davinci-003\", \"temperature\": 0.0, \"max_tokens\": 2048, \"top_p\": 1, \"frequency_penalty\": 0, \"presence_penalty\": 0, \"n\": 1, \"best_of\": 1, \"logit_bias\": {}}' message='Post details'\n",
      "DEBUG:urllib3.connectionpool:https://api.openai.com:443 \"POST /v1/completions HTTP/1.1\" 200 None\n",
      "DEBUG:openai:message='OpenAI API response' path=https://api.openai.com/v1/completions processing_ms=752 request_id=a2a06c276be2c4646d71b7d9a87c9ea3 response_code=200\n",
      "DEBUG:root:\n",
      "KEYWORDS: フリーザ, 日本語, 教える\n",
      "INFO:root:query keywords: ['フリーザ', '日本語', '教える']\n",
      "INFO:root:> Extracted keywords: ['フリーザ']\n",
      "DEBUG:root:> Querying with idx: 7042946511744849045: フリーザ編\n",
      "地球の神と殺された仲間たちを甦らせるため、重傷で入院中の悟空に代わり、悟飯、クリリ...\n",
      "DEBUG:root:> Querying with idx: 2980317805224949769: 出し抜かれて願いが叶えられなかったフリーザは激怒し、一行は対決を強いられる。フリーザの持つ圧倒...\n",
      "DEBUG:root:> Querying with idx: 8322773202678641624: 人造人間・セル編\n",
      "ナメック星での闘いから約1年後、密かに生き延びていたフリーザとその一味が地球...\n",
      "DEBUG:root:> Searching in chunk: フリーザ編\n",
      "地球の神と殺された仲間たちを甦らせるため、重傷で入院中の悟空に代わり、悟飯、クリリ...\n",
      "DEBUG:root:> Searching in chunk: 出し抜かれて願いが叶えられなかったフリーザは激怒し、一行は対決を強いられる。フリーザの持つ圧倒...\n",
      "DEBUG:root:> Searching in chunk: 人造人間・セル編\n",
      "ナメック星での闘いから約1年後、密かに生き延びていたフリーザとその一味が地球...\n",
      "DEBUG:openai:message='Request to OpenAI API' method=post path=https://api.openai.com/v1/completions\n",
      "DEBUG:openai:api_version=None data='{\"prompt\": [\"Context information is below. \\\\n---------------------\\\\n\\\\u30d5\\\\u30ea\\\\u30fc\\\\u30b6\\\\u7de8\\\\n\\\\u5730\\\\u7403\\\\u306e\\\\u795e\\\\u3068\\\\u6bba\\\\u3055\\\\u308c\\\\u305f\\\\u4ef2\\\\u9593\\\\u305f\\\\u3061\\\\u3092\\\\u7526\\\\u3089\\\\u305b\\\\u308b\\\\u305f\\\\u3081\\\\u3001\\\\u91cd\\\\u50b7\\\\u3067\\\\u5165\\\\u9662\\\\u4e2d\\\\u306e\\\\u609f\\\\u7a7a\\\\u306b\\\\u4ee3\\\\u308f\\\\u308a\\\\u3001\\\\u609f\\\\u98ef\\\\u3001\\\\u30af\\\\u30ea\\\\u30ea\\\\u30f3\\\\u3001\\\\u30d6\\\\u30eb\\\\u30de\\\\u306e3\\\\u4eba\\\\u304c\\\\u795e\\\\u3068\\\\u30d4\\\\u30c3\\\\u30b3\\\\u30ed\\\\u306e\\\\u6545\\\\u90f7\\\\u3067\\\\u3042\\\\u308b\\\\u30ca\\\\u30e1\\\\u30c3\\\\u30af\\\\u661f\\\\u3078\\\\u5411\\\\u304b\\\\u3046\\\\u3002\\\\u3060\\\\u304c\\\\u3001\\\\u305d\\\\u3053\\\\u306b\\\\u306f\\\\u5730\\\\u7403\\\\u3067\\\\u95d8\\\\u3063\\\\u305f\\\\u30d9\\\\u30b8\\\\u30fc\\\\u30bf\\\\u3084\\\\u3001\\\\u754c\\\\u738b\\\\u3059\\\\u3089\\\\u754f\\\\u6016\\\\u3059\\\\u308b\\\\u5b87\\\\u5b99\\\\u306e\\\\u5e1d\\\\u738b\\\\u30fb\\\\u30d5\\\\u30ea\\\\u30fc\\\\u30b6\\\\u3068\\\\u305d\\\\u306e\\\\u4e00\\\\u5473\\\\u304c\\\\u4e0d\\\\u8001\\\\u4e0d\\\\u6b7b\\\\u3092\\\\u6c42\\\\u3081\\\\u3066\\\\u6765\\\\u8972\\\\u3057\\\\u3001\\\\u30ca\\\\u30e1\\\\u30c3\\\\u30af\\\\u661f\\\\u4eba\\\\u3092\\\\u8650\\\\u6bba\\\\u3057\\\\u306a\\\\u304c\\\\u3089\\\\u30c9\\\\u30e9\\\\u30b4\\\\u30f3\\\\u30dc\\\\u30fc\\\\u30eb\\\\u3092\\\\u7565\\\\u596a\\\\u3057\\\\u3066\\\\u3044\\\\u305f\\\\u3002\\\\u609f\\\\u98ef\\\\u305f\\\\u3061\\\\u306f\\\\u30d9\\\\u30b8\\\\u30fc\\\\u30bf\\\\u3001\\\\u30d5\\\\u30ea\\\\u30fc\\\\u30b6\\\\u4e00\\\\u5473\\\\u3068\\\\u306e\\\\u30c9\\\\u30e9\\\\u30b4\\\\u30f3\\\\u30dc\\\\u30fc\\\\u30eb\\\\u3092\\\\u3081\\\\u3050\\\\u308b\\\\u4e09\\\\u3064\\\\u5df4\\\\u306e\\\\u653b\\\\u9632\\\\u306e\\\\u672b\\\\u3001\\\\u5f8c\\\\u304b\\\\u3089\\\\u5230\\\\u7740\\\\u3057\\\\u305f\\\\u609f\\\\u7a7a\\\\u3068\\\\u30ca\\\\u30e1\\\\u30c3\\\\u30af\\\\u661f\\\\u4eba\\\\u305f\\\\u3061\\\\u306e\\\\u5354\\\\u529b\\\\u3092\\\\u5f97\\\\u3066\\\\u30ca\\\\u30e1\\\\u30c3\\\\u30af\\\\u661f\\\\u306e\\\\u795e\\\\u9f8d\\\\u30fb\\\\u30dd\\\\u30eb\\\\u30f3\\\\u30ac\\\\u3092\\\\u547c\\\\u3073\\\\u51fa\\\\u3057\\\\u3001\\\\u30d4\\\\u30c3\\\\u30b3\\\\u30ed\\\\u3068\\\\u5730\\\\u7403\\\\u306e\\\\u30c9\\\\u30e9\\\\u30b4\\\\u30f3\\\\u30dc\\\\u30fc\\\\u30eb\\\\u3092\\\\u5fa9\\\\u6d3b\\\\u3055\\\\u305b\\\\u308b\\\\u3002\\\\n---------------------\\\\nGiven the context information and not prior knowledge, answer the question: \\\\u30d5\\\\u30ea\\\\u30fc\\\\u30b6\\\\u306b\\\\u95a2\\\\u3057\\\\u3066\\\\u65e5\\\\u672c\\\\u8a9e\\\\u3067\\\\u6559\\\\u3048\\\\u3066\\\\u304f\\\\u3060\\\\u3055\\\\u3044\\\\n\"], \"model\": \"text-davinci-003\", \"temperature\": 0.0, \"max_tokens\": 2048, \"top_p\": 1, \"frequency_penalty\": 0, \"presence_penalty\": 0, \"n\": 1, \"best_of\": 1, \"logit_bias\": {}}' message='Post details'\n",
      "DEBUG:urllib3.connectionpool:https://api.openai.com:443 \"POST /v1/completions HTTP/1.1\" 200 None\n",
      "DEBUG:openai:message='OpenAI API response' path=https://api.openai.com/v1/completions processing_ms=5117 request_id=bb17744eebc8d9992e7efb89ae41ff43 response_code=200\n",
      "DEBUG:root:\n",
      "フリーザは宇宙の帝王であり、界王すら畏怖するほどの強大な力を持つ存在です。ナメック星への来襲で、ドラゴンボールを略奪しながらナメック星人を虐殺しようとしました。悟飯たちとベジータとのドラゴンボールをめぐる三つ巴の攻防の末、悟空とナメック星人の協力を得てポルンガを呼び出し、ピッコロと地球のドラゴンボールを復活させることに成功しました。\n",
      "DEBUG:root:> Initial response: \n",
      "フリーザは宇宙の帝王であり、界王すら畏怖するほどの強大な力を持つ存在です。ナメック星への来襲で、ドラゴンボールを略奪しながらナメック星人を虐殺しようとしました。悟飯たちとベジータとのドラゴンボールをめぐる三つ巴の攻防の末、悟空とナメック星人の協力を得てポルンガを呼び出し、ピッコロと地球のドラゴンボールを復活させることに成功しました。\n",
      "DEBUG:root:> Refine context: 出し抜かれて願いが叶えられなかったフリーザは激怒し、一行は対決を強いられる。フリーザの持つ圧倒...\n",
      "DEBUG:openai:message='Request to OpenAI API' method=post path=https://api.openai.com/v1/completions\n",
      "DEBUG:openai:api_version=None data='{\"prompt\": [\"The original question is as follows: \\\\u30d5\\\\u30ea\\\\u30fc\\\\u30b6\\\\u306b\\\\u95a2\\\\u3057\\\\u3066\\\\u65e5\\\\u672c\\\\u8a9e\\\\u3067\\\\u6559\\\\u3048\\\\u3066\\\\u304f\\\\u3060\\\\u3055\\\\u3044\\\\nWe have provided an existing answer: \\\\n\\\\u30d5\\\\u30ea\\\\u30fc\\\\u30b6\\\\u306f\\\\u5b87\\\\u5b99\\\\u306e\\\\u5e1d\\\\u738b\\\\u3067\\\\u3042\\\\u308a\\\\u3001\\\\u754c\\\\u738b\\\\u3059\\\\u3089\\\\u754f\\\\u6016\\\\u3059\\\\u308b\\\\u307b\\\\u3069\\\\u306e\\\\u5f37\\\\u5927\\\\u306a\\\\u529b\\\\u3092\\\\u6301\\\\u3064\\\\u5b58\\\\u5728\\\\u3067\\\\u3059\\\\u3002\\\\u30ca\\\\u30e1\\\\u30c3\\\\u30af\\\\u661f\\\\u3078\\\\u306e\\\\u6765\\\\u8972\\\\u3067\\\\u3001\\\\u30c9\\\\u30e9\\\\u30b4\\\\u30f3\\\\u30dc\\\\u30fc\\\\u30eb\\\\u3092\\\\u7565\\\\u596a\\\\u3057\\\\u306a\\\\u304c\\\\u3089\\\\u30ca\\\\u30e1\\\\u30c3\\\\u30af\\\\u661f\\\\u4eba\\\\u3092\\\\u8650\\\\u6bba\\\\u3057\\\\u3088\\\\u3046\\\\u3068\\\\u3057\\\\u307e\\\\u3057\\\\u305f\\\\u3002\\\\u609f\\\\u98ef\\\\u305f\\\\u3061\\\\u3068\\\\u30d9\\\\u30b8\\\\u30fc\\\\u30bf\\\\u3068\\\\u306e\\\\u30c9\\\\u30e9\\\\u30b4\\\\u30f3\\\\u30dc\\\\u30fc\\\\u30eb\\\\u3092\\\\u3081\\\\u3050\\\\u308b\\\\u4e09\\\\u3064\\\\u5df4\\\\u306e\\\\u653b\\\\u9632\\\\u306e\\\\u672b\\\\u3001\\\\u609f\\\\u7a7a\\\\u3068\\\\u30ca\\\\u30e1\\\\u30c3\\\\u30af\\\\u661f\\\\u4eba\\\\u306e\\\\u5354\\\\u529b\\\\u3092\\\\u5f97\\\\u3066\\\\u30dd\\\\u30eb\\\\u30f3\\\\u30ac\\\\u3092\\\\u547c\\\\u3073\\\\u51fa\\\\u3057\\\\u3001\\\\u30d4\\\\u30c3\\\\u30b3\\\\u30ed\\\\u3068\\\\u5730\\\\u7403\\\\u306e\\\\u30c9\\\\u30e9\\\\u30b4\\\\u30f3\\\\u30dc\\\\u30fc\\\\u30eb\\\\u3092\\\\u5fa9\\\\u6d3b\\\\u3055\\\\u305b\\\\u308b\\\\u3053\\\\u3068\\\\u306b\\\\u6210\\\\u529f\\\\u3057\\\\u307e\\\\u3057\\\\u305f\\\\u3002\\\\nWe have the opportunity to refine the existing answer (only if needed) with some more context below.\\\\n------------\\\\n\\\\u51fa\\\\u3057\\\\u629c\\\\u304b\\\\u308c\\\\u3066\\\\u9858\\\\u3044\\\\u304c\\\\u53f6\\\\u3048\\\\u3089\\\\u308c\\\\u306a\\\\u304b\\\\u3063\\\\u305f\\\\u30d5\\\\u30ea\\\\u30fc\\\\u30b6\\\\u306f\\\\u6fc0\\\\u6012\\\\u3057\\\\u3001\\\\u4e00\\\\u884c\\\\u306f\\\\u5bfe\\\\u6c7a\\\\u3092\\\\u5f37\\\\u3044\\\\u3089\\\\u308c\\\\u308b\\\\u3002\\\\u30d5\\\\u30ea\\\\u30fc\\\\u30b6\\\\u306e\\\\u6301\\\\u3064\\\\u5727\\\\u5012\\\\u7684\\\\u306a\\\\u529b\\\\u306e\\\\u524d\\\\u306b\\\\u306f\\\\u30d9\\\\u30b8\\\\u30fc\\\\u30bf\\\\u3084\\\\u30d4\\\\u30c3\\\\u30b3\\\\u30ed\\\\u3001\\\\u609f\\\\u7a7a\\\\u3059\\\\u3089\\\\u6b6f\\\\u304c\\\\u7acb\\\\u305f\\\\u305a\\\\u4ef2\\\\u9593\\\\u305f\\\\u3061\\\\u304c\\\\u6b21\\\\u3005\\\\u3068\\\\u547d\\\\u3092\\\\u843d\\\\u3068\\\\u3057\\\\u3066\\\\u3044\\\\u3063\\\\u305f\\\\u3002\\\\u6012\\\\u308a\\\\u3092\\\\u7206\\\\u767a\\\\u3055\\\\u305b\\\\u305f\\\\u609f\\\\u7a7a\\\\u306f\\\\u4f1d\\\\u8aac\\\\u306e\\\\u6226\\\\u58eb\\\\u30fb\\\\u8d85\\\\uff08\\\\u30b9\\\\u30fc\\\\u30d1\\\\u30fc\\\\uff09\\\\u30b5\\\\u30a4\\\\u30e4\\\\u4eba\\\\u3078\\\\u3068\\\\u899a\\\\u9192\\\\u3002\\\\u30d5\\\\u30eb\\\\u30d1\\\\u30ef\\\\u30fc\\\\u3092\\\\u89e3\\\\u653e\\\\u3057\\\\u305f\\\\u30d5\\\\u30ea\\\\u30fc\\\\u30b6\\\\u306b\\\\u52dd\\\\u5229\\\\u3059\\\\u308b\\\\u3002\\\\u30dd\\\\u30eb\\\\u30f3\\\\u30ac\\\\u306b\\\\u3088\\\\u3063\\\\u3066\\\\u5730\\\\u7403\\\\u306b\\\\u5e30\\\\u9084\\\\u3057\\\\u305f\\\\u609f\\\\u98ef\\\\u305f\\\\u3061\\\\u306f\\\\u5fa9\\\\u6d3b\\\\u3057\\\\u305f\\\\u30c9\\\\u30e9\\\\u30b4\\\\u30f3\\\\u30dc\\\\u30fc\\\\u30eb\\\\u306b\\\\u3088\\\\u308a\\\\u30b5\\\\u30a4\\\\u30e4\\\\u4eba\\\\u3084\\\\u30d5\\\\u30ea\\\\u30fc\\\\u30b6\\\\u4e00\\\\u5473\\\\u306b\\\\u6bba\\\\u3055\\\\u308c\\\\u305f\\\\u4eba\\\\u3005\\\\u3092\\\\u8607\\\\u751f\\\\u3055\\\\u305b\\\\u305f\\\\u3002\\\\u4e00\\\\u65b9\\\\u306e\\\\u609f\\\\u7a7a\\\\u3082\\\\u7206\\\\u767a\\\\u3059\\\\u308b\\\\u30ca\\\\u30e1\\\\u30c3\\\\u30af\\\\u661f\\\\u3092\\\\u8f9b\\\\u304f\\\\u3082\\\\u8131\\\\u51fa\\\\u3001\\\\u30e4\\\\u30fc\\\\u30c9\\\\u30e9\\\\u30c3\\\\u30c8\\\\u661f\\\\u306b\\\\u6f02\\\\u7740\\\\u3057\\\\u4e00\\\\u547d\\\\u3092\\\\u53d6\\\\u308a\\\\u7559\\\\u3081\\\\u305f\\\\u3002\\\\n------------\\\\nGiven the new context, refine the original answer to better answer the question. If the context isn\\'t useful, return the original answer.\"], \"model\": \"text-davinci-003\", \"temperature\": 0.0, \"max_tokens\": 2048, \"top_p\": 1, \"frequency_penalty\": 0, \"presence_penalty\": 0, \"n\": 1, \"best_of\": 1, \"logit_bias\": {}}' message='Post details'\n"
     ]
    },
    {
     "name": "stdout",
     "output_type": "stream",
     "text": [
      "DEBUG:urllib3.connectionpool:https://api.openai.com:443 \"POST /v1/completions HTTP/1.1\" 200 None\n",
      "DEBUG:openai:message='OpenAI API response' path=https://api.openai.com/v1/completions processing_ms=13844 request_id=832162aacbb18e356c2f67f7a41bb5b0 response_code=200\n",
      "DEBUG:root:\n",
      "\n",
      "フリーザは宇宙の帝王であり、界王すら畏怖するほどの強大な力を持つ存在です。ナメック星への来襲で、ドラゴンボールを略奪しながらナメック星人を虐殺しようとしました。悟飯たちとベジータとのドラゴンボールをめぐる三つ巴の攻防の末、悟空とナメック星人の協力を得てポルンガを呼び出し、ピッコロと地球のドラゴンボールを復活させることに成功しました。フリーザの持つ圧倒的な力の前にはベジータやピッコロ、悟空すら歯が立たず仲間たちが次々と命を落としていった。怒りを爆発させた悟空は伝説の戦士・超（スーパー）サイヤ人へと覚醒。フルパワーを解放したフリーザに勝利することに成功し、ポルンガによって地球に帰還した悟飯たちは復活したドラゴンボールによりサイヤ人やフリーザ一味に殺された人々を蘇生させることができました。一方の悟空も爆発するナメック星を辛くも脱出、ヤードラット星に漂着し一命を取り留めた。\n",
      "DEBUG:root:> Refined response: \n",
      "\n",
      "フリーザは宇宙の帝王であり、界王すら畏怖するほどの強大な力を持つ存在です。ナメック星への来襲で、ドラゴンボールを略奪しながらナメック星人を虐殺しようとしました。悟飯たちとベジータとのドラゴンボールをめぐる三つ巴の攻防の末、悟空とナメック星人の協力を得てポルンガを呼び出し、ピッコロと地球のドラゴンボールを復活させることに成功しました。フリーザの持つ圧倒的な力の前にはベジータやピッコロ、悟空すら歯が立たず仲間たちが次々と命を落としていった。怒りを爆発させた悟空は伝説の戦士・超（スーパー）サイヤ人へと覚醒。フルパワーを解放したフリーザに勝利することに成功し、ポルンガによって地球に帰還した悟飯たちは復活したドラゴンボールによりサイヤ人やフリーザ一味に殺された人々を蘇生させることができました。一方の悟空も爆発するナメック星を辛くも脱出、ヤードラット星に漂着し一命を取り留めた。\n",
      "DEBUG:root:> Refine context: 人造人間・セル編\n",
      "ナメック星での闘いから約1年後、密かに生き延びていたフリーザとその一味が地球...\n",
      "DEBUG:openai:message='Request to OpenAI API' method=post path=https://api.openai.com/v1/completions\n",
      "DEBUG:openai:api_version=None data='{\"prompt\": [\"The original question is as follows: \\\\u30d5\\\\u30ea\\\\u30fc\\\\u30b6\\\\u306b\\\\u95a2\\\\u3057\\\\u3066\\\\u65e5\\\\u672c\\\\u8a9e\\\\u3067\\\\u6559\\\\u3048\\\\u3066\\\\u304f\\\\u3060\\\\u3055\\\\u3044\\\\nWe have provided an existing answer: \\\\n\\\\n\\\\u30d5\\\\u30ea\\\\u30fc\\\\u30b6\\\\u306f\\\\u5b87\\\\u5b99\\\\u306e\\\\u5e1d\\\\u738b\\\\u3067\\\\u3042\\\\u308a\\\\u3001\\\\u754c\\\\u738b\\\\u3059\\\\u3089\\\\u754f\\\\u6016\\\\u3059\\\\u308b\\\\u307b\\\\u3069\\\\u306e\\\\u5f37\\\\u5927\\\\u306a\\\\u529b\\\\u3092\\\\u6301\\\\u3064\\\\u5b58\\\\u5728\\\\u3067\\\\u3059\\\\u3002\\\\u30ca\\\\u30e1\\\\u30c3\\\\u30af\\\\u661f\\\\u3078\\\\u306e\\\\u6765\\\\u8972\\\\u3067\\\\u3001\\\\u30c9\\\\u30e9\\\\u30b4\\\\u30f3\\\\u30dc\\\\u30fc\\\\u30eb\\\\u3092\\\\u7565\\\\u596a\\\\u3057\\\\u306a\\\\u304c\\\\u3089\\\\u30ca\\\\u30e1\\\\u30c3\\\\u30af\\\\u661f\\\\u4eba\\\\u3092\\\\u8650\\\\u6bba\\\\u3057\\\\u3088\\\\u3046\\\\u3068\\\\u3057\\\\u307e\\\\u3057\\\\u305f\\\\u3002\\\\u609f\\\\u98ef\\\\u305f\\\\u3061\\\\u3068\\\\u30d9\\\\u30b8\\\\u30fc\\\\u30bf\\\\u3068\\\\u306e\\\\u30c9\\\\u30e9\\\\u30b4\\\\u30f3\\\\u30dc\\\\u30fc\\\\u30eb\\\\u3092\\\\u3081\\\\u3050\\\\u308b\\\\u4e09\\\\u3064\\\\u5df4\\\\u306e\\\\u653b\\\\u9632\\\\u306e\\\\u672b\\\\u3001\\\\u609f\\\\u7a7a\\\\u3068\\\\u30ca\\\\u30e1\\\\u30c3\\\\u30af\\\\u661f\\\\u4eba\\\\u306e\\\\u5354\\\\u529b\\\\u3092\\\\u5f97\\\\u3066\\\\u30dd\\\\u30eb\\\\u30f3\\\\u30ac\\\\u3092\\\\u547c\\\\u3073\\\\u51fa\\\\u3057\\\\u3001\\\\u30d4\\\\u30c3\\\\u30b3\\\\u30ed\\\\u3068\\\\u5730\\\\u7403\\\\u306e\\\\u30c9\\\\u30e9\\\\u30b4\\\\u30f3\\\\u30dc\\\\u30fc\\\\u30eb\\\\u3092\\\\u5fa9\\\\u6d3b\\\\u3055\\\\u305b\\\\u308b\\\\u3053\\\\u3068\\\\u306b\\\\u6210\\\\u529f\\\\u3057\\\\u307e\\\\u3057\\\\u305f\\\\u3002\\\\u30d5\\\\u30ea\\\\u30fc\\\\u30b6\\\\u306e\\\\u6301\\\\u3064\\\\u5727\\\\u5012\\\\u7684\\\\u306a\\\\u529b\\\\u306e\\\\u524d\\\\u306b\\\\u306f\\\\u30d9\\\\u30b8\\\\u30fc\\\\u30bf\\\\u3084\\\\u30d4\\\\u30c3\\\\u30b3\\\\u30ed\\\\u3001\\\\u609f\\\\u7a7a\\\\u3059\\\\u3089\\\\u6b6f\\\\u304c\\\\u7acb\\\\u305f\\\\u305a\\\\u4ef2\\\\u9593\\\\u305f\\\\u3061\\\\u304c\\\\u6b21\\\\u3005\\\\u3068\\\\u547d\\\\u3092\\\\u843d\\\\u3068\\\\u3057\\\\u3066\\\\u3044\\\\u3063\\\\u305f\\\\u3002\\\\u6012\\\\u308a\\\\u3092\\\\u7206\\\\u767a\\\\u3055\\\\u305b\\\\u305f\\\\u609f\\\\u7a7a\\\\u306f\\\\u4f1d\\\\u8aac\\\\u306e\\\\u6226\\\\u58eb\\\\u30fb\\\\u8d85\\\\uff08\\\\u30b9\\\\u30fc\\\\u30d1\\\\u30fc\\\\uff09\\\\u30b5\\\\u30a4\\\\u30e4\\\\u4eba\\\\u3078\\\\u3068\\\\u899a\\\\u9192\\\\u3002\\\\u30d5\\\\u30eb\\\\u30d1\\\\u30ef\\\\u30fc\\\\u3092\\\\u89e3\\\\u653e\\\\u3057\\\\u305f\\\\u30d5\\\\u30ea\\\\u30fc\\\\u30b6\\\\u306b\\\\u52dd\\\\u5229\\\\u3059\\\\u308b\\\\u3053\\\\u3068\\\\u306b\\\\u6210\\\\u529f\\\\u3057\\\\u3001\\\\u30dd\\\\u30eb\\\\u30f3\\\\u30ac\\\\u306b\\\\u3088\\\\u3063\\\\u3066\\\\u5730\\\\u7403\\\\u306b\\\\u5e30\\\\u9084\\\\u3057\\\\u305f\\\\u609f\\\\u98ef\\\\u305f\\\\u3061\\\\u306f\\\\u5fa9\\\\u6d3b\\\\u3057\\\\u305f\\\\u30c9\\\\u30e9\\\\u30b4\\\\u30f3\\\\u30dc\\\\u30fc\\\\u30eb\\\\u306b\\\\u3088\\\\u308a\\\\u30b5\\\\u30a4\\\\u30e4\\\\u4eba\\\\u3084\\\\u30d5\\\\u30ea\\\\u30fc\\\\u30b6\\\\u4e00\\\\u5473\\\\u306b\\\\u6bba\\\\u3055\\\\u308c\\\\u305f\\\\u4eba\\\\u3005\\\\u3092\\\\u8607\\\\u751f\\\\u3055\\\\u305b\\\\u308b\\\\u3053\\\\u3068\\\\u304c\\\\u3067\\\\u304d\\\\u307e\\\\u3057\\\\u305f\\\\u3002\\\\u4e00\\\\u65b9\\\\u306e\\\\u609f\\\\u7a7a\\\\u3082\\\\u7206\\\\u767a\\\\u3059\\\\u308b\\\\u30ca\\\\u30e1\\\\u30c3\\\\u30af\\\\u661f\\\\u3092\\\\u8f9b\\\\u304f\\\\u3082\\\\u8131\\\\u51fa\\\\u3001\\\\u30e4\\\\u30fc\\\\u30c9\\\\u30e9\\\\u30c3\\\\u30c8\\\\u661f\\\\u306b\\\\u6f02\\\\u7740\\\\u3057\\\\u4e00\\\\u547d\\\\u3092\\\\u53d6\\\\u308a\\\\u7559\\\\u3081\\\\u305f\\\\u3002\\\\nWe have the opportunity to refine the existing answer (only if needed) with some more context below.\\\\n------------\\\\n\\\\u4eba\\\\u9020\\\\u4eba\\\\u9593\\\\u30fb\\\\u30bb\\\\u30eb\\\\u7de8\\\\n\\\\u30ca\\\\u30e1\\\\u30c3\\\\u30af\\\\u661f\\\\u3067\\\\u306e\\\\u95d8\\\\u3044\\\\u304b\\\\u3089\\\\u7d041\\\\u5e74\\\\u5f8c\\\\u3001\\\\u5bc6\\\\u304b\\\\u306b\\\\u751f\\\\u304d\\\\u5ef6\\\\u3073\\\\u3066\\\\u3044\\\\u305f\\\\u30d5\\\\u30ea\\\\u30fc\\\\u30b6\\\\u3068\\\\u305d\\\\u306e\\\\u4e00\\\\u5473\\\\u304c\\\\u5730\\\\u7403\\\\u3092\\\\u8972\\\\u6483\\\\u3059\\\\u308b\\\\u304c\\\\u3001\\\\u8b0e\\\\u306e\\\\u8d85\\\\u30b5\\\\u30a4\\\\u30e4\\\\u4eba\\\\u306b\\\\u3088\\\\u3063\\\\u3066\\\\u6483\\\\u9000\\\\u3055\\\\u308c\\\\u308b\\\\u3002\\\\u30c8\\\\u30e9\\\\u30f3\\\\u30af\\\\u30b9\\\\u3068\\\\u540d\\\\u4e57\\\\u308b\\\\u305d\\\\u306e\\\\u9752\\\\u5e74\\\\u306f\\\\u3001\\\\u81ea\\\\u5206\\\\u306f\\\\u672a\\\\u6765\\\\u304b\\\\u3089\\\\u3084\\\\u3063\\\\u3066\\\\u304d\\\\u305f\\\\u30d6\\\\u30eb\\\\u30de\\\\u3068\\\\u30d9\\\\u30b8\\\\u30fc\\\\u30bf\\\\u306e\\\\u606f\\\\u5b50\\\\u3067\\\\u3042\\\\u308b\\\\u3053\\\\u3068\\\\u3092\\\\u609f\\\\u7a7a\\\\u306b\\\\u3060\\\\u3051\\\\u660e\\\\u304b\\\\u3059\\\\u3068\\\\u540c\\\\u6642\\\\u306b\\\\u3001\\\\u609f\\\\u7a7a\\\\u306f\\\\u5fc3\\\\u81d3\\\\u75c5\\\\u306b\\\\u3088\\\\u3063\\\\u3066\\\\u547d\\\\u3092\\\\u843d\\\\u3068\\\\u3059\\\\u3053\\\\u3068\\\\u30013\\\\u5e74\\\\u5f8c\\\\u306b\\\\u73fe\\\\u308c\\\\u308b2\\\\u4f53\\\\u306e\\\\u4eba\\\\u9020\\\\u4eba\\\\u9593\\\\u304c\\\\u7d76\\\\u671b\\\\u306e\\\\u672a\\\\u6765\\\\u3092\\\\u3082\\\\u305f\\\\u3089\\\\u3059\\\\u3053\\\\u3068\\\\u3092\\\\u544a\\\\u3052\\\\u308b\\\\u3002\\\\u305d\\\\u306e\\\\u5f8c\\\\u672c\\\\u5f53\\\\u306b\\\\u5fc3\\\\u81d3\\\\u75c5\\\\u306b\\\\u3088\\\\u3063\\\\u3066\\\\u5371\\\\u7be4\\\\u72b6\\\\u614b\\\\u306b\\\\u306a\\\\u308b\\\\u3082\\\\u3001\\\\u30c8\\\\u30e9\\\\u30f3\\\\u30af\\\\u30b9\\\\u304b\\\\u3089\\\\u6e21\\\\u3055\\\\u308c\\\\u305f\\\\u7279\\\\u52b9\\\\u85ac\\\\u306b\\\\u3088\\\\u3063\\\\u3066\\\\u751f\\\\u9084\\\\u3001\\\\u6765\\\\u308b\\\\u3079\\\\u304d\\\\u65e5\\\\u306b\\\\u5099\\\\u3048\\\\u30663\\\\u5e74\\\\u9593\\\\u5404\\\\u3005\\\\u306b\\\\u4fee\\\\u884c\\\\u3057\\\\u3066\\\\u305d\\\\u306e\\\\u65e5\\\\u3092\\\\u8fce\\\\u3048\\\\u308b\\\\u609f\\\\u7a7a\\\\u305f\\\\u3061\\\\u3067\\\\u3042\\\\u3063\\\\u305f\\\\u304c\\\\u3001\\\\u4e8b\\\\u614b\\\\u306f\\\\u30c8\\\\u30e9\\\\u30f3\\\\u30af\\\\u30b9\\\\u304c\\\\u77e5\\\\u3063\\\\u3066\\\\u3044\\\\u308b\\\\u6b74\\\\u53f2\\\\u3068\\\\u306f\\\\u5927\\\\u304d\\\\u304f\\\\u9055\\\\u3046\\\\u3082\\\\u306e\\\\u3068\\\\u306a\\\\u308a\\\\u3001\\\\u5f7c\\\\u3055\\\\u3048\\\\u77e5\\\\u3089\\\\u306a\\\\u304b\\\\u3063\\\\u305f\\\\u4eba\\\\u9020\\\\u4eba\\\\u9593\\\\u305f\\\\u3061\\\\u307e\\\\u3067\\\\u73fe\\\\u308c\\\\u3001\\\\u3055\\\\u3089\\\\u306b\\\\u7a76\\\\u6975\\\\u306e\\\\u4eba\\\\u9020\\\\u4eba\\\\u9593\\\\u30fb\\\\u30bb\\\\u30eb\\\\u304c\\\\u672a\\\\u6765\\\\u304b\\\\u3089\\\\u51fa\\\\u73fe\\\\u3002\\\\u609f\\\\u7a7a\\\\u3089\\\\u306e\\\\u60f3\\\\u5b9a\\\\u3092\\\\u9065\\\\u304b\\\\u306b\\\\u8d85\\\\u3048\\\\u305f\\\\u6226\\\\u58eb\\\\u304c\\\\u7d9a\\\\u3005\\\\u3068\\\\u73fe\\\\u308c\\\\u305f\\\\u3002\\\\n------------\\\\nGiven the new context, refine the original answer to better answer the question. If the context isn\\'t useful, return the original answer.\"], \"model\": \"text-davinci-003\", \"temperature\": 0.0, \"max_tokens\": 2048, \"top_p\": 1, \"frequency_penalty\": 0, \"presence_penalty\": 0, \"n\": 1, \"best_of\": 1, \"logit_bias\": {}}' message='Post details'\n",
      "DEBUG:urllib3.connectionpool:https://api.openai.com:443 \"POST /v1/completions HTTP/1.1\" 200 None\n",
      "DEBUG:openai:message='OpenAI API response' path=https://api.openai.com/v1/completions processing_ms=22725 request_id=8d49cfb76b7e566cd96d7dff6782d7b2 response_code=200\n",
      "DEBUG:root:\n",
      "\n",
      "フリーザは宇宙の帝王であり、界王すら畏怖するほどの強大な力を持つ存在です。ナメック星への来襲で、ドラゴンボールを略奪しながらナメック星人を虐殺しようとしました。悟飯たちとベジータとのドラゴンボールをめぐる三つ巴の攻防の末、悟空とナメック星人の協力を得てポルンガを呼び出し、ピッコロと地球のドラゴンボールを復活させることに成功しました。フリーザの持つ圧倒的な力の前にはベジータやピッコロ、悟空すら歯が立たず仲間たちが次々と命を落としていった。怒りを爆発させた悟空は伝説の戦士・超（スーパー）サイヤ人へと覚醒。フルパワーを解放したフリーザに勝利することに成功し、ポルンガによって地球に帰還した悟飯たちは復活したドラゴンボールによりサイヤ人やフリーザ一味に殺された人々を蘇生させることができました。一方の悟空も爆発するナメック星を辛くも脱出、ヤードラット星に漂着し一命を取り留めた。その後本当に心臓病によって危篤状態になるも、トランクスから渡された特効薬によって生還、来るべき日に備えて3年間各々に修行してその日を迎える悟空たちであったが、事態はトランクスが知っている歴史とは大きく違うものとなり、彼さえ知らなかった人造人間たちまで現れ、さらに究極の人造人間・セルが未来から出現。悟空らの想定を遥かに超えた戦士が続々と現れた。\n",
      "DEBUG:root:> Refined response: \n",
      "\n",
      "フリーザは宇宙の帝王であり、界王すら畏怖するほどの強大な力を持つ存在です。ナメック星への来襲で、ドラゴンボールを略奪しながらナメック星人を虐殺しようとしました。悟飯たちとベジータとのドラゴンボールをめぐる三つ巴の攻防の末、悟空とナメック星人の協力を得てポルンガを呼び出し、ピッコロと地球のドラゴンボールを復活させることに成功しました。フリーザの持つ圧倒的な力の前にはベジータやピッコロ、悟空すら歯が立たず仲間たちが次々と命を落としていった。怒りを爆発させた悟空は伝説の戦士・超（スーパー）サイヤ人へと覚醒。フルパワーを解放したフリーザに勝利することに成功し、ポルンガによって地球に帰還した悟飯たちは復活したドラゴンボールによりサイヤ人やフリーザ一味に殺された人々を蘇生させることができました。一方の悟空も爆発するナメック星を辛くも脱出、ヤードラット星に漂着し一命を取り留めた。その後本当に心臓病によって危篤状態になるも、トランクスから渡された特効薬によって生還、来るべき日に備えて3年間各々に修行してその日を迎える悟空たちであったが、事態はトランクスが知っている歴史とは大きく違うものとなり、彼さえ知らなかった人造人間たちまで現れ、さらに究極の人造人間・セルが未来から出現。悟空らの想定を遥かに超えた戦士が続々と現れた。\n"
     ]
    },
    {
     "name": "stdout",
     "output_type": "stream",
     "text": [
      "INFO:root:> [query] Total LLM token usage: 3833 tokens\n",
      "INFO:root:> [query] Total embedding token usage: 0 tokens\n"
     ]
    },
    {
     "data": {
      "text/plain": [
       "Response(response='\\n\\nフリーザは宇宙の帝王であり、界王すら畏怖するほどの強大な力を持つ存在です。ナメック星への来襲で、ドラゴンボールを略奪しながらナメック星人を虐殺しようとしました。悟飯たちとベジータとのドラゴンボールをめぐる三つ巴の攻防の末、悟空とナメック星人の協力を得てポルンガを呼び出し、ピッコロと地球のドラゴンボールを復活させることに成功しました。フリーザの持つ圧倒的な力の前にはベジータやピッコロ、悟空すら歯が立たず仲間たちが次々と命を落としていった。怒りを爆発させた悟空は伝説の戦士・超（スーパー）サイヤ人へと覚醒。フルパワーを解放したフリーザに勝利することに成功し、ポルンガによって地球に帰還した悟飯たちは復活したドラゴンボールによりサイヤ人やフリーザ一味に殺された人々を蘇生させることができました。一方の悟空も爆発するナメック星を辛くも脱出、ヤードラット星に漂着し一命を取り留めた。その後本当に心臓病によって危篤状態になるも、トランクスから渡された特効薬によって生還、来るべき日に備えて3年間各々に修行してその日を迎える悟空たちであったが、事態はトランクスが知っている歴史とは大きく違うものとなり、彼さえ知らなかった人造人間たちまで現れ、さらに究極の人造人間・セルが未来から出現。悟空らの想定を遥かに超えた戦士が続々と現れた。', source_nodes=[SourceNode(source_text='フリーザ編\\n地球の神と殺された仲間たちを甦らせるため、重傷で入院中の悟空に代わり、悟飯、クリリン、ブルマの3人が神とピッコロの故郷であるナメック星へ向かう。だが、そこには地球で闘ったベジータや、界王すら畏怖する宇宙の帝王・フリーザとその一味が不老不死を求めて来襲し、ナメック星人を虐殺しながらドラゴンボールを略奪していた。悟飯たちはベジータ、フリーザ一味とのドラゴンボールをめぐる三つ巴の攻防の末、後から到着した悟空とナメック星人たちの協力を得てナメック星の神龍・ポルンガを呼び出し、ピッコロと地球のドラゴンボールを復活させる。', doc_id='5c66455c-0ee3-427e-baf5-e3eaf7a2afdc', extra_info=None, node_info={'start': 1325, 'end': 1589}, similarity=None), SourceNode(source_text='出し抜かれて願いが叶えられなかったフリーザは激怒し、一行は対決を強いられる。フリーザの持つ圧倒的な力の前にはベジータやピッコロ、悟空すら歯が立たず仲間たちが次々と命を落としていった。怒りを爆発させた悟空は伝説の戦士・超（スーパー）サイヤ人へと覚醒。フルパワーを解放したフリーザに勝利する。ポルンガによって地球に帰還した悟飯たちは復活したドラゴンボールによりサイヤ人やフリーザ一味に殺された人々を蘇生させた。一方の悟空も爆発するナメック星を辛くも脱出、ヤードラット星に漂着し一命を取り留めた。', doc_id='5c66455c-0ee3-427e-baf5-e3eaf7a2afdc', extra_info=None, node_info={'start': 1590, 'end': 1835}, similarity=None), SourceNode(source_text='人造人間・セル編\\nナメック星での闘いから約1年後、密かに生き延びていたフリーザとその一味が地球を襲撃するが、謎の超サイヤ人によって撃退される。トランクスと名乗るその青年は、自分は未来からやってきたブルマとベジータの息子であることを悟空にだけ明かすと同時に、悟空は心臓病によって命を落とすこと、3年後に現れる2体の人造人間が絶望の未来をもたらすことを告げる。その後本当に心臓病によって危篤状態になるも、トランクスから渡された特効薬によって生還、来るべき日に備えて3年間各々に修行してその日を迎える悟空たちであったが、事態はトランクスが知っている歴史とは大きく違うものとなり、彼さえ知らなかった人造人間たちまで現れ、さらに究極の人造人間・セルが未来から出現。悟空らの想定を遥かに超えた戦士が続々と現れた。', doc_id='5c66455c-0ee3-427e-baf5-e3eaf7a2afdc', extra_info=None, node_info={'start': 1836, 'end': 2186}, similarity=None)], extra_info=None)"
      ]
     },
     "execution_count": 6,
     "metadata": {},
     "output_type": "execute_result"
    }
   ],
   "source": [
    "summary = index.query(\"フリーザに関して日本語で教えてください\")\n",
    "summary"
   ]
  },
  {
   "cell_type": "code",
   "execution_count": 7,
   "id": "1eeca4f8",
   "metadata": {},
   "outputs": [
    {
     "name": "stdout",
     "output_type": "stream",
     "text": [
      "INFO:root:> Starting query: 魔人ブウに関して日本語で教えてください\n",
      "DEBUG:openai:message='Request to OpenAI API' method=post path=https://api.openai.com/v1/completions\n",
      "DEBUG:openai:api_version=None data='{\"prompt\": [\"A question is provided below. Given the question, extract up to 10 keywords from the text. Focus on extracting the keywords that we can use to best lookup answers to the question. Avoid stopwords.\\\\n---------------------\\\\n\\\\u9b54\\\\u4eba\\\\u30d6\\\\u30a6\\\\u306b\\\\u95a2\\\\u3057\\\\u3066\\\\u65e5\\\\u672c\\\\u8a9e\\\\u3067\\\\u6559\\\\u3048\\\\u3066\\\\u304f\\\\u3060\\\\u3055\\\\u3044\\\\n---------------------\\\\nProvide keywords in the following comma-separated format: \\'KEYWORDS: <keywords>\\'\\\\n\"], \"model\": \"text-davinci-003\", \"temperature\": 0.0, \"max_tokens\": 2048, \"top_p\": 1, \"frequency_penalty\": 0, \"presence_penalty\": 0, \"n\": 1, \"best_of\": 1, \"logit_bias\": {}}' message='Post details'\n",
      "DEBUG:urllib3.connectionpool:https://api.openai.com:443 \"POST /v1/completions HTTP/1.1\" 200 None\n",
      "DEBUG:openai:message='OpenAI API response' path=https://api.openai.com/v1/completions processing_ms=826 request_id=988fb181b577e7af403646d3635a29fc response_code=200\n",
      "DEBUG:root:\n",
      "KEYWORDS: 魔人ブウ, 日本語, 教える\n",
      "INFO:root:query keywords: ['魔人ブウ', '日本語', '教える']\n",
      "INFO:root:> Extracted keywords: ['魔人ブウ']\n",
      "DEBUG:root:> Querying with idx: 5324103056502838744: 魔人ブウ編\n",
      "セルゲームより約7年後、高校生に成長した悟飯が天下一武道会に出場することを知った悟...\n",
      "DEBUG:root:> Searching in chunk: 魔人ブウ編\n",
      "セルゲームより約7年後、高校生に成長した悟飯が天下一武道会に出場することを知った悟...\n",
      "DEBUG:openai:message='Request to OpenAI API' method=post path=https://api.openai.com/v1/completions\n",
      "DEBUG:openai:api_version=None data='{\"prompt\": [\"Context information is below. \\\\n---------------------\\\\n\\\\u9b54\\\\u4eba\\\\u30d6\\\\u30a6\\\\u7de8\\\\n\\\\u30bb\\\\u30eb\\\\u30b2\\\\u30fc\\\\u30e0\\\\u3088\\\\u308a\\\\u7d047\\\\u5e74\\\\u5f8c\\\\u3001\\\\u9ad8\\\\u6821\\\\u751f\\\\u306b\\\\u6210\\\\u9577\\\\u3057\\\\u305f\\\\u609f\\\\u98ef\\\\u304c\\\\u5929\\\\u4e0b\\\\u4e00\\\\u6b66\\\\u9053\\\\u4f1a\\\\u306b\\\\u51fa\\\\u5834\\\\u3059\\\\u308b\\\\u3053\\\\u3068\\\\u3092\\\\u77e5\\\\u3063\\\\u305f\\\\u609f\\\\u7a7a\\\\u306f\\\\u3001\\\\u81ea\\\\u3089\\\\u3082\\\\u51fa\\\\u5834\\\\u3059\\\\u308b\\\\u305f\\\\u3081\\\\u306b\\\\u5360\\\\u3044\\\\u30d0\\\\u30d0\\\\u306e\\\\u529b\\\\u306b\\\\u3088\\\\u3063\\\\u30661\\\\u65e5\\\\u3060\\\\u3051\\\\u3053\\\\u306e\\\\u4e16\\\\u306b\\\\u623b\\\\u308b\\\\u3002\\\\u5929\\\\u4e0b\\\\u4e00\\\\u6b66\\\\u9053\\\\u4f1a\\\\u306e\\\\u6700\\\\u4e2d\\\\u3001\\\\u609f\\\\u7a7a\\\\u305f\\\\u3061\\\\u306f\\\\u754c\\\\u738b\\\\u3088\\\\u308a\\\\u3082\\\\u3055\\\\u3089\\\\u306b\\\\u9ad8\\\\u4f4d\\\\u306e\\\\u5b58\\\\u5728\\\\u3067\\\\u3042\\\\u308b\\\\u754c\\\\u738b\\\\u795e\\\\u304b\\\\u3089\\\\u3001\\\\u6050\\\\u308d\\\\u3057\\\\u3044\\\\u529b\\\\u3092\\\\u6301\\\\u3064\\\\u9b54\\\\u4eba\\\\u30d6\\\\u30a6\\\\u306e\\\\u5c01\\\\u5370\\\\u304c\\\\u89e3\\\\u304b\\\\u308c\\\\u3088\\\\u3046\\\\u3068\\\\u3057\\\\u3066\\\\u3044\\\\u308b\\\\u3053\\\\u3068\\\\u3092\\\\u77e5\\\\u3089\\\\u3055\\\\u308c\\\\u308b\\\\u3002\\\\u5fa9\\\\u6d3b\\\\u3057\\\\u305f\\\\u9b54\\\\u4eba\\\\u30d6\\\\u30a6\\\\u306b\\\\u3088\\\\u308a\\\\u609f\\\\u98ef\\\\u3084\\\\u30d9\\\\u30b8\\\\u30fc\\\\u30bf\\\\u304c\\\\u5012\\\\u3055\\\\u308c\\\\u3001\\\\u609f\\\\u7a7a\\\\u306f\\\\u3042\\\\u306e\\\\u4e16\\\\u306b\\\\u5e30\\\\u3063\\\\u305f\\\\u305f\\\\u3081\\\\u3001\\\\u5730\\\\u7403\\\\u306e\\\\u547d\\\\u904b\\\\u306f\\\\u609f\\\\u7a7a\\\\u306e\\\\u6b21\\\\u7537\\\\u30fb\\\\u5b6b\\\\u609f\\\\u5929\\\\u3068\\\\u5c11\\\\u5e74\\\\u30c8\\\\u30e9\\\\u30f3\\\\u30af\\\\u30b9\\\\u306e\\\\u5e7c\\\\u3044\\\\u4e8c\\\\u4eba\\\\u306b\\\\u8a17\\\\u3055\\\\u308c\\\\u308b\\\\u3002\\\\n---------------------\\\\nGiven the context information and not prior knowledge, answer the question: \\\\u9b54\\\\u4eba\\\\u30d6\\\\u30a6\\\\u306b\\\\u95a2\\\\u3057\\\\u3066\\\\u65e5\\\\u672c\\\\u8a9e\\\\u3067\\\\u6559\\\\u3048\\\\u3066\\\\u304f\\\\u3060\\\\u3055\\\\u3044\\\\n\"], \"model\": \"text-davinci-003\", \"temperature\": 0.0, \"max_tokens\": 2048, \"top_p\": 1, \"frequency_penalty\": 0, \"presence_penalty\": 0, \"n\": 1, \"best_of\": 1, \"logit_bias\": {}}' message='Post details'\n",
      "DEBUG:urllib3.connectionpool:https://api.openai.com:443 \"POST /v1/completions HTTP/1.1\" 200 None\n",
      "DEBUG:openai:message='OpenAI API response' path=https://api.openai.com/v1/completions processing_ms=4362 request_id=a8b0d37c4274fa62cb2f0778a415a708 response_code=200\n",
      "DEBUG:root:\n",
      "魔人ブウは、界王神から恐ろしい力を持つ悪魔のような存在です。彼は、天下一武道会の最中に復活し、悟飯やベジータを倒しました。悟空があの世に帰ったため、地球の命運は悟空の次男・孫悟天と少年トランクスの幼い二人に託されました。\n",
      "DEBUG:root:> Initial response: \n",
      "魔人ブウは、界王神から恐ろしい力を持つ悪魔のような存在です。彼は、天下一武道会の最中に復活し、悟飯やベジータを倒しました。悟空があの世に帰ったため、地球の命運は悟空の次男・孫悟天と少年トランクスの幼い二人に託されました。\n",
      "INFO:root:> [query] Total LLM token usage: 665 tokens\n",
      "INFO:root:> [query] Total embedding token usage: 0 tokens\n"
     ]
    },
    {
     "data": {
      "text/plain": [
       "Response(response='\\n魔人ブウは、界王神から恐ろしい力を持つ悪魔のような存在です。彼は、天下一武道会の最中に復活し、悟飯やベジータを倒しました。悟空があの世に帰ったため、地球の命運は悟空の次男・孫悟天と少年トランクスの幼い二人に託されました。', source_nodes=[SourceNode(source_text='魔人ブウ編\\nセルゲームより約7年後、高校生に成長した悟飯が天下一武道会に出場することを知った悟空は、自らも出場するために占いババの力によって1日だけこの世に戻る。天下一武道会の最中、悟空たちは界王よりもさらに高位の存在である界王神から、恐ろしい力を持つ魔人ブウの封印が解かれようとしていることを知らされる。復活した魔人ブウにより悟飯やベジータが倒され、悟空はあの世に帰ったため、地球の命運は悟空の次男・孫悟天と少年トランクスの幼い二人に託される。', doc_id='5c66455c-0ee3-427e-baf5-e3eaf7a2afdc', extra_info=None, node_info={'start': 2482, 'end': 2705}, similarity=None)], extra_info=None)"
      ]
     },
     "execution_count": 7,
     "metadata": {},
     "output_type": "execute_result"
    }
   ],
   "source": [
    "summary = index.query(\"魔人ブウに関して日本語で教えてください\")\n",
    "summary"
   ]
  },
  {
   "cell_type": "code",
   "execution_count": 10,
   "id": "0d540a28",
   "metadata": {},
   "outputs": [
    {
     "name": "stdout",
     "output_type": "stream",
     "text": [
      "INFO:root:> Starting query: セルを倒したのは誰ですか。日本語で教えて下さい。\n",
      "DEBUG:openai:message='Request to OpenAI API' method=post path=https://api.openai.com/v1/completions\n",
      "DEBUG:openai:api_version=None data='{\"prompt\": [\"A question is provided below. Given the question, extract up to 10 keywords from the text. Focus on extracting the keywords that we can use to best lookup answers to the question. Avoid stopwords.\\\\n---------------------\\\\n\\\\u30bb\\\\u30eb\\\\u3092\\\\u5012\\\\u3057\\\\u305f\\\\u306e\\\\u306f\\\\u8ab0\\\\u3067\\\\u3059\\\\u304b\\\\u3002\\\\u65e5\\\\u672c\\\\u8a9e\\\\u3067\\\\u6559\\\\u3048\\\\u3066\\\\u4e0b\\\\u3055\\\\u3044\\\\u3002\\\\n---------------------\\\\nProvide keywords in the following comma-separated format: \\'KEYWORDS: <keywords>\\'\\\\n\"], \"model\": \"text-davinci-003\", \"temperature\": 0.0, \"max_tokens\": 2048, \"top_p\": 1, \"frequency_penalty\": 0, \"presence_penalty\": 0, \"n\": 1, \"best_of\": 1, \"logit_bias\": {}}' message='Post details'\n",
      "DEBUG:urllib3.connectionpool:https://api.openai.com:443 \"POST /v1/completions HTTP/1.1\" 200 None\n",
      "DEBUG:openai:message='OpenAI API response' path=https://api.openai.com/v1/completions processing_ms=1065 request_id=f6b9fd4a85c6dbee3e87a08ccbc5072e response_code=200\n",
      "DEBUG:root:\n",
      "KEYWORDS: セル, 倒し, 誰, 日本語, 教え\n",
      "INFO:root:query keywords: ['誰', '日本語', '倒し', 'セル', '教え']\n",
      "INFO:root:> Extracted keywords: ['セル']\n",
      "DEBUG:root:> Querying with idx: 8322773202678641624: 人造人間・セル編\n",
      "ナメック星での闘いから約1年後、密かに生き延びていたフリーザとその一味が地球...\n",
      "DEBUG:root:> Searching in chunk: 人造人間・セル編\n",
      "ナメック星での闘いから約1年後、密かに生き延びていたフリーザとその一味が地球...\n",
      "DEBUG:openai:message='Request to OpenAI API' method=post path=https://api.openai.com/v1/completions\n",
      "DEBUG:openai:api_version=None data='{\"prompt\": [\"Context information is below. \\\\n---------------------\\\\n\\\\u4eba\\\\u9020\\\\u4eba\\\\u9593\\\\u30fb\\\\u30bb\\\\u30eb\\\\u7de8\\\\n\\\\u30ca\\\\u30e1\\\\u30c3\\\\u30af\\\\u661f\\\\u3067\\\\u306e\\\\u95d8\\\\u3044\\\\u304b\\\\u3089\\\\u7d041\\\\u5e74\\\\u5f8c\\\\u3001\\\\u5bc6\\\\u304b\\\\u306b\\\\u751f\\\\u304d\\\\u5ef6\\\\u3073\\\\u3066\\\\u3044\\\\u305f\\\\u30d5\\\\u30ea\\\\u30fc\\\\u30b6\\\\u3068\\\\u305d\\\\u306e\\\\u4e00\\\\u5473\\\\u304c\\\\u5730\\\\u7403\\\\u3092\\\\u8972\\\\u6483\\\\u3059\\\\u308b\\\\u304c\\\\u3001\\\\u8b0e\\\\u306e\\\\u8d85\\\\u30b5\\\\u30a4\\\\u30e4\\\\u4eba\\\\u306b\\\\u3088\\\\u3063\\\\u3066\\\\u6483\\\\u9000\\\\u3055\\\\u308c\\\\u308b\\\\u3002\\\\u30c8\\\\u30e9\\\\u30f3\\\\u30af\\\\u30b9\\\\u3068\\\\u540d\\\\u4e57\\\\u308b\\\\u305d\\\\u306e\\\\u9752\\\\u5e74\\\\u306f\\\\u3001\\\\u81ea\\\\u5206\\\\u306f\\\\u672a\\\\u6765\\\\u304b\\\\u3089\\\\u3084\\\\u3063\\\\u3066\\\\u304d\\\\u305f\\\\u30d6\\\\u30eb\\\\u30de\\\\u3068\\\\u30d9\\\\u30b8\\\\u30fc\\\\u30bf\\\\u306e\\\\u606f\\\\u5b50\\\\u3067\\\\u3042\\\\u308b\\\\u3053\\\\u3068\\\\u3092\\\\u609f\\\\u7a7a\\\\u306b\\\\u3060\\\\u3051\\\\u660e\\\\u304b\\\\u3059\\\\u3068\\\\u540c\\\\u6642\\\\u306b\\\\u3001\\\\u609f\\\\u7a7a\\\\u306f\\\\u5fc3\\\\u81d3\\\\u75c5\\\\u306b\\\\u3088\\\\u3063\\\\u3066\\\\u547d\\\\u3092\\\\u843d\\\\u3068\\\\u3059\\\\u3053\\\\u3068\\\\u30013\\\\u5e74\\\\u5f8c\\\\u306b\\\\u73fe\\\\u308c\\\\u308b2\\\\u4f53\\\\u306e\\\\u4eba\\\\u9020\\\\u4eba\\\\u9593\\\\u304c\\\\u7d76\\\\u671b\\\\u306e\\\\u672a\\\\u6765\\\\u3092\\\\u3082\\\\u305f\\\\u3089\\\\u3059\\\\u3053\\\\u3068\\\\u3092\\\\u544a\\\\u3052\\\\u308b\\\\u3002\\\\u305d\\\\u306e\\\\u5f8c\\\\u672c\\\\u5f53\\\\u306b\\\\u5fc3\\\\u81d3\\\\u75c5\\\\u306b\\\\u3088\\\\u3063\\\\u3066\\\\u5371\\\\u7be4\\\\u72b6\\\\u614b\\\\u306b\\\\u306a\\\\u308b\\\\u3082\\\\u3001\\\\u30c8\\\\u30e9\\\\u30f3\\\\u30af\\\\u30b9\\\\u304b\\\\u3089\\\\u6e21\\\\u3055\\\\u308c\\\\u305f\\\\u7279\\\\u52b9\\\\u85ac\\\\u306b\\\\u3088\\\\u3063\\\\u3066\\\\u751f\\\\u9084\\\\u3001\\\\u6765\\\\u308b\\\\u3079\\\\u304d\\\\u65e5\\\\u306b\\\\u5099\\\\u3048\\\\u30663\\\\u5e74\\\\u9593\\\\u5404\\\\u3005\\\\u306b\\\\u4fee\\\\u884c\\\\u3057\\\\u3066\\\\u305d\\\\u306e\\\\u65e5\\\\u3092\\\\u8fce\\\\u3048\\\\u308b\\\\u609f\\\\u7a7a\\\\u305f\\\\u3061\\\\u3067\\\\u3042\\\\u3063\\\\u305f\\\\u304c\\\\u3001\\\\u4e8b\\\\u614b\\\\u306f\\\\u30c8\\\\u30e9\\\\u30f3\\\\u30af\\\\u30b9\\\\u304c\\\\u77e5\\\\u3063\\\\u3066\\\\u3044\\\\u308b\\\\u6b74\\\\u53f2\\\\u3068\\\\u306f\\\\u5927\\\\u304d\\\\u304f\\\\u9055\\\\u3046\\\\u3082\\\\u306e\\\\u3068\\\\u306a\\\\u308a\\\\u3001\\\\u5f7c\\\\u3055\\\\u3048\\\\u77e5\\\\u3089\\\\u306a\\\\u304b\\\\u3063\\\\u305f\\\\u4eba\\\\u9020\\\\u4eba\\\\u9593\\\\u305f\\\\u3061\\\\u307e\\\\u3067\\\\u73fe\\\\u308c\\\\u3001\\\\u3055\\\\u3089\\\\u306b\\\\u7a76\\\\u6975\\\\u306e\\\\u4eba\\\\u9020\\\\u4eba\\\\u9593\\\\u30fb\\\\u30bb\\\\u30eb\\\\u304c\\\\u672a\\\\u6765\\\\u304b\\\\u3089\\\\u51fa\\\\u73fe\\\\u3002\\\\u609f\\\\u7a7a\\\\u3089\\\\u306e\\\\u60f3\\\\u5b9a\\\\u3092\\\\u9065\\\\u304b\\\\u306b\\\\u8d85\\\\u3048\\\\u305f\\\\u6226\\\\u58eb\\\\u304c\\\\u7d9a\\\\u3005\\\\u3068\\\\u73fe\\\\u308c\\\\u305f\\\\u3002\\\\n---------------------\\\\nGiven the context information and not prior knowledge, answer the question: \\\\u30bb\\\\u30eb\\\\u3092\\\\u5012\\\\u3057\\\\u305f\\\\u306e\\\\u306f\\\\u8ab0\\\\u3067\\\\u3059\\\\u304b\\\\u3002\\\\u65e5\\\\u672c\\\\u8a9e\\\\u3067\\\\u6559\\\\u3048\\\\u3066\\\\u4e0b\\\\u3055\\\\u3044\\\\u3002\\\\n\"], \"model\": \"text-davinci-003\", \"temperature\": 0.0, \"max_tokens\": 2048, \"top_p\": 1, \"frequency_penalty\": 0, \"presence_penalty\": 0, \"n\": 1, \"best_of\": 1, \"logit_bias\": {}}' message='Post details'\n",
      "DEBUG:urllib3.connectionpool:https://api.openai.com:443 \"POST /v1/completions HTTP/1.1\" 200 None\n",
      "DEBUG:openai:message='OpenAI API response' path=https://api.openai.com/v1/completions processing_ms=935 request_id=d9d6f6df1c8197ff978f1b8384826df0 response_code=200\n",
      "DEBUG:root:\n",
      "セルを倒したのは悟空です。\n",
      "DEBUG:root:> Initial response: \n",
      "セルを倒したのは悟空です。\n",
      "INFO:root:> [query] Total LLM token usage: 718 tokens\n",
      "INFO:root:> [query] Total embedding token usage: 0 tokens\n"
     ]
    },
    {
     "data": {
      "text/plain": [
       "Response(response='\\nセルを倒したのは悟空です。', source_nodes=[SourceNode(source_text='人造人間・セル編\\nナメック星での闘いから約1年後、密かに生き延びていたフリーザとその一味が地球を襲撃するが、謎の超サイヤ人によって撃退される。トランクスと名乗るその青年は、自分は未来からやってきたブルマとベジータの息子であることを悟空にだけ明かすと同時に、悟空は心臓病によって命を落とすこと、3年後に現れる2体の人造人間が絶望の未来をもたらすことを告げる。その後本当に心臓病によって危篤状態になるも、トランクスから渡された特効薬によって生還、来るべき日に備えて3年間各々に修行してその日を迎える悟空たちであったが、事態はトランクスが知っている歴史とは大きく違うものとなり、彼さえ知らなかった人造人間たちまで現れ、さらに究極の人造人間・セルが未来から出現。悟空らの想定を遥かに超えた戦士が続々と現れた。', doc_id='5c66455c-0ee3-427e-baf5-e3eaf7a2afdc', extra_info=None, node_info={'start': 1836, 'end': 2186}, similarity=None)], extra_info=None)"
      ]
     },
     "execution_count": 10,
     "metadata": {},
     "output_type": "execute_result"
    }
   ],
   "source": [
    "summary = index.query(\"セルを倒したのは誰ですか。日本語で教えて下さい。\")\n",
    "summary"
   ]
  },
  {
   "cell_type": "code",
   "execution_count": 11,
   "id": "a748cadc",
   "metadata": {},
   "outputs": [
    {
     "name": "stdout",
     "output_type": "stream",
     "text": [
      "INFO:root:> Starting query: セルに関して日本語で教えてください\n",
      "DEBUG:openai:message='Request to OpenAI API' method=post path=https://api.openai.com/v1/completions\n",
      "DEBUG:openai:api_version=None data='{\"prompt\": [\"A question is provided below. Given the question, extract up to 10 keywords from the text. Focus on extracting the keywords that we can use to best lookup answers to the question. Avoid stopwords.\\\\n---------------------\\\\n\\\\u30bb\\\\u30eb\\\\u306b\\\\u95a2\\\\u3057\\\\u3066\\\\u65e5\\\\u672c\\\\u8a9e\\\\u3067\\\\u6559\\\\u3048\\\\u3066\\\\u304f\\\\u3060\\\\u3055\\\\u3044\\\\n---------------------\\\\nProvide keywords in the following comma-separated format: \\'KEYWORDS: <keywords>\\'\\\\n\"], \"model\": \"text-davinci-003\", \"temperature\": 0.0, \"max_tokens\": 2048, \"top_p\": 1, \"frequency_penalty\": 0, \"presence_penalty\": 0, \"n\": 1, \"best_of\": 1, \"logit_bias\": {}}' message='Post details'\n",
      "DEBUG:urllib3.connectionpool:https://api.openai.com:443 \"POST /v1/completions HTTP/1.1\" 200 None\n",
      "DEBUG:openai:message='OpenAI API response' path=https://api.openai.com/v1/completions processing_ms=1269 request_id=7ad5fcf5a7ad91966da3ab31ae17a3ae response_code=200\n",
      "DEBUG:root:\n",
      "KEYWORDS: セル, 日本語, 教える\n",
      "INFO:root:query keywords: ['セル', '日本語', '教える']\n",
      "INFO:root:> Extracted keywords: ['セル']\n",
      "DEBUG:root:> Querying with idx: 8322773202678641624: 人造人間・セル編\n",
      "ナメック星での闘いから約1年後、密かに生き延びていたフリーザとその一味が地球...\n",
      "DEBUG:root:> Searching in chunk: 人造人間・セル編\n",
      "ナメック星での闘いから約1年後、密かに生き延びていたフリーザとその一味が地球...\n",
      "DEBUG:openai:message='Request to OpenAI API' method=post path=https://api.openai.com/v1/completions\n",
      "DEBUG:openai:api_version=None data='{\"prompt\": [\"Context information is below. \\\\n---------------------\\\\n\\\\u4eba\\\\u9020\\\\u4eba\\\\u9593\\\\u30fb\\\\u30bb\\\\u30eb\\\\u7de8\\\\n\\\\u30ca\\\\u30e1\\\\u30c3\\\\u30af\\\\u661f\\\\u3067\\\\u306e\\\\u95d8\\\\u3044\\\\u304b\\\\u3089\\\\u7d041\\\\u5e74\\\\u5f8c\\\\u3001\\\\u5bc6\\\\u304b\\\\u306b\\\\u751f\\\\u304d\\\\u5ef6\\\\u3073\\\\u3066\\\\u3044\\\\u305f\\\\u30d5\\\\u30ea\\\\u30fc\\\\u30b6\\\\u3068\\\\u305d\\\\u306e\\\\u4e00\\\\u5473\\\\u304c\\\\u5730\\\\u7403\\\\u3092\\\\u8972\\\\u6483\\\\u3059\\\\u308b\\\\u304c\\\\u3001\\\\u8b0e\\\\u306e\\\\u8d85\\\\u30b5\\\\u30a4\\\\u30e4\\\\u4eba\\\\u306b\\\\u3088\\\\u3063\\\\u3066\\\\u6483\\\\u9000\\\\u3055\\\\u308c\\\\u308b\\\\u3002\\\\u30c8\\\\u30e9\\\\u30f3\\\\u30af\\\\u30b9\\\\u3068\\\\u540d\\\\u4e57\\\\u308b\\\\u305d\\\\u306e\\\\u9752\\\\u5e74\\\\u306f\\\\u3001\\\\u81ea\\\\u5206\\\\u306f\\\\u672a\\\\u6765\\\\u304b\\\\u3089\\\\u3084\\\\u3063\\\\u3066\\\\u304d\\\\u305f\\\\u30d6\\\\u30eb\\\\u30de\\\\u3068\\\\u30d9\\\\u30b8\\\\u30fc\\\\u30bf\\\\u306e\\\\u606f\\\\u5b50\\\\u3067\\\\u3042\\\\u308b\\\\u3053\\\\u3068\\\\u3092\\\\u609f\\\\u7a7a\\\\u306b\\\\u3060\\\\u3051\\\\u660e\\\\u304b\\\\u3059\\\\u3068\\\\u540c\\\\u6642\\\\u306b\\\\u3001\\\\u609f\\\\u7a7a\\\\u306f\\\\u5fc3\\\\u81d3\\\\u75c5\\\\u306b\\\\u3088\\\\u3063\\\\u3066\\\\u547d\\\\u3092\\\\u843d\\\\u3068\\\\u3059\\\\u3053\\\\u3068\\\\u30013\\\\u5e74\\\\u5f8c\\\\u306b\\\\u73fe\\\\u308c\\\\u308b2\\\\u4f53\\\\u306e\\\\u4eba\\\\u9020\\\\u4eba\\\\u9593\\\\u304c\\\\u7d76\\\\u671b\\\\u306e\\\\u672a\\\\u6765\\\\u3092\\\\u3082\\\\u305f\\\\u3089\\\\u3059\\\\u3053\\\\u3068\\\\u3092\\\\u544a\\\\u3052\\\\u308b\\\\u3002\\\\u305d\\\\u306e\\\\u5f8c\\\\u672c\\\\u5f53\\\\u306b\\\\u5fc3\\\\u81d3\\\\u75c5\\\\u306b\\\\u3088\\\\u3063\\\\u3066\\\\u5371\\\\u7be4\\\\u72b6\\\\u614b\\\\u306b\\\\u306a\\\\u308b\\\\u3082\\\\u3001\\\\u30c8\\\\u30e9\\\\u30f3\\\\u30af\\\\u30b9\\\\u304b\\\\u3089\\\\u6e21\\\\u3055\\\\u308c\\\\u305f\\\\u7279\\\\u52b9\\\\u85ac\\\\u306b\\\\u3088\\\\u3063\\\\u3066\\\\u751f\\\\u9084\\\\u3001\\\\u6765\\\\u308b\\\\u3079\\\\u304d\\\\u65e5\\\\u306b\\\\u5099\\\\u3048\\\\u30663\\\\u5e74\\\\u9593\\\\u5404\\\\u3005\\\\u306b\\\\u4fee\\\\u884c\\\\u3057\\\\u3066\\\\u305d\\\\u306e\\\\u65e5\\\\u3092\\\\u8fce\\\\u3048\\\\u308b\\\\u609f\\\\u7a7a\\\\u305f\\\\u3061\\\\u3067\\\\u3042\\\\u3063\\\\u305f\\\\u304c\\\\u3001\\\\u4e8b\\\\u614b\\\\u306f\\\\u30c8\\\\u30e9\\\\u30f3\\\\u30af\\\\u30b9\\\\u304c\\\\u77e5\\\\u3063\\\\u3066\\\\u3044\\\\u308b\\\\u6b74\\\\u53f2\\\\u3068\\\\u306f\\\\u5927\\\\u304d\\\\u304f\\\\u9055\\\\u3046\\\\u3082\\\\u306e\\\\u3068\\\\u306a\\\\u308a\\\\u3001\\\\u5f7c\\\\u3055\\\\u3048\\\\u77e5\\\\u3089\\\\u306a\\\\u304b\\\\u3063\\\\u305f\\\\u4eba\\\\u9020\\\\u4eba\\\\u9593\\\\u305f\\\\u3061\\\\u307e\\\\u3067\\\\u73fe\\\\u308c\\\\u3001\\\\u3055\\\\u3089\\\\u306b\\\\u7a76\\\\u6975\\\\u306e\\\\u4eba\\\\u9020\\\\u4eba\\\\u9593\\\\u30fb\\\\u30bb\\\\u30eb\\\\u304c\\\\u672a\\\\u6765\\\\u304b\\\\u3089\\\\u51fa\\\\u73fe\\\\u3002\\\\u609f\\\\u7a7a\\\\u3089\\\\u306e\\\\u60f3\\\\u5b9a\\\\u3092\\\\u9065\\\\u304b\\\\u306b\\\\u8d85\\\\u3048\\\\u305f\\\\u6226\\\\u58eb\\\\u304c\\\\u7d9a\\\\u3005\\\\u3068\\\\u73fe\\\\u308c\\\\u305f\\\\u3002\\\\n---------------------\\\\nGiven the context information and not prior knowledge, answer the question: \\\\u30bb\\\\u30eb\\\\u306b\\\\u95a2\\\\u3057\\\\u3066\\\\u65e5\\\\u672c\\\\u8a9e\\\\u3067\\\\u6559\\\\u3048\\\\u3066\\\\u304f\\\\u3060\\\\u3055\\\\u3044\\\\n\"], \"model\": \"text-davinci-003\", \"temperature\": 0.0, \"max_tokens\": 2048, \"top_p\": 1, \"frequency_penalty\": 0, \"presence_penalty\": 0, \"n\": 1, \"best_of\": 1, \"logit_bias\": {}}' message='Post details'\n",
      "DEBUG:urllib3.connectionpool:https://api.openai.com:443 \"POST /v1/completions HTTP/1.1\" 200 None\n",
      "DEBUG:openai:message='OpenAI API response' path=https://api.openai.com/v1/completions processing_ms=2798 request_id=bdbec4dc03f2d2d39ac13f16d0636882 response_code=200\n",
      "DEBUG:root:\n",
      "セルは、未来から現れた究極の人造人間であり、超サイヤ人のトランクスが知らなかった存在です。彼は、悟空たちの想定を遥かに超える戦士として現れました。\n",
      "DEBUG:root:> Initial response: \n",
      "セルは、未来から現れた究極の人造人間であり、超サイヤ人のトランクスが知らなかった存在です。彼は、悟空たちの想定を遥かに超える戦士として現れました。\n",
      "INFO:root:> [query] Total LLM token usage: 767 tokens\n",
      "INFO:root:> [query] Total embedding token usage: 0 tokens\n"
     ]
    },
    {
     "data": {
      "text/plain": [
       "Response(response='\\nセルは、未来から現れた究極の人造人間であり、超サイヤ人のトランクスが知らなかった存在です。彼は、悟空たちの想定を遥かに超える戦士として現れました。', source_nodes=[SourceNode(source_text='人造人間・セル編\\nナメック星での闘いから約1年後、密かに生き延びていたフリーザとその一味が地球を襲撃するが、謎の超サイヤ人によって撃退される。トランクスと名乗るその青年は、自分は未来からやってきたブルマとベジータの息子であることを悟空にだけ明かすと同時に、悟空は心臓病によって命を落とすこと、3年後に現れる2体の人造人間が絶望の未来をもたらすことを告げる。その後本当に心臓病によって危篤状態になるも、トランクスから渡された特効薬によって生還、来るべき日に備えて3年間各々に修行してその日を迎える悟空たちであったが、事態はトランクスが知っている歴史とは大きく違うものとなり、彼さえ知らなかった人造人間たちまで現れ、さらに究極の人造人間・セルが未来から出現。悟空らの想定を遥かに超えた戦士が続々と現れた。', doc_id='5c66455c-0ee3-427e-baf5-e3eaf7a2afdc', extra_info=None, node_info={'start': 1836, 'end': 2186}, similarity=None)], extra_info=None)"
      ]
     },
     "execution_count": 11,
     "metadata": {},
     "output_type": "execute_result"
    }
   ],
   "source": [
    "summary = index.query(\"セルに関して日本語で教えてください\")\n",
    "summary"
   ]
  },
  {
   "cell_type": "code",
   "execution_count": 12,
   "id": "555a7e70",
   "metadata": {},
   "outputs": [
    {
     "name": "stdout",
     "output_type": "stream",
     "text": [
      "INFO:root:> Starting query: 魔人ブウの生まれりは誰ですか。日本語で教えて下さい。\n",
      "DEBUG:openai:message='Request to OpenAI API' method=post path=https://api.openai.com/v1/completions\n",
      "DEBUG:openai:api_version=None data='{\"prompt\": [\"A question is provided below. Given the question, extract up to 10 keywords from the text. Focus on extracting the keywords that we can use to best lookup answers to the question. Avoid stopwords.\\\\n---------------------\\\\n\\\\u9b54\\\\u4eba\\\\u30d6\\\\u30a6\\\\u306e\\\\u751f\\\\u307e\\\\u308c\\\\u308a\\\\u306f\\\\u8ab0\\\\u3067\\\\u3059\\\\u304b\\\\u3002\\\\u65e5\\\\u672c\\\\u8a9e\\\\u3067\\\\u6559\\\\u3048\\\\u3066\\\\u4e0b\\\\u3055\\\\u3044\\\\u3002\\\\n---------------------\\\\nProvide keywords in the following comma-separated format: \\'KEYWORDS: <keywords>\\'\\\\n\"], \"model\": \"text-davinci-003\", \"temperature\": 0.0, \"max_tokens\": 2048, \"top_p\": 1, \"frequency_penalty\": 0, \"presence_penalty\": 0, \"n\": 1, \"best_of\": 1, \"logit_bias\": {}}' message='Post details'\n",
      "DEBUG:urllib3.connectionpool:Resetting dropped connection: api.openai.com\n",
      "DEBUG:urllib3.connectionpool:https://api.openai.com:443 \"POST /v1/completions HTTP/1.1\" 200 None\n",
      "DEBUG:openai:message='OpenAI API response' path=https://api.openai.com/v1/completions processing_ms=1065 request_id=4ff86cbeeb9b5115c5f73dfb980d4f0c response_code=200\n",
      "DEBUG:root:\n",
      "KEYWORDS: 魔人ブウ, 生まれ, 誰, 日本語\n",
      "INFO:root:query keywords: ['魔人ブウ', '誰', '日本語', '生まれ']\n",
      "INFO:root:> Extracted keywords: ['魔人ブウ']\n",
      "DEBUG:root:> Querying with idx: 5324103056502838744: 魔人ブウ編\n",
      "セルゲームより約7年後、高校生に成長した悟飯が天下一武道会に出場することを知った悟...\n",
      "DEBUG:root:> Searching in chunk: 魔人ブウ編\n",
      "セルゲームより約7年後、高校生に成長した悟飯が天下一武道会に出場することを知った悟...\n",
      "DEBUG:openai:message='Request to OpenAI API' method=post path=https://api.openai.com/v1/completions\n",
      "DEBUG:openai:api_version=None data='{\"prompt\": [\"Context information is below. \\\\n---------------------\\\\n\\\\u9b54\\\\u4eba\\\\u30d6\\\\u30a6\\\\u7de8\\\\n\\\\u30bb\\\\u30eb\\\\u30b2\\\\u30fc\\\\u30e0\\\\u3088\\\\u308a\\\\u7d047\\\\u5e74\\\\u5f8c\\\\u3001\\\\u9ad8\\\\u6821\\\\u751f\\\\u306b\\\\u6210\\\\u9577\\\\u3057\\\\u305f\\\\u609f\\\\u98ef\\\\u304c\\\\u5929\\\\u4e0b\\\\u4e00\\\\u6b66\\\\u9053\\\\u4f1a\\\\u306b\\\\u51fa\\\\u5834\\\\u3059\\\\u308b\\\\u3053\\\\u3068\\\\u3092\\\\u77e5\\\\u3063\\\\u305f\\\\u609f\\\\u7a7a\\\\u306f\\\\u3001\\\\u81ea\\\\u3089\\\\u3082\\\\u51fa\\\\u5834\\\\u3059\\\\u308b\\\\u305f\\\\u3081\\\\u306b\\\\u5360\\\\u3044\\\\u30d0\\\\u30d0\\\\u306e\\\\u529b\\\\u306b\\\\u3088\\\\u3063\\\\u30661\\\\u65e5\\\\u3060\\\\u3051\\\\u3053\\\\u306e\\\\u4e16\\\\u306b\\\\u623b\\\\u308b\\\\u3002\\\\u5929\\\\u4e0b\\\\u4e00\\\\u6b66\\\\u9053\\\\u4f1a\\\\u306e\\\\u6700\\\\u4e2d\\\\u3001\\\\u609f\\\\u7a7a\\\\u305f\\\\u3061\\\\u306f\\\\u754c\\\\u738b\\\\u3088\\\\u308a\\\\u3082\\\\u3055\\\\u3089\\\\u306b\\\\u9ad8\\\\u4f4d\\\\u306e\\\\u5b58\\\\u5728\\\\u3067\\\\u3042\\\\u308b\\\\u754c\\\\u738b\\\\u795e\\\\u304b\\\\u3089\\\\u3001\\\\u6050\\\\u308d\\\\u3057\\\\u3044\\\\u529b\\\\u3092\\\\u6301\\\\u3064\\\\u9b54\\\\u4eba\\\\u30d6\\\\u30a6\\\\u306e\\\\u5c01\\\\u5370\\\\u304c\\\\u89e3\\\\u304b\\\\u308c\\\\u3088\\\\u3046\\\\u3068\\\\u3057\\\\u3066\\\\u3044\\\\u308b\\\\u3053\\\\u3068\\\\u3092\\\\u77e5\\\\u3089\\\\u3055\\\\u308c\\\\u308b\\\\u3002\\\\u5fa9\\\\u6d3b\\\\u3057\\\\u305f\\\\u9b54\\\\u4eba\\\\u30d6\\\\u30a6\\\\u306b\\\\u3088\\\\u308a\\\\u609f\\\\u98ef\\\\u3084\\\\u30d9\\\\u30b8\\\\u30fc\\\\u30bf\\\\u304c\\\\u5012\\\\u3055\\\\u308c\\\\u3001\\\\u609f\\\\u7a7a\\\\u306f\\\\u3042\\\\u306e\\\\u4e16\\\\u306b\\\\u5e30\\\\u3063\\\\u305f\\\\u305f\\\\u3081\\\\u3001\\\\u5730\\\\u7403\\\\u306e\\\\u547d\\\\u904b\\\\u306f\\\\u609f\\\\u7a7a\\\\u306e\\\\u6b21\\\\u7537\\\\u30fb\\\\u5b6b\\\\u609f\\\\u5929\\\\u3068\\\\u5c11\\\\u5e74\\\\u30c8\\\\u30e9\\\\u30f3\\\\u30af\\\\u30b9\\\\u306e\\\\u5e7c\\\\u3044\\\\u4e8c\\\\u4eba\\\\u306b\\\\u8a17\\\\u3055\\\\u308c\\\\u308b\\\\u3002\\\\n---------------------\\\\nGiven the context information and not prior knowledge, answer the question: \\\\u9b54\\\\u4eba\\\\u30d6\\\\u30a6\\\\u306e\\\\u751f\\\\u307e\\\\u308c\\\\u308a\\\\u306f\\\\u8ab0\\\\u3067\\\\u3059\\\\u304b\\\\u3002\\\\u65e5\\\\u672c\\\\u8a9e\\\\u3067\\\\u6559\\\\u3048\\\\u3066\\\\u4e0b\\\\u3055\\\\u3044\\\\u3002\\\\n\"], \"model\": \"text-davinci-003\", \"temperature\": 0.0, \"max_tokens\": 2048, \"top_p\": 1, \"frequency_penalty\": 0, \"presence_penalty\": 0, \"n\": 1, \"best_of\": 1, \"logit_bias\": {}}' message='Post details'\n",
      "DEBUG:urllib3.connectionpool:https://api.openai.com:443 \"POST /v1/completions HTTP/1.1\" 200 None\n",
      "DEBUG:openai:message='OpenAI API response' path=https://api.openai.com/v1/completions processing_ms=756 request_id=ae8010f76cbf8860924d60b407e41124 response_code=200\n",
      "DEBUG:root:\n",
      "魔人ブウの生まれりは界王神です。\n",
      "DEBUG:root:> Initial response: \n",
      "魔人ブウの生まれりは界王神です。\n",
      "INFO:root:> [query] Total LLM token usage: 543 tokens\n",
      "INFO:root:> [query] Total embedding token usage: 0 tokens\n"
     ]
    },
    {
     "data": {
      "text/plain": [
       "Response(response='\\n魔人ブウの生まれりは界王神です。', source_nodes=[SourceNode(source_text='魔人ブウ編\\nセルゲームより約7年後、高校生に成長した悟飯が天下一武道会に出場することを知った悟空は、自らも出場するために占いババの力によって1日だけこの世に戻る。天下一武道会の最中、悟空たちは界王よりもさらに高位の存在である界王神から、恐ろしい力を持つ魔人ブウの封印が解かれようとしていることを知らされる。復活した魔人ブウにより悟飯やベジータが倒され、悟空はあの世に帰ったため、地球の命運は悟空の次男・孫悟天と少年トランクスの幼い二人に託される。', doc_id='5c66455c-0ee3-427e-baf5-e3eaf7a2afdc', extra_info=None, node_info={'start': 2482, 'end': 2705}, similarity=None)], extra_info=None)"
      ]
     },
     "execution_count": 12,
     "metadata": {},
     "output_type": "execute_result"
    }
   ],
   "source": [
    "summary = index.query(\"魔人ブウの生まれりは誰ですか。日本語で教えて下さい。\")\n",
    "summary"
   ]
  },
  {
   "cell_type": "code",
   "execution_count": null,
   "id": "02175397",
   "metadata": {},
   "outputs": [],
   "source": []
  }
 ],
 "metadata": {
  "kernelspec": {
   "display_name": "Python 3 (ipykernel)",
   "language": "python",
   "name": "python3"
  },
  "language_info": {
   "codemirror_mode": {
    "name": "ipython",
    "version": 3
   },
   "file_extension": ".py",
   "mimetype": "text/x-python",
   "name": "python",
   "nbconvert_exporter": "python",
   "pygments_lexer": "ipython3",
   "version": "3.11.0"
  }
 },
 "nbformat": 4,
 "nbformat_minor": 5
}

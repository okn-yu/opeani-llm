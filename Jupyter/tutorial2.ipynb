{
 "cells": [
  {
   "cell_type": "markdown",
   "id": "b0ae5eb1",
   "metadata": {},
   "source": [
    "# 概要\n",
    "* llama_indexのPromptHelperを触ってみる\n",
    "\n",
    "# 参考\n",
    "* トークンの制約に対応するための汎用プロンプトサポートツール\n",
    "* https://gpt-index.readthedocs.io/en/latest/reference/prompt_helper.html"
   ]
  },
  {
   "cell_type": "code",
   "execution_count": 3,
   "id": "d0bdc17b",
   "metadata": {},
   "outputs": [],
   "source": [
    "import os\n",
    "import openai\n",
    "\n",
    "openai.api_key = os.getenv(\"OPENAI_API_KEY\")"
   ]
  },
  {
   "cell_type": "code",
   "execution_count": 4,
   "id": "382f4e9d",
   "metadata": {},
   "outputs": [],
   "source": [
    "#Jupyterでも実行できるのは知らんかった...\n",
    "import logging\n",
    "import sys\n",
    "logging.basicConfig(stream=sys.stdout, level=logging.DEBUG, force=True)"
   ]
  },
  {
   "cell_type": "markdown",
   "id": "44238731",
   "metadata": {},
   "source": [
    "# LLM\n",
    "* PromptHelperの引数の大部分はLLMに関連する\n",
    "* つまり最初にLLMが何かを理解する必要がある\n",
    "* 詳細はここを見よ！\n",
    "* https://gpt-index.readthedocs.io/en/latest/reference/llm_predictor.html"
   ]
  },
  {
   "cell_type": "code",
   "execution_count": null,
   "id": "68f1f5f5",
   "metadata": {},
   "outputs": [],
   "source": []
  }
 ],
 "metadata": {
  "kernelspec": {
   "display_name": "Python 3 (ipykernel)",
   "language": "python",
   "name": "python3"
  },
  "language_info": {
   "codemirror_mode": {
    "name": "ipython",
    "version": 3
   },
   "file_extension": ".py",
   "mimetype": "text/x-python",
   "name": "python",
   "nbconvert_exporter": "python",
   "pygments_lexer": "ipython3",
   "version": "3.11.0"
  }
 },
 "nbformat": 4,
 "nbformat_minor": 5
}

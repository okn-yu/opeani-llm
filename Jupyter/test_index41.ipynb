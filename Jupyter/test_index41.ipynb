{
 "cells": [
  {
   "cell_type": "markdown",
   "id": "b0ae5eb1",
   "metadata": {},
   "source": [
    "# 概要\n",
    "* 複数インデックスのマージにいよいよトライする\n",
    "* treeは自動で要約つけてくれるの？？めっちゃ便利やん\n",
    "* 訳としては完璧やん...\n",
    "* num_outputは2048も対応している→ダイでエラー発生\n",
    "* 親の要約が変なのが惜しい\n",
    "* b_indexがおかしい\n",
    "* #prompt_helperで重複を許すようにすれば自然な日本語になるはず#！！\n",
    "* そもそもこういう問題があるからチュートリアルはkeyword_tableを使っていたのか\n",
    "* indexを作っただけではembeddingしていないことに注意！！\n",
    "\n",
    "# 参考\n",
    "* そもそもtree構造が前提なのでtreeのindexを確認する\n",
    "* https://gpt-index.readthedocs.io/en/latest/how_to/composability.html\n",
    "* https://note.com/npaka/n/n5d4ff4380055\n",
    "* https://note.com/oshizo/n/n137aaa2c29d4\n",
    "* 日本語としてparseされない...\n",
    "\n",
    "# 結局\n",
    "* 一応動いてる、細かいところまでとれているかはわからないが。"
   ]
  },
  {
   "cell_type": "code",
   "execution_count": 1,
   "id": "d0bdc17b",
   "metadata": {},
   "outputs": [],
   "source": [
    "import os\n",
    "import openai\n",
    "\n",
    "openai.api_key = os.getenv(\"OPENAI_API_KEY\")"
   ]
  },
  {
   "cell_type": "code",
   "execution_count": 2,
   "id": "382f4e9d",
   "metadata": {},
   "outputs": [],
   "source": [
    "#Jupyterでも実行できるのは知らんかった...\n",
    "import logging\n",
    "import sys\n",
    "logging.basicConfig(stream=sys.stdout, level=logging.DEBUG, force=True)"
   ]
  },
  {
   "cell_type": "code",
   "execution_count": 3,
   "id": "68f1f5f5",
   "metadata": {},
   "outputs": [],
   "source": [
    "from gpt_index import LLMPredictor, GPTSimpleVectorIndex, SimpleDirectoryReader"
   ]
  },
  {
   "cell_type": "code",
   "execution_count": 4,
   "id": "c7d9a4e7",
   "metadata": {},
   "outputs": [],
   "source": [
    "# OpenAIのAPIのラッパー\n",
    "from langchain.llms import OpenAI"
   ]
  },
  {
   "cell_type": "markdown",
   "id": "e03cdd0e",
   "metadata": {},
   "source": [
    "# 利用例"
   ]
  },
  {
   "cell_type": "code",
   "execution_count": 5,
   "id": "674b88fb",
   "metadata": {},
   "outputs": [
    {
     "name": "stdout",
     "output_type": "stream",
     "text": [
      "DEBUG:root:> [SimpleDirectoryReader] Total files added: 1\n"
     ]
    }
   ],
   "source": [
    "from llama_index import (\n",
    "    GPTSimpleVectorIndex, \n",
    "    GPTSimpleKeywordTableIndex, \n",
    "    GPTListIndex, \n",
    "    SimpleDirectoryReader,\n",
    "    GPTTreeIndex\n",
    ")\n",
    "\n",
    "from llama_index import (\n",
    "    GPTKeywordTableIndex, \n",
    "    SimpleDirectoryReader, \n",
    "    LLMPredictor,\n",
    "    PromptHelper\n",
    ")\n",
    "\n",
    "from gpt_index.indices.knowledge_graph.base import GPTKnowledgeGraphIndex\n",
    "from langchain import OpenAI\n",
    "\n",
    "#documents = SimpleDirectoryReader('story/dai').load_data()\n",
    "documents = SimpleDirectoryReader('story/dragonball').load_data()\n",
    "\n",
    "# define prompt helper\n",
    "# set maximum input size\n",
    "max_input_size = 4096\n",
    "# set number of output tokens\n",
    "num_output = 1024+512\n",
    "# set maximum chunk overlap\n",
    "max_chunk_overlap = 0\n",
    "# separatorが\"/n/n\"だとチャンクサイズの計算でエラーになるっぽい。\"。\"の場合は動く模様。\n",
    "prompt_helper = PromptHelper(max_input_size, num_output, max_chunk_overlap, separator=\"。\", chunk_size_limit=512)\n",
    "\n",
    "# define LLM\n",
    "llm_predictor = LLMPredictor(llm=OpenAI(temperature=0, model_name=\"text-davinci-003\", max_tokens=num_output))\n",
    "\n",
    "# build index\n",
    "#d_index = GPTSimpleVectorIndex(documents, prompt_helper=prompt_helper, llm_predictor=llm_predictor)\n",
    "#b_index = GPTTreeIndex(documents, prompt_helper=prompt_helper, llm_predictor=llm_predictor)"
   ]
  },
  {
   "cell_type": "markdown",
   "id": "02ddd308",
   "metadata": {},
   "source": [
    "# keyword_table index"
   ]
  },
  {
   "cell_type": "code",
   "execution_count": 7,
   "id": "b05da2aa",
   "metadata": {},
   "outputs": [
    {
     "name": "stdout",
     "output_type": "stream",
     "text": [
      "DEBUG:root:> Adding chunk: 孫悟空少年編\n",
      "地球の人里離れた山奥に住む尻尾の生えた少年・孫悟空はある日、西の都からやって来た...\n",
      "DEBUG:root:> Adding chunk: \n",
      "\n",
      "その後、悟空は旅の途中に知り合った武術の達人・亀仙人の下で、後に親友となるクリリンと共に8...\n",
      "DEBUG:root:> Adding chunk: 悟空は仇を討つため、道中に出会ったヤジロベーや仙猫カリンの協力を得て命を賭して潜在する力を引き...\n",
      "DEBUG:root:> Adding chunk: \n",
      "\n",
      "サイヤ人編\n",
      "ピッコロ（マジュニア）との闘いから約5年後、息子の孫悟飯を儲けて平和な日々を過...\n",
      "DEBUG:root:> Adding chunk: 仲間の協力もあり、何とか辛勝し撤退させるが、多くの仲間を失うとともに、ピッコロの戦死により彼と...\n",
      "DEBUG:root:> Adding chunk: フリーザの持つ圧倒的な力の前にはベジータやピッコロ、悟空すら歯が立たず仲間たちが次々と命を落と...\n",
      "DEBUG:root:> Adding chunk: トランクスと名乗るその青年は、自分は未来からやってきたブルマとベジータの息子であることを悟空に...\n",
      "DEBUG:root:> Adding chunk: 悟空らは天界にある1日で1年の修行が行えるも過酷な環境に晒される「精神と時の部屋」で修行し、強...\n",
      "DEBUG:root:> Adding chunk: 天下一武道会の最中、悟空たちは界王よりもさらに高位の存在である界王神から、恐ろしい力を持つ魔人...\n",
      "DEBUG:root:> Adding chunk: ドラゴンボールの協力もあり、地球・ナメック星・あの世の人々のエネルギーによって作り上げられた超...\n",
      "DEBUG:openai:message='Request to OpenAI API' method=post path=https://api.openai.com/v1/completions\n",
      "DEBUG:openai:api_version=None data='{\"prompt\": [\"Some text is provided below. Given the text, extract up to 10 keywords from the text. Avoid stopwords.---------------------\\\\n\\\\u5b6b\\\\u609f\\\\u7a7a\\\\u5c11\\\\u5e74\\\\u7de8\\\\n\\\\u5730\\\\u7403\\\\u306e\\\\u4eba\\\\u91cc\\\\u96e2\\\\u308c\\\\u305f\\\\u5c71\\\\u5965\\\\u306b\\\\u4f4f\\\\u3080\\\\u5c3b\\\\u5c3e\\\\u306e\\\\u751f\\\\u3048\\\\u305f\\\\u5c11\\\\u5e74\\\\u30fb\\\\u5b6b\\\\u609f\\\\u7a7a\\\\u306f\\\\u3042\\\\u308b\\\\u65e5\\\\u3001\\\\u897f\\\\u306e\\\\u90fd\\\\u304b\\\\u3089\\\\u3084\\\\u3063\\\\u3066\\\\u6765\\\\u305f\\\\u5c11\\\\u5973\\\\u30fb\\\\u30d6\\\\u30eb\\\\u30de\\\\u3068\\\\u51fa\\\\u4f1a\\\\u3046\\\\u3002\\\\u305d\\\\u3053\\\\u3067\\\\u30017\\\\u3064\\\\u96c6\\\\u3081\\\\u308b\\\\u3068\\\\u795e\\\\u9f8d\\\\uff08\\\\u30b7\\\\u30a7\\\\u30f3\\\\u30ed\\\\u30f3\\\\uff09\\\\u304c\\\\u73fe\\\\u308c\\\\u3001\\\\u3069\\\\u3093\\\\u306a\\\\u9858\\\\u3044\\\\u3067\\\\u3082\\\\u4e00\\\\u3064\\\\u3060\\\\u3051\\\\u53f6\\\\u3048\\\\u3066\\\\u304f\\\\u308c\\\\u308b\\\\u3068\\\\u3044\\\\u3046\\\\u30c9\\\\u30e9\\\\u30b4\\\\u30f3\\\\u30dc\\\\u30fc\\\\u30eb\\\\u306e\\\\u5b58\\\\u5728\\\\u3092\\\\u3001\\\\u3055\\\\u3089\\\\u306b\\\\u80b2\\\\u3066\\\\u306e\\\\u89aa\\\\u3067\\\\u3042\\\\u308b\\\\u5b6b\\\\u609f\\\\u98ef\\\\u306e\\\\u5f62\\\\u898b\\\\u3068\\\\u3057\\\\u3066\\\\u5927\\\\u5207\\\\u306b\\\\u6301\\\\u3063\\\\u3066\\\\u3044\\\\u305f\\\\u7403\\\\u304c\\\\u305d\\\\u306e1\\\\u3064\\\\u300c\\\\u56db\\\\u661f\\\\u7403\\\\uff08\\\\u30b9\\\\u30fc\\\\u30b7\\\\u30f3\\\\u30c1\\\\u30e5\\\\u30a6\\\\uff09\\\\u300d\\\\u3067\\\\u3042\\\\u308b\\\\u3053\\\\u3068\\\\u3092\\\\u77e5\\\\u308a\\\\u3001\\\\u30d6\\\\u30eb\\\\u30de\\\\u3068\\\\u5171\\\\u306b\\\\u6b8b\\\\u308a\\\\u306e\\\\u30c9\\\\u30e9\\\\u30b4\\\\u30f3\\\\u30dc\\\\u30fc\\\\u30eb\\\\u3092\\\\u63a2\\\\u3059\\\\u65c5\\\\u306b\\\\u51fa\\\\u308b\\\\u3002\\\\u4eba\\\\u3055\\\\u3089\\\\u3044\\\\u306e\\\\u30a6\\\\u30fc\\\\u30ed\\\\u30f3\\\\u3084\\\\u76d7\\\\u8cca\\\\u306e\\\\u30e4\\\\u30e0\\\\u30c1\\\\u30e3\\\\u3089\\\\u3092\\\\u5dfb\\\\u304d\\\\u8fbc\\\\u3093\\\\u3060\\\\u30dc\\\\u30fc\\\\u30eb\\\\u63a2\\\\u3057\\\\u306e\\\\u672b\\\\u3001\\\\u4e16\\\\u754c\\\\u5f81\\\\u670d\\\\u3092\\\\u4f01\\\\u3080\\\\u30d4\\\\u30e9\\\\u30d5\\\\u4e00\\\\u5473\\\\u306b\\\\u30dc\\\\u30fc\\\\u30eb\\\\u3092\\\\u596a\\\\u308f\\\\u308c\\\\u795e\\\\u9f8d\\\\u3092\\\\u547c\\\\u3073\\\\u51fa\\\\u3055\\\\u308c\\\\u308b\\\\u304c\\\\u3001\\\\u30a6\\\\u30fc\\\\u30ed\\\\u30f3\\\\u304c\\\\u3068\\\\u3063\\\\u3055\\\\u306b\\\\u8a00\\\\u3044\\\\u653e\\\\u3063\\\\u305f\\\\u4e0b\\\\u3089\\\\u306a\\\\u3044\\\\u9858\\\\u3044\\\\u3092\\\\u53f6\\\\u3048\\\\u3066\\\\u3082\\\\u3089\\\\u3046\\\\u3053\\\\u3068\\\\u3067\\\\u4e00\\\\u5473\\\\u306e\\\\u91ce\\\\u671b\\\\u3092\\\\u963b\\\\u6b62\\\\u3059\\\\u308b\\\\n---------------------\\\\nProvide keywords in the following comma-separated format: \\'KEYWORDS: <keywords>\\'\\\\n\"], \"model\": \"text-davinci-003\", \"temperature\": 0.0, \"max_tokens\": 1536, \"top_p\": 1, \"frequency_penalty\": 0, \"presence_penalty\": 0, \"n\": 1, \"best_of\": 1, \"logit_bias\": {}}' message='Post details'\n",
      "DEBUG:urllib3.connectionpool:https://api.openai.com:443 \"POST /v1/completions HTTP/1.1\" 200 None\n",
      "DEBUG:openai:message='OpenAI API response' path=https://api.openai.com/v1/completions processing_ms=3930 request_id=17b5323d07d8fc11782f744232844ce7 response_code=200\n",
      "DEBUG:root:\n",
      "KEYWORDS: 孫悟空, 少年, 少女, ブルマ, ドラゴンボール, 四星球, ウーロン, 盗賊, ヤムチャ, ピラフ\n",
      "DEBUG:openai:message='Request to OpenAI API' method=post path=https://api.openai.com/v1/completions\n",
      "DEBUG:openai:api_version=None data='{\"prompt\": [\"Some text is provided below. Given the text, extract up to 10 keywords from the text. Avoid stopwords.---------------------\\\\n\\\\n\\\\n\\\\u305d\\\\u306e\\\\u5f8c\\\\u3001\\\\u609f\\\\u7a7a\\\\u306f\\\\u65c5\\\\u306e\\\\u9014\\\\u4e2d\\\\u306b\\\\u77e5\\\\u308a\\\\u5408\\\\u3063\\\\u305f\\\\u6b66\\\\u8853\\\\u306e\\\\u9054\\\\u4eba\\\\u30fb\\\\u4e80\\\\u4ed9\\\\u4eba\\\\u306e\\\\u4e0b\\\\u3067\\\\u3001\\\\u5f8c\\\\u306b\\\\u89aa\\\\u53cb\\\\u3068\\\\u306a\\\\u308b\\\\u30af\\\\u30ea\\\\u30ea\\\\u30f3\\\\u3068\\\\u5171\\\\u306b8\\\\u304b\\\\u6708\\\\u9593\\\\u306b\\\\u308f\\\\u305f\\\\u308b\\\\u4fee\\\\u884c\\\\u3092\\\\u7a4d\\\\u307f\\\\u3001\\\\u305d\\\\u306e\\\\u6210\\\\u679c\\\\u3092\\\\u78ba\\\\u304b\\\\u3081\\\\u308b\\\\u305f\\\\u3081\\\\u306b\\\\u4e16\\\\u754c\\\\u4e00\\\\u306e\\\\u6b66\\\\u8853\\\\u306e\\\\u9054\\\\u4eba\\\\u3092\\\\u6c7a\\\\u3081\\\\u308b\\\\u5929\\\\u4e0b\\\\u4e00\\\\u6b66\\\\u9053\\\\u4f1a\\\\u306b\\\\u51fa\\\\u5834\\\\u3057\\\\u3001\\\\u5909\\\\u88c5\\\\u3057\\\\u3066\\\\u51fa\\\\u5834\\\\u3057\\\\u3066\\\\u3044\\\\u305f\\\\u4e80\\\\u4ed9\\\\u4eba\\\\u306b\\\\u6557\\\\u308c\\\\u308b\\\\u3082\\\\u6e96\\\\u512a\\\\u52dd\\\\u3092\\\\u679c\\\\u305f\\\\u3059\\\\u3002\\\\u609f\\\\u7a7a\\\\u306f\\\\u518d\\\\u3073\\\\u4fee\\\\u884c\\\\u306e\\\\u65c5\\\\u3078\\\\u3068\\\\u51fa\\\\u767a\\\\u3057\\\\u3001\\\\u30c9\\\\u30e9\\\\u30b4\\\\u30f3\\\\u30dc\\\\u30fc\\\\u30eb\\\\u306e\\\\u60aa\\\\u7528\\\\u3092\\\\u4f01\\\\u3080\\\\u30ec\\\\u30c3\\\\u30c9\\\\u30ea\\\\u30dc\\\\u30f3\\\\u8ecd\\\\u3068\\\\u306e\\\\u95d8\\\\u3044\\\\u3084\\\\u3001\\\\u5b6b\\\\u609f\\\\u98ef\\\\u3068\\\\u306e\\\\u518d\\\\u4f1a\\\\u306a\\\\u3069\\\\u3092\\\\u7d4c\\\\u3066\\\\u3055\\\\u3089\\\\u306b\\\\u5f37\\\\u3055\\\\u3092\\\\u5897\\\\u3057\\\\u3066\\\\u3044\\\\u304f\\\\u3002\\\\u3055\\\\u3089\\\\u306b3\\\\u5e74\\\\u5f8c\\\\u306e\\\\u5929\\\\u4e0b\\\\u4e00\\\\u6b66\\\\u9053\\\\u4f1a\\\\u3067\\\\u306f\\\\u3001\\\\u4e80\\\\u4ed9\\\\u6d41\\\\u306e\\\\u30e9\\\\u30a4\\\\u30d0\\\\u30eb\\\\u3067\\\\u3042\\\\u308b\\\\u9db4\\\\u4ed9\\\\u6d41\\\\u306e\\\\u5929\\\\u6d25\\\\u98ef\\\\uff08\\\\u3066\\\\u3093\\\\u3057\\\\u3093\\\\u306f\\\\u3093\\\\uff09\\\\u3068\\\\u95d8\\\\u3046\\\\u304c\\\\u3001\\\\u3042\\\\u3068\\\\u4e00\\\\u6b69\\\\u306e\\\\u3068\\\\u3053\\\\u308d\\\\u3067\\\\u6557\\\\u308c\\\\u3001\\\\u524d\\\\u56de\\\\u3068\\\\u540c\\\\u3058\\\\u304f\\\\u6e96\\\\u512a\\\\u52dd\\\\u306b\\\\u7d42\\\\u308f\\\\u308b\\\\u3002\\\\n\\\\n\\\\u30d4\\\\u30c3\\\\u30b3\\\\u30ed\\\\u5927\\\\u9b54\\\\u738b\\\\u7de8\\\\n\\\\u5929\\\\u4e0b\\\\u4e00\\\\u6b66\\\\u9053\\\\u4f1a\\\\u7d42\\\\u4e86\\\\u5f8c\\\\u3001\\\\u30d4\\\\u30e9\\\\u30d5\\\\u4e00\\\\u5473\\\\u306b\\\\u3088\\\\u3063\\\\u3066\\\\u5fa9\\\\u6d3b\\\\u3057\\\\u305f\\\\u30d4\\\\u30c3\\\\u30b3\\\\u30ed\\\\u5927\\\\u9b54\\\\u738b\\\\u306b\\\\u3088\\\\u3063\\\\u3066\\\\u3001\\\\u30af\\\\u30ea\\\\u30ea\\\\u30f3\\\\u3084\\\\u4e80\\\\u4ed9\\\\u4eba\\\\u306a\\\\u3069\\\\u609f\\\\u7a7a\\\\u306e\\\\u4ef2\\\\u9593\\\\u305f\\\\u3061\\\\u3084\\\\u591a\\\\u304f\\\\u306e\\\\u6b66\\\\u9053\\\\u5bb6\\\\u305f\\\\u3061\\\\u304c\\\\u6bba\\\\u3055\\\\u308c\\\\u308b\\\\n---------------------\\\\nProvide keywords in the following comma-separated format: \\'KEYWORDS: <keywords>\\'\\\\n\"], \"model\": \"text-davinci-003\", \"temperature\": 0.0, \"max_tokens\": 1536, \"top_p\": 1, \"frequency_penalty\": 0, \"presence_penalty\": 0, \"n\": 1, \"best_of\": 1, \"logit_bias\": {}}' message='Post details'\n",
      "DEBUG:urllib3.connectionpool:https://api.openai.com:443 \"POST /v1/completions HTTP/1.1\" 200 None\n",
      "DEBUG:openai:message='OpenAI API response' path=https://api.openai.com/v1/completions processing_ms=2940 request_id=00afd0d6f0297d82b71904a18bde1769 response_code=200\n",
      "DEBUG:root:\n",
      "KEYWORDS: 悟空, 亀仙人, クリリン, 修行, 天下一武道会, レッドリボン軍, 孫悟飯, 鶴仙流, 天津飯, ピッコロ大魔王\n",
      "DEBUG:openai:message='Request to OpenAI API' method=post path=https://api.openai.com/v1/completions\n",
      "DEBUG:openai:api_version=None data='{\"prompt\": [\"Some text is provided below. Given the text, extract up to 10 keywords from the text. Avoid stopwords.---------------------\\\\n\\\\u609f\\\\u7a7a\\\\u306f\\\\u4ec7\\\\u3092\\\\u8a0e\\\\u3064\\\\u305f\\\\u3081\\\\u3001\\\\u9053\\\\u4e2d\\\\u306b\\\\u51fa\\\\u4f1a\\\\u3063\\\\u305f\\\\u30e4\\\\u30b8\\\\u30ed\\\\u30d9\\\\u30fc\\\\u3084\\\\u4ed9\\\\u732b\\\\u30ab\\\\u30ea\\\\u30f3\\\\u306e\\\\u5354\\\\u529b\\\\u3092\\\\u5f97\\\\u3066\\\\u547d\\\\u3092\\\\u8ced\\\\u3057\\\\u3066\\\\u6f5c\\\\u5728\\\\u3059\\\\u308b\\\\u529b\\\\u3092\\\\u5f15\\\\u304d\\\\u51fa\\\\u3057\\\\u3001\\\\u30d4\\\\u30c3\\\\u30b3\\\\u30ed\\\\u5927\\\\u9b54\\\\u738b\\\\u306b\\\\u95d8\\\\u3044\\\\u3092\\\\u6311\\\\u307f\\\\u52dd\\\\u5229\\\\u3059\\\\u308b\\\\u3002\\\\u95d8\\\\u3044\\\\u306e\\\\u5f8c\\\\u3001\\\\u609f\\\\u7a7a\\\\u306f\\\\u30d4\\\\u30c3\\\\u30b3\\\\u30ed\\\\u5927\\\\u9b54\\\\u738b\\\\u306b\\\\u6bba\\\\u3055\\\\u308c\\\\u305f\\\\u795e\\\\u9f8d\\\\u3084\\\\u4ef2\\\\u9593\\\\u305f\\\\u3061\\\\u306e\\\\u5fa9\\\\u6d3b\\\\u306e\\\\u305f\\\\u3081\\\\u5929\\\\u754c\\\\u3078\\\\u5411\\\\u304b\\\\u3044\\\\u3001\\\\u30c9\\\\u30e9\\\\u30b4\\\\u30f3\\\\u30dc\\\\u30fc\\\\u30eb\\\\u306e\\\\u5275\\\\u9020\\\\u8005\\\\u3067\\\\u3042\\\\u308b\\\\u795e\\\\u306b\\\\u4f1a\\\\u3046\\\\u3002\\\\u305d\\\\u3053\\\\u3067\\\\u795e\\\\u9f8d\\\\u5fa9\\\\u6d3b\\\\u306e\\\\u6761\\\\u4ef6\\\\u3068\\\\u3057\\\\u3066\\\\u3001\\\\u795e\\\\u306e\\\\u4e0b\\\\u3067\\\\u5929\\\\u754c\\\\u3067\\\\u4fee\\\\u884c\\\\u3059\\\\u308b\\\\u3053\\\\u3068\\\\u3068\\\\u306a\\\\u3063\\\\u305f\\\\u3002\\\\n\\\\n\\\\u305d\\\\u306e\\\\u7d043\\\\u5e74\\\\u5f8c\\\\u3001\\\\u5c11\\\\u5e74\\\\u304b\\\\u3089\\\\u9752\\\\u5e74\\\\u3078\\\\u3068\\\\u6210\\\\u9577\\\\u3057\\\\u305f\\\\u609f\\\\u7a7a\\\\u306f\\\\u3001\\\\u5929\\\\u4e0b\\\\u4e00\\\\u6b66\\\\u9053\\\\u4f1a\\\\u306e\\\\u4f1a\\\\u5834\\\\u3067\\\\u4ef2\\\\u9593\\\\u305f\\\\u3061\\\\u3068\\\\u518d\\\\u4f1a\\\\u3002\\\\u8a66\\\\u5408\\\\u3067\\\\u306f\\\\u3001\\\\u5c11\\\\u5e74\\\\u6642\\\\u4ee3\\\\u306b\\\\u51fa\\\\u4f1a\\\\u3063\\\\u305f\\\\u969b\\\\u306b\\\\u300c\\\\u5ac1\\\\u306b\\\\u3082\\\\u3089\\\\u3046\\\\u300d\\\\u3068\\\\u7d04\\\\u675f\\\\u3057\\\\u3066\\\\u3044\\\\u305f\\\\u725b\\\\u9b54\\\\u738b\\\\u306e\\\\u5a18\\\\u30fb\\\\u30c1\\\\u30c1\\\\u3068\\\\u518d\\\\u4f1a\\\\u3057\\\\u305d\\\\u306e\\\\u5834\\\\u3067\\\\u7d50\\\\u5a5a\\\\u3002\\\\u305d\\\\u3057\\\\u3066\\\\u6b66\\\\u9053\\\\u4f1a\\\\u306b\\\\u51fa\\\\u5834\\\\u3057\\\\u3066\\\\u3044\\\\u305f\\\\u30d4\\\\u30c3\\\\u30b3\\\\u30ed\\\\u5927\\\\u9b54\\\\u738b\\\\u306e\\\\u751f\\\\u307e\\\\u308c\\\\u5909\\\\u308f\\\\u308a\\\\u3067\\\\u3042\\\\u308b\\\\u30de\\\\u30b8\\\\u30e5\\\\u30cb\\\\u30a2\\\\u3068\\\\u6c7a\\\\u52dd\\\\u6226\\\\u3067\\\\u6fc0\\\\u7a81\\\\u3001\\\\u3053\\\\u308c\\\\u306b\\\\u52dd\\\\u5229\\\\u3057\\\\u521d\\\\u306e\\\\u5929\\\\u4e0b\\\\u4e00\\\\u6b66\\\\u9053\\\\u4f1a\\\\u512a\\\\u52dd\\\\u3092\\\\u98fe\\\\u308b\\\\n---------------------\\\\nProvide keywords in the following comma-separated format: \\'KEYWORDS: <keywords>\\'\\\\n\"], \"model\": \"text-davinci-003\", \"temperature\": 0.0, \"max_tokens\": 1536, \"top_p\": 1, \"frequency_penalty\": 0, \"presence_penalty\": 0, \"n\": 1, \"best_of\": 1, \"logit_bias\": {}}' message='Post details'\n"
     ]
    },
    {
     "name": "stdout",
     "output_type": "stream",
     "text": [
      "DEBUG:urllib3.connectionpool:https://api.openai.com:443 \"POST /v1/completions HTTP/1.1\" 200 None\n",
      "DEBUG:openai:message='OpenAI API response' path=https://api.openai.com/v1/completions processing_ms=2729 request_id=46dca308111e0004097da3bcdbdaae34 response_code=200\n",
      "DEBUG:root:\n",
      "KEYWORDS: 悟空, ヤジロベー, 仙猫カリン, ピッコロ大魔王, 神龍, 仲間, 天界, 修行, 青年, 牛魔王, チチ, マジュニア, 決勝戦, 優勝\n",
      "DEBUG:openai:message='Request to OpenAI API' method=post path=https://api.openai.com/v1/completions\n",
      "DEBUG:openai:api_version=None data='{\"prompt\": [\"Some text is provided below. Given the text, extract up to 10 keywords from the text. Avoid stopwords.---------------------\\\\n\\\\n\\\\n\\\\u30b5\\\\u30a4\\\\u30e4\\\\u4eba\\\\u7de8\\\\n\\\\u30d4\\\\u30c3\\\\u30b3\\\\u30ed\\\\uff08\\\\u30de\\\\u30b8\\\\u30e5\\\\u30cb\\\\u30a2\\\\uff09\\\\u3068\\\\u306e\\\\u95d8\\\\u3044\\\\u304b\\\\u3089\\\\u7d045\\\\u5e74\\\\u5f8c\\\\u3001\\\\u606f\\\\u5b50\\\\u306e\\\\u5b6b\\\\u609f\\\\u98ef\\\\u3092\\\\u5132\\\\u3051\\\\u3066\\\\u5e73\\\\u548c\\\\u306a\\\\u65e5\\\\u3005\\\\u3092\\\\u904e\\\\u3054\\\\u3057\\\\u3066\\\\u3044\\\\u305f\\\\u609f\\\\u7a7a\\\\u306e\\\\u3082\\\\u3068\\\\u306b\\\\u3001\\\\u5b9f\\\\u5144\\\\u30fb\\\\u30e9\\\\u30c7\\\\u30a3\\\\u30c3\\\\u30c4\\\\u304c\\\\u5b87\\\\u5b99\\\\u3088\\\\u308a\\\\u6765\\\\u8972\\\\u3057\\\\u3001\\\\u81ea\\\\u5206\\\\u304c\\\\u60d1\\\\u661f\\\\u30d9\\\\u30b8\\\\u30fc\\\\u30bf\\\\u306e\\\\u6226\\\\u95d8\\\\u6c11\\\\u65cf\\\\u30fb\\\\u30b5\\\\u30a4\\\\u30e4\\\\u4eba\\\\u3067\\\\u3042\\\\u308b\\\\u3053\\\\u3068\\\\u3092\\\\u77e5\\\\u3089\\\\u3055\\\\u308c\\\\u308b\\\\u3002\\\\u3055\\\\u3089\\\\u308f\\\\u308c\\\\u305f\\\\u5b6b\\\\u609f\\\\u98ef\\\\u3092\\\\u52a9\\\\u3051\\\\u308b\\\\u305f\\\\u3081\\\\u609f\\\\u7a7a\\\\u306f\\\\u5bbf\\\\u6575\\\\u30d4\\\\u30c3\\\\u30b3\\\\u30ed\\\\u3068\\\\u624b\\\\u3092\\\\u7d44\\\\u307f\\\\u3001\\\\u81ea\\\\u3089\\\\u306e\\\\u547d\\\\u3068\\\\u5f15\\\\u304d\\\\u63db\\\\u3048\\\\u306b\\\\u30e9\\\\u30c7\\\\u30a3\\\\u30c3\\\\u30c4\\\\u3092\\\\u5012\\\\u3059\\\\u304c\\\\u3001\\\\u7d041\\\\u5e74\\\\u5f8c\\\\u306b\\\\u306f\\\\u3055\\\\u3089\\\\u306b\\\\u5f37\\\\u529b\\\\u306a\\\\u30b5\\\\u30a4\\\\u30e4\\\\u4eba\\\\u305f\\\\u3061\\\\u304c\\\\u30c9\\\\u30e9\\\\u30b4\\\\u30f3\\\\u30dc\\\\u30fc\\\\u30eb\\\\u3092\\\\u6c42\\\\u3081\\\\u3066\\\\u5730\\\\u7403\\\\u306b\\\\u6765\\\\u8972\\\\u3059\\\\u308b\\\\u3053\\\\u3068\\\\u3092\\\\u77e5\\\\u308b\\\\u3002\\\\n\\\\n\\\\u609f\\\\u7a7a\\\\u306f\\\\u30c9\\\\u30e9\\\\u30b4\\\\u30f3\\\\u30dc\\\\u30fc\\\\u30eb\\\\u306b\\\\u3088\\\\u3063\\\\u3066\\\\u751f\\\\u304d\\\\u8fd4\\\\u308b\\\\u307e\\\\u3067\\\\u306e\\\\u9593\\\\u3001\\\\u3042\\\\u306e\\\\u4e16\\\\u306e\\\\u754c\\\\u738b\\\\u306e\\\\u4e0b\\\\u3067\\\\u4fee\\\\u696d\\\\u3057\\\\u3001\\\\u4ef2\\\\u9593\\\\u3068\\\\u5171\\\\u306b\\\\u5730\\\\u7403\\\\u306b\\\\u5f37\\\\u8972\\\\u3057\\\\u305f\\\\u30b5\\\\u30a4\\\\u30e4\\\\u4eba\\\\u306e\\\\u6226\\\\u58eb\\\\u30fb\\\\u30ca\\\\u30c3\\\\u30d1\\\\u3068\\\\u738b\\\\u5b50\\\\u30fb\\\\u30d9\\\\u30b8\\\\u30fc\\\\u30bf\\\\u3092\\\\u8fce\\\\u3048\\\\u6483\\\\u3064\\\\u3002\\\\u609f\\\\u7a7a\\\\u306f\\\\u4fee\\\\u884c\\\\u306b\\\\u3088\\\\u308a\\\\u5897\\\\u3057\\\\u305f\\\\u529b\\\\u3067\\\\u30ca\\\\u30c3\\\\u30d1\\\\u3092\\\\u4e00\\\\u8e74\\\\u3057\\\\u3001\\\\u30d9\\\\u30b8\\\\u30fc\\\\u30bf\\\\u3068\\\\u6c7a\\\\u95d8\\\\n---------------------\\\\nProvide keywords in the following comma-separated format: \\'KEYWORDS: <keywords>\\'\\\\n\"], \"model\": \"text-davinci-003\", \"temperature\": 0.0, \"max_tokens\": 1536, \"top_p\": 1, \"frequency_penalty\": 0, \"presence_penalty\": 0, \"n\": 1, \"best_of\": 1, \"logit_bias\": {}}' message='Post details'\n",
      "DEBUG:urllib3.connectionpool:https://api.openai.com:443 \"POST /v1/completions HTTP/1.1\" 200 None\n",
      "DEBUG:openai:message='OpenAI API response' path=https://api.openai.com/v1/completions processing_ms=2671 request_id=9217eb8645dcd8b8bcc1a8733d001f9a response_code=200\n",
      "DEBUG:root:\n",
      "KEYWORDS: サイヤ人, ピッコロ, 悟空, ラディッツ, 孫悟飯, 惑星ベジータ, ドラゴンボール, 界王, 修業, ナッパ, 王子, ベジータ\n",
      "DEBUG:openai:message='Request to OpenAI API' method=post path=https://api.openai.com/v1/completions\n",
      "DEBUG:openai:api_version=None data='{\"prompt\": [\"Some text is provided below. Given the text, extract up to 10 keywords from the text. Avoid stopwords.---------------------\\\\n\\\\u4ef2\\\\u9593\\\\u306e\\\\u5354\\\\u529b\\\\u3082\\\\u3042\\\\u308a\\\\u3001\\\\u4f55\\\\u3068\\\\u304b\\\\u8f9b\\\\u52dd\\\\u3057\\\\u64a4\\\\u9000\\\\u3055\\\\u305b\\\\u308b\\\\u304c\\\\u3001\\\\u591a\\\\u304f\\\\u306e\\\\u4ef2\\\\u9593\\\\u3092\\\\u5931\\\\u3046\\\\u3068\\\\u3068\\\\u3082\\\\u306b\\\\u3001\\\\u30d4\\\\u30c3\\\\u30b3\\\\u30ed\\\\u306e\\\\u6226\\\\u6b7b\\\\u306b\\\\u3088\\\\u308a\\\\u5f7c\\\\u3068\\\\u4e00\\\\u5fc3\\\\u540c\\\\u4f53\\\\u3067\\\\u3042\\\\u3063\\\\u305f\\\\u795e\\\\u3082\\\\u6b7b\\\\u4ea1\\\\u3057\\\\u3001\\\\u5730\\\\u7403\\\\u306e\\\\u30c9\\\\u30e9\\\\u30b4\\\\u30f3\\\\u30dc\\\\u30fc\\\\u30eb\\\\u3082\\\\u6d88\\\\u6ec5\\\\u3059\\\\u308b\\\\u3002\\\\n\\\\n\\\\u30d5\\\\u30ea\\\\u30fc\\\\u30b6\\\\u7de8\\\\n\\\\u5730\\\\u7403\\\\u306e\\\\u795e\\\\u3068\\\\u6bba\\\\u3055\\\\u308c\\\\u305f\\\\u4ef2\\\\u9593\\\\u305f\\\\u3061\\\\u3092\\\\u7526\\\\u3089\\\\u305b\\\\u308b\\\\u305f\\\\u3081\\\\u3001\\\\u91cd\\\\u50b7\\\\u3067\\\\u5165\\\\u9662\\\\u4e2d\\\\u306e\\\\u609f\\\\u7a7a\\\\u306b\\\\u4ee3\\\\u308f\\\\u308a\\\\u3001\\\\u609f\\\\u98ef\\\\u3001\\\\u30af\\\\u30ea\\\\u30ea\\\\u30f3\\\\u3001\\\\u30d6\\\\u30eb\\\\u30de\\\\u306e3\\\\u4eba\\\\u304c\\\\u795e\\\\u3068\\\\u30d4\\\\u30c3\\\\u30b3\\\\u30ed\\\\u306e\\\\u6545\\\\u90f7\\\\u3067\\\\u3042\\\\u308b\\\\u30ca\\\\u30e1\\\\u30c3\\\\u30af\\\\u661f\\\\u3078\\\\u5411\\\\u304b\\\\u3046\\\\u3002\\\\u3060\\\\u304c\\\\u3001\\\\u305d\\\\u3053\\\\u306b\\\\u306f\\\\u5730\\\\u7403\\\\u3067\\\\u95d8\\\\u3063\\\\u305f\\\\u30d9\\\\u30b8\\\\u30fc\\\\u30bf\\\\u3084\\\\u3001\\\\u754c\\\\u738b\\\\u3059\\\\u3089\\\\u754f\\\\u6016\\\\u3059\\\\u308b\\\\u5b87\\\\u5b99\\\\u306e\\\\u5e1d\\\\u738b\\\\u30fb\\\\u30d5\\\\u30ea\\\\u30fc\\\\u30b6\\\\u3068\\\\u305d\\\\u306e\\\\u4e00\\\\u5473\\\\u304c\\\\u4e0d\\\\u8001\\\\u4e0d\\\\u6b7b\\\\u3092\\\\u6c42\\\\u3081\\\\u3066\\\\u6765\\\\u8972\\\\u3057\\\\u3001\\\\u30ca\\\\u30e1\\\\u30c3\\\\u30af\\\\u661f\\\\u4eba\\\\u3092\\\\u8650\\\\u6bba\\\\u3057\\\\u306a\\\\u304c\\\\u3089\\\\u30c9\\\\u30e9\\\\u30b4\\\\u30f3\\\\u30dc\\\\u30fc\\\\u30eb\\\\u3092\\\\u7565\\\\u596a\\\\u3057\\\\u3066\\\\u3044\\\\u305f\\\\u3002\\\\u609f\\\\u98ef\\\\u305f\\\\u3061\\\\u306f\\\\u30d9\\\\u30b8\\\\u30fc\\\\u30bf\\\\u3001\\\\u30d5\\\\u30ea\\\\u30fc\\\\u30b6\\\\u4e00\\\\u5473\\\\u3068\\\\u306e\\\\u30c9\\\\u30e9\\\\u30b4\\\\u30f3\\\\u30dc\\\\u30fc\\\\u30eb\\\\u3092\\\\u3081\\\\u3050\\\\u308b\\\\u4e09\\\\u3064\\\\u5df4\\\\u306e\\\\u653b\\\\u9632\\\\u306e\\\\u672b\\\\u3001\\\\u5f8c\\\\u304b\\\\u3089\\\\u5230\\\\u7740\\\\u3057\\\\u305f\\\\u609f\\\\u7a7a\\\\u3068\\\\u30ca\\\\u30e1\\\\u30c3\\\\u30af\\\\u661f\\\\u4eba\\\\u305f\\\\u3061\\\\u306e\\\\u5354\\\\u529b\\\\u3092\\\\u5f97\\\\u3066\\\\u30ca\\\\u30e1\\\\u30c3\\\\u30af\\\\u661f\\\\u306e\\\\u795e\\\\u9f8d\\\\u30fb\\\\u30dd\\\\u30eb\\\\u30f3\\\\u30ac\\\\u3092\\\\u547c\\\\u3073\\\\u51fa\\\\u3057\\\\u3001\\\\u30d4\\\\u30c3\\\\u30b3\\\\u30ed\\\\u3068\\\\u5730\\\\u7403\\\\u306e\\\\u30c9\\\\u30e9\\\\u30b4\\\\u30f3\\\\u30dc\\\\u30fc\\\\u30eb\\\\u3092\\\\u5fa9\\\\u6d3b\\\\u3055\\\\u305b\\\\u308b\\\\u3002\\\\n\\\\n\\\\u51fa\\\\u3057\\\\u629c\\\\u304b\\\\u308c\\\\u3066\\\\u9858\\\\u3044\\\\u304c\\\\u53f6\\\\u3048\\\\u3089\\\\u308c\\\\u306a\\\\u304b\\\\u3063\\\\u305f\\\\u30d5\\\\u30ea\\\\u30fc\\\\u30b6\\\\u306f\\\\u6fc0\\\\u6012\\\\u3057\\\\u3001\\\\u4e00\\\\u884c\\\\u306f\\\\u5bfe\\\\u6c7a\\\\u3092\\\\u5f37\\\\u3044\\\\u3089\\\\u308c\\\\u308b\\\\n---------------------\\\\nProvide keywords in the following comma-separated format: \\'KEYWORDS: <keywords>\\'\\\\n\"], \"model\": \"text-davinci-003\", \"temperature\": 0.0, \"max_tokens\": 1536, \"top_p\": 1, \"frequency_penalty\": 0, \"presence_penalty\": 0, \"n\": 1, \"best_of\": 1, \"logit_bias\": {}}' message='Post details'\n",
      "DEBUG:urllib3.connectionpool:https://api.openai.com:443 \"POST /v1/completions HTTP/1.1\" 200 None\n",
      "DEBUG:openai:message='OpenAI API response' path=https://api.openai.com/v1/completions processing_ms=4617 request_id=8b19ba529cd972a2f804fe06bb3fdc28 response_code=200\n",
      "DEBUG:root:\n",
      "KEYWORDS: 仲間, 協力, 辛勝, 撤退, 死亡, ピッコロ, 戦死, 地球, ドラゴンボール, 悟空, 悟飯, クリリン, ブルマ, ナメック星, ベジータ, 界王, 帝王, フリーザ, 一味, 神龍, ポルンガ, 対決\n",
      "DEBUG:openai:message='Request to OpenAI API' method=post path=https://api.openai.com/v1/completions\n",
      "DEBUG:openai:api_version=None data='{\"prompt\": [\"Some text is provided below. Given the text, extract up to 10 keywords from the text. Avoid stopwords.---------------------\\\\n\\\\u30d5\\\\u30ea\\\\u30fc\\\\u30b6\\\\u306e\\\\u6301\\\\u3064\\\\u5727\\\\u5012\\\\u7684\\\\u306a\\\\u529b\\\\u306e\\\\u524d\\\\u306b\\\\u306f\\\\u30d9\\\\u30b8\\\\u30fc\\\\u30bf\\\\u3084\\\\u30d4\\\\u30c3\\\\u30b3\\\\u30ed\\\\u3001\\\\u609f\\\\u7a7a\\\\u3059\\\\u3089\\\\u6b6f\\\\u304c\\\\u7acb\\\\u305f\\\\u305a\\\\u4ef2\\\\u9593\\\\u305f\\\\u3061\\\\u304c\\\\u6b21\\\\u3005\\\\u3068\\\\u547d\\\\u3092\\\\u843d\\\\u3068\\\\u3057\\\\u3066\\\\u3044\\\\u3063\\\\u305f\\\\u3002\\\\u6012\\\\u308a\\\\u3092\\\\u7206\\\\u767a\\\\u3055\\\\u305b\\\\u305f\\\\u609f\\\\u7a7a\\\\u306f\\\\u4f1d\\\\u8aac\\\\u306e\\\\u6226\\\\u58eb\\\\u30fb\\\\u8d85\\\\uff08\\\\u30b9\\\\u30fc\\\\u30d1\\\\u30fc\\\\uff09\\\\u30b5\\\\u30a4\\\\u30e4\\\\u4eba\\\\u3078\\\\u3068\\\\u899a\\\\u9192\\\\u3002\\\\u30d5\\\\u30eb\\\\u30d1\\\\u30ef\\\\u30fc\\\\u3092\\\\u89e3\\\\u653e\\\\u3057\\\\u305f\\\\u30d5\\\\u30ea\\\\u30fc\\\\u30b6\\\\u306b\\\\u52dd\\\\u5229\\\\u3059\\\\u308b\\\\u3002\\\\u30dd\\\\u30eb\\\\u30f3\\\\u30ac\\\\u306b\\\\u3088\\\\u3063\\\\u3066\\\\u5730\\\\u7403\\\\u306b\\\\u5e30\\\\u9084\\\\u3057\\\\u305f\\\\u609f\\\\u98ef\\\\u305f\\\\u3061\\\\u306f\\\\u5fa9\\\\u6d3b\\\\u3057\\\\u305f\\\\u30c9\\\\u30e9\\\\u30b4\\\\u30f3\\\\u30dc\\\\u30fc\\\\u30eb\\\\u306b\\\\u3088\\\\u308a\\\\u30b5\\\\u30a4\\\\u30e4\\\\u4eba\\\\u3084\\\\u30d5\\\\u30ea\\\\u30fc\\\\u30b6\\\\u4e00\\\\u5473\\\\u306b\\\\u6bba\\\\u3055\\\\u308c\\\\u305f\\\\u4eba\\\\u3005\\\\u3092\\\\u8607\\\\u751f\\\\u3055\\\\u305b\\\\u305f\\\\u3002\\\\u4e00\\\\u65b9\\\\u306e\\\\u609f\\\\u7a7a\\\\u3082\\\\u7206\\\\u767a\\\\u3059\\\\u308b\\\\u30ca\\\\u30e1\\\\u30c3\\\\u30af\\\\u661f\\\\u3092\\\\u8f9b\\\\u304f\\\\u3082\\\\u8131\\\\u51fa\\\\u3001\\\\u30e4\\\\u30fc\\\\u30c9\\\\u30e9\\\\u30c3\\\\u30c8\\\\u661f\\\\u306b\\\\u6f02\\\\u7740\\\\u3057\\\\u4e00\\\\u547d\\\\u3092\\\\u53d6\\\\u308a\\\\u7559\\\\u3081\\\\u305f\\\\u3002\\\\n\\\\n\\\\u4eba\\\\u9020\\\\u4eba\\\\u9593\\\\u30fb\\\\u30bb\\\\u30eb\\\\u7de8\\\\n\\\\u30ca\\\\u30e1\\\\u30c3\\\\u30af\\\\u661f\\\\u3067\\\\u306e\\\\u95d8\\\\u3044\\\\u304b\\\\u3089\\\\u7d041\\\\u5e74\\\\u5f8c\\\\u3001\\\\u5bc6\\\\u304b\\\\u306b\\\\u751f\\\\u304d\\\\u5ef6\\\\u3073\\\\u3066\\\\u3044\\\\u305f\\\\u30d5\\\\u30ea\\\\u30fc\\\\u30b6\\\\u3068\\\\u305d\\\\u306e\\\\u4e00\\\\u5473\\\\u304c\\\\u5730\\\\u7403\\\\u3092\\\\u8972\\\\u6483\\\\u3059\\\\u308b\\\\u304c\\\\u3001\\\\u8b0e\\\\u306e\\\\u8d85\\\\u30b5\\\\u30a4\\\\u30e4\\\\u4eba\\\\u306b\\\\u3088\\\\u3063\\\\u3066\\\\u6483\\\\u9000\\\\u3055\\\\u308c\\\\u308b\\\\n---------------------\\\\nProvide keywords in the following comma-separated format: \\'KEYWORDS: <keywords>\\'\\\\n\"], \"model\": \"text-davinci-003\", \"temperature\": 0.0, \"max_tokens\": 1536, \"top_p\": 1, \"frequency_penalty\": 0, \"presence_penalty\": 0, \"n\": 1, \"best_of\": 1, \"logit_bias\": {}}' message='Post details'\n"
     ]
    },
    {
     "name": "stdout",
     "output_type": "stream",
     "text": [
      "DEBUG:urllib3.connectionpool:https://api.openai.com:443 \"POST /v1/completions HTTP/1.1\" 200 None\n",
      "DEBUG:openai:message='OpenAI API response' path=https://api.openai.com/v1/completions processing_ms=2286 request_id=12a081e8eedf71d9bc66880d7d0d3c82 response_code=200\n",
      "DEBUG:root:\n",
      "KEYWORDS: フリーザ, ベジータ, ピッコロ, 悟空, 伝説, 超サイヤ人, ポルンガ, 地球, ドラゴンボール, 蘇生\n",
      "DEBUG:openai:message='Request to OpenAI API' method=post path=https://api.openai.com/v1/completions\n",
      "DEBUG:openai:api_version=None data='{\"prompt\": [\"Some text is provided below. Given the text, extract up to 10 keywords from the text. Avoid stopwords.---------------------\\\\n\\\\u30c8\\\\u30e9\\\\u30f3\\\\u30af\\\\u30b9\\\\u3068\\\\u540d\\\\u4e57\\\\u308b\\\\u305d\\\\u306e\\\\u9752\\\\u5e74\\\\u306f\\\\u3001\\\\u81ea\\\\u5206\\\\u306f\\\\u672a\\\\u6765\\\\u304b\\\\u3089\\\\u3084\\\\u3063\\\\u3066\\\\u304d\\\\u305f\\\\u30d6\\\\u30eb\\\\u30de\\\\u3068\\\\u30d9\\\\u30b8\\\\u30fc\\\\u30bf\\\\u306e\\\\u606f\\\\u5b50\\\\u3067\\\\u3042\\\\u308b\\\\u3053\\\\u3068\\\\u3092\\\\u609f\\\\u7a7a\\\\u306b\\\\u3060\\\\u3051\\\\u660e\\\\u304b\\\\u3059\\\\u3068\\\\u540c\\\\u6642\\\\u306b\\\\u3001\\\\u609f\\\\u7a7a\\\\u306f\\\\u5fc3\\\\u81d3\\\\u75c5\\\\u306b\\\\u3088\\\\u3063\\\\u3066\\\\u547d\\\\u3092\\\\u843d\\\\u3068\\\\u3059\\\\u3053\\\\u3068\\\\u30013\\\\u5e74\\\\u5f8c\\\\u306b\\\\u73fe\\\\u308c\\\\u308b2\\\\u4f53\\\\u306e\\\\u4eba\\\\u9020\\\\u4eba\\\\u9593\\\\u304c\\\\u7d76\\\\u671b\\\\u306e\\\\u672a\\\\u6765\\\\u3092\\\\u3082\\\\u305f\\\\u3089\\\\u3059\\\\u3053\\\\u3068\\\\u3092\\\\u544a\\\\u3052\\\\u308b\\\\u3002\\\\u305d\\\\u306e\\\\u5f8c\\\\u672c\\\\u5f53\\\\u306b\\\\u5fc3\\\\u81d3\\\\u75c5\\\\u306b\\\\u3088\\\\u3063\\\\u3066\\\\u5371\\\\u7be4\\\\u72b6\\\\u614b\\\\u306b\\\\u306a\\\\u308b\\\\u3082\\\\u3001\\\\u30c8\\\\u30e9\\\\u30f3\\\\u30af\\\\u30b9\\\\u304b\\\\u3089\\\\u6e21\\\\u3055\\\\u308c\\\\u305f\\\\u7279\\\\u52b9\\\\u85ac\\\\u306b\\\\u3088\\\\u3063\\\\u3066\\\\u751f\\\\u9084\\\\u3001\\\\u6765\\\\u308b\\\\u3079\\\\u304d\\\\u65e5\\\\u306b\\\\u5099\\\\u3048\\\\u30663\\\\u5e74\\\\u9593\\\\u5404\\\\u3005\\\\u306b\\\\u4fee\\\\u884c\\\\u3057\\\\u3066\\\\u305d\\\\u306e\\\\u65e5\\\\u3092\\\\u8fce\\\\u3048\\\\u308b\\\\u609f\\\\u7a7a\\\\u305f\\\\u3061\\\\u3067\\\\u3042\\\\u3063\\\\u305f\\\\u304c\\\\u3001\\\\u4e8b\\\\u614b\\\\u306f\\\\u30c8\\\\u30e9\\\\u30f3\\\\u30af\\\\u30b9\\\\u304c\\\\u77e5\\\\u3063\\\\u3066\\\\u3044\\\\u308b\\\\u6b74\\\\u53f2\\\\u3068\\\\u306f\\\\u5927\\\\u304d\\\\u304f\\\\u9055\\\\u3046\\\\u3082\\\\u306e\\\\u3068\\\\u306a\\\\u308a\\\\u3001\\\\u5f7c\\\\u3055\\\\u3048\\\\u77e5\\\\u3089\\\\u306a\\\\u304b\\\\u3063\\\\u305f\\\\u4eba\\\\u9020\\\\u4eba\\\\u9593\\\\u305f\\\\u3061\\\\u307e\\\\u3067\\\\u73fe\\\\u308c\\\\u3001\\\\u3055\\\\u3089\\\\u306b\\\\u7a76\\\\u6975\\\\u306e\\\\u4eba\\\\u9020\\\\u4eba\\\\u9593\\\\u30fb\\\\u30bb\\\\u30eb\\\\u304c\\\\u672a\\\\u6765\\\\u304b\\\\u3089\\\\u51fa\\\\u73fe\\\\u3002\\\\u609f\\\\u7a7a\\\\u3089\\\\u306e\\\\u60f3\\\\u5b9a\\\\u3092\\\\u9065\\\\u304b\\\\u306b\\\\u8d85\\\\u3048\\\\u305f\\\\u6226\\\\u58eb\\\\u304c\\\\u7d9a\\\\u3005\\\\u3068\\\\u73fe\\\\u308c\\\\u305f\\\\u3002\\\\n\\\\n\\\\u4eba\\\\u9020\\\\u4eba\\\\u959317\\\\u53f7\\\\u3068\\\\u4eba\\\\u9020\\\\u4eba\\\\u959318\\\\u53f7\\\\u3092\\\\u5438\\\\u53ce\\\\u3059\\\\u308b\\\\u3053\\\\u3068\\\\u3067\\\\u5b8c\\\\u5168\\\\u4f53\\\\u3068\\\\u306a\\\\u3063\\\\u305f\\\\u30bb\\\\u30eb\\\\u306f\\\\u5730\\\\u7403\\\\u306e\\\\u547d\\\\u904b\\\\u3092\\\\u8ced\\\\u3051\\\\u305f\\\\u6b66\\\\u9053\\\\u4f1a\\\\u300c\\\\u30bb\\\\u30eb\\\\u30b2\\\\u30fc\\\\u30e0\\\\u300d\\\\u306e\\\\u958b\\\\u50ac\\\\u3092\\\\u5168\\\\u4e16\\\\u754c\\\\u306b\\\\u5ba3\\\\u8a00\\\\u3059\\\\u308b\\\\n---------------------\\\\nProvide keywords in the following comma-separated format: \\'KEYWORDS: <keywords>\\'\\\\n\"], \"model\": \"text-davinci-003\", \"temperature\": 0.0, \"max_tokens\": 1536, \"top_p\": 1, \"frequency_penalty\": 0, \"presence_penalty\": 0, \"n\": 1, \"best_of\": 1, \"logit_bias\": {}}' message='Post details'\n",
      "DEBUG:urllib3.connectionpool:https://api.openai.com:443 \"POST /v1/completions HTTP/1.1\" 200 None\n",
      "DEBUG:openai:message='OpenAI API response' path=https://api.openai.com/v1/completions processing_ms=2945 request_id=711df1fb84570614888cd0a84f755dbc response_code=200\n",
      "DEBUG:root:\n",
      "KEYWORDS: トランクス, ブルマ, ベジータ, 悟空, 心臓病, 人造人間, 究極, セル, 武道会, セルゲーム\n",
      "DEBUG:openai:message='Request to OpenAI API' method=post path=https://api.openai.com/v1/completions\n",
      "DEBUG:openai:api_version=None data='{\"prompt\": [\"Some text is provided below. Given the text, extract up to 10 keywords from the text. Avoid stopwords.---------------------\\\\n\\\\u609f\\\\u7a7a\\\\u3089\\\\u306f\\\\u5929\\\\u754c\\\\u306b\\\\u3042\\\\u308b1\\\\u65e5\\\\u30671\\\\u5e74\\\\u306e\\\\u4fee\\\\u884c\\\\u304c\\\\u884c\\\\u3048\\\\u308b\\\\u3082\\\\u904e\\\\u9177\\\\u306a\\\\u74b0\\\\u5883\\\\u306b\\\\u6652\\\\u3055\\\\u308c\\\\u308b\\\\u300c\\\\u7cbe\\\\u795e\\\\u3068\\\\u6642\\\\u306e\\\\u90e8\\\\u5c4b\\\\u300d\\\\u3067\\\\u4fee\\\\u884c\\\\u3057\\\\u3001\\\\u5f37\\\\u3055\\\\u3092\\\\u5897\\\\u3057\\\\u3066\\\\u30bb\\\\u30eb\\\\u30b2\\\\u30fc\\\\u30e0\\\\u306b\\\\u81e8\\\\u3080\\\\u304c\\\\u3001\\\\u609f\\\\u7a7a\\\\u306f\\\\u3053\\\\u306e\\\\u30bb\\\\u30eb\\\\u3068\\\\u306e\\\\u95d8\\\\u3044\\\\u306e\\\\u4e2d\\\\u3067\\\\u5730\\\\u7403\\\\u3092\\\\u5b88\\\\u308b\\\\u305f\\\\u3081\\\\u306b\\\\u547d\\\\u3092\\\\u843d\\\\u3068\\\\u3059\\\\u3002\\\\u3060\\\\u304c\\\\u3001\\\\u305d\\\\u306e\\\\u907a\\\\u5fd7\\\\u3092\\\\u53d7\\\\u3051\\\\u7d99\\\\u3044\\\\u3060\\\\u606f\\\\u5b50\\\\u30fb\\\\u609f\\\\u98ef\\\\u304c\\\\u8d85\\\\u30b5\\\\u30a4\\\\u30e4\\\\u4eba2\\\\u3078\\\\u3068\\\\u899a\\\\u9192\\\\u3001\\\\u7236\\\\u30fb\\\\u609f\\\\u7a7a\\\\u306e\\\\u5e7b\\\\u5f71\\\\u3068\\\\u5171\\\\u306b\\\\u304b\\\\u3081\\\\u306f\\\\u3081\\\\u6ce2\\\\u3092\\\\u653e\\\\u3061\\\\u30bb\\\\u30eb\\\\u3092\\\\u6483\\\\u7834\\\\u3002\\\\u30bb\\\\u30eb\\\\u30b2\\\\u30fc\\\\u30e0\\\\u3092\\\\u5236\\\\u3057\\\\u305f\\\\u609f\\\\u98ef\\\\u305f\\\\u3061\\\\u306f\\\\u3001\\\\u30c9\\\\u30e9\\\\u30b4\\\\u30f3\\\\u30dc\\\\u30fc\\\\u30eb\\\\u306b\\\\u3088\\\\u308a\\\\u30bb\\\\u30eb\\\\u306b\\\\u6bba\\\\u3055\\\\u308c\\\\u305f\\\\u4eba\\\\u3005\\\\u3092\\\\u8607\\\\u751f\\\\u3055\\\\u305b\\\\u308b\\\\u304c\\\\u3001\\\\u609f\\\\u7a7a\\\\u306f\\\\u81ea\\\\u5206\\\\u304c\\\\u60aa\\\\u4eba\\\\u3092\\\\u5f15\\\\u304d\\\\u5bc4\\\\u305b\\\\u3066\\\\u3044\\\\u308b\\\\u3068\\\\u3044\\\\u3046\\\\u7406\\\\u7531\\\\u3067\\\\u751f\\\\u304d\\\\u8fd4\\\\u308a\\\\u3092\\\\u62d2\\\\u5426\\\\u3057\\\\u3001\\\\u3042\\\\u306e\\\\u4e16\\\\u306b\\\\u6b8b\\\\u308b\\\\u3053\\\\u3068\\\\u3092\\\\u9078\\\\u3076\\\\u3002\\\\n\\\\n\\\\u9b54\\\\u4eba\\\\u30d6\\\\u30a6\\\\u7de8\\\\n\\\\u30bb\\\\u30eb\\\\u30b2\\\\u30fc\\\\u30e0\\\\u3088\\\\u308a\\\\u7d047\\\\u5e74\\\\u5f8c\\\\u3001\\\\u9ad8\\\\u6821\\\\u751f\\\\u306b\\\\u6210\\\\u9577\\\\u3057\\\\u305f\\\\u609f\\\\u98ef\\\\u304c\\\\u5929\\\\u4e0b\\\\u4e00\\\\u6b66\\\\u9053\\\\u4f1a\\\\u306b\\\\u51fa\\\\u5834\\\\u3059\\\\u308b\\\\u3053\\\\u3068\\\\u3092\\\\u77e5\\\\u3063\\\\u305f\\\\u609f\\\\u7a7a\\\\u306f\\\\u3001\\\\u81ea\\\\u3089\\\\u3082\\\\u51fa\\\\u5834\\\\u3059\\\\u308b\\\\u305f\\\\u3081\\\\u306b\\\\u5360\\\\u3044\\\\u30d0\\\\u30d0\\\\u306e\\\\u529b\\\\u306b\\\\u3088\\\\u3063\\\\u30661\\\\u65e5\\\\u3060\\\\u3051\\\\u3053\\\\u306e\\\\u4e16\\\\u306b\\\\u623b\\\\u308b\\\\n---------------------\\\\nProvide keywords in the following comma-separated format: \\'KEYWORDS: <keywords>\\'\\\\n\"], \"model\": \"text-davinci-003\", \"temperature\": 0.0, \"max_tokens\": 1536, \"top_p\": 1, \"frequency_penalty\": 0, \"presence_penalty\": 0, \"n\": 1, \"best_of\": 1, \"logit_bias\": {}}' message='Post details'\n",
      "DEBUG:urllib3.connectionpool:https://api.openai.com:443 \"POST /v1/completions HTTP/1.1\" 200 None\n",
      "DEBUG:openai:message='OpenAI API response' path=https://api.openai.com/v1/completions processing_ms=2516 request_id=121ce5ebee33510c9308402cc1785958 response_code=200\n",
      "DEBUG:root:\n",
      "KEYWORDS: 悟空, 悟飯, 超サイヤ人, セルゲーム, ドラゴンボール, 悪人, 天下一武道会, 占いババ, 修行, 蘇生\n",
      "DEBUG:openai:message='Request to OpenAI API' method=post path=https://api.openai.com/v1/completions\n",
      "DEBUG:openai:api_version=None data='{\"prompt\": [\"Some text is provided below. Given the text, extract up to 10 keywords from the text. Avoid stopwords.---------------------\\\\n\\\\u5929\\\\u4e0b\\\\u4e00\\\\u6b66\\\\u9053\\\\u4f1a\\\\u306e\\\\u6700\\\\u4e2d\\\\u3001\\\\u609f\\\\u7a7a\\\\u305f\\\\u3061\\\\u306f\\\\u754c\\\\u738b\\\\u3088\\\\u308a\\\\u3082\\\\u3055\\\\u3089\\\\u306b\\\\u9ad8\\\\u4f4d\\\\u306e\\\\u5b58\\\\u5728\\\\u3067\\\\u3042\\\\u308b\\\\u754c\\\\u738b\\\\u795e\\\\u304b\\\\u3089\\\\u3001\\\\u6050\\\\u308d\\\\u3057\\\\u3044\\\\u529b\\\\u3092\\\\u6301\\\\u3064\\\\u9b54\\\\u4eba\\\\u30d6\\\\u30a6\\\\u306e\\\\u5c01\\\\u5370\\\\u304c\\\\u89e3\\\\u304b\\\\u308c\\\\u3088\\\\u3046\\\\u3068\\\\u3057\\\\u3066\\\\u3044\\\\u308b\\\\u3053\\\\u3068\\\\u3092\\\\u77e5\\\\u3089\\\\u3055\\\\u308c\\\\u308b\\\\u3002\\\\u5fa9\\\\u6d3b\\\\u3057\\\\u305f\\\\u9b54\\\\u4eba\\\\u30d6\\\\u30a6\\\\u306b\\\\u3088\\\\u308a\\\\u609f\\\\u98ef\\\\u3084\\\\u30d9\\\\u30b8\\\\u30fc\\\\u30bf\\\\u304c\\\\u5012\\\\u3055\\\\u308c\\\\u3001\\\\u609f\\\\u7a7a\\\\u306f\\\\u3042\\\\u306e\\\\u4e16\\\\u306b\\\\u5e30\\\\u3063\\\\u305f\\\\u305f\\\\u3081\\\\u3001\\\\u5730\\\\u7403\\\\u306e\\\\u547d\\\\u904b\\\\u306f\\\\u609f\\\\u7a7a\\\\u306e\\\\u6b21\\\\u7537\\\\u30fb\\\\u5b6b\\\\u609f\\\\u5929\\\\u3068\\\\u5c11\\\\u5e74\\\\u30c8\\\\u30e9\\\\u30f3\\\\u30af\\\\u30b9\\\\u306e\\\\u5e7c\\\\u3044\\\\u4e8c\\\\u4eba\\\\u306b\\\\u8a17\\\\u3055\\\\u308c\\\\u308b\\\\u3002\\\\n\\\\n\\\\u4e00\\\\u65b9\\\\u3001\\\\u9b54\\\\u4eba\\\\u30d6\\\\u30a6\\\\u306f\\\\u69d8\\\\u3005\\\\u306a\\\\u4eba\\\\u9593\\\\u3068\\\\u306e\\\\u51fa\\\\u4f1a\\\\u3044\\\\u304b\\\\u3089\\\\u3088\\\\u308a\\\\u90aa\\\\u60aa\\\\u3067\\\\u5f37\\\\u529b\\\\u306a\\\\u9b54\\\\u4eba\\\\u3078\\\\u3068\\\\u5909\\\\u8c8c\\\\u3002\\\\u609f\\\\u5929\\\\u3068\\\\u30c8\\\\u30e9\\\\u30f3\\\\u30af\\\\u30b9\\\\u304c\\\\u300c\\\\u30d5\\\\u30e5\\\\u30fc\\\\u30b8\\\\u30e7\\\\u30f3\\\\uff08\\\\u878d\\\\u5408\\\\uff09\\\\u300d\\\\u3057\\\\u3066\\\\u8a95\\\\u751f\\\\u3057\\\\u305f\\\\u6226\\\\u58eb\\\\u30fb\\\\u30b4\\\\u30c6\\\\u30f3\\\\u30af\\\\u30b9\\\\u3084\\\\u3001\\\\u6f5c\\\\u5728\\\\u80fd\\\\u529b\\\\u3092\\\\u89e3\\\\u653e\\\\u3057\\\\u3001\\\\u30d1\\\\u30ef\\\\u30fc\\\\u30a2\\\\u30c3\\\\u30d7\\\\u3092\\\\u9042\\\\u3052\\\\u3066\\\\u5e30\\\\u3063\\\\u3066\\\\u304d\\\\u305f\\\\u609f\\\\u98ef\\\\u3089\\\\u304c\\\\u5fdc\\\\u6226\\\\u3059\\\\u308b\\\\u304c\\\\u3001\\\\u6226\\\\u58eb\\\\u305f\\\\u3061\\\\u3092\\\\u6b21\\\\u3005\\\\u3068\\\\u5438\\\\u53ce\\\\u3057\\\\u59ff\\\\u3092\\\\u5909\\\\u3048\\\\u3066\\\\u3044\\\\u304f\\\\u9b54\\\\u4eba\\\\u30d6\\\\u30a6\\\\u306b\\\\u82e6\\\\u6226\\\\u3092\\\\u5f37\\\\u3044\\\\u3089\\\\u308c\\\\u308b\\\\u3002\\\\u5371\\\\u6a5f\\\\u306b\\\\u9665\\\\u3063\\\\u305f\\\\u609f\\\\u98ef\\\\u3089\\\\u3092\\\\u6551\\\\u3046\\\\u305f\\\\u3081\\\\u73fe\\\\u4e16\\\\u306b\\\\u821e\\\\u3044\\\\u623b\\\\u3063\\\\u305f\\\\u609f\\\\u7a7a\\\\u3068\\\\u30d9\\\\u30b8\\\\u30fc\\\\u30bf\\\\u306f\\\\u3001\\\\u754c\\\\u738b\\\\u795e\\\\u754c\\\\u3067\\\\u771f\\\\u306e\\\\u59ff\\\\u3068\\\\u306a\\\\u3063\\\\u305f\\\\u9b54\\\\u4eba\\\\u30d6\\\\u30a6\\\\u3068\\\\u306e\\\\u6700\\\\u7d42\\\\u6c7a\\\\u6226\\\\u306b\\\\u81e8\\\\u3080\\\\n---------------------\\\\nProvide keywords in the following comma-separated format: \\'KEYWORDS: <keywords>\\'\\\\n\"], \"model\": \"text-davinci-003\", \"temperature\": 0.0, \"max_tokens\": 1536, \"top_p\": 1, \"frequency_penalty\": 0, \"presence_penalty\": 0, \"n\": 1, \"best_of\": 1, \"logit_bias\": {}}' message='Post details'\n"
     ]
    },
    {
     "name": "stdout",
     "output_type": "stream",
     "text": [
      "DEBUG:urllib3.connectionpool:https://api.openai.com:443 \"POST /v1/completions HTTP/1.1\" 200 None\n",
      "DEBUG:openai:message='OpenAI API response' path=https://api.openai.com/v1/completions processing_ms=2374 request_id=b7213df95c99ae0f847d79ab7767611c response_code=200\n",
      "DEBUG:root:\n",
      "KEYWORDS: 悟空, 悟飯, ベジータ, 界王神, 魔人ブウ, 戦士, フュージョン, 融合, 潜在能力, 吸収\n",
      "DEBUG:openai:message='Request to OpenAI API' method=post path=https://api.openai.com/v1/completions\n",
      "DEBUG:openai:api_version=None data='{\"prompt\": [\"Some text is provided below. Given the text, extract up to 10 keywords from the text. Avoid stopwords.---------------------\\\\n\\\\u30c9\\\\u30e9\\\\u30b4\\\\u30f3\\\\u30dc\\\\u30fc\\\\u30eb\\\\u306e\\\\u5354\\\\u529b\\\\u3082\\\\u3042\\\\u308a\\\\u3001\\\\u5730\\\\u7403\\\\u30fb\\\\u30ca\\\\u30e1\\\\u30c3\\\\u30af\\\\u661f\\\\u30fb\\\\u3042\\\\u306e\\\\u4e16\\\\u306e\\\\u4eba\\\\u3005\\\\u306e\\\\u30a8\\\\u30cd\\\\u30eb\\\\u30ae\\\\u30fc\\\\u306b\\\\u3088\\\\u3063\\\\u3066\\\\u4f5c\\\\u308a\\\\u4e0a\\\\u3052\\\\u3089\\\\u308c\\\\u305f\\\\u8d85\\\\u7279\\\\u5927\\\\u306e\\\\u5143\\\\u6c17\\\\u7389\\\\u306b\\\\u3088\\\\u3063\\\\u3066\\\\u9b54\\\\u4eba\\\\u30d6\\\\u30a6\\\\u306f\\\\u5b8c\\\\u5168\\\\u306b\\\\u6d88\\\\u6ec5\\\\u3059\\\\u308b\\\\u3002\\\\n\\\\n\\\\u305d\\\\u308c\\\\u304b\\\\u308910\\\\u5e74\\\\u5f8c\\\\u3001\\\\u609f\\\\u7a7a\\\\u306f\\\\u5b6b\\\\u306e\\\\u30d1\\\\u30f3\\\\u3068\\\\u5171\\\\u306b\\\\u5929\\\\u4e0b\\\\u4e00\\\\u6b66\\\\u9053\\\\u4f1a\\\\u306b\\\\u4e45\\\\u3057\\\\u3076\\\\u308a\\\\u306b\\\\u51fa\\\\u5834\\\\u3057\\\\u3001\\\\u9b54\\\\u4eba\\\\u30d6\\\\u30a6\\\\u306e\\\\u751f\\\\u307e\\\\u308c\\\\u5909\\\\u308f\\\\u308a\\\\u3067\\\\u3042\\\\u308b\\\\u5c11\\\\u5e74\\\\u30fb\\\\u30a6\\\\u30fc\\\\u30d6\\\\u3068\\\\u51fa\\\\u4f1a\\\\u3046\\\\u3002\\\\u609f\\\\u7a7a\\\\u306f\\\\u30a6\\\\u30fc\\\\u30d6\\\\u3068\\\\u5171\\\\u306b\\\\u898b\\\\u679c\\\\u3066\\\\u306c\\\\u5f37\\\\u3055\\\\u3092\\\\u8ffd\\\\u3044\\\\u6c42\\\\u3081\\\\u3066\\\\u4fee\\\\u884c\\\\u306b\\\\u65c5\\\\u7acb\\\\u3061\\\\u3001\\\\u7269\\\\u8a9e\\\\u306f\\\\u5e55\\\\u3092\\\\u9589\\\\u3058\\\\u308b\\\\u3002\\\\n\\\\n\\\\n---------------------\\\\nProvide keywords in the following comma-separated format: \\'KEYWORDS: <keywords>\\'\\\\n\"], \"model\": \"text-davinci-003\", \"temperature\": 0.0, \"max_tokens\": 1536, \"top_p\": 1, \"frequency_penalty\": 0, \"presence_penalty\": 0, \"n\": 1, \"best_of\": 1, \"logit_bias\": {}}' message='Post details'\n",
      "DEBUG:urllib3.connectionpool:https://api.openai.com:443 \"POST /v1/completions HTTP/1.1\" 200 None\n",
      "DEBUG:openai:message='OpenAI API response' path=https://api.openai.com/v1/completions processing_ms=3102 request_id=221d1d61298ffbaf95051d7a3a846a87 response_code=200\n",
      "DEBUG:root:\n",
      "KEYWORDS: ドラゴンボール, 地球, ナメック星, 世界, 元気玉, 魔人ブウ, 悟空, 孫, パン, 天下一武道会, ウーブ, 修行\n",
      "INFO:root:> [build_index_from_documents] Total LLM token usage: 5714 tokens\n",
      "INFO:root:> [build_index_from_documents] Total embedding token usage: 0 tokens\n"
     ]
    }
   ],
   "source": [
    "kt_index = GPTKeywordTableIndex(documents, prompt_helper=prompt_helper, llm_predictor=llm_predictor)"
   ]
  },
  {
   "cell_type": "code",
   "execution_count": 8,
   "id": "4b3cc1be",
   "metadata": {},
   "outputs": [
    {
     "data": {
      "text/plain": [
       "['__annotations__',\n",
       " '__class__',\n",
       " '__class_getitem__',\n",
       " '__delattr__',\n",
       " '__dict__',\n",
       " '__dir__',\n",
       " '__doc__',\n",
       " '__eq__',\n",
       " '__format__',\n",
       " '__ge__',\n",
       " '__getattribute__',\n",
       " '__getstate__',\n",
       " '__gt__',\n",
       " '__hash__',\n",
       " '__init__',\n",
       " '__init_subclass__',\n",
       " '__le__',\n",
       " '__lt__',\n",
       " '__module__',\n",
       " '__ne__',\n",
       " '__new__',\n",
       " '__orig_bases__',\n",
       " '__parameters__',\n",
       " '__reduce__',\n",
       " '__reduce_ex__',\n",
       " '__repr__',\n",
       " '__setattr__',\n",
       " '__sizeof__',\n",
       " '__slots__',\n",
       " '__str__',\n",
       " '__subclasshook__',\n",
       " '__weakref__',\n",
       " '_add_document_to_index',\n",
       " '_async_add_document_to_index',\n",
       " '_async_extract_keywords',\n",
       " '_build_fallback_text_splitter',\n",
       " '_build_index_from_documents',\n",
       " '_delete',\n",
       " '_docstore',\n",
       " '_embed_model',\n",
       " '_extract_keywords',\n",
       " '_get_nodes_from_document',\n",
       " '_include_extra_info',\n",
       " '_index_registry',\n",
       " '_index_struct',\n",
       " '_insert',\n",
       " '_is_protocol',\n",
       " '_llm_predictor',\n",
       " '_preprocess_query',\n",
       " '_process_documents',\n",
       " '_prompt_helper',\n",
       " '_text_splitter',\n",
       " '_update_index_registry_and_docstore',\n",
       " '_use_async',\n",
       " '_validate_documents',\n",
       " 'build_index_from_documents',\n",
       " 'delete',\n",
       " 'docstore',\n",
       " 'embed_model',\n",
       " 'get_doc_id',\n",
       " 'get_query_map',\n",
       " 'index_registry',\n",
       " 'index_struct',\n",
       " 'index_struct_cls',\n",
       " 'index_struct_with_text',\n",
       " 'insert',\n",
       " 'keyword_extract_template',\n",
       " 'llm_predictor',\n",
       " 'load_from_dict',\n",
       " 'load_from_disk',\n",
       " 'load_from_string',\n",
       " 'max_keywords_per_chunk',\n",
       " 'prompt_helper',\n",
       " 'query',\n",
       " 'save_to_dict',\n",
       " 'save_to_disk',\n",
       " 'save_to_string',\n",
       " 'set_doc_id',\n",
       " 'set_extra_info',\n",
       " 'set_text',\n",
       " 'update']"
      ]
     },
     "execution_count": 8,
     "metadata": {},
     "output_type": "execute_result"
    }
   ],
   "source": [
    "dir(kt_index)"
   ]
  },
  {
   "cell_type": "code",
   "execution_count": 15,
   "id": "edb11b46",
   "metadata": {},
   "outputs": [
    {
     "data": {
      "text/plain": [
       "dict_keys(['20504282-176d-4932-b1e7-73e420235223'])"
      ]
     },
     "execution_count": 15,
     "metadata": {},
     "output_type": "execute_result"
    }
   ],
   "source": [
    "kt_index.docstore.docs.keys()"
   ]
  },
  {
   "cell_type": "code",
   "execution_count": 20,
   "id": "5f65293f",
   "metadata": {},
   "outputs": [
    {
     "data": {
      "text/plain": [
       "KeywordTable(text=None, doc_id='20504282-176d-4932-b1e7-73e420235223', embedding=None, extra_info=None, table={'ヤムチャ': {6201837512700076671}, '盗賊': {6201837512700076671}, 'ウーロン': {6201837512700076671}, '孫悟空': {6201837512700076671}, 'ドラゴンボール': {6201837512700076671, 7510331091196385733, 8192120892737752775, 7239158803188884780, 4880187643955340463, 970764164167309241}, 'ブルマ': {8817195983466389445, 6201837512700076671, 7239158803188884780}, '少年': {6201837512700076671}, 'ピラフ': {6201837512700076671}, '少女': {6201837512700076671}, '四星球': {6201837512700076671}, '悟空': {7510331091196385733, 8817195983466389445, 8192120892737752775, 7239158803188884780, 4880187643955340463, 6158634650112249680, 8614812770996273364, 970764164167309241, 9022682885623469335}, '天津飯': {6158634650112249680}, '孫悟飯': {8192120892737752775, 6158634650112249680}, '修行': {4880187643955340463, 6158634650112249680, 970764164167309241, 8614812770996273364}, 'クリリン': {6158634650112249680, 7239158803188884780}, 'レッドリボン軍': {6158634650112249680}, '天下一武道会': {4880187643955340463, 6158634650112249680, 970764164167309241}, '鶴仙流': {6158634650112249680}, 'ピッコロ大魔王': {6158634650112249680, 8614812770996273364}, '亀仙人': {6158634650112249680}, '仙猫カリン': {8614812770996273364}, '優勝': {8614812770996273364}, 'マジュニア': {8614812770996273364}, '神龍': {7239158803188884780, 8614812770996273364}, 'チチ': {8614812770996273364}, 'ヤジロベー': {8614812770996273364}, '青年': {8614812770996273364}, '牛魔王': {8614812770996273364}, '決勝戦': {8614812770996273364}, '天界': {8614812770996273364}, '仲間': {7239158803188884780, 8614812770996273364}, 'サイヤ人': {8192120892737752775}, '修業': {8192120892737752775}, 'ピッコロ': {7510331091196385733, 8192120892737752775, 7239158803188884780}, 'ラディッツ': {8192120892737752775}, '惑星ベジータ': {8192120892737752775}, 'ベジータ': {7510331091196385733, 8817195983466389445, 8192120892737752775, 7239158803188884780, 9022682885623469335}, '王子': {8192120892737752775}, '界王': {8192120892737752775, 7239158803188884780}, 'ナッパ': {8192120892737752775}, '地球': {7510331091196385733, 970764164167309241, 7239158803188884780}, '対決': {7239158803188884780}, '戦死': {7239158803188884780}, 'フリーザ': {7510331091196385733, 7239158803188884780}, '辛勝': {7239158803188884780}, '撤退': {7239158803188884780}, '悟飯': {4880187643955340463, 9022682885623469335, 7239158803188884780}, '帝王': {7239158803188884780}, '協力': {7239158803188884780}, '死亡': {7239158803188884780}, '一味': {7239158803188884780}, 'ナメック星': {970764164167309241, 7239158803188884780}, 'ポルンガ': {7510331091196385733, 7239158803188884780}, '蘇生': {7510331091196385733, 4880187643955340463}, '伝説': {7510331091196385733}, '超サイヤ人': {7510331091196385733, 4880187643955340463}, '武道会': {8817195983466389445}, 'セルゲーム': {8817195983466389445, 4880187643955340463}, '心臓病': {8817195983466389445}, '人造人間': {8817195983466389445}, '究極': {8817195983466389445}, 'トランクス': {8817195983466389445}, 'セル': {8817195983466389445}, '悪人': {4880187643955340463}, '占いババ': {4880187643955340463}, '吸収': {9022682885623469335}, '潜在能力': {9022682885623469335}, '魔人ブウ': {970764164167309241, 9022682885623469335}, '界王神': {9022682885623469335}, '戦士': {9022682885623469335}, 'フュージョン': {9022682885623469335}, '融合': {9022682885623469335}, '孫': {970764164167309241}, '世界': {970764164167309241}, '元気玉': {970764164167309241}, 'ウーブ': {970764164167309241}, 'パン': {970764164167309241}}, text_chunks={6201837512700076671: Node(text='孫悟空少年編\\n地球の人里離れた山奥に住む尻尾の生えた少年・孫悟空はある日、西の都からやって来た少女・ブルマと出会う。そこで、7つ集めると神龍（シェンロン）が現れ、どんな願いでも一つだけ叶えてくれるというドラゴンボールの存在を、さらに育ての親である孫悟飯の形見として大切に持っていた球がその1つ「四星球（スーシンチュウ）」であることを知り、ブルマと共に残りのドラゴンボールを探す旅に出る。人さらいのウーロンや盗賊のヤムチャらを巻き込んだボール探しの末、世界征服を企むピラフ一味にボールを奪われ神龍を呼び出されるが、ウーロンがとっさに言い放った下らない願いを叶えてもらうことで一味の野望を阻止する', doc_id='a75ce452-c022-4ab5-9344-e9759062d9d2', embedding=None, extra_info=None, index=0, child_indices=set(), ref_doc_id='780cc593-3d8b-4baf-83e1-0fe8b9ae90de', node_info={'start': 0, 'end': 296}), 6158634650112249680: Node(text='\\n\\nその後、悟空は旅の途中に知り合った武術の達人・亀仙人の下で、後に親友となるクリリンと共に8か月間にわたる修行を積み、その成果を確かめるために世界一の武術の達人を決める天下一武道会に出場し、変装して出場していた亀仙人に敗れるも準優勝を果たす。悟空は再び修行の旅へと出発し、ドラゴンボールの悪用を企むレッドリボン軍との闘いや、孫悟飯との再会などを経てさらに強さを増していく。さらに3年後の天下一武道会では、亀仙流のライバルである鶴仙流の天津飯（てんしんはん）と闘うが、あと一歩のところで敗れ、前回と同じく準優勝に終わる。\\n\\nピッコロ大魔王編\\n天下一武道会終了後、ピラフ一味によって復活したピッコロ大魔王によって、クリリンや亀仙人など悟空の仲間たちや多くの武道家たちが殺される', doc_id='5382905f-d399-4743-9de4-687bb8881953', embedding=None, extra_info=None, index=1, child_indices=set(), ref_doc_id='780cc593-3d8b-4baf-83e1-0fe8b9ae90de', node_info={'start': 297, 'end': 634}), 8614812770996273364: Node(text='悟空は仇を討つため、道中に出会ったヤジロベーや仙猫カリンの協力を得て命を賭して潜在する力を引き出し、ピッコロ大魔王に闘いを挑み勝利する。闘いの後、悟空はピッコロ大魔王に殺された神龍や仲間たちの復活のため天界へ向かい、ドラゴンボールの創造者である神に会う。そこで神龍復活の条件として、神の下で天界で修行することとなった。\\n\\nその約3年後、少年から青年へと成長した悟空は、天下一武道会の会場で仲間たちと再会。試合では、少年時代に出会った際に「嫁にもらう」と約束していた牛魔王の娘・チチと再会しその場で結婚。そして武道会に出場していたピッコロ大魔王の生まれ変わりであるマジュニアと決勝戦で激突、これに勝利し初の天下一武道会優勝を飾る', doc_id='0c7998d4-95d1-4d6a-afc4-07d3c7510da8', embedding=None, extra_info=None, index=2, child_indices=set(), ref_doc_id='780cc593-3d8b-4baf-83e1-0fe8b9ae90de', node_info={'start': 635, 'end': 948}), 8192120892737752775: Node(text='\\n\\nサイヤ人編\\nピッコロ（マジュニア）との闘いから約5年後、息子の孫悟飯を儲けて平和な日々を過ごしていた悟空のもとに、実兄・ラディッツが宇宙より来襲し、自分が惑星ベジータの戦闘民族・サイヤ人であることを知らされる。さらわれた孫悟飯を助けるため悟空は宿敵ピッコロと手を組み、自らの命と引き換えにラディッツを倒すが、約1年後にはさらに強力なサイヤ人たちがドラゴンボールを求めて地球に来襲することを知る。\\n\\n悟空はドラゴンボールによって生き返るまでの間、あの世の界王の下で修業し、仲間と共に地球に強襲したサイヤ人の戦士・ナッパと王子・ベジータを迎え撃つ。悟空は修行により増した力でナッパを一蹴し、ベジータと決闘', doc_id='e1f76418-0114-4d31-ab31-b6dc0c88e752', embedding=None, extra_info=None, index=3, child_indices=set(), ref_doc_id='780cc593-3d8b-4baf-83e1-0fe8b9ae90de', node_info={'start': 949, 'end': 1251}), 7239158803188884780: Node(text='仲間の協力もあり、何とか辛勝し撤退させるが、多くの仲間を失うとともに、ピッコロの戦死により彼と一心同体であった神も死亡し、地球のドラゴンボールも消滅する。\\n\\nフリーザ編\\n地球の神と殺された仲間たちを甦らせるため、重傷で入院中の悟空に代わり、悟飯、クリリン、ブルマの3人が神とピッコロの故郷であるナメック星へ向かう。だが、そこには地球で闘ったベジータや、界王すら畏怖する宇宙の帝王・フリーザとその一味が不老不死を求めて来襲し、ナメック星人を虐殺しながらドラゴンボールを略奪していた。悟飯たちはベジータ、フリーザ一味とのドラゴンボールをめぐる三つ巴の攻防の末、後から到着した悟空とナメック星人たちの協力を得てナメック星の神龍・ポルンガを呼び出し、ピッコロと地球のドラゴンボールを復活させる。\\n\\n出し抜かれて願いが叶えられなかったフリーザは激怒し、一行は対決を強いられる', doc_id='840bc936-8bfe-4438-9c85-e012804484f6', embedding=None, extra_info=None, index=4, child_indices=set(), ref_doc_id='780cc593-3d8b-4baf-83e1-0fe8b9ae90de', node_info={'start': 1252, 'end': 1634}), 7510331091196385733: Node(text='フリーザの持つ圧倒的な力の前にはベジータやピッコロ、悟空すら歯が立たず仲間たちが次々と命を落としていった。怒りを爆発させた悟空は伝説の戦士・超（スーパー）サイヤ人へと覚醒。フルパワーを解放したフリーザに勝利する。ポルンガによって地球に帰還した悟飯たちは復活したドラゴンボールによりサイヤ人やフリーザ一味に殺された人々を蘇生させた。一方の悟空も爆発するナメック星を辛くも脱出、ヤードラット星に漂着し一命を取り留めた。\\n\\n人造人間・セル編\\nナメック星での闘いから約1年後、密かに生き延びていたフリーザとその一味が地球を襲撃するが、謎の超サイヤ人によって撃退される', doc_id='e903dfab-d8b5-46d9-a652-e50ef148f844', embedding=None, extra_info=None, index=5, child_indices=set(), ref_doc_id='780cc593-3d8b-4baf-83e1-0fe8b9ae90de', node_info={'start': 1635, 'end': 1914}), 8817195983466389445: Node(text='トランクスと名乗るその青年は、自分は未来からやってきたブルマとベジータの息子であることを悟空にだけ明かすと同時に、悟空は心臓病によって命を落とすこと、3年後に現れる2体の人造人間が絶望の未来をもたらすことを告げる。その後本当に心臓病によって危篤状態になるも、トランクスから渡された特効薬によって生還、来るべき日に備えて3年間各々に修行してその日を迎える悟空たちであったが、事態はトランクスが知っている歴史とは大きく違うものとなり、彼さえ知らなかった人造人間たちまで現れ、さらに究極の人造人間・セルが未来から出現。悟空らの想定を遥かに超えた戦士が続々と現れた。\\n\\n人造人間17号と人造人間18号を吸収することで完全体となったセルは地球の命運を賭けた武道会「セルゲーム」の開催を全世界に宣言する', doc_id='e3eb6f7b-5d49-44de-b140-737297372a40', embedding=None, extra_info=None, index=6, child_indices=set(), ref_doc_id='780cc593-3d8b-4baf-83e1-0fe8b9ae90de', node_info={'start': 1915, 'end': 2260}), 4880187643955340463: Node(text='悟空らは天界にある1日で1年の修行が行えるも過酷な環境に晒される「精神と時の部屋」で修行し、強さを増してセルゲームに臨むが、悟空はこのセルとの闘いの中で地球を守るために命を落とす。だが、その遺志を受け継いだ息子・悟飯が超サイヤ人2へと覚醒、父・悟空の幻影と共にかめはめ波を放ちセルを撃破。セルゲームを制した悟飯たちは、ドラゴンボールによりセルに殺された人々を蘇生させるが、悟空は自分が悪人を引き寄せているという理由で生き返りを拒否し、あの世に残ることを選ぶ。\\n\\n魔人ブウ編\\nセルゲームより約7年後、高校生に成長した悟飯が天下一武道会に出場することを知った悟空は、自らも出場するために占いババの力によって1日だけこの世に戻る', doc_id='bf6d564d-3736-4f60-af1c-5fde71237def', embedding=None, extra_info=None, index=7, child_indices=set(), ref_doc_id='780cc593-3d8b-4baf-83e1-0fe8b9ae90de', node_info={'start': 2261, 'end': 2572}), 9022682885623469335: Node(text='天下一武道会の最中、悟空たちは界王よりもさらに高位の存在である界王神から、恐ろしい力を持つ魔人ブウの封印が解かれようとしていることを知らされる。復活した魔人ブウにより悟飯やベジータが倒され、悟空はあの世に帰ったため、地球の命運は悟空の次男・孫悟天と少年トランクスの幼い二人に託される。\\n\\n一方、魔人ブウは様々な人間との出会いからより邪悪で強力な魔人へと変貌。悟天とトランクスが「フュージョン（融合）」して誕生した戦士・ゴテンクスや、潜在能力を解放し、パワーアップを遂げて帰ってきた悟飯らが応戦するが、戦士たちを次々と吸収し姿を変えていく魔人ブウに苦戦を強いられる。危機に陥った悟飯らを救うため現世に舞い戻った悟空とベジータは、界王神界で真の姿となった魔人ブウとの最終決戦に臨む', doc_id='4a5019d6-5e34-4d32-9097-40715893d100', embedding=None, extra_info=None, index=8, child_indices=set(), ref_doc_id='780cc593-3d8b-4baf-83e1-0fe8b9ae90de', node_info={'start': 2573, 'end': 2911}), 970764164167309241: Node(text='ドラゴンボールの協力もあり、地球・ナメック星・あの世の人々のエネルギーによって作り上げられた超特大の元気玉によって魔人ブウは完全に消滅する。\\n\\nそれから10年後、悟空は孫のパンと共に天下一武道会に久しぶりに出場し、魔人ブウの生まれ変わりである少年・ウーブと出会う。悟空はウーブと共に見果てぬ強さを追い求めて修行に旅立ち、物語は幕を閉じる。\\n\\n', doc_id='3eabc742-ff09-443d-a114-f4e92628b44f', embedding=None, extra_info=None, index=9, child_indices=set(), ref_doc_id='780cc593-3d8b-4baf-83e1-0fe8b9ae90de', node_info={'start': 2912, 'end': 3083})})"
      ]
     },
     "execution_count": 20,
     "metadata": {},
     "output_type": "execute_result"
    }
   ],
   "source": [
    "kt_index.docstore.docs['20504282-176d-4932-b1e7-73e420235223']"
   ]
  },
  {
   "cell_type": "code",
   "execution_count": 21,
   "id": "f2dc4259",
   "metadata": {},
   "outputs": [
    {
     "data": {
      "text/plain": [
       "['__abstractmethods__',\n",
       " '__annotations__',\n",
       " '__class__',\n",
       " '__dataclass_fields__',\n",
       " '__dataclass_params__',\n",
       " '__delattr__',\n",
       " '__dict__',\n",
       " '__dir__',\n",
       " '__doc__',\n",
       " '__eq__',\n",
       " '__format__',\n",
       " '__ge__',\n",
       " '__getattribute__',\n",
       " '__getstate__',\n",
       " '__gt__',\n",
       " '__hash__',\n",
       " '__init__',\n",
       " '__init_subclass__',\n",
       " '__le__',\n",
       " '__lt__',\n",
       " '__match_args__',\n",
       " '__module__',\n",
       " '__ne__',\n",
       " '__new__',\n",
       " '__post_init__',\n",
       " '__reduce__',\n",
       " '__reduce_ex__',\n",
       " '__repr__',\n",
       " '__setattr__',\n",
       " '__sizeof__',\n",
       " '__slots__',\n",
       " '__str__',\n",
       " '__subclasshook__',\n",
       " '__weakref__',\n",
       " '_abc_impl',\n",
       " '_get_index',\n",
       " 'add_node',\n",
       " 'dataclass_json_config',\n",
       " 'doc_id',\n",
       " 'embedding',\n",
       " 'extra_info',\n",
       " 'extra_info_str',\n",
       " 'from_dict',\n",
       " 'from_json',\n",
       " 'get_doc_id',\n",
       " 'get_embedding',\n",
       " 'get_text',\n",
       " 'get_texts',\n",
       " 'get_type',\n",
       " 'get_types',\n",
       " 'is_doc_id_none',\n",
       " 'keywords',\n",
       " 'schema',\n",
       " 'size',\n",
       " 'table',\n",
       " 'text',\n",
       " 'text_chunks',\n",
       " 'to_dict',\n",
       " 'to_json']"
      ]
     },
     "execution_count": 21,
     "metadata": {},
     "output_type": "execute_result"
    }
   ],
   "source": [
    "dir(kt_index.docstore.docs['20504282-176d-4932-b1e7-73e420235223'])"
   ]
  },
  {
   "cell_type": "code",
   "execution_count": 23,
   "id": "a84b7eaa",
   "metadata": {},
   "outputs": [
    {
     "data": {
      "text/plain": [
       "{'ヤムチャ': {6201837512700076671},\n",
       " '盗賊': {6201837512700076671},\n",
       " 'ウーロン': {6201837512700076671},\n",
       " '孫悟空': {6201837512700076671},\n",
       " 'ドラゴンボール': {970764164167309241,\n",
       "  4880187643955340463,\n",
       "  6201837512700076671,\n",
       "  7239158803188884780,\n",
       "  7510331091196385733,\n",
       "  8192120892737752775},\n",
       " 'ブルマ': {6201837512700076671, 7239158803188884780, 8817195983466389445},\n",
       " '少年': {6201837512700076671},\n",
       " 'ピラフ': {6201837512700076671},\n",
       " '少女': {6201837512700076671},\n",
       " '四星球': {6201837512700076671},\n",
       " '悟空': {970764164167309241,\n",
       "  4880187643955340463,\n",
       "  6158634650112249680,\n",
       "  7239158803188884780,\n",
       "  7510331091196385733,\n",
       "  8192120892737752775,\n",
       "  8614812770996273364,\n",
       "  8817195983466389445,\n",
       "  9022682885623469335},\n",
       " '天津飯': {6158634650112249680},\n",
       " '孫悟飯': {6158634650112249680, 8192120892737752775},\n",
       " '修行': {970764164167309241,\n",
       "  4880187643955340463,\n",
       "  6158634650112249680,\n",
       "  8614812770996273364},\n",
       " 'クリリン': {6158634650112249680, 7239158803188884780},\n",
       " 'レッドリボン軍': {6158634650112249680},\n",
       " '天下一武道会': {970764164167309241, 4880187643955340463, 6158634650112249680},\n",
       " '鶴仙流': {6158634650112249680},\n",
       " 'ピッコロ大魔王': {6158634650112249680, 8614812770996273364},\n",
       " '亀仙人': {6158634650112249680},\n",
       " '仙猫カリン': {8614812770996273364},\n",
       " '優勝': {8614812770996273364},\n",
       " 'マジュニア': {8614812770996273364},\n",
       " '神龍': {7239158803188884780, 8614812770996273364},\n",
       " 'チチ': {8614812770996273364},\n",
       " 'ヤジロベー': {8614812770996273364},\n",
       " '青年': {8614812770996273364},\n",
       " '牛魔王': {8614812770996273364},\n",
       " '決勝戦': {8614812770996273364},\n",
       " '天界': {8614812770996273364},\n",
       " '仲間': {7239158803188884780, 8614812770996273364},\n",
       " 'サイヤ人': {8192120892737752775},\n",
       " '修業': {8192120892737752775},\n",
       " 'ピッコロ': {7239158803188884780, 7510331091196385733, 8192120892737752775},\n",
       " 'ラディッツ': {8192120892737752775},\n",
       " '惑星ベジータ': {8192120892737752775},\n",
       " 'ベジータ': {7239158803188884780,\n",
       "  7510331091196385733,\n",
       "  8192120892737752775,\n",
       "  8817195983466389445,\n",
       "  9022682885623469335},\n",
       " '王子': {8192120892737752775},\n",
       " '界王': {7239158803188884780, 8192120892737752775},\n",
       " 'ナッパ': {8192120892737752775},\n",
       " '地球': {970764164167309241, 7239158803188884780, 7510331091196385733},\n",
       " '対決': {7239158803188884780},\n",
       " '戦死': {7239158803188884780},\n",
       " 'フリーザ': {7239158803188884780, 7510331091196385733},\n",
       " '辛勝': {7239158803188884780},\n",
       " '撤退': {7239158803188884780},\n",
       " '悟飯': {4880187643955340463, 7239158803188884780, 9022682885623469335},\n",
       " '帝王': {7239158803188884780},\n",
       " '協力': {7239158803188884780},\n",
       " '死亡': {7239158803188884780},\n",
       " '一味': {7239158803188884780},\n",
       " 'ナメック星': {970764164167309241, 7239158803188884780},\n",
       " 'ポルンガ': {7239158803188884780, 7510331091196385733},\n",
       " '蘇生': {4880187643955340463, 7510331091196385733},\n",
       " '伝説': {7510331091196385733},\n",
       " '超サイヤ人': {4880187643955340463, 7510331091196385733},\n",
       " '武道会': {8817195983466389445},\n",
       " 'セルゲーム': {4880187643955340463, 8817195983466389445},\n",
       " '心臓病': {8817195983466389445},\n",
       " '人造人間': {8817195983466389445},\n",
       " '究極': {8817195983466389445},\n",
       " 'トランクス': {8817195983466389445},\n",
       " 'セル': {8817195983466389445},\n",
       " '悪人': {4880187643955340463},\n",
       " '占いババ': {4880187643955340463},\n",
       " '吸収': {9022682885623469335},\n",
       " '潜在能力': {9022682885623469335},\n",
       " '魔人ブウ': {970764164167309241, 9022682885623469335},\n",
       " '界王神': {9022682885623469335},\n",
       " '戦士': {9022682885623469335},\n",
       " 'フュージョン': {9022682885623469335},\n",
       " '融合': {9022682885623469335},\n",
       " '孫': {970764164167309241},\n",
       " '世界': {970764164167309241},\n",
       " '元気玉': {970764164167309241},\n",
       " 'ウーブ': {970764164167309241},\n",
       " 'パン': {970764164167309241}}"
      ]
     },
     "execution_count": 23,
     "metadata": {},
     "output_type": "execute_result"
    }
   ],
   "source": [
    "kt_index.docstore.docs['20504282-176d-4932-b1e7-73e420235223'].table"
   ]
  },
  {
   "cell_type": "code",
   "execution_count": 51,
   "id": "9d5f433c",
   "metadata": {},
   "outputs": [
    {
     "name": "stdout",
     "output_type": "stream",
     "text": [
      "INFO:root:> Starting query: セルは最後どうなった？\n",
      "DEBUG:openai:message='Request to OpenAI API' method=post path=https://api.openai.com/v1/completions\n",
      "DEBUG:openai:api_version=None data='{\"prompt\": [\"A question is provided below. Given the question, extract up to 10 keywords from the text. Focus on extracting the keywords that we can use to best lookup answers to the question. Avoid stopwords.\\\\n---------------------\\\\n\\\\u30bb\\\\u30eb\\\\u306f\\\\u6700\\\\u5f8c\\\\u3069\\\\u3046\\\\u306a\\\\u3063\\\\u305f\\\\uff1f\\\\n---------------------\\\\nProvide keywords in the following comma-separated format: \\'KEYWORDS: <keywords>\\'\\\\n\"], \"model\": \"text-davinci-003\", \"temperature\": 0.0, \"max_tokens\": 1536, \"top_p\": 1, \"frequency_penalty\": 0, \"presence_penalty\": 0, \"n\": 1, \"best_of\": 1, \"logit_bias\": {}}' message='Post details'\n",
      "DEBUG:urllib3.connectionpool:Resetting dropped connection: api.openai.com\n",
      "DEBUG:urllib3.connectionpool:https://api.openai.com:443 \"POST /v1/completions HTTP/1.1\" 200 None\n",
      "DEBUG:openai:message='OpenAI API response' path=https://api.openai.com/v1/completions processing_ms=766 request_id=e6ff738a41ca0de6a4978c37c365eae9 response_code=200\n",
      "DEBUG:root:\n",
      "KEYWORDS: セル, 最後, 結果\n",
      "INFO:root:query keywords: ['結果', 'セル', '最後']\n",
      "INFO:root:> Extracted keywords: ['セル']\n",
      "DEBUG:root:> Querying with idx: 8817195983466389445: トランクスと名乗るその青年は、自分は未来からやってきたブルマとベジータの息子であることを悟空に...\n",
      "DEBUG:root:> Searching in chunk: トランクスと名乗るその青年は、自分は未来からやってきたブルマとベジータの息子であることを悟空に...\n",
      "DEBUG:openai:message='Request to OpenAI API' method=post path=https://api.openai.com/v1/completions\n",
      "DEBUG:openai:api_version=None data='{\"prompt\": [\"Context information is below. \\\\n---------------------\\\\n\\\\u30c8\\\\u30e9\\\\u30f3\\\\u30af\\\\u30b9\\\\u3068\\\\u540d\\\\u4e57\\\\u308b\\\\u305d\\\\u306e\\\\u9752\\\\u5e74\\\\u306f\\\\u3001\\\\u81ea\\\\u5206\\\\u306f\\\\u672a\\\\u6765\\\\u304b\\\\u3089\\\\u3084\\\\u3063\\\\u3066\\\\u304d\\\\u305f\\\\u30d6\\\\u30eb\\\\u30de\\\\u3068\\\\u30d9\\\\u30b8\\\\u30fc\\\\u30bf\\\\u306e\\\\u606f\\\\u5b50\\\\u3067\\\\u3042\\\\u308b\\\\u3053\\\\u3068\\\\u3092\\\\u609f\\\\u7a7a\\\\u306b\\\\u3060\\\\u3051\\\\u660e\\\\u304b\\\\u3059\\\\u3068\\\\u540c\\\\u6642\\\\u306b\\\\u3001\\\\u609f\\\\u7a7a\\\\u306f\\\\u5fc3\\\\u81d3\\\\u75c5\\\\u306b\\\\u3088\\\\u3063\\\\u3066\\\\u547d\\\\u3092\\\\u843d\\\\u3068\\\\u3059\\\\u3053\\\\u3068\\\\u30013\\\\u5e74\\\\u5f8c\\\\u306b\\\\u73fe\\\\u308c\\\\u308b2\\\\u4f53\\\\u306e\\\\u4eba\\\\u9020\\\\u4eba\\\\u9593\\\\u304c\\\\u7d76\\\\u671b\\\\u306e\\\\u672a\\\\u6765\\\\u3092\\\\u3082\\\\u305f\\\\u3089\\\\u3059\\\\u3053\\\\u3068\\\\u3092\\\\u544a\\\\u3052\\\\u308b\\\\u3002\\\\u305d\\\\u306e\\\\u5f8c\\\\u672c\\\\u5f53\\\\u306b\\\\u5fc3\\\\u81d3\\\\u75c5\\\\u306b\\\\u3088\\\\u3063\\\\u3066\\\\u5371\\\\u7be4\\\\u72b6\\\\u614b\\\\u306b\\\\u306a\\\\u308b\\\\u3082\\\\u3001\\\\u30c8\\\\u30e9\\\\u30f3\\\\u30af\\\\u30b9\\\\u304b\\\\u3089\\\\u6e21\\\\u3055\\\\u308c\\\\u305f\\\\u7279\\\\u52b9\\\\u85ac\\\\u306b\\\\u3088\\\\u3063\\\\u3066\\\\u751f\\\\u9084\\\\u3001\\\\u6765\\\\u308b\\\\u3079\\\\u304d\\\\u65e5\\\\u306b\\\\u5099\\\\u3048\\\\u30663\\\\u5e74\\\\u9593\\\\u5404\\\\u3005\\\\u306b\\\\u4fee\\\\u884c\\\\u3057\\\\u3066\\\\u305d\\\\u306e\\\\u65e5\\\\u3092\\\\u8fce\\\\u3048\\\\u308b\\\\u609f\\\\u7a7a\\\\u305f\\\\u3061\\\\u3067\\\\u3042\\\\u3063\\\\u305f\\\\u304c\\\\u3001\\\\u4e8b\\\\u614b\\\\u306f\\\\u30c8\\\\u30e9\\\\u30f3\\\\u30af\\\\u30b9\\\\u304c\\\\u77e5\\\\u3063\\\\u3066\\\\u3044\\\\u308b\\\\u6b74\\\\u53f2\\\\u3068\\\\u306f\\\\u5927\\\\u304d\\\\u304f\\\\u9055\\\\u3046\\\\u3082\\\\u306e\\\\u3068\\\\u306a\\\\u308a\\\\u3001\\\\u5f7c\\\\u3055\\\\u3048\\\\u77e5\\\\u3089\\\\u306a\\\\u304b\\\\u3063\\\\u305f\\\\u4eba\\\\u9020\\\\u4eba\\\\u9593\\\\u305f\\\\u3061\\\\u307e\\\\u3067\\\\u73fe\\\\u308c\\\\u3001\\\\u3055\\\\u3089\\\\u306b\\\\u7a76\\\\u6975\\\\u306e\\\\u4eba\\\\u9020\\\\u4eba\\\\u9593\\\\u30fb\\\\u30bb\\\\u30eb\\\\u304c\\\\u672a\\\\u6765\\\\u304b\\\\u3089\\\\u51fa\\\\u73fe\\\\u3002\\\\u609f\\\\u7a7a\\\\u3089\\\\u306e\\\\u60f3\\\\u5b9a\\\\u3092\\\\u9065\\\\u304b\\\\u306b\\\\u8d85\\\\u3048\\\\u305f\\\\u6226\\\\u58eb\\\\u304c\\\\u7d9a\\\\u3005\\\\u3068\\\\u73fe\\\\u308c\\\\u305f\\\\u3002\\\\n\\\\n\\\\u4eba\\\\u9020\\\\u4eba\\\\u959317\\\\u53f7\\\\u3068\\\\u4eba\\\\u9020\\\\u4eba\\\\u959318\\\\u53f7\\\\u3092\\\\u5438\\\\u53ce\\\\u3059\\\\u308b\\\\u3053\\\\u3068\\\\u3067\\\\u5b8c\\\\u5168\\\\u4f53\\\\u3068\\\\u306a\\\\u3063\\\\u305f\\\\u30bb\\\\u30eb\\\\u306f\\\\u5730\\\\u7403\\\\u306e\\\\u547d\\\\u904b\\\\u3092\\\\u8ced\\\\u3051\\\\u305f\\\\u6b66\\\\u9053\\\\u4f1a\\\\u300c\\\\u30bb\\\\u30eb\\\\u30b2\\\\u30fc\\\\u30e0\\\\u300d\\\\u306e\\\\u958b\\\\u50ac\\\\u3092\\\\u5168\\\\u4e16\\\\u754c\\\\u306b\\\\u5ba3\\\\u8a00\\\\u3059\\\\u308b\\\\n---------------------\\\\nGiven the context information and not prior knowledge, answer the question: \\\\u30bb\\\\u30eb\\\\u306f\\\\u6700\\\\u5f8c\\\\u3069\\\\u3046\\\\u306a\\\\u3063\\\\u305f\\\\uff1f\\\\n\"], \"model\": \"text-davinci-003\", \"temperature\": 0.0, \"max_tokens\": 1536, \"top_p\": 1, \"frequency_penalty\": 0, \"presence_penalty\": 0, \"n\": 1, \"best_of\": 1, \"logit_bias\": {}}' message='Post details'\n",
      "DEBUG:urllib3.connectionpool:https://api.openai.com:443 \"POST /v1/completions HTTP/1.1\" 200 None\n",
      "DEBUG:openai:message='OpenAI API response' path=https://api.openai.com/v1/completions processing_ms=2560 request_id=001ef89a9b478e5615294027d72e17d8 response_code=200\n",
      "DEBUG:root:\n",
      "セルは、悟空が最終的に自分を犠牲にしてセルを消滅させることで最後に消滅した。\n",
      "DEBUG:root:> Initial response: \n",
      "セルは、悟空が最終的に自分を犠牲にしてセルを消滅させることで最後に消滅した。\n",
      "INFO:root:> [query] Total LLM token usage: 712 tokens\n",
      "INFO:root:> [query] Total embedding token usage: 0 tokens\n"
     ]
    },
    {
     "data": {
      "text/plain": [
       "Response(response='\\nセルは、悟空が最終的に自分を犠牲にしてセルを消滅させることで最後に消滅した。', source_nodes=[SourceNode(source_text='トランクスと名乗るその青年は、自分は未来からやってきたブルマとベジータの息子であることを悟空にだけ明かすと同時に、悟空は心臓病によって命を落とすこと、3年後に現れる2体の人造人間が絶望の未来をもたらすことを告げる。その後本当に心臓病によって危篤状態になるも、トランクスから渡された特効薬によって生還、来るべき日に備えて3年間各々に修行してその日を迎える悟空たちであったが、事態はトランクスが知っている歴史とは大きく違うものとなり、彼さえ知らなかった人造人間たちまで現れ、さらに究極の人造人間・セルが未来から出現。悟空らの想定を遥かに超えた戦士が続々と現れた。\\n\\n人造人間17号と人造人間18号を吸収することで完全体となったセルは地球の命運を賭けた武道会「セルゲーム」の開催を全世界に宣言する', doc_id='780cc593-3d8b-4baf-83e1-0fe8b9ae90de', extra_info=None, node_info={'start': 1915, 'end': 2260}, similarity=None)], extra_info=None)"
      ]
     },
     "execution_count": 51,
     "metadata": {},
     "output_type": "execute_result"
    }
   ],
   "source": [
    "kt_index.query(\"セルは最後どうなった？\")"
   ]
  },
  {
   "cell_type": "code",
   "execution_count": 24,
   "id": "647f1f2a",
   "metadata": {},
   "outputs": [
    {
     "data": {
      "text/plain": [
       "{6201837512700076671: Node(text='孫悟空少年編\\n地球の人里離れた山奥に住む尻尾の生えた少年・孫悟空はある日、西の都からやって来た少女・ブルマと出会う。そこで、7つ集めると神龍（シェンロン）が現れ、どんな願いでも一つだけ叶えてくれるというドラゴンボールの存在を、さらに育ての親である孫悟飯の形見として大切に持っていた球がその1つ「四星球（スーシンチュウ）」であることを知り、ブルマと共に残りのドラゴンボールを探す旅に出る。人さらいのウーロンや盗賊のヤムチャらを巻き込んだボール探しの末、世界征服を企むピラフ一味にボールを奪われ神龍を呼び出されるが、ウーロンがとっさに言い放った下らない願いを叶えてもらうことで一味の野望を阻止する', doc_id='a75ce452-c022-4ab5-9344-e9759062d9d2', embedding=None, extra_info=None, index=0, child_indices=set(), ref_doc_id='780cc593-3d8b-4baf-83e1-0fe8b9ae90de', node_info={'start': 0, 'end': 296}),\n",
       " 6158634650112249680: Node(text='\\n\\nその後、悟空は旅の途中に知り合った武術の達人・亀仙人の下で、後に親友となるクリリンと共に8か月間にわたる修行を積み、その成果を確かめるために世界一の武術の達人を決める天下一武道会に出場し、変装して出場していた亀仙人に敗れるも準優勝を果たす。悟空は再び修行の旅へと出発し、ドラゴンボールの悪用を企むレッドリボン軍との闘いや、孫悟飯との再会などを経てさらに強さを増していく。さらに3年後の天下一武道会では、亀仙流のライバルである鶴仙流の天津飯（てんしんはん）と闘うが、あと一歩のところで敗れ、前回と同じく準優勝に終わる。\\n\\nピッコロ大魔王編\\n天下一武道会終了後、ピラフ一味によって復活したピッコロ大魔王によって、クリリンや亀仙人など悟空の仲間たちや多くの武道家たちが殺される', doc_id='5382905f-d399-4743-9de4-687bb8881953', embedding=None, extra_info=None, index=1, child_indices=set(), ref_doc_id='780cc593-3d8b-4baf-83e1-0fe8b9ae90de', node_info={'start': 297, 'end': 634}),\n",
       " 8614812770996273364: Node(text='悟空は仇を討つため、道中に出会ったヤジロベーや仙猫カリンの協力を得て命を賭して潜在する力を引き出し、ピッコロ大魔王に闘いを挑み勝利する。闘いの後、悟空はピッコロ大魔王に殺された神龍や仲間たちの復活のため天界へ向かい、ドラゴンボールの創造者である神に会う。そこで神龍復活の条件として、神の下で天界で修行することとなった。\\n\\nその約3年後、少年から青年へと成長した悟空は、天下一武道会の会場で仲間たちと再会。試合では、少年時代に出会った際に「嫁にもらう」と約束していた牛魔王の娘・チチと再会しその場で結婚。そして武道会に出場していたピッコロ大魔王の生まれ変わりであるマジュニアと決勝戦で激突、これに勝利し初の天下一武道会優勝を飾る', doc_id='0c7998d4-95d1-4d6a-afc4-07d3c7510da8', embedding=None, extra_info=None, index=2, child_indices=set(), ref_doc_id='780cc593-3d8b-4baf-83e1-0fe8b9ae90de', node_info={'start': 635, 'end': 948}),\n",
       " 8192120892737752775: Node(text='\\n\\nサイヤ人編\\nピッコロ（マジュニア）との闘いから約5年後、息子の孫悟飯を儲けて平和な日々を過ごしていた悟空のもとに、実兄・ラディッツが宇宙より来襲し、自分が惑星ベジータの戦闘民族・サイヤ人であることを知らされる。さらわれた孫悟飯を助けるため悟空は宿敵ピッコロと手を組み、自らの命と引き換えにラディッツを倒すが、約1年後にはさらに強力なサイヤ人たちがドラゴンボールを求めて地球に来襲することを知る。\\n\\n悟空はドラゴンボールによって生き返るまでの間、あの世の界王の下で修業し、仲間と共に地球に強襲したサイヤ人の戦士・ナッパと王子・ベジータを迎え撃つ。悟空は修行により増した力でナッパを一蹴し、ベジータと決闘', doc_id='e1f76418-0114-4d31-ab31-b6dc0c88e752', embedding=None, extra_info=None, index=3, child_indices=set(), ref_doc_id='780cc593-3d8b-4baf-83e1-0fe8b9ae90de', node_info={'start': 949, 'end': 1251}),\n",
       " 7239158803188884780: Node(text='仲間の協力もあり、何とか辛勝し撤退させるが、多くの仲間を失うとともに、ピッコロの戦死により彼と一心同体であった神も死亡し、地球のドラゴンボールも消滅する。\\n\\nフリーザ編\\n地球の神と殺された仲間たちを甦らせるため、重傷で入院中の悟空に代わり、悟飯、クリリン、ブルマの3人が神とピッコロの故郷であるナメック星へ向かう。だが、そこには地球で闘ったベジータや、界王すら畏怖する宇宙の帝王・フリーザとその一味が不老不死を求めて来襲し、ナメック星人を虐殺しながらドラゴンボールを略奪していた。悟飯たちはベジータ、フリーザ一味とのドラゴンボールをめぐる三つ巴の攻防の末、後から到着した悟空とナメック星人たちの協力を得てナメック星の神龍・ポルンガを呼び出し、ピッコロと地球のドラゴンボールを復活させる。\\n\\n出し抜かれて願いが叶えられなかったフリーザは激怒し、一行は対決を強いられる', doc_id='840bc936-8bfe-4438-9c85-e012804484f6', embedding=None, extra_info=None, index=4, child_indices=set(), ref_doc_id='780cc593-3d8b-4baf-83e1-0fe8b9ae90de', node_info={'start': 1252, 'end': 1634}),\n",
       " 7510331091196385733: Node(text='フリーザの持つ圧倒的な力の前にはベジータやピッコロ、悟空すら歯が立たず仲間たちが次々と命を落としていった。怒りを爆発させた悟空は伝説の戦士・超（スーパー）サイヤ人へと覚醒。フルパワーを解放したフリーザに勝利する。ポルンガによって地球に帰還した悟飯たちは復活したドラゴンボールによりサイヤ人やフリーザ一味に殺された人々を蘇生させた。一方の悟空も爆発するナメック星を辛くも脱出、ヤードラット星に漂着し一命を取り留めた。\\n\\n人造人間・セル編\\nナメック星での闘いから約1年後、密かに生き延びていたフリーザとその一味が地球を襲撃するが、謎の超サイヤ人によって撃退される', doc_id='e903dfab-d8b5-46d9-a652-e50ef148f844', embedding=None, extra_info=None, index=5, child_indices=set(), ref_doc_id='780cc593-3d8b-4baf-83e1-0fe8b9ae90de', node_info={'start': 1635, 'end': 1914}),\n",
       " 8817195983466389445: Node(text='トランクスと名乗るその青年は、自分は未来からやってきたブルマとベジータの息子であることを悟空にだけ明かすと同時に、悟空は心臓病によって命を落とすこと、3年後に現れる2体の人造人間が絶望の未来をもたらすことを告げる。その後本当に心臓病によって危篤状態になるも、トランクスから渡された特効薬によって生還、来るべき日に備えて3年間各々に修行してその日を迎える悟空たちであったが、事態はトランクスが知っている歴史とは大きく違うものとなり、彼さえ知らなかった人造人間たちまで現れ、さらに究極の人造人間・セルが未来から出現。悟空らの想定を遥かに超えた戦士が続々と現れた。\\n\\n人造人間17号と人造人間18号を吸収することで完全体となったセルは地球の命運を賭けた武道会「セルゲーム」の開催を全世界に宣言する', doc_id='e3eb6f7b-5d49-44de-b140-737297372a40', embedding=None, extra_info=None, index=6, child_indices=set(), ref_doc_id='780cc593-3d8b-4baf-83e1-0fe8b9ae90de', node_info={'start': 1915, 'end': 2260}),\n",
       " 4880187643955340463: Node(text='悟空らは天界にある1日で1年の修行が行えるも過酷な環境に晒される「精神と時の部屋」で修行し、強さを増してセルゲームに臨むが、悟空はこのセルとの闘いの中で地球を守るために命を落とす。だが、その遺志を受け継いだ息子・悟飯が超サイヤ人2へと覚醒、父・悟空の幻影と共にかめはめ波を放ちセルを撃破。セルゲームを制した悟飯たちは、ドラゴンボールによりセルに殺された人々を蘇生させるが、悟空は自分が悪人を引き寄せているという理由で生き返りを拒否し、あの世に残ることを選ぶ。\\n\\n魔人ブウ編\\nセルゲームより約7年後、高校生に成長した悟飯が天下一武道会に出場することを知った悟空は、自らも出場するために占いババの力によって1日だけこの世に戻る', doc_id='bf6d564d-3736-4f60-af1c-5fde71237def', embedding=None, extra_info=None, index=7, child_indices=set(), ref_doc_id='780cc593-3d8b-4baf-83e1-0fe8b9ae90de', node_info={'start': 2261, 'end': 2572}),\n",
       " 9022682885623469335: Node(text='天下一武道会の最中、悟空たちは界王よりもさらに高位の存在である界王神から、恐ろしい力を持つ魔人ブウの封印が解かれようとしていることを知らされる。復活した魔人ブウにより悟飯やベジータが倒され、悟空はあの世に帰ったため、地球の命運は悟空の次男・孫悟天と少年トランクスの幼い二人に託される。\\n\\n一方、魔人ブウは様々な人間との出会いからより邪悪で強力な魔人へと変貌。悟天とトランクスが「フュージョン（融合）」して誕生した戦士・ゴテンクスや、潜在能力を解放し、パワーアップを遂げて帰ってきた悟飯らが応戦するが、戦士たちを次々と吸収し姿を変えていく魔人ブウに苦戦を強いられる。危機に陥った悟飯らを救うため現世に舞い戻った悟空とベジータは、界王神界で真の姿となった魔人ブウとの最終決戦に臨む', doc_id='4a5019d6-5e34-4d32-9097-40715893d100', embedding=None, extra_info=None, index=8, child_indices=set(), ref_doc_id='780cc593-3d8b-4baf-83e1-0fe8b9ae90de', node_info={'start': 2573, 'end': 2911}),\n",
       " 970764164167309241: Node(text='ドラゴンボールの協力もあり、地球・ナメック星・あの世の人々のエネルギーによって作り上げられた超特大の元気玉によって魔人ブウは完全に消滅する。\\n\\nそれから10年後、悟空は孫のパンと共に天下一武道会に久しぶりに出場し、魔人ブウの生まれ変わりである少年・ウーブと出会う。悟空はウーブと共に見果てぬ強さを追い求めて修行に旅立ち、物語は幕を閉じる。\\n\\n', doc_id='3eabc742-ff09-443d-a114-f4e92628b44f', embedding=None, extra_info=None, index=9, child_indices=set(), ref_doc_id='780cc593-3d8b-4baf-83e1-0fe8b9ae90de', node_info={'start': 2912, 'end': 3083})}"
      ]
     },
     "execution_count": 24,
     "metadata": {},
     "output_type": "execute_result"
    }
   ],
   "source": [
    "kt_index.docstore.docs['20504282-176d-4932-b1e7-73e420235223'].text_chunks"
   ]
  },
  {
   "cell_type": "code",
   "execution_count": 26,
   "id": "9b84efd1",
   "metadata": {},
   "outputs": [],
   "source": [
    "kt_index.docstore.docs['20504282-176d-4932-b1e7-73e420235223'].embedding"
   ]
  },
  {
   "cell_type": "code",
   "execution_count": 27,
   "id": "4ea89666",
   "metadata": {},
   "outputs": [],
   "source": [
    "d_index = GPTTreeIndex.load_from_disk('dai_tree.json', prompt_helper=prompt_helper, llm_predictor=llm_predictor)\n",
    "b_index = GPTTreeIndex.load_from_disk('dragon_tree.json', prompt_helper=prompt_helper, llm_predictor=llm_predictor)"
   ]
  },
  {
   "cell_type": "code",
   "execution_count": 28,
   "id": "ed2918c5",
   "metadata": {},
   "outputs": [
    {
     "data": {
      "text/plain": [
       "dict_keys(['38f1d4b1-3314-4635-a146-82951b12f846'])"
      ]
     },
     "execution_count": 28,
     "metadata": {},
     "output_type": "execute_result"
    }
   ],
   "source": [
    "d_index.docstore.docs.keys()"
   ]
  },
  {
   "cell_type": "markdown",
   "id": "908555b7",
   "metadata": {},
   "source": [
    "# all_indexの検証"
   ]
  },
  {
   "cell_type": "code",
   "execution_count": 40,
   "id": "cde28f3b",
   "metadata": {},
   "outputs": [
    {
     "name": "stdout",
     "output_type": "stream",
     "text": [
      "DEBUG:root:> Adding chunk: \n",
      "孫悟空少年編では、尻尾の生えた少年・孫悟空が西の都からやってきた少女・ブルマと出会い、ドラゴ...\n",
      "DEBUG:openai:message='Request to OpenAI API' method=post path=https://api.openai.com/v1/completions\n",
      "DEBUG:openai:api_version=None data='{\"prompt\": [\"Some text is provided below. Given the text, extract up to 15 keywords from the text. Avoid stopwords.---------------------\\\\n\\\\n\\\\u5b6b\\\\u609f\\\\u7a7a\\\\u5c11\\\\u5e74\\\\u7de8\\\\u3067\\\\u306f\\\\u3001\\\\u5c3b\\\\u5c3e\\\\u306e\\\\u751f\\\\u3048\\\\u305f\\\\u5c11\\\\u5e74\\\\u30fb\\\\u5b6b\\\\u609f\\\\u7a7a\\\\u304c\\\\u897f\\\\u306e\\\\u90fd\\\\u304b\\\\u3089\\\\u3084\\\\u3063\\\\u3066\\\\u304d\\\\u305f\\\\u5c11\\\\u5973\\\\u30fb\\\\u30d6\\\\u30eb\\\\u30de\\\\u3068\\\\u51fa\\\\u4f1a\\\\u3044\\\\u3001\\\\u30c9\\\\u30e9\\\\u30b4\\\\u30f3\\\\u30dc\\\\u30fc\\\\u30eb\\\\u30927\\\\u3064\\\\u96c6\\\\u3081\\\\u308b\\\\u3053\\\\u3068\\\\u3067\\\\u795e\\\\u9f8d\\\\uff08\\\\u30b7\\\\u30a7\\\\u30f3\\\\u30ed\\\\u30f3\\\\uff09\\\\u304c\\\\u73fe\\\\u308c\\\\u308b\\\\u3053\\\\u3068\\\\u3092\\\\u77e5\\\\u308a\\\\u3001\\\\u6b8b\\\\u308a\\\\u306e\\\\u30c9\\\\u30e9\\\\u30b4\\\\u30f3\\\\u30dc\\\\u30fc\\\\u30eb\\\\u3092\\\\u63a2\\\\u3059\\\\u65c5\\\\u306b\\\\u51fa\\\\u308b\\\\u3002\\\\u305d\\\\u306e\\\\u9053\\\\u4e2d\\\\u3067\\\\u30a6\\\\u30fc\\\\u30ed\\\\u30f3\\\\u3084\\\\u30e4\\\\u30e0\\\\u30c1\\\\u30e3\\\\u3089\\\\u3092\\\\u5dfb\\\\u304d\\\\u8fbc\\\\u3093\\\\u3060\\\\u30dc\\\\u30fc\\\\u30eb\\\\u63a2\\\\u3057\\\\u306e\\\\u672b\\\\u3001\\\\u30d4\\\\u30e9\\\\u30d5\\\\u4e00\\\\u5473\\\\u306b\\\\u30dc\\\\u30fc\\\\u30eb\\\\u3092\\\\u596a\\\\u308f\\\\u308c\\\\u795e\\\\u9f8d\\\\u3092\\\\u547c\\\\u3073\\\\u51fa\\\\u3055\\\\u308c\\\\u308b\\\\u304c\\\\u3001\\\\u30a6\\\\u30fc\\\\u30ed\\\\u30f3\\\\u304c\\\\u3068\\\\u3063\\\\u3055\\\\u306b\\\\u8a00\\\\u3044\\\\u653e\\\\u3063\\\\u305f\\\\u4e0b\\\\u3089\\\\u306a\\\\u3044\\\\u9858\\\\u3044\\\\u3092\\\\u53f6\\\\u3048\\\\u3066\\\\u3082\\\\u3089\\\\u3046\\\\u3053\\\\u3068\\\\u3067\\\\u4e00\\\\u5473\\\\u306e\\\\u91ce\\\\u671b\\\\u3092\\\\u963b\\\\u6b62\\\\u3059\\\\u308b\\\\u3002\\\\u609f\\\\u7a7a\\\\u306f\\\\u6b66\\\\u8853\\\\u306e\\\\u9054\\\\u4eba\\\\u30fb\\\\u4e80\\\\u4ed9\\\\u4eba\\\\u306e\\\\u4e0b\\\\u30678\\\\u304b\\\\u6708\\\\u9593\\\\u306b\\\\u308f\\\\u305f\\\\u308b\\\\u4fee\\\\u884c\\\\u3092\\\\u7a4d\\\\u307f\\\\u3001\\\\u305d\\\\u306e\\\\u6210\\\\u679c\\\\u3092\\\\u78ba\\\\u304b\\\\u3081\\\\u308b\\\\u305f\\\\u3081\\\\u306b\\\\u4e16\\\\u754c\\\\u4e00\\\\u306e\\\\u6b66\\\\u8853\\\\u306e\\\\u9054\\\\u4eba\\\\u3092\\\\u6c7a\\\\u3081\\\\u308b\\\\u5929\\\\u4e0b\\\\u4e00\\\\u6b66\\\\u9053\\\\u4f1a\\\\u306b\\\\u51fa\\\\u5834\\\\u3057\\\\u3001\\\\u6e96\\\\u512a\\\\u52dd\\\\u3092\\\\u679c\\\\u305f\\\\u3059\\\\u3002\\\\u30d4\\\\u30c3\\\\u30b3\\\\u30ed\\\\u5927\\\\u9b54\\\\u738b\\\\u7de8\\\\u3067\\\\u306f\\\\u3001\\\\u30d4\\\\u30e9\\\\u30d5\\\\u4e00\\\\u5473\\\\u306b\\\\u3088\\\\u3063\\\\u3066\\\\u5fa9\\\\u6d3b\\\\u3057\\\\u305f\\\\u30d4\\\\u30c3\\\\u30b3\\\\u30ed\\\\u5927\\\\u9b54\\\\u738b\\\\u306b\\\\u3088\\\\u3063\\\\u3066\\\\u3001\\\\u30af\\\\u30ea\\\\u30ea\\\\u30f3\\\\u3084\\\\u4e80\\\\u4ed9\\\\u4eba\\\\u306a\\\\u3069\\\\u609f\\\\u7a7a\\\\u306e\\\\u4ef2\\\\u9593\\\\u305f\\\\u3061\\\\u3084\\\\u591a\\\\u304f\\\\u306e\\\\u6b66\\\\u9053\\\\u5bb6\\\\u305f\\\\u3061\\\\u304c\\\\u6bba\\\\u3055\\\\u308c\\\\u308b\\\\u3002\\\\u609f\\\\u7a7a\\\\u306f\\\\u4ec7\\\\u3092\\\\u8a0e\\\\u3064\\\\u305f\\\\u3081\\\\u3001\\\\u30e4\\\\u30b8\\\\u30ed\\\\u30d9\\\\u30fc\\\\u3084\\\\u4ed9\\\\u732b\\\\u30ab\\\\u30ea\\\\u30f3\\\\u306e\\\\u5354\\\\u529b\\\\u3092\\\\u5f97\\\\u3066\\\\u547d\\\\u3092\\\\u8ced\\\\u3057\\\\u3066\\\\u6f5c\\\\u5728\\\\u3059\\\\u308b\\\\u529b\\\\u3092\\\\u5f15\\\\u304d\\\\u51fa\\\\u3057\\\\u3001\\\\u30d4\\\\u30c3\\\\u30b3\\\\u30ed\\\\u5927\\\\u9b54\\\\u738b\\\\u306b\\\\u95d8\\\\u3044\\\\u3092\\\\u6311\\\\u307f\\\\u52dd\\\\u5229\\\\u3059\\\\u308b\\\\u3002\\\\u305d\\\\u306e\\\\u5f8c\\\\u3001\\\\u609f\\\\u7a7a\\\\u306f\\\\u795e\\\\u9f8d\\\\u3084\\\\u4ef2\\\\u9593\\\\u305f\\\\u3061\\\\u306e\\\\u5fa9\\\\u6d3b\\\\u306e\\\\u305f\\\\u3081\\\\u5929\\\\u754c\\\\u3078\\\\u5411\\\\u304b\\\\u3044\\\\u3001\\\\u30c9\\\\u30e9\\\\u30b4\\\\u30f3\\\\u30dc\\\\u30fc\\\\u30eb\\\\u306e\\\\u5275\\\\u9020\\\\u8005\\\\u3067\\\\u3042\\\\u308b\\\\u795e\\\\u306b\\\\u4f1a\\\\u3046\\\\u3002\\\\u30b5\\\\u30a4\\\\u30e4\\\\u4eba\\\\u7de8\\\\u3067\\\\u306f\\\\u3001\\\\u30d4\\\\u30c3\\\\u30b3\\\\u30ed\\\\uff08\\\\u30de\\\\u30b8\\\\u30e5\\\\u30cb\\\\u30a2\\\\uff09\\\\u3068\\\\u306e\\\\u95d8\\\\u3044\\\\u304b\\\\u3089\\\\u7d045\\\\u5e74\\\\u5f8c\\\\u3001\\\\u606f\\\\u5b50\\\\u306e\\\\u5b6b\\\\u609f\\\\u98ef\\\\u3092\\\\u5132\\\\u3051\\\\u3066\\\\u5e73\\\\u548c\\\\u306a\\\\u65e5\\\\u3005\\\\u3092\\\\u904e\\\\u3054\\\\u3057\\\\u3066\\\\u3044\\\\u305f\\\\u609f\\\\u7a7a\\\\u306e\\\\u3082\\\\u3068\\\\u306b\\\\u3001\\\\u5b9f\\\\u5144\\\\u30fb\\\\u30e9\\\\u30c7\\\\u30a3\\\\u30c3\\\\u30c4\\\\u304c\\\\u5b87\\\\u5b99\\\\u3088\\\\u308a\\\\u6765\\\\u8972\\\\u3057\\\\u3001\\\\u81ea\\\\u5206\\\\u304c\\\\u60d1\\\\u661f\\\\u30d9\\\\u30b8\\\\u30fc\\\\u30bf\\\\u306e\\\\u6226\\\\u95d8\\\\u6c11\\\\u65cf\\\\u30fb\\\\u30b5\\\\u30a4\\\\u30e4\\\\u4eba\\\\u3067\\\\u3042\\\\u308b\\\\u3053\\\\u3068\\\\u3092\\\\u77e5\\\\u3089\\\\u3055\\\\u308c\\\\u308b\\\\u3002\\\\n\\\\u609f\\\\u7a7a\\\\u306f\\\\u5b6b\\\\u609f\\\\u98ef\\\\u3092\\\\u52a9\\\\u3051\\\\u308b\\\\u305f\\\\u3081\\\\u3001\\\\u5bbf\\\\u6575\\\\u30d4\\\\u30c3\\\\u30b3\\\\u30ed\\\\u3068\\\\u624b\\\\u3092\\\\u7d44\\\\u307f\\\\u3001\\\\u81ea\\\\u3089\\\\u306e\\\\u547d\\\\u3068\\\\u5f15\\\\u304d\\\\u63db\\\\u3048\\\\u306b\\\\u30e9\\\\u30c7\\\\u30a3\\\\u30c3\\\\u30c4\\\\u3092\\\\u5012\\\\u3059\\\\u3002\\\\u305d\\\\u306e\\\\u5f8c\\\\u3001\\\\u7d041\\\\u5e74\\\\u5f8c\\\\u306b\\\\u306f\\\\u3055\\\\u3089\\\\u306b\\\\u5f37\\\\u529b\\\\u306a\\\\u30b5\\\\u30a4\\\\u30e4\\\\u4eba\\\\u305f\\\\u3061\\\\u304c\\\\u30c9\\\\u30e9\\\\u30b4\\\\u30f3\\\\u30dc\\\\u30fc\\\\u30eb\\\\u3092\\\\u6c42\\\\u3081\\\\u3066\\\\u5730\\\\u7403\\\\u306b\\\\u6765\\\\u8972\\\\u3059\\\\u308b\\\\u3053\\\\u3068\\\\u3092\\\\u77e5\\\\u308b\\\\u3002\\\\u609f\\\\u7a7a\\\\u306f\\\\u4fee\\\\u884c\\\\u306b\\\\u3088\\\\u308a\\\\u5897\\\\u3057\\\\u305f\\\\u529b\\\\u3067\\\\u30ca\\\\u30c3\\\\u30d1\\\\u3092\\\\u4e00\\\\u8e74\\\\u3057\\\\u3001\\\\u30d9\\\\u30b8\\\\u30fc\\\\u30bf\\\\u3068\\\\u6c7a\\\\u95d8\\\\u3057\\\\u3001\\\\u4ef2\\\\u9593\\\\u306e\\\\u5354\\\\u529b\\\\u3082\\\\u3042\\\\u308a\\\\u3001\\\\u4f55\\\\u3068\\\\u304b\\\\u8f9b\\\\u52dd\\\\u3057\\\\u64a4\\\\u9000\\\\u3055\\\\u305b\\\\u308b\\\\u304c\\\\u3001\\\\u591a\\\\u304f\\\\u306e\\\\u4ef2\\\\u9593\\\\u3092\\\\u5931\\\\u3046\\\\u3068\\\\u3068\\\\u3082\\\\u306b\\\\u3001\\\\u30d4\\\\u30c3\\\\u30b3\\\\u30ed\\\\u306e\\\\u6226\\\\u6b7b\\\\u306b\\\\u3088\\\\u308a\\\\u5f7c\\\\u3068\\\\u4e00\\\\u5fc3\\\\u540c\\\\u4f53\\\\u3067\\\\u3042\\\\u3063\\\\u305f\\\\u795e\\\\u3082\\\\u6b7b\\\\u4ea1\\\\u3057\\\\u3001\\\\u5730\\\\u7403\\\\u306e\\\\u30c9\\\\u30e9\\\\u30b4\\\\u30f3\\\\u30dc\\\\u30fc\\\\u30eb\\\\u3082\\\\u6d88\\\\u6ec5\\\\u3059\\\\u308b\\\\u3002\\\\u609f\\\\u98ef\\\\u305f\\\\u3061\\\\u306f\\\\u30d9\\\\u30b8\\\\u30fc\\\\u30bf\\\\u3001\\\\u30d5\\\\u30ea\\\\u30fc\\\\u30b6\\\\u4e00\\\\u5473\\\\u3068\\\\u306e\\\\u30c9\\\\u30e9\\\\u30b4\\\\u30f3\\\\u30dc\\\\u30fc\\\\u30eb\\\\u3092\\\\u3081\\\\u3050\\\\u308b\\\\u4e09\\\\u3064\\\\u5df4\\\\u306e\\\\u653b\\\\u9632\\\\u306e\\\\u672b\\\\u3001\\\\u5f8c\\\\u304b\\\\u3089\\\\u5230\\\\u7740\\\\u3057\\\\u305f\\\\u609f\\\\u7a7a\\\\u3068\\\\u30ca\\\\u30e1\\\\u30c3\\\\u30af\\\\u661f\\\\u4eba\\\\u305f\\\\u3061\\\\u306e\\\\u5354\\\\u529b\\\\u3092\\\\u5f97\\\\u3066\\\\u30ca\\\\u30e1\\\\u30c3\\\\u30af\\\\u661f\\\\u306e\\\\u795e\\\\u9f8d\\\\u30fb\\\\u30dd\\\\u30eb\\\\u30f3\\\\u30ac\\\\u3092\\\\u547c\\\\u3073\\\\u51fa\\\\u3057\\\\u3001\\\\u30d4\\\\u30c3\\\\u30b3\\\\u30ed\\\\u3068\\\\u5730\\\\u7403\\\\u306e\\\\u30c9\\\\u30e9\\\\u30b4\\\\u30f3\\\\u30dc\\\\u30fc\\\\u30eb\\\\u3092\\\\u5fa9\\\\u6d3b\\\\u3055\\\\u305b\\\\u308b\\\\u3002\\\\u30d5\\\\u30ea\\\\u30fc\\\\u30b6\\\\u3092\\\\u5012\\\\u3057\\\\u3001\\\\u5730\\\\u7403\\\\u306e\\\\u795e\\\\u3068\\\\u6bba\\\\u3055\\\\u308c\\\\u305f\\\\u4ef2\\\\u9593\\\\u305f\\\\u3061\\\\u3092\\\\u7526\\\\u3089\\\\u305b\\\\u308b\\\\u3053\\\\u3068\\\\u306b\\\\u6210\\\\u529f\\\\u3057\\\\u305f\\\\u304c\\\\u3001\\\\u305d\\\\u306e\\\\u7d041\\\\u5e74\\\\u5f8c\\\\u306b\\\\u306f\\\\u8b0e\\\\u306e\\\\u8d85\\\\u30b5\\\\u30a4\\\\u30e4\\\\u4eba\\\\u306b\\\\u3088\\\\u3063\\\\u3066\\\\u6483\\\\u9000\\\\u3055\\\\u308c\\\\u305f\\\\u30d5\\\\u30ea\\\\u30fc\\\\u30b6\\\\u3068\\\\u305d\\\\u306e\\\\u4e00\\\\u5473\\\\u304c\\\\u518d\\\\u3073\\\\u5730\\\\u7403\\\\u3092\\\\u8972\\\\u6483\\\\u3059\\\\u308b\\\\u3002\\\\u30c8\\\\u30e9\\\\u30f3\\\\u30af\\\\u30b9\\\\u3068\\\\u540d\\\\u4e57\\\\u308b\\\\u305d\\\\u306e\\\\u9752\\\\u5e74\\\\u306f\\\\u3001\\\\u609f\\\\u7a7a\\\\u306f\\\\u5fc3\\\\u81d3\\\\u75c5\\\\u306b\\\\u3088\\\\u3063\\\\u3066\\\\u547d\\\\u3092\\\\u843d\\\\u3068\\\\u3059\\\\u3053\\\\u3068\\\\u30013\\\\u5e74\\\\u5f8c\\\\u306b\\\\u73fe\\\\u308c\\\\u308b2\\\\u4f53\\\\u306e\\\\u4eba\\\\u9020\\\\u4eba\\\\u9593\\\\u304c\\\\u7d76\\\\u671b\\\\u306e\\\\u672a\\\\u6765\\\\u3092\\\\u3082\\\\u305f\\\\u3089\\\\u3059\\\\u3053\\\\u3068\\\\u3092\\\\u544a\\\\u3052\\\\u308b\\\\u3002\\\\n\\\\u30bb\\\\u30eb\\\\u30b2\\\\u30fc\\\\u30e0\\\\u3068\\\\u547c\\\\u3070\\\\u308c\\\\u308b\\\\u6b66\\\\u9053\\\\u4f1a\\\\u3092\\\\u958b\\\\u50ac\\\\u3059\\\\u308b\\\\u3053\\\\u3068\\\\u3067\\\\u3001\\\\u5730\\\\u7403\\\\u306e\\\\u547d\\\\u904b\\\\u3092\\\\u8ced\\\\u3051\\\\u305f\\\\u30bb\\\\u30eb\\\\u306f\\\\u3001\\\\u4eba\\\\u9020\\\\u4eba\\\\u959317\\\\u53f7\\\\u3068\\\\u4eba\\\\u9020\\\\u4eba\\\\u959318\\\\u53f7\\\\u3092\\\\u5438\\\\u53ce\\\\u3057\\\\u3066\\\\u5b8c\\\\u5168\\\\u4f53\\\\u3068\\\\u306a\\\\u308b\\\\u3002\\\\u609f\\\\u7a7a\\\\u3089\\\\u306f\\\\u3001\\\\u7cbe\\\\u795e\\\\u3068\\\\u6642\\\\u306e\\\\u90e8\\\\u5c4b\\\\u3067\\\\u4fee\\\\u884c\\\\u3092\\\\u884c\\\\u3044\\\\u3001\\\\u30bb\\\\u30eb\\\\u3068\\\\u306e\\\\u95d8\\\\u3044\\\\u306e\\\\u4e2d\\\\u3067\\\\u5730\\\\u7403\\\\u3092\\\\u5b88\\\\u308b\\\\u305f\\\\u3081\\\\u306b\\\\u547d\\\\u3092\\\\u843d\\\\u3068\\\\u3059\\\\u3002\\\\u305d\\\\u306e\\\\u907a\\\\u5fd7\\\\u3092\\\\u53d7\\\\u3051\\\\u7d99\\\\u3044\\\\u3060\\\\u606f\\\\u5b50\\\\u30fb\\\\u609f\\\\u98ef\\\\u304c\\\\u8d85\\\\u30b5\\\\u30a4\\\\u30e4\\\\u4eba2\\\\u3078\\\\u3068\\\\u899a\\\\u9192\\\\u3057\\\\u3001\\\\u30bb\\\\u30eb\\\\u3092\\\\u6483\\\\u7834\\\\u3059\\\\u308b\\\\u3002\\\\u30c9\\\\u30e9\\\\u30b4\\\\u30f3\\\\u30dc\\\\u30fc\\\\u30eb\\\\u306b\\\\u3088\\\\u308a\\\\u30bb\\\\u30eb\\\\u306b\\\\u6bba\\\\u3055\\\\u308c\\\\u305f\\\\u4eba\\\\u3005\\\\u3092\\\\u8607\\\\u751f\\\\u3055\\\\u305b\\\\u308b\\\\u304c\\\\u3001\\\\u609f\\\\u7a7a\\\\u306f\\\\u81ea\\\\u5206\\\\u304c\\\\u60aa\\\\u4eba\\\\u3092\\\\u5f15\\\\u304d\\\\u5bc4\\\\u305b\\\\u3066\\\\u3044\\\\u308b\\\\u3068\\\\u3044\\\\u3046\\\\u7406\\\\u7531\\\\u3067\\\\u751f\\\\u304d\\\\u8fd4\\\\u308a\\\\u3092\\\\u62d2\\\\u5426\\\\u3057\\\\u3001\\\\u3042\\\\u306e\\\\u4e16\\\\u306b\\\\u6b8b\\\\u308b\\\\u3053\\\\u3068\\\\u3092\\\\u9078\\\\u3076\\\\u3002\\\\n\\\\n\\\\u7d047\\\\u5e74\\\\u5f8c\\\\u3001\\\\u9ad8\\\\u6821\\\\u751f\\\\u306b\\\\u6210\\\\u9577\\\\u3057\\\\u305f\\\\u609f\\\\u98ef\\\\u304c\\\\u5929\\\\u4e0b\\\\u4e00\\\\u6b66\\\\u9053\\\\u4f1a\\\\u306b\\\\u51fa\\\\u5834\\\\u3059\\\\u308b\\\\u3053\\\\u3068\\\\u3092\\\\u77e5\\\\u3063\\\\u305f\\\\u609f\\\\u7a7a\\\\u306f\\\\u3001\\\\u81ea\\\\u3089\\\\u3082\\\\u51fa\\\\u5834\\\\u3059\\\\u308b\\\\u305f\\\\u3081\\\\u306b\\\\u5360\\\\u3044\\\\u30d0\\\\u30d0\\\\u306e\\\\u529b\\\\u306b\\\\u3088\\\\u3063\\\\u30661\\\\u65e5\\\\u3060\\\\u3051\\\\u3053\\\\u306e\\\\u4e16\\\\u306b\\\\u623b\\\\u308b\\\\u3002\\\\u5929\\\\u4e0b\\\\u4e00\\\\u6b66\\\\u9053\\\\u4f1a\\\\u306e\\\\u6700\\\\u4e2d\\\\u3001\\\\u609f\\\\u7a7a\\\\u305f\\\\u3061\\\\u306f\\\\u754c\\\\u738b\\\\u795e\\\\u304b\\\\u3089\\\\u3001\\\\u6050\\\\u308d\\\\u3057\\\\u3044\\\\u529b\\\\u3092\\\\u6301\\\\u3064\\\\u9b54\\\\u4eba\\\\u30d6\\\\u30a6\\\\u306e\\\\u5c01\\\\u5370\\\\u304c\\\\u89e3\\\\u304b\\\\u308c\\\\u3088\\\\u3046\\\\u3068\\\\u3057\\\\u3066\\\\u3044\\\\u308b\\\\u3053\\\\u3068\\\\u3092\\\\u77e5\\\\u3089\\\\u3055\\\\u308c\\\\u308b\\\\u3002\\\\u5fa9\\\\u6d3b\\\\u3057\\\\u305f\\\\u9b54\\\\u4eba\\\\u30d6\\\\u30a6\\\\u306b\\\\u3088\\\\u308a\\\\u609f\\\\u98ef\\\\u3084\\\\u30d9\\\\u30b8\\\\u30fc\\\\u30bf\\\\u304c\\\\u5012\\\\u3055\\\\u308c\\\\u3001\\\\u609f\\\\u7a7a\\\\u306f\\\\u3042\\\\u306e\\\\u4e16\\\\u306b\\\\u5e30\\\\u3063\\\\u305f\\\\u305f\\\\u3081\\\\u3001\\\\u5730\\\\u7403\\\\u306e\\\\u547d\\\\u904b\\\\u306f\\\\u609f\\\\u7a7a\\\\u306e\\\\u6b21\\\\u7537\\\\u30fb\\\\u5b6b\\\\u609f\\\\u5929\\\\u3068\\\\u5c11\\\\u5e74\\\\u30c8\\\\u30e9\\\\u30f3\\\\u30af\\\\u30b9\\\\u306e\\\\u5e7c\\\\u3044\\\\u4e8c\\\\u4eba\\\\u306b\\\\u8a17\\\\u3055\\\\u308c\\\\u308b\\\\u3002\\\\u9b54\\\\u4eba\\\\u30d6\\\\u30a6\\\\u306f\\\\u69d8\\\\u3005\\\\u306a\\\\u4eba\\\\u9593\\\\u3068\\\\u306e\\\\u51fa\\\\u4f1a\\\\u3044\\\\u304b\\\\u3089\\\\u3088\\\\u308a\\\\u90aa\\\\u60aa\\\\u3067\\\\u5f37\\\\u529b\\\\u306a\\\\u9b54\\\\u4eba\\\\u3078\\\\u3068\\\\u5909\\\\u8c8c\\\\u3057\\\\u3001\\\\u609f\\\\u5929\\\\u3068\\\\u30c8\\\\u30e9\\\\u30f3\\\\u30af\\\\u30b9\\\\u304c\\\\u300c\\\\u30d5\\\\u30e5\\\\u30fc\\\\u30b8\\\\u30e7\\\\u30f3\\\\uff08\\\\u878d\\\\u5408\\\\uff09\\\\u300d\\\\u3057\\\\u3066\\\\u8a95\\\\u751f\\\\u3057\\\\u305f\\\\u6226\\\\u58eb\\\\u30fb\\\\u30b4\\\\u30c6\\\\u30f3\\\\u30af\\\\u30b9\\\\u3084\\\\u3001\\\\u6f5c\\\\u5728\\\\u80fd\\\\u529b\\\\u3092\\\\u89e3\\\\u653e\\\\u3057\\\\u3001\\\\u30d1\\\\u30ef\\\\u30fc\\\\u30a2\\\\u30c3\\\\u30d7\\\\u3092\\\\u9042\\\\u3052\\\\u3066\\\\u5e30\\\\u3063\\\\u3066\\\\u304d\\\\u305f\\\\u609f\\\\u98ef\\\\u3089\\\\u304c\\\\u5fdc\\\\u6226\\\\u3059\\\\u308b\\\\u304c\\\\u3001\\\\u82e6\\\\u6226\\\\u3092\\\\u5f37\\\\u3044\\\\u3089\\\\u308c\\\\u308b\\\\u3002\\\\u609f\\\\u7a7a\\\\u3068\\\\u30d9\\\\u30b8\\\\u30fc\\\\u30bf\\\\u304c\\\\u754c\\\\u738b\\\\u795e\\\\u754c\\\\u3067\\\\u771f\\\\u306e\\\\u59ff\\\\u3068\\\\u306a\\\\u3063\\\\u305f\\\\u9b54\\\\u4eba\\\\u30d6\\\\u30a6\\\\u3068\\\\u306e\\\\u6700\\\\u7d42\\\\u6c7a\\\\u6226\\\\u306b\\\\u81e8\\\\u307f\\\\u3001\\\\u30c9\\\\u30e9\\\\u30b4\\\\u30f3\\\\u30dc\\\\u30fc\\\\u30eb\\\\u306e\\\\u5354\\\\u529b\\\\u3082\\\\u3042\\\\u308a\\\\u3001\\\\u5730\\\\u7403\\\\u30fb\\\\u30ca\\\\u30e1\\\\u30c3\\\\u30af\\\\u661f\\\\u30fb\\\\u3042\\\\u306e\\\\u4e16\\\\u306e\\\\u4eba\\\\u3005\\\\u306e\\\\u30a8\\\\u30cd\\\\u30eb\\\\u30ae\\\\u30fc\\\\u306b\\\\u3088\\\\u3063\\\\u3066\\\\u4f5c\\\\u308a\\\\u4e0a\\\\u3052\\\\u3089\\\\u308c\\\\u305f\\\\u8d85\\\\u7279\\\\u5927\\\\u306e\\\\u5143\\\\u6c17\\\\u7389\\\\u306b\\\\u3088\\\\u3063\\\\u3066\\\\u9b54\\\\u4eba\\\\u30d6\\\\u30a6\\\\u306f\\\\u5b8c\\\\u5168\\\\u306b\\\\u6d88\\\\u6ec5\\\\u3059\\\\u308b\\\\u3002\\\\n\\\\n10\\\\u5e74\\\\u5f8c\\\\u3001\\\\u609f\\\\u7a7a\\\\u306f\\\\u5b6b\\\\u306e\\\\u30d1\\\\u30f3\\\\u3068\\\\u5171\\\\u306b\\\\u5929\\\\u4e0b\\\\u4e00\\\\u6b66\\\\u9053\\\\u4f1a\\\\u306b\\\\u4e45\\\\u3057\\\\u3076\\\\u308a\\\\u306b\\\\u51fa\\\\u5834\\\\u3057\\\\u3001\\\\u9b54\\\\u4eba\\\\u30d6\\\\u30a6\\\\u306e\\\\u751f\\\\u307e\\\\u308c\\\\u5909\\\\u308f\\\\u308a\\\\u3067\\\\u3042\\\\u308b\\\\u5c11\\\\u5e74\\\\u30fb\\\\u30a6\\\\u30fc\\\\u30d6\\\\u3068\\\\u51fa\\\\u4f1a\\\\u3046\\\\u3002\\\\u609f\\\\u7a7a\\\\u306f\\\\u30a6\\\\u30fc\\\\u30d6\\\\u3068\\\\u5171\\\\u306b\\\\u898b\\\\u679c\\\\u3066\\\\u306c\\\\u5f37\\\\u3055\\\\u3092\\\\u8ffd\\\\u3044\\\\u6c42\\\\u3081\\\\u3066\\\\u4fee\\\\u884c\\\\u306b\\\\u65c5\\\\u7acb\\\\u3061\\\\u3001\\\\u7269\\\\u8a9e\\\\u306f\\\\u5e55\\\\u3092\\\\u9589\\\\u3058\\\\u308b\\\\u3002\\\\n\\'\\\\n\\\\n---------------------\\\\nProvide keywords in the following comma-separated format: \\'KEYWORDS: <keywords>\\'\\\\n\"], \"model\": \"text-davinci-003\", \"temperature\": 0.0, \"max_tokens\": 256, \"top_p\": 1, \"frequency_penalty\": 0, \"presence_penalty\": 0, \"n\": 1, \"best_of\": 1, \"logit_bias\": {}}' message='Post details'\n"
     ]
    },
    {
     "name": "stdout",
     "output_type": "stream",
     "text": [
      "DEBUG:urllib3.connectionpool:Resetting dropped connection: api.openai.com\n",
      "DEBUG:urllib3.connectionpool:https://api.openai.com:443 \"POST /v1/completions HTTP/1.1\" 200 None\n",
      "DEBUG:openai:message='OpenAI API response' path=https://api.openai.com/v1/completions processing_ms=7766 request_id=99475ac4fc6c8fac3e3a7b5fc261b219 response_code=200\n",
      "DEBUG:root:\n",
      "KEYWORDS: 孫悟空, 少年, ブルマ, ドラゴンボール, 神龍, ウーロン, ピラフ, 亀仙人, 修行, 天下一武道会, ピッコロ大魔王, クリリン, サイヤ人, ナッパ, ベジータ, フリーザ, トランクス, セルゲーム, マジュニア, ポルンガ, 悟飯, 超サイヤ人, 占いババ, 界王神, 魔人ブウ, 元気玉, ウーブ\n",
      "DEBUG:root:> Adding chunk: \n",
      "十数年前、魔王ハドラー率いる魔王軍と勇者率いる勇者パーティの戦いは、勇者パーティの勝利で終わ...\n",
      "DEBUG:openai:message='Request to OpenAI API' method=post path=https://api.openai.com/v1/completions\n",
      "DEBUG:openai:api_version=None data='{\"prompt\": [\"Some text is provided below. Given the text, extract up to 15 keywords from the text. Avoid stopwords.---------------------\\\\n\\\\n\\\\u5341\\\\u6570\\\\u5e74\\\\u524d\\\\u3001\\\\u9b54\\\\u738b\\\\u30cf\\\\u30c9\\\\u30e9\\\\u30fc\\\\u7387\\\\u3044\\\\u308b\\\\u9b54\\\\u738b\\\\u8ecd\\\\u3068\\\\u52c7\\\\u8005\\\\u7387\\\\u3044\\\\u308b\\\\u52c7\\\\u8005\\\\u30d1\\\\u30fc\\\\u30c6\\\\u30a3\\\\u306e\\\\u6226\\\\u3044\\\\u306f\\\\u3001\\\\u52c7\\\\u8005\\\\u30d1\\\\u30fc\\\\u30c6\\\\u30a3\\\\u306e\\\\u52dd\\\\u5229\\\\u3067\\\\u7d42\\\\u308f\\\\u308a\\\\u3001\\\\u9b54\\\\u738b\\\\u306e\\\\u914d\\\\u4e0b\\\\u3067\\\\u3042\\\\u3063\\\\u305f\\\\u30e2\\\\u30f3\\\\u30b9\\\\u30bf\\\\u30fc\\\\u3082\\\\u9b54\\\\u738b\\\\u306e\\\\u652f\\\\u914d\\\\u304b\\\\u3089\\\\u89e3\\\\u304d\\\\u653e\\\\u305f\\\\u308c\\\\u3001\\\\u4e16\\\\u754c\\\\u306b\\\\u5e73\\\\u548c\\\\u304c\\\\u8a2a\\\\u308c\\\\u305f\\\\u3002\\\\u305d\\\\u308c\\\\u304b\\\\u3089\\\\u5341\\\\u6570\\\\u5e74\\\\u5f8c\\\\u3001\\\\u30c7\\\\u30eb\\\\u30e0\\\\u30ea\\\\u30f3\\\\u5cf6\\\\u306b\\\\u4f4f\\\\u3080\\\\u5c11\\\\u5e74\\\\u30c0\\\\u30a4\\\\u306f\\\\u3001\\\\u52c7\\\\u8005\\\\u306b\\\\u306a\\\\u308b\\\\u3053\\\\u3068\\\\u3092\\\\u5922\\\\u898b\\\\u3066\\\\u3044\\\\u305f\\\\u3002\\\\u3042\\\\u308b\\\\u65e5\\\\u3001\\\\u9b54\\\\u738b\\\\u304c\\\\u5fa9\\\\u6d3b\\\\u3057\\\\u305f\\\\u3053\\\\u3068\\\\u3092\\\\u5bdf\\\\u3059\\\\u308b\\\\u30d6\\\\u30e9\\\\u30b9\\\\u306b\\\\u8a2a\\\\u308c\\\\u305f\\\\u8b0e\\\\u306e\\\\u4eba\\\\u7269\\\\u30a2\\\\u30d0\\\\u30f3\\\\u3068\\\\u305d\\\\u306e\\\\u5f1f\\\\u5b50\\\\u306e\\\\u9b54\\\\u6cd5\\\\u4f7f\\\\u3044\\\\u30dd\\\\u30c3\\\\u30d7\\\\u304c\\\\u73fe\\\\u308c\\\\u3001\\\\u5cf6\\\\u3092\\\\u7834\\\\u90aa\\\\u546a\\\\u6587\\\\u30fb\\\\u30de\\\\u30db\\\\u30ab\\\\u30c8\\\\u30fc\\\\u30eb\\\\u3067\\\\u8986\\\\u3044\\\\u3001\\\\u30e2\\\\u30f3\\\\u30b9\\\\u30bf\\\\u30fc\\\\u305f\\\\u3061\\\\u3092\\\\u9b54\\\\u738b\\\\u306e\\\\u652f\\\\u914d\\\\u304b\\\\u3089\\\\u6551\\\\u3063\\\\u305f\\\\u3002\\\\u30a2\\\\u30d0\\\\u30f3\\\\u306f\\\\u30c0\\\\u30a4\\\\u306e\\\\u4e8b\\\\u3092\\\\u805e\\\\u304d\\\\u3001\\\\u305d\\\\u306e\\\\u5c06\\\\u6765\\\\u6027\\\\u3092\\\\u898b\\\\u8fbc\\\\u3093\\\\u3067\\\\u5cf6\\\\u3092\\\\u8a2a\\\\u308c\\\\u305f\\\\u306e\\\\u3067\\\\u3042\\\\u308b\\\\u3002\\\\u30c0\\\\u30a4\\\\u306f\\\\u30a2\\\\u30d0\\\\u30f3\\\\u306e\\\\u6307\\\\u5c0e\\\\u3092\\\\u53d7\\\\u3051\\\\u3066\\\\u3001\\\\u77ed\\\\u671f\\\\u9593\\\\u306e\\\\u3046\\\\u3061\\\\u306b\\\\u79d8\\\\u3081\\\\u3089\\\\u308c\\\\u305f\\\\u529b\\\\u3092\\\\u958b\\\\u82b1\\\\u3055\\\\u305b\\\\u3066\\\\u3044\\\\u304f\\\\u300215\\\\u5e74\\\\u3076\\\\u308a\\\\u306b\\\\u5fa9\\\\u6d3b\\\\u3057\\\\u305f\\\\u30cf\\\\u30c9\\\\u30e9\\\\u30fc\\\\u304c\\\\u30a2\\\\u30d0\\\\u30f3\\\\u62b9\\\\u6bba\\\\u306e\\\\u305f\\\\u3081\\\\u30c7\\\\u30eb\\\\u30e0\\\\u30ea\\\\u30f3\\\\u5cf6\\\\u306b\\\\u6765\\\\u8972\\\\u3059\\\\u308b\\\\u304c\\\\u3001\\\\u30c0\\\\u30a4\\\\u306f\\\\u984d\\\\u306b\\\\u6d6e\\\\u304d\\\\u51fa\\\\u305f\\\\u8b0e\\\\u306e\\\\u7d0b\\\\u7ae0\\\\u306e\\\\u529b\\\\u3067\\\\u30d1\\\\u30ef\\\\u30fc\\\\u30a2\\\\u30c3\\\\u30d7\\\\u3057\\\\u3001\\\\u30cf\\\\u30c9\\\\u30e9\\\\u30fc\\\\u3092\\\\u9000\\\\u3051\\\\u308b\\\\u3002\\\\u30c0\\\\u30a4\\\\u306f\\\\u9b54\\\\u738b\\\\u8ecd\\\\u3092\\\\u5012\\\\u3059\\\\u3079\\\\u304f\\\\u3001\\\\u30dd\\\\u30c3\\\\u30d7\\\\u3068\\\\u30b4\\\\u30e1\\\\u3061\\\\u3083\\\\u3093\\\\u3068\\\\u5171\\\\u306b\\\\u65c5\\\\u7acb\\\\u3061\\\\u3001\\\\u30ed\\\\u30e2\\\\u30b9\\\\u738b\\\\u56fd\\\\u3068\\\\u30d1\\\\u30d7\\\\u30cb\\\\u30ab\\\\u738b\\\\u56fd\\\\u3092\\\\u5360\\\\u62e0\\\\u3057\\\\u305f\\\\u9b54\\\\u738b\\\\u8ecd\\\\u516d\\\\u5927\\\\u8ecd\\\\u56e3\\\\u3068\\\\u6226\\\\u3044\\\\u3001\\\\u52dd\\\\u5229\\\\u3092\\\\u53ce\\\\u3081\\\\u308b\\\\u3002\\\\n\\\\u30c0\\\\u30a4\\\\u306f\\\\u4eba\\\\u9593\\\\u304b\\\\u3089\\\\u306e\\\\u8996\\\\u7dda\\\\u306b\\\\u82e6\\\\u60a9\\\\u3057\\\\u3066\\\\u3044\\\\u305f\\\\u304c\\\\u3001\\\\u305d\\\\u306e\\\\u524d\\\\u306b\\\\u7adc\\\\u9a0e\\\\u5c06\\\\u30d0\\\\u30e9\\\\u30f3\\\\u304c\\\\u73fe\\\\u308c\\\\u3001\\\\u30c0\\\\u30a4\\\\u304c\\\\u795e\\\\u3005\\\\u304c\\\\u4f5c\\\\u3063\\\\u305f\\\\u4f1d\\\\u8aac\\\\u306e\\\\u5b58\\\\u5728\\\\u300c\\\\u7adc\\\\u306e\\\\u9a0e\\\\u58eb\\\\u300d\\\\u3067\\\\u3042\\\\u308b\\\\u3053\\\\u3068\\\\u3092\\\\u544a\\\\u3052\\\\u305f\\\\u3002\\\\u30d0\\\\u30e9\\\\u30f3\\\\u306f\\\\u30c0\\\\u30a4\\\\u306b\\\\u9b54\\\\u738b\\\\u8ecd\\\\u306b\\\\u52a0\\\\u308f\\\\u308b\\\\u3088\\\\u3046\\\\u4fc3\\\\u3057\\\\u305f\\\\u304c\\\\u3001\\\\u30c0\\\\u30a4\\\\u306f\\\\u62d2\\\\u5426\\\\u3057\\\\u305f\\\\u3002\\\\u305d\\\\u306e\\\\u5f8c\\\\u3001\\\\u30dd\\\\u30c3\\\\u30d7\\\\u304c\\\\u30e1\\\\u30ac\\\\u30f3\\\\u30c6\\\\u3092\\\\u767a\\\\u52d5\\\\u3057\\\\u3066\\\\u72a0\\\\u7272\\\\u306b\\\\u306a\\\\u308a\\\\u3001\\\\u30c0\\\\u30a4\\\\u306e\\\\u8a18\\\\u61b6\\\\u304c\\\\u8607\\\\u3063\\\\u305f\\\\u3002\\\\u30ec\\\\u30aa\\\\u30ca\\\\u306f\\\\u4e16\\\\u754c\\\\u5404\\\\u56fd\\\\u306e\\\\u738b\\\\u306b\\\\u5354\\\\u529b\\\\u3092\\\\u547c\\\\u3073\\\\u304b\\\\u3051\\\\u3001\\\\u9b54\\\\u738b\\\\u8ecd\\\\u3078\\\\u306e\\\\u6c7a\\\\u6226\\\\u306e\\\\u6e96\\\\u5099\\\\u3092\\\\u9032\\\\u3081\\\\u308b\\\\u3002\\\\u30c0\\\\u30a4\\\\u4e00\\\\u884c\\\\u3082\\\\u65b0\\\\u305f\\\\u306a\\\\u529b\\\\u3092\\\\u84c4\\\\u3048\\\\u3001\\\\u30cf\\\\u30c9\\\\u30e9\\\\u30fc\\\\u306f\\\\u5996\\\\u9b54\\\\u53f8\\\\u6559\\\\u30b6\\\\u30dc\\\\u30a8\\\\u30e9\\\\u306e\\\\u624b\\\\u3067\\\\u81ea\\\\u3089\\\\u3092\\\\u8d85\\\\u9b54\\\\u751f\\\\u7269\\\\u306b\\\\u3055\\\\u305b\\\\u308b\\\\u3002\\\\u30c0\\\\u30a4\\\\u4e00\\\\u884c\\\\u306f\\\\u9b54\\\\u738b\\\\u8ecd\\\\u306e\\\\u672c\\\\u62e0\\\\u5730\\\\u3067\\\\u3042\\\\u308b\\\\u9b3c\\\\u5ca9\\\\u57ce\\\\u3092\\\\u7834\\\\u58ca\\\\u3057\\\\u305f\\\\u304c\\\\u3001\\\\u30d0\\\\u30fc\\\\u30f3\\\\u30d1\\\\u30ec\\\\u30b9\\\\u306b\\\\u306f\\\\u9b54\\\\u5bae\\\\u306e\\\\u9580\\\\u306b\\\\u3088\\\\u3063\\\\u3066\\\\u9589\\\\u3056\\\\u3055\\\\u308c\\\\u3066\\\\u3044\\\\u305f\\\\u3002\\\\u30d0\\\\u30e9\\\\u30f3\\\\u306f\\\\u30c0\\\\u30a4\\\\u4e00\\\\u884c\\\\u3068\\\\u5171\\\\u95d8\\\\u3057\\\\u3001\\\\u30cf\\\\u30c9\\\\u30e9\\\\u30fc\\\\u3068\\\\u5bfe\\\\u5cd9\\\\u3059\\\\u308b\\\\u304c\\\\u3001\\\\u9ed2\\\\u306e\\\\u6838\\\\u6676\\\\u304c\\\\u8d77\\\\u52d5\\\\u3057\\\\u3066\\\\u3057\\\\u307e\\\\u3044\\\\u3001\\\\u30d0\\\\u30e9\\\\u30f3\\\\u306f\\\\u30c0\\\\u30a4\\\\u305f\\\\u3061\\\\u3092\\\\u5b88\\\\u308b\\\\u305f\\\\u3081\\\\u306b\\\\u5168\\\\u3066\\\\u306e\\\\u529b\\\\u3092\\\\u4f7f\\\\u3063\\\\u3066\\\\u7206\\\\u767a\\\\u3092\\\\u62bc\\\\u3055\\\\u3048\\\\u3053\\\\u307f\\\\u306a\\\\u304c\\\\u3089\\\\u547d\\\\u3092\\\\u843d\\\\u3068\\\\u3057\\\\u305f\\\\u3002\\\\n\\\\u30c0\\\\u30a4\\\\u4e00\\\\u884c\\\\u306f\\\\u30d0\\\\u30fc\\\\u30f3\\\\u3068\\\\u306e\\\\u76f4\\\\u63a5\\\\u5bfe\\\\u6c7a\\\\u306b\\\\u304a\\\\u3044\\\\u3066\\\\u5727\\\\u5012\\\\u7684\\\\u306a\\\\u529b\\\\u306e\\\\u5dee\\\\u306e\\\\u524d\\\\u306b\\\\u6557\\\\u5317\\\\u3057\\\\u3001\\\\u30cf\\\\u30c9\\\\u30e9\\\\u30fc\\\\u304c\\\\u30d0\\\\u30fc\\\\u30f3\\\\u306b\\\\u53cd\\\\u9006\\\\u3057\\\\u3001\\\\u653b\\\\u6483\\\\u3092\\\\u4ed5\\\\u639b\\\\u3051\\\\u305f\\\\u9699\\\\u306b\\\\u8131\\\\u51fa\\\\u3059\\\\u308b\\\\u3002\\\\u30d0\\\\u30fc\\\\u30f3\\\\u306f\\\\u30d0\\\\u30fc\\\\u30f3\\\\u30d1\\\\u30ec\\\\u30b9\\\\u3092\\\\u98db\\\\u884c\\\\u3055\\\\u305b\\\\u3001\\\\u4e16\\\\u754c\\\\u5404\\\\u5730\\\\u3078\\\\u306e\\\\u7206\\\\u6483\\\\u3092\\\\u5b9f\\\\u884c\\\\u3059\\\\u308b\\\\u304c\\\\u3001\\\\u30d5\\\\u30ed\\\\u30fc\\\\u30e9\\\\u306e\\\\u5354\\\\u529b\\\\u3092\\\\u5f97\\\\u3066\\\\u8f9b\\\\u3046\\\\u3058\\\\u3066\\\\u751f\\\\u304d\\\\u5ef6\\\\u3073\\\\u305f\\\\u30c0\\\\u30a4\\\\u4e00\\\\u884c\\\\u306f\\\\u3001\\\\u30ec\\\\u30aa\\\\u30ca\\\\u3092\\\\u4e2d\\\\u5fc3\\\\u306b\\\\u5927\\\\u7834\\\\u90aa\\\\u546a\\\\u6587\\\\u30fb\\\\u30df\\\\u30ca\\\\u30ab\\\\u30c8\\\\u30fc\\\\u30eb\\\\u3092\\\\u767a\\\\u52d5\\\\u3057\\\\u3001\\\\u30d0\\\\u30fc\\\\u30f3\\\\u30d1\\\\u30ec\\\\u30b9\\\\u306e\\\\u52d5\\\\u304d\\\\u3092\\\\u5c01\\\\u3058\\\\u7a81\\\\u5165\\\\u3059\\\\u308b\\\\u3002\\\\u66f4\\\\u306b\\\\u30cf\\\\u30c9\\\\u30e9\\\\u30fc\\\\u3068\\\\u89aa\\\\u885b\\\\u9a0e\\\\u56e3\\\\u3082\\\\u4e71\\\\u5165\\\\u3057\\\\u3001\\\\u6fc0\\\\u95d8\\\\u3092\\\\u7e70\\\\u308a\\\\u5e83\\\\u3052\\\\u308b\\\\u3002\\\\u30c0\\\\u30a4\\\\u306f\\\\u30cf\\\\u30c9\\\\u30e9\\\\u30fc\\\\u3092\\\\u5012\\\\u3059\\\\u304c\\\\u3001\\\\u30ad\\\\u30eb\\\\u30d0\\\\u30fc\\\\u30f3\\\\u304c\\\\u4ed5\\\\u639b\\\\u3051\\\\u305f\\\\u7f60\\\\u304c\\\\u30c0\\\\u30a4\\\\u9054\\\\u3092\\\\u8972\\\\u3046\\\\u3002\\\\u305d\\\\u3053\\\\u306b\\\\u99c6\\\\u3051\\\\u3064\\\\u3051\\\\u305f\\\\u306e\\\\u306f\\\\u3001\\\\u304b\\\\u3064\\\\u3066\\\\u30d5\\\\u30ed\\\\u30fc\\\\u30e9\\\\u304b\\\\u3089\\\\u8a17\\\\u3055\\\\u308c\\\\u305f\\\\u300c\\\\u30ab\\\\u30fc\\\\u30eb\\\\u306e\\\\u307e\\\\u3082\\\\u308a\\\\u300d\\\\u304c\\\\u8eab\\\\u4ee3\\\\u308f\\\\u308a\\\\u3068\\\\u306a\\\\u3063\\\\u3066\\\\u751f\\\\u9084\\\\u3057\\\\u3001\\\\u5bc6\\\\u304b\\\\u306b\\\\u4fee\\\\u884c\\\\u3092\\\\u7d9a\\\\u3051\\\\u3066\\\\u3044\\\\u305f\\\\u30a2\\\\u30d0\\\\u30f3\\\\u3067\\\\u3042\\\\u3063\\\\u305f\\\\u3002\\\\u30c0\\\\u30a4\\\\u306f\\\\u7adc\\\\u306e\\\\u7d0b\\\\u7ae0\\\\u306e\\\\u529b\\\\u3067\\\\u30d0\\\\u30fc\\\\u30f3\\\\u3092\\\\u8ffd\\\\u3044\\\\u8a70\\\\u3081\\\\u3001\\\\u30d0\\\\u30fc\\\\u30f3\\\\u306f\\\\u30df\\\\u30b9\\\\u30c8\\\\u30d0\\\\u30fc\\\\u30f3\\\\u306b\\\\u9810\\\\u3051\\\\u3066\\\\u3044\\\\u305f\\\\u8089\\\\u4f53\\\\u3092\\\\u4f7f\\\\u3063\\\\u3066\\\\u771f\\\\u306e\\\\u59ff\\\\u3068\\\\u306a\\\\u308b\\\\u3002\\\\u30c0\\\\u30a4\\\\u306f\\\\u7adc\\\\u306e\\\\u9b54\\\\u4eba\\\\u3068\\\\u306a\\\\u308a\\\\u3001\\\\u30d0\\\\u30fc\\\\u30f3\\\\u3082\\\\u81ea\\\\u3089\\\\u306e\\\\u9b54\\\\u529b\\\\u306e\\\\u6e90\\\\u30fb\\\\u9b3c\\\\u773c\\\\u3092\\\\u89e3\\\\u653e\\\\u3057\\\\u3001\\\\u9b3c\\\\u773c\\\\u738b\\\\u3068\\\\u5316\\\\u3059\\\\u3002\\\\u6700\\\\u5f8c\\\\u306e\\\\u6fc0\\\\u95d8\\\\u306f\\\\u30c0\\\\u30a4\\\\u306e\\\\u52dd\\\\u5229\\\\u3067\\\\u7d42\\\\u308f\\\\u308a\\\\u3001\\\\u5730\\\\u4e0a\\\\u306b\\\\u5e30\\\\u9084\\\\u3057\\\\u305f\\\\u30c0\\\\u30a4\\\\u304c\\\\u4ef2\\\\u9593\\\\u305f\\\\u3061\\\\u306b\\\\u8fce\\\\u3048\\\\u3089\\\\u308c\\\\u308b\\\\u304c\\\\u3001\\\\u30ad\\\\u30eb\\\\u30d0\\\\u30fc\\\\u30f3\\\\u304c\\\\u73fe\\\\u308c\\\\u3001\\\\u81ea\\\\u3089\\\\u306e\\\\u6b63\\\\u4f53\\\\u3092\\\\u660e\\\\u304b\\\\u3059\\\\u3002\\\\u30ad\\\\u30eb\\\\u30d0\\\\u30fc\\\\u30f3\\\\u306f\\\\u30d0\\\\u30fc\\\\u30f3\\\\u306e\\\\u76e3\\\\u8996\\\\u3068\\\\u6697\\\\u6bba\\\\u3092\\\\u672c\\\\u6765\\\\u306e\\\\u76ee\\\\u7684\\\\u3068\\\\u3057\\\\u3066\\\\u3044\\\\u305f\\\\u306e\\\\u3060\\\\u3063\\\\u305f\\\\u3002\\\\u30ad\\\\u30eb\\\\u30d0\\\\u30fc\\\\u30f3\\\\u306f\\\\u30c0\\\\u30a4\\\\u4e00\\\\u884c\\\\u3092\\\\u5168\\\\u6ec5\\\\u3055\\\\u305b\\\\u308b\\\\u3079\\\\u304f\\\\u3001\\\\u96a0\\\\u3057\\\\u3066\\\\u3044\\\\u305f\\\\u9ed2\\\\u306e\\\\u6838\\\\u6676\\\\u3092\\\\u8d77\\\\u52d5\\\\u3055\\\\u305b\\\\u3066\\\\u7d76\\\\u671b\\\\u3059\\\\u308b\\\\u4e00\\\\u540c\\\\u3092\\\\u5632\\\\u7b11\\\\u3044\\\\u3001\\\\u9b54\\\\u754c\\\\u306b\\\\u9003\\\\u3052\\\\u5e30\\\\u308d\\\\u3046\\\\u3068\\\\u3059\\\\u308b\\\\u3002\\\\u30c0\\\\u30a4\\\\u3068\\\\u30dd\\\\u30c3\\\\u30d7\\\\u306f\\\\u6838\\\\u6676\\\\u3092\\\\u7a7a\\\\u9ad8\\\\u304f\\\\u904b\\\\u3093\\\\u3067\\\\u3044\\\\u304f\\\\u304c\\\\u3001\\\\u571f\\\\u58c7\\\\u5834\\\\u3067\\\\u30c0\\\\u30a4\\\\u306f\\\\u30dd\\\\u30c3\\\\u30d7\\\\u3092\\\\u5730\\\\u4e0a\\\\u306b\\\\u623b\\\\u3057\\\\u3001\\\\u4e00\\\\u4eba\\\\u7206\\\\u767a\\\\u306e\\\\u9583\\\\u5149\\\\u306e\\\\u4e2d\\\\u306b\\\\u6d88\\\\u3048\\\\u305f\\\\u3002\\\\u6570\\\\u9031\\\\u9593\\\\u306e\\\\u635c\\\\u7d22\\\\u3092\\\\u7d4c\\\\u3066\\\\u3082\\\\u306a\\\\u304a\\\\u3001\\\\u30c0\\\\u30a4\\\\u306e\\\\u59ff\\\\u306f\\\\u898b\\\\u3064\\\\u304b\\\\u3089\\\\u306a\\\\u304b\\\\u3063\\\\u305f\\\\u304c\\\\u3001\\\\u30ed\\\\u30f3\\\\u30fb\\\\u30d9\\\\u30eb\\\\u30af\\\\u306f\\\\u6301\\\\u3061\\\\u4e3b\\\\u306e\\\\u547d\\\\u3068\\\\u7e4b\\\\u304c\\\\u3063\\\\u3066\\\\u3044\\\\u308b\\\\u30c0\\\\u30a4\\\\u306e\\\\u5263\\\\u306e\\\\u3001\\\\u9b54\\\\u6cd5\\\\u5b9d\\\\u7389\\\\u304c\\\\u8f1d\\\\u304d\\\\u7d9a\\\\u3051\\\\u3066\\\\u3044\\\\u308b\\\\u3053\\\\u3068\\\\u304b\\\\u3089\\\\u3001\\\\u30c0\\\\u30a4\\\\u304c\\\\u3069\\\\u3053\\\\u304b\\\\u3067\\\\u751f\\\\u304d\\\\u3066\\\\u3044\\\\u308b\\\\u3053\\\\u3068\\\\u3092\\\\u78ba\\\\u4fe1\\\\u3057\\\\u3001\\\\u30dd\\\\u30c3\\\\u30d7\\\\u306f\\\\u3044\\\\u3064\\\\u304b\\\\u30c0\\\\u30a4\\\\u304c\\\\u623b\\\\u3063\\\\u3066\\\\u304f\\\\u308b\\\\u65e5\\\\u307e\\\\u3067\\\\u3001\\\\u4e16\\\\u754c\\\\u306e\\\\u5e73\\\\u548c\\\\u3092\\\\u81ea\\\\u5206\\\\u305f\\\\u3061\\\\u3067\\\\u5b88\\\\u308a\\\\u629c\\\\u304f\\\\u3053\\\\u3068\\\\u3092\\\\u8a93\\\\u3044\\\\u3001\\\\u518d\\\\u3073\\\\u30c0\\\\u30a4\\\\u3092\\\\u63a2\\\\u3059\\\\u65c5\\\\u306b\\\\u51fa\\\\u305f\\\\u3002\\\\n\\\\n---------------------\\\\nProvide keywords in the following comma-separated format: \\'KEYWORDS: <keywords>\\'\\\\n\"], \"model\": \"text-davinci-003\", \"temperature\": 0.0, \"max_tokens\": 256, \"top_p\": 1, \"frequency_penalty\": 0, \"presence_penalty\": 0, \"n\": 1, \"best_of\": 1, \"logit_bias\": {}}' message='Post details'\n"
     ]
    },
    {
     "name": "stdout",
     "output_type": "stream",
     "text": [
      "DEBUG:urllib3.connectionpool:https://api.openai.com:443 \"POST /v1/completions HTTP/1.1\" 200 None\n",
      "DEBUG:openai:message='OpenAI API response' path=https://api.openai.com/v1/completions processing_ms=3030 request_id=1666f7253ca27560f160d28cb660c750 response_code=200\n",
      "DEBUG:root:\n",
      "KEYWORDS: ハドラー, モンスター, ダイ, アバン, ポップ, マホカトール, バラン, メガンテ, ロモス, パプニカ, 鬼岩城, バーン, ミナカトール, カール, 鬼眼\n",
      "INFO:root:> [build_index_from_documents] Total LLM token usage: 4771 tokens\n",
      "INFO:root:> [build_index_from_documents] Total embedding token usage: 0 tokens\n"
     ]
    }
   ],
   "source": [
    "all_index = GPTKeywordTableIndex([b_index, d_index], max_keywords_per_chunk=15)"
   ]
  },
  {
   "cell_type": "code",
   "execution_count": 47,
   "id": "f85181ac",
   "metadata": {},
   "outputs": [
    {
     "data": {
      "text/plain": [
       "{'孫悟空': {4347119370851057834},\n",
       " 'クリリン': {4347119370851057834},\n",
       " '界王神': {4347119370851057834},\n",
       " 'ウーブ': {4347119370851057834},\n",
       " 'トランクス': {4347119370851057834},\n",
       " 'フリーザ': {4347119370851057834},\n",
       " '悟飯': {4347119370851057834},\n",
       " 'ウーロン': {4347119370851057834},\n",
       " '神龍': {4347119370851057834},\n",
       " 'セルゲーム': {4347119370851057834},\n",
       " '修行': {4347119370851057834},\n",
       " 'マジュニア': {4347119370851057834},\n",
       " '魔人ブウ': {4347119370851057834},\n",
       " 'ピラフ': {4347119370851057834},\n",
       " 'ブルマ': {4347119370851057834},\n",
       " '亀仙人': {4347119370851057834},\n",
       " 'サイヤ人': {4347119370851057834},\n",
       " 'ベジータ': {4347119370851057834},\n",
       " 'ナッパ': {4347119370851057834},\n",
       " '占いババ': {4347119370851057834},\n",
       " '元気玉': {4347119370851057834},\n",
       " 'ポルンガ': {4347119370851057834},\n",
       " '超サイヤ人': {4347119370851057834},\n",
       " 'ドラゴンボール': {4347119370851057834},\n",
       " '天下一武道会': {4347119370851057834},\n",
       " 'ピッコロ大魔王': {4347119370851057834},\n",
       " '少年': {4347119370851057834},\n",
       " '鬼眼': {4545755552743438823},\n",
       " 'アバン': {4545755552743438823},\n",
       " 'ハドラー': {4545755552743438823},\n",
       " 'ポップ': {4545755552743438823},\n",
       " 'バーン': {4545755552743438823},\n",
       " 'カール': {4545755552743438823},\n",
       " 'バラン': {4545755552743438823},\n",
       " 'パプニカ': {4545755552743438823},\n",
       " 'モンスター': {4545755552743438823},\n",
       " 'ロモス': {4545755552743438823},\n",
       " 'メガンテ': {4545755552743438823},\n",
       " '鬼岩城': {4545755552743438823},\n",
       " 'マホカトール': {4545755552743438823},\n",
       " 'ミナカトール': {4545755552743438823},\n",
       " 'ダイ': {4545755552743438823}}"
      ]
     },
     "execution_count": 47,
     "metadata": {},
     "output_type": "execute_result"
    }
   ],
   "source": [
    "all_index.docstore.docs['57959422-1c27-44a0-b8d8-0c803977ba44'].table"
   ]
  },
  {
   "cell_type": "code",
   "execution_count": 45,
   "id": "65c9419c",
   "metadata": {},
   "outputs": [
    {
     "data": {
      "text/plain": [
       "dict_keys(['8618eeae-fc69-4287-b646-83b56c5ac565', '38f1d4b1-3314-4635-a146-82951b12f846', '57959422-1c27-44a0-b8d8-0c803977ba44'])"
      ]
     },
     "execution_count": 45,
     "metadata": {},
     "output_type": "execute_result"
    }
   ],
   "source": [
    "all_index.docstore.docs.keys()"
   ]
  },
  {
   "cell_type": "markdown",
   "id": "62470597",
   "metadata": {},
   "source": [
    "##  重要\n",
    "all_indexはListIndexが各ノードのreferenceを保持している"
   ]
  },
  {
   "cell_type": "code",
   "execution_count": 48,
   "id": "d2b8b167",
   "metadata": {},
   "outputs": [
    {
     "name": "stdout",
     "output_type": "stream",
     "text": [
      "INFO:root:> Starting query: ダイは最後どうなりましたか？日本語で答えてください。\n",
      "DEBUG:openai:message='Request to OpenAI API' method=post path=https://api.openai.com/v1/completions\n",
      "DEBUG:openai:api_version=None data='{\"prompt\": [\"A question is provided below. Given the question, extract up to 10 keywords from the text. Focus on extracting the keywords that we can use to best lookup answers to the question. Avoid stopwords.\\\\n---------------------\\\\n\\\\u30c0\\\\u30a4\\\\u306f\\\\u6700\\\\u5f8c\\\\u3069\\\\u3046\\\\u306a\\\\u308a\\\\u307e\\\\u3057\\\\u305f\\\\u304b\\\\uff1f\\\\u65e5\\\\u672c\\\\u8a9e\\\\u3067\\\\u7b54\\\\u3048\\\\u3066\\\\u304f\\\\u3060\\\\u3055\\\\u3044\\\\u3002\\\\n---------------------\\\\nProvide keywords in the following comma-separated format: \\'KEYWORDS: <keywords>\\'\\\\n\"], \"model\": \"text-davinci-003\", \"temperature\": 0.0, \"max_tokens\": 256, \"top_p\": 1, \"frequency_penalty\": 0, \"presence_penalty\": 0, \"n\": 1, \"best_of\": 1, \"logit_bias\": {}}' message='Post details'\n",
      "DEBUG:urllib3.connectionpool:Resetting dropped connection: api.openai.com\n",
      "DEBUG:urllib3.connectionpool:https://api.openai.com:443 \"POST /v1/completions HTTP/1.1\" 200 None\n",
      "DEBUG:openai:message='OpenAI API response' path=https://api.openai.com/v1/completions processing_ms=1080 request_id=4fd00b8db6e9bbd06712b7856c17b3e5 response_code=200\n",
      "DEBUG:root:\n",
      "KEYWORDS: ダイ, 最後, 日本語, 答え\n",
      "INFO:root:query keywords: ['答え', 'ダイ', '日本語', '最後']\n",
      "INFO:root:> Extracted keywords: ['ダイ']\n",
      "DEBUG:root:> Querying with idx: 4545755552743438823: \n",
      "十数年前、魔王ハドラー率いる魔王軍と勇者率いる勇者パーティの戦いは、勇者パーティの勝利で終わ...\n",
      "DEBUG:root:> Searching in chunk: \n",
      "十数年前、魔王ハドラー率いる魔王軍と勇者率いる勇者パーティの戦いは、勇者パーティの勝利で終わ...\n",
      "DEBUG:openai:message='Request to OpenAI API' method=post path=https://api.openai.com/v1/completions\n",
      "DEBUG:openai:api_version=None data='{\"prompt\": [\"Context information is below. \\\\n---------------------\\\\n\\\\n\\\\u5341\\\\u6570\\\\u5e74\\\\u524d\\\\u3001\\\\u9b54\\\\u738b\\\\u30cf\\\\u30c9\\\\u30e9\\\\u30fc\\\\u7387\\\\u3044\\\\u308b\\\\u9b54\\\\u738b\\\\u8ecd\\\\u3068\\\\u52c7\\\\u8005\\\\u7387\\\\u3044\\\\u308b\\\\u52c7\\\\u8005\\\\u30d1\\\\u30fc\\\\u30c6\\\\u30a3\\\\u306e\\\\u6226\\\\u3044\\\\u306f\\\\u3001\\\\u52c7\\\\u8005\\\\u30d1\\\\u30fc\\\\u30c6\\\\u30a3\\\\u306e\\\\u52dd\\\\u5229\\\\u3067\\\\u7d42\\\\u308f\\\\u308a\\\\u3001\\\\u9b54\\\\u738b\\\\u306e\\\\u914d\\\\u4e0b\\\\u3067\\\\u3042\\\\u3063\\\\u305f\\\\u30e2\\\\u30f3\\\\u30b9\\\\u30bf\\\\u30fc\\\\u3082\\\\u9b54\\\\u738b\\\\u306e\\\\u652f\\\\u914d\\\\u304b\\\\u3089\\\\u89e3\\\\u304d\\\\u653e\\\\u305f\\\\u308c\\\\u3001\\\\u4e16\\\\u754c\\\\u306b\\\\u5e73\\\\u548c\\\\u304c\\\\u8a2a\\\\u308c\\\\u305f\\\\u3002\\\\u305d\\\\u308c\\\\u304b\\\\u3089\\\\u5341\\\\u6570\\\\u5e74\\\\u5f8c\\\\u3001\\\\u30c7\\\\u30eb\\\\u30e0\\\\u30ea\\\\u30f3\\\\u5cf6\\\\u306b\\\\u4f4f\\\\u3080\\\\u5c11\\\\u5e74\\\\u30c0\\\\u30a4\\\\u306f\\\\u3001\\\\u52c7\\\\u8005\\\\u306b\\\\u306a\\\\u308b\\\\u3053\\\\u3068\\\\u3092\\\\u5922\\\\u898b\\\\u3066\\\\u3044\\\\u305f\\\\u3002\\\\u3042\\\\u308b\\\\u65e5\\\\u3001\\\\u9b54\\\\u738b\\\\u304c\\\\u5fa9\\\\u6d3b\\\\u3057\\\\u305f\\\\u3053\\\\u3068\\\\u3092\\\\u5bdf\\\\u3059\\\\u308b\\\\u30d6\\\\u30e9\\\\u30b9\\\\u306b\\\\u8a2a\\\\u308c\\\\u305f\\\\u8b0e\\\\u306e\\\\u4eba\\\\u7269\\\\u30a2\\\\u30d0\\\\u30f3\\\\u3068\\\\u305d\\\\u306e\\\\u5f1f\\\\u5b50\\\\u306e\\\\u9b54\\\\u6cd5\\\\u4f7f\\\\u3044\\\\u30dd\\\\u30c3\\\\u30d7\\\\u304c\\\\u73fe\\\\u308c\\\\u3001\\\\u5cf6\\\\u3092\\\\u7834\\\\u90aa\\\\u546a\\\\u6587\\\\u30fb\\\\u30de\\\\u30db\\\\u30ab\\\\u30c8\\\\u30fc\\\\u30eb\\\\u3067\\\\u8986\\\\u3044\\\\u3001\\\\u30e2\\\\u30f3\\\\u30b9\\\\u30bf\\\\u30fc\\\\u305f\\\\u3061\\\\u3092\\\\u9b54\\\\u738b\\\\u306e\\\\u652f\\\\u914d\\\\u304b\\\\u3089\\\\u6551\\\\u3063\\\\u305f\\\\u3002\\\\u30a2\\\\u30d0\\\\u30f3\\\\u306f\\\\u30c0\\\\u30a4\\\\u306e\\\\u4e8b\\\\u3092\\\\u805e\\\\u304d\\\\u3001\\\\u305d\\\\u306e\\\\u5c06\\\\u6765\\\\u6027\\\\u3092\\\\u898b\\\\u8fbc\\\\u3093\\\\u3067\\\\u5cf6\\\\u3092\\\\u8a2a\\\\u308c\\\\u305f\\\\u306e\\\\u3067\\\\u3042\\\\u308b\\\\u3002\\\\u30c0\\\\u30a4\\\\u306f\\\\u30a2\\\\u30d0\\\\u30f3\\\\u306e\\\\u6307\\\\u5c0e\\\\u3092\\\\u53d7\\\\u3051\\\\u3066\\\\u3001\\\\u77ed\\\\u671f\\\\u9593\\\\u306e\\\\u3046\\\\u3061\\\\u306b\\\\u79d8\\\\u3081\\\\u3089\\\\u308c\\\\u305f\\\\u529b\\\\u3092\\\\u958b\\\\u82b1\\\\u3055\\\\u305b\\\\u3066\\\\u3044\\\\u304f\\\\u300215\\\\u5e74\\\\u3076\\\\u308a\\\\u306b\\\\u5fa9\\\\u6d3b\\\\u3057\\\\u305f\\\\u30cf\\\\u30c9\\\\u30e9\\\\u30fc\\\\u304c\\\\u30a2\\\\u30d0\\\\u30f3\\\\u62b9\\\\u6bba\\\\u306e\\\\u305f\\\\u3081\\\\u30c7\\\\u30eb\\\\u30e0\\\\u30ea\\\\u30f3\\\\u5cf6\\\\u306b\\\\u6765\\\\u8972\\\\u3059\\\\u308b\\\\u304c\\\\u3001\\\\u30c0\\\\u30a4\\\\u306f\\\\u984d\\\\u306b\\\\u6d6e\\\\u304d\\\\u51fa\\\\u305f\\\\u8b0e\\\\u306e\\\\u7d0b\\\\u7ae0\\\\u306e\\\\u529b\\\\u3067\\\\u30d1\\\\u30ef\\\\u30fc\\\\u30a2\\\\u30c3\\\\u30d7\\\\u3057\\\\u3001\\\\u30cf\\\\u30c9\\\\u30e9\\\\u30fc\\\\u3092\\\\u9000\\\\u3051\\\\u308b\\\\u3002\\\\u30c0\\\\u30a4\\\\u306f\\\\u9b54\\\\u738b\\\\u8ecd\\\\u3092\\\\u5012\\\\u3059\\\\u3079\\\\u304f\\\\u3001\\\\u30dd\\\\u30c3\\\\u30d7\\\\u3068\\\\u30b4\\\\u30e1\\\\u3061\\\\u3083\\\\u3093\\\\u3068\\\\u5171\\\\u306b\\\\u65c5\\\\u7acb\\\\u3061\\\\u3001\\\\u30ed\\\\u30e2\\\\u30b9\\\\u738b\\\\u56fd\\\\u3068\\\\u30d1\\\\u30d7\\\\u30cb\\\\u30ab\\\\u738b\\\\u56fd\\\\u3092\\\\u5360\\\\u62e0\\\\u3057\\\\u305f\\\\u9b54\\\\u738b\\\\u8ecd\\\\u516d\\\\u5927\\\\u8ecd\\\\u56e3\\\\u3068\\\\u6226\\\\u3044\\\\u3001\\\\u52dd\\\\u5229\\\\u3092\\\\u53ce\\\\u3081\\\\u308b\\\\u3002\\\\n\\\\u30c0\\\\u30a4\\\\u306f\\\\u4eba\\\\u9593\\\\u304b\\\\u3089\\\\u306e\\\\u8996\\\\u7dda\\\\u306b\\\\u82e6\\\\u60a9\\\\u3057\\\\u3066\\\\u3044\\\\u305f\\\\u304c\\\\u3001\\\\u305d\\\\u306e\\\\u524d\\\\u306b\\\\u7adc\\\\u9a0e\\\\u5c06\\\\u30d0\\\\u30e9\\\\u30f3\\\\u304c\\\\u73fe\\\\u308c\\\\u3001\\\\u30c0\\\\u30a4\\\\u304c\\\\u795e\\\\u3005\\\\u304c\\\\u4f5c\\\\u3063\\\\u305f\\\\u4f1d\\\\u8aac\\\\u306e\\\\u5b58\\\\u5728\\\\u300c\\\\u7adc\\\\u306e\\\\u9a0e\\\\u58eb\\\\u300d\\\\u3067\\\\u3042\\\\u308b\\\\u3053\\\\u3068\\\\u3092\\\\u544a\\\\u3052\\\\u305f\\\\u3002\\\\u30d0\\\\u30e9\\\\u30f3\\\\u306f\\\\u30c0\\\\u30a4\\\\u306b\\\\u9b54\\\\u738b\\\\u8ecd\\\\u306b\\\\u52a0\\\\u308f\\\\u308b\\\\u3088\\\\u3046\\\\u4fc3\\\\u3057\\\\u305f\\\\u304c\\\\u3001\\\\u30c0\\\\u30a4\\\\u306f\\\\u62d2\\\\u5426\\\\u3057\\\\u305f\\\\u3002\\\\u305d\\\\u306e\\\\u5f8c\\\\u3001\\\\u30dd\\\\u30c3\\\\u30d7\\\\u304c\\\\u30e1\\\\u30ac\\\\u30f3\\\\u30c6\\\\u3092\\\\u767a\\\\u52d5\\\\u3057\\\\u3066\\\\u72a0\\\\u7272\\\\u306b\\\\u306a\\\\u308a\\\\u3001\\\\u30c0\\\\u30a4\\\\u306e\\\\u8a18\\\\u61b6\\\\u304c\\\\u8607\\\\u3063\\\\u305f\\\\u3002\\\\u30ec\\\\u30aa\\\\u30ca\\\\u306f\\\\u4e16\\\\u754c\\\\u5404\\\\u56fd\\\\u306e\\\\u738b\\\\u306b\\\\u5354\\\\u529b\\\\u3092\\\\u547c\\\\u3073\\\\u304b\\\\u3051\\\\u3001\\\\u9b54\\\\u738b\\\\u8ecd\\\\u3078\\\\u306e\\\\u6c7a\\\\u6226\\\\u306e\\\\u6e96\\\\u5099\\\\u3092\\\\u9032\\\\u3081\\\\u308b\\\\u3002\\\\u30c0\\\\u30a4\\\\u4e00\\\\u884c\\\\u3082\\\\u65b0\\\\u305f\\\\u306a\\\\u529b\\\\u3092\\\\u84c4\\\\u3048\\\\u3001\\\\u30cf\\\\u30c9\\\\u30e9\\\\u30fc\\\\u306f\\\\u5996\\\\u9b54\\\\u53f8\\\\u6559\\\\u30b6\\\\u30dc\\\\u30a8\\\\u30e9\\\\u306e\\\\u624b\\\\u3067\\\\u81ea\\\\u3089\\\\u3092\\\\u8d85\\\\u9b54\\\\u751f\\\\u7269\\\\u306b\\\\u3055\\\\u305b\\\\u308b\\\\u3002\\\\u30c0\\\\u30a4\\\\u4e00\\\\u884c\\\\u306f\\\\u9b54\\\\u738b\\\\u8ecd\\\\u306e\\\\u672c\\\\u62e0\\\\u5730\\\\u3067\\\\u3042\\\\u308b\\\\u9b3c\\\\u5ca9\\\\u57ce\\\\u3092\\\\u7834\\\\u58ca\\\\u3057\\\\u305f\\\\u304c\\\\u3001\\\\u30d0\\\\u30fc\\\\u30f3\\\\u30d1\\\\u30ec\\\\u30b9\\\\u306b\\\\u306f\\\\u9b54\\\\u5bae\\\\u306e\\\\u9580\\\\u306b\\\\u3088\\\\u3063\\\\u3066\\\\u9589\\\\u3056\\\\u3055\\\\u308c\\\\u3066\\\\u3044\\\\u305f\\\\u3002\\\\u30d0\\\\u30e9\\\\u30f3\\\\u306f\\\\u30c0\\\\u30a4\\\\u4e00\\\\u884c\\\\u3068\\\\u5171\\\\u95d8\\\\u3057\\\\u3001\\\\u30cf\\\\u30c9\\\\u30e9\\\\u30fc\\\\u3068\\\\u5bfe\\\\u5cd9\\\\u3059\\\\u308b\\\\u304c\\\\u3001\\\\u9ed2\\\\u306e\\\\u6838\\\\u6676\\\\u304c\\\\u8d77\\\\u52d5\\\\u3057\\\\u3066\\\\u3057\\\\u307e\\\\u3044\\\\u3001\\\\u30d0\\\\u30e9\\\\u30f3\\\\u306f\\\\u30c0\\\\u30a4\\\\u305f\\\\u3061\\\\u3092\\\\u5b88\\\\u308b\\\\u305f\\\\u3081\\\\u306b\\\\u5168\\\\u3066\\\\u306e\\\\u529b\\\\u3092\\\\u4f7f\\\\u3063\\\\u3066\\\\u7206\\\\u767a\\\\u3092\\\\u62bc\\\\u3055\\\\u3048\\\\u3053\\\\u307f\\\\u306a\\\\u304c\\\\u3089\\\\u547d\\\\u3092\\\\u843d\\\\u3068\\\\u3057\\\\u305f\\\\u3002\\\\n\\\\u30c0\\\\u30a4\\\\u4e00\\\\u884c\\\\u306f\\\\u30d0\\\\u30fc\\\\u30f3\\\\u3068\\\\u306e\\\\u76f4\\\\u63a5\\\\u5bfe\\\\u6c7a\\\\u306b\\\\u304a\\\\u3044\\\\u3066\\\\u5727\\\\u5012\\\\u7684\\\\u306a\\\\u529b\\\\u306e\\\\u5dee\\\\u306e\\\\u524d\\\\u306b\\\\u6557\\\\u5317\\\\u3057\\\\u3001\\\\u30cf\\\\u30c9\\\\u30e9\\\\u30fc\\\\u304c\\\\u30d0\\\\u30fc\\\\u30f3\\\\u306b\\\\u53cd\\\\u9006\\\\u3057\\\\u3001\\\\u653b\\\\u6483\\\\u3092\\\\u4ed5\\\\u639b\\\\u3051\\\\u305f\\\\u9699\\\\u306b\\\\u8131\\\\u51fa\\\\u3059\\\\u308b\\\\u3002\\\\u30d0\\\\u30fc\\\\u30f3\\\\u306f\\\\u30d0\\\\u30fc\\\\u30f3\\\\u30d1\\\\u30ec\\\\u30b9\\\\u3092\\\\u98db\\\\u884c\\\\u3055\\\\u305b\\\\u3001\\\\u4e16\\\\u754c\\\\u5404\\\\u5730\\\\u3078\\\\u306e\\\\u7206\\\\u6483\\\\u3092\\\\u5b9f\\\\u884c\\\\u3059\\\\u308b\\\\u304c\\\\u3001\\\\u30d5\\\\u30ed\\\\u30fc\\\\u30e9\\\\u306e\\\\u5354\\\\u529b\\\\u3092\\\\u5f97\\\\u3066\\\\u8f9b\\\\u3046\\\\u3058\\\\u3066\\\\u751f\\\\u304d\\\\u5ef6\\\\u3073\\\\u305f\\\\u30c0\\\\u30a4\\\\u4e00\\\\u884c\\\\u306f\\\\u3001\\\\u30ec\\\\u30aa\\\\u30ca\\\\u3092\\\\u4e2d\\\\u5fc3\\\\u306b\\\\u5927\\\\u7834\\\\u90aa\\\\u546a\\\\u6587\\\\u30fb\\\\u30df\\\\u30ca\\\\u30ab\\\\u30c8\\\\u30fc\\\\u30eb\\\\u3092\\\\u767a\\\\u52d5\\\\u3057\\\\u3001\\\\u30d0\\\\u30fc\\\\u30f3\\\\u30d1\\\\u30ec\\\\u30b9\\\\u306e\\\\u52d5\\\\u304d\\\\u3092\\\\u5c01\\\\u3058\\\\u7a81\\\\u5165\\\\u3059\\\\u308b\\\\u3002\\\\u66f4\\\\u306b\\\\u30cf\\\\u30c9\\\\u30e9\\\\u30fc\\\\u3068\\\\u89aa\\\\u885b\\\\u9a0e\\\\u56e3\\\\u3082\\\\u4e71\\\\u5165\\\\u3057\\\\u3001\\\\u6fc0\\\\u95d8\\\\u3092\\\\u7e70\\\\u308a\\\\u5e83\\\\u3052\\\\u308b\\\\u3002\\\\u30c0\\\\u30a4\\\\u306f\\\\u30cf\\\\u30c9\\\\u30e9\\\\u30fc\\\\u3092\\\\u5012\\\\u3059\\\\u304c\\\\u3001\\\\u30ad\\\\u30eb\\\\u30d0\\\\u30fc\\\\u30f3\\\\u304c\\\\u4ed5\\\\u639b\\\\u3051\\\\u305f\\\\u7f60\\\\u304c\\\\u30c0\\\\u30a4\\\\u9054\\\\u3092\\\\u8972\\\\u3046\\\\u3002\\\\u305d\\\\u3053\\\\u306b\\\\u99c6\\\\u3051\\\\u3064\\\\u3051\\\\u305f\\\\u306e\\\\u306f\\\\u3001\\\\u304b\\\\u3064\\\\u3066\\\\u30d5\\\\u30ed\\\\u30fc\\\\u30e9\\\\u304b\\\\u3089\\\\u8a17\\\\u3055\\\\u308c\\\\u305f\\\\u300c\\\\u30ab\\\\u30fc\\\\u30eb\\\\u306e\\\\u307e\\\\u3082\\\\u308a\\\\u300d\\\\u304c\\\\u8eab\\\\u4ee3\\\\u308f\\\\u308a\\\\u3068\\\\u306a\\\\u3063\\\\u3066\\\\u751f\\\\u9084\\\\u3057\\\\u3001\\\\u5bc6\\\\u304b\\\\u306b\\\\u4fee\\\\u884c\\\\u3092\\\\u7d9a\\\\u3051\\\\u3066\\\\u3044\\\\u305f\\\\u30a2\\\\u30d0\\\\u30f3\\\\u3067\\\\u3042\\\\u3063\\\\u305f\\\\u3002\\\\u30c0\\\\u30a4\\\\u306f\\\\u7adc\\\\u306e\\\\u7d0b\\\\u7ae0\\\\u306e\\\\u529b\\\\u3067\\\\u30d0\\\\u30fc\\\\u30f3\\\\u3092\\\\u8ffd\\\\u3044\\\\u8a70\\\\u3081\\\\u3001\\\\u30d0\\\\u30fc\\\\u30f3\\\\u306f\\\\u30df\\\\u30b9\\\\u30c8\\\\u30d0\\\\u30fc\\\\u30f3\\\\u306b\\\\u9810\\\\u3051\\\\u3066\\\\u3044\\\\u305f\\\\u8089\\\\u4f53\\\\u3092\\\\u4f7f\\\\u3063\\\\u3066\\\\u771f\\\\u306e\\\\u59ff\\\\u3068\\\\u306a\\\\u308b\\\\u3002\\\\u30c0\\\\u30a4\\\\u306f\\\\u7adc\\\\u306e\\\\u9b54\\\\u4eba\\\\u3068\\\\u306a\\\\u308a\\\\u3001\\\\u30d0\\\\u30fc\\\\u30f3\\\\u3082\\\\u81ea\\\\u3089\\\\u306e\\\\u9b54\\\\u529b\\\\u306e\\\\u6e90\\\\u30fb\\\\u9b3c\\\\u773c\\\\u3092\\\\u89e3\\\\u653e\\\\u3057\\\\u3001\\\\u9b3c\\\\u773c\\\\u738b\\\\u3068\\\\u5316\\\\u3059\\\\u3002\\\\u6700\\\\u5f8c\\\\u306e\\\\u6fc0\\\\u95d8\\\\u306f\\\\u30c0\\\\u30a4\\\\u306e\\\\u52dd\\\\u5229\\\\u3067\\\\u7d42\\\\u308f\\\\u308a\\\\u3001\\\\u5730\\\\u4e0a\\\\u306b\\\\u5e30\\\\u9084\\\\u3057\\\\u305f\\\\u30c0\\\\u30a4\\\\u304c\\\\u4ef2\\\\u9593\\\\u305f\\\\u3061\\\\u306b\\\\u8fce\\\\u3048\\\\u3089\\\\u308c\\\\u308b\\\\u304c\\\\u3001\\\\u30ad\\\\u30eb\\\\u30d0\\\\u30fc\\\\u30f3\\\\u304c\\\\u73fe\\\\u308c\\\\u3001\\\\u81ea\\\\u3089\\\\u306e\\\\u6b63\\\\u4f53\\\\u3092\\\\u660e\\\\u304b\\\\u3059\\\\u3002\\\\u30ad\\\\u30eb\\\\u30d0\\\\u30fc\\\\u30f3\\\\u306f\\\\u30d0\\\\u30fc\\\\u30f3\\\\u306e\\\\u76e3\\\\u8996\\\\u3068\\\\u6697\\\\u6bba\\\\u3092\\\\u672c\\\\u6765\\\\u306e\\\\u76ee\\\\u7684\\\\u3068\\\\u3057\\\\u3066\\\\u3044\\\\u305f\\\\u306e\\\\u3060\\\\u3063\\\\u305f\\\\u3002\\\\u30ad\\\\u30eb\\\\u30d0\\\\u30fc\\\\u30f3\\\\u306f\\\\u30c0\\\\u30a4\\\\u4e00\\\\u884c\\\\u3092\\\\u5168\\\\u6ec5\\\\u3055\\\\u305b\\\\u308b\\\\u3079\\\\u304f\\\\u3001\\\\u96a0\\\\u3057\\\\u3066\\\\u3044\\\\u305f\\\\u9ed2\\\\u306e\\\\u6838\\\\u6676\\\\u3092\\\\u8d77\\\\u52d5\\\\u3055\\\\u305b\\\\u3066\\\\u7d76\\\\u671b\\\\u3059\\\\u308b\\\\u4e00\\\\u540c\\\\u3092\\\\u5632\\\\u7b11\\\\u3044\\\\u3001\\\\u9b54\\\\u754c\\\\u306b\\\\u9003\\\\u3052\\\\u5e30\\\\u308d\\\\u3046\\\\u3068\\\\u3059\\\\u308b\\\\u3002\\\\u30c0\\\\u30a4\\\\u3068\\\\u30dd\\\\u30c3\\\\u30d7\\\\u306f\\\\u6838\\\\u6676\\\\u3092\\\\u7a7a\\\\u9ad8\\\\u304f\\\\u904b\\\\u3093\\\\u3067\\\\u3044\\\\u304f\\\\u304c\\\\u3001\\\\u571f\\\\u58c7\\\\u5834\\\\u3067\\\\u30c0\\\\u30a4\\\\u306f\\\\u30dd\\\\u30c3\\\\u30d7\\\\u3092\\\\u5730\\\\u4e0a\\\\u306b\\\\u623b\\\\u3057\\\\u3001\\\\u4e00\\\\u4eba\\\\u7206\\\\u767a\\\\u306e\\\\u9583\\\\u5149\\\\u306e\\\\u4e2d\\\\u306b\\\\u6d88\\\\u3048\\\\u305f\\\\u3002\\\\u6570\\\\u9031\\\\u9593\\\\u306e\\\\u635c\\\\u7d22\\\\u3092\\\\u7d4c\\\\u3066\\\\u3082\\\\u306a\\\\u304a\\\\u3001\\\\u30c0\\\\u30a4\\\\u306e\\\\u59ff\\\\u306f\\\\u898b\\\\u3064\\\\u304b\\\\u3089\\\\u306a\\\\u304b\\\\u3063\\\\u305f\\\\u304c\\\\u3001\\\\u30ed\\\\u30f3\\\\u30fb\\\\u30d9\\\\u30eb\\\\u30af\\\\u306f\\\\u6301\\\\u3061\\\\u4e3b\\\\u306e\\\\u547d\\\\u3068\\\\u7e4b\\\\u304c\\\\u3063\\\\u3066\\\\u3044\\\\u308b\\\\u30c0\\\\u30a4\\\\u306e\\\\u5263\\\\u306e\\\\u3001\\\\u9b54\\\\u6cd5\\\\u5b9d\\\\u7389\\\\u304c\\\\u8f1d\\\\u304d\\\\u7d9a\\\\u3051\\\\u3066\\\\u3044\\\\u308b\\\\u3053\\\\u3068\\\\u304b\\\\u3089\\\\u3001\\\\u30c0\\\\u30a4\\\\u304c\\\\u3069\\\\u3053\\\\u304b\\\\u3067\\\\u751f\\\\u304d\\\\u3066\\\\u3044\\\\u308b\\\\u3053\\\\u3068\\\\u3092\\\\u78ba\\\\u4fe1\\\\u3057\\\\u3001\\\\u30dd\\\\u30c3\\\\u30d7\\\\u306f\\\\u3044\\\\u3064\\\\u304b\\\\u30c0\\\\u30a4\\\\u304c\\\\u623b\\\\u3063\\\\u3066\\\\u304f\\\\u308b\\\\u65e5\\\\u307e\\\\u3067\\\\u3001\\\\u4e16\\\\u754c\\\\u306e\\\\u5e73\\\\u548c\\\\u3092\\\\u81ea\\\\u5206\\\\u305f\\\\u3061\\\\u3067\\\\u5b88\\\\u308a\\\\u629c\\\\u304f\\\\u3053\\\\u3068\\\\u3092\\\\u8a93\\\\u3044\\\\u3001\\\\u518d\\\\u3073\\\\u30c0\\\\u30a4\\\\u3092\\\\u63a2\\\\u3059\\\\u65c5\\\\u306b\\\\u51fa\\\\u305f\\\\u3002\\\\n\\\\n---------------------\\\\nGiven the context information and not prior knowledge, answer the question: \\\\u30c0\\\\u30a4\\\\u306f\\\\u6700\\\\u5f8c\\\\u3069\\\\u3046\\\\u306a\\\\u308a\\\\u307e\\\\u3057\\\\u305f\\\\u304b\\\\uff1f\\\\u65e5\\\\u672c\\\\u8a9e\\\\u3067\\\\u7b54\\\\u3048\\\\u3066\\\\u304f\\\\u3060\\\\u3055\\\\u3044\\\\u3002\\\\n\"], \"model\": \"text-davinci-003\", \"temperature\": 0.0, \"max_tokens\": 256, \"top_p\": 1, \"frequency_penalty\": 0, \"presence_penalty\": 0, \"n\": 1, \"best_of\": 1, \"logit_bias\": {}}' message='Post details'\n"
     ]
    },
    {
     "name": "stdout",
     "output_type": "stream",
     "text": [
      "DEBUG:urllib3.connectionpool:https://api.openai.com:443 \"POST /v1/completions HTTP/1.1\" 200 None\n",
      "DEBUG:openai:message='OpenAI API response' path=https://api.openai.com/v1/completions processing_ms=3241 request_id=01ab8f7ce81d0a2e395c436273214288 response_code=200\n",
      "DEBUG:root:\n",
      "ダイは最後、黒の核晶を空高く運ぶために爆発の閃光の中に消えてしまいました。\n",
      "DEBUG:root:> Initial response: \n",
      "ダイは最後、黒の核晶を空高く運ぶために爆発の閃光の中に消えてしまいました。\n",
      "INFO:root:> [query] Total LLM token usage: 2217 tokens\n",
      "INFO:root:> [query] Total embedding token usage: 0 tokens\n"
     ]
    },
    {
     "data": {
      "text/plain": [
       "Response(response='\\nダイは最後、黒の核晶を空高く運ぶために爆発の閃光の中に消えてしまいました。', source_nodes=[SourceNode(source_text='\\n十数年前、魔王ハドラー率いる魔王軍と勇者率いる勇者パーティの戦いは、勇者パーティの勝利で終わり、魔王の配下であったモンスターも魔王の支配から解き放たれ、世界に平和が訪れた。それから十数年後、デルムリン島に住む少年ダイは、勇者になることを夢見ていた。ある日、魔王が復活したことを察するブラスに訪れた謎の人物アバンとその弟子の魔法使いポップが現れ、島を破邪呪文・マホカトールで覆い、モンスターたちを魔王の支配から救った。アバンはダイの事を聞き、その将来性を見込んで島を訪れたのである。ダイはアバンの指導を受けて、短期間のうちに秘められた力を開花させていく。15年ぶりに復活したハドラーがアバン抹殺のためデルムリン島に来襲するが、ダイは額に浮き出た謎の紋章の力でパワーアップし、ハドラーを退ける。ダイは魔王軍を倒すべく、ポップとゴメちゃんと共に旅立ち、ロモス王国とパプニカ王国を占拠した魔王軍六大軍団と戦い、勝利を収める。\\nダイは人間からの視線に苦悩していたが、その前に竜騎将バランが現れ、ダイが神々が作った伝説の存在「竜の騎士」であることを告げた。バランはダイに魔王軍に加わるよう促したが、ダイは拒否した。その後、ポップがメガンテを発動して犠牲になり、ダイの記憶が蘇った。レオナは世界各国の王に協力を呼びかけ、魔王軍への決戦の準備を進める。ダイ一行も新たな力を蓄え、ハドラーは妖魔司教ザボエラの手で自らを超魔生物にさせる。ダイ一行は魔王軍の本拠地である鬼岩城を破壊したが、バーンパレスには魔宮の門によって閉ざされていた。バランはダイ一行と共闘し、ハドラーと対峙するが、黒の核晶が起動してしまい、バランはダイたちを守るために全ての力を使って爆発を押さえこみながら命を落とした。\\nダイ一行はバーンとの直接対決において圧倒的な力の差の前に敗北し、ハドラーがバーンに反逆し、攻撃を仕掛けた隙に脱出する。バーンはバーンパレスを飛行させ、世界各地への爆撃を実行するが、フローラの協力を得て辛うじて生き延びたダイ一行は、レオナを中心に大破邪呪文・ミナカトールを発動し、バーンパレスの動きを封じ突入する。更にハドラーと親衛騎団も乱入し、激闘を繰り広げる。ダイはハドラーを倒すが、キルバーンが仕掛けた罠がダイ達を襲う。そこに駆けつけたのは、かつてフローラから託された「カールのまもり」が身代わりとなって生還し、密かに修行を続けていたアバンであった。ダイは竜の紋章の力でバーンを追い詰め、バーンはミストバーンに預けていた肉体を使って真の姿となる。ダイは竜の魔人となり、バーンも自らの魔力の源・鬼眼を解放し、鬼眼王と化す。最後の激闘はダイの勝利で終わり、地上に帰還したダイが仲間たちに迎えられるが、キルバーンが現れ、自らの正体を明かす。キルバーンはバーンの監視と暗殺を本来の目的としていたのだった。キルバーンはダイ一行を全滅させるべく、隠していた黒の核晶を起動させて絶望する一同を嘲笑い、魔界に逃げ帰ろうとする。ダイとポップは核晶を空高く運んでいくが、土壇場でダイはポップを地上に戻し、一人爆発の閃光の中に消えた。数週間の捜索を経てもなお、ダイの姿は見つからなかったが、ロン・ベルクは持ち主の命と繋がっているダイの剣の、魔法宝玉が輝き続けていることから、ダイがどこかで生きていることを確信し、ポップはいつかダイが戻ってくる日まで、世界の平和を自分たちで守り抜くことを誓い、再びダイを探す旅に出た。\\n', doc_id='38f1d4b1-3314-4635-a146-82951b12f846', extra_info=None, node_info={'start': 0, 'end': 1437}, similarity=None)], extra_info=None)"
      ]
     },
     "execution_count": 48,
     "metadata": {},
     "output_type": "execute_result"
    }
   ],
   "source": [
    "all_index.query(\"ダイは最後どうなりましたか？日本語で答えてください。\")"
   ]
  },
  {
   "cell_type": "code",
   "execution_count": 61,
   "id": "7bf71f90",
   "metadata": {},
   "outputs": [
    {
     "name": "stdout",
     "output_type": "stream",
     "text": [
      "INFO:root:> Starting query: 魔人ブウはどのように倒されましたか？、日本語で答えてください。\n",
      "DEBUG:openai:message='Request to OpenAI API' method=post path=https://api.openai.com/v1/completions\n",
      "DEBUG:openai:api_version=None data='{\"prompt\": [\"A question is provided below. Given the question, extract up to 10 keywords from the text. Focus on extracting the keywords that we can use to best lookup answers to the question. Avoid stopwords.\\\\n---------------------\\\\n\\\\u9b54\\\\u4eba\\\\u30d6\\\\u30a6\\\\u306f\\\\u3069\\\\u306e\\\\u3088\\\\u3046\\\\u306b\\\\u5012\\\\u3055\\\\u308c\\\\u307e\\\\u3057\\\\u305f\\\\u304b\\\\uff1f\\\\u3001\\\\u65e5\\\\u672c\\\\u8a9e\\\\u3067\\\\u7b54\\\\u3048\\\\u3066\\\\u304f\\\\u3060\\\\u3055\\\\u3044\\\\u3002\\\\n---------------------\\\\nProvide keywords in the following comma-separated format: \\'KEYWORDS: <keywords>\\'\\\\n\"], \"model\": \"text-davinci-003\", \"temperature\": 0.0, \"max_tokens\": 256, \"top_p\": 1, \"frequency_penalty\": 0, \"presence_penalty\": 0, \"n\": 1, \"best_of\": 1, \"logit_bias\": {}}' message='Post details'\n",
      "DEBUG:urllib3.connectionpool:Resetting dropped connection: api.openai.com\n",
      "DEBUG:urllib3.connectionpool:https://api.openai.com:443 \"POST /v1/completions HTTP/1.1\" 200 None\n",
      "DEBUG:openai:message='OpenAI API response' path=https://api.openai.com/v1/completions processing_ms=1068 request_id=8fc8b6be913affa8fd409f14ae2a79dd response_code=200\n",
      "DEBUG:root:\n",
      "KEYWORDS: 魔人ブウ, 倒される, 日本語\n",
      "INFO:root:query keywords: ['魔人ブウ', '日本語', '倒される']\n",
      "INFO:root:> Extracted keywords: ['魔人ブウ']\n",
      "DEBUG:root:> Querying with idx: 4347119370851057834: \n",
      "孫悟空少年編では、尻尾の生えた少年・孫悟空が西の都からやってきた少女・ブルマと出会い、ドラゴ...\n",
      "DEBUG:root:> Searching in chunk: \n",
      "孫悟空少年編では、尻尾の生えた少年・孫悟空が西の都からやってきた少女・ブルマと出会い、ドラゴ...\n",
      "DEBUG:openai:message='Request to OpenAI API' method=post path=https://api.openai.com/v1/completions\n",
      "DEBUG:openai:api_version=None data='{\"prompt\": [\"Context information is below. \\\\n---------------------\\\\n\\\\n\\\\u5b6b\\\\u609f\\\\u7a7a\\\\u5c11\\\\u5e74\\\\u7de8\\\\u3067\\\\u306f\\\\u3001\\\\u5c3b\\\\u5c3e\\\\u306e\\\\u751f\\\\u3048\\\\u305f\\\\u5c11\\\\u5e74\\\\u30fb\\\\u5b6b\\\\u609f\\\\u7a7a\\\\u304c\\\\u897f\\\\u306e\\\\u90fd\\\\u304b\\\\u3089\\\\u3084\\\\u3063\\\\u3066\\\\u304d\\\\u305f\\\\u5c11\\\\u5973\\\\u30fb\\\\u30d6\\\\u30eb\\\\u30de\\\\u3068\\\\u51fa\\\\u4f1a\\\\u3044\\\\u3001\\\\u30c9\\\\u30e9\\\\u30b4\\\\u30f3\\\\u30dc\\\\u30fc\\\\u30eb\\\\u30927\\\\u3064\\\\u96c6\\\\u3081\\\\u308b\\\\u3053\\\\u3068\\\\u3067\\\\u795e\\\\u9f8d\\\\uff08\\\\u30b7\\\\u30a7\\\\u30f3\\\\u30ed\\\\u30f3\\\\uff09\\\\u304c\\\\u73fe\\\\u308c\\\\u308b\\\\u3053\\\\u3068\\\\u3092\\\\u77e5\\\\u308a\\\\u3001\\\\u6b8b\\\\u308a\\\\u306e\\\\u30c9\\\\u30e9\\\\u30b4\\\\u30f3\\\\u30dc\\\\u30fc\\\\u30eb\\\\u3092\\\\u63a2\\\\u3059\\\\u65c5\\\\u306b\\\\u51fa\\\\u308b\\\\u3002\\\\u305d\\\\u306e\\\\u9053\\\\u4e2d\\\\u3067\\\\u30a6\\\\u30fc\\\\u30ed\\\\u30f3\\\\u3084\\\\u30e4\\\\u30e0\\\\u30c1\\\\u30e3\\\\u3089\\\\u3092\\\\u5dfb\\\\u304d\\\\u8fbc\\\\u3093\\\\u3060\\\\u30dc\\\\u30fc\\\\u30eb\\\\u63a2\\\\u3057\\\\u306e\\\\u672b\\\\u3001\\\\u30d4\\\\u30e9\\\\u30d5\\\\u4e00\\\\u5473\\\\u306b\\\\u30dc\\\\u30fc\\\\u30eb\\\\u3092\\\\u596a\\\\u308f\\\\u308c\\\\u795e\\\\u9f8d\\\\u3092\\\\u547c\\\\u3073\\\\u51fa\\\\u3055\\\\u308c\\\\u308b\\\\u304c\\\\u3001\\\\u30a6\\\\u30fc\\\\u30ed\\\\u30f3\\\\u304c\\\\u3068\\\\u3063\\\\u3055\\\\u306b\\\\u8a00\\\\u3044\\\\u653e\\\\u3063\\\\u305f\\\\u4e0b\\\\u3089\\\\u306a\\\\u3044\\\\u9858\\\\u3044\\\\u3092\\\\u53f6\\\\u3048\\\\u3066\\\\u3082\\\\u3089\\\\u3046\\\\u3053\\\\u3068\\\\u3067\\\\u4e00\\\\u5473\\\\u306e\\\\u91ce\\\\u671b\\\\u3092\\\\u963b\\\\u6b62\\\\u3059\\\\u308b\\\\u3002\\\\u609f\\\\u7a7a\\\\u306f\\\\u6b66\\\\u8853\\\\u306e\\\\u9054\\\\u4eba\\\\u30fb\\\\u4e80\\\\u4ed9\\\\u4eba\\\\u306e\\\\u4e0b\\\\u30678\\\\u304b\\\\u6708\\\\u9593\\\\u306b\\\\u308f\\\\u305f\\\\u308b\\\\u4fee\\\\u884c\\\\u3092\\\\u7a4d\\\\u307f\\\\u3001\\\\u305d\\\\u306e\\\\u6210\\\\u679c\\\\u3092\\\\u78ba\\\\u304b\\\\u3081\\\\u308b\\\\u305f\\\\u3081\\\\u306b\\\\u4e16\\\\u754c\\\\u4e00\\\\u306e\\\\u6b66\\\\u8853\\\\u306e\\\\u9054\\\\u4eba\\\\u3092\\\\u6c7a\\\\u3081\\\\u308b\\\\u5929\\\\u4e0b\\\\u4e00\\\\u6b66\\\\u9053\\\\u4f1a\\\\u306b\\\\u51fa\\\\u5834\\\\u3057\\\\u3001\\\\u6e96\\\\u512a\\\\u52dd\\\\u3092\\\\u679c\\\\u305f\\\\u3059\\\\u3002\\\\u30d4\\\\u30c3\\\\u30b3\\\\u30ed\\\\u5927\\\\u9b54\\\\u738b\\\\u7de8\\\\u3067\\\\u306f\\\\u3001\\\\u30d4\\\\u30e9\\\\u30d5\\\\u4e00\\\\u5473\\\\u306b\\\\u3088\\\\u3063\\\\u3066\\\\u5fa9\\\\u6d3b\\\\u3057\\\\u305f\\\\u30d4\\\\u30c3\\\\u30b3\\\\u30ed\\\\u5927\\\\u9b54\\\\u738b\\\\u306b\\\\u3088\\\\u3063\\\\u3066\\\\u3001\\\\u30af\\\\u30ea\\\\u30ea\\\\u30f3\\\\u3084\\\\u4e80\\\\u4ed9\\\\u4eba\\\\u306a\\\\u3069\\\\u609f\\\\u7a7a\\\\u306e\\\\u4ef2\\\\u9593\\\\u305f\\\\u3061\\\\u3084\\\\u591a\\\\u304f\\\\u306e\\\\u6b66\\\\u9053\\\\u5bb6\\\\u305f\\\\u3061\\\\u304c\\\\u6bba\\\\u3055\\\\u308c\\\\u308b\\\\u3002\\\\u609f\\\\u7a7a\\\\u306f\\\\u4ec7\\\\u3092\\\\u8a0e\\\\u3064\\\\u305f\\\\u3081\\\\u3001\\\\u30e4\\\\u30b8\\\\u30ed\\\\u30d9\\\\u30fc\\\\u3084\\\\u4ed9\\\\u732b\\\\u30ab\\\\u30ea\\\\u30f3\\\\u306e\\\\u5354\\\\u529b\\\\u3092\\\\u5f97\\\\u3066\\\\u547d\\\\u3092\\\\u8ced\\\\u3057\\\\u3066\\\\u6f5c\\\\u5728\\\\u3059\\\\u308b\\\\u529b\\\\u3092\\\\u5f15\\\\u304d\\\\u51fa\\\\u3057\\\\u3001\\\\u30d4\\\\u30c3\\\\u30b3\\\\u30ed\\\\u5927\\\\u9b54\\\\u738b\\\\u306b\\\\u95d8\\\\u3044\\\\u3092\\\\u6311\\\\u307f\\\\u52dd\\\\u5229\\\\u3059\\\\u308b\\\\u3002\\\\u305d\\\\u306e\\\\u5f8c\\\\u3001\\\\u609f\\\\u7a7a\\\\u306f\\\\u795e\\\\u9f8d\\\\u3084\\\\u4ef2\\\\u9593\\\\u305f\\\\u3061\\\\u306e\\\\u5fa9\\\\u6d3b\\\\u306e\\\\u305f\\\\u3081\\\\u5929\\\\u754c\\\\u3078\\\\u5411\\\\u304b\\\\u3044\\\\u3001\\\\u30c9\\\\u30e9\\\\u30b4\\\\u30f3\\\\u30dc\\\\u30fc\\\\u30eb\\\\u306e\\\\u5275\\\\u9020\\\\u8005\\\\u3067\\\\u3042\\\\u308b\\\\u795e\\\\u306b\\\\u4f1a\\\\u3046\\\\u3002\\\\u30b5\\\\u30a4\\\\u30e4\\\\u4eba\\\\u7de8\\\\u3067\\\\u306f\\\\u3001\\\\u30d4\\\\u30c3\\\\u30b3\\\\u30ed\\\\uff08\\\\u30de\\\\u30b8\\\\u30e5\\\\u30cb\\\\u30a2\\\\uff09\\\\u3068\\\\u306e\\\\u95d8\\\\u3044\\\\u304b\\\\u3089\\\\u7d045\\\\u5e74\\\\u5f8c\\\\u3001\\\\u606f\\\\u5b50\\\\u306e\\\\u5b6b\\\\u609f\\\\u98ef\\\\u3092\\\\u5132\\\\u3051\\\\u3066\\\\u5e73\\\\u548c\\\\u306a\\\\u65e5\\\\u3005\\\\u3092\\\\u904e\\\\u3054\\\\u3057\\\\u3066\\\\u3044\\\\u305f\\\\u609f\\\\u7a7a\\\\u306e\\\\u3082\\\\u3068\\\\u306b\\\\u3001\\\\u5b9f\\\\u5144\\\\u30fb\\\\u30e9\\\\u30c7\\\\u30a3\\\\u30c3\\\\u30c4\\\\u304c\\\\u5b87\\\\u5b99\\\\u3088\\\\u308a\\\\u6765\\\\u8972\\\\u3057\\\\u3001\\\\u81ea\\\\u5206\\\\u304c\\\\u60d1\\\\u661f\\\\u30d9\\\\u30b8\\\\u30fc\\\\u30bf\\\\u306e\\\\u6226\\\\u95d8\\\\u6c11\\\\u65cf\\\\u30fb\\\\u30b5\\\\u30a4\\\\u30e4\\\\u4eba\\\\u3067\\\\u3042\\\\u308b\\\\u3053\\\\u3068\\\\u3092\\\\u77e5\\\\u3089\\\\u3055\\\\u308c\\\\u308b\\\\u3002\\\\n\\\\u609f\\\\u7a7a\\\\u306f\\\\u5b6b\\\\u609f\\\\u98ef\\\\u3092\\\\u52a9\\\\u3051\\\\u308b\\\\u305f\\\\u3081\\\\u3001\\\\u5bbf\\\\u6575\\\\u30d4\\\\u30c3\\\\u30b3\\\\u30ed\\\\u3068\\\\u624b\\\\u3092\\\\u7d44\\\\u307f\\\\u3001\\\\u81ea\\\\u3089\\\\u306e\\\\u547d\\\\u3068\\\\u5f15\\\\u304d\\\\u63db\\\\u3048\\\\u306b\\\\u30e9\\\\u30c7\\\\u30a3\\\\u30c3\\\\u30c4\\\\u3092\\\\u5012\\\\u3059\\\\u3002\\\\u305d\\\\u306e\\\\u5f8c\\\\u3001\\\\u7d041\\\\u5e74\\\\u5f8c\\\\u306b\\\\u306f\\\\u3055\\\\u3089\\\\u306b\\\\u5f37\\\\u529b\\\\u306a\\\\u30b5\\\\u30a4\\\\u30e4\\\\u4eba\\\\u305f\\\\u3061\\\\u304c\\\\u30c9\\\\u30e9\\\\u30b4\\\\u30f3\\\\u30dc\\\\u30fc\\\\u30eb\\\\u3092\\\\u6c42\\\\u3081\\\\u3066\\\\u5730\\\\u7403\\\\u306b\\\\u6765\\\\u8972\\\\u3059\\\\u308b\\\\u3053\\\\u3068\\\\u3092\\\\u77e5\\\\u308b\\\\u3002\\\\u609f\\\\u7a7a\\\\u306f\\\\u4fee\\\\u884c\\\\u306b\\\\u3088\\\\u308a\\\\u5897\\\\u3057\\\\u305f\\\\u529b\\\\u3067\\\\u30ca\\\\u30c3\\\\u30d1\\\\u3092\\\\u4e00\\\\u8e74\\\\u3057\\\\u3001\\\\u30d9\\\\u30b8\\\\u30fc\\\\u30bf\\\\u3068\\\\u6c7a\\\\u95d8\\\\u3057\\\\u3001\\\\u4ef2\\\\u9593\\\\u306e\\\\u5354\\\\u529b\\\\u3082\\\\u3042\\\\u308a\\\\u3001\\\\u4f55\\\\u3068\\\\u304b\\\\u8f9b\\\\u52dd\\\\u3057\\\\u64a4\\\\u9000\\\\u3055\\\\u305b\\\\u308b\\\\u304c\\\\u3001\\\\u591a\\\\u304f\\\\u306e\\\\u4ef2\\\\u9593\\\\u3092\\\\u5931\\\\u3046\\\\u3068\\\\u3068\\\\u3082\\\\u306b\\\\u3001\\\\u30d4\\\\u30c3\\\\u30b3\\\\u30ed\\\\u306e\\\\u6226\\\\u6b7b\\\\u306b\\\\u3088\\\\u308a\\\\u5f7c\\\\u3068\\\\u4e00\\\\u5fc3\\\\u540c\\\\u4f53\\\\u3067\\\\u3042\\\\u3063\\\\u305f\\\\u795e\\\\u3082\\\\u6b7b\\\\u4ea1\\\\u3057\\\\u3001\\\\u5730\\\\u7403\\\\u306e\\\\u30c9\\\\u30e9\\\\u30b4\\\\u30f3\\\\u30dc\\\\u30fc\\\\u30eb\\\\u3082\\\\u6d88\\\\u6ec5\\\\u3059\\\\u308b\\\\u3002\\\\u609f\\\\u98ef\\\\u305f\\\\u3061\\\\u306f\\\\u30d9\\\\u30b8\\\\u30fc\\\\u30bf\\\\u3001\\\\u30d5\\\\u30ea\\\\u30fc\\\\u30b6\\\\u4e00\\\\u5473\\\\u3068\\\\u306e\\\\u30c9\\\\u30e9\\\\u30b4\\\\u30f3\\\\u30dc\\\\u30fc\\\\u30eb\\\\u3092\\\\u3081\\\\u3050\\\\u308b\\\\u4e09\\\\u3064\\\\u5df4\\\\u306e\\\\u653b\\\\u9632\\\\u306e\\\\u672b\\\\u3001\\\\u5f8c\\\\u304b\\\\u3089\\\\u5230\\\\u7740\\\\u3057\\\\u305f\\\\u609f\\\\u7a7a\\\\u3068\\\\u30ca\\\\u30e1\\\\u30c3\\\\u30af\\\\u661f\\\\u4eba\\\\u305f\\\\u3061\\\\u306e\\\\u5354\\\\u529b\\\\u3092\\\\u5f97\\\\u3066\\\\u30ca\\\\u30e1\\\\u30c3\\\\u30af\\\\u661f\\\\u306e\\\\u795e\\\\u9f8d\\\\u30fb\\\\u30dd\\\\u30eb\\\\u30f3\\\\u30ac\\\\u3092\\\\u547c\\\\u3073\\\\u51fa\\\\u3057\\\\u3001\\\\u30d4\\\\u30c3\\\\u30b3\\\\u30ed\\\\u3068\\\\u5730\\\\u7403\\\\u306e\\\\u30c9\\\\u30e9\\\\u30b4\\\\u30f3\\\\u30dc\\\\u30fc\\\\u30eb\\\\u3092\\\\u5fa9\\\\u6d3b\\\\u3055\\\\u305b\\\\u308b\\\\u3002\\\\u30d5\\\\u30ea\\\\u30fc\\\\u30b6\\\\u3092\\\\u5012\\\\u3057\\\\u3001\\\\u5730\\\\u7403\\\\u306e\\\\u795e\\\\u3068\\\\u6bba\\\\u3055\\\\u308c\\\\u305f\\\\u4ef2\\\\u9593\\\\u305f\\\\u3061\\\\u3092\\\\u7526\\\\u3089\\\\u305b\\\\u308b\\\\u3053\\\\u3068\\\\u306b\\\\u6210\\\\u529f\\\\u3057\\\\u305f\\\\u304c\\\\u3001\\\\u305d\\\\u306e\\\\u7d041\\\\u5e74\\\\u5f8c\\\\u306b\\\\u306f\\\\u8b0e\\\\u306e\\\\u8d85\\\\u30b5\\\\u30a4\\\\u30e4\\\\u4eba\\\\u306b\\\\u3088\\\\u3063\\\\u3066\\\\u6483\\\\u9000\\\\u3055\\\\u308c\\\\u305f\\\\u30d5\\\\u30ea\\\\u30fc\\\\u30b6\\\\u3068\\\\u305d\\\\u306e\\\\u4e00\\\\u5473\\\\u304c\\\\u518d\\\\u3073\\\\u5730\\\\u7403\\\\u3092\\\\u8972\\\\u6483\\\\u3059\\\\u308b\\\\u3002\\\\u30c8\\\\u30e9\\\\u30f3\\\\u30af\\\\u30b9\\\\u3068\\\\u540d\\\\u4e57\\\\u308b\\\\u305d\\\\u306e\\\\u9752\\\\u5e74\\\\u306f\\\\u3001\\\\u609f\\\\u7a7a\\\\u306f\\\\u5fc3\\\\u81d3\\\\u75c5\\\\u306b\\\\u3088\\\\u3063\\\\u3066\\\\u547d\\\\u3092\\\\u843d\\\\u3068\\\\u3059\\\\u3053\\\\u3068\\\\u30013\\\\u5e74\\\\u5f8c\\\\u306b\\\\u73fe\\\\u308c\\\\u308b2\\\\u4f53\\\\u306e\\\\u4eba\\\\u9020\\\\u4eba\\\\u9593\\\\u304c\\\\u7d76\\\\u671b\\\\u306e\\\\u672a\\\\u6765\\\\u3092\\\\u3082\\\\u305f\\\\u3089\\\\u3059\\\\u3053\\\\u3068\\\\u3092\\\\u544a\\\\u3052\\\\u308b\\\\u3002\\\\n\\\\u30bb\\\\u30eb\\\\u30b2\\\\u30fc\\\\u30e0\\\\u3068\\\\u547c\\\\u3070\\\\u308c\\\\u308b\\\\u6b66\\\\u9053\\\\u4f1a\\\\u3092\\\\u958b\\\\u50ac\\\\u3059\\\\u308b\\\\u3053\\\\u3068\\\\u3067\\\\u3001\\\\u5730\\\\u7403\\\\u306e\\\\u547d\\\\u904b\\\\u3092\\\\u8ced\\\\u3051\\\\u305f\\\\u30bb\\\\u30eb\\\\u306f\\\\u3001\\\\u4eba\\\\u9020\\\\u4eba\\\\u959317\\\\u53f7\\\\u3068\\\\u4eba\\\\u9020\\\\u4eba\\\\u959318\\\\u53f7\\\\u3092\\\\u5438\\\\u53ce\\\\u3057\\\\u3066\\\\u5b8c\\\\u5168\\\\u4f53\\\\u3068\\\\u306a\\\\u308b\\\\u3002\\\\u609f\\\\u7a7a\\\\u3089\\\\u306f\\\\u3001\\\\u7cbe\\\\u795e\\\\u3068\\\\u6642\\\\u306e\\\\u90e8\\\\u5c4b\\\\u3067\\\\u4fee\\\\u884c\\\\u3092\\\\u884c\\\\u3044\\\\u3001\\\\u30bb\\\\u30eb\\\\u3068\\\\u306e\\\\u95d8\\\\u3044\\\\u306e\\\\u4e2d\\\\u3067\\\\u5730\\\\u7403\\\\u3092\\\\u5b88\\\\u308b\\\\u305f\\\\u3081\\\\u306b\\\\u547d\\\\u3092\\\\u843d\\\\u3068\\\\u3059\\\\u3002\\\\u305d\\\\u306e\\\\u907a\\\\u5fd7\\\\u3092\\\\u53d7\\\\u3051\\\\u7d99\\\\u3044\\\\u3060\\\\u606f\\\\u5b50\\\\u30fb\\\\u609f\\\\u98ef\\\\u304c\\\\u8d85\\\\u30b5\\\\u30a4\\\\u30e4\\\\u4eba2\\\\u3078\\\\u3068\\\\u899a\\\\u9192\\\\u3057\\\\u3001\\\\u30bb\\\\u30eb\\\\u3092\\\\u6483\\\\u7834\\\\u3059\\\\u308b\\\\u3002\\\\u30c9\\\\u30e9\\\\u30b4\\\\u30f3\\\\u30dc\\\\u30fc\\\\u30eb\\\\u306b\\\\u3088\\\\u308a\\\\u30bb\\\\u30eb\\\\u306b\\\\u6bba\\\\u3055\\\\u308c\\\\u305f\\\\u4eba\\\\u3005\\\\u3092\\\\u8607\\\\u751f\\\\u3055\\\\u305b\\\\u308b\\\\u304c\\\\u3001\\\\u609f\\\\u7a7a\\\\u306f\\\\u81ea\\\\u5206\\\\u304c\\\\u60aa\\\\u4eba\\\\u3092\\\\u5f15\\\\u304d\\\\u5bc4\\\\u305b\\\\u3066\\\\u3044\\\\u308b\\\\u3068\\\\u3044\\\\u3046\\\\u7406\\\\u7531\\\\u3067\\\\u751f\\\\u304d\\\\u8fd4\\\\u308a\\\\u3092\\\\u62d2\\\\u5426\\\\u3057\\\\u3001\\\\u3042\\\\u306e\\\\u4e16\\\\u306b\\\\u6b8b\\\\u308b\\\\u3053\\\\u3068\\\\u3092\\\\u9078\\\\u3076\\\\u3002\\\\n\\\\n\\\\u7d047\\\\u5e74\\\\u5f8c\\\\u3001\\\\u9ad8\\\\u6821\\\\u751f\\\\u306b\\\\u6210\\\\u9577\\\\u3057\\\\u305f\\\\u609f\\\\u98ef\\\\u304c\\\\u5929\\\\u4e0b\\\\u4e00\\\\u6b66\\\\u9053\\\\u4f1a\\\\u306b\\\\u51fa\\\\u5834\\\\u3059\\\\u308b\\\\u3053\\\\u3068\\\\u3092\\\\u77e5\\\\u3063\\\\u305f\\\\u609f\\\\u7a7a\\\\u306f\\\\u3001\\\\u81ea\\\\u3089\\\\u3082\\\\u51fa\\\\u5834\\\\u3059\\\\u308b\\\\u305f\\\\u3081\\\\u306b\\\\u5360\\\\u3044\\\\u30d0\\\\u30d0\\\\u306e\\\\u529b\\\\u306b\\\\u3088\\\\u3063\\\\u30661\\\\u65e5\\\\u3060\\\\u3051\\\\u3053\\\\u306e\\\\u4e16\\\\u306b\\\\u623b\\\\u308b\\\\u3002\\\\u5929\\\\u4e0b\\\\u4e00\\\\u6b66\\\\u9053\\\\u4f1a\\\\u306e\\\\u6700\\\\u4e2d\\\\u3001\\\\u609f\\\\u7a7a\\\\u305f\\\\u3061\\\\u306f\\\\u754c\\\\u738b\\\\u795e\\\\u304b\\\\u3089\\\\u3001\\\\u6050\\\\u308d\\\\u3057\\\\u3044\\\\u529b\\\\u3092\\\\u6301\\\\u3064\\\\u9b54\\\\u4eba\\\\u30d6\\\\u30a6\\\\u306e\\\\u5c01\\\\u5370\\\\u304c\\\\u89e3\\\\u304b\\\\u308c\\\\u3088\\\\u3046\\\\u3068\\\\u3057\\\\u3066\\\\u3044\\\\u308b\\\\u3053\\\\u3068\\\\u3092\\\\u77e5\\\\u3089\\\\u3055\\\\u308c\\\\u308b\\\\u3002\\\\u5fa9\\\\u6d3b\\\\u3057\\\\u305f\\\\u9b54\\\\u4eba\\\\u30d6\\\\u30a6\\\\u306b\\\\u3088\\\\u308a\\\\u609f\\\\u98ef\\\\u3084\\\\u30d9\\\\u30b8\\\\u30fc\\\\u30bf\\\\u304c\\\\u5012\\\\u3055\\\\u308c\\\\u3001\\\\u609f\\\\u7a7a\\\\u306f\\\\u3042\\\\u306e\\\\u4e16\\\\u306b\\\\u5e30\\\\u3063\\\\u305f\\\\u305f\\\\u3081\\\\u3001\\\\u5730\\\\u7403\\\\u306e\\\\u547d\\\\u904b\\\\u306f\\\\u609f\\\\u7a7a\\\\u306e\\\\u6b21\\\\u7537\\\\u30fb\\\\u5b6b\\\\u609f\\\\u5929\\\\u3068\\\\u5c11\\\\u5e74\\\\u30c8\\\\u30e9\\\\u30f3\\\\u30af\\\\u30b9\\\\u306e\\\\u5e7c\\\\u3044\\\\u4e8c\\\\u4eba\\\\u306b\\\\u8a17\\\\u3055\\\\u308c\\\\u308b\\\\u3002\\\\u9b54\\\\u4eba\\\\u30d6\\\\u30a6\\\\u306f\\\\u69d8\\\\u3005\\\\u306a\\\\u4eba\\\\u9593\\\\u3068\\\\u306e\\\\u51fa\\\\u4f1a\\\\u3044\\\\u304b\\\\u3089\\\\u3088\\\\u308a\\\\u90aa\\\\u60aa\\\\u3067\\\\u5f37\\\\u529b\\\\u306a\\\\u9b54\\\\u4eba\\\\u3078\\\\u3068\\\\u5909\\\\u8c8c\\\\u3057\\\\u3001\\\\u609f\\\\u5929\\\\u3068\\\\u30c8\\\\u30e9\\\\u30f3\\\\u30af\\\\u30b9\\\\u304c\\\\u300c\\\\u30d5\\\\u30e5\\\\u30fc\\\\u30b8\\\\u30e7\\\\u30f3\\\\uff08\\\\u878d\\\\u5408\\\\uff09\\\\u300d\\\\u3057\\\\u3066\\\\u8a95\\\\u751f\\\\u3057\\\\u305f\\\\u6226\\\\u58eb\\\\u30fb\\\\u30b4\\\\u30c6\\\\u30f3\\\\u30af\\\\u30b9\\\\u3084\\\\u3001\\\\u6f5c\\\\u5728\\\\u80fd\\\\u529b\\\\u3092\\\\u89e3\\\\u653e\\\\u3057\\\\u3001\\\\u30d1\\\\u30ef\\\\u30fc\\\\u30a2\\\\u30c3\\\\u30d7\\\\u3092\\\\u9042\\\\u3052\\\\u3066\\\\u5e30\\\\u3063\\\\u3066\\\\u304d\\\\u305f\\\\u609f\\\\u98ef\\\\u3089\\\\u304c\\\\u5fdc\\\\u6226\\\\u3059\\\\u308b\\\\u304c\\\\u3001\\\\u82e6\\\\u6226\\\\u3092\\\\u5f37\\\\u3044\\\\u3089\\\\u308c\\\\u308b\\\\u3002\\\\u609f\\\\u7a7a\\\\u3068\\\\u30d9\\\\u30b8\\\\u30fc\\\\u30bf\\\\u304c\\\\u754c\\\\u738b\\\\u795e\\\\u754c\\\\u3067\\\\u771f\\\\u306e\\\\u59ff\\\\u3068\\\\u306a\\\\u3063\\\\u305f\\\\u9b54\\\\u4eba\\\\u30d6\\\\u30a6\\\\u3068\\\\u306e\\\\u6700\\\\u7d42\\\\u6c7a\\\\u6226\\\\u306b\\\\u81e8\\\\u307f\\\\u3001\\\\u30c9\\\\u30e9\\\\u30b4\\\\u30f3\\\\u30dc\\\\u30fc\\\\u30eb\\\\u306e\\\\u5354\\\\u529b\\\\u3082\\\\u3042\\\\u308a\\\\u3001\\\\u5730\\\\u7403\\\\u30fb\\\\u30ca\\\\u30e1\\\\u30c3\\\\u30af\\\\u661f\\\\u30fb\\\\u3042\\\\u306e\\\\u4e16\\\\u306e\\\\u4eba\\\\u3005\\\\u306e\\\\u30a8\\\\u30cd\\\\u30eb\\\\u30ae\\\\u30fc\\\\u306b\\\\u3088\\\\u3063\\\\u3066\\\\u4f5c\\\\u308a\\\\u4e0a\\\\u3052\\\\u3089\\\\u308c\\\\u305f\\\\u8d85\\\\u7279\\\\u5927\\\\u306e\\\\u5143\\\\u6c17\\\\u7389\\\\u306b\\\\u3088\\\\u3063\\\\u3066\\\\u9b54\\\\u4eba\\\\u30d6\\\\u30a6\\\\u306f\\\\u5b8c\\\\u5168\\\\u306b\\\\u6d88\\\\u6ec5\\\\u3059\\\\u308b\\\\u3002\\\\n\\\\n10\\\\u5e74\\\\u5f8c\\\\u3001\\\\u609f\\\\u7a7a\\\\u306f\\\\u5b6b\\\\u306e\\\\u30d1\\\\u30f3\\\\u3068\\\\u5171\\\\u306b\\\\u5929\\\\u4e0b\\\\u4e00\\\\u6b66\\\\u9053\\\\u4f1a\\\\u306b\\\\u4e45\\\\u3057\\\\u3076\\\\u308a\\\\u306b\\\\u51fa\\\\u5834\\\\u3057\\\\u3001\\\\u9b54\\\\u4eba\\\\u30d6\\\\u30a6\\\\u306e\\\\u751f\\\\u307e\\\\u308c\\\\u5909\\\\u308f\\\\u308a\\\\u3067\\\\u3042\\\\u308b\\\\u5c11\\\\u5e74\\\\u30fb\\\\u30a6\\\\u30fc\\\\u30d6\\\\u3068\\\\u51fa\\\\u4f1a\\\\u3046\\\\u3002\\\\u609f\\\\u7a7a\\\\u306f\\\\u30a6\\\\u30fc\\\\u30d6\\\\u3068\\\\u5171\\\\u306b\\\\u898b\\\\u679c\\\\u3066\\\\u306c\\\\u5f37\\\\u3055\\\\u3092\\\\u8ffd\\\\u3044\\\\u6c42\\\\u3081\\\\u3066\\\\u4fee\\\\u884c\\\\u306b\\\\u65c5\\\\u7acb\\\\u3061\\\\u3001\\\\u7269\\\\u8a9e\\\\u306f\\\\u5e55\\\\u3092\\\\u9589\\\\u3058\\\\u308b\\\\u3002\\\\n\\'\\\\n\\\\n---------------------\\\\nGiven the context information and not prior knowledge, answer the question: \\\\u9b54\\\\u4eba\\\\u30d6\\\\u30a6\\\\u306f\\\\u3069\\\\u306e\\\\u3088\\\\u3046\\\\u306b\\\\u5012\\\\u3055\\\\u308c\\\\u307e\\\\u3057\\\\u305f\\\\u304b\\\\uff1f\\\\u3001\\\\u65e5\\\\u672c\\\\u8a9e\\\\u3067\\\\u7b54\\\\u3048\\\\u3066\\\\u304f\\\\u3060\\\\u3055\\\\u3044\\\\u3002\\\\n\"], \"model\": \"text-davinci-003\", \"temperature\": 0.0, \"max_tokens\": 256, \"top_p\": 1, \"frequency_penalty\": 0, \"presence_penalty\": 0, \"n\": 1, \"best_of\": 1, \"logit_bias\": {}}' message='Post details'\n"
     ]
    },
    {
     "name": "stdout",
     "output_type": "stream",
     "text": [
      "DEBUG:urllib3.connectionpool:https://api.openai.com:443 \"POST /v1/completions HTTP/1.1\" 200 None\n",
      "DEBUG:openai:message='OpenAI API response' path=https://api.openai.com/v1/completions processing_ms=3392 request_id=be743e870c67747ff30e440f99eba0e9 response_code=200\n",
      "DEBUG:root:\n",
      "ドラゴンボールの協力もあり、地球・ナメック星・あの世の人々のエネルギーによって作り上げられた超特大の元気玉によって魔人ブウは完全に消滅した。\n",
      "DEBUG:root:> Initial response: \n",
      "ドラゴンボールの協力もあり、地球・ナメック星・あの世の人々のエネルギーによって作り上げられた超特大の元気玉によって魔人ブウは完全に消滅した。\n",
      "INFO:root:> [query] Total LLM token usage: 2734 tokens\n",
      "INFO:root:> [query] Total embedding token usage: 0 tokens\n"
     ]
    },
    {
     "data": {
      "text/plain": [
       "Response(response='\\nドラゴンボールの協力もあり、地球・ナメック星・あの世の人々のエネルギーによって作り上げられた超特大の元気玉によって魔人ブウは完全に消滅した。', source_nodes=[SourceNode(source_text=\"\\n孫悟空少年編では、尻尾の生えた少年・孫悟空が西の都からやってきた少女・ブルマと出会い、ドラゴンボールを7つ集めることで神龍（シェンロン）が現れることを知り、残りのドラゴンボールを探す旅に出る。その道中でウーロンやヤムチャらを巻き込んだボール探しの末、ピラフ一味にボールを奪われ神龍を呼び出されるが、ウーロンがとっさに言い放った下らない願いを叶えてもらうことで一味の野望を阻止する。悟空は武術の達人・亀仙人の下で8か月間にわたる修行を積み、その成果を確かめるために世界一の武術の達人を決める天下一武道会に出場し、準優勝を果たす。ピッコロ大魔王編では、ピラフ一味によって復活したピッコロ大魔王によって、クリリンや亀仙人など悟空の仲間たちや多くの武道家たちが殺される。悟空は仇を討つため、ヤジロベーや仙猫カリンの協力を得て命を賭して潜在する力を引き出し、ピッコロ大魔王に闘いを挑み勝利する。その後、悟空は神龍や仲間たちの復活のため天界へ向かい、ドラゴンボールの創造者である神に会う。サイヤ人編では、ピッコロ（マジュニア）との闘いから約5年後、息子の孫悟飯を儲けて平和な日々を過ごしていた悟空のもとに、実兄・ラディッツが宇宙より来襲し、自分が惑星ベジータの戦闘民族・サイヤ人であることを知らされる。\\n悟空は孫悟飯を助けるため、宿敵ピッコロと手を組み、自らの命と引き換えにラディッツを倒す。その後、約1年後にはさらに強力なサイヤ人たちがドラゴンボールを求めて地球に来襲することを知る。悟空は修行により増した力でナッパを一蹴し、ベジータと決闘し、仲間の協力もあり、何とか辛勝し撤退させるが、多くの仲間を失うとともに、ピッコロの戦死により彼と一心同体であった神も死亡し、地球のドラゴンボールも消滅する。悟飯たちはベジータ、フリーザ一味とのドラゴンボールをめぐる三つ巴の攻防の末、後から到着した悟空とナメック星人たちの協力を得てナメック星の神龍・ポルンガを呼び出し、ピッコロと地球のドラゴンボールを復活させる。フリーザを倒し、地球の神と殺された仲間たちを甦らせることに成功したが、その約1年後には謎の超サイヤ人によって撃退されたフリーザとその一味が再び地球を襲撃する。トランクスと名乗るその青年は、悟空は心臓病によって命を落とすこと、3年後に現れる2体の人造人間が絶望の未来をもたらすことを告げる。\\nセルゲームと呼ばれる武道会を開催することで、地球の命運を賭けたセルは、人造人間17号と人造人間18号を吸収して完全体となる。悟空らは、精神と時の部屋で修行を行い、セルとの闘いの中で地球を守るために命を落とす。その遺志を受け継いだ息子・悟飯が超サイヤ人2へと覚醒し、セルを撃破する。ドラゴンボールによりセルに殺された人々を蘇生させるが、悟空は自分が悪人を引き寄せているという理由で生き返りを拒否し、あの世に残ることを選ぶ。\\n\\n約7年後、高校生に成長した悟飯が天下一武道会に出場することを知った悟空は、自らも出場するために占いババの力によって1日だけこの世に戻る。天下一武道会の最中、悟空たちは界王神から、恐ろしい力を持つ魔人ブウの封印が解かれようとしていることを知らされる。復活した魔人ブウにより悟飯やベジータが倒され、悟空はあの世に帰ったため、地球の命運は悟空の次男・孫悟天と少年トランクスの幼い二人に託される。魔人ブウは様々な人間との出会いからより邪悪で強力な魔人へと変貌し、悟天とトランクスが「フュージョン（融合）」して誕生した戦士・ゴテンクスや、潜在能力を解放し、パワーアップを遂げて帰ってきた悟飯らが応戦するが、苦戦を強いられる。悟空とベジータが界王神界で真の姿となった魔人ブウとの最終決戦に臨み、ドラゴンボールの協力もあり、地球・ナメック星・あの世の人々のエネルギーによって作り上げられた超特大の元気玉によって魔人ブウは完全に消滅する。\\n\\n10年後、悟空は孫のパンと共に天下一武道会に久しぶりに出場し、魔人ブウの生まれ変わりである少年・ウーブと出会う。悟空はウーブと共に見果てぬ強さを追い求めて修行に旅立ち、物語は幕を閉じる。\\n'\\n\", doc_id='8618eeae-fc69-4287-b646-83b56c5ac565', extra_info=None, node_info={'start': 0, 'end': 1714}, similarity=None)], extra_info=None)"
      ]
     },
     "execution_count": 61,
     "metadata": {},
     "output_type": "execute_result"
    }
   ],
   "source": [
    "all_index.query(\"魔人ブウはどのように倒されましたか？、日本語で答えてください。\")"
   ]
  },
  {
   "cell_type": "markdown",
   "id": "ff681d73",
   "metadata": {},
   "source": [
    "### 階層構造の場合は、modeは再帰にし、詳細な条件はquery_configsで指定する"
   ]
  },
  {
   "cell_type": "code",
   "execution_count": 147,
   "id": "4d5d9276",
   "metadata": {},
   "outputs": [],
   "source": [
    "# set query config\n",
    "query_configs = [\n",
    "    {\n",
    "        \"index_struct_type\": \"keyword_table\",\n",
    "        \"query_mode\": \"default\",\n",
    "        \"query_kwargs\": {\n",
    "            \"child_branch_factor\": 2\n",
    "        }        \n",
    "    }\n",
    "]"
   ]
  },
  {
   "cell_type": "code",
   "execution_count": 94,
   "id": "c95c2f7f",
   "metadata": {},
   "outputs": [],
   "source": [
    "from llama_index.prompts.prompts import QuestionAnswerPrompt\n",
    "default_prompt=\"\"\"\n",
    "文脈情報は以下です。\n",
    "---\n",
    "{context_str}\n",
    "---\n",
    "事前知識ではなく、文脈情報を参考に日本語で質問に答えてください。：{query_str}\n",
    "\"\"\"\n",
    "\n",
    "custom_prompt = QuestionAnswerPrompt(template=default_prompt)#), \"constext_str\", \"query_str\")"
   ]
  },
  {
   "cell_type": "code",
   "execution_count": 98,
   "id": "52d6d194",
   "metadata": {
    "scrolled": false
   },
   "outputs": [
    {
     "name": "stdout",
     "output_type": "stream",
     "text": [
      "INFO:root:> Starting query: 魔人ブウ\n",
      "INFO:root:query keywords: ['魔人ブウ']\n",
      "INFO:root:> Extracted keywords: ['魔人ブウ']\n",
      "INFO:root:> [query] Total LLM token usage: 0 tokens\n",
      "INFO:root:> [query] Total embedding token usage: 0 tokens\n"
     ]
    },
    {
     "data": {
      "text/plain": [
       "Response(response=None, source_nodes=[], extra_info=None)"
      ]
     },
     "execution_count": 98,
     "metadata": {},
     "output_type": "execute_result"
    }
   ],
   "source": [
    "#  recursiveではquery_configs 必須\n",
    "\n",
    "default_prompt=\"\"\"\n",
    "文脈情報は以下です。\n",
    "---\n",
    "{context_str}\n",
    "---\n",
    "事前知識ではなく、文脈情報を参考に質問に答えてください。：{query_str}\n",
    "\"\"\"\n",
    "\n",
    "all_index.query(\"魔人ブウ\", mode=\"recursive\", query_configs=query_configs)#, text_qa_template=custom_prompt)"
   ]
  },
  {
   "cell_type": "code",
   "execution_count": 99,
   "id": "147e5e91",
   "metadata": {},
   "outputs": [],
   "source": [
    "from llama_index.composability import ComposableGraph"
   ]
  },
  {
   "cell_type": "code",
   "execution_count": 100,
   "id": "189f0d02",
   "metadata": {},
   "outputs": [],
   "source": [
    "graph = ComposableGraph.build_from_index(all_index)"
   ]
  },
  {
   "cell_type": "code",
   "execution_count": 112,
   "id": "bec1ba7e",
   "metadata": {},
   "outputs": [
    {
     "name": "stdout",
     "output_type": "stream",
     "text": [
      "INFO:root:> Starting query: 魔人ブウはどのように倒されたのか日本語で教えて\n",
      "DEBUG:openai:message='Request to OpenAI API' method=post path=https://api.openai.com/v1/completions\n",
      "DEBUG:openai:api_version=None data='{\"prompt\": [\"A question is provided below. Given the question, extract up to 10 keywords from the text. Focus on extracting the keywords that we can use to best lookup answers to the question. Avoid stopwords.\\\\n---------------------\\\\n\\\\u9b54\\\\u4eba\\\\u30d6\\\\u30a6\\\\u306f\\\\u3069\\\\u306e\\\\u3088\\\\u3046\\\\u306b\\\\u5012\\\\u3055\\\\u308c\\\\u305f\\\\u306e\\\\u304b\\\\u65e5\\\\u672c\\\\u8a9e\\\\u3067\\\\u6559\\\\u3048\\\\u3066\\\\n---------------------\\\\nProvide keywords in the following comma-separated format: \\'KEYWORDS: <keywords>\\'\\\\n\"], \"model\": \"text-davinci-003\", \"temperature\": 0.0, \"max_tokens\": 256, \"top_p\": 1, \"frequency_penalty\": 0, \"presence_penalty\": 0, \"n\": 1, \"best_of\": 1, \"logit_bias\": {}}' message='Post details'\n",
      "DEBUG:urllib3.connectionpool:Resetting dropped connection: api.openai.com\n",
      "DEBUG:urllib3.connectionpool:https://api.openai.com:443 \"POST /v1/completions HTTP/1.1\" 200 None\n",
      "DEBUG:openai:message='OpenAI API response' path=https://api.openai.com/v1/completions processing_ms=935 request_id=fd87957e38a9a7bac73e09d2ff4c27f3 response_code=200\n",
      "DEBUG:root:\n",
      "KEYWORDS: 魔人ブウ, 倒された, 日本語\n",
      "INFO:root:query keywords: ['日本語', '魔人ブウ', '倒された']\n",
      "INFO:root:> Extracted keywords: ['魔人ブウ']\n",
      "DEBUG:root:> Querying with idx: 4347119370851057834: \n",
      "孫悟空少年編では、尻尾の生えた少年・孫悟空が西の都からやってきた少女・ブルマと出会い、ドラゴ...\n",
      "DEBUG:root:> Searching in chunk: \n",
      "孫悟空少年編では、尻尾の生えた少年・孫悟空が西の都からやってきた少女・ブルマと出会い、ドラゴ...\n",
      "INFO:root:> Starting query: 魔人ブウはどのように倒されたのか日本語で教えて\n",
      "DEBUG:openai:message='Request to OpenAI API' method=post path=https://api.openai.com/v1/completions\n",
      "DEBUG:openai:api_version=None data='{\"prompt\": [\"Some choices are given below. It is provided in a numbered list (1 to 2),where each item in the list corresponds to a summary.\\\\n---------------------\\\\n(1)  \\\\u5b6b\\\\u609f\\\\u7a7a\\\\u5c11\\\\u5e74\\\\u7de8\\\\u3067\\\\u306f\\\\u3001\\\\u5c3b\\\\u5c3e\\\\u306e\\\\u751f\\\\u3048\\\\u305f\\\\u5c11\\\\u5e74\\\\u30fb\\\\u5b6b\\\\u609f\\\\u7a7a\\\\u304c\\\\u897f\\\\u306e\\\\u90fd\\\\u304b\\\\u3089\\\\u3084\\\\u3063\\\\u3066\\\\u304d\\\\u305f\\\\u5c11\\\\u5973\\\\u30fb\\\\u30d6\\\\u30eb\\\\u30de\\\\u3068\\\\u51fa\\\\u4f1a\\\\u3044\\\\u3001\\\\u30c9\\\\u30e9\\\\u30b4\\\\u30f3\\\\u30dc\\\\u30fc\\\\u30eb\\\\u30927\\\\u3064\\\\u96c6\\\\u3081\\\\u308b\\\\u3068\\\\u795e\\\\u9f8d\\\\uff08\\\\u30b7\\\\u30a7\\\\u30f3\\\\u30ed\\\\u30f3\\\\uff09\\\\u304c\\\\u73fe\\\\u308c\\\\u308b\\\\u3068\\\\u3044\\\\u3046\\\\u3053\\\\u3068\\\\u3092\\\\u77e5\\\\u308a\\\\u3001\\\\u30d6\\\\u30eb\\\\u30de\\\\u3068\\\\u5171\\\\u306b\\\\u6b8b\\\\u308a\\\\u306e\\\\u30c9\\\\u30e9\\\\u30b4\\\\u30f3\\\\u30dc\\\\u30fc\\\\u30eb\\\\u3092\\\\u63a2\\\\u3059\\\\u65c5\\\\u306b\\\\u51fa\\\\u308b\\\\u3002\\\\u30d4\\\\u30e9\\\\u30d5\\\\u4e00\\\\u5473\\\\u306b\\\\u30dc\\\\u30fc\\\\u30eb\\\\u3092\\\\u596a\\\\u308f\\\\u308c\\\\u795e\\\\u9f8d\\\\u3092\\\\u547c\\\\u3073\\\\u51fa\\\\u3055\\\\u308c\\\\u308b\\\\u304c\\\\u3001\\\\u30a6\\\\u30fc\\\\u30ed\\\\u30f3\\\\u304c\\\\u3068\\\\u3063\\\\u3055\\\\u306b\\\\u8a00\\\\u3044\\\\u653e\\\\u3063\\\\u305f\\\\u4e0b\\\\u3089\\\\u306a\\\\u3044\\\\u9858\\\\u3044\\\\u3092\\\\u53f6\\\\u3048\\\\u3066\\\\u3082\\\\u3089\\\\u3046\\\\u3053\\\\u3068\\\\u3067\\\\u4e00\\\\u5473\\\\u306e\\\\u91ce\\\\u671b\\\\u3092\\\\u963b\\\\u6b62\\\\u3059\\\\u308b\\\\u3002\\\\u609f\\\\u7a7a\\\\u306f\\\\u6b66\\\\u8853\\\\u306e\\\\u9054\\\\u4eba\\\\u30fb\\\\u4e80\\\\u4ed9\\\\u4eba\\\\u306e\\\\u4e0b\\\\u30678\\\\u304b\\\\u6708\\\\u9593\\\\u306b\\\\u308f\\\\u305f\\\\u308b\\\\u4fee\\\\u884c\\\\u3092\\\\u7a4d\\\\u307f\\\\u3001\\\\u5929\\\\u4e0b\\\\u4e00\\\\u6b66\\\\u9053\\\\u4f1a\\\\u306b\\\\u51fa\\\\u5834\\\\u3057\\\\u6e96\\\\u512a\\\\u52dd\\\\u3092\\\\u679c\\\\u305f\\\\u3059\\\\u30023\\\\u5e74\\\\u5f8c\\\\u306e\\\\u5929\\\\u4e0b\\\\u4e00\\\\u6b66\\\\u9053\\\\u4f1a\\\\u3067\\\\u306f\\\\u3001\\\\u9db4\\\\u4ed9\\\\u6d41\\\\u306e\\\\u5929\\\\u6d25\\\\u98ef\\\\uff08\\\\u3066\\\\u3093\\\\u3057\\\\u3093\\\\u306f\\\\u3093\\\\uff09\\\\u3068\\\\u95d8\\\\u3046\\\\u304c\\\\u3001\\\\u3042\\\\u3068\\\\u4e00\\\\u6b69\\\\u306e\\\\u3068\\\\u3053\\\\u308d\\\\u3067\\\\u6557\\\\u308c\\\\u3001\\\\u524d\\\\u56de\\\\u3068\\\\u540c\\\\u3058\\\\u304f\\\\u6e96\\\\u512a\\\\u52dd\\\\u306b\\\\u7d42\\\\u308f\\\\u308b\\\\u3002  \\\\u30d4\\\\u30c3\\\\u30b3\\\\u30ed\\\\u5927\\\\u9b54\\\\u738b\\\\u7de8\\\\u3067\\\\u306f\\\\u3001\\\\u30d4\\\\u30e9\\\\u30d5\\\\u4e00\\\\u5473\\\\u306b\\\\u3088\\\\u3063\\\\u3066\\\\u5fa9\\\\u6d3b\\\\u3057\\\\u305f\\\\u30d4\\\\u30c3\\\\u30b3\\\\u30ed\\\\u5927\\\\u9b54\\\\u738b\\\\u306b\\\\u3088\\\\u3063\\\\u3066\\\\u3001\\\\u30af\\\\u30ea\\\\u30ea\\\\u30f3\\\\u3084\\\\u4e80\\\\u4ed9\\\\u4eba\\\\u306a\\\\u3069\\\\u609f\\\\u7a7a\\\\u306e\\\\u4ef2\\\\u9593\\\\u305f\\\\u3061\\\\u3084\\\\u591a\\\\u304f\\\\u306e\\\\u6b66\\\\u9053\\\\u5bb6\\\\u305f\\\\u3061\\\\u304c\\\\u6bba\\\\u3055\\\\u308c\\\\u308b\\\\u3002\\\\u609f\\\\u7a7a\\\\u306f\\\\u4ec7\\\\u3092\\\\u8a0e\\\\u3064\\\\u305f\\\\u3081\\\\u3001\\\\u30e4\\\\u30b8\\\\u30ed\\\\u30d9\\\\u30fc\\\\u3084\\\\u4ed9\\\\u732b\\\\u30ab\\\\u30ea\\\\u30f3\\\\u306e\\\\u5354\\\\u529b\\\\u3092\\\\u5f97\\\\u3066\\\\u30d4\\\\u30c3\\\\u30b3\\\\u30ed\\\\u5927\\\\u9b54\\\\u738b\\\\u306b\\\\u95d8\\\\u3044\\\\u3092\\\\u6311\\\\u307f\\\\u52dd\\\\u5229\\\\u3059\\\\u308b\\\\u3002\\\\u5929\\\\u4e0b\\\\u4e00\\\\u6b66\\\\u9053\\\\u4f1a\\\\u7d42\\\\u4e86\\\\u5f8c\\\\u3001\\\\u609f\\\\u7a7a\\\\u306f\\\\u725b\\\\u9b54\\\\u738b\\\\u306e\\\\u5a18\\\\u30fb\\\\u30c1\\\\u30c1\\\\u3068\\\\u7d50\\\\u5a5a\\\\u3057\\\\u3001\\\\u30de\\\\u30b8\\\\u30e5\\\\u30cb\\\\u30a2\\\\u3068\\\\u6c7a\\\\u52dd\\\\u6226\\\\u3067\\\\u6fc0\\\\u7a81\\\\u3057\\\\u521d\\\\u306e\\\\u5929\\\\u4e0b\\\\u4e00\\\\u6b66\\\\u9053\\\\u4f1a\\\\u512a\\\\u52dd\\\\u3092\\\\u98fe\\\\u308b\\\\u3002  \\\\u30b5\\\\u30a4\\\\u30e4\\\\u4eba\\\\u7de8\\\\u3067\\\\u306f\\\\u3001\\\\u606f\\\\u5b50\\\\u306e\\\\u5b6b\\\\u609f\\\\u98ef\\\\u3092\\\\u5132\\\\u3051\\\\u3066\\\\u5e73\\\\u548c\\\\u306a\\\\u65e5\\\\u3005\\\\u3092\\\\u904e\\\\u3054\\\\u3057\\\\u3066\\\\u3044\\\\u305f\\\\u609f\\\\u7a7a\\\\u306e\\\\u3082\\\\u3068\\\\u306b\\\\u3001\\\\u5b9f\\\\u5144\\\\u30fb\\\\u30e9\\\\u30c7\\\\u30a3\\\\u30c3\\\\u30c4\\\\u304c\\\\u5b87\\\\u5b99\\\\u3088\\\\u308a\\\\u6765\\\\u8972\\\\u3057\\\\u3001\\\\u81ea\\\\u5206\\\\u304c\\\\u60d1\\\\u661f\\\\u30d9\\\\u30b8\\\\u30fc\\\\u30bf\\\\u306e\\\\u6226\\\\u95d8\\\\u6c11\\\\u65cf\\\\u30fb\\\\u30b5\\\\u30a4\\\\u30e4\\\\u4eba\\\\u3067\\\\u3042\\\\u308b\\\\u3053\\\\u3068\\\\u3092\\\\u77e5\\\\u3089\\\\u3055\\\\u308c\\\\u308b\\\\u3002\\\\u609f\\\\u7a7a\\\\u306f\\\\u5b6b\\\\u609f\\\\u98ef\\\\u3092\\\\u52a9\\\\u3051\\\\u308b\\\\u305f\\\\u3081\\\\u3001\\\\u30d9\\\\u30b8\\\\u30fc\\\\u30bf\\\\u3068\\\\u6c7a\\\\u95d8\\\\u3057\\\\u4f55\\\\u3068\\\\u304b\\\\u8f9b\\\\u52dd\\\\u3057\\\\u64a4\\\\u9000\\\\u3055\\\\u305b\\\\u308b\\\\u304c\\\\u3001\\\\u591a\\\\u304f\\\\u306e\\\\u4ef2\\\\u9593\\\\u3092\\\\u5931\\\\u3046\\\\u3068\\\\u3068\\\\u3082\\\\u306b\\\\u3001\\\\u30d4\\\\u30c3\\\\u30b3\\\\u30ed\\\\u306e\\\\u6226\\\\u6b7b\\\\u306b\\\\u3088\\\\u308a\\\\u5f7c\\\\u3068\\\\u4e00\\\\u5fc3\\\\u540c\\\\u4f53\\\\u3067\\\\u3042\\\\u3063\\\\u305f\\\\u795e\\\\u3082\\\\u6b7b\\\\u4ea1\\\\u3057\\\\u3001\\\\u5730\\\\u7403\\\\u306e\\\\u30c9\\\\u30e9\\\\u30b4\\\\u30f3\\\\u30dc\\\\u30fc\\\\u30eb\\\\u3082\\\\u6d88\\\\u6ec5\\\\u3059\\\\u308b\\\\u3002  \\\\u30d5\\\\u30ea\\\\u30fc\\\\u30b6\\\\u7de8\\\\u3067\\\\u306f\\\\u3001\\\\u91cd\\\\u50b7\\\\u3067\\\\u5165\\\\u9662\\\\u4e2d\\\\u306e\\\\u609f\\\\u7a7a\\\\u306b\\\\u4ee3\\\\u308f\\\\u308a\\\\u3001\\\\u609f\\\\u98ef\\\\u3001\\\\u30af\\\\u30ea\\\\u30ea\\\\u30f3\\\\u3001\\\\u30d6\\\\u30eb\\\\u30de\\\\u306e3\\\\u4eba\\\\u304c\\\\u795e\\\\u3068\\\\u30d4\\\\u30c3\\\\u30b3\\\\u30ed\\\\u306e\\\\u6545\\\\u90f7\\\\u3067\\\\u3042\\\\u308b\\\\u30ca\\\\u30e1\\\\u30c3\\\\u30af\\\\u661f\\\\u3078\\\\u5411\\\\u304b\\\\u3046\\\\u3002\\\\u305d\\\\u3053\\\\u306b\\\\u306f\\\\u5730\\\\u7403\\\\u3067\\\\u95d8\\\\u3063\\\\u305f\\\\u30d9\\\\u30b8\\\\u30fc\\\\u30bf\\\\u3084\\\\u3001\\\\u754c\\\\u738b\\\\u3059\\\\u3089\\\\u754f\\\\u6016\\\\u3059\\\\u308b\\\\u5b87\\\\u5b99\\\\u306e\\\\u5e1d\\\\u738b\\\\u30fb\\\\u30d5\\\\u30ea\\\\u30fc\\\\u30b6\\\\u3068\\\\u305d\\\\u306e\\\\n\\\\n(2)  \\\\u30c9\\\\u30e9\\\\u30b4\\\\u30f3\\\\u30dc\\\\u30fc\\\\u30eb\\\\u306e\\\\u30b9\\\\u30c8\\\\u30fc\\\\u30ea\\\\u30fc\\\\u306f\\\\u3001\\\\u609f\\\\u7a7a\\\\u304c\\\\u4f1d\\\\u8aac\\\\u306e\\\\u6226\\\\u58eb\\\\u30fb\\\\u8d85\\\\u30b5\\\\u30a4\\\\u30e4\\\\u4eba\\\\u3078\\\\u3068\\\\u899a\\\\u9192\\\\u3057\\\\u3001\\\\u30d5\\\\u30ea\\\\u30fc\\\\u30b6\\\\u3092\\\\u5012\\\\u3057\\\\u305f\\\\u5f8c\\\\u3001\\\\u30dd\\\\u30eb\\\\u30f3\\\\u30ac\\\\u306b\\\\u3088\\\\u3063\\\\u3066\\\\u5730\\\\u7403\\\\u306b\\\\u5e30\\\\u9084\\\\u3057\\\\u305f\\\\u609f\\\\u98ef\\\\u305f\\\\u3061\\\\u304c\\\\u5fa9\\\\u6d3b\\\\u3057\\\\u305f\\\\u30c9\\\\u30e9\\\\u30b4\\\\u30f3\\\\u30dc\\\\u30fc\\\\u30eb\\\\u306b\\\\u3088\\\\u308a\\\\u30b5\\\\u30a4\\\\u30e4\\\\u4eba\\\\u3084\\\\u30d5\\\\u30ea\\\\u30fc\\\\u30b6\\\\u4e00\\\\u5473\\\\u306b\\\\u6bba\\\\u3055\\\\u308c\\\\u305f\\\\u4eba\\\\u3005\\\\u3092\\\\u8607\\\\u751f\\\\u3055\\\\u305b\\\\u308b\\\\u3068\\\\u3053\\\\u308d\\\\u304b\\\\u3089\\\\u59cb\\\\u307e\\\\u308b\\\\u3002\\\\u305d\\\\u306e\\\\u5f8c\\\\u3001\\\\u672a\\\\u6765\\\\u304b\\\\u3089\\\\u3084\\\\u3063\\\\u3066\\\\u304d\\\\u305f\\\\u30d6\\\\u30eb\\\\u30de\\\\u3068\\\\u30d9\\\\u30b8\\\\u30fc\\\\u30bf\\\\u306e\\\\u606f\\\\u5b50\\\\u3067\\\\u3042\\\\u308b\\\\u30c8\\\\u30e9\\\\u30f3\\\\u30af\\\\u30b9\\\\u304c\\\\u609f\\\\u7a7a\\\\u306b2\\\\u4f53\\\\u306e\\\\u4eba\\\\u9020\\\\u4eba\\\\u9593\\\\u304c\\\\u7d76\\\\u671b\\\\u306e\\\\u672a\\\\u6765\\\\u3092\\\\u3082\\\\u305f\\\\u3089\\\\u3059\\\\u3053\\\\u3068\\\\u3092\\\\u544a\\\\u3052\\\\u308b\\\\u3002\\\\u609f\\\\u7a7a\\\\u306f\\\\u5fc3\\\\u81d3\\\\u75c5\\\\u306b\\\\u3088\\\\u3063\\\\u3066\\\\u547d\\\\u3092\\\\u843d\\\\u3068\\\\u3059\\\\u3053\\\\u3068\\\\u306b\\\\u306a\\\\u308b\\\\u304c\\\\u3001\\\\u4fee\\\\u884c\\\\u3092\\\\u7a4d\\\\u3093\\\\u3067\\\\u30bb\\\\u30eb\\\\u30b2\\\\u30fc\\\\u30e0\\\\u306b\\\\u81e8\\\\u3080\\\\u3002\\\\u30bb\\\\u30eb\\\\u30b2\\\\u30fc\\\\u30e0\\\\u3067\\\\u306f\\\\u609f\\\\u7a7a\\\\u304c\\\\u547d\\\\u3092\\\\u843d\\\\u3068\\\\u3057\\\\u3001\\\\u609f\\\\u98ef\\\\u304c\\\\u8d85\\\\u30b5\\\\u30a4\\\\u30e4\\\\u4eba2\\\\u3078\\\\u3068\\\\u899a\\\\u9192\\\\u3057\\\\u3066\\\\u30bb\\\\u30eb\\\\u3092\\\\u6483\\\\u7834\\\\u3059\\\\u308b\\\\u3002\\\\u305d\\\\u306e\\\\u5f8c\\\\u3001\\\\u30bb\\\\u30eb\\\\u30b2\\\\u30fc\\\\u30e0\\\\u3088\\\\u308a\\\\u7d047\\\\u5e74\\\\u5f8c\\\\u3001\\\\u9ad8\\\\u6821\\\\u751f\\\\u306b\\\\u306a\\\\u3063\\\\u305f\\\\u609f\\\\u98ef\\\\u304c\\\\u5929\\\\u4e0b\\\\u4e00\\\\u6b66\\\\u9053\\\\u4f1a\\\\u306b\\\\u51fa\\\\u5834\\\\u3059\\\\u308b\\\\u3053\\\\u3068\\\\u3092\\\\u77e5\\\\u3063\\\\u305f\\\\u609f\\\\u7a7a\\\\u306f\\\\u3001\\\\u81ea\\\\u3089\\\\u3082\\\\u51fa\\\\u5834\\\\u3059\\\\u308b\\\\u305f\\\\u3081\\\\u306b\\\\u5360\\\\u3044\\\\u30d0\\\\u30d0\\\\u306e\\\\u529b\\\\u306b\\\\u3088\\\\u3063\\\\u30661\\\\u65e5\\\\u3060\\\\u3051\\\\u3053\\\\u306e\\\\u4e16\\\\u306b\\\\u623b\\\\u308b\\\\u3002\\\\u5929\\\\u4e0b\\\\u4e00\\\\u6b66\\\\u9053\\\\u4f1a\\\\u306e\\\\u6700\\\\u4e2d\\\\u3001\\\\u754c\\\\u738b\\\\u795e\\\\u304b\\\\u3089\\\\u6050\\\\u308d\\\\u3057\\\\u3044\\\\u529b\\\\u3092\\\\u6301\\\\u3064\\\\u9b54\\\\u4eba\\\\u30d6\\\\u30a6\\\\u306e\\\\u5c01\\\\u5370\\\\u304c\\\\u89e3\\\\u304b\\\\u308c\\\\u3088\\\\u3046\\\\u3068\\\\u3057\\\\u3066\\\\u3044\\\\u308b\\\\u3053\\\\u3068\\\\u3092\\\\u77e5\\\\u3089\\\\u3055\\\\u308c\\\\u308b\\\\u3002\\\\u609f\\\\u7a7a\\\\u3068\\\\u30d9\\\\u30b8\\\\u30fc\\\\u30bf\\\\u304c\\\\u754c\\\\u738b\\\\u795e\\\\u754c\\\\u3067\\\\u9b54\\\\u4eba\\\\u30d6\\\\u30a6\\\\u3068\\\\u306e\\\\u6700\\\\u7d42\\\\u6c7a\\\\u6226\\\\u306b\\\\u81e8\\\\u307f\\\\u3001\\\\u30c9\\\\u30e9\\\\u30b4\\\\u30f3\\\\u30dc\\\\u30fc\\\\u30eb\\\\u306e\\\\u5354\\\\u529b\\\\u3092\\\\u5f97\\\\u3066\\\\u9b54\\\\u4eba\\\\u30d6\\\\u30a6\\\\u3092\\\\u6483\\\\u7834\\\\u3059\\\\u308b\\\\u3002\\\\u305d\\\\u306e\\\\u5f8c\\\\u3001\\\\u609f\\\\u7a7a\\\\u306f\\\\u5b6b\\\\u306e\\\\u30d1\\\\u30f3\\\\u3068\\\\u5171\\\\u306b\\\\u5929\\\\u4e0b\\\\u4e00\\\\u6b66\\\\u9053\\\\u4f1a\\\\u306b\\\\u51fa\\\\u5834\\\\u3057\\\\u3001\\\\u9b54\\\\u4eba\\\\u30d6\\\\u30a6\\\\u306e\\\\u751f\\\\u307e\\\\u308c\\\\u5909\\\\u308f\\\\u308a\\\\u3067\\\\u3042\\\\u308b\\\\u5c11\\\\u5e74\\\\u30fb\\\\u30a6\\\\u30fc\\\\u30d6\\\\u3068\\\\u51fa\\\\u4f1a\\\\u3044\\\\u3001\\\\u4fee\\\\u884c\\\\u306b\\\\u65c5\\\\u7acb\\\\u3061\\\\u3001\\\\u7269\\\\u8a9e\\\\u306f\\\\u5e55\\\\u3092\\\\u9589\\\\u3058\\\\u308b\\\\u3002\\\\n---------------------\\\\nUsing only the choices above and not prior knowledge, return the choice that is most relevant to the question: \\'\\\\u9b54\\\\u4eba\\\\u30d6\\\\u30a6\\\\u306f\\\\u3069\\\\u306e\\\\u3088\\\\u3046\\\\u306b\\\\u5012\\\\u3055\\\\u308c\\\\u305f\\\\u306e\\\\u304b\\\\u65e5\\\\u672c\\\\u8a9e\\\\u3067\\\\u6559\\\\u3048\\\\u3066\\'\\\\nProvide choice in the following format: \\'ANSWER: <number>\\' and explain why this summary was selected in relation to the question.\\\\n\"], \"model\": \"text-davinci-003\", \"temperature\": 0.0, \"max_tokens\": 256, \"top_p\": 1, \"frequency_penalty\": 0, \"presence_penalty\": 0, \"n\": 1, \"best_of\": 1, \"logit_bias\": {}}' message='Post details'\n"
     ]
    },
    {
     "name": "stdout",
     "output_type": "stream",
     "text": [
      "DEBUG:urllib3.connectionpool:https://api.openai.com:443 \"POST /v1/completions HTTP/1.1\" 200 548\n",
      "DEBUG:openai:message='OpenAI API response' path=https://api.openai.com/v1/completions processing_ms=2768 request_id=a754b95686d25928b198573853b2eba5 response_code=200\n",
      "DEBUG:root:\n",
      "ANSWER: 2 \n",
      "This summary was selected because it provides the most detailed information about how Majin Buu was defeated. It explains that Goku and Vegeta faced Majin Buu in a final battle in the Kaioshin Realm, and with the help of the Dragon Balls, they were able to defeat him.\n",
      "DEBUG:root:>[Level 0] current prompt template: Some choices are given below. It is provided in a numbered list (1 to 2),where each item in the list corresponds to a summary.\n",
      "---------------------\n",
      "(1)  孫悟空少年編では、尻尾の生えた少年・孫悟空が西の都からやってきた少女・ブルマと出会い、ドラゴンボールを7つ集めると神龍（シェンロン）が現れるということを知り、ブルマと共に残りのドラゴンボールを探す旅に出る。ピラフ一味にボールを奪われ神龍を呼び出されるが、ウーロンがとっさに言い放った下らない願いを叶えてもらうことで一味の野望を阻止する。悟空は武術の達人・亀仙人の下で8か月間にわたる修行を積み、天下一武道会に出場し準優勝を果たす。3年後の天下一武道会では、鶴仙流の天津飯（てんしんはん）と闘うが、あと一歩のところで敗れ、前回と同じく準優勝に終わる。  ピッコロ大魔王編では、ピラフ一味によって復活したピッコロ大魔王によって、クリリンや亀仙人など悟空の仲間たちや多くの武道家たちが殺される。悟空は仇を討つため、ヤジロベーや仙猫カリンの協力を得てピッコロ大魔王に闘いを挑み勝利する。天下一武道会終了後、悟空は牛魔王の娘・チチと結婚し、マジュニアと決勝戦で激突し初の天下一武道会優勝を飾る。  サイヤ人編では、息子の孫悟飯を儲けて平和な日々を過ごしていた悟空のもとに、実兄・ラディッツが宇宙より来襲し、自分が惑星ベジータの戦闘民族・サイヤ人であることを知らされる。悟空は孫悟飯を助けるため、ベジータと決闘し何とか辛勝し撤退させるが、多くの仲間を失うとともに、ピッコロの戦死により彼と一心同体であった神も死亡し、地球のドラゴンボールも消滅する。  フリーザ編では、重傷で入院中の悟空に代わり、悟飯、クリリン、ブルマの3人が神とピッコロの故郷であるナメック星へ向かう。そこには地球で闘ったベジータや、界王すら畏怖する宇宙の帝王・フリーザとその\n",
      "\n",
      "(2)  ドラゴンボールのストーリーは、悟空が伝説の戦士・超サイヤ人へと覚醒し、フリーザを倒した後、ポルンガによって地球に帰還した悟飯たちが復活したドラゴンボールによりサイヤ人やフリーザ一味に殺された人々を蘇生させるところから始まる。その後、未来からやってきたブルマとベジータの息子であるトランクスが悟空に2体の人造人間が絶望の未来をもたらすことを告げる。悟空は心臓病によって命を落とすことになるが、修行を積んでセルゲームに臨む。セルゲームでは悟空が命を落とし、悟飯が超サイヤ人2へと覚醒してセルを撃破する。その後、セルゲームより約7年後、高校生になった悟飯が天下一武道会に出場することを知った悟空は、自らも出場するために占いババの力によって1日だけこの世に戻る。天下一武道会の最中、界王神から恐ろしい力を持つ魔人ブウの封印が解かれようとしていることを知らされる。悟空とベジータが界王神界で魔人ブウとの最終決戦に臨み、ドラゴンボールの協力を得て魔人ブウを撃破する。その後、悟空は孫のパンと共に天下一武道会に出場し、魔人ブウの生まれ変わりである少年・ウーブと出会い、修行に旅立ち、物語は幕を閉じる。\n",
      "---------------------\n",
      "Using only the choices above and not prior knowledge, return the choice that is most relevant to the question: '魔人ブウはどのように倒されたのか日本語で教えて'\n",
      "Provide choice in the following format: 'ANSWER: <number>' and explain why this summary was selected in relation to the question.\n",
      "\n",
      "INFO:root:>[Level 0] Selected node: [2]/[2]\n",
      "DEBUG:root:>[Level 0] Node [2] Summary text:  ドラゴンボールのストーリーは、悟空が伝説の戦士・超サイヤ人へと覚醒し、フリーザを倒した後、ポルンガによって地球に帰還した悟飯たちが復活したドラゴンボールによりサイヤ人やフリーザ一味に殺された人...\n",
      "DEBUG:openai:message='Request to OpenAI API' method=post path=https://api.openai.com/v1/completions\n",
      "DEBUG:openai:api_version=None data='{\"prompt\": [\"Some choices are given below. It is provided in a numbered list (1 to 9),where each item in the list corresponds to a summary.\\\\n---------------------\\\\n(1) \\\\u6012\\\\u308a\\\\u3092\\\\u7206\\\\u767a\\\\u3055\\\\u305b\\\\u305f\\\\u609f\\\\u7a7a\\\\u306f\\\\u4f1d\\\\u8aac\\\\u306e\\\\u6226\\\\u58eb\\\\u30fb\\\\u8d85\\\\uff08\\\\u30b9\\\\u30fc\\\\u30d1\\\\u30fc\\\\uff09\\\\u30b5\\\\u30a4\\\\u30e4\\\\u4eba\\\\u3078\\\\u3068\\\\u899a\\\\u9192\\\\u3002\\\\u30d5\\\\u30eb\\\\u30d1\\\\u30ef\\\\u30fc\\\\u3092\\\\u89e3\\\\u653e\\\\u3057\\\\u305f\\\\u30d5\\\\u30ea\\\\u30fc\\\\u30b6\\\\u306b\\\\u52dd\\\\u5229\\\\u3059\\\\u308b\\\\u3002\\\\u30dd\\\\u30eb\\\\u30f3\\\\u30ac\\\\u306b\\\\u3088\\\\u3063\\\\u3066\\\\u5730\\\\u7403\\\\u306b\\\\u5e30\\\\u9084\\\\u3057\\\\u305f\\\\u609f\\\\u98ef\\\\u305f\\\\u3061\\\\u306f\\\\u5fa9\\\\u6d3b\\\\u3057\\\\u305f\\\\u30c9\\\\u30e9\\\\u30b4\\\\u30f3\\\\u30dc\\\\u30fc\\\\u30eb\\\\u306b\\\\u3088\\\\u308a\\\\u30b5\\\\u30a4\\\\u30e4\\\\u4eba\\\\u3084\\\\u30d5\\\\u30ea\\\\u30fc\\\\u30b6\\\\u4e00\\\\u5473\\\\u306b\\\\u6bba\\\\u3055\\\\u308c\\\\u305f\\\\u4eba\\\\u3005\\\\u3092\\\\u8607\\\\u751f\\\\u3055\\\\u305b\\\\u305f\\\\u3002\\\\u4e00\\\\u65b9\\\\u306e\\\\u609f\\\\u7a7a\\\\u3082\\\\u7206\\\\u767a\\\\u3059\\\\u308b\\\\u30ca\\\\u30e1\\\\u30c3\\\\u30af\\\\u661f\\\\u3092\\\\u8f9b\\\\u304f\\\\u3082\\\\u8131\\\\u51fa\\\\u3001\\\\u30e4\\\\u30fc\\\\u30c9\\\\u30e9\\\\u30c3\\\\u30c8\\\\u661f\\\\u306b\\\\u6f02\\\\u7740\\\\u3057\\\\u4e00\\\\u547d\\\\u3092\\\\u53d6\\\\u308a\\\\u7559\\\\u3081\\\\u305f\\\\n\\\\n(2)   \\\\u4eba\\\\u9020\\\\u4eba\\\\u9593\\\\u30fb\\\\u30bb\\\\u30eb\\\\u7de8 \\\\u30ca\\\\u30e1\\\\u30c3\\\\u30af\\\\u661f\\\\u3067\\\\u306e\\\\u95d8\\\\u3044\\\\u304b\\\\u3089\\\\u7d041\\\\u5e74\\\\u5f8c\\\\u3001\\\\u5bc6\\\\u304b\\\\u306b\\\\u751f\\\\u304d\\\\u5ef6\\\\u3073\\\\u3066\\\\u3044\\\\u305f\\\\u30d5\\\\u30ea\\\\u30fc\\\\u30b6\\\\u3068\\\\u305d\\\\u306e\\\\u4e00\\\\u5473\\\\u304c\\\\u5730\\\\u7403\\\\u3092\\\\u8972\\\\u6483\\\\u3059\\\\u308b\\\\u304c\\\\u3001\\\\u8b0e\\\\u306e\\\\u8d85\\\\u30b5\\\\u30a4\\\\u30e4\\\\u4eba\\\\u306b\\\\u3088\\\\u3063\\\\u3066\\\\u6483\\\\u9000\\\\u3055\\\\u308c\\\\u308b\\\\u3002\\\\u30c8\\\\u30e9\\\\u30f3\\\\u30af\\\\u30b9\\\\u3068\\\\u540d\\\\u4e57\\\\u308b\\\\u305d\\\\u306e\\\\u9752\\\\u5e74\\\\u306f\\\\u3001\\\\u81ea\\\\u5206\\\\u306f\\\\u672a\\\\u6765\\\\u304b\\\\u3089\\\\u3084\\\\u3063\\\\u3066\\\\u304d\\\\u305f\\\\u30d6\\\\u30eb\\\\u30de\\\\u3068\\\\u30d9\\\\u30b8\\\\u30fc\\\\u30bf\\\\u306e\\\\u606f\\\\u5b50\\\\u3067\\\\u3042\\\\u308b\\\\u3053\\\\u3068\\\\u3092\\\\u609f\\\\u7a7a\\\\u306b\\\\u3060\\\\u3051\\\\u660e\\\\u304b\\\\u3059\\\\u3068\\\\u540c\\\\u6642\\\\u306b\\\\u3001\\\\u609f\\\\u7a7a\\\\u306f\\\\u5fc3\\\\u81d3\\\\u75c5\\\\u306b\\\\u3088\\\\u3063\\\\u3066\\\\u547d\\\\u3092\\\\u843d\\\\u3068\\\\u3059\\\\u3053\\\\u3068\\\\u30013\\\\u5e74\\\\u5f8c\\\\u306b\\\\u73fe\\\\u308c\\\\u308b2\\\\u4f53\\\\u306e\\\\u4eba\\\\u9020\\\\u4eba\\\\u9593\\\\u304c\\\\u7d76\\\\u671b\\\\u306e\\\\u672a\\\\u6765\\\\u3092\\\\u3082\\\\u305f\\\\u3089\\\\u3059\\\\u3053\\\\u3068\\\\u3092\\\\u544a\\\\u3052\\\\u308b\\\\n\\\\n(3) \\\\u305d\\\\u306e\\\\u5f8c\\\\u672c\\\\u5f53\\\\u306b\\\\u5fc3\\\\u81d3\\\\u75c5\\\\u306b\\\\u3088\\\\u3063\\\\u3066\\\\u5371\\\\u7be4\\\\u72b6\\\\u614b\\\\u306b\\\\u306a\\\\u308b\\\\u3082\\\\u3001\\\\u30c8\\\\u30e9\\\\u30f3\\\\u30af\\\\u30b9\\\\u304b\\\\u3089\\\\u6e21\\\\u3055\\\\u308c\\\\u305f\\\\u7279\\\\u52b9\\\\u85ac\\\\u306b\\\\u3088\\\\u3063\\\\u3066\\\\u751f\\\\u9084\\\\u3001\\\\u6765\\\\u308b\\\\u3079\\\\u304d\\\\u65e5\\\\u306b\\\\u5099\\\\u3048\\\\u30663\\\\u5e74\\\\u9593\\\\u5404\\\\u3005\\\\u306b\\\\u4fee\\\\u884c\\\\u3057\\\\u3066\\\\u305d\\\\u306e\\\\u65e5\\\\u3092\\\\u8fce\\\\u3048\\\\u308b\\\\u609f\\\\u7a7a\\\\u305f\\\\u3061\\\\u3067\\\\u3042\\\\u3063\\\\u305f\\\\u304c\\\\u3001\\\\u4e8b\\\\u614b\\\\u306f\\\\u30c8\\\\u30e9\\\\u30f3\\\\u30af\\\\u30b9\\\\u304c\\\\u77e5\\\\u3063\\\\u3066\\\\u3044\\\\u308b\\\\u6b74\\\\u53f2\\\\u3068\\\\u306f\\\\u5927\\\\u304d\\\\u304f\\\\u9055\\\\u3046\\\\u3082\\\\u306e\\\\u3068\\\\u306a\\\\u308a\\\\u3001\\\\u5f7c\\\\u3055\\\\u3048\\\\u77e5\\\\u3089\\\\u306a\\\\u304b\\\\u3063\\\\u305f\\\\u4eba\\\\u9020\\\\u4eba\\\\u9593\\\\u305f\\\\u3061\\\\u307e\\\\u3067\\\\u73fe\\\\u308c\\\\u3001\\\\u3055\\\\u3089\\\\u306b\\\\u7a76\\\\u6975\\\\u306e\\\\u4eba\\\\u9020\\\\u4eba\\\\u9593\\\\u30fb\\\\u30bb\\\\u30eb\\\\u304c\\\\u672a\\\\u6765\\\\u304b\\\\u3089\\\\u51fa\\\\u73fe\\\\u3002\\\\u609f\\\\u7a7a\\\\u3089\\\\u306e\\\\u60f3\\\\u5b9a\\\\u3092\\\\u9065\\\\u304b\\\\u306b\\\\u8d85\\\\u3048\\\\u305f\\\\u6226\\\\u58eb\\\\u304c\\\\u7d9a\\\\u3005\\\\u3068\\\\u73fe\\\\u308c\\\\u305f\\\\n\\\\n(4)   \\\\u4eba\\\\u9020\\\\u4eba\\\\u959317\\\\u53f7\\\\u3068\\\\u4eba\\\\u9020\\\\u4eba\\\\u959318\\\\u53f7\\\\u3092\\\\u5438\\\\u53ce\\\\u3059\\\\u308b\\\\u3053\\\\u3068\\\\u3067\\\\u5b8c\\\\u5168\\\\u4f53\\\\u3068\\\\u306a\\\\u3063\\\\u305f\\\\u30bb\\\\u30eb\\\\u306f\\\\u5730\\\\u7403\\\\u306e\\\\u547d\\\\u904b\\\\u3092\\\\u8ced\\\\u3051\\\\u305f\\\\u6b66\\\\u9053\\\\u4f1a\\\\u300c\\\\u30bb\\\\u30eb\\\\u30b2\\\\u30fc\\\\u30e0\\\\u300d\\\\u306e\\\\u958b\\\\u50ac\\\\u3092\\\\u5168\\\\u4e16\\\\u754c\\\\u306b\\\\u5ba3\\\\u8a00\\\\u3059\\\\u308b\\\\u3002\\\\u609f\\\\u7a7a\\\\u3089\\\\u306f\\\\u5929\\\\u754c\\\\u306b\\\\u3042\\\\u308b1\\\\u65e5\\\\u30671\\\\u5e74\\\\u306e\\\\u4fee\\\\u884c\\\\u304c\\\\u884c\\\\u3048\\\\u308b\\\\u3082\\\\u904e\\\\u9177\\\\u306a\\\\u74b0\\\\u5883\\\\u306b\\\\u6652\\\\u3055\\\\u308c\\\\u308b\\\\u300c\\\\u7cbe\\\\u795e\\\\u3068\\\\u6642\\\\u306e\\\\u90e8\\\\u5c4b\\\\u300d\\\\u3067\\\\u4fee\\\\u884c\\\\u3057\\\\u3001\\\\u5f37\\\\u3055\\\\u3092\\\\u5897\\\\u3057\\\\u3066\\\\u30bb\\\\u30eb\\\\u30b2\\\\u30fc\\\\u30e0\\\\u306b\\\\u81e8\\\\u3080\\\\u304c\\\\u3001\\\\u609f\\\\u7a7a\\\\u306f\\\\u3053\\\\u306e\\\\u30bb\\\\u30eb\\\\u3068\\\\u306e\\\\u95d8\\\\u3044\\\\u306e\\\\u4e2d\\\\u3067\\\\u5730\\\\u7403\\\\u3092\\\\u5b88\\\\u308b\\\\u305f\\\\u3081\\\\u306b\\\\u547d\\\\u3092\\\\u843d\\\\u3068\\\\u3059\\\\n\\\\n(5) \\\\u3060\\\\u304c\\\\u3001\\\\u305d\\\\u306e\\\\u907a\\\\u5fd7\\\\u3092\\\\u53d7\\\\u3051\\\\u7d99\\\\u3044\\\\u3060\\\\u606f\\\\u5b50\\\\u30fb\\\\u609f\\\\u98ef\\\\u304c\\\\u8d85\\\\u30b5\\\\u30a4\\\\u30e4\\\\u4eba2\\\\u3078\\\\u3068\\\\u899a\\\\u9192\\\\u3001\\\\u7236\\\\u30fb\\\\u609f\\\\u7a7a\\\\u306e\\\\u5e7b\\\\u5f71\\\\u3068\\\\u5171\\\\u306b\\\\u304b\\\\u3081\\\\u306f\\\\u3081\\\\u6ce2\\\\u3092\\\\u653e\\\\u3061\\\\u30bb\\\\u30eb\\\\u3092\\\\u6483\\\\u7834\\\\u3002\\\\u30bb\\\\u30eb\\\\u30b2\\\\u30fc\\\\u30e0\\\\u3092\\\\u5236\\\\u3057\\\\u305f\\\\u609f\\\\u98ef\\\\u305f\\\\u3061\\\\u306f\\\\u3001\\\\u30c9\\\\u30e9\\\\u30b4\\\\u30f3\\\\u30dc\\\\u30fc\\\\u30eb\\\\u306b\\\\u3088\\\\u308a\\\\u30bb\\\\u30eb\\\\u306b\\\\u6bba\\\\u3055\\\\u308c\\\\u305f\\\\u4eba\\\\u3005\\\\u3092\\\\u8607\\\\u751f\\\\u3055\\\\u305b\\\\u308b\\\\u304c\\\\u3001\\\\u609f\\\\u7a7a\\\\u306f\\\\u81ea\\\\u5206\\\\u304c\\\\u60aa\\\\u4eba\\\\u3092\\\\u5f15\\\\u304d\\\\u5bc4\\\\u305b\\\\u3066\\\\u3044\\\\u308b\\\\u3068\\\\u3044\\\\u3046\\\\u7406\\\\u7531\\\\u3067\\\\u751f\\\\u304d\\\\u8fd4\\\\u308a\\\\u3092\\\\u62d2\\\\u5426\\\\u3057\\\\u3001\\\\u3042\\\\u306e\\\\u4e16\\\\u306b\\\\u6b8b\\\\u308b\\\\u3053\\\\u3068\\\\u3092\\\\u9078\\\\u3076\\\\n\\\\n(6)   \\\\u9b54\\\\u4eba\\\\u30d6\\\\u30a6\\\\u7de8 \\\\u30bb\\\\u30eb\\\\u30b2\\\\u30fc\\\\u30e0\\\\u3088\\\\u308a\\\\u7d047\\\\u5e74\\\\u5f8c\\\\u3001\\\\u9ad8\\\\u6821\\\\u751f\\\\u306b\\\\u6210\\\\u9577\\\\u3057\\\\u305f\\\\u609f\\\\u98ef\\\\u304c\\\\u5929\\\\u4e0b\\\\u4e00\\\\u6b66\\\\u9053\\\\u4f1a\\\\u306b\\\\u51fa\\\\u5834\\\\u3059\\\\u308b\\\\u3053\\\\u3068\\\\u3092\\\\u77e5\\\\u3063\\\\u305f\\\\u609f\\\\u7a7a\\\\u306f\\\\u3001\\\\u81ea\\\\u3089\\\\u3082\\\\u51fa\\\\u5834\\\\u3059\\\\u308b\\\\u305f\\\\u3081\\\\u306b\\\\u5360\\\\u3044\\\\u30d0\\\\u30d0\\\\u306e\\\\u529b\\\\u306b\\\\u3088\\\\u3063\\\\u30661\\\\u65e5\\\\u3060\\\\u3051\\\\u3053\\\\u306e\\\\u4e16\\\\u306b\\\\u623b\\\\u308b\\\\u3002\\\\u5929\\\\u4e0b\\\\u4e00\\\\u6b66\\\\u9053\\\\u4f1a\\\\u306e\\\\u6700\\\\u4e2d\\\\u3001\\\\u609f\\\\u7a7a\\\\u305f\\\\u3061\\\\u306f\\\\u754c\\\\u738b\\\\u3088\\\\u308a\\\\u3082\\\\u3055\\\\u3089\\\\u306b\\\\u9ad8\\\\u4f4d\\\\u306e\\\\u5b58\\\\u5728\\\\u3067\\\\u3042\\\\u308b\\\\u754c\\\\u738b\\\\u795e\\\\u304b\\\\u3089\\\\u3001\\\\u6050\\\\u308d\\\\u3057\\\\u3044\\\\u529b\\\\u3092\\\\u6301\\\\u3064\\\\u9b54\\\\u4eba\\\\u30d6\\\\u30a6\\\\u306e\\\\u5c01\\\\u5370\\\\u304c\\\\u89e3\\\\u304b\\\\u308c\\\\u3088\\\\u3046\\\\u3068\\\\u3057\\\\u3066\\\\u3044\\\\u308b\\\\u3053\\\\u3068\\\\u3092\\\\u77e5\\\\u3089\\\\u3055\\\\u308c\\\\u308b\\\\n\\\\n(7) \\\\u5fa9\\\\u6d3b\\\\u3057\\\\u305f\\\\u9b54\\\\u4eba\\\\u30d6\\\\u30a6\\\\u306b\\\\u3088\\\\u308a\\\\u609f\\\\u98ef\\\\u3084\\\\u30d9\\\\u30b8\\\\u30fc\\\\u30bf\\\\u304c\\\\u5012\\\\u3055\\\\u308c\\\\u3001\\\\u609f\\\\u7a7a\\\\u306f\\\\u3042\\\\u306e\\\\u4e16\\\\u306b\\\\u5e30\\\\u3063\\\\u305f\\\\u305f\\\\u3081\\\\u3001\\\\u5730\\\\u7403\\\\u306e\\\\u547d\\\\u904b\\\\u306f\\\\u609f\\\\u7a7a\\\\u306e\\\\u6b21\\\\u7537\\\\u30fb\\\\u5b6b\\\\u609f\\\\u5929\\\\u3068\\\\u5c11\\\\u5e74\\\\u30c8\\\\u30e9\\\\u30f3\\\\u30af\\\\u30b9\\\\u306e\\\\u5e7c\\\\u3044\\\\u4e8c\\\\u4eba\\\\u306b\\\\u8a17\\\\u3055\\\\u308c\\\\u308b\\\\u3002  \\\\u4e00\\\\u65b9\\\\u3001\\\\u9b54\\\\u4eba\\\\u30d6\\\\u30a6\\\\u306f\\\\u69d8\\\\u3005\\\\u306a\\\\u4eba\\\\u9593\\\\u3068\\\\u306e\\\\u51fa\\\\u4f1a\\\\u3044\\\\u304b\\\\u3089\\\\u3088\\\\u308a\\\\u90aa\\\\u60aa\\\\u3067\\\\u5f37\\\\u529b\\\\u306a\\\\u9b54\\\\u4eba\\\\u3078\\\\u3068\\\\u5909\\\\u8c8c\\\\u3002\\\\u609f\\\\u5929\\\\u3068\\\\u30c8\\\\u30e9\\\\u30f3\\\\u30af\\\\u30b9\\\\u304c\\\\u300c\\\\u30d5\\\\u30e5\\\\u30fc\\\\u30b8\\\\u30e7\\\\u30f3\\\\uff08\\\\u878d\\\\u5408\\\\uff09\\\\u300d\\\\u3057\\\\u3066\\\\u8a95\\\\u751f\\\\u3057\\\\u305f\\\\u6226\\\\u58eb\\\\u30fb\\\\u30b4\\\\u30c6\\\\u30f3\\\\u30af\\\\u30b9\\\\u3084\\\\u3001\\\\u6f5c\\\\u5728\\\\u80fd\\\\u529b\\\\u3092\\\\u89e3\\\\u653e\\\\u3057\\\\u3001\\\\u30d1\\\\u30ef\\\\u30fc\\\\u30a2\\\\u30c3\\\\u30d7\\\\u3092\\\\u9042\\\\u3052\\\\u3066\\\\u5e30\\\\u3063\\\\u3066\\\\u304d\\\\u305f\\\\u609f\\\\u98ef\\\\u3089\\\\u304c\\\\u5fdc\\\\u6226\\\\u3059\\\\u308b\\\\u304c\\\\u3001\\\\u6226\\\\u58eb\\\\u305f\\\\u3061\\\\u3092\\\\u6b21\\\\u3005\\\\u3068\\\\u5438\\\\u53ce\\\\u3057\\\\u59ff\\\\u3092\\\\u5909\\\\u3048\\\\u3066\\\\u3044\\\\u304f\\\\u9b54\\\\u4eba\\\\u30d6\\\\u30a6\\\\u306b\\\\u82e6\\\\u6226\\\\u3092\\\\u5f37\\\\u3044\\\\u3089\\\\u308c\\\\u308b\\\\n\\\\n(8) \\\\u5371\\\\u6a5f\\\\u306b\\\\u9665\\\\u3063\\\\u305f\\\\u609f\\\\u98ef\\\\u3089\\\\u3092\\\\u6551\\\\u3046\\\\u305f\\\\u3081\\\\u73fe\\\\u4e16\\\\u306b\\\\u821e\\\\u3044\\\\u623b\\\\u3063\\\\u305f\\\\u609f\\\\u7a7a\\\\u3068\\\\u30d9\\\\u30b8\\\\u30fc\\\\u30bf\\\\u306f\\\\u3001\\\\u754c\\\\u738b\\\\u795e\\\\u754c\\\\u3067\\\\u771f\\\\u306e\\\\u59ff\\\\u3068\\\\u306a\\\\u3063\\\\u305f\\\\u9b54\\\\u4eba\\\\u30d6\\\\u30a6\\\\u3068\\\\u306e\\\\u6700\\\\u7d42\\\\u6c7a\\\\u6226\\\\u306b\\\\u81e8\\\\u3080\\\\u3002\\\\u30c9\\\\u30e9\\\\u30b4\\\\u30f3\\\\u30dc\\\\u30fc\\\\u30eb\\\\u306e\\\\u5354\\\\u529b\\\\u3082\\\\u3042\\\\u308a\\\\u3001\\\\u5730\\\\u7403\\\\u30fb\\\\u30ca\\\\u30e1\\\\u30c3\\\\u30af\\\\u661f\\\\u30fb\\\\u3042\\\\u306e\\\\u4e16\\\\u306e\\\\u4eba\\\\u3005\\\\u306e\\\\u30a8\\\\u30cd\\\\u30eb\\\\u30ae\\\\u30fc\\\\u306b\\\\u3088\\\\u3063\\\\u3066\\\\u4f5c\\\\u308a\\\\u4e0a\\\\u3052\\\\u3089\\\\u308c\\\\u305f\\\\u8d85\\\\u7279\\\\u5927\\\\u306e\\\\u5143\\\\u6c17\\\\u7389\\\\u306b\\\\u3088\\\\u3063\\\\u3066\\\\u9b54\\\\u4eba\\\\u30d6\\\\u30a6\\\\u306f\\\\u5b8c\\\\u5168\\\\u306b\\\\u6d88\\\\u6ec5\\\\u3059\\\\u308b\\\\u3002  \\\\u305d\\\\u308c\\\\u304b\\\\u308910\\\\u5e74\\\\u5f8c\\\\u3001\\\\u609f\\\\u7a7a\\\\u306f\\\\u5b6b\\\\u306e\\\\u30d1\\\\u30f3\\\\u3068\\\\u5171\\\\u306b\\\\u5929\\\\u4e0b\\\\u4e00\\\\u6b66\\\\u9053\\\\u4f1a\\\\u306b\\\\u4e45\\\\u3057\\\\u3076\\\\u308a\\\\u306b\\\\u51fa\\\\u5834\\\\u3057\\\\u3001\\\\u9b54\\\\u4eba\\\\u30d6\\\\u30a6\\\\u306e\\\\u751f\\\\u307e\\\\u308c\\\\u5909\\\\u308f\\\\u308a\\\\u3067\\\\u3042\\\\u308b\\\\u5c11\\\\u5e74\\\\u30fb\\\\u30a6\\\\u30fc\\\\u30d6\\\\u3068\\\\u51fa\\\\u4f1a\\\\u3046\\\\n\\\\n(9) \\\\u609f\\\\u7a7a\\\\u306f\\\\u30a6\\\\u30fc\\\\u30d6\\\\u3068\\\\u5171\\\\u306b\\\\u898b\\\\u679c\\\\u3066\\\\u306c\\\\u5f37\\\\u3055\\\\u3092\\\\u8ffd\\\\u3044\\\\u6c42\\\\u3081\\\\u3066\\\\u4fee\\\\u884c\\\\u306b\\\\u65c5\\\\u7acb\\\\u3061\\\\u3001\\\\u7269\\\\u8a9e\\\\u306f\\\\u5e55\\\\u3092\\\\u9589\\\\u3058\\\\u308b\\\\u3002 \\\\n---------------------\\\\nUsing only the choices above and not prior knowledge, return the choice that is most relevant to the question: \\'\\\\u9b54\\\\u4eba\\\\u30d6\\\\u30a6\\\\u306f\\\\u3069\\\\u306e\\\\u3088\\\\u3046\\\\u306b\\\\u5012\\\\u3055\\\\u308c\\\\u305f\\\\u306e\\\\u304b\\\\u65e5\\\\u672c\\\\u8a9e\\\\u3067\\\\u6559\\\\u3048\\\\u3066\\'\\\\nProvide choice in the following format: \\'ANSWER: <number>\\' and explain why this summary was selected in relation to the question.\\\\n\"], \"model\": \"text-davinci-003\", \"temperature\": 0.0, \"max_tokens\": 256, \"top_p\": 1, \"frequency_penalty\": 0, \"presence_penalty\": 0, \"n\": 1, \"best_of\": 1, \"logit_bias\": {}}' message='Post details'\n"
     ]
    },
    {
     "name": "stdout",
     "output_type": "stream",
     "text": [
      "DEBUG:urllib3.connectionpool:https://api.openai.com:443 \"POST /v1/completions HTTP/1.1\" 200 686\n",
      "DEBUG:openai:message='OpenAI API response' path=https://api.openai.com/v1/completions processing_ms=3356 request_id=c00dbe7d1c9fed1c6a292728e88b07be response_code=200\n",
      "DEBUG:root:\n",
      "ANSWER: 8 \n",
      "This summary was selected because it provides the most detailed description of how Majin Buu was defeated. It explains that he was defeated by the combined efforts of the Dragon Balls, the energy of the people of Earth, Namakk and the Other World, and the Super Genki Dama created by Goku and Vegeta. It also mentions that Goku and Vegeta returned to the present world to save their friends from Majin Buu.\n",
      "DEBUG:root:>[Level 1] current prompt template: Some choices are given below. It is provided in a numbered list (1 to 9),where each item in the list corresponds to a summary.\n",
      "---------------------\n",
      "(1) 怒りを爆発させた悟空は伝説の戦士・超（スーパー）サイヤ人へと覚醒。フルパワーを解放したフリーザに勝利する。ポルンガによって地球に帰還した悟飯たちは復活したドラゴンボールによりサイヤ人やフリーザ一味に殺された人々を蘇生させた。一方の悟空も爆発するナメック星を辛くも脱出、ヤードラット星に漂着し一命を取り留めた\n",
      "\n",
      "(2)   人造人間・セル編 ナメック星での闘いから約1年後、密かに生き延びていたフリーザとその一味が地球を襲撃するが、謎の超サイヤ人によって撃退される。トランクスと名乗るその青年は、自分は未来からやってきたブルマとベジータの息子であることを悟空にだけ明かすと同時に、悟空は心臓病によって命を落とすこと、3年後に現れる2体の人造人間が絶望の未来をもたらすことを告げる\n",
      "\n",
      "(3) その後本当に心臓病によって危篤状態になるも、トランクスから渡された特効薬によって生還、来るべき日に備えて3年間各々に修行してその日を迎える悟空たちであったが、事態はトランクスが知っている歴史とは大きく違うものとなり、彼さえ知らなかった人造人間たちまで現れ、さらに究極の人造人間・セルが未来から出現。悟空らの想定を遥かに超えた戦士が続々と現れた\n",
      "\n",
      "(4)   人造人間17号と人造人間18号を吸収することで完全体となったセルは地球の命運を賭けた武道会「セルゲーム」の開催を全世界に宣言する。悟空らは天界にある1日で1年の修行が行えるも過酷な環境に晒される「精神と時の部屋」で修行し、強さを増してセルゲームに臨むが、悟空はこのセルとの闘いの中で地球を守るために命を落とす\n",
      "\n",
      "(5) だが、その遺志を受け継いだ息子・悟飯が超サイヤ人2へと覚醒、父・悟空の幻影と共にかめはめ波を放ちセルを撃破。セルゲームを制した悟飯たちは、ドラゴンボールによりセルに殺された人々を蘇生させるが、悟空は自分が悪人を引き寄せているという理由で生き返りを拒否し、あの世に残ることを選ぶ\n",
      "\n",
      "(6)   魔人ブウ編 セルゲームより約7年後、高校生に成長した悟飯が天下一武道会に出場することを知った悟空は、自らも出場するために占いババの力によって1日だけこの世に戻る。天下一武道会の最中、悟空たちは界王よりもさらに高位の存在である界王神から、恐ろしい力を持つ魔人ブウの封印が解かれようとしていることを知らされる\n",
      "\n",
      "(7) 復活した魔人ブウにより悟飯やベジータが倒され、悟空はあの世に帰ったため、地球の命運は悟空の次男・孫悟天と少年トランクスの幼い二人に託される。  一方、魔人ブウは様々な人間との出会いからより邪悪で強力な魔人へと変貌。悟天とトランクスが「フュージョン（融合）」して誕生した戦士・ゴテンクスや、潜在能力を解放し、パワーアップを遂げて帰ってきた悟飯らが応戦するが、戦士たちを次々と吸収し姿を変えていく魔人ブウに苦戦を強いられる\n",
      "\n",
      "(8) 危機に陥った悟飯らを救うため現世に舞い戻った悟空とベジータは、界王神界で真の姿となった魔人ブウとの最終決戦に臨む。ドラゴンボールの協力もあり、地球・ナメック星・あの世の人々のエネルギーによって作り上げられた超特大の元気玉によって魔人ブウは完全に消滅する。  それから10年後、悟空は孫のパンと共に天下一武道会に久しぶりに出場し、魔人ブウの生まれ変わりである少年・ウーブと出会う\n",
      "\n",
      "(9) 悟空はウーブと共に見果てぬ強さを追い求めて修行に旅立ち、物語は幕を閉じる。 \n",
      "---------------------\n",
      "Using only the choices above and not prior knowledge, return the choice that is most relevant to the question: '魔人ブウはどのように倒されたのか日本語で教えて'\n",
      "Provide choice in the following format: 'ANSWER: <number>' and explain why this summary was selected in relation to the question.\n",
      "\n",
      "INFO:root:>[Level 1] Selected node: [8]/[8]\n",
      "DEBUG:root:>[Level 1] Node [8] Summary text: 危機に陥った悟飯らを救うため現世に舞い戻った悟空とベジータは、界王神界で真の姿となった魔人ブウとの最終決戦に臨む。ドラゴンボールの協力もあり、地球・ナメック星・あの世の人々のエネルギーによって作...\n",
      "DEBUG:root:>[Level 1] Searching in chunk: 危機に陥った悟飯らを救うため現世に舞い戻った悟空とベジータは、界王神界で真の姿となった魔人ブウ...\n",
      "DEBUG:openai:message='Request to OpenAI API' method=post path=https://api.openai.com/v1/completions\n",
      "DEBUG:openai:api_version=None data='{\"prompt\": [\"Context information is below. \\\\n---------------------\\\\n\\\\u5371\\\\u6a5f\\\\u306b\\\\u9665\\\\u3063\\\\u305f\\\\u609f\\\\u98ef\\\\u3089\\\\u3092\\\\u6551\\\\u3046\\\\u305f\\\\u3081\\\\u73fe\\\\u4e16\\\\u306b\\\\u821e\\\\u3044\\\\u623b\\\\u3063\\\\u305f\\\\u609f\\\\u7a7a\\\\u3068\\\\u30d9\\\\u30b8\\\\u30fc\\\\u30bf\\\\u306f\\\\u3001\\\\u754c\\\\u738b\\\\u795e\\\\u754c\\\\u3067\\\\u771f\\\\u306e\\\\u59ff\\\\u3068\\\\u306a\\\\u3063\\\\u305f\\\\u9b54\\\\u4eba\\\\u30d6\\\\u30a6\\\\u3068\\\\u306e\\\\u6700\\\\u7d42\\\\u6c7a\\\\u6226\\\\u306b\\\\u81e8\\\\u3080\\\\u3002\\\\u30c9\\\\u30e9\\\\u30b4\\\\u30f3\\\\u30dc\\\\u30fc\\\\u30eb\\\\u306e\\\\u5354\\\\u529b\\\\u3082\\\\u3042\\\\u308a\\\\u3001\\\\u5730\\\\u7403\\\\u30fb\\\\u30ca\\\\u30e1\\\\u30c3\\\\u30af\\\\u661f\\\\u30fb\\\\u3042\\\\u306e\\\\u4e16\\\\u306e\\\\u4eba\\\\u3005\\\\u306e\\\\u30a8\\\\u30cd\\\\u30eb\\\\u30ae\\\\u30fc\\\\u306b\\\\u3088\\\\u3063\\\\u3066\\\\u4f5c\\\\u308a\\\\u4e0a\\\\u3052\\\\u3089\\\\u308c\\\\u305f\\\\u8d85\\\\u7279\\\\u5927\\\\u306e\\\\u5143\\\\u6c17\\\\u7389\\\\u306b\\\\u3088\\\\u3063\\\\u3066\\\\u9b54\\\\u4eba\\\\u30d6\\\\u30a6\\\\u306f\\\\u5b8c\\\\u5168\\\\u306b\\\\u6d88\\\\u6ec5\\\\u3059\\\\u308b\\\\u3002\\\\n\\\\n\\\\u305d\\\\u308c\\\\u304b\\\\u308910\\\\u5e74\\\\u5f8c\\\\u3001\\\\u609f\\\\u7a7a\\\\u306f\\\\u5b6b\\\\u306e\\\\u30d1\\\\u30f3\\\\u3068\\\\u5171\\\\u306b\\\\u5929\\\\u4e0b\\\\u4e00\\\\u6b66\\\\u9053\\\\u4f1a\\\\u306b\\\\u4e45\\\\u3057\\\\u3076\\\\u308a\\\\u306b\\\\u51fa\\\\u5834\\\\u3057\\\\u3001\\\\u9b54\\\\u4eba\\\\u30d6\\\\u30a6\\\\u306e\\\\u751f\\\\u307e\\\\u308c\\\\u5909\\\\u308f\\\\u308a\\\\u3067\\\\u3042\\\\u308b\\\\u5c11\\\\u5e74\\\\u30fb\\\\u30a6\\\\u30fc\\\\u30d6\\\\u3068\\\\u51fa\\\\u4f1a\\\\u3046\\\\n---------------------\\\\nGiven the context information and not prior knowledge, answer the question: \\\\u9b54\\\\u4eba\\\\u30d6\\\\u30a6\\\\u306f\\\\u3069\\\\u306e\\\\u3088\\\\u3046\\\\u306b\\\\u5012\\\\u3055\\\\u308c\\\\u305f\\\\u306e\\\\u304b\\\\u65e5\\\\u672c\\\\u8a9e\\\\u3067\\\\u6559\\\\u3048\\\\u3066\\\\n\"], \"model\": \"text-davinci-003\", \"temperature\": 0.0, \"max_tokens\": 256, \"top_p\": 1, \"frequency_penalty\": 0, \"presence_penalty\": 0, \"n\": 1, \"best_of\": 1, \"logit_bias\": {}}' message='Post details'\n",
      "DEBUG:urllib3.connectionpool:https://api.openai.com:443 \"POST /v1/completions HTTP/1.1\" 200 None\n",
      "DEBUG:openai:message='OpenAI API response' path=https://api.openai.com/v1/completions processing_ms=3530 request_id=9b638040aa20dbf6106284a6ea492343 response_code=200\n",
      "DEBUG:root:\n",
      "魔人ブウは、ドラゴンボールの協力を得て、地球・ナメック星・あの世の人々のエネルギーによって作り上げられた超特大の元気玉によって完全に消滅した。\n",
      "DEBUG:root:> Initial response: \n",
      "魔人ブウは、ドラゴンボールの協力を得て、地球・ナメック星・あの世の人々のエネルギーによって作り上げられた超特大の元気玉によって完全に消滅した。\n",
      "DEBUG:root:>[Level 1] Current answer response: \n",
      "魔人ブウは、ドラゴンボールの協力を得て、地球・ナメック星・あの世の人々のエネルギーによって作り上げられた超特大の元気玉によって完全に消滅した。 \n",
      "INFO:root:> [query] Total LLM token usage: 4568 tokens\n",
      "INFO:root:> [query] Total embedding token usage: 0 tokens\n",
      "INFO:root:> [query] Total LLM token usage: 4696 tokens\n",
      "INFO:root:> [query] Total embedding token usage: 0 tokens\n"
     ]
    }
   ],
   "source": [
    "response = graph.query(\"魔人ブウはどのように倒されたのか日本語で教えて\")"
   ]
  },
  {
   "cell_type": "code",
   "execution_count": 142,
   "id": "b7019598",
   "metadata": {},
   "outputs": [
    {
     "name": "stdout",
     "output_type": "stream",
     "text": [
      "INFO:root:> Starting query: ハドラーを倒したのは誰か日本語で教えて\n",
      "DEBUG:openai:message='Request to OpenAI API' method=post path=https://api.openai.com/v1/completions\n",
      "DEBUG:openai:api_version=None data='{\"prompt\": [\"A question is provided below. Given the question, extract up to 10 keywords from the text. Focus on extracting the keywords that we can use to best lookup answers to the question. Avoid stopwords.\\\\n---------------------\\\\n\\\\u30cf\\\\u30c9\\\\u30e9\\\\u30fc\\\\u3092\\\\u5012\\\\u3057\\\\u305f\\\\u306e\\\\u306f\\\\u8ab0\\\\u304b\\\\u65e5\\\\u672c\\\\u8a9e\\\\u3067\\\\u6559\\\\u3048\\\\u3066\\\\n---------------------\\\\nProvide keywords in the following comma-separated format: \\'KEYWORDS: <keywords>\\'\\\\n\"], \"model\": \"text-davinci-003\", \"temperature\": 0.0, \"max_tokens\": 256, \"top_p\": 1, \"frequency_penalty\": 0, \"presence_penalty\": 0, \"n\": 1, \"best_of\": 1, \"logit_bias\": {}}' message='Post details'\n",
      "DEBUG:urllib3.connectionpool:Resetting dropped connection: api.openai.com\n",
      "DEBUG:urllib3.connectionpool:https://api.openai.com:443 \"POST /v1/completions HTTP/1.1\" 200 None\n",
      "DEBUG:openai:message='OpenAI API response' path=https://api.openai.com/v1/completions processing_ms=866 request_id=e403083e1b17ccfe2cc0743818116684 response_code=200\n",
      "DEBUG:root:\n",
      "KEYWORDS: ハドラー, 倒し, 誰, 日本語\n",
      "INFO:root:query keywords: ['ハドラー', '誰', '日本語', '倒し']\n",
      "INFO:root:> Extracted keywords: ['ハドラー']\n",
      "DEBUG:root:> Querying with idx: 4545755552743438823: \n",
      "十数年前、魔王ハドラー率いる魔王軍と勇者率いる勇者パーティの戦いは、勇者パーティの勝利で終わ...\n",
      "DEBUG:root:> Searching in chunk: \n",
      "十数年前、魔王ハドラー率いる魔王軍と勇者率いる勇者パーティの戦いは、勇者パーティの勝利で終わ...\n",
      "INFO:root:> Starting query: ハドラーを倒したのは誰か日本語で教えて\n",
      "DEBUG:openai:message='Request to OpenAI API' method=post path=https://api.openai.com/v1/completions\n",
      "DEBUG:openai:api_version=None data='{\"prompt\": [\"Some choices are given below. It is provided in a numbered list (1 to 3),where each item in the list corresponds to a summary.\\\\n---------------------\\\\n(1)  \\\\u5341\\\\u6570\\\\u5e74\\\\u524d\\\\u3001\\\\u9b54\\\\u738b\\\\u30cf\\\\u30c9\\\\u30e9\\\\u30fc\\\\u7387\\\\u3044\\\\u308b\\\\u9b54\\\\u738b\\\\u8ecd\\\\u3068\\\\u52c7\\\\u8005\\\\u7387\\\\u3044\\\\u308b\\\\u52c7\\\\u8005\\\\u30d1\\\\u30fc\\\\u30c6\\\\u30a3\\\\u306e\\\\u6226\\\\u3044\\\\u306f\\\\u3001\\\\u52c7\\\\u8005\\\\u30d1\\\\u30fc\\\\u30c6\\\\u30a3\\\\u306e\\\\u52dd\\\\u5229\\\\u3067\\\\u7d42\\\\u308f\\\\u308a\\\\u3001\\\\u9b54\\\\u738b\\\\u306e\\\\u914d\\\\u4e0b\\\\u3067\\\\u3042\\\\u3063\\\\u305f\\\\u30e2\\\\u30f3\\\\u30b9\\\\u30bf\\\\u30fc\\\\u3082\\\\u9b54\\\\u738b\\\\u306e\\\\u652f\\\\u914d\\\\u304b\\\\u3089\\\\u89e3\\\\u304d\\\\u653e\\\\u305f\\\\u308c\\\\u3001\\\\u4e16\\\\u754c\\\\u306b\\\\u5e73\\\\u548c\\\\u304c\\\\u8a2a\\\\u308c\\\\u305f\\\\u3002\\\\u305d\\\\u308c\\\\u304b\\\\u3089\\\\u5341\\\\u6570\\\\u5e74\\\\u5f8c\\\\u3001\\\\u30c7\\\\u30eb\\\\u30e0\\\\u30ea\\\\u30f3\\\\u5cf6\\\\u306b\\\\u4f4f\\\\u3080\\\\u5c11\\\\u5e74\\\\u30c0\\\\u30a4\\\\u306f\\\\u3001\\\\u52c7\\\\u8005\\\\u306b\\\\u306a\\\\u308b\\\\u3053\\\\u3068\\\\u3092\\\\u5922\\\\u898b\\\\u3066\\\\u3044\\\\u305f\\\\u3002\\\\u3042\\\\u308b\\\\u65e5\\\\u3001\\\\u9b54\\\\u738b\\\\u304c\\\\u5fa9\\\\u6d3b\\\\u3057\\\\u305f\\\\u3053\\\\u3068\\\\u3092\\\\u5bdf\\\\u3059\\\\u308b\\\\u30d6\\\\u30e9\\\\u30b9\\\\u306b\\\\u8a2a\\\\u308c\\\\u305f\\\\u8b0e\\\\u306e\\\\u4eba\\\\u7269\\\\u30a2\\\\u30d0\\\\u30f3\\\\u3068\\\\u305d\\\\u306e\\\\u5f1f\\\\u5b50\\\\u306e\\\\u9b54\\\\u6cd5\\\\u4f7f\\\\u3044\\\\u30dd\\\\u30c3\\\\u30d7\\\\u304c\\\\u73fe\\\\u308c\\\\u3001\\\\u5cf6\\\\u3092\\\\u7834\\\\u90aa\\\\u546a\\\\u6587\\\\u30fb\\\\u30de\\\\u30db\\\\u30ab\\\\u30c8\\\\u30fc\\\\u30eb\\\\u3067\\\\u8986\\\\u3044\\\\u3001\\\\u30e2\\\\u30f3\\\\u30b9\\\\u30bf\\\\u30fc\\\\u305f\\\\u3061\\\\u3092\\\\u9b54\\\\u738b\\\\u306e\\\\u652f\\\\u914d\\\\u304b\\\\u3089\\\\u6551\\\\u3063\\\\u305f\\\\u3002\\\\u30a2\\\\u30d0\\\\u30f3\\\\u306f\\\\u30c0\\\\u30a4\\\\u306e\\\\u4e8b\\\\u3092\\\\u805e\\\\u304d\\\\u3001\\\\u305d\\\\u306e\\\\u5c06\\\\u6765\\\\u6027\\\\u3092\\\\u898b\\\\u8fbc\\\\u3093\\\\u3067\\\\u5cf6\\\\u3092\\\\u8a2a\\\\u308c\\\\u305f\\\\u306e\\\\u3067\\\\u3042\\\\u308b\\\\u3002\\\\u30c0\\\\u30a4\\\\u306f\\\\u30a2\\\\u30d0\\\\u30f3\\\\u306e\\\\u6307\\\\u5c0e\\\\u3092\\\\u53d7\\\\u3051\\\\u3066\\\\u3001\\\\u77ed\\\\u671f\\\\u9593\\\\u306e\\\\u3046\\\\u3061\\\\u306b\\\\u79d8\\\\u3081\\\\u3089\\\\u308c\\\\u305f\\\\u529b\\\\u3092\\\\u958b\\\\u82b1\\\\u3055\\\\u305b\\\\u3066\\\\u3044\\\\u304f\\\\u300215\\\\u5e74\\\\u3076\\\\u308a\\\\u306b\\\\u5fa9\\\\u6d3b\\\\u3057\\\\u305f\\\\u30cf\\\\u30c9\\\\u30e9\\\\u30fc\\\\u304c\\\\u30a2\\\\u30d0\\\\u30f3\\\\u62b9\\\\u6bba\\\\u306e\\\\u305f\\\\u3081\\\\u30c7\\\\u30eb\\\\u30e0\\\\u30ea\\\\u30f3\\\\u5cf6\\\\u306b\\\\u6765\\\\u8972\\\\u3059\\\\u308b\\\\u304c\\\\u3001\\\\u30c0\\\\u30a4\\\\u306f\\\\u984d\\\\u306b\\\\u6d6e\\\\u304d\\\\u51fa\\\\u305f\\\\u8b0e\\\\u306e\\\\u7d0b\\\\u7ae0\\\\u306e\\\\u529b\\\\u3067\\\\u30d1\\\\u30ef\\\\u30fc\\\\u30a2\\\\u30c3\\\\u30d7\\\\u3057\\\\u3001\\\\u30cf\\\\u30c9\\\\u30e9\\\\u30fc\\\\u3092\\\\u9000\\\\u3051\\\\u308b\\\\u3002\\\\u30c0\\\\u30a4\\\\u306f\\\\u9b54\\\\u738b\\\\u8ecd\\\\u3092\\\\u5012\\\\u3059\\\\u3079\\\\u304f\\\\u3001\\\\u30dd\\\\u30c3\\\\u30d7\\\\u3068\\\\u30b4\\\\u30e1\\\\u3061\\\\u3083\\\\u3093\\\\u3068\\\\u5171\\\\u306b\\\\u65c5\\\\u7acb\\\\u3061\\\\u3001\\\\u30ed\\\\u30e2\\\\u30b9\\\\u738b\\\\u56fd\\\\u3068\\\\u30d1\\\\u30d7\\\\u30cb\\\\u30ab\\\\u738b\\\\u56fd\\\\u3092\\\\u5360\\\\u62e0\\\\u3057\\\\u305f\\\\u9b54\\\\u738b\\\\u8ecd\\\\u516d\\\\u5927\\\\u8ecd\\\\u56e3\\\\u3068\\\\u6226\\\\u3044\\\\u3001\\\\u52dd\\\\u5229\\\\u3092\\\\u53ce\\\\u3081\\\\u308b\\\\u3002\\\\u6700\\\\u5f8c\\\\u306b\\\\u30cf\\\\u30c9\\\\u30e9\\\\u30fc\\\\u3092\\\\u5012\\\\u3057\\\\u3001\\\\u4e16\\\\u754c\\\\u306b\\\\u5e73\\\\u548c\\\\u3092\\\\u53d6\\\\u308a\\\\u623b\\\\u3059\\\\u3053\\\\u3068\\\\u306b\\\\u6210\\\\u529f\\\\u3057\\\\u305f\\\\u3002\\\\n\\\\n(2)  \\\\u30c0\\\\u30a4\\\\u306f\\\\u4eba\\\\u9593\\\\u304b\\\\u3089\\\\u306e\\\\u8996\\\\u7dda\\\\u306b\\\\u82e6\\\\u60a9\\\\u3057\\\\u3066\\\\u3044\\\\u305f\\\\u304c\\\\u3001\\\\u305d\\\\u306e\\\\u524d\\\\u306b\\\\u7adc\\\\u9a0e\\\\u5c06\\\\u30d0\\\\u30e9\\\\u30f3\\\\u304c\\\\u73fe\\\\u308c\\\\u3001\\\\u30c0\\\\u30a4\\\\u304c\\\\u795e\\\\u3005\\\\u304c\\\\u4f5c\\\\u3063\\\\u305f\\\\u4f1d\\\\u8aac\\\\u306e\\\\u5b58\\\\u5728\\\\u300c\\\\u7adc\\\\u306e\\\\u9a0e\\\\u58eb\\\\u300d\\\\u3067\\\\u3042\\\\u308b\\\\u3053\\\\u3068\\\\u3092\\\\u544a\\\\u3052\\\\u305f\\\\u3002\\\\u30d0\\\\u30e9\\\\u30f3\\\\u306f\\\\u30c0\\\\u30a4\\\\u306b\\\\u9b54\\\\u738b\\\\u8ecd\\\\u306b\\\\u52a0\\\\u308f\\\\u308b\\\\u3088\\\\u3046\\\\u4fc3\\\\u3057\\\\u305f\\\\u304c\\\\u3001\\\\u30c0\\\\u30a4\\\\u306f\\\\u62d2\\\\u5426\\\\u3057\\\\u305f\\\\u3002\\\\u305d\\\\u306e\\\\u5f8c\\\\u3001\\\\u30dd\\\\u30c3\\\\u30d7\\\\u304c\\\\u30e1\\\\u30ac\\\\u30f3\\\\u30c6\\\\u3092\\\\u767a\\\\u52d5\\\\u3057\\\\u3066\\\\u72a0\\\\u7272\\\\u306b\\\\u306a\\\\u308a\\\\u3001\\\\u30c0\\\\u30a4\\\\u306e\\\\u8a18\\\\u61b6\\\\u304c\\\\u8607\\\\u3063\\\\u305f\\\\u3002\\\\u30ec\\\\u30aa\\\\u30ca\\\\u306f\\\\u4e16\\\\u754c\\\\u5404\\\\u56fd\\\\u306e\\\\u738b\\\\u306b\\\\u5354\\\\u529b\\\\u3092\\\\u547c\\\\u3073\\\\u304b\\\\u3051\\\\u3001\\\\u9b54\\\\u738b\\\\u8ecd\\\\u3078\\\\u306e\\\\u6c7a\\\\u6226\\\\u306e\\\\u6e96\\\\u5099\\\\u3092\\\\u9032\\\\u3081\\\\u308b\\\\u3002\\\\u30c0\\\\u30a4\\\\u4e00\\\\u884c\\\\u3082\\\\u65b0\\\\u305f\\\\u306a\\\\u529b\\\\u3092\\\\u84c4\\\\u3048\\\\u3001\\\\u30cf\\\\u30c9\\\\u30e9\\\\u30fc\\\\u306f\\\\u5996\\\\u9b54\\\\u53f8\\\\u6559\\\\u30b6\\\\u30dc\\\\u30a8\\\\u30e9\\\\u306e\\\\u624b\\\\u3067\\\\u81ea\\\\u3089\\\\u3092\\\\u8d85\\\\u9b54\\\\u751f\\\\u7269\\\\u306b\\\\u3055\\\\u305b\\\\u308b\\\\u3002\\\\u30c0\\\\u30a4\\\\u4e00\\\\u884c\\\\u306f\\\\u9b54\\\\u738b\\\\u8ecd\\\\u306e\\\\u672c\\\\u62e0\\\\u5730\\\\u3067\\\\u3042\\\\u308b\\\\u9b3c\\\\u5ca9\\\\u57ce\\\\u3092\\\\u7834\\\\u58ca\\\\u3057\\\\u305f\\\\u304c\\\\u3001\\\\u30d0\\\\u30fc\\\\u30f3\\\\u30d1\\\\u30ec\\\\u30b9\\\\u306b\\\\u306f\\\\u9b54\\\\u5bae\\\\u306e\\\\u9580\\\\u306b\\\\u3088\\\\u3063\\\\u3066\\\\u9589\\\\u3056\\\\u3055\\\\u308c\\\\u3066\\\\u3044\\\\u305f\\\\u3002\\\\u30d0\\\\u30e9\\\\u30f3\\\\u306f\\\\u30c0\\\\u30a4\\\\u4e00\\\\u884c\\\\u3068\\\\u5171\\\\u95d8\\\\u3057\\\\u3001\\\\u30cf\\\\u30c9\\\\u30e9\\\\u30fc\\\\u3068\\\\u5bfe\\\\u5cd9\\\\u3059\\\\u308b\\\\u304c\\\\u3001\\\\u9ed2\\\\u306e\\\\u6838\\\\u6676\\\\u304c\\\\u8d77\\\\u52d5\\\\u3057\\\\u3066\\\\u3057\\\\u307e\\\\u3044\\\\u3001\\\\u30d0\\\\u30e9\\\\u30f3\\\\u306f\\\\u30c0\\\\u30a4\\\\u305f\\\\u3061\\\\u3092\\\\u5b88\\\\u308b\\\\u305f\\\\u3081\\\\u306b\\\\u5168\\\\u3066\\\\u306e\\\\u529b\\\\u3092\\\\u4f7f\\\\u3063\\\\u3066\\\\u7206\\\\u767a\\\\u3092\\\\u62bc\\\\u3055\\\\u3048\\\\u3053\\\\u307f\\\\u306a\\\\u304c\\\\u3089\\\\u547d\\\\u3092\\\\u843d\\\\u3068\\\\u3057\\\\u305f\\\\u3002\\\\n\\\\n(3) \\\\u30c0\\\\u30a4\\\\u4e00\\\\u884c\\\\u306f\\\\u30d0\\\\u30fc\\\\u30f3\\\\u3068\\\\u306e\\\\u76f4\\\\u63a5\\\\u5bfe\\\\u6c7a\\\\u306b\\\\u304a\\\\u3044\\\\u3066\\\\u5727\\\\u5012\\\\u7684\\\\u306a\\\\u529b\\\\u306e\\\\u5dee\\\\u306e\\\\u524d\\\\u306b\\\\u6557\\\\u5317\\\\u3057\\\\u3001\\\\u30cf\\\\u30c9\\\\u30e9\\\\u30fc\\\\u304c\\\\u30d0\\\\u30fc\\\\u30f3\\\\u306b\\\\u53cd\\\\u9006\\\\u3057\\\\u3001\\\\u653b\\\\u6483\\\\u3092\\\\u4ed5\\\\u639b\\\\u3051\\\\u305f\\\\u9699\\\\u306b\\\\u8131\\\\u51fa\\\\u3059\\\\u308b\\\\u3002\\\\u30d0\\\\u30fc\\\\u30f3\\\\u306f\\\\u30d0\\\\u30fc\\\\u30f3\\\\u30d1\\\\u30ec\\\\u30b9\\\\u3092\\\\u98db\\\\u884c\\\\u3055\\\\u305b\\\\u3001\\\\u4e16\\\\u754c\\\\u5404\\\\u5730\\\\u3078\\\\u306e\\\\u7206\\\\u6483\\\\u3092\\\\u5b9f\\\\u884c\\\\u3059\\\\u308b\\\\u304c\\\\u3001\\\\u30d5\\\\u30ed\\\\u30fc\\\\u30e9\\\\u306e\\\\u5354\\\\u529b\\\\u3092\\\\u5f97\\\\u3066\\\\u8f9b\\\\u3046\\\\u3058\\\\u3066\\\\u751f\\\\u304d\\\\u5ef6\\\\u3073\\\\u305f\\\\u30c0\\\\u30a4\\\\u4e00\\\\u884c\\\\u306f\\\\u3001\\\\u30ec\\\\u30aa\\\\u30ca\\\\u3092\\\\u4e2d\\\\u5fc3\\\\u306b\\\\u5927\\\\u7834\\\\u90aa\\\\u546a\\\\u6587\\\\u30fb\\\\u30df\\\\u30ca\\\\u30ab\\\\u30c8\\\\u30fc\\\\u30eb\\\\u3092\\\\u767a\\\\u52d5\\\\u3057\\\\u3001\\\\u30d0\\\\u30fc\\\\u30f3\\\\u30d1\\\\u30ec\\\\u30b9\\\\u306e\\\\u52d5\\\\u304d\\\\u3092\\\\u5c01\\\\u3058\\\\u7a81\\\\u5165\\\\u3059\\\\u308b\\\\u3002\\\\u66f4\\\\u306b\\\\u30cf\\\\u30c9\\\\u30e9\\\\u30fc\\\\u3068\\\\u89aa\\\\u885b\\\\u9a0e\\\\u56e3\\\\u3082\\\\u4e71\\\\u5165\\\\u3057\\\\u3001\\\\u6fc0\\\\u95d8\\\\u3092\\\\u7e70\\\\u308a\\\\u5e83\\\\u3052\\\\u308b\\\\u3002\\\\u30c0\\\\u30a4\\\\u306f\\\\u30cf\\\\u30c9\\\\u30e9\\\\u30fc\\\\u3092\\\\u5012\\\\u3059\\\\u304c\\\\u3001\\\\u30ad\\\\u30eb\\\\u30d0\\\\u30fc\\\\u30f3\\\\u304c\\\\u4ed5\\\\u639b\\\\u3051\\\\u305f\\\\u7f60\\\\u304c\\\\u30c0\\\\u30a4\\\\u9054\\\\u3092\\\\u8972\\\\u3046\\\\u3002\\\\u305d\\\\u3053\\\\u306b\\\\u99c6\\\\u3051\\\\u3064\\\\u3051\\\\u305f\\\\u306e\\\\u306f\\\\u3001\\\\u304b\\\\u3064\\\\u3066\\\\u30d5\\\\u30ed\\\\u30fc\\\\u30e9\\\\u304b\\\\u3089\\\\u8a17\\\\u3055\\\\u308c\\\\u305f\\\\u300c\\\\u30ab\\\\u30fc\\\\u30eb\\\\u306e\\\\u307e\\\\u3082\\\\u308a\\\\u300d\\\\u304c\\\\u8eab\\\\u4ee3\\\\u308f\\\\u308a\\\\u3068\\\\u306a\\\\u3063\\\\u3066\\\\u751f\\\\u9084\\\\u3057\\\\u3001\\\\u5bc6\\\\u304b\\\\u306b\\\\u4fee\\\\u884c\\\\u3092\\\\u7d9a\\\\u3051\\\\u3066\\\\u3044\\\\u305f\\\\u30a2\\\\u30d0\\\\u30f3\\\\u3067\\\\u3042\\\\u3063\\\\u305f\\\\u3002\\\\u30c0\\\\u30a4\\\\u306f\\\\u7adc\\\\u306e\\\\u7d0b\\\\u7ae0\\\\u306e\\\\u529b\\\\u3067\\\\u30d0\\\\u30fc\\\\u30f3\\\\u3092\\\\u8ffd\\\\u3044\\\\u8a70\\\\u3081\\\\u3001\\\\u30d0\\\\u30fc\\\\u30f3\\\\u306f\\\\u30df\\\\u30b9\\\\u30c8\\\\u30d0\\\\u30fc\\\\u30f3\\\\u306b\\\\u9810\\\\u3051\\\\u3066\\\\u3044\\\\u305f\\\\u8089\\\\u4f53\\\\u3092\\\\u4f7f\\\\u3063\\\\u3066\\\\u771f\\\\u306e\\\\u59ff\\\\u3068\\\\u306a\\\\u308b\\\\u3002\\\\u30c0\\\\u30a4\\\\u306f\\\\u7adc\\\\u306e\\\\u9b54\\\\u4eba\\\\u3068\\\\u306a\\\\u308a\\\\u3001\\\\u30d0\\\\u30fc\\\\u30f3\\\\u3082\\\\u81ea\\\\u3089\\\\u306e\\\\u9b54\\\\u529b\\\\u306e\\\\u6e90\\\\u30fb\\\\u9b3c\\\\u773c\\\\u3092\\\\u89e3\\\\u653e\\\\u3057\\\\u3001\\\\u9b3c\\\\u773c\\\\u738b\\\\u3068\\\\u5316\\\\u3059\\\\u3002\\\\u6700\\\\u5f8c\\\\u306e\\\\u6fc0\\\\u95d8\\\\u306f\\\\u30c0\\\\u30a4\\\\u306e\\\\u52dd\\\\u5229\\\\u3067\\\\u7d42\\\\u308f\\\\u308a\\\\u3001\\\\u5730\\\\u4e0a\\\\u306b\\\\u5e30\\\\u9084\\\\u3057\\\\u305f\\\\u30c0\\\\u30a4\\\\u304c\\\\u4ef2\\\\u9593\\\\u305f\\\\u3061\\\\u306b\\\\u8fce\\\\u3048\\\\u3089\\\\u308c\\\\u308b\\\\u304c\\\\u3001\\\\u30ad\\\\u30eb\\\\u30d0\\\\u30fc\\\\u30f3\\\\u304c\\\\u73fe\\\\u308c\\\\u3001\\\\u81ea\\\\u3089\\\\u306e\\\\u6b63\\\\u4f53\\\\u3092\\\\u660e\\\\u304b\\\\u3059\\\\u3002\\\\u30ad\\\\u30eb\\\\u30d0\\\\u30fc\\\\u30f3\\\\u306f\\\\u30d0\\\\u30fc\\\\u30f3\\\\u306e\\\\u76e3\\\\u8996\\\\u3068\\\\u6697\\\\u6bba\\\\u3092\\\\u672c\\\\u6765\\\\u306e\\\\u76ee\\\\u7684\\\\u3068\\\\u3057\\\\u3066\\\\u3044\\\\u305f\\\\u306e\\\\u3060\\\\u3063\\\\u305f\\\\u3002\\\\u30ad\\\\u30eb\\\\u30d0\\\\u30fc\\\\u30f3\\\\u306f\\\\u30c0\\\\u30a4\\\\u4e00\\\\u884c\\\\u3092\\\\u5168\\\\u6ec5\\\\u3055\\\\u305b\\\\u308b\\\\u3079\\\\u304f\\\\u3001\\\\u96a0\\\\u3057\\\\u3066\\\\u3044\\\\u305f\\\\u9ed2\\\\u306e\\\\u6838\\\\u6676\\\\u3092\\\\u8d77\\\\u52d5\\\\u3055\\\\u305b\\\\u3066\\\\u7d76\\\\u671b\\\\u3059\\\\u308b\\\\u4e00\\\\u540c\\\\u3092\\\\u5632\\\\u7b11\\\\u3044\\\\u3001\\\\u9b54\\\\u754c\\\\u306b\\\\u9003\\\\u3052\\\\u5e30\\\\u308d\\\\u3046\\\\u3068\\\\u3059\\\\u308b\\\\u3002\\\\u30c0\\\\u30a4\\\\u3068\\\\u30dd\\\\u30c3\\\\u30d7\\\\u306f\\\\u6838\\\\u6676\\\\u3092\\\\u7a7a\\\\u9ad8\\\\u304f\\\\u904b\\\\u3093\\\\u3067\\\\u3044\\\\u304f\\\\u304c\\\\u3001\\\\u571f\\\\u58c7\\\\u5834\\\\u3067\\\\u30c0\\\\u30a4\\\\u306f\\\\u30dd\\\\u30c3\\\\u30d7\\\\u3092\\\\u5730\\\\u4e0a\\\\u306b\\\\u623b\\\\u3057\\\\u3001\\\\u4e00\\\\u4eba\\\\u7206\\\\u767a\\\\u306e\\\\u9583\\\\u5149\\\\u306e\\\\u4e2d\\\\u306b\\\\u6d88\\\\u3048\\\\u305f\\\\u3002\\\\u6570\\\\u9031\\\\u9593\\\\u306e\\\\u635c\\\\u7d22\\\\u3092\\\\u7d4c\\\\u3066\\\\u3082\\\\u306a\\\\u304a\\\\u3001\\\\u30c0\\\\u30a4\\\\u306e\\\\u59ff\\\\u306f\\\\u898b\\\\u3064\\\\u304b\\\\u3089\\\\u306a\\\\u304b\\\\u3063\\\\u305f\\\\u304c\\\\u3001\\\\u30ed\\\\u30f3\\\\u30fb\\\\u30d9\\\\u30eb\\\\u30af\\\\u306f\\\\u6301\\\\u3061\\\\u4e3b\\\\u306e\\\\u547d\\\\u3068\\\\u7e4b\\\\u304c\\\\u3063\\\\u3066\\\\u3044\\\\u308b\\\\u30c0\\\\u30a4\\\\u306e\\\\u5263\\\\u306e\\\\u3001\\\\u9b54\\\\u6cd5\\\\u5b9d\\\\u7389\\\\u304c\\\\u8f1d\\\\u304d\\\\u7d9a\\\\u3051\\\\u3066\\\\u3044\\\\u308b\\\\u3053\\\\u3068\\\\u304b\\\\u3089\\\\u3001\\\\u30c0\\\\u30a4\\\\u304c\\\\u3069\\\\u3053\\\\u304b\\\\u3067\\\\u751f\\\\u304d\\\\u3066\\\\u3044\\\\u308b\\\\u3053\\\\u3068\\\\u3092\\\\u78ba\\\\u4fe1\\\\u3057\\\\u3001\\\\u30dd\\\\u30c3\\\\u30d7\\\\u306f\\\\u3044\\\\u3064\\\\u304b\\\\u30c0\\\\u30a4\\\\u304c\\\\u623b\\\\u3063\\\\u3066\\\\u304f\\\\u308b\\\\u65e5\\\\u307e\\\\u3067\\\\u3001\\\\u4e16\\\\u754c\\\\u306e\\\\u5e73\\\\u548c\\\\u3092\\\\u81ea\\\\u5206\\\\u305f\\\\u3061\\\\u3067\\\\u5b88\\\\u308a\\\\u629c\\\\u304f\\\\u3053\\\\u3068\\\\u3092\\\\u8a93\\\\u3044\\\\u3001\\\\u518d\\\\u3073\\\\u30c0\\\\u30a4\\\\u3092\\\\u63a2\\\\u3059\\\\u65c5\\\\u306b\\\\u51fa\\\\u305f\\\\u3002\\\\n---------------------\\\\nUsing only the choices above and not prior knowledge, return the choice that is most relevant to the question: \\'\\\\u30cf\\\\u30c9\\\\u30e9\\\\u30fc\\\\u3092\\\\u5012\\\\u3057\\\\u305f\\\\u306e\\\\u306f\\\\u8ab0\\\\u304b\\\\u65e5\\\\u672c\\\\u8a9e\\\\u3067\\\\u6559\\\\u3048\\\\u3066\\'\\\\nProvide choice in the following format: \\'ANSWER: <number>\\' and explain why this summary was selected in relation to the question.\\\\n\"], \"model\": \"text-davinci-003\", \"temperature\": 0.0, \"max_tokens\": 256, \"top_p\": 1, \"frequency_penalty\": 0, \"presence_penalty\": 0, \"n\": 1, \"best_of\": 1, \"logit_bias\": {}}' message='Post details'\n"
     ]
    },
    {
     "name": "stdout",
     "output_type": "stream",
     "text": [
      "DEBUG:urllib3.connectionpool:https://api.openai.com:443 \"POST /v1/completions HTTP/1.1\" 200 720\n",
      "DEBUG:openai:message='OpenAI API response' path=https://api.openai.com/v1/completions processing_ms=3464 request_id=3b4f2ad3acfd6bc4fa63278f03f2ec10 response_code=200\n",
      "DEBUG:root:\n",
      "ANSWER: 3 \n",
      "This summary was selected because it provides the most detailed information about the character who defeated the villain, Harudora. It states that Dai, with the help of his companions and the power of the mysterious crest on his forehead, was able to overpower Harudora and restore peace to the world. It also mentions the sacrifice of Baran, who used all of his power to protect Dai and his companions from the explosion of the black core.\n",
      "DEBUG:root:>[Level 0] current prompt template: Some choices are given below. It is provided in a numbered list (1 to 3),where each item in the list corresponds to a summary.\n",
      "---------------------\n",
      "(1)  十数年前、魔王ハドラー率いる魔王軍と勇者率いる勇者パーティの戦いは、勇者パーティの勝利で終わり、魔王の配下であったモンスターも魔王の支配から解き放たれ、世界に平和が訪れた。それから十数年後、デルムリン島に住む少年ダイは、勇者になることを夢見ていた。ある日、魔王が復活したことを察するブラスに訪れた謎の人物アバンとその弟子の魔法使いポップが現れ、島を破邪呪文・マホカトールで覆い、モンスターたちを魔王の支配から救った。アバンはダイの事を聞き、その将来性を見込んで島を訪れたのである。ダイはアバンの指導を受けて、短期間のうちに秘められた力を開花させていく。15年ぶりに復活したハドラーがアバン抹殺のためデルムリン島に来襲するが、ダイは額に浮き出た謎の紋章の力でパワーアップし、ハドラーを退ける。ダイは魔王軍を倒すべく、ポップとゴメちゃんと共に旅立ち、ロモス王国とパプニカ王国を占拠した魔王軍六大軍団と戦い、勝利を収める。最後にハドラーを倒し、世界に平和を取り戻すことに成功した。\n",
      "\n",
      "(2)  ダイは人間からの視線に苦悩していたが、その前に竜騎将バランが現れ、ダイが神々が作った伝説の存在「竜の騎士」であることを告げた。バランはダイに魔王軍に加わるよう促したが、ダイは拒否した。その後、ポップがメガンテを発動して犠牲になり、ダイの記憶が蘇った。レオナは世界各国の王に協力を呼びかけ、魔王軍への決戦の準備を進める。ダイ一行も新たな力を蓄え、ハドラーは妖魔司教ザボエラの手で自らを超魔生物にさせる。ダイ一行は魔王軍の本拠地である鬼岩城を破壊したが、バーンパレスには魔宮の門によって閉ざされていた。バランはダイ一行と共闘し、ハドラーと対峙するが、黒の核晶が起動してしまい、バランはダイたちを守るために全ての力を使って爆発を押さえこみながら命を落とした。\n",
      "\n",
      "(3) ダイ一行はバーンとの直接対決において圧倒的な力の差の前に敗北し、ハドラーがバーンに反逆し、攻撃を仕掛けた隙に脱出する。バーンはバーンパレスを飛行させ、世界各地への爆撃を実行するが、フローラの協力を得て辛うじて生き延びたダイ一行は、レオナを中心に大破邪呪文・ミナカトールを発動し、バーンパレスの動きを封じ突入する。更にハドラーと親衛騎団も乱入し、激闘を繰り広げる。ダイはハドラーを倒すが、キルバーンが仕掛けた罠がダイ達を襲う。そこに駆けつけたのは、かつてフローラから託された「カールのまもり」が身代わりとなって生還し、密かに修行を続けていたアバンであった。ダイは竜の紋章の力でバーンを追い詰め、バーンはミストバーンに預けていた肉体を使って真の姿となる。ダイは竜の魔人となり、バーンも自らの魔力の源・鬼眼を解放し、鬼眼王と化す。最後の激闘はダイの勝利で終わり、地上に帰還したダイが仲間たちに迎えられるが、キルバーンが現れ、自らの正体を明かす。キルバーンはバーンの監視と暗殺を本来の目的としていたのだった。キルバーンはダイ一行を全滅させるべく、隠していた黒の核晶を起動させて絶望する一同を嘲笑い、魔界に逃げ帰ろうとする。ダイとポップは核晶を空高く運んでいくが、土壇場でダイはポップを地上に戻し、一人爆発の閃光の中に消えた。数週間の捜索を経てもなお、ダイの姿は見つからなかったが、ロン・ベルクは持ち主の命と繋がっているダイの剣の、魔法宝玉が輝き続けていることから、ダイがどこかで生きていることを確信し、ポップはいつかダイが戻ってくる日まで、世界の平和を自分たちで守り抜くことを誓い、再びダイを探す旅に出た。\n",
      "---------------------\n",
      "Using only the choices above and not prior knowledge, return the choice that is most relevant to the question: 'ハドラーを倒したのは誰か日本語で教えて'\n",
      "Provide choice in the following format: 'ANSWER: <number>' and explain why this summary was selected in relation to the question.\n",
      "\n",
      "INFO:root:>[Level 0] Selected node: [3]/[3]\n",
      "DEBUG:root:>[Level 0] Node [3] Summary text: ダイ一行はバーンとの直接対決において圧倒的な力の差の前に敗北し、ハドラーがバーンに反逆し、攻撃を仕掛けた隙に脱出する。バーンはバーンパレスを飛行させ、世界各地への爆撃を実行するが、フローラの協力...\n",
      "DEBUG:openai:message='Request to OpenAI API' method=post path=https://api.openai.com/v1/completions\n",
      "DEBUG:openai:api_version=None data='{\"prompt\": [\"Some choices are given below. It is provided in a numbered list (1 to 9),where each item in the list corresponds to a summary.\\\\n---------------------\\\\n(1) \\\\u305d\\\\u306e\\\\u5f8c\\\\u306b\\\\u73fe\\\\u308c\\\\u305f\\\\u30d0\\\\u30fc\\\\u30f3\\\\u3068\\\\u306e\\\\u76f4\\\\u63a5\\\\u5bfe\\\\u6c7a\\\\u306b\\\\u304a\\\\u3044\\\\u3066\\\\u3001\\\\u30c0\\\\u30a4\\\\u4e00\\\\u884c\\\\u306f\\\\u5727\\\\u5012\\\\u7684\\\\u306a\\\\u529b\\\\u306e\\\\u5dee\\\\u306e\\\\u524d\\\\u306b\\\\u6557\\\\u5317\\\\u3059\\\\u308b\\\\u304c\\\\u3001\\\\u6368\\\\u3066\\\\u99d2\\\\u306b\\\\u3055\\\\u308c\\\\u305f\\\\u30cf\\\\u30c9\\\\u30e9\\\\u30fc\\\\u304c\\\\u30d0\\\\u30fc\\\\u30f3\\\\u306b\\\\u53cd\\\\u9006\\\\u3057\\\\u3001\\\\u653b\\\\u6483\\\\u3092\\\\u4ed5\\\\u639b\\\\u3051\\\\u305f\\\\u9699\\\\u306b\\\\u8131\\\\u51fa\\\\u3059\\\\u308b\\\\u3002  \\\\u6700\\\\u7d42\\\\u6c7a\\\\u6226 \\\\u90aa\\\\u9b54\\\\u8005\\\\u3092\\\\u9000\\\\u3051\\\\u305f\\\\u30d0\\\\u30fc\\\\u30f3\\\\u306f\\\\u30d0\\\\u30fc\\\\u30f3\\\\u30d1\\\\u30ec\\\\u30b9\\\\u3092\\\\u98db\\\\u884c\\\\u3055\\\\u305b\\\\u3001\\\\u4e16\\\\u754c\\\\u5404\\\\u5730\\\\u3078\\\\u306e\\\\u7206\\\\u6483\\\\u3092\\\\u5b9f\\\\u884c\\\\u3059\\\\u308b\\\\n\\\\n(2) \\\\u4e00\\\\u65b9\\\\u3001\\\\u30ab\\\\u30fc\\\\u30eb\\\\u738b\\\\u56fd\\\\u5973\\\\u738b\\\\u306e\\\\u30d5\\\\u30ed\\\\u30fc\\\\u30e9\\\\u306e\\\\u5354\\\\u529b\\\\u3082\\\\u5f97\\\\u3066\\\\u8f9b\\\\u3046\\\\u3058\\\\u3066\\\\u751f\\\\u304d\\\\u5ef6\\\\u3073\\\\u305f\\\\u30c0\\\\u30a4\\\\u4e00\\\\u884c\\\\u306f\\\\u30015\\\\u4eba\\\\u76ee\\\\u306e\\\\u30a2\\\\u30d0\\\\u30f3\\\\u306e\\\\u4f7f\\\\u5f92\\\\u306b\\\\u306a\\\\u3063\\\\u305f\\\\u30ec\\\\u30aa\\\\u30ca\\\\u3092\\\\u4e2d\\\\u5fc3\\\\u306b\\\\u5927\\\\u7834\\\\u90aa\\\\u546a\\\\u6587\\\\u30fb\\\\u30df\\\\u30ca\\\\u30ab\\\\u30c8\\\\u30fc\\\\u30eb\\\\u3092\\\\u767a\\\\u52d5\\\\u3057\\\\u3001\\\\u30d0\\\\u30fc\\\\u30f3\\\\u30d1\\\\u30ec\\\\u30b9\\\\u306e\\\\u52d5\\\\u304d\\\\u3092\\\\u5c01\\\\u3058\\\\u7a81\\\\u5165\\\\u3059\\\\u308b\\\\u3002\\\\u66f4\\\\u306b\\\\u30a2\\\\u30d0\\\\u30f3\\\\u306e\\\\u4f7f\\\\u5f92\\\\u3068\\\\u306e\\\\u6c7a\\\\u7740\\\\u3092\\\\u9858\\\\u3046\\\\u30cf\\\\u30c9\\\\u30e9\\\\u30fc\\\\u3068\\\\u89aa\\\\u885b\\\\u9a0e\\\\u56e3\\\\u3082\\\\u4e71\\\\u5165\\\\u3057\\\\u3001\\\\u6fc0\\\\u95d8\\\\u3092\\\\u7e70\\\\u308a\\\\u5e83\\\\u3052\\\\u308b\\\\n\\\\n(3) \\\\u30c0\\\\u30a4\\\\u306f\\\\u30cf\\\\u30c9\\\\u30e9\\\\u30fc\\\\u3092\\\\u5012\\\\u3059\\\\u304c\\\\u3001\\\\u305d\\\\u306e\\\\u76f4\\\\u5f8c\\\\u306b\\\\u30ad\\\\u30eb\\\\u30d0\\\\u30fc\\\\u30f3\\\\u304c\\\\u4ed5\\\\u639b\\\\u3051\\\\u305f\\\\u7f60\\\\u304c\\\\u30c0\\\\u30a4\\\\u9054\\\\u3092\\\\u8972\\\\u3046\\\\u3002\\\\u305d\\\\u3053\\\\u306b\\\\u99c6\\\\u3051\\\\u3064\\\\u3051\\\\u305f\\\\u306e\\\\u306f\\\\u3001\\\\u304b\\\\u3064\\\\u3066\\\\u30d5\\\\u30ed\\\\u30fc\\\\u30e9\\\\u304b\\\\u3089\\\\u8a17\\\\u3055\\\\u308c\\\\u305f\\\\u300c\\\\u30ab\\\\u30fc\\\\u30eb\\\\u306e\\\\u307e\\\\u3082\\\\u308a\\\\u300d\\\\u304c\\\\u8eab\\\\u4ee3\\\\u308f\\\\u308a\\\\u3068\\\\u306a\\\\u3063\\\\u3066\\\\u751f\\\\u9084\\\\u3057\\\\u3001\\\\u5bc6\\\\u304b\\\\u306b\\\\u4fee\\\\u884c\\\\u3092\\\\u7d9a\\\\u3051\\\\u3066\\\\u3044\\\\u305f\\\\u30a2\\\\u30d0\\\\u30f3\\\\u3067\\\\u3042\\\\u3063\\\\u305f\\\\n\\\\n(4)   \\\\u7236\\\\u30fb\\\\u30d0\\\\u30e9\\\\u30f3\\\\u304b\\\\u3089\\\\u53d7\\\\u3051\\\\u7d99\\\\u3044\\\\u3060\\\\u7adc\\\\u306e\\\\u7d0b\\\\u7ae0\\\\u306e\\\\u529b\\\\u3067\\\\u30c0\\\\u30a4\\\\u306f\\\\u30d0\\\\u30fc\\\\u30f3\\\\u3092\\\\u8ffd\\\\u3044\\\\u8a70\\\\u3081\\\\u308b\\\\u304c\\\\u3001\\\\u30d0\\\\u30fc\\\\u30f3\\\\u306f\\\\u30df\\\\u30b9\\\\u30c8\\\\u30d0\\\\u30fc\\\\u30f3\\\\u306b\\\\u9810\\\\u3051\\\\u3066\\\\u3044\\\\u305f\\\\u8089\\\\u4f53\\\\u3092\\\\u4f7f\\\\u3063\\\\u3066\\\\u771f\\\\u306e\\\\u59ff\\\\u3068\\\\u306a\\\\u308b\\\\u3002\\\\u306a\\\\u304a\\\\u3082\\\\u5730\\\\u4e0a\\\\u6d88\\\\u6ec5\\\\u3092\\\\u306a\\\\u3055\\\\u3093\\\\u3068\\\\u3059\\\\u308b\\\\u30d0\\\\u30fc\\\\u30f3\\\\u3092\\\\u5012\\\\u3059\\\\u6700\\\\u5f8c\\\\u306e\\\\u624b\\\\u6bb5\\\\u3068\\\\u3057\\\\u3066\\\\u3001\\\\u30c0\\\\u30a4\\\\u306f\\\\u7adc\\\\u306e\\\\u9a0e\\\\u58eb\\\\u306e\\\\u6226\\\\u95d8\\\\u5f62\\\\u614b\\\\u3067\\\\u3042\\\\u308b\\\\u7adc\\\\u9b54\\\\u4eba\\\\u3068\\\\u306a\\\\u308a\\\\u3001\\\\u30d0\\\\u30fc\\\\u30f3\\\\u3082\\\\u81ea\\\\u3089\\\\u306e\\\\u9b54\\\\u529b\\\\u306e\\\\u6e90\\\\u30fb\\\\u9b3c\\\\u773c\\\\u3092\\\\u89e3\\\\u653e\\\\u3057\\\\u3001\\\\u9b3c\\\\u773c\\\\u738b\\\\u3068\\\\u5316\\\\u3059\\\\n\\\\n(5) \\\\u5236\\\\u5fa1\\\\u3092\\\\u5931\\\\u3044\\\\u5d29\\\\u58ca\\\\u3057\\\\u306a\\\\u304c\\\\u3089\\\\u6d6e\\\\u4e0a\\\\u3092\\\\u7d9a\\\\u3051\\\\u308b\\\\u30d0\\\\u30fc\\\\u30f3\\\\u30d1\\\\u30ec\\\\u30b9\\\\u3054\\\\u3068\\\\u5b87\\\\u5b99\\\\u7a7a\\\\u9593\\\\u3067\\\\u7e70\\\\u308a\\\\u5e83\\\\u3052\\\\u3089\\\\u308c\\\\u308b\\\\u4e21\\\\u8005\\\\u306e\\\\u6700\\\\u5f8c\\\\u306e\\\\u6fc0\\\\u95d8\\\\u306f\\\\u3001\\\\u30c0\\\\u30a4\\\\u306e\\\\u52dd\\\\u5229\\\\u3067\\\\u7d42\\\\u308f\\\\u308b\\\\u3002  \\\\u30a8\\\\u30d4\\\\u30ed\\\\u30fc\\\\u30b0 \\\\u5730\\\\u4e0a\\\\u306b\\\\u5e30\\\\u9084\\\\u3057\\\\u305f\\\\u30c0\\\\u30a4\\\\u304c\\\\u4ef2\\\\u9593\\\\u305f\\\\u3061\\\\u306b\\\\u8fce\\\\u3048\\\\u3089\\\\u308c\\\\u3001\\\\u7686\\\\u304c\\\\u52dd\\\\u5229\\\\u3092\\\\u559c\\\\u3073\\\\u3042\\\\u3046\\\\u4e2d\\\\u3001\\\\u30d0\\\\u30fc\\\\u30f3\\\\u30d1\\\\u30ec\\\\u30b9\\\\u306e\\\\u6226\\\\u3044\\\\u3067\\\\u30a2\\\\u30d0\\\\u30f3\\\\u306b\\\\u5012\\\\u3055\\\\u308c\\\\u305f\\\\u306f\\\\u305a\\\\u306e\\\\u30ad\\\\u30eb\\\\u30d0\\\\u30fc\\\\u30f3\\\\u304c\\\\u73fe\\\\u308c\\\\u3001\\\\u81ea\\\\u3089\\\\u306e\\\\u6b63\\\\u4f53\\\\u3092\\\\u660e\\\\u304b\\\\u3059\\\\n\\\\n(6) \\\\u30ad\\\\u30eb\\\\u30d0\\\\u30fc\\\\u30f3\\\\u306e\\\\u771f\\\\u306e\\\\u4e3b\\\\u306f\\\\u3001\\\\u9b54\\\\u754c\\\\u306b\\\\u304a\\\\u3051\\\\u308b\\\\u30d0\\\\u30fc\\\\u30f3\\\\u306e\\\\u30e9\\\\u30a4\\\\u30d0\\\\u30eb\\\\u3067\\\\u3001\\\\u30d0\\\\u30fc\\\\u30f3\\\\u306b\\\\u5148\\\\u3093\\\\u3058\\\\u3066\\\\u5730\\\\u4e0a\\\\u5f81\\\\u670d\\\\u3092\\\\u76ee\\\\u8ad6\\\\u3093\\\\u3060\\\\u3082\\\\u306e\\\\u306e\\\\u82e5\\\\u304d\\\\u65e5\\\\u306e\\\\u30d0\\\\u30e9\\\\u30f3\\\\u3068\\\\u306e\\\\u6fc0\\\\u95d8\\\\u306e\\\\u672b\\\\u306b\\\\u5c01\\\\u5370\\\\u3055\\\\u308c\\\\u305f\\\\u51a5\\\\u7adc\\\\u738b\\\\u30f4\\\\u30a7\\\\u30eb\\\\u30b6\\\\u30fc\\\\u3067\\\\u3042\\\\u308a\\\\u3001\\\\u30ad\\\\u30eb\\\\u30d0\\\\u30fc\\\\u30f3\\\\u306f\\\\u30d0\\\\u30fc\\\\u30f3\\\\u306e\\\\u76e3\\\\u8996\\\\u3068\\\\u6697\\\\u6bba\\\\u3092\\\\u672c\\\\u6765\\\\u306e\\\\u76ee\\\\u7684\\\\u3068\\\\u3057\\\\u3066\\\\u3044\\\\u305f\\\\u306e\\\\u3060\\\\u3063\\\\u305f\\\\n\\\\n(7) \\\\u30ad\\\\u30eb\\\\u30d0\\\\u30fc\\\\u30f3\\\\u306f\\\\u30d0\\\\u30fc\\\\u30f3\\\\u3092\\\\u3082\\\\u5012\\\\u3057\\\\u305f\\\\u30c0\\\\u30a4\\\\u4e00\\\\u884c\\\\u3092\\\\u5168\\\\u6ec5\\\\u3055\\\\u305b\\\\u308b\\\\u3079\\\\u304f\\\\u3001\\\\u96a0\\\\u3057\\\\u3066\\\\u3044\\\\u305f\\\\u9ed2\\\\u306e\\\\u6838\\\\u6676\\\\u3092\\\\u8d77\\\\u52d5\\\\u3055\\\\u305b\\\\u3066\\\\u7d76\\\\u671b\\\\u3059\\\\u308b\\\\u4e00\\\\u540c\\\\u3092\\\\u5632\\\\u7b11\\\\u3044\\\\u3001\\\\u9b54\\\\u754c\\\\u306b\\\\u9003\\\\u3052\\\\u5e30\\\\u308d\\\\u3046\\\\u3068\\\\u3059\\\\u308b\\\\u3002\\\\u30a2\\\\u30d0\\\\u30f3\\\\u3068\\\\u30de\\\\u30a1\\\\u30e0\\\\u304c\\\\u30ad\\\\u30eb\\\\u30d0\\\\u30fc\\\\u30f3\\\\u3092\\\\u5012\\\\u3059\\\\u3082\\\\u3001\\\\u6838\\\\u6676\\\\u306e\\\\u7206\\\\u767a\\\\u306f\\\\u3082\\\\u306f\\\\u3084\\\\u6b62\\\\u3081\\\\u3089\\\\u308c\\\\u306a\\\\u3044\\\\n\\\\n(8) \\\\u30c0\\\\u30a4\\\\u3068\\\\u30dd\\\\u30c3\\\\u30d7\\\\u306f\\\\u6838\\\\u6676\\\\u3092\\\\u7a7a\\\\u9ad8\\\\u304f\\\\u904b\\\\u3093\\\\u3067\\\\u3044\\\\u304f\\\\u304c\\\\u3001\\\\u571f\\\\u58c7\\\\u5834\\\\u3067\\\\u30c0\\\\u30a4\\\\u306f\\\\u30dd\\\\u30c3\\\\u30d7\\\\u3092\\\\u5730\\\\u4e0a\\\\u306b\\\\u623b\\\\u3057\\\\u3001\\\\u4e00\\\\u4eba\\\\u7206\\\\u767a\\\\u306e\\\\u9583\\\\u5149\\\\u306e\\\\u4e2d\\\\u306b\\\\u6d88\\\\u3048\\\\u305f\\\\u3002  \\\\u6570\\\\u9031\\\\u9593\\\\u306e\\\\u635c\\\\u7d22\\\\u3092\\\\u7d4c\\\\u3066\\\\u3082\\\\u306a\\\\u304a\\\\u3001\\\\u30c0\\\\u30a4\\\\u306e\\\\u59ff\\\\u306f\\\\u898b\\\\u3064\\\\u304b\\\\u3089\\\\u306a\\\\u304b\\\\u3063\\\\u305f\\\\u3002\\\\u3060\\\\u304c\\\\u3001\\\\u30ed\\\\u30f3\\\\u30fb\\\\u30d9\\\\u30eb\\\\u30af\\\\u306f\\\\u6301\\\\u3061\\\\u4e3b\\\\u306e\\\\u547d\\\\u3068\\\\u7e4b\\\\u304c\\\\u3063\\\\u3066\\\\u3044\\\\u308b\\\\u30c0\\\\u30a4\\\\u306e\\\\u5263\\\\u306e\\\\u3001\\\\u9b54\\\\u6cd5\\\\u5b9d\\\\u7389\\\\u304c\\\\u8f1d\\\\u304d\\\\u7d9a\\\\u3051\\\\u3066\\\\u3044\\\\u308b\\\\u3053\\\\u3068\\\\u304b\\\\u3089\\\\u3001\\\\u30c0\\\\u30a4\\\\u304c\\\\u3069\\\\u3053\\\\u304b\\\\u3067\\\\u751f\\\\u304d\\\\u3066\\\\u3044\\\\u308b\\\\u3053\\\\u3068\\\\u3092\\\\u78ba\\\\u4fe1\\\\u3059\\\\u308b\\\\n\\\\n(9) \\\\u30dd\\\\u30c3\\\\u30d7\\\\u306f\\\\u3044\\\\u3064\\\\u304b\\\\u30c0\\\\u30a4\\\\u304c\\\\u623b\\\\u3063\\\\u3066\\\\u304f\\\\u308b\\\\u65e5\\\\u307e\\\\u3067\\\\u3001\\\\u4e16\\\\u754c\\\\u306e\\\\u5e73\\\\u548c\\\\u3092\\\\u81ea\\\\u5206\\\\u305f\\\\u3061\\\\u3067\\\\u5b88\\\\u308a\\\\u629c\\\\u304f\\\\u3053\\\\u3068\\\\u3092\\\\u8a93\\\\u3044\\\\u3001\\\\u518d\\\\u3073\\\\u30c0\\\\u30a4\\\\u3092\\\\u63a2\\\\u3059\\\\u65c5\\\\u306b\\\\u51fa\\\\u305f\\\\u306e\\\\u3060\\\\u3063\\\\u305f\\\\u3002\\\\n---------------------\\\\nUsing only the choices above and not prior knowledge, return the choice that is most relevant to the question: \\'\\\\u30cf\\\\u30c9\\\\u30e9\\\\u30fc\\\\u3092\\\\u5012\\\\u3057\\\\u305f\\\\u306e\\\\u306f\\\\u8ab0\\\\u304b\\\\u65e5\\\\u672c\\\\u8a9e\\\\u3067\\\\u6559\\\\u3048\\\\u3066\\'\\\\nProvide choice in the following format: \\'ANSWER: <number>\\' and explain why this summary was selected in relation to the question.\\\\n\"], \"model\": \"text-davinci-003\", \"temperature\": 0.0, \"max_tokens\": 256, \"top_p\": 1, \"frequency_penalty\": 0, \"presence_penalty\": 0, \"n\": 1, \"best_of\": 1, \"logit_bias\": {}}' message='Post details'\n"
     ]
    },
    {
     "name": "stdout",
     "output_type": "stream",
     "text": [
      "DEBUG:urllib3.connectionpool:https://api.openai.com:443 \"POST /v1/completions HTTP/1.1\" 200 None\n",
      "DEBUG:openai:message='OpenAI API response' path=https://api.openai.com/v1/completions processing_ms=1739 request_id=1f5b22495cd8ffee68af0dd3149ee58a response_code=200\n",
      "DEBUG:root:\n",
      "ANSWER: 3\n",
      "This summary was selected because it mentions that \"ダイはハドラーを倒す\" (Daichi defeats Haldor).\n",
      "DEBUG:root:>[Level 1] current prompt template: Some choices are given below. It is provided in a numbered list (1 to 9),where each item in the list corresponds to a summary.\n",
      "---------------------\n",
      "(1) その後に現れたバーンとの直接対決において、ダイ一行は圧倒的な力の差の前に敗北するが、捨て駒にされたハドラーがバーンに反逆し、攻撃を仕掛けた隙に脱出する。  最終決戦 邪魔者を退けたバーンはバーンパレスを飛行させ、世界各地への爆撃を実行する\n",
      "\n",
      "(2) 一方、カール王国女王のフローラの協力も得て辛うじて生き延びたダイ一行は、5人目のアバンの使徒になったレオナを中心に大破邪呪文・ミナカトールを発動し、バーンパレスの動きを封じ突入する。更にアバンの使徒との決着を願うハドラーと親衛騎団も乱入し、激闘を繰り広げる\n",
      "\n",
      "(3) ダイはハドラーを倒すが、その直後にキルバーンが仕掛けた罠がダイ達を襲う。そこに駆けつけたのは、かつてフローラから託された「カールのまもり」が身代わりとなって生還し、密かに修行を続けていたアバンであった\n",
      "\n",
      "(4)   父・バランから受け継いだ竜の紋章の力でダイはバーンを追い詰めるが、バーンはミストバーンに預けていた肉体を使って真の姿となる。なおも地上消滅をなさんとするバーンを倒す最後の手段として、ダイは竜の騎士の戦闘形態である竜魔人となり、バーンも自らの魔力の源・鬼眼を解放し、鬼眼王と化す\n",
      "\n",
      "(5) 制御を失い崩壊しながら浮上を続けるバーンパレスごと宇宙空間で繰り広げられる両者の最後の激闘は、ダイの勝利で終わる。  エピローグ 地上に帰還したダイが仲間たちに迎えられ、皆が勝利を喜びあう中、バーンパレスの戦いでアバンに倒されたはずのキルバーンが現れ、自らの正体を明かす\n",
      "\n",
      "(6) キルバーンの真の主は、魔界におけるバーンのライバルで、バーンに先んじて地上征服を目論んだものの若き日のバランとの激闘の末に封印された冥竜王ヴェルザーであり、キルバーンはバーンの監視と暗殺を本来の目的としていたのだった\n",
      "\n",
      "(7) キルバーンはバーンをも倒したダイ一行を全滅させるべく、隠していた黒の核晶を起動させて絶望する一同を嘲笑い、魔界に逃げ帰ろうとする。アバンとマァムがキルバーンを倒すも、核晶の爆発はもはや止められない\n",
      "\n",
      "(8) ダイとポップは核晶を空高く運んでいくが、土壇場でダイはポップを地上に戻し、一人爆発の閃光の中に消えた。  数週間の捜索を経てもなお、ダイの姿は見つからなかった。だが、ロン・ベルクは持ち主の命と繋がっているダイの剣の、魔法宝玉が輝き続けていることから、ダイがどこかで生きていることを確信する\n",
      "\n",
      "(9) ポップはいつかダイが戻ってくる日まで、世界の平和を自分たちで守り抜くことを誓い、再びダイを探す旅に出たのだった。\n",
      "---------------------\n",
      "Using only the choices above and not prior knowledge, return the choice that is most relevant to the question: 'ハドラーを倒したのは誰か日本語で教えて'\n",
      "Provide choice in the following format: 'ANSWER: <number>' and explain why this summary was selected in relation to the question.\n",
      "\n",
      "INFO:root:>[Level 1] Selected node: [3]/[3]\n",
      "DEBUG:root:>[Level 1] Node [3] Summary text: ダイはハドラーを倒すが、その直後にキルバーンが仕掛けた罠がダイ達を襲う。そこに駆けつけたのは、かつてフローラから託された「カールのまもり」が身代わりとなって生還し、密かに修行を続けていたアバンで...\n",
      "DEBUG:root:>[Level 1] Searching in chunk: ダイはハドラーを倒すが、その直後にキルバーンが仕掛けた罠がダイ達を襲う。そこに駆けつけたのは、...\n",
      "DEBUG:openai:message='Request to OpenAI API' method=post path=https://api.openai.com/v1/completions\n",
      "DEBUG:openai:api_version=None data='{\"prompt\": [\"Context information is below. \\\\n---------------------\\\\n\\\\u30c0\\\\u30a4\\\\u306f\\\\u30cf\\\\u30c9\\\\u30e9\\\\u30fc\\\\u3092\\\\u5012\\\\u3059\\\\u304c\\\\u3001\\\\u305d\\\\u306e\\\\u76f4\\\\u5f8c\\\\u306b\\\\u30ad\\\\u30eb\\\\u30d0\\\\u30fc\\\\u30f3\\\\u304c\\\\u4ed5\\\\u639b\\\\u3051\\\\u305f\\\\u7f60\\\\u304c\\\\u30c0\\\\u30a4\\\\u9054\\\\u3092\\\\u8972\\\\u3046\\\\u3002\\\\u305d\\\\u3053\\\\u306b\\\\u99c6\\\\u3051\\\\u3064\\\\u3051\\\\u305f\\\\u306e\\\\u306f\\\\u3001\\\\u304b\\\\u3064\\\\u3066\\\\u30d5\\\\u30ed\\\\u30fc\\\\u30e9\\\\u304b\\\\u3089\\\\u8a17\\\\u3055\\\\u308c\\\\u305f\\\\u300c\\\\u30ab\\\\u30fc\\\\u30eb\\\\u306e\\\\u307e\\\\u3082\\\\u308a\\\\u300d\\\\u304c\\\\u8eab\\\\u4ee3\\\\u308f\\\\u308a\\\\u3068\\\\u306a\\\\u3063\\\\u3066\\\\u751f\\\\u9084\\\\u3057\\\\u3001\\\\u5bc6\\\\u304b\\\\u306b\\\\u4fee\\\\u884c\\\\u3092\\\\u7d9a\\\\u3051\\\\u3066\\\\u3044\\\\u305f\\\\u30a2\\\\u30d0\\\\u30f3\\\\u3067\\\\u3042\\\\u3063\\\\u305f\\\\n---------------------\\\\nGiven the context information and not prior knowledge, answer the question: \\\\u30cf\\\\u30c9\\\\u30e9\\\\u30fc\\\\u3092\\\\u5012\\\\u3057\\\\u305f\\\\u306e\\\\u306f\\\\u8ab0\\\\u304b\\\\u65e5\\\\u672c\\\\u8a9e\\\\u3067\\\\u6559\\\\u3048\\\\u3066\\\\n\"], \"model\": \"text-davinci-003\", \"temperature\": 0.0, \"max_tokens\": 256, \"top_p\": 1, \"frequency_penalty\": 0, \"presence_penalty\": 0, \"n\": 1, \"best_of\": 1, \"logit_bias\": {}}' message='Post details'\n",
      "DEBUG:urllib3.connectionpool:https://api.openai.com:443 \"POST /v1/completions HTTP/1.1\" 200 None\n",
      "DEBUG:openai:message='OpenAI API response' path=https://api.openai.com/v1/completions processing_ms=842 request_id=ba4f55d23cbbd4c1e234e5c592cee7e9 response_code=200\n",
      "DEBUG:root:\n",
      "ダイがハドラーを倒した。\n",
      "DEBUG:root:> Initial response: \n",
      "ダイがハドラーを倒した。\n",
      "DEBUG:root:>[Level 1] Current answer response: \n",
      "ダイがハドラーを倒した。 \n",
      "INFO:root:> [query] Total LLM token usage: 4024 tokens\n",
      "INFO:root:> [query] Total embedding token usage: 0 tokens\n",
      "INFO:root:> [query] Total LLM token usage: 4147 tokens\n",
      "INFO:root:> [query] Total embedding token usage: 0 tokens\n"
     ]
    }
   ],
   "source": [
    "response = graph.query(\"ハドラーを倒したのは誰か日本語で教えて\", query_configs=query_configs)"
   ]
  },
  {
   "cell_type": "code",
   "execution_count": 143,
   "id": "1bd8a970",
   "metadata": {},
   "outputs": [
    {
     "name": "stdout",
     "output_type": "stream",
     "text": [
      "INFO:root:> Starting query: ハドラーは最後どうなったのか日本語で教えて\n",
      "DEBUG:openai:message='Request to OpenAI API' method=post path=https://api.openai.com/v1/completions\n",
      "DEBUG:openai:api_version=None data='{\"prompt\": [\"A question is provided below. Given the question, extract up to 10 keywords from the text. Focus on extracting the keywords that we can use to best lookup answers to the question. Avoid stopwords.\\\\n---------------------\\\\n\\\\u30cf\\\\u30c9\\\\u30e9\\\\u30fc\\\\u306f\\\\u6700\\\\u5f8c\\\\u3069\\\\u3046\\\\u306a\\\\u3063\\\\u305f\\\\u306e\\\\u304b\\\\u65e5\\\\u672c\\\\u8a9e\\\\u3067\\\\u6559\\\\u3048\\\\u3066\\\\n---------------------\\\\nProvide keywords in the following comma-separated format: \\'KEYWORDS: <keywords>\\'\\\\n\"], \"model\": \"text-davinci-003\", \"temperature\": 0.0, \"max_tokens\": 256, \"top_p\": 1, \"frequency_penalty\": 0, \"presence_penalty\": 0, \"n\": 1, \"best_of\": 1, \"logit_bias\": {}}' message='Post details'\n",
      "DEBUG:urllib3.connectionpool:https://api.openai.com:443 \"POST /v1/completions HTTP/1.1\" 200 None\n",
      "DEBUG:openai:message='OpenAI API response' path=https://api.openai.com/v1/completions processing_ms=935 request_id=1aa74f95b9a8d81b87ec0883cea68f5d response_code=200\n",
      "DEBUG:root:\n",
      "KEYWORDS: ハドラー, 最後, 日本語, 教え\n",
      "INFO:root:query keywords: ['教え', 'ハドラー', '日本語', '最後']\n",
      "INFO:root:> Extracted keywords: ['ハドラー']\n",
      "DEBUG:root:> Querying with idx: 4545755552743438823: \n",
      "十数年前、魔王ハドラー率いる魔王軍と勇者率いる勇者パーティの戦いは、勇者パーティの勝利で終わ...\n",
      "DEBUG:root:> Searching in chunk: \n",
      "十数年前、魔王ハドラー率いる魔王軍と勇者率いる勇者パーティの戦いは、勇者パーティの勝利で終わ...\n",
      "INFO:root:> Starting query: ハドラーは最後どうなったのか日本語で教えて\n",
      "DEBUG:openai:message='Request to OpenAI API' method=post path=https://api.openai.com/v1/completions\n",
      "DEBUG:openai:api_version=None data='{\"prompt\": [\"Some choices are given below. It is provided in a numbered list (1 to 3),where each item in the list corresponds to a summary.\\\\n---------------------\\\\n(1)  \\\\u5341\\\\u6570\\\\u5e74\\\\u524d\\\\u3001\\\\u9b54\\\\u738b\\\\u30cf\\\\u30c9\\\\u30e9\\\\u30fc\\\\u7387\\\\u3044\\\\u308b\\\\u9b54\\\\u738b\\\\u8ecd\\\\u3068\\\\u52c7\\\\u8005\\\\u7387\\\\u3044\\\\u308b\\\\u52c7\\\\u8005\\\\u30d1\\\\u30fc\\\\u30c6\\\\u30a3\\\\u306e\\\\u6226\\\\u3044\\\\u306f\\\\u3001\\\\u52c7\\\\u8005\\\\u30d1\\\\u30fc\\\\u30c6\\\\u30a3\\\\u306e\\\\u52dd\\\\u5229\\\\u3067\\\\u7d42\\\\u308f\\\\u308a\\\\u3001\\\\u9b54\\\\u738b\\\\u306e\\\\u914d\\\\u4e0b\\\\u3067\\\\u3042\\\\u3063\\\\u305f\\\\u30e2\\\\u30f3\\\\u30b9\\\\u30bf\\\\u30fc\\\\u3082\\\\u9b54\\\\u738b\\\\u306e\\\\u652f\\\\u914d\\\\u304b\\\\u3089\\\\u89e3\\\\u304d\\\\u653e\\\\u305f\\\\u308c\\\\u3001\\\\u4e16\\\\u754c\\\\u306b\\\\u5e73\\\\u548c\\\\u304c\\\\u8a2a\\\\u308c\\\\u305f\\\\u3002\\\\u305d\\\\u308c\\\\u304b\\\\u3089\\\\u5341\\\\u6570\\\\u5e74\\\\u5f8c\\\\u3001\\\\u30c7\\\\u30eb\\\\u30e0\\\\u30ea\\\\u30f3\\\\u5cf6\\\\u306b\\\\u4f4f\\\\u3080\\\\u5c11\\\\u5e74\\\\u30c0\\\\u30a4\\\\u306f\\\\u3001\\\\u52c7\\\\u8005\\\\u306b\\\\u306a\\\\u308b\\\\u3053\\\\u3068\\\\u3092\\\\u5922\\\\u898b\\\\u3066\\\\u3044\\\\u305f\\\\u3002\\\\u3042\\\\u308b\\\\u65e5\\\\u3001\\\\u9b54\\\\u738b\\\\u304c\\\\u5fa9\\\\u6d3b\\\\u3057\\\\u305f\\\\u3053\\\\u3068\\\\u3092\\\\u5bdf\\\\u3059\\\\u308b\\\\u30d6\\\\u30e9\\\\u30b9\\\\u306b\\\\u8a2a\\\\u308c\\\\u305f\\\\u8b0e\\\\u306e\\\\u4eba\\\\u7269\\\\u30a2\\\\u30d0\\\\u30f3\\\\u3068\\\\u305d\\\\u306e\\\\u5f1f\\\\u5b50\\\\u306e\\\\u9b54\\\\u6cd5\\\\u4f7f\\\\u3044\\\\u30dd\\\\u30c3\\\\u30d7\\\\u304c\\\\u73fe\\\\u308c\\\\u3001\\\\u5cf6\\\\u3092\\\\u7834\\\\u90aa\\\\u546a\\\\u6587\\\\u30fb\\\\u30de\\\\u30db\\\\u30ab\\\\u30c8\\\\u30fc\\\\u30eb\\\\u3067\\\\u8986\\\\u3044\\\\u3001\\\\u30e2\\\\u30f3\\\\u30b9\\\\u30bf\\\\u30fc\\\\u305f\\\\u3061\\\\u3092\\\\u9b54\\\\u738b\\\\u306e\\\\u652f\\\\u914d\\\\u304b\\\\u3089\\\\u6551\\\\u3063\\\\u305f\\\\u3002\\\\u30a2\\\\u30d0\\\\u30f3\\\\u306f\\\\u30c0\\\\u30a4\\\\u306e\\\\u4e8b\\\\u3092\\\\u805e\\\\u304d\\\\u3001\\\\u305d\\\\u306e\\\\u5c06\\\\u6765\\\\u6027\\\\u3092\\\\u898b\\\\u8fbc\\\\u3093\\\\u3067\\\\u5cf6\\\\u3092\\\\u8a2a\\\\u308c\\\\u305f\\\\u306e\\\\u3067\\\\u3042\\\\u308b\\\\u3002\\\\u30c0\\\\u30a4\\\\u306f\\\\u30a2\\\\u30d0\\\\u30f3\\\\u306e\\\\u6307\\\\u5c0e\\\\u3092\\\\u53d7\\\\u3051\\\\u3066\\\\u3001\\\\u77ed\\\\u671f\\\\u9593\\\\u306e\\\\u3046\\\\u3061\\\\u306b\\\\u79d8\\\\u3081\\\\u3089\\\\u308c\\\\u305f\\\\u529b\\\\u3092\\\\u958b\\\\u82b1\\\\u3055\\\\u305b\\\\u3066\\\\u3044\\\\u304f\\\\u300215\\\\u5e74\\\\u3076\\\\u308a\\\\u306b\\\\u5fa9\\\\u6d3b\\\\u3057\\\\u305f\\\\u30cf\\\\u30c9\\\\u30e9\\\\u30fc\\\\u304c\\\\u30a2\\\\u30d0\\\\u30f3\\\\u62b9\\\\u6bba\\\\u306e\\\\u305f\\\\u3081\\\\u30c7\\\\u30eb\\\\u30e0\\\\u30ea\\\\u30f3\\\\u5cf6\\\\u306b\\\\u6765\\\\u8972\\\\u3059\\\\u308b\\\\u304c\\\\u3001\\\\u30c0\\\\u30a4\\\\u306f\\\\u984d\\\\u306b\\\\u6d6e\\\\u304d\\\\u51fa\\\\u305f\\\\u8b0e\\\\u306e\\\\u7d0b\\\\u7ae0\\\\u306e\\\\u529b\\\\u3067\\\\u30d1\\\\u30ef\\\\u30fc\\\\u30a2\\\\u30c3\\\\u30d7\\\\u3057\\\\u3001\\\\u30cf\\\\u30c9\\\\u30e9\\\\u30fc\\\\u3092\\\\u9000\\\\u3051\\\\u308b\\\\u3002\\\\u30c0\\\\u30a4\\\\u306f\\\\u9b54\\\\u738b\\\\u8ecd\\\\u3092\\\\u5012\\\\u3059\\\\u3079\\\\u304f\\\\u3001\\\\u30dd\\\\u30c3\\\\u30d7\\\\u3068\\\\u30b4\\\\u30e1\\\\u3061\\\\u3083\\\\u3093\\\\u3068\\\\u5171\\\\u306b\\\\u65c5\\\\u7acb\\\\u3061\\\\u3001\\\\u30ed\\\\u30e2\\\\u30b9\\\\u738b\\\\u56fd\\\\u3068\\\\u30d1\\\\u30d7\\\\u30cb\\\\u30ab\\\\u738b\\\\u56fd\\\\u3092\\\\u5360\\\\u62e0\\\\u3057\\\\u305f\\\\u9b54\\\\u738b\\\\u8ecd\\\\u516d\\\\u5927\\\\u8ecd\\\\u56e3\\\\u3068\\\\u6226\\\\u3044\\\\u3001\\\\u52dd\\\\u5229\\\\u3092\\\\u53ce\\\\u3081\\\\u308b\\\\u3002\\\\u6700\\\\u5f8c\\\\u306b\\\\u30cf\\\\u30c9\\\\u30e9\\\\u30fc\\\\u3092\\\\u5012\\\\u3057\\\\u3001\\\\u4e16\\\\u754c\\\\u306b\\\\u5e73\\\\u548c\\\\u3092\\\\u53d6\\\\u308a\\\\u623b\\\\u3059\\\\u3053\\\\u3068\\\\u306b\\\\u6210\\\\u529f\\\\u3057\\\\u305f\\\\u3002\\\\n\\\\n(2)  \\\\u30c0\\\\u30a4\\\\u306f\\\\u4eba\\\\u9593\\\\u304b\\\\u3089\\\\u306e\\\\u8996\\\\u7dda\\\\u306b\\\\u82e6\\\\u60a9\\\\u3057\\\\u3066\\\\u3044\\\\u305f\\\\u304c\\\\u3001\\\\u305d\\\\u306e\\\\u524d\\\\u306b\\\\u7adc\\\\u9a0e\\\\u5c06\\\\u30d0\\\\u30e9\\\\u30f3\\\\u304c\\\\u73fe\\\\u308c\\\\u3001\\\\u30c0\\\\u30a4\\\\u304c\\\\u795e\\\\u3005\\\\u304c\\\\u4f5c\\\\u3063\\\\u305f\\\\u4f1d\\\\u8aac\\\\u306e\\\\u5b58\\\\u5728\\\\u300c\\\\u7adc\\\\u306e\\\\u9a0e\\\\u58eb\\\\u300d\\\\u3067\\\\u3042\\\\u308b\\\\u3053\\\\u3068\\\\u3092\\\\u544a\\\\u3052\\\\u305f\\\\u3002\\\\u30d0\\\\u30e9\\\\u30f3\\\\u306f\\\\u30c0\\\\u30a4\\\\u306b\\\\u9b54\\\\u738b\\\\u8ecd\\\\u306b\\\\u52a0\\\\u308f\\\\u308b\\\\u3088\\\\u3046\\\\u4fc3\\\\u3057\\\\u305f\\\\u304c\\\\u3001\\\\u30c0\\\\u30a4\\\\u306f\\\\u62d2\\\\u5426\\\\u3057\\\\u305f\\\\u3002\\\\u305d\\\\u306e\\\\u5f8c\\\\u3001\\\\u30dd\\\\u30c3\\\\u30d7\\\\u304c\\\\u30e1\\\\u30ac\\\\u30f3\\\\u30c6\\\\u3092\\\\u767a\\\\u52d5\\\\u3057\\\\u3066\\\\u72a0\\\\u7272\\\\u306b\\\\u306a\\\\u308a\\\\u3001\\\\u30c0\\\\u30a4\\\\u306e\\\\u8a18\\\\u61b6\\\\u304c\\\\u8607\\\\u3063\\\\u305f\\\\u3002\\\\u30ec\\\\u30aa\\\\u30ca\\\\u306f\\\\u4e16\\\\u754c\\\\u5404\\\\u56fd\\\\u306e\\\\u738b\\\\u306b\\\\u5354\\\\u529b\\\\u3092\\\\u547c\\\\u3073\\\\u304b\\\\u3051\\\\u3001\\\\u9b54\\\\u738b\\\\u8ecd\\\\u3078\\\\u306e\\\\u6c7a\\\\u6226\\\\u306e\\\\u6e96\\\\u5099\\\\u3092\\\\u9032\\\\u3081\\\\u308b\\\\u3002\\\\u30c0\\\\u30a4\\\\u4e00\\\\u884c\\\\u3082\\\\u65b0\\\\u305f\\\\u306a\\\\u529b\\\\u3092\\\\u84c4\\\\u3048\\\\u3001\\\\u30cf\\\\u30c9\\\\u30e9\\\\u30fc\\\\u306f\\\\u5996\\\\u9b54\\\\u53f8\\\\u6559\\\\u30b6\\\\u30dc\\\\u30a8\\\\u30e9\\\\u306e\\\\u624b\\\\u3067\\\\u81ea\\\\u3089\\\\u3092\\\\u8d85\\\\u9b54\\\\u751f\\\\u7269\\\\u306b\\\\u3055\\\\u305b\\\\u308b\\\\u3002\\\\u30c0\\\\u30a4\\\\u4e00\\\\u884c\\\\u306f\\\\u9b54\\\\u738b\\\\u8ecd\\\\u306e\\\\u672c\\\\u62e0\\\\u5730\\\\u3067\\\\u3042\\\\u308b\\\\u9b3c\\\\u5ca9\\\\u57ce\\\\u3092\\\\u7834\\\\u58ca\\\\u3057\\\\u305f\\\\u304c\\\\u3001\\\\u30d0\\\\u30fc\\\\u30f3\\\\u30d1\\\\u30ec\\\\u30b9\\\\u306b\\\\u306f\\\\u9b54\\\\u5bae\\\\u306e\\\\u9580\\\\u306b\\\\u3088\\\\u3063\\\\u3066\\\\u9589\\\\u3056\\\\u3055\\\\u308c\\\\u3066\\\\u3044\\\\u305f\\\\u3002\\\\u30d0\\\\u30e9\\\\u30f3\\\\u306f\\\\u30c0\\\\u30a4\\\\u4e00\\\\u884c\\\\u3068\\\\u5171\\\\u95d8\\\\u3057\\\\u3001\\\\u30cf\\\\u30c9\\\\u30e9\\\\u30fc\\\\u3068\\\\u5bfe\\\\u5cd9\\\\u3059\\\\u308b\\\\u304c\\\\u3001\\\\u9ed2\\\\u306e\\\\u6838\\\\u6676\\\\u304c\\\\u8d77\\\\u52d5\\\\u3057\\\\u3066\\\\u3057\\\\u307e\\\\u3044\\\\u3001\\\\u30d0\\\\u30e9\\\\u30f3\\\\u306f\\\\u30c0\\\\u30a4\\\\u305f\\\\u3061\\\\u3092\\\\u5b88\\\\u308b\\\\u305f\\\\u3081\\\\u306b\\\\u5168\\\\u3066\\\\u306e\\\\u529b\\\\u3092\\\\u4f7f\\\\u3063\\\\u3066\\\\u7206\\\\u767a\\\\u3092\\\\u62bc\\\\u3055\\\\u3048\\\\u3053\\\\u307f\\\\u306a\\\\u304c\\\\u3089\\\\u547d\\\\u3092\\\\u843d\\\\u3068\\\\u3057\\\\u305f\\\\u3002\\\\n\\\\n(3) \\\\u30c0\\\\u30a4\\\\u4e00\\\\u884c\\\\u306f\\\\u30d0\\\\u30fc\\\\u30f3\\\\u3068\\\\u306e\\\\u76f4\\\\u63a5\\\\u5bfe\\\\u6c7a\\\\u306b\\\\u304a\\\\u3044\\\\u3066\\\\u5727\\\\u5012\\\\u7684\\\\u306a\\\\u529b\\\\u306e\\\\u5dee\\\\u306e\\\\u524d\\\\u306b\\\\u6557\\\\u5317\\\\u3057\\\\u3001\\\\u30cf\\\\u30c9\\\\u30e9\\\\u30fc\\\\u304c\\\\u30d0\\\\u30fc\\\\u30f3\\\\u306b\\\\u53cd\\\\u9006\\\\u3057\\\\u3001\\\\u653b\\\\u6483\\\\u3092\\\\u4ed5\\\\u639b\\\\u3051\\\\u305f\\\\u9699\\\\u306b\\\\u8131\\\\u51fa\\\\u3059\\\\u308b\\\\u3002\\\\u30d0\\\\u30fc\\\\u30f3\\\\u306f\\\\u30d0\\\\u30fc\\\\u30f3\\\\u30d1\\\\u30ec\\\\u30b9\\\\u3092\\\\u98db\\\\u884c\\\\u3055\\\\u305b\\\\u3001\\\\u4e16\\\\u754c\\\\u5404\\\\u5730\\\\u3078\\\\u306e\\\\u7206\\\\u6483\\\\u3092\\\\u5b9f\\\\u884c\\\\u3059\\\\u308b\\\\u304c\\\\u3001\\\\u30d5\\\\u30ed\\\\u30fc\\\\u30e9\\\\u306e\\\\u5354\\\\u529b\\\\u3092\\\\u5f97\\\\u3066\\\\u8f9b\\\\u3046\\\\u3058\\\\u3066\\\\u751f\\\\u304d\\\\u5ef6\\\\u3073\\\\u305f\\\\u30c0\\\\u30a4\\\\u4e00\\\\u884c\\\\u306f\\\\u3001\\\\u30ec\\\\u30aa\\\\u30ca\\\\u3092\\\\u4e2d\\\\u5fc3\\\\u306b\\\\u5927\\\\u7834\\\\u90aa\\\\u546a\\\\u6587\\\\u30fb\\\\u30df\\\\u30ca\\\\u30ab\\\\u30c8\\\\u30fc\\\\u30eb\\\\u3092\\\\u767a\\\\u52d5\\\\u3057\\\\u3001\\\\u30d0\\\\u30fc\\\\u30f3\\\\u30d1\\\\u30ec\\\\u30b9\\\\u306e\\\\u52d5\\\\u304d\\\\u3092\\\\u5c01\\\\u3058\\\\u7a81\\\\u5165\\\\u3059\\\\u308b\\\\u3002\\\\u66f4\\\\u306b\\\\u30cf\\\\u30c9\\\\u30e9\\\\u30fc\\\\u3068\\\\u89aa\\\\u885b\\\\u9a0e\\\\u56e3\\\\u3082\\\\u4e71\\\\u5165\\\\u3057\\\\u3001\\\\u6fc0\\\\u95d8\\\\u3092\\\\u7e70\\\\u308a\\\\u5e83\\\\u3052\\\\u308b\\\\u3002\\\\u30c0\\\\u30a4\\\\u306f\\\\u30cf\\\\u30c9\\\\u30e9\\\\u30fc\\\\u3092\\\\u5012\\\\u3059\\\\u304c\\\\u3001\\\\u30ad\\\\u30eb\\\\u30d0\\\\u30fc\\\\u30f3\\\\u304c\\\\u4ed5\\\\u639b\\\\u3051\\\\u305f\\\\u7f60\\\\u304c\\\\u30c0\\\\u30a4\\\\u9054\\\\u3092\\\\u8972\\\\u3046\\\\u3002\\\\u305d\\\\u3053\\\\u306b\\\\u99c6\\\\u3051\\\\u3064\\\\u3051\\\\u305f\\\\u306e\\\\u306f\\\\u3001\\\\u304b\\\\u3064\\\\u3066\\\\u30d5\\\\u30ed\\\\u30fc\\\\u30e9\\\\u304b\\\\u3089\\\\u8a17\\\\u3055\\\\u308c\\\\u305f\\\\u300c\\\\u30ab\\\\u30fc\\\\u30eb\\\\u306e\\\\u307e\\\\u3082\\\\u308a\\\\u300d\\\\u304c\\\\u8eab\\\\u4ee3\\\\u308f\\\\u308a\\\\u3068\\\\u306a\\\\u3063\\\\u3066\\\\u751f\\\\u9084\\\\u3057\\\\u3001\\\\u5bc6\\\\u304b\\\\u306b\\\\u4fee\\\\u884c\\\\u3092\\\\u7d9a\\\\u3051\\\\u3066\\\\u3044\\\\u305f\\\\u30a2\\\\u30d0\\\\u30f3\\\\u3067\\\\u3042\\\\u3063\\\\u305f\\\\u3002\\\\u30c0\\\\u30a4\\\\u306f\\\\u7adc\\\\u306e\\\\u7d0b\\\\u7ae0\\\\u306e\\\\u529b\\\\u3067\\\\u30d0\\\\u30fc\\\\u30f3\\\\u3092\\\\u8ffd\\\\u3044\\\\u8a70\\\\u3081\\\\u3001\\\\u30d0\\\\u30fc\\\\u30f3\\\\u306f\\\\u30df\\\\u30b9\\\\u30c8\\\\u30d0\\\\u30fc\\\\u30f3\\\\u306b\\\\u9810\\\\u3051\\\\u3066\\\\u3044\\\\u305f\\\\u8089\\\\u4f53\\\\u3092\\\\u4f7f\\\\u3063\\\\u3066\\\\u771f\\\\u306e\\\\u59ff\\\\u3068\\\\u306a\\\\u308b\\\\u3002\\\\u30c0\\\\u30a4\\\\u306f\\\\u7adc\\\\u306e\\\\u9b54\\\\u4eba\\\\u3068\\\\u306a\\\\u308a\\\\u3001\\\\u30d0\\\\u30fc\\\\u30f3\\\\u3082\\\\u81ea\\\\u3089\\\\u306e\\\\u9b54\\\\u529b\\\\u306e\\\\u6e90\\\\u30fb\\\\u9b3c\\\\u773c\\\\u3092\\\\u89e3\\\\u653e\\\\u3057\\\\u3001\\\\u9b3c\\\\u773c\\\\u738b\\\\u3068\\\\u5316\\\\u3059\\\\u3002\\\\u6700\\\\u5f8c\\\\u306e\\\\u6fc0\\\\u95d8\\\\u306f\\\\u30c0\\\\u30a4\\\\u306e\\\\u52dd\\\\u5229\\\\u3067\\\\u7d42\\\\u308f\\\\u308a\\\\u3001\\\\u5730\\\\u4e0a\\\\u306b\\\\u5e30\\\\u9084\\\\u3057\\\\u305f\\\\u30c0\\\\u30a4\\\\u304c\\\\u4ef2\\\\u9593\\\\u305f\\\\u3061\\\\u306b\\\\u8fce\\\\u3048\\\\u3089\\\\u308c\\\\u308b\\\\u304c\\\\u3001\\\\u30ad\\\\u30eb\\\\u30d0\\\\u30fc\\\\u30f3\\\\u304c\\\\u73fe\\\\u308c\\\\u3001\\\\u81ea\\\\u3089\\\\u306e\\\\u6b63\\\\u4f53\\\\u3092\\\\u660e\\\\u304b\\\\u3059\\\\u3002\\\\u30ad\\\\u30eb\\\\u30d0\\\\u30fc\\\\u30f3\\\\u306f\\\\u30d0\\\\u30fc\\\\u30f3\\\\u306e\\\\u76e3\\\\u8996\\\\u3068\\\\u6697\\\\u6bba\\\\u3092\\\\u672c\\\\u6765\\\\u306e\\\\u76ee\\\\u7684\\\\u3068\\\\u3057\\\\u3066\\\\u3044\\\\u305f\\\\u306e\\\\u3060\\\\u3063\\\\u305f\\\\u3002\\\\u30ad\\\\u30eb\\\\u30d0\\\\u30fc\\\\u30f3\\\\u306f\\\\u30c0\\\\u30a4\\\\u4e00\\\\u884c\\\\u3092\\\\u5168\\\\u6ec5\\\\u3055\\\\u305b\\\\u308b\\\\u3079\\\\u304f\\\\u3001\\\\u96a0\\\\u3057\\\\u3066\\\\u3044\\\\u305f\\\\u9ed2\\\\u306e\\\\u6838\\\\u6676\\\\u3092\\\\u8d77\\\\u52d5\\\\u3055\\\\u305b\\\\u3066\\\\u7d76\\\\u671b\\\\u3059\\\\u308b\\\\u4e00\\\\u540c\\\\u3092\\\\u5632\\\\u7b11\\\\u3044\\\\u3001\\\\u9b54\\\\u754c\\\\u306b\\\\u9003\\\\u3052\\\\u5e30\\\\u308d\\\\u3046\\\\u3068\\\\u3059\\\\u308b\\\\u3002\\\\u30c0\\\\u30a4\\\\u3068\\\\u30dd\\\\u30c3\\\\u30d7\\\\u306f\\\\u6838\\\\u6676\\\\u3092\\\\u7a7a\\\\u9ad8\\\\u304f\\\\u904b\\\\u3093\\\\u3067\\\\u3044\\\\u304f\\\\u304c\\\\u3001\\\\u571f\\\\u58c7\\\\u5834\\\\u3067\\\\u30c0\\\\u30a4\\\\u306f\\\\u30dd\\\\u30c3\\\\u30d7\\\\u3092\\\\u5730\\\\u4e0a\\\\u306b\\\\u623b\\\\u3057\\\\u3001\\\\u4e00\\\\u4eba\\\\u7206\\\\u767a\\\\u306e\\\\u9583\\\\u5149\\\\u306e\\\\u4e2d\\\\u306b\\\\u6d88\\\\u3048\\\\u305f\\\\u3002\\\\u6570\\\\u9031\\\\u9593\\\\u306e\\\\u635c\\\\u7d22\\\\u3092\\\\u7d4c\\\\u3066\\\\u3082\\\\u306a\\\\u304a\\\\u3001\\\\u30c0\\\\u30a4\\\\u306e\\\\u59ff\\\\u306f\\\\u898b\\\\u3064\\\\u304b\\\\u3089\\\\u306a\\\\u304b\\\\u3063\\\\u305f\\\\u304c\\\\u3001\\\\u30ed\\\\u30f3\\\\u30fb\\\\u30d9\\\\u30eb\\\\u30af\\\\u306f\\\\u6301\\\\u3061\\\\u4e3b\\\\u306e\\\\u547d\\\\u3068\\\\u7e4b\\\\u304c\\\\u3063\\\\u3066\\\\u3044\\\\u308b\\\\u30c0\\\\u30a4\\\\u306e\\\\u5263\\\\u306e\\\\u3001\\\\u9b54\\\\u6cd5\\\\u5b9d\\\\u7389\\\\u304c\\\\u8f1d\\\\u304d\\\\u7d9a\\\\u3051\\\\u3066\\\\u3044\\\\u308b\\\\u3053\\\\u3068\\\\u304b\\\\u3089\\\\u3001\\\\u30c0\\\\u30a4\\\\u304c\\\\u3069\\\\u3053\\\\u304b\\\\u3067\\\\u751f\\\\u304d\\\\u3066\\\\u3044\\\\u308b\\\\u3053\\\\u3068\\\\u3092\\\\u78ba\\\\u4fe1\\\\u3057\\\\u3001\\\\u30dd\\\\u30c3\\\\u30d7\\\\u306f\\\\u3044\\\\u3064\\\\u304b\\\\u30c0\\\\u30a4\\\\u304c\\\\u623b\\\\u3063\\\\u3066\\\\u304f\\\\u308b\\\\u65e5\\\\u307e\\\\u3067\\\\u3001\\\\u4e16\\\\u754c\\\\u306e\\\\u5e73\\\\u548c\\\\u3092\\\\u81ea\\\\u5206\\\\u305f\\\\u3061\\\\u3067\\\\u5b88\\\\u308a\\\\u629c\\\\u304f\\\\u3053\\\\u3068\\\\u3092\\\\u8a93\\\\u3044\\\\u3001\\\\u518d\\\\u3073\\\\u30c0\\\\u30a4\\\\u3092\\\\u63a2\\\\u3059\\\\u65c5\\\\u306b\\\\u51fa\\\\u305f\\\\u3002\\\\n---------------------\\\\nUsing only the choices above and not prior knowledge, return the choice that is most relevant to the question: \\'\\\\u30cf\\\\u30c9\\\\u30e9\\\\u30fc\\\\u306f\\\\u6700\\\\u5f8c\\\\u3069\\\\u3046\\\\u306a\\\\u3063\\\\u305f\\\\u306e\\\\u304b\\\\u65e5\\\\u672c\\\\u8a9e\\\\u3067\\\\u6559\\\\u3048\\\\u3066\\'\\\\nProvide choice in the following format: \\'ANSWER: <number>\\' and explain why this summary was selected in relation to the question.\\\\n\"], \"model\": \"text-davinci-003\", \"temperature\": 0.0, \"max_tokens\": 256, \"top_p\": 1, \"frequency_penalty\": 0, \"presence_penalty\": 0, \"n\": 1, \"best_of\": 1, \"logit_bias\": {}}' message='Post details'\n"
     ]
    },
    {
     "name": "stdout",
     "output_type": "stream",
     "text": [
      "DEBUG:urllib3.connectionpool:https://api.openai.com:443 \"POST /v1/completions HTTP/1.1\" 200 671\n",
      "DEBUG:openai:message='OpenAI API response' path=https://api.openai.com/v1/completions processing_ms=3665 request_id=d8dfe644cc64172c88870997aba366bc response_code=200\n",
      "DEBUG:root:\n",
      "ANSWER: 3 \n",
      "This summary was selected because it provides the most detailed information about the fate of the character, Lord Hades. It explains how he was defeated by the protagonist, Dai, and how he attempted to escape to the Demon Realm. It also explains how Dai sacrificed himself to save his friends, and how his sword, with its magical gem, continued to shine, indicating that Dai was still alive.\n",
      "DEBUG:root:>[Level 0] current prompt template: Some choices are given below. It is provided in a numbered list (1 to 3),where each item in the list corresponds to a summary.\n",
      "---------------------\n",
      "(1)  十数年前、魔王ハドラー率いる魔王軍と勇者率いる勇者パーティの戦いは、勇者パーティの勝利で終わり、魔王の配下であったモンスターも魔王の支配から解き放たれ、世界に平和が訪れた。それから十数年後、デルムリン島に住む少年ダイは、勇者になることを夢見ていた。ある日、魔王が復活したことを察するブラスに訪れた謎の人物アバンとその弟子の魔法使いポップが現れ、島を破邪呪文・マホカトールで覆い、モンスターたちを魔王の支配から救った。アバンはダイの事を聞き、その将来性を見込んで島を訪れたのである。ダイはアバンの指導を受けて、短期間のうちに秘められた力を開花させていく。15年ぶりに復活したハドラーがアバン抹殺のためデルムリン島に来襲するが、ダイは額に浮き出た謎の紋章の力でパワーアップし、ハドラーを退ける。ダイは魔王軍を倒すべく、ポップとゴメちゃんと共に旅立ち、ロモス王国とパプニカ王国を占拠した魔王軍六大軍団と戦い、勝利を収める。最後にハドラーを倒し、世界に平和を取り戻すことに成功した。\n",
      "\n",
      "(2)  ダイは人間からの視線に苦悩していたが、その前に竜騎将バランが現れ、ダイが神々が作った伝説の存在「竜の騎士」であることを告げた。バランはダイに魔王軍に加わるよう促したが、ダイは拒否した。その後、ポップがメガンテを発動して犠牲になり、ダイの記憶が蘇った。レオナは世界各国の王に協力を呼びかけ、魔王軍への決戦の準備を進める。ダイ一行も新たな力を蓄え、ハドラーは妖魔司教ザボエラの手で自らを超魔生物にさせる。ダイ一行は魔王軍の本拠地である鬼岩城を破壊したが、バーンパレスには魔宮の門によって閉ざされていた。バランはダイ一行と共闘し、ハドラーと対峙するが、黒の核晶が起動してしまい、バランはダイたちを守るために全ての力を使って爆発を押さえこみながら命を落とした。\n",
      "\n",
      "(3) ダイ一行はバーンとの直接対決において圧倒的な力の差の前に敗北し、ハドラーがバーンに反逆し、攻撃を仕掛けた隙に脱出する。バーンはバーンパレスを飛行させ、世界各地への爆撃を実行するが、フローラの協力を得て辛うじて生き延びたダイ一行は、レオナを中心に大破邪呪文・ミナカトールを発動し、バーンパレスの動きを封じ突入する。更にハドラーと親衛騎団も乱入し、激闘を繰り広げる。ダイはハドラーを倒すが、キルバーンが仕掛けた罠がダイ達を襲う。そこに駆けつけたのは、かつてフローラから託された「カールのまもり」が身代わりとなって生還し、密かに修行を続けていたアバンであった。ダイは竜の紋章の力でバーンを追い詰め、バーンはミストバーンに預けていた肉体を使って真の姿となる。ダイは竜の魔人となり、バーンも自らの魔力の源・鬼眼を解放し、鬼眼王と化す。最後の激闘はダイの勝利で終わり、地上に帰還したダイが仲間たちに迎えられるが、キルバーンが現れ、自らの正体を明かす。キルバーンはバーンの監視と暗殺を本来の目的としていたのだった。キルバーンはダイ一行を全滅させるべく、隠していた黒の核晶を起動させて絶望する一同を嘲笑い、魔界に逃げ帰ろうとする。ダイとポップは核晶を空高く運んでいくが、土壇場でダイはポップを地上に戻し、一人爆発の閃光の中に消えた。数週間の捜索を経てもなお、ダイの姿は見つからなかったが、ロン・ベルクは持ち主の命と繋がっているダイの剣の、魔法宝玉が輝き続けていることから、ダイがどこかで生きていることを確信し、ポップはいつかダイが戻ってくる日まで、世界の平和を自分たちで守り抜くことを誓い、再びダイを探す旅に出た。\n",
      "---------------------\n",
      "Using only the choices above and not prior knowledge, return the choice that is most relevant to the question: 'ハドラーは最後どうなったのか日本語で教えて'\n",
      "Provide choice in the following format: 'ANSWER: <number>' and explain why this summary was selected in relation to the question.\n",
      "\n",
      "INFO:root:>[Level 0] Selected node: [3]/[3]\n",
      "DEBUG:root:>[Level 0] Node [3] Summary text: ダイ一行はバーンとの直接対決において圧倒的な力の差の前に敗北し、ハドラーがバーンに反逆し、攻撃を仕掛けた隙に脱出する。バーンはバーンパレスを飛行させ、世界各地への爆撃を実行するが、フローラの協力...\n",
      "DEBUG:openai:message='Request to OpenAI API' method=post path=https://api.openai.com/v1/completions\n",
      "DEBUG:openai:api_version=None data='{\"prompt\": [\"Some choices are given below. It is provided in a numbered list (1 to 9),where each item in the list corresponds to a summary.\\\\n---------------------\\\\n(1) \\\\u305d\\\\u306e\\\\u5f8c\\\\u306b\\\\u73fe\\\\u308c\\\\u305f\\\\u30d0\\\\u30fc\\\\u30f3\\\\u3068\\\\u306e\\\\u76f4\\\\u63a5\\\\u5bfe\\\\u6c7a\\\\u306b\\\\u304a\\\\u3044\\\\u3066\\\\u3001\\\\u30c0\\\\u30a4\\\\u4e00\\\\u884c\\\\u306f\\\\u5727\\\\u5012\\\\u7684\\\\u306a\\\\u529b\\\\u306e\\\\u5dee\\\\u306e\\\\u524d\\\\u306b\\\\u6557\\\\u5317\\\\u3059\\\\u308b\\\\u304c\\\\u3001\\\\u6368\\\\u3066\\\\u99d2\\\\u306b\\\\u3055\\\\u308c\\\\u305f\\\\u30cf\\\\u30c9\\\\u30e9\\\\u30fc\\\\u304c\\\\u30d0\\\\u30fc\\\\u30f3\\\\u306b\\\\u53cd\\\\u9006\\\\u3057\\\\u3001\\\\u653b\\\\u6483\\\\u3092\\\\u4ed5\\\\u639b\\\\u3051\\\\u305f\\\\u9699\\\\u306b\\\\u8131\\\\u51fa\\\\u3059\\\\u308b\\\\u3002  \\\\u6700\\\\u7d42\\\\u6c7a\\\\u6226 \\\\u90aa\\\\u9b54\\\\u8005\\\\u3092\\\\u9000\\\\u3051\\\\u305f\\\\u30d0\\\\u30fc\\\\u30f3\\\\u306f\\\\u30d0\\\\u30fc\\\\u30f3\\\\u30d1\\\\u30ec\\\\u30b9\\\\u3092\\\\u98db\\\\u884c\\\\u3055\\\\u305b\\\\u3001\\\\u4e16\\\\u754c\\\\u5404\\\\u5730\\\\u3078\\\\u306e\\\\u7206\\\\u6483\\\\u3092\\\\u5b9f\\\\u884c\\\\u3059\\\\u308b\\\\n\\\\n(2) \\\\u4e00\\\\u65b9\\\\u3001\\\\u30ab\\\\u30fc\\\\u30eb\\\\u738b\\\\u56fd\\\\u5973\\\\u738b\\\\u306e\\\\u30d5\\\\u30ed\\\\u30fc\\\\u30e9\\\\u306e\\\\u5354\\\\u529b\\\\u3082\\\\u5f97\\\\u3066\\\\u8f9b\\\\u3046\\\\u3058\\\\u3066\\\\u751f\\\\u304d\\\\u5ef6\\\\u3073\\\\u305f\\\\u30c0\\\\u30a4\\\\u4e00\\\\u884c\\\\u306f\\\\u30015\\\\u4eba\\\\u76ee\\\\u306e\\\\u30a2\\\\u30d0\\\\u30f3\\\\u306e\\\\u4f7f\\\\u5f92\\\\u306b\\\\u306a\\\\u3063\\\\u305f\\\\u30ec\\\\u30aa\\\\u30ca\\\\u3092\\\\u4e2d\\\\u5fc3\\\\u306b\\\\u5927\\\\u7834\\\\u90aa\\\\u546a\\\\u6587\\\\u30fb\\\\u30df\\\\u30ca\\\\u30ab\\\\u30c8\\\\u30fc\\\\u30eb\\\\u3092\\\\u767a\\\\u52d5\\\\u3057\\\\u3001\\\\u30d0\\\\u30fc\\\\u30f3\\\\u30d1\\\\u30ec\\\\u30b9\\\\u306e\\\\u52d5\\\\u304d\\\\u3092\\\\u5c01\\\\u3058\\\\u7a81\\\\u5165\\\\u3059\\\\u308b\\\\u3002\\\\u66f4\\\\u306b\\\\u30a2\\\\u30d0\\\\u30f3\\\\u306e\\\\u4f7f\\\\u5f92\\\\u3068\\\\u306e\\\\u6c7a\\\\u7740\\\\u3092\\\\u9858\\\\u3046\\\\u30cf\\\\u30c9\\\\u30e9\\\\u30fc\\\\u3068\\\\u89aa\\\\u885b\\\\u9a0e\\\\u56e3\\\\u3082\\\\u4e71\\\\u5165\\\\u3057\\\\u3001\\\\u6fc0\\\\u95d8\\\\u3092\\\\u7e70\\\\u308a\\\\u5e83\\\\u3052\\\\u308b\\\\n\\\\n(3) \\\\u30c0\\\\u30a4\\\\u306f\\\\u30cf\\\\u30c9\\\\u30e9\\\\u30fc\\\\u3092\\\\u5012\\\\u3059\\\\u304c\\\\u3001\\\\u305d\\\\u306e\\\\u76f4\\\\u5f8c\\\\u306b\\\\u30ad\\\\u30eb\\\\u30d0\\\\u30fc\\\\u30f3\\\\u304c\\\\u4ed5\\\\u639b\\\\u3051\\\\u305f\\\\u7f60\\\\u304c\\\\u30c0\\\\u30a4\\\\u9054\\\\u3092\\\\u8972\\\\u3046\\\\u3002\\\\u305d\\\\u3053\\\\u306b\\\\u99c6\\\\u3051\\\\u3064\\\\u3051\\\\u305f\\\\u306e\\\\u306f\\\\u3001\\\\u304b\\\\u3064\\\\u3066\\\\u30d5\\\\u30ed\\\\u30fc\\\\u30e9\\\\u304b\\\\u3089\\\\u8a17\\\\u3055\\\\u308c\\\\u305f\\\\u300c\\\\u30ab\\\\u30fc\\\\u30eb\\\\u306e\\\\u307e\\\\u3082\\\\u308a\\\\u300d\\\\u304c\\\\u8eab\\\\u4ee3\\\\u308f\\\\u308a\\\\u3068\\\\u306a\\\\u3063\\\\u3066\\\\u751f\\\\u9084\\\\u3057\\\\u3001\\\\u5bc6\\\\u304b\\\\u306b\\\\u4fee\\\\u884c\\\\u3092\\\\u7d9a\\\\u3051\\\\u3066\\\\u3044\\\\u305f\\\\u30a2\\\\u30d0\\\\u30f3\\\\u3067\\\\u3042\\\\u3063\\\\u305f\\\\n\\\\n(4)   \\\\u7236\\\\u30fb\\\\u30d0\\\\u30e9\\\\u30f3\\\\u304b\\\\u3089\\\\u53d7\\\\u3051\\\\u7d99\\\\u3044\\\\u3060\\\\u7adc\\\\u306e\\\\u7d0b\\\\u7ae0\\\\u306e\\\\u529b\\\\u3067\\\\u30c0\\\\u30a4\\\\u306f\\\\u30d0\\\\u30fc\\\\u30f3\\\\u3092\\\\u8ffd\\\\u3044\\\\u8a70\\\\u3081\\\\u308b\\\\u304c\\\\u3001\\\\u30d0\\\\u30fc\\\\u30f3\\\\u306f\\\\u30df\\\\u30b9\\\\u30c8\\\\u30d0\\\\u30fc\\\\u30f3\\\\u306b\\\\u9810\\\\u3051\\\\u3066\\\\u3044\\\\u305f\\\\u8089\\\\u4f53\\\\u3092\\\\u4f7f\\\\u3063\\\\u3066\\\\u771f\\\\u306e\\\\u59ff\\\\u3068\\\\u306a\\\\u308b\\\\u3002\\\\u306a\\\\u304a\\\\u3082\\\\u5730\\\\u4e0a\\\\u6d88\\\\u6ec5\\\\u3092\\\\u306a\\\\u3055\\\\u3093\\\\u3068\\\\u3059\\\\u308b\\\\u30d0\\\\u30fc\\\\u30f3\\\\u3092\\\\u5012\\\\u3059\\\\u6700\\\\u5f8c\\\\u306e\\\\u624b\\\\u6bb5\\\\u3068\\\\u3057\\\\u3066\\\\u3001\\\\u30c0\\\\u30a4\\\\u306f\\\\u7adc\\\\u306e\\\\u9a0e\\\\u58eb\\\\u306e\\\\u6226\\\\u95d8\\\\u5f62\\\\u614b\\\\u3067\\\\u3042\\\\u308b\\\\u7adc\\\\u9b54\\\\u4eba\\\\u3068\\\\u306a\\\\u308a\\\\u3001\\\\u30d0\\\\u30fc\\\\u30f3\\\\u3082\\\\u81ea\\\\u3089\\\\u306e\\\\u9b54\\\\u529b\\\\u306e\\\\u6e90\\\\u30fb\\\\u9b3c\\\\u773c\\\\u3092\\\\u89e3\\\\u653e\\\\u3057\\\\u3001\\\\u9b3c\\\\u773c\\\\u738b\\\\u3068\\\\u5316\\\\u3059\\\\n\\\\n(5) \\\\u5236\\\\u5fa1\\\\u3092\\\\u5931\\\\u3044\\\\u5d29\\\\u58ca\\\\u3057\\\\u306a\\\\u304c\\\\u3089\\\\u6d6e\\\\u4e0a\\\\u3092\\\\u7d9a\\\\u3051\\\\u308b\\\\u30d0\\\\u30fc\\\\u30f3\\\\u30d1\\\\u30ec\\\\u30b9\\\\u3054\\\\u3068\\\\u5b87\\\\u5b99\\\\u7a7a\\\\u9593\\\\u3067\\\\u7e70\\\\u308a\\\\u5e83\\\\u3052\\\\u3089\\\\u308c\\\\u308b\\\\u4e21\\\\u8005\\\\u306e\\\\u6700\\\\u5f8c\\\\u306e\\\\u6fc0\\\\u95d8\\\\u306f\\\\u3001\\\\u30c0\\\\u30a4\\\\u306e\\\\u52dd\\\\u5229\\\\u3067\\\\u7d42\\\\u308f\\\\u308b\\\\u3002  \\\\u30a8\\\\u30d4\\\\u30ed\\\\u30fc\\\\u30b0 \\\\u5730\\\\u4e0a\\\\u306b\\\\u5e30\\\\u9084\\\\u3057\\\\u305f\\\\u30c0\\\\u30a4\\\\u304c\\\\u4ef2\\\\u9593\\\\u305f\\\\u3061\\\\u306b\\\\u8fce\\\\u3048\\\\u3089\\\\u308c\\\\u3001\\\\u7686\\\\u304c\\\\u52dd\\\\u5229\\\\u3092\\\\u559c\\\\u3073\\\\u3042\\\\u3046\\\\u4e2d\\\\u3001\\\\u30d0\\\\u30fc\\\\u30f3\\\\u30d1\\\\u30ec\\\\u30b9\\\\u306e\\\\u6226\\\\u3044\\\\u3067\\\\u30a2\\\\u30d0\\\\u30f3\\\\u306b\\\\u5012\\\\u3055\\\\u308c\\\\u305f\\\\u306f\\\\u305a\\\\u306e\\\\u30ad\\\\u30eb\\\\u30d0\\\\u30fc\\\\u30f3\\\\u304c\\\\u73fe\\\\u308c\\\\u3001\\\\u81ea\\\\u3089\\\\u306e\\\\u6b63\\\\u4f53\\\\u3092\\\\u660e\\\\u304b\\\\u3059\\\\n\\\\n(6) \\\\u30ad\\\\u30eb\\\\u30d0\\\\u30fc\\\\u30f3\\\\u306e\\\\u771f\\\\u306e\\\\u4e3b\\\\u306f\\\\u3001\\\\u9b54\\\\u754c\\\\u306b\\\\u304a\\\\u3051\\\\u308b\\\\u30d0\\\\u30fc\\\\u30f3\\\\u306e\\\\u30e9\\\\u30a4\\\\u30d0\\\\u30eb\\\\u3067\\\\u3001\\\\u30d0\\\\u30fc\\\\u30f3\\\\u306b\\\\u5148\\\\u3093\\\\u3058\\\\u3066\\\\u5730\\\\u4e0a\\\\u5f81\\\\u670d\\\\u3092\\\\u76ee\\\\u8ad6\\\\u3093\\\\u3060\\\\u3082\\\\u306e\\\\u306e\\\\u82e5\\\\u304d\\\\u65e5\\\\u306e\\\\u30d0\\\\u30e9\\\\u30f3\\\\u3068\\\\u306e\\\\u6fc0\\\\u95d8\\\\u306e\\\\u672b\\\\u306b\\\\u5c01\\\\u5370\\\\u3055\\\\u308c\\\\u305f\\\\u51a5\\\\u7adc\\\\u738b\\\\u30f4\\\\u30a7\\\\u30eb\\\\u30b6\\\\u30fc\\\\u3067\\\\u3042\\\\u308a\\\\u3001\\\\u30ad\\\\u30eb\\\\u30d0\\\\u30fc\\\\u30f3\\\\u306f\\\\u30d0\\\\u30fc\\\\u30f3\\\\u306e\\\\u76e3\\\\u8996\\\\u3068\\\\u6697\\\\u6bba\\\\u3092\\\\u672c\\\\u6765\\\\u306e\\\\u76ee\\\\u7684\\\\u3068\\\\u3057\\\\u3066\\\\u3044\\\\u305f\\\\u306e\\\\u3060\\\\u3063\\\\u305f\\\\n\\\\n(7) \\\\u30ad\\\\u30eb\\\\u30d0\\\\u30fc\\\\u30f3\\\\u306f\\\\u30d0\\\\u30fc\\\\u30f3\\\\u3092\\\\u3082\\\\u5012\\\\u3057\\\\u305f\\\\u30c0\\\\u30a4\\\\u4e00\\\\u884c\\\\u3092\\\\u5168\\\\u6ec5\\\\u3055\\\\u305b\\\\u308b\\\\u3079\\\\u304f\\\\u3001\\\\u96a0\\\\u3057\\\\u3066\\\\u3044\\\\u305f\\\\u9ed2\\\\u306e\\\\u6838\\\\u6676\\\\u3092\\\\u8d77\\\\u52d5\\\\u3055\\\\u305b\\\\u3066\\\\u7d76\\\\u671b\\\\u3059\\\\u308b\\\\u4e00\\\\u540c\\\\u3092\\\\u5632\\\\u7b11\\\\u3044\\\\u3001\\\\u9b54\\\\u754c\\\\u306b\\\\u9003\\\\u3052\\\\u5e30\\\\u308d\\\\u3046\\\\u3068\\\\u3059\\\\u308b\\\\u3002\\\\u30a2\\\\u30d0\\\\u30f3\\\\u3068\\\\u30de\\\\u30a1\\\\u30e0\\\\u304c\\\\u30ad\\\\u30eb\\\\u30d0\\\\u30fc\\\\u30f3\\\\u3092\\\\u5012\\\\u3059\\\\u3082\\\\u3001\\\\u6838\\\\u6676\\\\u306e\\\\u7206\\\\u767a\\\\u306f\\\\u3082\\\\u306f\\\\u3084\\\\u6b62\\\\u3081\\\\u3089\\\\u308c\\\\u306a\\\\u3044\\\\n\\\\n(8) \\\\u30c0\\\\u30a4\\\\u3068\\\\u30dd\\\\u30c3\\\\u30d7\\\\u306f\\\\u6838\\\\u6676\\\\u3092\\\\u7a7a\\\\u9ad8\\\\u304f\\\\u904b\\\\u3093\\\\u3067\\\\u3044\\\\u304f\\\\u304c\\\\u3001\\\\u571f\\\\u58c7\\\\u5834\\\\u3067\\\\u30c0\\\\u30a4\\\\u306f\\\\u30dd\\\\u30c3\\\\u30d7\\\\u3092\\\\u5730\\\\u4e0a\\\\u306b\\\\u623b\\\\u3057\\\\u3001\\\\u4e00\\\\u4eba\\\\u7206\\\\u767a\\\\u306e\\\\u9583\\\\u5149\\\\u306e\\\\u4e2d\\\\u306b\\\\u6d88\\\\u3048\\\\u305f\\\\u3002  \\\\u6570\\\\u9031\\\\u9593\\\\u306e\\\\u635c\\\\u7d22\\\\u3092\\\\u7d4c\\\\u3066\\\\u3082\\\\u306a\\\\u304a\\\\u3001\\\\u30c0\\\\u30a4\\\\u306e\\\\u59ff\\\\u306f\\\\u898b\\\\u3064\\\\u304b\\\\u3089\\\\u306a\\\\u304b\\\\u3063\\\\u305f\\\\u3002\\\\u3060\\\\u304c\\\\u3001\\\\u30ed\\\\u30f3\\\\u30fb\\\\u30d9\\\\u30eb\\\\u30af\\\\u306f\\\\u6301\\\\u3061\\\\u4e3b\\\\u306e\\\\u547d\\\\u3068\\\\u7e4b\\\\u304c\\\\u3063\\\\u3066\\\\u3044\\\\u308b\\\\u30c0\\\\u30a4\\\\u306e\\\\u5263\\\\u306e\\\\u3001\\\\u9b54\\\\u6cd5\\\\u5b9d\\\\u7389\\\\u304c\\\\u8f1d\\\\u304d\\\\u7d9a\\\\u3051\\\\u3066\\\\u3044\\\\u308b\\\\u3053\\\\u3068\\\\u304b\\\\u3089\\\\u3001\\\\u30c0\\\\u30a4\\\\u304c\\\\u3069\\\\u3053\\\\u304b\\\\u3067\\\\u751f\\\\u304d\\\\u3066\\\\u3044\\\\u308b\\\\u3053\\\\u3068\\\\u3092\\\\u78ba\\\\u4fe1\\\\u3059\\\\u308b\\\\n\\\\n(9) \\\\u30dd\\\\u30c3\\\\u30d7\\\\u306f\\\\u3044\\\\u3064\\\\u304b\\\\u30c0\\\\u30a4\\\\u304c\\\\u623b\\\\u3063\\\\u3066\\\\u304f\\\\u308b\\\\u65e5\\\\u307e\\\\u3067\\\\u3001\\\\u4e16\\\\u754c\\\\u306e\\\\u5e73\\\\u548c\\\\u3092\\\\u81ea\\\\u5206\\\\u305f\\\\u3061\\\\u3067\\\\u5b88\\\\u308a\\\\u629c\\\\u304f\\\\u3053\\\\u3068\\\\u3092\\\\u8a93\\\\u3044\\\\u3001\\\\u518d\\\\u3073\\\\u30c0\\\\u30a4\\\\u3092\\\\u63a2\\\\u3059\\\\u65c5\\\\u306b\\\\u51fa\\\\u305f\\\\u306e\\\\u3060\\\\u3063\\\\u305f\\\\u3002\\\\n---------------------\\\\nUsing only the choices above and not prior knowledge, return the choice that is most relevant to the question: \\'\\\\u30cf\\\\u30c9\\\\u30e9\\\\u30fc\\\\u306f\\\\u6700\\\\u5f8c\\\\u3069\\\\u3046\\\\u306a\\\\u3063\\\\u305f\\\\u306e\\\\u304b\\\\u65e5\\\\u672c\\\\u8a9e\\\\u3067\\\\u6559\\\\u3048\\\\u3066\\'\\\\nProvide choice in the following format: \\'ANSWER: <number>\\' and explain why this summary was selected in relation to the question.\\\\n\"], \"model\": \"text-davinci-003\", \"temperature\": 0.0, \"max_tokens\": 256, \"top_p\": 1, \"frequency_penalty\": 0, \"presence_penalty\": 0, \"n\": 1, \"best_of\": 1, \"logit_bias\": {}}' message='Post details'\n"
     ]
    },
    {
     "name": "stdout",
     "output_type": "stream",
     "text": [
      "DEBUG:urllib3.connectionpool:https://api.openai.com:443 \"POST /v1/completions HTTP/1.1\" 200 587\n",
      "DEBUG:openai:message='OpenAI API response' path=https://api.openai.com/v1/completions processing_ms=2906 request_id=f8d5a1f1befccd3b968e3024cb0b6fa0 response_code=200\n",
      "DEBUG:root:\n",
      "ANSWER: 2\n",
      "This summary was selected because it mentions that Handlar joined the fight against Burn and attempted to settle the conflict with the Apostles of Avan. It also mentions that Handlar was part of the group that infiltrated Burn Palace, which is relevant to the question of what happened to Handlar in the end.\n",
      "DEBUG:root:>[Level 1] current prompt template: Some choices are given below. It is provided in a numbered list (1 to 9),where each item in the list corresponds to a summary.\n",
      "---------------------\n",
      "(1) その後に現れたバーンとの直接対決において、ダイ一行は圧倒的な力の差の前に敗北するが、捨て駒にされたハドラーがバーンに反逆し、攻撃を仕掛けた隙に脱出する。  最終決戦 邪魔者を退けたバーンはバーンパレスを飛行させ、世界各地への爆撃を実行する\n",
      "\n",
      "(2) 一方、カール王国女王のフローラの協力も得て辛うじて生き延びたダイ一行は、5人目のアバンの使徒になったレオナを中心に大破邪呪文・ミナカトールを発動し、バーンパレスの動きを封じ突入する。更にアバンの使徒との決着を願うハドラーと親衛騎団も乱入し、激闘を繰り広げる\n",
      "\n",
      "(3) ダイはハドラーを倒すが、その直後にキルバーンが仕掛けた罠がダイ達を襲う。そこに駆けつけたのは、かつてフローラから託された「カールのまもり」が身代わりとなって生還し、密かに修行を続けていたアバンであった\n",
      "\n",
      "(4)   父・バランから受け継いだ竜の紋章の力でダイはバーンを追い詰めるが、バーンはミストバーンに預けていた肉体を使って真の姿となる。なおも地上消滅をなさんとするバーンを倒す最後の手段として、ダイは竜の騎士の戦闘形態である竜魔人となり、バーンも自らの魔力の源・鬼眼を解放し、鬼眼王と化す\n",
      "\n",
      "(5) 制御を失い崩壊しながら浮上を続けるバーンパレスごと宇宙空間で繰り広げられる両者の最後の激闘は、ダイの勝利で終わる。  エピローグ 地上に帰還したダイが仲間たちに迎えられ、皆が勝利を喜びあう中、バーンパレスの戦いでアバンに倒されたはずのキルバーンが現れ、自らの正体を明かす\n",
      "\n",
      "(6) キルバーンの真の主は、魔界におけるバーンのライバルで、バーンに先んじて地上征服を目論んだものの若き日のバランとの激闘の末に封印された冥竜王ヴェルザーであり、キルバーンはバーンの監視と暗殺を本来の目的としていたのだった\n",
      "\n",
      "(7) キルバーンはバーンをも倒したダイ一行を全滅させるべく、隠していた黒の核晶を起動させて絶望する一同を嘲笑い、魔界に逃げ帰ろうとする。アバンとマァムがキルバーンを倒すも、核晶の爆発はもはや止められない\n",
      "\n",
      "(8) ダイとポップは核晶を空高く運んでいくが、土壇場でダイはポップを地上に戻し、一人爆発の閃光の中に消えた。  数週間の捜索を経てもなお、ダイの姿は見つからなかった。だが、ロン・ベルクは持ち主の命と繋がっているダイの剣の、魔法宝玉が輝き続けていることから、ダイがどこかで生きていることを確信する\n",
      "\n",
      "(9) ポップはいつかダイが戻ってくる日まで、世界の平和を自分たちで守り抜くことを誓い、再びダイを探す旅に出たのだった。\n",
      "---------------------\n",
      "Using only the choices above and not prior knowledge, return the choice that is most relevant to the question: 'ハドラーは最後どうなったのか日本語で教えて'\n",
      "Provide choice in the following format: 'ANSWER: <number>' and explain why this summary was selected in relation to the question.\n",
      "\n",
      "INFO:root:>[Level 1] Selected node: [2]/[2]\n",
      "DEBUG:root:>[Level 1] Node [2] Summary text: 一方、カール王国女王のフローラの協力も得て辛うじて生き延びたダイ一行は、5人目のアバンの使徒になったレオナを中心に大破邪呪文・ミナカトールを発動し、バーンパレスの動きを封じ突入する。更にアバンの...\n",
      "DEBUG:root:>[Level 1] Searching in chunk: 一方、カール王国女王のフローラの協力も得て辛うじて生き延びたダイ一行は、5人目のアバンの使徒に...\n",
      "DEBUG:openai:message='Request to OpenAI API' method=post path=https://api.openai.com/v1/completions\n",
      "DEBUG:openai:api_version=None data='{\"prompt\": [\"Context information is below. \\\\n---------------------\\\\n\\\\u4e00\\\\u65b9\\\\u3001\\\\u30ab\\\\u30fc\\\\u30eb\\\\u738b\\\\u56fd\\\\u5973\\\\u738b\\\\u306e\\\\u30d5\\\\u30ed\\\\u30fc\\\\u30e9\\\\u306e\\\\u5354\\\\u529b\\\\u3082\\\\u5f97\\\\u3066\\\\u8f9b\\\\u3046\\\\u3058\\\\u3066\\\\u751f\\\\u304d\\\\u5ef6\\\\u3073\\\\u305f\\\\u30c0\\\\u30a4\\\\u4e00\\\\u884c\\\\u306f\\\\u30015\\\\u4eba\\\\u76ee\\\\u306e\\\\u30a2\\\\u30d0\\\\u30f3\\\\u306e\\\\u4f7f\\\\u5f92\\\\u306b\\\\u306a\\\\u3063\\\\u305f\\\\u30ec\\\\u30aa\\\\u30ca\\\\u3092\\\\u4e2d\\\\u5fc3\\\\u306b\\\\u5927\\\\u7834\\\\u90aa\\\\u546a\\\\u6587\\\\u30fb\\\\u30df\\\\u30ca\\\\u30ab\\\\u30c8\\\\u30fc\\\\u30eb\\\\u3092\\\\u767a\\\\u52d5\\\\u3057\\\\u3001\\\\u30d0\\\\u30fc\\\\u30f3\\\\u30d1\\\\u30ec\\\\u30b9\\\\u306e\\\\u52d5\\\\u304d\\\\u3092\\\\u5c01\\\\u3058\\\\u7a81\\\\u5165\\\\u3059\\\\u308b\\\\u3002\\\\u66f4\\\\u306b\\\\u30a2\\\\u30d0\\\\u30f3\\\\u306e\\\\u4f7f\\\\u5f92\\\\u3068\\\\u306e\\\\u6c7a\\\\u7740\\\\u3092\\\\u9858\\\\u3046\\\\u30cf\\\\u30c9\\\\u30e9\\\\u30fc\\\\u3068\\\\u89aa\\\\u885b\\\\u9a0e\\\\u56e3\\\\u3082\\\\u4e71\\\\u5165\\\\u3057\\\\u3001\\\\u6fc0\\\\u95d8\\\\u3092\\\\u7e70\\\\u308a\\\\u5e83\\\\u3052\\\\u308b\\\\n---------------------\\\\nGiven the context information and not prior knowledge, answer the question: \\\\u30cf\\\\u30c9\\\\u30e9\\\\u30fc\\\\u306f\\\\u6700\\\\u5f8c\\\\u3069\\\\u3046\\\\u306a\\\\u3063\\\\u305f\\\\u306e\\\\u304b\\\\u65e5\\\\u672c\\\\u8a9e\\\\u3067\\\\u6559\\\\u3048\\\\u3066\\\\n\"], \"model\": \"text-davinci-003\", \"temperature\": 0.0, \"max_tokens\": 256, \"top_p\": 1, \"frequency_penalty\": 0, \"presence_penalty\": 0, \"n\": 1, \"best_of\": 1, \"logit_bias\": {}}' message='Post details'\n",
      "DEBUG:urllib3.connectionpool:https://api.openai.com:443 \"POST /v1/completions HTTP/1.1\" 200 None\n",
      "DEBUG:openai:message='OpenAI API response' path=https://api.openai.com/v1/completions processing_ms=1513 request_id=399005525f35c495ce99f4edd62ea673 response_code=200\n",
      "DEBUG:root:\n",
      "ハドラーは、ミナカトールを発動したレオナと決着をつけることができました。\n",
      "DEBUG:root:> Initial response: \n",
      "ハドラーは、ミナカトールを発動したレオナと決着をつけることができました。\n",
      "DEBUG:root:>[Level 1] Current answer response: \n",
      "ハドラーは、ミナカトールを発動したレオナと決着をつけることができました。 \n",
      "INFO:root:> [query] Total LLM token usage: 4122 tokens\n",
      "INFO:root:> [query] Total embedding token usage: 0 tokens\n",
      "INFO:root:> [query] Total LLM token usage: 4249 tokens\n",
      "INFO:root:> [query] Total embedding token usage: 0 tokens\n"
     ]
    }
   ],
   "source": [
    "response = graph.query(\"ハドラーは最後どうなったのか日本語で教えて\", query_configs=query_configs)"
   ]
  },
  {
   "cell_type": "code",
   "execution_count": 135,
   "id": "7d6141c8",
   "metadata": {},
   "outputs": [
    {
     "data": {
      "text/plain": [
       "'> Source (Doc id: 38f1d4b1-3314-4635-a146-82951b12f846): \\n十数年前、魔王ハドラー率いる魔王軍と勇者率いる勇者パーティの戦いは、勇者パーティの勝利で終わり、魔王の配下であったモンスターも魔王の支配から解き放たれ、世界に平和が訪れた。それから十数年後、デ...\\n\\n> Source (Doc id: 4c0af764-8c18-4260-9cf1-6ec986556b97): 一方、カール王国女王のフローラの協力も得て辛うじて生き延びたダイ一行は、5人目のアバンの使徒になったレオナを中心に大破邪呪文・ミナカトールを発動し、バーンパレスの動きを封じ突入する。更にアバンの...'"
      ]
     },
     "execution_count": 135,
     "metadata": {},
     "output_type": "execute_result"
    }
   ],
   "source": [
    "response.get_formatted_sources()"
   ]
  },
  {
   "cell_type": "code",
   "execution_count": 148,
   "id": "72cc22e5",
   "metadata": {},
   "outputs": [
    {
     "ename": "TypeError",
     "evalue": "BaseGPTIndexQuery.__init__() got an unexpected keyword argument 'child_branch_factor'",
     "output_type": "error",
     "traceback": [
      "\u001b[0;31m---------------------------------------------------------------------------\u001b[0m",
      "\u001b[0;31mTypeError\u001b[0m                                 Traceback (most recent call last)",
      "Cell \u001b[0;32mIn[148], line 1\u001b[0m\n\u001b[0;32m----> 1\u001b[0m response \u001b[38;5;241m=\u001b[39m \u001b[43mgraph\u001b[49m\u001b[38;5;241;43m.\u001b[39;49m\u001b[43mquery\u001b[49m\u001b[43m(\u001b[49m\u001b[38;5;124;43m\"\u001b[39;49m\u001b[38;5;124;43mハドラーは最後どうなったのか日本語で教えて\u001b[39;49m\u001b[38;5;124;43m\"\u001b[39;49m\u001b[43m,\u001b[49m\u001b[43mquery_configs\u001b[49m\u001b[38;5;241;43m=\u001b[39;49m\u001b[43mquery_configs\u001b[49m\u001b[43m)\u001b[49m\n",
      "File \u001b[0;32m~/opt/anaconda3/envs/openai/lib/python3.11/site-packages/llama_index/composability/graph.py:131\u001b[0m, in \u001b[0;36mComposableGraph.query\u001b[0;34m(self, query_str, query_configs, llm_predictor)\u001b[0m\n\u001b[1;32m    121\u001b[0m llm_predictor \u001b[38;5;241m=\u001b[39m llm_predictor \u001b[38;5;129;01mor\u001b[39;00m \u001b[38;5;28mself\u001b[39m\u001b[38;5;241m.\u001b[39m_llm_predictor\n\u001b[1;32m    122\u001b[0m query_runner \u001b[38;5;241m=\u001b[39m QueryRunner(\n\u001b[1;32m    123\u001b[0m     llm_predictor,\n\u001b[1;32m    124\u001b[0m     \u001b[38;5;28mself\u001b[39m\u001b[38;5;241m.\u001b[39m_prompt_helper,\n\u001b[0;32m   (...)\u001b[0m\n\u001b[1;32m    129\u001b[0m     recursive\u001b[38;5;241m=\u001b[39m\u001b[38;5;28;01mTrue\u001b[39;00m,\n\u001b[1;32m    130\u001b[0m )\n\u001b[0;32m--> 131\u001b[0m \u001b[38;5;28;01mreturn\u001b[39;00m \u001b[43mquery_runner\u001b[49m\u001b[38;5;241;43m.\u001b[39;49m\u001b[43mquery\u001b[49m\u001b[43m(\u001b[49m\u001b[43mquery_str\u001b[49m\u001b[43m,\u001b[49m\u001b[43m \u001b[49m\u001b[38;5;28;43mself\u001b[39;49m\u001b[38;5;241;43m.\u001b[39;49m\u001b[43m_index_struct\u001b[49m\u001b[43m)\u001b[49m\n",
      "File \u001b[0;32m~/opt/anaconda3/envs/openai/lib/python3.11/site-packages/llama_index/indices/query/query_runner.py:111\u001b[0m, in \u001b[0;36mQueryRunner.query\u001b[0;34m(self, query_str_or_bundle, index_struct)\u001b[0m\n\u001b[1;32m    109\u001b[0m query_runner \u001b[38;5;241m=\u001b[39m \u001b[38;5;28mself\u001b[39m\n\u001b[1;32m    110\u001b[0m query_kwargs \u001b[38;5;241m=\u001b[39m \u001b[38;5;28mself\u001b[39m\u001b[38;5;241m.\u001b[39m_get_query_kwargs(config)\n\u001b[0;32m--> 111\u001b[0m query_obj \u001b[38;5;241m=\u001b[39m \u001b[43mquery_cls\u001b[49m\u001b[43m(\u001b[49m\n\u001b[1;32m    112\u001b[0m \u001b[43m    \u001b[49m\u001b[43mindex_struct\u001b[49m\u001b[43m,\u001b[49m\n\u001b[1;32m    113\u001b[0m \u001b[43m    \u001b[49m\u001b[38;5;241;43m*\u001b[39;49m\u001b[38;5;241;43m*\u001b[39;49m\u001b[43mquery_kwargs\u001b[49m\u001b[43m,\u001b[49m\n\u001b[1;32m    114\u001b[0m \u001b[43m    \u001b[49m\u001b[43mquery_runner\u001b[49m\u001b[38;5;241;43m=\u001b[39;49m\u001b[43mquery_runner\u001b[49m\u001b[43m,\u001b[49m\n\u001b[1;32m    115\u001b[0m \u001b[43m    \u001b[49m\u001b[43mdocstore\u001b[49m\u001b[38;5;241;43m=\u001b[39;49m\u001b[38;5;28;43mself\u001b[39;49m\u001b[38;5;241;43m.\u001b[39;49m\u001b[43m_docstore\u001b[49m\u001b[43m,\u001b[49m\n\u001b[1;32m    116\u001b[0m \u001b[43m    \u001b[49m\u001b[43mrecursive\u001b[49m\u001b[38;5;241;43m=\u001b[39;49m\u001b[38;5;28;43mself\u001b[39;49m\u001b[38;5;241;43m.\u001b[39;49m\u001b[43m_recursive\u001b[49m\u001b[43m,\u001b[49m\n\u001b[1;32m    117\u001b[0m \u001b[43m    \u001b[49m\u001b[43muse_async\u001b[49m\u001b[38;5;241;43m=\u001b[39;49m\u001b[38;5;28;43mself\u001b[39;49m\u001b[38;5;241;43m.\u001b[39;49m\u001b[43m_use_async\u001b[49m\u001b[43m,\u001b[49m\n\u001b[1;32m    118\u001b[0m \u001b[43m\u001b[49m\u001b[43m)\u001b[49m\n\u001b[1;32m    120\u001b[0m \u001b[38;5;28;01mreturn\u001b[39;00m query_obj\u001b[38;5;241m.\u001b[39mquery(query_bundle)\n",
      "File \u001b[0;32m~/opt/anaconda3/envs/openai/lib/python3.11/site-packages/llama_index/indices/query/keyword_table/query.py:57\u001b[0m, in \u001b[0;36mBaseGPTKeywordTableQuery.__init__\u001b[0;34m(self, index_struct, keyword_extract_template, query_keyword_extract_template, max_keywords_per_query, num_chunks_per_query, **kwargs)\u001b[0m\n\u001b[1;32m     47\u001b[0m \u001b[38;5;28;01mdef\u001b[39;00m \u001b[38;5;21m__init__\u001b[39m(\n\u001b[1;32m     48\u001b[0m     \u001b[38;5;28mself\u001b[39m,\n\u001b[1;32m     49\u001b[0m     index_struct: KeywordTable,\n\u001b[0;32m   (...)\u001b[0m\n\u001b[1;32m     54\u001b[0m     \u001b[38;5;241m*\u001b[39m\u001b[38;5;241m*\u001b[39mkwargs: Any,\n\u001b[1;32m     55\u001b[0m ) \u001b[38;5;241m-\u001b[39m\u001b[38;5;241m>\u001b[39m \u001b[38;5;28;01mNone\u001b[39;00m:\n\u001b[1;32m     56\u001b[0m \u001b[38;5;250m    \u001b[39m\u001b[38;5;124;03m\"\"\"Initialize params.\"\"\"\u001b[39;00m\n\u001b[0;32m---> 57\u001b[0m     \u001b[38;5;28;43msuper\u001b[39;49m\u001b[43m(\u001b[49m\u001b[43m)\u001b[49m\u001b[38;5;241;43m.\u001b[39;49m\u001b[38;5;21;43m__init__\u001b[39;49m\u001b[43m(\u001b[49m\u001b[43mindex_struct\u001b[49m\u001b[38;5;241;43m=\u001b[39;49m\u001b[43mindex_struct\u001b[49m\u001b[43m,\u001b[49m\u001b[43m \u001b[49m\u001b[38;5;241;43m*\u001b[39;49m\u001b[38;5;241;43m*\u001b[39;49m\u001b[43mkwargs\u001b[49m\u001b[43m)\u001b[49m\n\u001b[1;32m     58\u001b[0m     \u001b[38;5;28mself\u001b[39m\u001b[38;5;241m.\u001b[39mmax_keywords_per_query \u001b[38;5;241m=\u001b[39m max_keywords_per_query\n\u001b[1;32m     59\u001b[0m     \u001b[38;5;28mself\u001b[39m\u001b[38;5;241m.\u001b[39mnum_chunks_per_query \u001b[38;5;241m=\u001b[39m num_chunks_per_query\n",
      "\u001b[0;31mTypeError\u001b[0m: BaseGPTIndexQuery.__init__() got an unexpected keyword argument 'child_branch_factor'"
     ]
    }
   ],
   "source": [
    "response = graph.query(\"ハドラーは最後どうなったのか日本語で教えて\",query_configs=query_configs)"
   ]
  },
  {
   "cell_type": "code",
   "execution_count": 131,
   "id": "5764632d",
   "metadata": {},
   "outputs": [
    {
     "name": "stdout",
     "output_type": "stream",
     "text": [
      "INFO:root:> Starting query: ハドラーは最後どうなったのか日本語で教えて\n",
      "DEBUG:openai:message='Request to OpenAI API' method=post path=https://api.openai.com/v1/completions\n",
      "DEBUG:openai:api_version=None data='{\"prompt\": [\"A question is provided below. Given the question, extract up to 10 keywords from the text. Focus on extracting the keywords that we can use to best lookup answers to the question. Avoid stopwords.\\\\n---------------------\\\\n\\\\u30cf\\\\u30c9\\\\u30e9\\\\u30fc\\\\u306f\\\\u6700\\\\u5f8c\\\\u3069\\\\u3046\\\\u306a\\\\u3063\\\\u305f\\\\u306e\\\\u304b\\\\u65e5\\\\u672c\\\\u8a9e\\\\u3067\\\\u6559\\\\u3048\\\\u3066\\\\n---------------------\\\\nProvide keywords in the following comma-separated format: \\'KEYWORDS: <keywords>\\'\\\\n\"], \"model\": \"text-davinci-003\", \"temperature\": 0.0, \"max_tokens\": 256, \"top_p\": 1, \"frequency_penalty\": 0, \"presence_penalty\": 0, \"n\": 1, \"best_of\": 1, \"logit_bias\": {}}' message='Post details'\n",
      "DEBUG:urllib3.connectionpool:https://api.openai.com:443 \"POST /v1/completions HTTP/1.1\" 200 None\n",
      "DEBUG:openai:message='OpenAI API response' path=https://api.openai.com/v1/completions processing_ms=1046 request_id=c9955d5abd8efee4af4a8d36dea96584 response_code=200\n",
      "DEBUG:root:\n",
      "KEYWORDS: ハドラー, 最後, 日本語, 教え\n",
      "INFO:root:query keywords: ['教え', 'ハドラー', '日本語', '最後']\n",
      "INFO:root:> Extracted keywords: ['ハドラー']\n",
      "DEBUG:root:> Querying with idx: 4545755552743438823: \n",
      "十数年前、魔王ハドラー率いる魔王軍と勇者率いる勇者パーティの戦いは、勇者パーティの勝利で終わ...\n",
      "DEBUG:root:> Searching in chunk: \n",
      "十数年前、魔王ハドラー率いる魔王軍と勇者率いる勇者パーティの戦いは、勇者パーティの勝利で終わ...\n",
      "INFO:root:> Starting query: ハドラーは最後どうなったのか日本語で教えて\n",
      "DEBUG:openai:message='Request to OpenAI API' method=post path=https://api.openai.com/v1/completions\n",
      "DEBUG:openai:api_version=None data='{\"prompt\": [\"Some choices are given below. It is provided in a numbered list (1 to 3),where each item in the list corresponds to a summary.\\\\n---------------------\\\\n(1)  \\\\u5341\\\\u6570\\\\u5e74\\\\u524d\\\\u3001\\\\u9b54\\\\u738b\\\\u30cf\\\\u30c9\\\\u30e9\\\\u30fc\\\\u7387\\\\u3044\\\\u308b\\\\u9b54\\\\u738b\\\\u8ecd\\\\u3068\\\\u52c7\\\\u8005\\\\u7387\\\\u3044\\\\u308b\\\\u52c7\\\\u8005\\\\u30d1\\\\u30fc\\\\u30c6\\\\u30a3\\\\u306e\\\\u6226\\\\u3044\\\\u306f\\\\u3001\\\\u52c7\\\\u8005\\\\u30d1\\\\u30fc\\\\u30c6\\\\u30a3\\\\u306e\\\\u52dd\\\\u5229\\\\u3067\\\\u7d42\\\\u308f\\\\u308a\\\\u3001\\\\u9b54\\\\u738b\\\\u306e\\\\u914d\\\\u4e0b\\\\u3067\\\\u3042\\\\u3063\\\\u305f\\\\u30e2\\\\u30f3\\\\u30b9\\\\u30bf\\\\u30fc\\\\u3082\\\\u9b54\\\\u738b\\\\u306e\\\\u652f\\\\u914d\\\\u304b\\\\u3089\\\\u89e3\\\\u304d\\\\u653e\\\\u305f\\\\u308c\\\\u3001\\\\u4e16\\\\u754c\\\\u306b\\\\u5e73\\\\u548c\\\\u304c\\\\u8a2a\\\\u308c\\\\u305f\\\\u3002\\\\u305d\\\\u308c\\\\u304b\\\\u3089\\\\u5341\\\\u6570\\\\u5e74\\\\u5f8c\\\\u3001\\\\u30c7\\\\u30eb\\\\u30e0\\\\u30ea\\\\u30f3\\\\u5cf6\\\\u306b\\\\u4f4f\\\\u3080\\\\u5c11\\\\u5e74\\\\u30c0\\\\u30a4\\\\u306f\\\\u3001\\\\u52c7\\\\u8005\\\\u306b\\\\u306a\\\\u308b\\\\u3053\\\\u3068\\\\u3092\\\\u5922\\\\u898b\\\\u3066\\\\u3044\\\\u305f\\\\u3002\\\\u3042\\\\u308b\\\\u65e5\\\\u3001\\\\u9b54\\\\u738b\\\\u304c\\\\u5fa9\\\\u6d3b\\\\u3057\\\\u305f\\\\u3053\\\\u3068\\\\u3092\\\\u5bdf\\\\u3059\\\\u308b\\\\u30d6\\\\u30e9\\\\u30b9\\\\u306b\\\\u8a2a\\\\u308c\\\\u305f\\\\u8b0e\\\\u306e\\\\u4eba\\\\u7269\\\\u30a2\\\\u30d0\\\\u30f3\\\\u3068\\\\u305d\\\\u306e\\\\u5f1f\\\\u5b50\\\\u306e\\\\u9b54\\\\u6cd5\\\\u4f7f\\\\u3044\\\\u30dd\\\\u30c3\\\\u30d7\\\\u304c\\\\u73fe\\\\u308c\\\\u3001\\\\u5cf6\\\\u3092\\\\u7834\\\\u90aa\\\\u546a\\\\u6587\\\\u30fb\\\\u30de\\\\u30db\\\\u30ab\\\\u30c8\\\\u30fc\\\\u30eb\\\\u3067\\\\u8986\\\\u3044\\\\u3001\\\\u30e2\\\\u30f3\\\\u30b9\\\\u30bf\\\\u30fc\\\\u305f\\\\u3061\\\\u3092\\\\u9b54\\\\u738b\\\\u306e\\\\u652f\\\\u914d\\\\u304b\\\\u3089\\\\u6551\\\\u3063\\\\u305f\\\\u3002\\\\u30a2\\\\u30d0\\\\u30f3\\\\u306f\\\\u30c0\\\\u30a4\\\\u306e\\\\u4e8b\\\\u3092\\\\u805e\\\\u304d\\\\u3001\\\\u305d\\\\u306e\\\\u5c06\\\\u6765\\\\u6027\\\\u3092\\\\u898b\\\\u8fbc\\\\u3093\\\\u3067\\\\u5cf6\\\\u3092\\\\u8a2a\\\\u308c\\\\u305f\\\\u306e\\\\u3067\\\\u3042\\\\u308b\\\\u3002\\\\u30c0\\\\u30a4\\\\u306f\\\\u30a2\\\\u30d0\\\\u30f3\\\\u306e\\\\u6307\\\\u5c0e\\\\u3092\\\\u53d7\\\\u3051\\\\u3066\\\\u3001\\\\u77ed\\\\u671f\\\\u9593\\\\u306e\\\\u3046\\\\u3061\\\\u306b\\\\u79d8\\\\u3081\\\\u3089\\\\u308c\\\\u305f\\\\u529b\\\\u3092\\\\u958b\\\\u82b1\\\\u3055\\\\u305b\\\\u3066\\\\u3044\\\\u304f\\\\u300215\\\\u5e74\\\\u3076\\\\u308a\\\\u306b\\\\u5fa9\\\\u6d3b\\\\u3057\\\\u305f\\\\u30cf\\\\u30c9\\\\u30e9\\\\u30fc\\\\u304c\\\\u30a2\\\\u30d0\\\\u30f3\\\\u62b9\\\\u6bba\\\\u306e\\\\u305f\\\\u3081\\\\u30c7\\\\u30eb\\\\u30e0\\\\u30ea\\\\u30f3\\\\u5cf6\\\\u306b\\\\u6765\\\\u8972\\\\u3059\\\\u308b\\\\u304c\\\\u3001\\\\u30c0\\\\u30a4\\\\u306f\\\\u984d\\\\u306b\\\\u6d6e\\\\u304d\\\\u51fa\\\\u305f\\\\u8b0e\\\\u306e\\\\u7d0b\\\\u7ae0\\\\u306e\\\\u529b\\\\u3067\\\\u30d1\\\\u30ef\\\\u30fc\\\\u30a2\\\\u30c3\\\\u30d7\\\\u3057\\\\u3001\\\\u30cf\\\\u30c9\\\\u30e9\\\\u30fc\\\\u3092\\\\u9000\\\\u3051\\\\u308b\\\\u3002\\\\u30c0\\\\u30a4\\\\u306f\\\\u9b54\\\\u738b\\\\u8ecd\\\\u3092\\\\u5012\\\\u3059\\\\u3079\\\\u304f\\\\u3001\\\\u30dd\\\\u30c3\\\\u30d7\\\\u3068\\\\u30b4\\\\u30e1\\\\u3061\\\\u3083\\\\u3093\\\\u3068\\\\u5171\\\\u306b\\\\u65c5\\\\u7acb\\\\u3061\\\\u3001\\\\u30ed\\\\u30e2\\\\u30b9\\\\u738b\\\\u56fd\\\\u3068\\\\u30d1\\\\u30d7\\\\u30cb\\\\u30ab\\\\u738b\\\\u56fd\\\\u3092\\\\u5360\\\\u62e0\\\\u3057\\\\u305f\\\\u9b54\\\\u738b\\\\u8ecd\\\\u516d\\\\u5927\\\\u8ecd\\\\u56e3\\\\u3068\\\\u6226\\\\u3044\\\\u3001\\\\u52dd\\\\u5229\\\\u3092\\\\u53ce\\\\u3081\\\\u308b\\\\u3002\\\\u6700\\\\u5f8c\\\\u306b\\\\u30cf\\\\u30c9\\\\u30e9\\\\u30fc\\\\u3092\\\\u5012\\\\u3057\\\\u3001\\\\u4e16\\\\u754c\\\\u306b\\\\u5e73\\\\u548c\\\\u3092\\\\u53d6\\\\u308a\\\\u623b\\\\u3059\\\\u3053\\\\u3068\\\\u306b\\\\u6210\\\\u529f\\\\u3057\\\\u305f\\\\u3002\\\\n\\\\n(2)  \\\\u30c0\\\\u30a4\\\\u306f\\\\u4eba\\\\u9593\\\\u304b\\\\u3089\\\\u306e\\\\u8996\\\\u7dda\\\\u306b\\\\u82e6\\\\u60a9\\\\u3057\\\\u3066\\\\u3044\\\\u305f\\\\u304c\\\\u3001\\\\u305d\\\\u306e\\\\u524d\\\\u306b\\\\u7adc\\\\u9a0e\\\\u5c06\\\\u30d0\\\\u30e9\\\\u30f3\\\\u304c\\\\u73fe\\\\u308c\\\\u3001\\\\u30c0\\\\u30a4\\\\u304c\\\\u795e\\\\u3005\\\\u304c\\\\u4f5c\\\\u3063\\\\u305f\\\\u4f1d\\\\u8aac\\\\u306e\\\\u5b58\\\\u5728\\\\u300c\\\\u7adc\\\\u306e\\\\u9a0e\\\\u58eb\\\\u300d\\\\u3067\\\\u3042\\\\u308b\\\\u3053\\\\u3068\\\\u3092\\\\u544a\\\\u3052\\\\u305f\\\\u3002\\\\u30d0\\\\u30e9\\\\u30f3\\\\u306f\\\\u30c0\\\\u30a4\\\\u306b\\\\u9b54\\\\u738b\\\\u8ecd\\\\u306b\\\\u52a0\\\\u308f\\\\u308b\\\\u3088\\\\u3046\\\\u4fc3\\\\u3057\\\\u305f\\\\u304c\\\\u3001\\\\u30c0\\\\u30a4\\\\u306f\\\\u62d2\\\\u5426\\\\u3057\\\\u305f\\\\u3002\\\\u305d\\\\u306e\\\\u5f8c\\\\u3001\\\\u30dd\\\\u30c3\\\\u30d7\\\\u304c\\\\u30e1\\\\u30ac\\\\u30f3\\\\u30c6\\\\u3092\\\\u767a\\\\u52d5\\\\u3057\\\\u3066\\\\u72a0\\\\u7272\\\\u306b\\\\u306a\\\\u308a\\\\u3001\\\\u30c0\\\\u30a4\\\\u306e\\\\u8a18\\\\u61b6\\\\u304c\\\\u8607\\\\u3063\\\\u305f\\\\u3002\\\\u30ec\\\\u30aa\\\\u30ca\\\\u306f\\\\u4e16\\\\u754c\\\\u5404\\\\u56fd\\\\u306e\\\\u738b\\\\u306b\\\\u5354\\\\u529b\\\\u3092\\\\u547c\\\\u3073\\\\u304b\\\\u3051\\\\u3001\\\\u9b54\\\\u738b\\\\u8ecd\\\\u3078\\\\u306e\\\\u6c7a\\\\u6226\\\\u306e\\\\u6e96\\\\u5099\\\\u3092\\\\u9032\\\\u3081\\\\u308b\\\\u3002\\\\u30c0\\\\u30a4\\\\u4e00\\\\u884c\\\\u3082\\\\u65b0\\\\u305f\\\\u306a\\\\u529b\\\\u3092\\\\u84c4\\\\u3048\\\\u3001\\\\u30cf\\\\u30c9\\\\u30e9\\\\u30fc\\\\u306f\\\\u5996\\\\u9b54\\\\u53f8\\\\u6559\\\\u30b6\\\\u30dc\\\\u30a8\\\\u30e9\\\\u306e\\\\u624b\\\\u3067\\\\u81ea\\\\u3089\\\\u3092\\\\u8d85\\\\u9b54\\\\u751f\\\\u7269\\\\u306b\\\\u3055\\\\u305b\\\\u308b\\\\u3002\\\\u30c0\\\\u30a4\\\\u4e00\\\\u884c\\\\u306f\\\\u9b54\\\\u738b\\\\u8ecd\\\\u306e\\\\u672c\\\\u62e0\\\\u5730\\\\u3067\\\\u3042\\\\u308b\\\\u9b3c\\\\u5ca9\\\\u57ce\\\\u3092\\\\u7834\\\\u58ca\\\\u3057\\\\u305f\\\\u304c\\\\u3001\\\\u30d0\\\\u30fc\\\\u30f3\\\\u30d1\\\\u30ec\\\\u30b9\\\\u306b\\\\u306f\\\\u9b54\\\\u5bae\\\\u306e\\\\u9580\\\\u306b\\\\u3088\\\\u3063\\\\u3066\\\\u9589\\\\u3056\\\\u3055\\\\u308c\\\\u3066\\\\u3044\\\\u305f\\\\u3002\\\\u30d0\\\\u30e9\\\\u30f3\\\\u306f\\\\u30c0\\\\u30a4\\\\u4e00\\\\u884c\\\\u3068\\\\u5171\\\\u95d8\\\\u3057\\\\u3001\\\\u30cf\\\\u30c9\\\\u30e9\\\\u30fc\\\\u3068\\\\u5bfe\\\\u5cd9\\\\u3059\\\\u308b\\\\u304c\\\\u3001\\\\u9ed2\\\\u306e\\\\u6838\\\\u6676\\\\u304c\\\\u8d77\\\\u52d5\\\\u3057\\\\u3066\\\\u3057\\\\u307e\\\\u3044\\\\u3001\\\\u30d0\\\\u30e9\\\\u30f3\\\\u306f\\\\u30c0\\\\u30a4\\\\u305f\\\\u3061\\\\u3092\\\\u5b88\\\\u308b\\\\u305f\\\\u3081\\\\u306b\\\\u5168\\\\u3066\\\\u306e\\\\u529b\\\\u3092\\\\u4f7f\\\\u3063\\\\u3066\\\\u7206\\\\u767a\\\\u3092\\\\u62bc\\\\u3055\\\\u3048\\\\u3053\\\\u307f\\\\u306a\\\\u304c\\\\u3089\\\\u547d\\\\u3092\\\\u843d\\\\u3068\\\\u3057\\\\u305f\\\\u3002\\\\n\\\\n(3) \\\\u30c0\\\\u30a4\\\\u4e00\\\\u884c\\\\u306f\\\\u30d0\\\\u30fc\\\\u30f3\\\\u3068\\\\u306e\\\\u76f4\\\\u63a5\\\\u5bfe\\\\u6c7a\\\\u306b\\\\u304a\\\\u3044\\\\u3066\\\\u5727\\\\u5012\\\\u7684\\\\u306a\\\\u529b\\\\u306e\\\\u5dee\\\\u306e\\\\u524d\\\\u306b\\\\u6557\\\\u5317\\\\u3057\\\\u3001\\\\u30cf\\\\u30c9\\\\u30e9\\\\u30fc\\\\u304c\\\\u30d0\\\\u30fc\\\\u30f3\\\\u306b\\\\u53cd\\\\u9006\\\\u3057\\\\u3001\\\\u653b\\\\u6483\\\\u3092\\\\u4ed5\\\\u639b\\\\u3051\\\\u305f\\\\u9699\\\\u306b\\\\u8131\\\\u51fa\\\\u3059\\\\u308b\\\\u3002\\\\u30d0\\\\u30fc\\\\u30f3\\\\u306f\\\\u30d0\\\\u30fc\\\\u30f3\\\\u30d1\\\\u30ec\\\\u30b9\\\\u3092\\\\u98db\\\\u884c\\\\u3055\\\\u305b\\\\u3001\\\\u4e16\\\\u754c\\\\u5404\\\\u5730\\\\u3078\\\\u306e\\\\u7206\\\\u6483\\\\u3092\\\\u5b9f\\\\u884c\\\\u3059\\\\u308b\\\\u304c\\\\u3001\\\\u30d5\\\\u30ed\\\\u30fc\\\\u30e9\\\\u306e\\\\u5354\\\\u529b\\\\u3092\\\\u5f97\\\\u3066\\\\u8f9b\\\\u3046\\\\u3058\\\\u3066\\\\u751f\\\\u304d\\\\u5ef6\\\\u3073\\\\u305f\\\\u30c0\\\\u30a4\\\\u4e00\\\\u884c\\\\u306f\\\\u3001\\\\u30ec\\\\u30aa\\\\u30ca\\\\u3092\\\\u4e2d\\\\u5fc3\\\\u306b\\\\u5927\\\\u7834\\\\u90aa\\\\u546a\\\\u6587\\\\u30fb\\\\u30df\\\\u30ca\\\\u30ab\\\\u30c8\\\\u30fc\\\\u30eb\\\\u3092\\\\u767a\\\\u52d5\\\\u3057\\\\u3001\\\\u30d0\\\\u30fc\\\\u30f3\\\\u30d1\\\\u30ec\\\\u30b9\\\\u306e\\\\u52d5\\\\u304d\\\\u3092\\\\u5c01\\\\u3058\\\\u7a81\\\\u5165\\\\u3059\\\\u308b\\\\u3002\\\\u66f4\\\\u306b\\\\u30cf\\\\u30c9\\\\u30e9\\\\u30fc\\\\u3068\\\\u89aa\\\\u885b\\\\u9a0e\\\\u56e3\\\\u3082\\\\u4e71\\\\u5165\\\\u3057\\\\u3001\\\\u6fc0\\\\u95d8\\\\u3092\\\\u7e70\\\\u308a\\\\u5e83\\\\u3052\\\\u308b\\\\u3002\\\\u30c0\\\\u30a4\\\\u306f\\\\u30cf\\\\u30c9\\\\u30e9\\\\u30fc\\\\u3092\\\\u5012\\\\u3059\\\\u304c\\\\u3001\\\\u30ad\\\\u30eb\\\\u30d0\\\\u30fc\\\\u30f3\\\\u304c\\\\u4ed5\\\\u639b\\\\u3051\\\\u305f\\\\u7f60\\\\u304c\\\\u30c0\\\\u30a4\\\\u9054\\\\u3092\\\\u8972\\\\u3046\\\\u3002\\\\u305d\\\\u3053\\\\u306b\\\\u99c6\\\\u3051\\\\u3064\\\\u3051\\\\u305f\\\\u306e\\\\u306f\\\\u3001\\\\u304b\\\\u3064\\\\u3066\\\\u30d5\\\\u30ed\\\\u30fc\\\\u30e9\\\\u304b\\\\u3089\\\\u8a17\\\\u3055\\\\u308c\\\\u305f\\\\u300c\\\\u30ab\\\\u30fc\\\\u30eb\\\\u306e\\\\u307e\\\\u3082\\\\u308a\\\\u300d\\\\u304c\\\\u8eab\\\\u4ee3\\\\u308f\\\\u308a\\\\u3068\\\\u306a\\\\u3063\\\\u3066\\\\u751f\\\\u9084\\\\u3057\\\\u3001\\\\u5bc6\\\\u304b\\\\u306b\\\\u4fee\\\\u884c\\\\u3092\\\\u7d9a\\\\u3051\\\\u3066\\\\u3044\\\\u305f\\\\u30a2\\\\u30d0\\\\u30f3\\\\u3067\\\\u3042\\\\u3063\\\\u305f\\\\u3002\\\\u30c0\\\\u30a4\\\\u306f\\\\u7adc\\\\u306e\\\\u7d0b\\\\u7ae0\\\\u306e\\\\u529b\\\\u3067\\\\u30d0\\\\u30fc\\\\u30f3\\\\u3092\\\\u8ffd\\\\u3044\\\\u8a70\\\\u3081\\\\u3001\\\\u30d0\\\\u30fc\\\\u30f3\\\\u306f\\\\u30df\\\\u30b9\\\\u30c8\\\\u30d0\\\\u30fc\\\\u30f3\\\\u306b\\\\u9810\\\\u3051\\\\u3066\\\\u3044\\\\u305f\\\\u8089\\\\u4f53\\\\u3092\\\\u4f7f\\\\u3063\\\\u3066\\\\u771f\\\\u306e\\\\u59ff\\\\u3068\\\\u306a\\\\u308b\\\\u3002\\\\u30c0\\\\u30a4\\\\u306f\\\\u7adc\\\\u306e\\\\u9b54\\\\u4eba\\\\u3068\\\\u306a\\\\u308a\\\\u3001\\\\u30d0\\\\u30fc\\\\u30f3\\\\u3082\\\\u81ea\\\\u3089\\\\u306e\\\\u9b54\\\\u529b\\\\u306e\\\\u6e90\\\\u30fb\\\\u9b3c\\\\u773c\\\\u3092\\\\u89e3\\\\u653e\\\\u3057\\\\u3001\\\\u9b3c\\\\u773c\\\\u738b\\\\u3068\\\\u5316\\\\u3059\\\\u3002\\\\u6700\\\\u5f8c\\\\u306e\\\\u6fc0\\\\u95d8\\\\u306f\\\\u30c0\\\\u30a4\\\\u306e\\\\u52dd\\\\u5229\\\\u3067\\\\u7d42\\\\u308f\\\\u308a\\\\u3001\\\\u5730\\\\u4e0a\\\\u306b\\\\u5e30\\\\u9084\\\\u3057\\\\u305f\\\\u30c0\\\\u30a4\\\\u304c\\\\u4ef2\\\\u9593\\\\u305f\\\\u3061\\\\u306b\\\\u8fce\\\\u3048\\\\u3089\\\\u308c\\\\u308b\\\\u304c\\\\u3001\\\\u30ad\\\\u30eb\\\\u30d0\\\\u30fc\\\\u30f3\\\\u304c\\\\u73fe\\\\u308c\\\\u3001\\\\u81ea\\\\u3089\\\\u306e\\\\u6b63\\\\u4f53\\\\u3092\\\\u660e\\\\u304b\\\\u3059\\\\u3002\\\\u30ad\\\\u30eb\\\\u30d0\\\\u30fc\\\\u30f3\\\\u306f\\\\u30d0\\\\u30fc\\\\u30f3\\\\u306e\\\\u76e3\\\\u8996\\\\u3068\\\\u6697\\\\u6bba\\\\u3092\\\\u672c\\\\u6765\\\\u306e\\\\u76ee\\\\u7684\\\\u3068\\\\u3057\\\\u3066\\\\u3044\\\\u305f\\\\u306e\\\\u3060\\\\u3063\\\\u305f\\\\u3002\\\\u30ad\\\\u30eb\\\\u30d0\\\\u30fc\\\\u30f3\\\\u306f\\\\u30c0\\\\u30a4\\\\u4e00\\\\u884c\\\\u3092\\\\u5168\\\\u6ec5\\\\u3055\\\\u305b\\\\u308b\\\\u3079\\\\u304f\\\\u3001\\\\u96a0\\\\u3057\\\\u3066\\\\u3044\\\\u305f\\\\u9ed2\\\\u306e\\\\u6838\\\\u6676\\\\u3092\\\\u8d77\\\\u52d5\\\\u3055\\\\u305b\\\\u3066\\\\u7d76\\\\u671b\\\\u3059\\\\u308b\\\\u4e00\\\\u540c\\\\u3092\\\\u5632\\\\u7b11\\\\u3044\\\\u3001\\\\u9b54\\\\u754c\\\\u306b\\\\u9003\\\\u3052\\\\u5e30\\\\u308d\\\\u3046\\\\u3068\\\\u3059\\\\u308b\\\\u3002\\\\u30c0\\\\u30a4\\\\u3068\\\\u30dd\\\\u30c3\\\\u30d7\\\\u306f\\\\u6838\\\\u6676\\\\u3092\\\\u7a7a\\\\u9ad8\\\\u304f\\\\u904b\\\\u3093\\\\u3067\\\\u3044\\\\u304f\\\\u304c\\\\u3001\\\\u571f\\\\u58c7\\\\u5834\\\\u3067\\\\u30c0\\\\u30a4\\\\u306f\\\\u30dd\\\\u30c3\\\\u30d7\\\\u3092\\\\u5730\\\\u4e0a\\\\u306b\\\\u623b\\\\u3057\\\\u3001\\\\u4e00\\\\u4eba\\\\u7206\\\\u767a\\\\u306e\\\\u9583\\\\u5149\\\\u306e\\\\u4e2d\\\\u306b\\\\u6d88\\\\u3048\\\\u305f\\\\u3002\\\\u6570\\\\u9031\\\\u9593\\\\u306e\\\\u635c\\\\u7d22\\\\u3092\\\\u7d4c\\\\u3066\\\\u3082\\\\u306a\\\\u304a\\\\u3001\\\\u30c0\\\\u30a4\\\\u306e\\\\u59ff\\\\u306f\\\\u898b\\\\u3064\\\\u304b\\\\u3089\\\\u306a\\\\u304b\\\\u3063\\\\u305f\\\\u304c\\\\u3001\\\\u30ed\\\\u30f3\\\\u30fb\\\\u30d9\\\\u30eb\\\\u30af\\\\u306f\\\\u6301\\\\u3061\\\\u4e3b\\\\u306e\\\\u547d\\\\u3068\\\\u7e4b\\\\u304c\\\\u3063\\\\u3066\\\\u3044\\\\u308b\\\\u30c0\\\\u30a4\\\\u306e\\\\u5263\\\\u306e\\\\u3001\\\\u9b54\\\\u6cd5\\\\u5b9d\\\\u7389\\\\u304c\\\\u8f1d\\\\u304d\\\\u7d9a\\\\u3051\\\\u3066\\\\u3044\\\\u308b\\\\u3053\\\\u3068\\\\u304b\\\\u3089\\\\u3001\\\\u30c0\\\\u30a4\\\\u304c\\\\u3069\\\\u3053\\\\u304b\\\\u3067\\\\u751f\\\\u304d\\\\u3066\\\\u3044\\\\u308b\\\\u3053\\\\u3068\\\\u3092\\\\u78ba\\\\u4fe1\\\\u3057\\\\u3001\\\\u30dd\\\\u30c3\\\\u30d7\\\\u306f\\\\u3044\\\\u3064\\\\u304b\\\\u30c0\\\\u30a4\\\\u304c\\\\u623b\\\\u3063\\\\u3066\\\\u304f\\\\u308b\\\\u65e5\\\\u307e\\\\u3067\\\\u3001\\\\u4e16\\\\u754c\\\\u306e\\\\u5e73\\\\u548c\\\\u3092\\\\u81ea\\\\u5206\\\\u305f\\\\u3061\\\\u3067\\\\u5b88\\\\u308a\\\\u629c\\\\u304f\\\\u3053\\\\u3068\\\\u3092\\\\u8a93\\\\u3044\\\\u3001\\\\u518d\\\\u3073\\\\u30c0\\\\u30a4\\\\u3092\\\\u63a2\\\\u3059\\\\u65c5\\\\u306b\\\\u51fa\\\\u305f\\\\u3002\\\\n---------------------\\\\nUsing only the choices above and not prior knowledge, return the choice that is most relevant to the question: \\'\\\\u30cf\\\\u30c9\\\\u30e9\\\\u30fc\\\\u306f\\\\u6700\\\\u5f8c\\\\u3069\\\\u3046\\\\u306a\\\\u3063\\\\u305f\\\\u306e\\\\u304b\\\\u65e5\\\\u672c\\\\u8a9e\\\\u3067\\\\u6559\\\\u3048\\\\u3066\\'\\\\nProvide choice in the following format: \\'ANSWER: <number>\\' and explain why this summary was selected in relation to the question.\\\\n\"], \"model\": \"text-davinci-003\", \"temperature\": 0.0, \"max_tokens\": 256, \"top_p\": 1, \"frequency_penalty\": 0, \"presence_penalty\": 0, \"n\": 1, \"best_of\": 1, \"logit_bias\": {}}' message='Post details'\n"
     ]
    },
    {
     "name": "stdout",
     "output_type": "stream",
     "text": [
      "DEBUG:urllib3.connectionpool:https://api.openai.com:443 \"POST /v1/completions HTTP/1.1\" 200 697\n",
      "DEBUG:openai:message='OpenAI API response' path=https://api.openai.com/v1/completions processing_ms=3772 request_id=46031991b1862e0f7f9ede26b5fe6ca8 response_code=200\n",
      "DEBUG:root:\n",
      "ANSWER: 3 \n",
      "This summary was selected because it provides the most detailed information about the fate of the character, Lord Hades. It explains how he was defeated by the protagonist, Dai, and how he attempted to escape to the Demon Realm. It also explains how Dai and Pop carried the black core to the sky, and how Dai disappeared in a flash of light. Finally, it explains how Pop vowed to protect the world until Dai's return.\n",
      "DEBUG:root:>[Level 0] current prompt template: Some choices are given below. It is provided in a numbered list (1 to 3),where each item in the list corresponds to a summary.\n",
      "---------------------\n",
      "(1)  十数年前、魔王ハドラー率いる魔王軍と勇者率いる勇者パーティの戦いは、勇者パーティの勝利で終わり、魔王の配下であったモンスターも魔王の支配から解き放たれ、世界に平和が訪れた。それから十数年後、デルムリン島に住む少年ダイは、勇者になることを夢見ていた。ある日、魔王が復活したことを察するブラスに訪れた謎の人物アバンとその弟子の魔法使いポップが現れ、島を破邪呪文・マホカトールで覆い、モンスターたちを魔王の支配から救った。アバンはダイの事を聞き、その将来性を見込んで島を訪れたのである。ダイはアバンの指導を受けて、短期間のうちに秘められた力を開花させていく。15年ぶりに復活したハドラーがアバン抹殺のためデルムリン島に来襲するが、ダイは額に浮き出た謎の紋章の力でパワーアップし、ハドラーを退ける。ダイは魔王軍を倒すべく、ポップとゴメちゃんと共に旅立ち、ロモス王国とパプニカ王国を占拠した魔王軍六大軍団と戦い、勝利を収める。最後にハドラーを倒し、世界に平和を取り戻すことに成功した。\n",
      "\n",
      "(2)  ダイは人間からの視線に苦悩していたが、その前に竜騎将バランが現れ、ダイが神々が作った伝説の存在「竜の騎士」であることを告げた。バランはダイに魔王軍に加わるよう促したが、ダイは拒否した。その後、ポップがメガンテを発動して犠牲になり、ダイの記憶が蘇った。レオナは世界各国の王に協力を呼びかけ、魔王軍への決戦の準備を進める。ダイ一行も新たな力を蓄え、ハドラーは妖魔司教ザボエラの手で自らを超魔生物にさせる。ダイ一行は魔王軍の本拠地である鬼岩城を破壊したが、バーンパレスには魔宮の門によって閉ざされていた。バランはダイ一行と共闘し、ハドラーと対峙するが、黒の核晶が起動してしまい、バランはダイたちを守るために全ての力を使って爆発を押さえこみながら命を落とした。\n",
      "\n",
      "(3) ダイ一行はバーンとの直接対決において圧倒的な力の差の前に敗北し、ハドラーがバーンに反逆し、攻撃を仕掛けた隙に脱出する。バーンはバーンパレスを飛行させ、世界各地への爆撃を実行するが、フローラの協力を得て辛うじて生き延びたダイ一行は、レオナを中心に大破邪呪文・ミナカトールを発動し、バーンパレスの動きを封じ突入する。更にハドラーと親衛騎団も乱入し、激闘を繰り広げる。ダイはハドラーを倒すが、キルバーンが仕掛けた罠がダイ達を襲う。そこに駆けつけたのは、かつてフローラから託された「カールのまもり」が身代わりとなって生還し、密かに修行を続けていたアバンであった。ダイは竜の紋章の力でバーンを追い詰め、バーンはミストバーンに預けていた肉体を使って真の姿となる。ダイは竜の魔人となり、バーンも自らの魔力の源・鬼眼を解放し、鬼眼王と化す。最後の激闘はダイの勝利で終わり、地上に帰還したダイが仲間たちに迎えられるが、キルバーンが現れ、自らの正体を明かす。キルバーンはバーンの監視と暗殺を本来の目的としていたのだった。キルバーンはダイ一行を全滅させるべく、隠していた黒の核晶を起動させて絶望する一同を嘲笑い、魔界に逃げ帰ろうとする。ダイとポップは核晶を空高く運んでいくが、土壇場でダイはポップを地上に戻し、一人爆発の閃光の中に消えた。数週間の捜索を経てもなお、ダイの姿は見つからなかったが、ロン・ベルクは持ち主の命と繋がっているダイの剣の、魔法宝玉が輝き続けていることから、ダイがどこかで生きていることを確信し、ポップはいつかダイが戻ってくる日まで、世界の平和を自分たちで守り抜くことを誓い、再びダイを探す旅に出た。\n",
      "---------------------\n",
      "Using only the choices above and not prior knowledge, return the choice that is most relevant to the question: 'ハドラーは最後どうなったのか日本語で教えて'\n",
      "Provide choice in the following format: 'ANSWER: <number>' and explain why this summary was selected in relation to the question.\n",
      "\n",
      "INFO:root:>[Level 0] Selected node: [3]/[3]\n",
      "DEBUG:root:>[Level 0] Node [3] Summary text: ダイ一行はバーンとの直接対決において圧倒的な力の差の前に敗北し、ハドラーがバーンに反逆し、攻撃を仕掛けた隙に脱出する。バーンはバーンパレスを飛行させ、世界各地への爆撃を実行するが、フローラの協力...\n",
      "DEBUG:openai:message='Request to OpenAI API' method=post path=https://api.openai.com/v1/completions\n",
      "DEBUG:openai:api_version=None data='{\"prompt\": [\"Some choices are given below. It is provided in a numbered list (1 to 9),where each item in the list corresponds to a summary.\\\\n---------------------\\\\n(1) \\\\u305d\\\\u306e\\\\u5f8c\\\\u306b\\\\u73fe\\\\u308c\\\\u305f\\\\u30d0\\\\u30fc\\\\u30f3\\\\u3068\\\\u306e\\\\u76f4\\\\u63a5\\\\u5bfe\\\\u6c7a\\\\u306b\\\\u304a\\\\u3044\\\\u3066\\\\u3001\\\\u30c0\\\\u30a4\\\\u4e00\\\\u884c\\\\u306f\\\\u5727\\\\u5012\\\\u7684\\\\u306a\\\\u529b\\\\u306e\\\\u5dee\\\\u306e\\\\u524d\\\\u306b\\\\u6557\\\\u5317\\\\u3059\\\\u308b\\\\u304c\\\\u3001\\\\u6368\\\\u3066\\\\u99d2\\\\u306b\\\\u3055\\\\u308c\\\\u305f\\\\u30cf\\\\u30c9\\\\u30e9\\\\u30fc\\\\u304c\\\\u30d0\\\\u30fc\\\\u30f3\\\\u306b\\\\u53cd\\\\u9006\\\\u3057\\\\u3001\\\\u653b\\\\u6483\\\\u3092\\\\u4ed5\\\\u639b\\\\u3051\\\\u305f\\\\u9699\\\\u306b\\\\u8131\\\\u51fa\\\\u3059\\\\u308b\\\\u3002  \\\\u6700\\\\u7d42\\\\u6c7a\\\\u6226 \\\\u90aa\\\\u9b54\\\\u8005\\\\u3092\\\\u9000\\\\u3051\\\\u305f\\\\u30d0\\\\u30fc\\\\u30f3\\\\u306f\\\\u30d0\\\\u30fc\\\\u30f3\\\\u30d1\\\\u30ec\\\\u30b9\\\\u3092\\\\u98db\\\\u884c\\\\u3055\\\\u305b\\\\u3001\\\\u4e16\\\\u754c\\\\u5404\\\\u5730\\\\u3078\\\\u306e\\\\u7206\\\\u6483\\\\u3092\\\\u5b9f\\\\u884c\\\\u3059\\\\u308b\\\\n\\\\n(2) \\\\u4e00\\\\u65b9\\\\u3001\\\\u30ab\\\\u30fc\\\\u30eb\\\\u738b\\\\u56fd\\\\u5973\\\\u738b\\\\u306e\\\\u30d5\\\\u30ed\\\\u30fc\\\\u30e9\\\\u306e\\\\u5354\\\\u529b\\\\u3082\\\\u5f97\\\\u3066\\\\u8f9b\\\\u3046\\\\u3058\\\\u3066\\\\u751f\\\\u304d\\\\u5ef6\\\\u3073\\\\u305f\\\\u30c0\\\\u30a4\\\\u4e00\\\\u884c\\\\u306f\\\\u30015\\\\u4eba\\\\u76ee\\\\u306e\\\\u30a2\\\\u30d0\\\\u30f3\\\\u306e\\\\u4f7f\\\\u5f92\\\\u306b\\\\u306a\\\\u3063\\\\u305f\\\\u30ec\\\\u30aa\\\\u30ca\\\\u3092\\\\u4e2d\\\\u5fc3\\\\u306b\\\\u5927\\\\u7834\\\\u90aa\\\\u546a\\\\u6587\\\\u30fb\\\\u30df\\\\u30ca\\\\u30ab\\\\u30c8\\\\u30fc\\\\u30eb\\\\u3092\\\\u767a\\\\u52d5\\\\u3057\\\\u3001\\\\u30d0\\\\u30fc\\\\u30f3\\\\u30d1\\\\u30ec\\\\u30b9\\\\u306e\\\\u52d5\\\\u304d\\\\u3092\\\\u5c01\\\\u3058\\\\u7a81\\\\u5165\\\\u3059\\\\u308b\\\\u3002\\\\u66f4\\\\u306b\\\\u30a2\\\\u30d0\\\\u30f3\\\\u306e\\\\u4f7f\\\\u5f92\\\\u3068\\\\u306e\\\\u6c7a\\\\u7740\\\\u3092\\\\u9858\\\\u3046\\\\u30cf\\\\u30c9\\\\u30e9\\\\u30fc\\\\u3068\\\\u89aa\\\\u885b\\\\u9a0e\\\\u56e3\\\\u3082\\\\u4e71\\\\u5165\\\\u3057\\\\u3001\\\\u6fc0\\\\u95d8\\\\u3092\\\\u7e70\\\\u308a\\\\u5e83\\\\u3052\\\\u308b\\\\n\\\\n(3) \\\\u30c0\\\\u30a4\\\\u306f\\\\u30cf\\\\u30c9\\\\u30e9\\\\u30fc\\\\u3092\\\\u5012\\\\u3059\\\\u304c\\\\u3001\\\\u305d\\\\u306e\\\\u76f4\\\\u5f8c\\\\u306b\\\\u30ad\\\\u30eb\\\\u30d0\\\\u30fc\\\\u30f3\\\\u304c\\\\u4ed5\\\\u639b\\\\u3051\\\\u305f\\\\u7f60\\\\u304c\\\\u30c0\\\\u30a4\\\\u9054\\\\u3092\\\\u8972\\\\u3046\\\\u3002\\\\u305d\\\\u3053\\\\u306b\\\\u99c6\\\\u3051\\\\u3064\\\\u3051\\\\u305f\\\\u306e\\\\u306f\\\\u3001\\\\u304b\\\\u3064\\\\u3066\\\\u30d5\\\\u30ed\\\\u30fc\\\\u30e9\\\\u304b\\\\u3089\\\\u8a17\\\\u3055\\\\u308c\\\\u305f\\\\u300c\\\\u30ab\\\\u30fc\\\\u30eb\\\\u306e\\\\u307e\\\\u3082\\\\u308a\\\\u300d\\\\u304c\\\\u8eab\\\\u4ee3\\\\u308f\\\\u308a\\\\u3068\\\\u306a\\\\u3063\\\\u3066\\\\u751f\\\\u9084\\\\u3057\\\\u3001\\\\u5bc6\\\\u304b\\\\u306b\\\\u4fee\\\\u884c\\\\u3092\\\\u7d9a\\\\u3051\\\\u3066\\\\u3044\\\\u305f\\\\u30a2\\\\u30d0\\\\u30f3\\\\u3067\\\\u3042\\\\u3063\\\\u305f\\\\n\\\\n(4)   \\\\u7236\\\\u30fb\\\\u30d0\\\\u30e9\\\\u30f3\\\\u304b\\\\u3089\\\\u53d7\\\\u3051\\\\u7d99\\\\u3044\\\\u3060\\\\u7adc\\\\u306e\\\\u7d0b\\\\u7ae0\\\\u306e\\\\u529b\\\\u3067\\\\u30c0\\\\u30a4\\\\u306f\\\\u30d0\\\\u30fc\\\\u30f3\\\\u3092\\\\u8ffd\\\\u3044\\\\u8a70\\\\u3081\\\\u308b\\\\u304c\\\\u3001\\\\u30d0\\\\u30fc\\\\u30f3\\\\u306f\\\\u30df\\\\u30b9\\\\u30c8\\\\u30d0\\\\u30fc\\\\u30f3\\\\u306b\\\\u9810\\\\u3051\\\\u3066\\\\u3044\\\\u305f\\\\u8089\\\\u4f53\\\\u3092\\\\u4f7f\\\\u3063\\\\u3066\\\\u771f\\\\u306e\\\\u59ff\\\\u3068\\\\u306a\\\\u308b\\\\u3002\\\\u306a\\\\u304a\\\\u3082\\\\u5730\\\\u4e0a\\\\u6d88\\\\u6ec5\\\\u3092\\\\u306a\\\\u3055\\\\u3093\\\\u3068\\\\u3059\\\\u308b\\\\u30d0\\\\u30fc\\\\u30f3\\\\u3092\\\\u5012\\\\u3059\\\\u6700\\\\u5f8c\\\\u306e\\\\u624b\\\\u6bb5\\\\u3068\\\\u3057\\\\u3066\\\\u3001\\\\u30c0\\\\u30a4\\\\u306f\\\\u7adc\\\\u306e\\\\u9a0e\\\\u58eb\\\\u306e\\\\u6226\\\\u95d8\\\\u5f62\\\\u614b\\\\u3067\\\\u3042\\\\u308b\\\\u7adc\\\\u9b54\\\\u4eba\\\\u3068\\\\u306a\\\\u308a\\\\u3001\\\\u30d0\\\\u30fc\\\\u30f3\\\\u3082\\\\u81ea\\\\u3089\\\\u306e\\\\u9b54\\\\u529b\\\\u306e\\\\u6e90\\\\u30fb\\\\u9b3c\\\\u773c\\\\u3092\\\\u89e3\\\\u653e\\\\u3057\\\\u3001\\\\u9b3c\\\\u773c\\\\u738b\\\\u3068\\\\u5316\\\\u3059\\\\n\\\\n(5) \\\\u5236\\\\u5fa1\\\\u3092\\\\u5931\\\\u3044\\\\u5d29\\\\u58ca\\\\u3057\\\\u306a\\\\u304c\\\\u3089\\\\u6d6e\\\\u4e0a\\\\u3092\\\\u7d9a\\\\u3051\\\\u308b\\\\u30d0\\\\u30fc\\\\u30f3\\\\u30d1\\\\u30ec\\\\u30b9\\\\u3054\\\\u3068\\\\u5b87\\\\u5b99\\\\u7a7a\\\\u9593\\\\u3067\\\\u7e70\\\\u308a\\\\u5e83\\\\u3052\\\\u3089\\\\u308c\\\\u308b\\\\u4e21\\\\u8005\\\\u306e\\\\u6700\\\\u5f8c\\\\u306e\\\\u6fc0\\\\u95d8\\\\u306f\\\\u3001\\\\u30c0\\\\u30a4\\\\u306e\\\\u52dd\\\\u5229\\\\u3067\\\\u7d42\\\\u308f\\\\u308b\\\\u3002  \\\\u30a8\\\\u30d4\\\\u30ed\\\\u30fc\\\\u30b0 \\\\u5730\\\\u4e0a\\\\u306b\\\\u5e30\\\\u9084\\\\u3057\\\\u305f\\\\u30c0\\\\u30a4\\\\u304c\\\\u4ef2\\\\u9593\\\\u305f\\\\u3061\\\\u306b\\\\u8fce\\\\u3048\\\\u3089\\\\u308c\\\\u3001\\\\u7686\\\\u304c\\\\u52dd\\\\u5229\\\\u3092\\\\u559c\\\\u3073\\\\u3042\\\\u3046\\\\u4e2d\\\\u3001\\\\u30d0\\\\u30fc\\\\u30f3\\\\u30d1\\\\u30ec\\\\u30b9\\\\u306e\\\\u6226\\\\u3044\\\\u3067\\\\u30a2\\\\u30d0\\\\u30f3\\\\u306b\\\\u5012\\\\u3055\\\\u308c\\\\u305f\\\\u306f\\\\u305a\\\\u306e\\\\u30ad\\\\u30eb\\\\u30d0\\\\u30fc\\\\u30f3\\\\u304c\\\\u73fe\\\\u308c\\\\u3001\\\\u81ea\\\\u3089\\\\u306e\\\\u6b63\\\\u4f53\\\\u3092\\\\u660e\\\\u304b\\\\u3059\\\\n\\\\n(6) \\\\u30ad\\\\u30eb\\\\u30d0\\\\u30fc\\\\u30f3\\\\u306e\\\\u771f\\\\u306e\\\\u4e3b\\\\u306f\\\\u3001\\\\u9b54\\\\u754c\\\\u306b\\\\u304a\\\\u3051\\\\u308b\\\\u30d0\\\\u30fc\\\\u30f3\\\\u306e\\\\u30e9\\\\u30a4\\\\u30d0\\\\u30eb\\\\u3067\\\\u3001\\\\u30d0\\\\u30fc\\\\u30f3\\\\u306b\\\\u5148\\\\u3093\\\\u3058\\\\u3066\\\\u5730\\\\u4e0a\\\\u5f81\\\\u670d\\\\u3092\\\\u76ee\\\\u8ad6\\\\u3093\\\\u3060\\\\u3082\\\\u306e\\\\u306e\\\\u82e5\\\\u304d\\\\u65e5\\\\u306e\\\\u30d0\\\\u30e9\\\\u30f3\\\\u3068\\\\u306e\\\\u6fc0\\\\u95d8\\\\u306e\\\\u672b\\\\u306b\\\\u5c01\\\\u5370\\\\u3055\\\\u308c\\\\u305f\\\\u51a5\\\\u7adc\\\\u738b\\\\u30f4\\\\u30a7\\\\u30eb\\\\u30b6\\\\u30fc\\\\u3067\\\\u3042\\\\u308a\\\\u3001\\\\u30ad\\\\u30eb\\\\u30d0\\\\u30fc\\\\u30f3\\\\u306f\\\\u30d0\\\\u30fc\\\\u30f3\\\\u306e\\\\u76e3\\\\u8996\\\\u3068\\\\u6697\\\\u6bba\\\\u3092\\\\u672c\\\\u6765\\\\u306e\\\\u76ee\\\\u7684\\\\u3068\\\\u3057\\\\u3066\\\\u3044\\\\u305f\\\\u306e\\\\u3060\\\\u3063\\\\u305f\\\\n\\\\n(7) \\\\u30ad\\\\u30eb\\\\u30d0\\\\u30fc\\\\u30f3\\\\u306f\\\\u30d0\\\\u30fc\\\\u30f3\\\\u3092\\\\u3082\\\\u5012\\\\u3057\\\\u305f\\\\u30c0\\\\u30a4\\\\u4e00\\\\u884c\\\\u3092\\\\u5168\\\\u6ec5\\\\u3055\\\\u305b\\\\u308b\\\\u3079\\\\u304f\\\\u3001\\\\u96a0\\\\u3057\\\\u3066\\\\u3044\\\\u305f\\\\u9ed2\\\\u306e\\\\u6838\\\\u6676\\\\u3092\\\\u8d77\\\\u52d5\\\\u3055\\\\u305b\\\\u3066\\\\u7d76\\\\u671b\\\\u3059\\\\u308b\\\\u4e00\\\\u540c\\\\u3092\\\\u5632\\\\u7b11\\\\u3044\\\\u3001\\\\u9b54\\\\u754c\\\\u306b\\\\u9003\\\\u3052\\\\u5e30\\\\u308d\\\\u3046\\\\u3068\\\\u3059\\\\u308b\\\\u3002\\\\u30a2\\\\u30d0\\\\u30f3\\\\u3068\\\\u30de\\\\u30a1\\\\u30e0\\\\u304c\\\\u30ad\\\\u30eb\\\\u30d0\\\\u30fc\\\\u30f3\\\\u3092\\\\u5012\\\\u3059\\\\u3082\\\\u3001\\\\u6838\\\\u6676\\\\u306e\\\\u7206\\\\u767a\\\\u306f\\\\u3082\\\\u306f\\\\u3084\\\\u6b62\\\\u3081\\\\u3089\\\\u308c\\\\u306a\\\\u3044\\\\n\\\\n(8) \\\\u30c0\\\\u30a4\\\\u3068\\\\u30dd\\\\u30c3\\\\u30d7\\\\u306f\\\\u6838\\\\u6676\\\\u3092\\\\u7a7a\\\\u9ad8\\\\u304f\\\\u904b\\\\u3093\\\\u3067\\\\u3044\\\\u304f\\\\u304c\\\\u3001\\\\u571f\\\\u58c7\\\\u5834\\\\u3067\\\\u30c0\\\\u30a4\\\\u306f\\\\u30dd\\\\u30c3\\\\u30d7\\\\u3092\\\\u5730\\\\u4e0a\\\\u306b\\\\u623b\\\\u3057\\\\u3001\\\\u4e00\\\\u4eba\\\\u7206\\\\u767a\\\\u306e\\\\u9583\\\\u5149\\\\u306e\\\\u4e2d\\\\u306b\\\\u6d88\\\\u3048\\\\u305f\\\\u3002  \\\\u6570\\\\u9031\\\\u9593\\\\u306e\\\\u635c\\\\u7d22\\\\u3092\\\\u7d4c\\\\u3066\\\\u3082\\\\u306a\\\\u304a\\\\u3001\\\\u30c0\\\\u30a4\\\\u306e\\\\u59ff\\\\u306f\\\\u898b\\\\u3064\\\\u304b\\\\u3089\\\\u306a\\\\u304b\\\\u3063\\\\u305f\\\\u3002\\\\u3060\\\\u304c\\\\u3001\\\\u30ed\\\\u30f3\\\\u30fb\\\\u30d9\\\\u30eb\\\\u30af\\\\u306f\\\\u6301\\\\u3061\\\\u4e3b\\\\u306e\\\\u547d\\\\u3068\\\\u7e4b\\\\u304c\\\\u3063\\\\u3066\\\\u3044\\\\u308b\\\\u30c0\\\\u30a4\\\\u306e\\\\u5263\\\\u306e\\\\u3001\\\\u9b54\\\\u6cd5\\\\u5b9d\\\\u7389\\\\u304c\\\\u8f1d\\\\u304d\\\\u7d9a\\\\u3051\\\\u3066\\\\u3044\\\\u308b\\\\u3053\\\\u3068\\\\u304b\\\\u3089\\\\u3001\\\\u30c0\\\\u30a4\\\\u304c\\\\u3069\\\\u3053\\\\u304b\\\\u3067\\\\u751f\\\\u304d\\\\u3066\\\\u3044\\\\u308b\\\\u3053\\\\u3068\\\\u3092\\\\u78ba\\\\u4fe1\\\\u3059\\\\u308b\\\\n\\\\n(9) \\\\u30dd\\\\u30c3\\\\u30d7\\\\u306f\\\\u3044\\\\u3064\\\\u304b\\\\u30c0\\\\u30a4\\\\u304c\\\\u623b\\\\u3063\\\\u3066\\\\u304f\\\\u308b\\\\u65e5\\\\u307e\\\\u3067\\\\u3001\\\\u4e16\\\\u754c\\\\u306e\\\\u5e73\\\\u548c\\\\u3092\\\\u81ea\\\\u5206\\\\u305f\\\\u3061\\\\u3067\\\\u5b88\\\\u308a\\\\u629c\\\\u304f\\\\u3053\\\\u3068\\\\u3092\\\\u8a93\\\\u3044\\\\u3001\\\\u518d\\\\u3073\\\\u30c0\\\\u30a4\\\\u3092\\\\u63a2\\\\u3059\\\\u65c5\\\\u306b\\\\u51fa\\\\u305f\\\\u306e\\\\u3060\\\\u3063\\\\u305f\\\\u3002\\\\n---------------------\\\\nUsing only the choices above and not prior knowledge, return the choice that is most relevant to the question: \\'\\\\u30cf\\\\u30c9\\\\u30e9\\\\u30fc\\\\u306f\\\\u6700\\\\u5f8c\\\\u3069\\\\u3046\\\\u306a\\\\u3063\\\\u305f\\\\u306e\\\\u304b\\\\u65e5\\\\u672c\\\\u8a9e\\\\u3067\\\\u6559\\\\u3048\\\\u3066\\'\\\\nProvide choice in the following format: \\'ANSWER: <number>\\' and explain why this summary was selected in relation to the question.\\\\n\"], \"model\": \"text-davinci-003\", \"temperature\": 0.0, \"max_tokens\": 256, \"top_p\": 1, \"frequency_penalty\": 0, \"presence_penalty\": 0, \"n\": 1, \"best_of\": 1, \"logit_bias\": {}}' message='Post details'\n"
     ]
    },
    {
     "name": "stdout",
     "output_type": "stream",
     "text": [
      "DEBUG:urllib3.connectionpool:https://api.openai.com:443 \"POST /v1/completions HTTP/1.1\" 200 587\n",
      "DEBUG:openai:message='OpenAI API response' path=https://api.openai.com/v1/completions processing_ms=2787 request_id=8b551cfcf7c49725d90f9e6c96f34710 response_code=200\n",
      "DEBUG:root:\n",
      "ANSWER: 2\n",
      "This summary was selected because it mentions that Handlar joined the fight against Burn and attempted to settle the conflict with the Apostles of Avan. It also mentions that Handlar was part of the group that infiltrated Burn Palace, which is relevant to the question of what happened to Handlar in the end.\n",
      "DEBUG:root:>[Level 1] current prompt template: Some choices are given below. It is provided in a numbered list (1 to 9),where each item in the list corresponds to a summary.\n",
      "---------------------\n",
      "(1) その後に現れたバーンとの直接対決において、ダイ一行は圧倒的な力の差の前に敗北するが、捨て駒にされたハドラーがバーンに反逆し、攻撃を仕掛けた隙に脱出する。  最終決戦 邪魔者を退けたバーンはバーンパレスを飛行させ、世界各地への爆撃を実行する\n",
      "\n",
      "(2) 一方、カール王国女王のフローラの協力も得て辛うじて生き延びたダイ一行は、5人目のアバンの使徒になったレオナを中心に大破邪呪文・ミナカトールを発動し、バーンパレスの動きを封じ突入する。更にアバンの使徒との決着を願うハドラーと親衛騎団も乱入し、激闘を繰り広げる\n",
      "\n",
      "(3) ダイはハドラーを倒すが、その直後にキルバーンが仕掛けた罠がダイ達を襲う。そこに駆けつけたのは、かつてフローラから託された「カールのまもり」が身代わりとなって生還し、密かに修行を続けていたアバンであった\n",
      "\n",
      "(4)   父・バランから受け継いだ竜の紋章の力でダイはバーンを追い詰めるが、バーンはミストバーンに預けていた肉体を使って真の姿となる。なおも地上消滅をなさんとするバーンを倒す最後の手段として、ダイは竜の騎士の戦闘形態である竜魔人となり、バーンも自らの魔力の源・鬼眼を解放し、鬼眼王と化す\n",
      "\n",
      "(5) 制御を失い崩壊しながら浮上を続けるバーンパレスごと宇宙空間で繰り広げられる両者の最後の激闘は、ダイの勝利で終わる。  エピローグ 地上に帰還したダイが仲間たちに迎えられ、皆が勝利を喜びあう中、バーンパレスの戦いでアバンに倒されたはずのキルバーンが現れ、自らの正体を明かす\n",
      "\n",
      "(6) キルバーンの真の主は、魔界におけるバーンのライバルで、バーンに先んじて地上征服を目論んだものの若き日のバランとの激闘の末に封印された冥竜王ヴェルザーであり、キルバーンはバーンの監視と暗殺を本来の目的としていたのだった\n",
      "\n",
      "(7) キルバーンはバーンをも倒したダイ一行を全滅させるべく、隠していた黒の核晶を起動させて絶望する一同を嘲笑い、魔界に逃げ帰ろうとする。アバンとマァムがキルバーンを倒すも、核晶の爆発はもはや止められない\n",
      "\n",
      "(8) ダイとポップは核晶を空高く運んでいくが、土壇場でダイはポップを地上に戻し、一人爆発の閃光の中に消えた。  数週間の捜索を経てもなお、ダイの姿は見つからなかった。だが、ロン・ベルクは持ち主の命と繋がっているダイの剣の、魔法宝玉が輝き続けていることから、ダイがどこかで生きていることを確信する\n",
      "\n",
      "(9) ポップはいつかダイが戻ってくる日まで、世界の平和を自分たちで守り抜くことを誓い、再びダイを探す旅に出たのだった。\n",
      "---------------------\n",
      "Using only the choices above and not prior knowledge, return the choice that is most relevant to the question: 'ハドラーは最後どうなったのか日本語で教えて'\n",
      "Provide choice in the following format: 'ANSWER: <number>' and explain why this summary was selected in relation to the question.\n",
      "\n",
      "INFO:root:>[Level 1] Selected node: [2]/[2]\n",
      "DEBUG:root:>[Level 1] Node [2] Summary text: 一方、カール王国女王のフローラの協力も得て辛うじて生き延びたダイ一行は、5人目のアバンの使徒になったレオナを中心に大破邪呪文・ミナカトールを発動し、バーンパレスの動きを封じ突入する。更にアバンの...\n",
      "DEBUG:root:>[Level 1] Searching in chunk: 一方、カール王国女王のフローラの協力も得て辛うじて生き延びたダイ一行は、5人目のアバンの使徒に...\n",
      "DEBUG:openai:message='Request to OpenAI API' method=post path=https://api.openai.com/v1/completions\n",
      "DEBUG:openai:api_version=None data='{\"prompt\": [\"Context information is below. \\\\n---------------------\\\\n\\\\u4e00\\\\u65b9\\\\u3001\\\\u30ab\\\\u30fc\\\\u30eb\\\\u738b\\\\u56fd\\\\u5973\\\\u738b\\\\u306e\\\\u30d5\\\\u30ed\\\\u30fc\\\\u30e9\\\\u306e\\\\u5354\\\\u529b\\\\u3082\\\\u5f97\\\\u3066\\\\u8f9b\\\\u3046\\\\u3058\\\\u3066\\\\u751f\\\\u304d\\\\u5ef6\\\\u3073\\\\u305f\\\\u30c0\\\\u30a4\\\\u4e00\\\\u884c\\\\u306f\\\\u30015\\\\u4eba\\\\u76ee\\\\u306e\\\\u30a2\\\\u30d0\\\\u30f3\\\\u306e\\\\u4f7f\\\\u5f92\\\\u306b\\\\u306a\\\\u3063\\\\u305f\\\\u30ec\\\\u30aa\\\\u30ca\\\\u3092\\\\u4e2d\\\\u5fc3\\\\u306b\\\\u5927\\\\u7834\\\\u90aa\\\\u546a\\\\u6587\\\\u30fb\\\\u30df\\\\u30ca\\\\u30ab\\\\u30c8\\\\u30fc\\\\u30eb\\\\u3092\\\\u767a\\\\u52d5\\\\u3057\\\\u3001\\\\u30d0\\\\u30fc\\\\u30f3\\\\u30d1\\\\u30ec\\\\u30b9\\\\u306e\\\\u52d5\\\\u304d\\\\u3092\\\\u5c01\\\\u3058\\\\u7a81\\\\u5165\\\\u3059\\\\u308b\\\\u3002\\\\u66f4\\\\u306b\\\\u30a2\\\\u30d0\\\\u30f3\\\\u306e\\\\u4f7f\\\\u5f92\\\\u3068\\\\u306e\\\\u6c7a\\\\u7740\\\\u3092\\\\u9858\\\\u3046\\\\u30cf\\\\u30c9\\\\u30e9\\\\u30fc\\\\u3068\\\\u89aa\\\\u885b\\\\u9a0e\\\\u56e3\\\\u3082\\\\u4e71\\\\u5165\\\\u3057\\\\u3001\\\\u6fc0\\\\u95d8\\\\u3092\\\\u7e70\\\\u308a\\\\u5e83\\\\u3052\\\\u308b\\\\n---------------------\\\\nGiven the context information and not prior knowledge, answer the question: \\\\u30cf\\\\u30c9\\\\u30e9\\\\u30fc\\\\u306f\\\\u6700\\\\u5f8c\\\\u3069\\\\u3046\\\\u306a\\\\u3063\\\\u305f\\\\u306e\\\\u304b\\\\u65e5\\\\u672c\\\\u8a9e\\\\u3067\\\\u6559\\\\u3048\\\\u3066\\\\n\"], \"model\": \"text-davinci-003\", \"temperature\": 0.0, \"max_tokens\": 256, \"top_p\": 1, \"frequency_penalty\": 0, \"presence_penalty\": 0, \"n\": 1, \"best_of\": 1, \"logit_bias\": {}}' message='Post details'\n",
      "DEBUG:urllib3.connectionpool:https://api.openai.com:443 \"POST /v1/completions HTTP/1.1\" 200 None\n",
      "DEBUG:openai:message='OpenAI API response' path=https://api.openai.com/v1/completions processing_ms=1542 request_id=7b209dfb7b3298cbfee4839c7c116490 response_code=200\n",
      "DEBUG:root:\n",
      "ハドラーは、ミナカトールを発動したレオナと決着をつけることができました。\n",
      "DEBUG:root:> Initial response: \n",
      "ハドラーは、ミナカトールを発動したレオナと決着をつけることができました。\n",
      "DEBUG:root:>[Level 1] Current answer response: \n",
      "ハドラーは、ミナカトールを発動したレオナと決着をつけることができました。 \n",
      "INFO:root:> [query] Total LLM token usage: 4130 tokens\n",
      "INFO:root:> [query] Total embedding token usage: 0 tokens\n",
      "INFO:root:> [query] Total LLM token usage: 4257 tokens\n",
      "INFO:root:> [query] Total embedding token usage: 0 tokens\n"
     ]
    }
   ],
   "source": [
    "response = graph.query(\"ハドラーは最後どうなったのか日本語で教えて\")"
   ]
  },
  {
   "cell_type": "code",
   "execution_count": 132,
   "id": "ac3fb8fb",
   "metadata": {},
   "outputs": [
    {
     "data": {
      "text/plain": [
       "'> Source (Doc id: 38f1d4b1-3314-4635-a146-82951b12f846): \\n十数年前、魔王ハドラー率いる魔王軍と勇者率いる勇者パーティの戦いは、勇者パーティの勝利で終わり、魔王の配下であったモンスターも魔王の支配から解き放たれ、世界に平和が訪れた。それから十数年後、デ...\\n\\n> Source (Doc id: 4c0af764-8c18-4260-9cf1-6ec986556b97): 一方、カール王国女王のフローラの協力も得て辛うじて生き延びたダイ一行は、5人目のアバンの使徒になったレオナを中心に大破邪呪文・ミナカトールを発動し、バーンパレスの動きを封じ突入する。更にアバンの...'"
      ]
     },
     "execution_count": 132,
     "metadata": {},
     "output_type": "execute_result"
    }
   ],
   "source": [
    "response.get_formatted_sources()"
   ]
  },
  {
   "cell_type": "code",
   "execution_count": null,
   "id": "27051c11",
   "metadata": {},
   "outputs": [],
   "source": []
  }
 ],
 "metadata": {
  "kernelspec": {
   "display_name": "Python 3 (ipykernel)",
   "language": "python",
   "name": "python3"
  },
  "language_info": {
   "codemirror_mode": {
    "name": "ipython",
    "version": 3
   },
   "file_extension": ".py",
   "mimetype": "text/x-python",
   "name": "python",
   "nbconvert_exporter": "python",
   "pygments_lexer": "ipython3",
   "version": "3.11.0"
  }
 },
 "nbformat": 4,
 "nbformat_minor": 5
}

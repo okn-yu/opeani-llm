{
 "cells": [
  {
   "cell_type": "markdown",
   "id": "b0ae5eb1",
   "metadata": {},
   "source": [
    "# 概要\n",
    "* llama_indexのPromptHelperを触ってみる\n",
    "\n",
    "# 参考\n",
    "* トークンの制約に対応するための汎用プロンプトサポートツール\n",
    "* https://gpt-index.readthedocs.io/en/latest/reference/prompt_helper.html"
   ]
  },
  {
   "cell_type": "code",
   "execution_count": 1,
   "id": "d0bdc17b",
   "metadata": {},
   "outputs": [],
   "source": [
    "import os\n",
    "import openai\n",
    "\n",
    "openai.api_key = os.getenv(\"OPENAI_API_KEY\")"
   ]
  },
  {
   "cell_type": "code",
   "execution_count": 2,
   "id": "382f4e9d",
   "metadata": {},
   "outputs": [],
   "source": [
    "#Jupyterでも実行できるのは知らんかった...\n",
    "import logging\n",
    "import sys\n",
    "logging.basicConfig(stream=sys.stdout, level=logging.DEBUG, force=True)"
   ]
  },
  {
   "cell_type": "markdown",
   "id": "44238731",
   "metadata": {},
   "source": [
    "# PromptHelperとは\n",
    "* トークンの制約に対応するための汎用プロンプトサポートツール\n",
    "\n",
    "# LLM（Large Language Model）\n",
    "* PromptHelperの引数の大部分はLLMに関連する\n",
    "* つまり最初にLLMが何かを理解する必要がある\n",
    "* (そもそも入力されたPromptをparseするのはLLMなのでPromptHelperがLLMを引数にとるのは当然である)\n",
    "* 詳細はここを見よ！\n",
    "* https://gpt-index.readthedocs.io/en/latest/reference/llm_predictor.html\n",
    "\n",
    "# そもそも\n",
    "* LLMPredictorとはLangchainのLLMChainのラッパーであり、LlamdaIndexと統合することができる\n",
    "* LLMChain ↔ LLMPrecitor ↔ LlamdaIndex\n",
    "* Our LLMPredictor is a wrapper around Langchain’s LLMChain that allows easy integration into LlamaIndex.\n",
    "* llmを引数にとり、デフォルトではOpenAI’s text-davinci-003が指定される\n",
    "* max_input_size: int = 3900, num_output: int = 256\n",
    "* デフォルトでは入力は3900トークンで出力は256トークン\n",
    "* つまり長文の回答はできない\n",
    "\n",
    "# 引数のllm\n",
    "* OpenAI以外にいも複数のLLMをサポートしている\n",
    "* OpenAI, Cohere, Hugging Face, etc\n",
    "* Llama_indexは自身でLLMはサポートしておらず、あくまでもlangchainを介して呼び出しを行う？"
   ]
  },
  {
   "cell_type": "code",
   "execution_count": 3,
   "id": "68f1f5f5",
   "metadata": {},
   "outputs": [],
   "source": [
    "from gpt_index import LLMPredictor, GPTSimpleVectorIndex, SimpleDirectoryReader"
   ]
  },
  {
   "cell_type": "code",
   "execution_count": 4,
   "id": "fdd9bbb8",
   "metadata": {},
   "outputs": [],
   "source": [
    "# OpenAIのAPIのラッパー\n",
    "from langchain.llms import OpenAI"
   ]
  },
  {
   "cell_type": "markdown",
   "id": "31e649a1",
   "metadata": {},
   "source": [
    "# 利用例"
   ]
  },
  {
   "cell_type": "code",
   "execution_count": 10,
   "id": "191f4247",
   "metadata": {},
   "outputs": [],
   "source": [
    "prompt = \"\"\"\n",
    "「オントロジー」という用語は、哲学が起源であるが、多くの異なる意味で用いられる。単語『オントロジー』は、ギリシャ語で「存在」を意味する ὄν (on) から来ている。計算機科学では、タイプ、特性、および関係タイプのセットから成る世界を記述するためのモデルを指すことが多い。正確にこれらの変化の周りに準備されるものは様々だが、それらはオントロジーの必需品である。実世界と一つのオントロジーでのモデルの特徴との間の近い類似性が一般に期待されている[3]。 多くのオントロジーが計算機科学と哲学の両方で共通に持っているものは、エンティティ、アイデア、およびイベントに関する特性と関係とともに、それらをある分類システムに沿って表現することである。両方のフィールドで、存在論的相対性の問題（例えば、哲学ではQuineとKripke、計算機科学ではSowa（英語版）とGuarino（英語版））において重要な作業を見つけ出し、そして規範的（英語版）オントロジーが実行可能かどうかに関わる討議をする（例えば、哲学における基本[4]を議論し、AIにおけるCycプロジェクトを議論する）ことである。2つの間の相違は主として焦点の問題である。計算機科学者が第一次原則の議論（そのようなものが固定化された本質として存在するかどうか、あるいはエンティティがプロセスよりオントロジー的により一次的でなければならないかどうかのような議論）にあまり関わらない一方で、哲学者は計算機科学における研究者より固定化され統制された語彙を確立することにそれほど関心がない。哲学者は人間のための思考道具としてオントロジーを用いるのに対して、計算機科学者は計算機処理を考えるために人間が使う思考道具としてオントロジーを用いたいという立ち位置の違いによる。\n",
    "\"\"\""
   ]
  },
  {
   "cell_type": "code",
   "execution_count": 11,
   "id": "09d6194a",
   "metadata": {},
   "outputs": [
    {
     "name": "stdout",
     "output_type": "stream",
     "text": [
      "DEBUG:openai:message='Request to OpenAI API' method=post path=https://api.openai.com/v1/completions\n",
      "DEBUG:openai:api_version=None data='{\"model\": \"text-davinci-003\", \"prompt\": \"\\\\n\\\\u300c\\\\u30aa\\\\u30f3\\\\u30c8\\\\u30ed\\\\u30b8\\\\u30fc\\\\u300d\\\\u3068\\\\u3044\\\\u3046\\\\u7528\\\\u8a9e\\\\u306f\\\\u3001\\\\u54f2\\\\u5b66\\\\u304c\\\\u8d77\\\\u6e90\\\\u3067\\\\u3042\\\\u308b\\\\u304c\\\\u3001\\\\u591a\\\\u304f\\\\u306e\\\\u7570\\\\u306a\\\\u308b\\\\u610f\\\\u5473\\\\u3067\\\\u7528\\\\u3044\\\\u3089\\\\u308c\\\\u308b\\\\u3002\\\\u5358\\\\u8a9e\\\\u300e\\\\u30aa\\\\u30f3\\\\u30c8\\\\u30ed\\\\u30b8\\\\u30fc\\\\u300f\\\\u306f\\\\u3001\\\\u30ae\\\\u30ea\\\\u30b7\\\\u30e3\\\\u8a9e\\\\u3067\\\\u300c\\\\u5b58\\\\u5728\\\\u300d\\\\u3092\\\\u610f\\\\u5473\\\\u3059\\\\u308b \\\\u1f44\\\\u03bd (on) \\\\u304b\\\\u3089\\\\u6765\\\\u3066\\\\u3044\\\\u308b\\\\u3002\\\\u8a08\\\\u7b97\\\\u6a5f\\\\u79d1\\\\u5b66\\\\u3067\\\\u306f\\\\u3001\\\\u30bf\\\\u30a4\\\\u30d7\\\\u3001\\\\u7279\\\\u6027\\\\u3001\\\\u304a\\\\u3088\\\\u3073\\\\u95a2\\\\u4fc2\\\\u30bf\\\\u30a4\\\\u30d7\\\\u306e\\\\u30bb\\\\u30c3\\\\u30c8\\\\u304b\\\\u3089\\\\u6210\\\\u308b\\\\u4e16\\\\u754c\\\\u3092\\\\u8a18\\\\u8ff0\\\\u3059\\\\u308b\\\\u305f\\\\u3081\\\\u306e\\\\u30e2\\\\u30c7\\\\u30eb\\\\u3092\\\\u6307\\\\u3059\\\\u3053\\\\u3068\\\\u304c\\\\u591a\\\\u3044\\\\u3002\\\\u6b63\\\\u78ba\\\\u306b\\\\u3053\\\\u308c\\\\u3089\\\\u306e\\\\u5909\\\\u5316\\\\u306e\\\\u5468\\\\u308a\\\\u306b\\\\u6e96\\\\u5099\\\\u3055\\\\u308c\\\\u308b\\\\u3082\\\\u306e\\\\u306f\\\\u69d8\\\\u3005\\\\u3060\\\\u304c\\\\u3001\\\\u305d\\\\u308c\\\\u3089\\\\u306f\\\\u30aa\\\\u30f3\\\\u30c8\\\\u30ed\\\\u30b8\\\\u30fc\\\\u306e\\\\u5fc5\\\\u9700\\\\u54c1\\\\u3067\\\\u3042\\\\u308b\\\\u3002\\\\u5b9f\\\\u4e16\\\\u754c\\\\u3068\\\\u4e00\\\\u3064\\\\u306e\\\\u30aa\\\\u30f3\\\\u30c8\\\\u30ed\\\\u30b8\\\\u30fc\\\\u3067\\\\u306e\\\\u30e2\\\\u30c7\\\\u30eb\\\\u306e\\\\u7279\\\\u5fb4\\\\u3068\\\\u306e\\\\u9593\\\\u306e\\\\u8fd1\\\\u3044\\\\u985e\\\\u4f3c\\\\u6027\\\\u304c\\\\u4e00\\\\u822c\\\\u306b\\\\u671f\\\\u5f85\\\\u3055\\\\u308c\\\\u3066\\\\u3044\\\\u308b[3]\\\\u3002 \\\\u591a\\\\u304f\\\\u306e\\\\u30aa\\\\u30f3\\\\u30c8\\\\u30ed\\\\u30b8\\\\u30fc\\\\u304c\\\\u8a08\\\\u7b97\\\\u6a5f\\\\u79d1\\\\u5b66\\\\u3068\\\\u54f2\\\\u5b66\\\\u306e\\\\u4e21\\\\u65b9\\\\u3067\\\\u5171\\\\u901a\\\\u306b\\\\u6301\\\\u3063\\\\u3066\\\\u3044\\\\u308b\\\\u3082\\\\u306e\\\\u306f\\\\u3001\\\\u30a8\\\\u30f3\\\\u30c6\\\\u30a3\\\\u30c6\\\\u30a3\\\\u3001\\\\u30a2\\\\u30a4\\\\u30c7\\\\u30a2\\\\u3001\\\\u304a\\\\u3088\\\\u3073\\\\u30a4\\\\u30d9\\\\u30f3\\\\u30c8\\\\u306b\\\\u95a2\\\\u3059\\\\u308b\\\\u7279\\\\u6027\\\\u3068\\\\u95a2\\\\u4fc2\\\\u3068\\\\u3068\\\\u3082\\\\u306b\\\\u3001\\\\u305d\\\\u308c\\\\u3089\\\\u3092\\\\u3042\\\\u308b\\\\u5206\\\\u985e\\\\u30b7\\\\u30b9\\\\u30c6\\\\u30e0\\\\u306b\\\\u6cbf\\\\u3063\\\\u3066\\\\u8868\\\\u73fe\\\\u3059\\\\u308b\\\\u3053\\\\u3068\\\\u3067\\\\u3042\\\\u308b\\\\u3002\\\\u4e21\\\\u65b9\\\\u306e\\\\u30d5\\\\u30a3\\\\u30fc\\\\u30eb\\\\u30c9\\\\u3067\\\\u3001\\\\u5b58\\\\u5728\\\\u8ad6\\\\u7684\\\\u76f8\\\\u5bfe\\\\u6027\\\\u306e\\\\u554f\\\\u984c\\\\uff08\\\\u4f8b\\\\u3048\\\\u3070\\\\u3001\\\\u54f2\\\\u5b66\\\\u3067\\\\u306fQuine\\\\u3068Kripke\\\\u3001\\\\u8a08\\\\u7b97\\\\u6a5f\\\\u79d1\\\\u5b66\\\\u3067\\\\u306fSowa\\\\uff08\\\\u82f1\\\\u8a9e\\\\u7248\\\\uff09\\\\u3068Guarino\\\\uff08\\\\u82f1\\\\u8a9e\\\\u7248\\\\uff09\\\\uff09\\\\u306b\\\\u304a\\\\u3044\\\\u3066\\\\u91cd\\\\u8981\\\\u306a\\\\u4f5c\\\\u696d\\\\u3092\\\\u898b\\\\u3064\\\\u3051\\\\u51fa\\\\u3057\\\\u3001\\\\u305d\\\\u3057\\\\u3066\\\\u898f\\\\u7bc4\\\\u7684\\\\uff08\\\\u82f1\\\\u8a9e\\\\u7248\\\\uff09\\\\u30aa\\\\u30f3\\\\u30c8\\\\u30ed\\\\u30b8\\\\u30fc\\\\u304c\\\\u5b9f\\\\u884c\\\\u53ef\\\\u80fd\\\\u304b\\\\u3069\\\\u3046\\\\u304b\\\\u306b\\\\u95a2\\\\u308f\\\\u308b\\\\u8a0e\\\\u8b70\\\\u3092\\\\u3059\\\\u308b\\\\uff08\\\\u4f8b\\\\u3048\\\\u3070\\\\u3001\\\\u54f2\\\\u5b66\\\\u306b\\\\u304a\\\\u3051\\\\u308b\\\\u57fa\\\\u672c[4]\\\\u3092\\\\u8b70\\\\u8ad6\\\\u3057\\\\u3001AI\\\\u306b\\\\u304a\\\\u3051\\\\u308bCyc\\\\u30d7\\\\u30ed\\\\u30b8\\\\u30a7\\\\u30af\\\\u30c8\\\\u3092\\\\u8b70\\\\u8ad6\\\\u3059\\\\u308b\\\\uff09\\\\u3053\\\\u3068\\\\u3067\\\\u3042\\\\u308b\\\\u30022\\\\u3064\\\\u306e\\\\u9593\\\\u306e\\\\u76f8\\\\u9055\\\\u306f\\\\u4e3b\\\\u3068\\\\u3057\\\\u3066\\\\u7126\\\\u70b9\\\\u306e\\\\u554f\\\\u984c\\\\u3067\\\\u3042\\\\u308b\\\\u3002\\\\u8a08\\\\u7b97\\\\u6a5f\\\\u79d1\\\\u5b66\\\\u8005\\\\u304c\\\\u7b2c\\\\u4e00\\\\u6b21\\\\u539f\\\\u5247\\\\u306e\\\\u8b70\\\\u8ad6\\\\uff08\\\\u305d\\\\u306e\\\\u3088\\\\u3046\\\\u306a\\\\u3082\\\\u306e\\\\u304c\\\\u56fa\\\\u5b9a\\\\u5316\\\\u3055\\\\u308c\\\\u305f\\\\u672c\\\\u8cea\\\\u3068\\\\u3057\\\\u3066\\\\u5b58\\\\u5728\\\\u3059\\\\u308b\\\\u304b\\\\u3069\\\\u3046\\\\u304b\\\\u3001\\\\u3042\\\\u308b\\\\u3044\\\\u306f\\\\u30a8\\\\u30f3\\\\u30c6\\\\u30a3\\\\u30c6\\\\u30a3\\\\u304c\\\\u30d7\\\\u30ed\\\\u30bb\\\\u30b9\\\\u3088\\\\u308a\\\\u30aa\\\\u30f3\\\\u30c8\\\\u30ed\\\\u30b8\\\\u30fc\\\\u7684\\\\u306b\\\\u3088\\\\u308a\\\\u4e00\\\\u6b21\\\\u7684\\\\u3067\\\\u306a\\\\u3051\\\\u308c\\\\u3070\\\\u306a\\\\u3089\\\\u306a\\\\u3044\\\\u304b\\\\u3069\\\\u3046\\\\u304b\\\\u306e\\\\u3088\\\\u3046\\\\u306a\\\\u8b70\\\\u8ad6\\\\uff09\\\\u306b\\\\u3042\\\\u307e\\\\u308a\\\\u95a2\\\\u308f\\\\u3089\\\\u306a\\\\u3044\\\\u4e00\\\\u65b9\\\\u3067\\\\u3001\\\\u54f2\\\\u5b66\\\\u8005\\\\u306f\\\\u8a08\\\\u7b97\\\\u6a5f\\\\u79d1\\\\u5b66\\\\u306b\\\\u304a\\\\u3051\\\\u308b\\\\u7814\\\\u7a76\\\\u8005\\\\u3088\\\\u308a\\\\u56fa\\\\u5b9a\\\\u5316\\\\u3055\\\\u308c\\\\u7d71\\\\u5236\\\\u3055\\\\u308c\\\\u305f\\\\u8a9e\\\\u5f59\\\\u3092\\\\u78ba\\\\u7acb\\\\u3059\\\\u308b\\\\u3053\\\\u3068\\\\u306b\\\\u305d\\\\u308c\\\\u307b\\\\u3069\\\\u95a2\\\\u5fc3\\\\u304c\\\\u306a\\\\u3044\\\\u3002\\\\u54f2\\\\u5b66\\\\u8005\\\\u306f\\\\u4eba\\\\u9593\\\\u306e\\\\u305f\\\\u3081\\\\u306e\\\\u601d\\\\u8003\\\\u9053\\\\u5177\\\\u3068\\\\u3057\\\\u3066\\\\u30aa\\\\u30f3\\\\u30c8\\\\u30ed\\\\u30b8\\\\u30fc\\\\u3092\\\\u7528\\\\u3044\\\\u308b\\\\u306e\\\\u306b\\\\u5bfe\\\\u3057\\\\u3066\\\\u3001\\\\u8a08\\\\u7b97\\\\u6a5f\\\\u79d1\\\\u5b66\\\\u8005\\\\u306f\\\\u8a08\\\\u7b97\\\\u6a5f\\\\u51e6\\\\u7406\\\\u3092\\\\u8003\\\\u3048\\\\u308b\\\\u305f\\\\u3081\\\\u306b\\\\u4eba\\\\u9593\\\\u304c\\\\u4f7f\\\\u3046\\\\u601d\\\\u8003\\\\u9053\\\\u5177\\\\u3068\\\\u3057\\\\u3066\\\\u30aa\\\\u30f3\\\\u30c8\\\\u30ed\\\\u30b8\\\\u30fc\\\\u3092\\\\u7528\\\\u3044\\\\u305f\\\\u3044\\\\u3068\\\\u3044\\\\u3046\\\\u7acb\\\\u3061\\\\u4f4d\\\\u7f6e\\\\u306e\\\\u9055\\\\u3044\\\\u306b\\\\u3088\\\\u308b\\\\u3002\\\\n\", \"temperature\": 0, \"max_tokens\": 4096}' message='Post details'\n",
      "DEBUG:urllib3.connectionpool:https://api.openai.com:443 \"POST /v1/completions HTTP/1.1\" 400 295\n",
      "DEBUG:openai:message='OpenAI API response' path=https://api.openai.com/v1/completions processing_ms=13 request_id=eda63c3d2caacbdf605c036cf05b3946 response_code=400\n",
      "INFO:openai:error_code=None error_message=\"This model's maximum context length is 4097 tokens, however you requested 5172 tokens (1076 in your prompt; 4096 for the completion). Please reduce your prompt; or completion length.\" error_param=None error_type=invalid_request_error message='OpenAI API error received' stream_error=False\n"
     ]
    },
    {
     "ename": "InvalidRequestError",
     "evalue": "This model's maximum context length is 4097 tokens, however you requested 5172 tokens (1076 in your prompt; 4096 for the completion). Please reduce your prompt; or completion length.",
     "output_type": "error",
     "traceback": [
      "\u001b[0;31m---------------------------------------------------------------------------\u001b[0m",
      "\u001b[0;31mInvalidRequestError\u001b[0m                       Traceback (most recent call last)",
      "Cell \u001b[0;32mIn[11], line 1\u001b[0m\n\u001b[0;32m----> 1\u001b[0m res \u001b[38;5;241m=\u001b[39m \u001b[43mopenai\u001b[49m\u001b[38;5;241;43m.\u001b[39;49m\u001b[43mCompletion\u001b[49m\u001b[38;5;241;43m.\u001b[39;49m\u001b[43mcreate\u001b[49m\u001b[43m(\u001b[49m\n\u001b[1;32m      2\u001b[0m \u001b[43m    \u001b[49m\u001b[43mmodel\u001b[49m\u001b[38;5;241;43m=\u001b[39;49m\u001b[38;5;124;43m\"\u001b[39;49m\u001b[38;5;124;43mtext-davinci-003\u001b[39;49m\u001b[38;5;124;43m\"\u001b[39;49m\u001b[43m,\u001b[49m\n\u001b[1;32m      3\u001b[0m \u001b[43m    \u001b[49m\u001b[43mprompt\u001b[49m\u001b[38;5;241;43m=\u001b[39;49m\u001b[43mprompt\u001b[49m\u001b[43m,\u001b[49m\n\u001b[1;32m      4\u001b[0m \u001b[43m    \u001b[49m\u001b[43mtemperature\u001b[49m\u001b[38;5;241;43m=\u001b[39;49m\u001b[38;5;241;43m0\u001b[39;49m\u001b[43m,\u001b[49m\n\u001b[1;32m      5\u001b[0m \u001b[43m    \u001b[49m\u001b[43mmax_tokens\u001b[49m\u001b[38;5;241;43m=\u001b[39;49m\u001b[38;5;241;43m4096\u001b[39;49m\n\u001b[1;32m      6\u001b[0m \u001b[43m)\u001b[49m\n\u001b[1;32m      8\u001b[0m \u001b[38;5;28mprint\u001b[39m(res)\n\u001b[1;32m      9\u001b[0m \u001b[38;5;28mprint\u001b[39m(res\u001b[38;5;241m.\u001b[39mchoices[\u001b[38;5;241m0\u001b[39m]\u001b[38;5;241m.\u001b[39mtext)\n",
      "File \u001b[0;32m~/opt/anaconda3/envs/openai/lib/python3.11/site-packages/openai/api_resources/completion.py:25\u001b[0m, in \u001b[0;36mCompletion.create\u001b[0;34m(cls, *args, **kwargs)\u001b[0m\n\u001b[1;32m     23\u001b[0m \u001b[38;5;28;01mwhile\u001b[39;00m \u001b[38;5;28;01mTrue\u001b[39;00m:\n\u001b[1;32m     24\u001b[0m     \u001b[38;5;28;01mtry\u001b[39;00m:\n\u001b[0;32m---> 25\u001b[0m         \u001b[38;5;28;01mreturn\u001b[39;00m \u001b[38;5;28;43msuper\u001b[39;49m\u001b[43m(\u001b[49m\u001b[43m)\u001b[49m\u001b[38;5;241;43m.\u001b[39;49m\u001b[43mcreate\u001b[49m\u001b[43m(\u001b[49m\u001b[38;5;241;43m*\u001b[39;49m\u001b[43margs\u001b[49m\u001b[43m,\u001b[49m\u001b[43m \u001b[49m\u001b[38;5;241;43m*\u001b[39;49m\u001b[38;5;241;43m*\u001b[39;49m\u001b[43mkwargs\u001b[49m\u001b[43m)\u001b[49m\n\u001b[1;32m     26\u001b[0m     \u001b[38;5;28;01mexcept\u001b[39;00m TryAgain \u001b[38;5;28;01mas\u001b[39;00m e:\n\u001b[1;32m     27\u001b[0m         \u001b[38;5;28;01mif\u001b[39;00m timeout \u001b[38;5;129;01mis\u001b[39;00m \u001b[38;5;129;01mnot\u001b[39;00m \u001b[38;5;28;01mNone\u001b[39;00m \u001b[38;5;129;01mand\u001b[39;00m time\u001b[38;5;241m.\u001b[39mtime() \u001b[38;5;241m>\u001b[39m start \u001b[38;5;241m+\u001b[39m timeout:\n",
      "File \u001b[0;32m~/opt/anaconda3/envs/openai/lib/python3.11/site-packages/openai/api_resources/abstract/engine_api_resource.py:153\u001b[0m, in \u001b[0;36mEngineAPIResource.create\u001b[0;34m(cls, api_key, api_base, api_type, request_id, api_version, organization, **params)\u001b[0m\n\u001b[1;32m    127\u001b[0m \u001b[38;5;129m@classmethod\u001b[39m\n\u001b[1;32m    128\u001b[0m \u001b[38;5;28;01mdef\u001b[39;00m \u001b[38;5;21mcreate\u001b[39m(\n\u001b[1;32m    129\u001b[0m     \u001b[38;5;28mcls\u001b[39m,\n\u001b[0;32m   (...)\u001b[0m\n\u001b[1;32m    136\u001b[0m     \u001b[38;5;241m*\u001b[39m\u001b[38;5;241m*\u001b[39mparams,\n\u001b[1;32m    137\u001b[0m ):\n\u001b[1;32m    138\u001b[0m     (\n\u001b[1;32m    139\u001b[0m         deployment_id,\n\u001b[1;32m    140\u001b[0m         engine,\n\u001b[0;32m   (...)\u001b[0m\n\u001b[1;32m    150\u001b[0m         api_key, api_base, api_type, api_version, organization, \u001b[38;5;241m*\u001b[39m\u001b[38;5;241m*\u001b[39mparams\n\u001b[1;32m    151\u001b[0m     )\n\u001b[0;32m--> 153\u001b[0m     response, _, api_key \u001b[38;5;241m=\u001b[39m \u001b[43mrequestor\u001b[49m\u001b[38;5;241;43m.\u001b[39;49m\u001b[43mrequest\u001b[49m\u001b[43m(\u001b[49m\n\u001b[1;32m    154\u001b[0m \u001b[43m        \u001b[49m\u001b[38;5;124;43m\"\u001b[39;49m\u001b[38;5;124;43mpost\u001b[39;49m\u001b[38;5;124;43m\"\u001b[39;49m\u001b[43m,\u001b[49m\n\u001b[1;32m    155\u001b[0m \u001b[43m        \u001b[49m\u001b[43murl\u001b[49m\u001b[43m,\u001b[49m\n\u001b[1;32m    156\u001b[0m \u001b[43m        \u001b[49m\u001b[43mparams\u001b[49m\u001b[38;5;241;43m=\u001b[39;49m\u001b[43mparams\u001b[49m\u001b[43m,\u001b[49m\n\u001b[1;32m    157\u001b[0m \u001b[43m        \u001b[49m\u001b[43mheaders\u001b[49m\u001b[38;5;241;43m=\u001b[39;49m\u001b[43mheaders\u001b[49m\u001b[43m,\u001b[49m\n\u001b[1;32m    158\u001b[0m \u001b[43m        \u001b[49m\u001b[43mstream\u001b[49m\u001b[38;5;241;43m=\u001b[39;49m\u001b[43mstream\u001b[49m\u001b[43m,\u001b[49m\n\u001b[1;32m    159\u001b[0m \u001b[43m        \u001b[49m\u001b[43mrequest_id\u001b[49m\u001b[38;5;241;43m=\u001b[39;49m\u001b[43mrequest_id\u001b[49m\u001b[43m,\u001b[49m\n\u001b[1;32m    160\u001b[0m \u001b[43m        \u001b[49m\u001b[43mrequest_timeout\u001b[49m\u001b[38;5;241;43m=\u001b[39;49m\u001b[43mrequest_timeout\u001b[49m\u001b[43m,\u001b[49m\n\u001b[1;32m    161\u001b[0m \u001b[43m    \u001b[49m\u001b[43m)\u001b[49m\n\u001b[1;32m    163\u001b[0m     \u001b[38;5;28;01mif\u001b[39;00m stream:\n\u001b[1;32m    164\u001b[0m         \u001b[38;5;66;03m# must be an iterator\u001b[39;00m\n\u001b[1;32m    165\u001b[0m         \u001b[38;5;28;01massert\u001b[39;00m \u001b[38;5;129;01mnot\u001b[39;00m \u001b[38;5;28misinstance\u001b[39m(response, OpenAIResponse)\n",
      "File \u001b[0;32m~/opt/anaconda3/envs/openai/lib/python3.11/site-packages/openai/api_requestor.py:226\u001b[0m, in \u001b[0;36mAPIRequestor.request\u001b[0;34m(self, method, url, params, headers, files, stream, request_id, request_timeout)\u001b[0m\n\u001b[1;32m    205\u001b[0m \u001b[38;5;28;01mdef\u001b[39;00m \u001b[38;5;21mrequest\u001b[39m(\n\u001b[1;32m    206\u001b[0m     \u001b[38;5;28mself\u001b[39m,\n\u001b[1;32m    207\u001b[0m     method,\n\u001b[0;32m   (...)\u001b[0m\n\u001b[1;32m    214\u001b[0m     request_timeout: Optional[Union[\u001b[38;5;28mfloat\u001b[39m, Tuple[\u001b[38;5;28mfloat\u001b[39m, \u001b[38;5;28mfloat\u001b[39m]]] \u001b[38;5;241m=\u001b[39m \u001b[38;5;28;01mNone\u001b[39;00m,\n\u001b[1;32m    215\u001b[0m ) \u001b[38;5;241m-\u001b[39m\u001b[38;5;241m>\u001b[39m Tuple[Union[OpenAIResponse, Iterator[OpenAIResponse]], \u001b[38;5;28mbool\u001b[39m, \u001b[38;5;28mstr\u001b[39m]:\n\u001b[1;32m    216\u001b[0m     result \u001b[38;5;241m=\u001b[39m \u001b[38;5;28mself\u001b[39m\u001b[38;5;241m.\u001b[39mrequest_raw(\n\u001b[1;32m    217\u001b[0m         method\u001b[38;5;241m.\u001b[39mlower(),\n\u001b[1;32m    218\u001b[0m         url,\n\u001b[0;32m   (...)\u001b[0m\n\u001b[1;32m    224\u001b[0m         request_timeout\u001b[38;5;241m=\u001b[39mrequest_timeout,\n\u001b[1;32m    225\u001b[0m     )\n\u001b[0;32m--> 226\u001b[0m     resp, got_stream \u001b[38;5;241m=\u001b[39m \u001b[38;5;28;43mself\u001b[39;49m\u001b[38;5;241;43m.\u001b[39;49m\u001b[43m_interpret_response\u001b[49m\u001b[43m(\u001b[49m\u001b[43mresult\u001b[49m\u001b[43m,\u001b[49m\u001b[43m \u001b[49m\u001b[43mstream\u001b[49m\u001b[43m)\u001b[49m\n\u001b[1;32m    227\u001b[0m     \u001b[38;5;28;01mreturn\u001b[39;00m resp, got_stream, \u001b[38;5;28mself\u001b[39m\u001b[38;5;241m.\u001b[39mapi_key\n",
      "File \u001b[0;32m~/opt/anaconda3/envs/openai/lib/python3.11/site-packages/openai/api_requestor.py:619\u001b[0m, in \u001b[0;36mAPIRequestor._interpret_response\u001b[0;34m(self, result, stream)\u001b[0m\n\u001b[1;32m    611\u001b[0m     \u001b[38;5;28;01mreturn\u001b[39;00m (\n\u001b[1;32m    612\u001b[0m         \u001b[38;5;28mself\u001b[39m\u001b[38;5;241m.\u001b[39m_interpret_response_line(\n\u001b[1;32m    613\u001b[0m             line, result\u001b[38;5;241m.\u001b[39mstatus_code, result\u001b[38;5;241m.\u001b[39mheaders, stream\u001b[38;5;241m=\u001b[39m\u001b[38;5;28;01mTrue\u001b[39;00m\n\u001b[1;32m    614\u001b[0m         )\n\u001b[1;32m    615\u001b[0m         \u001b[38;5;28;01mfor\u001b[39;00m line \u001b[38;5;129;01min\u001b[39;00m parse_stream(result\u001b[38;5;241m.\u001b[39miter_lines())\n\u001b[1;32m    616\u001b[0m     ), \u001b[38;5;28;01mTrue\u001b[39;00m\n\u001b[1;32m    617\u001b[0m \u001b[38;5;28;01melse\u001b[39;00m:\n\u001b[1;32m    618\u001b[0m     \u001b[38;5;28;01mreturn\u001b[39;00m (\n\u001b[0;32m--> 619\u001b[0m         \u001b[38;5;28;43mself\u001b[39;49m\u001b[38;5;241;43m.\u001b[39;49m\u001b[43m_interpret_response_line\u001b[49m\u001b[43m(\u001b[49m\n\u001b[1;32m    620\u001b[0m \u001b[43m            \u001b[49m\u001b[43mresult\u001b[49m\u001b[38;5;241;43m.\u001b[39;49m\u001b[43mcontent\u001b[49m\u001b[38;5;241;43m.\u001b[39;49m\u001b[43mdecode\u001b[49m\u001b[43m(\u001b[49m\u001b[38;5;124;43m\"\u001b[39;49m\u001b[38;5;124;43mutf-8\u001b[39;49m\u001b[38;5;124;43m\"\u001b[39;49m\u001b[43m)\u001b[49m\u001b[43m,\u001b[49m\n\u001b[1;32m    621\u001b[0m \u001b[43m            \u001b[49m\u001b[43mresult\u001b[49m\u001b[38;5;241;43m.\u001b[39;49m\u001b[43mstatus_code\u001b[49m\u001b[43m,\u001b[49m\n\u001b[1;32m    622\u001b[0m \u001b[43m            \u001b[49m\u001b[43mresult\u001b[49m\u001b[38;5;241;43m.\u001b[39;49m\u001b[43mheaders\u001b[49m\u001b[43m,\u001b[49m\n\u001b[1;32m    623\u001b[0m \u001b[43m            \u001b[49m\u001b[43mstream\u001b[49m\u001b[38;5;241;43m=\u001b[39;49m\u001b[38;5;28;43;01mFalse\u001b[39;49;00m\u001b[43m,\u001b[49m\n\u001b[1;32m    624\u001b[0m \u001b[43m        \u001b[49m\u001b[43m)\u001b[49m,\n\u001b[1;32m    625\u001b[0m         \u001b[38;5;28;01mFalse\u001b[39;00m,\n\u001b[1;32m    626\u001b[0m     )\n",
      "File \u001b[0;32m~/opt/anaconda3/envs/openai/lib/python3.11/site-packages/openai/api_requestor.py:679\u001b[0m, in \u001b[0;36mAPIRequestor._interpret_response_line\u001b[0;34m(self, rbody, rcode, rheaders, stream)\u001b[0m\n\u001b[1;32m    677\u001b[0m stream_error \u001b[38;5;241m=\u001b[39m stream \u001b[38;5;129;01mand\u001b[39;00m \u001b[38;5;124m\"\u001b[39m\u001b[38;5;124merror\u001b[39m\u001b[38;5;124m\"\u001b[39m \u001b[38;5;129;01min\u001b[39;00m resp\u001b[38;5;241m.\u001b[39mdata\n\u001b[1;32m    678\u001b[0m \u001b[38;5;28;01mif\u001b[39;00m stream_error \u001b[38;5;129;01mor\u001b[39;00m \u001b[38;5;129;01mnot\u001b[39;00m \u001b[38;5;241m200\u001b[39m \u001b[38;5;241m<\u001b[39m\u001b[38;5;241m=\u001b[39m rcode \u001b[38;5;241m<\u001b[39m \u001b[38;5;241m300\u001b[39m:\n\u001b[0;32m--> 679\u001b[0m     \u001b[38;5;28;01mraise\u001b[39;00m \u001b[38;5;28mself\u001b[39m\u001b[38;5;241m.\u001b[39mhandle_error_response(\n\u001b[1;32m    680\u001b[0m         rbody, rcode, resp\u001b[38;5;241m.\u001b[39mdata, rheaders, stream_error\u001b[38;5;241m=\u001b[39mstream_error\n\u001b[1;32m    681\u001b[0m     )\n\u001b[1;32m    682\u001b[0m \u001b[38;5;28;01mreturn\u001b[39;00m resp\n",
      "\u001b[0;31mInvalidRequestError\u001b[0m: This model's maximum context length is 4097 tokens, however you requested 5172 tokens (1076 in your prompt; 4096 for the completion). Please reduce your prompt; or completion length."
     ]
    }
   ],
   "source": [
    "res = openai.Completion.create(\n",
    "    model=\"text-davinci-003\",\n",
    "    prompt=prompt,\n",
    "    temperature=0,\n",
    "    max_tokens=4096\n",
    ")\n",
    "\n",
    "print(res)\n",
    "print(res.choices[0].text)"
   ]
  },
  {
   "cell_type": "code",
   "execution_count": 9,
   "id": "55d469a3",
   "metadata": {},
   "outputs": [
    {
     "name": "stdout",
     "output_type": "stream",
     "text": [
      "DEBUG:openai:message='Request to OpenAI API' method=post path=https://api.openai.com/v1/completions\n",
      "DEBUG:openai:api_version=None data='{\"model\": \"text-davinci-003\", \"prompt\": \"\\\\n\\\\u521d\\\\u97f3\\\\u30df\\\\u30af\\\\u306f\\\\n\", \"max_tokens\": 200, \"temperature\": 0}' message='Post details'\n",
      "DEBUG:urllib3.connectionpool:https://api.openai.com:443 \"POST /v1/completions HTTP/1.1\" 200 None\n",
      "DEBUG:openai:message='OpenAI API response' path=https://api.openai.com/v1/completions processing_ms=9351 request_id=96da5bb0499195e384a66d1e4d5abd2d response_code=200\n",
      "{\n",
      "  \"choices\": [\n",
      "    {\n",
      "      \"finish_reason\": \"length\",\n",
      "      \"index\": 0,\n",
      "      \"logprobs\": null,\n",
      "      \"text\": \"\\n\\u521d\\u97f3\\u30df\\u30af\\u306f\\u3001\\u65e5\\u672c\\u306eVOCALOID\\uff08\\u30dc\\u30fc\\u30ab\\u30ed\\u30a4\\u30c9\\uff09\\u30b7\\u30ea\\u30fc\\u30ba\\u306e\\u30ad\\u30e3\\u30e9\\u30af\\u30bf\\u30fc\\u3067\\u3059\\u30022007\\u5e74\\u306bCrypton Future Media\\u304b\\u3089\\u767a\\u58f2\\u3055\\u308c\\u305f\\u521d\\u306eVOCALOID\\u3068\\u3057\\u3066\\u767b\\u5834\\u3057\\u3001\\u4ee5\\u6765\\u3001\\u591a\\u304f\\u306e\\u4eba\\u6c17\\u3092\\u535a\\u3057\\u3066\\u3044\\u307e\\u3059\\u3002\\u521d\\u97f3\\u30df\\u30af\\u306f\\u3001\\u6b4c\\u58f0\\u5408\\u6210\\u30bd\\u30d5\\u30c8\\u30a6\\u30a7\\u30a2\\u3092\\u4f7f\\u7528\\u3057\\u3066\\u6b4c\\u3092\\u6b4c\\u3046\\u3053\\u3068\\u304c\\u3067\\u304d\\u308b3D\\u30ad\\u30e3\\u30e9\\u30af\\u30bf\\u30fc\\u3067\\u3059\\u3002\\u6b4c\\u58f0\\u5408\\u6210\\u30bd\\u30d5\\u30c8\\u30a6\\u30a7\\u30a2\\u3092\\u4f7f\\u7528\\u3059\\u308b\\u3053\\u3068\\u3067\\u3001\\u6b4c\\u58f0\\u3092\\u81ea\\u7531\\u306b\\u5909\\u66f4\\u3057\\u305f\\u308a\"\n",
      "    }\n",
      "  ],\n",
      "  \"created\": 1678463308,\n",
      "  \"id\": \"cmpl-6sZGmf2Ao9JN4X5AVnNw487pLqsvS\",\n",
      "  \"model\": \"text-davinci-003\",\n",
      "  \"object\": \"text_completion\",\n",
      "  \"usage\": {\n",
      "    \"completion_tokens\": 200,\n",
      "    \"prompt_tokens\": 10,\n",
      "    \"total_tokens\": 210\n",
      "  }\n",
      "}\n",
      "\n",
      "初音ミクは、日本のVOCALOID（ボーカロイド）シリーズのキャラクターです。2007年にCrypton Future Mediaから発売された初のVOCALOIDとして登場し、以来、多くの人気を博しています。初音ミクは、歌声合成ソフトウェアを使用して歌を歌うことができる3Dキャラクターです。歌声合成ソフトウェアを使用することで、歌声を自由に変更したり\n"
     ]
    }
   ],
   "source": [
    "prompt = \"\"\"\n",
    "初音ミクは\n",
    "\"\"\"\n",
    "\n",
    "res = openai.Completion.create(\n",
    "    model=\"text-davinci-003\",\n",
    "    prompt=prompt,\n",
    "    max_tokens=200,\n",
    "    temperature=0\n",
    ")\n",
    "\n",
    "print(res)\n",
    "print(res.choices[0].text)"
   ]
  },
  {
   "cell_type": "code",
   "execution_count": 34,
   "id": "bf5b5cc5",
   "metadata": {},
   "outputs": [],
   "source": [
    "import openai\n",
    "\n",
    "def text_summary(prompt):\n",
    "    # 分析の実施\n",
    "    response = openai.Completion.create(\n",
    "    engine=\"text-davinci-002\",\n",
    "    prompt=prompt,\n",
    "    temperature=0.7,\n",
    "    max_tokens=500,\n",
    "    top_p=1.0,\n",
    "    frequency_penalty=0.0,\n",
    "    presence_penalty=0.0,\n",
    "    )\n",
    "\n",
    "    # 分析結果の出力\n",
    "    return response[\"choices\"][0][\"text\"].replace('\\n','')\n",
    "\n",
    "def crean_text(text):\n",
    "    text= text.replace('　',' ')\n",
    "\n",
    "    return text\n",
    "\n",
    "\n",
    "# 要約対象の文章をここに入力\n",
    "text=\"\"\"\n",
    "地球の人里離れた山奥に住む尻尾の生えた少年・孫悟空はある日、西の都からやって来た少女・ブルマと出会う。そこで、7つ集めると神龍（シェンロン）が現れ、どんな願いでも一つだけ叶えてくれるというドラゴンボールの存在を、さらに育ての親である孫悟飯の形見として大切に持っていた球がその1つ「四星球（スーシンチュウ）」であることを知り、ブルマと共に残りのドラゴンボールを探す旅に出る。人さらいのウーロンや盗賊のヤムチャらを巻き込んだボール探しの末、世界征服を企むピラフ一味にボールを奪われ神龍を呼び出されるが、ウーロンがとっさに言い放った下らない願いを叶えてもらうことで一味の野望を阻止する。その後、悟空は旅の途中に知り合った武術の達人・亀仙人の下で、後に親友となるクリリンと共に8か月間にわたる修行を積み、その成果を確かめるために世界一の武術の達人を決める天下一武道会に出場し、変装して出場していた亀仙人に敗れるも準優勝を果たす。悟空は再び修行の旅へと出発し、ドラゴンボールの悪用を企むレッドリボン軍との闘いや、孫悟飯との再会などを経てさらに強さを増していく。さらに3年後の天下一武道会では、亀仙流のライバルである鶴仙流の天津飯（てんしんはん）と闘うが、あと一歩のところで敗れ、前回と同じく準優勝に終わる。天下一武道会終了後、ピラフ一味によって復活したピッコロ大魔王によって、クリリンや亀仙人など悟空の仲間たちや多くの武道家たちが殺される。悟空は仇を討つため、道中に出会ったヤジロベーや仙猫カリンの協力を得て命を賭して潜在する力を引き出し、ピッコロ大魔王に闘いを挑み勝利する。闘いの後、悟空はピッコロ大魔王に殺された神龍や仲間たちの復活のため天界へ向かい、ドラゴンボールの創造者である神に会う。そこで神龍復活の条件として、神の下で天界で修行することとなった。その約3年後、少年から青年へと成長した悟空は、天下一武道会の会場で仲間たちと再会。試合では、少年時代に出会った際に「嫁にもらう」と約束していた牛魔王の娘・チチと再会しその場で結婚。\n",
    "\"\"\"\n",
    "\n",
    "# 要約を3点で出力するように調整\n",
    "prompt ='''\n",
    "Tl;dr\n",
    "要約は以下の通りです\n",
    "'''"
   ]
  },
  {
   "cell_type": "code",
   "execution_count": 35,
   "id": "48a26f24",
   "metadata": {},
   "outputs": [
    {
     "name": "stdout",
     "output_type": "stream",
     "text": [
      "DEBUG:openai:message='Request to OpenAI API' method=post path=https://api.openai.com/v1/engines/text-davinci-002/completions\n",
      "DEBUG:openai:api_version=None data='{\"prompt\": \"\\\\n\\\\u5730\\\\u7403\\\\u306e\\\\u4eba\\\\u91cc\\\\u96e2\\\\u308c\\\\u305f\\\\u5c71\\\\u5965\\\\u306b\\\\u4f4f\\\\u3080\\\\u5c3b\\\\u5c3e\\\\u306e\\\\u751f\\\\u3048\\\\u305f\\\\u5c11\\\\u5e74\\\\u30fb\\\\u5b6b\\\\u609f\\\\u7a7a\\\\u306f\\\\u3042\\\\u308b\\\\u65e5\\\\u3001\\\\u897f\\\\u306e\\\\u90fd\\\\u304b\\\\u3089\\\\u3084\\\\u3063\\\\u3066\\\\u6765\\\\u305f\\\\u5c11\\\\u5973\\\\u30fb\\\\u30d6\\\\u30eb\\\\u30de\\\\u3068\\\\u51fa\\\\u4f1a\\\\u3046\\\\u3002\\\\u305d\\\\u3053\\\\u3067\\\\u30017\\\\u3064\\\\u96c6\\\\u3081\\\\u308b\\\\u3068\\\\u795e\\\\u9f8d\\\\uff08\\\\u30b7\\\\u30a7\\\\u30f3\\\\u30ed\\\\u30f3\\\\uff09\\\\u304c\\\\u73fe\\\\u308c\\\\u3001\\\\u3069\\\\u3093\\\\u306a\\\\u9858\\\\u3044\\\\u3067\\\\u3082\\\\u4e00\\\\u3064\\\\u3060\\\\u3051\\\\u53f6\\\\u3048\\\\u3066\\\\u304f\\\\u308c\\\\u308b\\\\u3068\\\\u3044\\\\u3046\\\\u30c9\\\\u30e9\\\\u30b4\\\\u30f3\\\\u30dc\\\\u30fc\\\\u30eb\\\\u306e\\\\u5b58\\\\u5728\\\\u3092\\\\u3001\\\\u3055\\\\u3089\\\\u306b\\\\u80b2\\\\u3066\\\\u306e\\\\u89aa\\\\u3067\\\\u3042\\\\u308b\\\\u5b6b\\\\u609f\\\\u98ef\\\\u306e\\\\u5f62\\\\u898b\\\\u3068\\\\u3057\\\\u3066\\\\u5927\\\\u5207\\\\u306b\\\\u6301\\\\u3063\\\\u3066\\\\u3044\\\\u305f\\\\u7403\\\\u304c\\\\u305d\\\\u306e1\\\\u3064\\\\u300c\\\\u56db\\\\u661f\\\\u7403\\\\uff08\\\\u30b9\\\\u30fc\\\\u30b7\\\\u30f3\\\\u30c1\\\\u30e5\\\\u30a6\\\\uff09\\\\u300d\\\\u3067\\\\u3042\\\\u308b\\\\u3053\\\\u3068\\\\u3092\\\\u77e5\\\\u308a\\\\u3001\\\\u30d6\\\\u30eb\\\\u30de\\\\u3068\\\\u5171\\\\u306b\\\\u6b8b\\\\u308a\\\\u306e\\\\u30c9\\\\u30e9\\\\u30b4\\\\u30f3\\\\u30dc\\\\u30fc\\\\u30eb\\\\u3092\\\\u63a2\\\\u3059\\\\u65c5\\\\u306b\\\\u51fa\\\\u308b\\\\u3002\\\\u4eba\\\\u3055\\\\u3089\\\\u3044\\\\u306e\\\\u30a6\\\\u30fc\\\\u30ed\\\\u30f3\\\\u3084\\\\u76d7\\\\u8cca\\\\u306e\\\\u30e4\\\\u30e0\\\\u30c1\\\\u30e3\\\\u3089\\\\u3092\\\\u5dfb\\\\u304d\\\\u8fbc\\\\u3093\\\\u3060\\\\u30dc\\\\u30fc\\\\u30eb\\\\u63a2\\\\u3057\\\\u306e\\\\u672b\\\\u3001\\\\u4e16\\\\u754c\\\\u5f81\\\\u670d\\\\u3092\\\\u4f01\\\\u3080\\\\u30d4\\\\u30e9\\\\u30d5\\\\u4e00\\\\u5473\\\\u306b\\\\u30dc\\\\u30fc\\\\u30eb\\\\u3092\\\\u596a\\\\u308f\\\\u308c\\\\u795e\\\\u9f8d\\\\u3092\\\\u547c\\\\u3073\\\\u51fa\\\\u3055\\\\u308c\\\\u308b\\\\u304c\\\\u3001\\\\u30a6\\\\u30fc\\\\u30ed\\\\u30f3\\\\u304c\\\\u3068\\\\u3063\\\\u3055\\\\u306b\\\\u8a00\\\\u3044\\\\u653e\\\\u3063\\\\u305f\\\\u4e0b\\\\u3089\\\\u306a\\\\u3044\\\\u9858\\\\u3044\\\\u3092\\\\u53f6\\\\u3048\\\\u3066\\\\u3082\\\\u3089\\\\u3046\\\\u3053\\\\u3068\\\\u3067\\\\u4e00\\\\u5473\\\\u306e\\\\u91ce\\\\u671b\\\\u3092\\\\u963b\\\\u6b62\\\\u3059\\\\u308b\\\\u3002\\\\u305d\\\\u306e\\\\u5f8c\\\\u3001\\\\u609f\\\\u7a7a\\\\u306f\\\\u65c5\\\\u306e\\\\u9014\\\\u4e2d\\\\u306b\\\\u77e5\\\\u308a\\\\u5408\\\\u3063\\\\u305f\\\\u6b66\\\\u8853\\\\u306e\\\\u9054\\\\u4eba\\\\u30fb\\\\u4e80\\\\u4ed9\\\\u4eba\\\\u306e\\\\u4e0b\\\\u3067\\\\u3001\\\\u5f8c\\\\u306b\\\\u89aa\\\\u53cb\\\\u3068\\\\u306a\\\\u308b\\\\u30af\\\\u30ea\\\\u30ea\\\\u30f3\\\\u3068\\\\u5171\\\\u306b8\\\\u304b\\\\u6708\\\\u9593\\\\u306b\\\\u308f\\\\u305f\\\\u308b\\\\u4fee\\\\u884c\\\\u3092\\\\u7a4d\\\\u307f\\\\u3001\\\\u305d\\\\u306e\\\\u6210\\\\u679c\\\\u3092\\\\u78ba\\\\u304b\\\\u3081\\\\u308b\\\\u305f\\\\u3081\\\\u306b\\\\u4e16\\\\u754c\\\\u4e00\\\\u306e\\\\u6b66\\\\u8853\\\\u306e\\\\u9054\\\\u4eba\\\\u3092\\\\u6c7a\\\\u3081\\\\u308b\\\\u5929\\\\u4e0b\\\\u4e00\\\\u6b66\\\\u9053\\\\u4f1a\\\\u306b\\\\u51fa\\\\u5834\\\\u3057\\\\u3001\\\\u5909\\\\u88c5\\\\u3057\\\\u3066\\\\u51fa\\\\u5834\\\\u3057\\\\u3066\\\\u3044\\\\u305f\\\\u4e80\\\\u4ed9\\\\u4eba\\\\u306b\\\\u6557\\\\u308c\\\\u308b\\\\u3082\\\\u6e96\\\\u512a\\\\u52dd\\\\u3092\\\\u679c\\\\u305f\\\\u3059\\\\u3002\\\\u609f\\\\u7a7a\\\\u306f\\\\u518d\\\\u3073\\\\u4fee\\\\u884c\\\\u306e\\\\u65c5\\\\u3078\\\\u3068\\\\u51fa\\\\u767a\\\\u3057\\\\u3001\\\\u30c9\\\\u30e9\\\\u30b4\\\\u30f3\\\\u30dc\\\\u30fc\\\\u30eb\\\\u306e\\\\u60aa\\\\u7528\\\\u3092\\\\u4f01\\\\u3080\\\\u30ec\\\\u30c3\\\\u30c9\\\\u30ea\\\\u30dc\\\\u30f3\\\\u8ecd\\\\u3068\\\\u306e\\\\u95d8\\\\u3044\\\\u3084\\\\u3001\\\\u5b6b\\\\u609f\\\\u98ef\\\\u3068\\\\u306e\\\\u518d\\\\u4f1a\\\\u306a\\\\u3069\\\\u3092\\\\u7d4c\\\\u3066\\\\u3055\\\\u3089\\\\u306b\\\\u5f37\\\\u3055\\\\u3092\\\\u5897\\\\u3057\\\\u3066\\\\u3044\\\\u304f\\\\u3002\\\\u3055\\\\u3089\\\\u306b3\\\\u5e74\\\\u5f8c\\\\u306e\\\\u5929\\\\u4e0b\\\\u4e00\\\\u6b66\\\\u9053\\\\u4f1a\\\\u3067\\\\u306f\\\\u3001\\\\u4e80\\\\u4ed9\\\\u6d41\\\\u306e\\\\u30e9\\\\u30a4\\\\u30d0\\\\u30eb\\\\u3067\\\\u3042\\\\u308b\\\\u9db4\\\\u4ed9\\\\u6d41\\\\u306e\\\\u5929\\\\u6d25\\\\u98ef\\\\uff08\\\\u3066\\\\u3093\\\\u3057\\\\u3093\\\\u306f\\\\u3093\\\\uff09\\\\u3068\\\\u95d8\\\\u3046\\\\u304c\\\\u3001\\\\u3042\\\\u3068\\\\u4e00\\\\u6b69\\\\u306e\\\\u3068\\\\u3053\\\\u308d\\\\u3067\\\\u6557\\\\u308c\\\\u3001\\\\u524d\\\\u56de\\\\u3068\\\\u540c\\\\u3058\\\\u304f\\\\u6e96\\\\u512a\\\\u52dd\\\\u306b\\\\u7d42\\\\u308f\\\\u308b\\\\u3002\\\\u5929\\\\u4e0b\\\\u4e00\\\\u6b66\\\\u9053\\\\u4f1a\\\\u7d42\\\\u4e86\\\\u5f8c\\\\u3001\\\\u30d4\\\\u30e9\\\\u30d5\\\\u4e00\\\\u5473\\\\u306b\\\\u3088\\\\u3063\\\\u3066\\\\u5fa9\\\\u6d3b\\\\u3057\\\\u305f\\\\u30d4\\\\u30c3\\\\u30b3\\\\u30ed\\\\u5927\\\\u9b54\\\\u738b\\\\u306b\\\\u3088\\\\u3063\\\\u3066\\\\u3001\\\\u30af\\\\u30ea\\\\u30ea\\\\u30f3\\\\u3084\\\\u4e80\\\\u4ed9\\\\u4eba\\\\u306a\\\\u3069\\\\u609f\\\\u7a7a\\\\u306e\\\\u4ef2\\\\u9593\\\\u305f\\\\u3061\\\\u3084\\\\u591a\\\\u304f\\\\u306e\\\\u6b66\\\\u9053\\\\u5bb6\\\\u305f\\\\u3061\\\\u304c\\\\u6bba\\\\u3055\\\\u308c\\\\u308b\\\\u3002\\\\u609f\\\\u7a7a\\\\u306f\\\\u4ec7\\\\u3092\\\\u8a0e\\\\u3064\\\\u305f\\\\u3081\\\\u3001\\\\u9053\\\\u4e2d\\\\u306b\\\\u51fa\\\\u4f1a\\\\u3063\\\\u305f\\\\u30e4\\\\u30b8\\\\u30ed\\\\u30d9\\\\u30fc\\\\u3084\\\\u4ed9\\\\u732b\\\\u30ab\\\\u30ea\\\\u30f3\\\\u306e\\\\u5354\\\\u529b\\\\u3092\\\\u5f97\\\\u3066\\\\u547d\\\\u3092\\\\u8ced\\\\u3057\\\\u3066\\\\u6f5c\\\\u5728\\\\u3059\\\\u308b\\\\u529b\\\\u3092\\\\u5f15\\\\u304d\\\\u51fa\\\\u3057\\\\u3001\\\\u30d4\\\\u30c3\\\\u30b3\\\\u30ed\\\\u5927\\\\u9b54\\\\u738b\\\\u306b\\\\u95d8\\\\u3044\\\\u3092\\\\u6311\\\\u307f\\\\u52dd\\\\u5229\\\\u3059\\\\u308b\\\\u3002\\\\u95d8\\\\u3044\\\\u306e\\\\u5f8c\\\\u3001\\\\u609f\\\\u7a7a\\\\u306f\\\\u30d4\\\\u30c3\\\\u30b3\\\\u30ed\\\\u5927\\\\u9b54\\\\u738b\\\\u306b\\\\u6bba\\\\u3055\\\\u308c\\\\u305f\\\\u795e\\\\u9f8d\\\\u3084\\\\u4ef2\\\\u9593\\\\u305f\\\\u3061\\\\u306e\\\\u5fa9\\\\u6d3b\\\\u306e\\\\u305f\\\\u3081\\\\u5929\\\\u754c\\\\u3078\\\\u5411\\\\u304b\\\\u3044\\\\u3001\\\\u30c9\\\\u30e9\\\\u30b4\\\\u30f3\\\\u30dc\\\\u30fc\\\\u30eb\\\\u306e\\\\u5275\\\\u9020\\\\u8005\\\\u3067\\\\u3042\\\\u308b\\\\u795e\\\\u306b\\\\u4f1a\\\\u3046\\\\u3002\\\\u305d\\\\u3053\\\\u3067\\\\u795e\\\\u9f8d\\\\u5fa9\\\\u6d3b\\\\u306e\\\\u6761\\\\u4ef6\\\\u3068\\\\u3057\\\\u3066\\\\u3001\\\\u795e\\\\u306e\\\\u4e0b\\\\u3067\\\\u5929\\\\u754c\\\\u3067\\\\u4fee\\\\u884c\\\\u3059\\\\u308b\\\\u3053\\\\u3068\\\\u3068\\\\u306a\\\\u3063\\\\u305f\\\\u3002\\\\u305d\\\\u306e\\\\u7d043\\\\u5e74\\\\u5f8c\\\\u3001\\\\u5c11\\\\u5e74\\\\u304b\\\\u3089\\\\u9752\\\\u5e74\\\\u3078\\\\u3068\\\\u6210\\\\u9577\\\\u3057\\\\u305f\\\\u609f\\\\u7a7a\\\\u306f\\\\u3001\\\\u5929\\\\u4e0b\\\\u4e00\\\\u6b66\\\\u9053\\\\u4f1a\\\\u306e\\\\u4f1a\\\\u5834\\\\u3067\\\\u4ef2\\\\u9593\\\\u305f\\\\u3061\\\\u3068\\\\u518d\\\\u4f1a\\\\u3002\\\\u8a66\\\\u5408\\\\u3067\\\\u306f\\\\u3001\\\\u5c11\\\\u5e74\\\\u6642\\\\u4ee3\\\\u306b\\\\u51fa\\\\u4f1a\\\\u3063\\\\u305f\\\\u969b\\\\u306b\\\\u300c\\\\u5ac1\\\\u306b\\\\u3082\\\\u3089\\\\u3046\\\\u300d\\\\u3068\\\\u7d04\\\\u675f\\\\u3057\\\\u3066\\\\u3044\\\\u305f\\\\u725b\\\\u9b54\\\\u738b\\\\u306e\\\\u5a18\\\\u30fb\\\\u30c1\\\\u30c1\\\\u3068\\\\u518d\\\\u4f1a\\\\u3057\\\\u305d\\\\u306e\\\\u5834\\\\u3067\\\\u7d50\\\\u5a5a\\\\u3002\\\\n\\\\nTl;dr\\\\n\\\\u8981\\\\u7d04\\\\u306f\\\\u4ee5\\\\u4e0b\\\\u306e\\\\u901a\\\\u308a\\\\u3067\\\\u3059\\\\n\", \"temperature\": 0.7, \"max_tokens\": 500, \"top_p\": 1.0, \"frequency_penalty\": 0.0, \"presence_penalty\": 0.0}' message='Post details'\n",
      "DEBUG:urllib3.connectionpool:https://api.openai.com:443 \"POST /v1/engines/text-davinci-002/completions HTTP/1.1\" 200 None\n",
      "DEBUG:openai:message='OpenAI API response' path=https://api.openai.com/v1/engines/text-davinci-002/completions processing_ms=6503 request_id=484491e7459169a8646cb97b573a659c response_code=200\n",
      "孫悟空は、ドラゴンボールの存在を知ってから、ブルマと共に残りのドラゴンボールを探す旅に出る。ピラフ一味によって復活したピッコロ大魔王によって、クリリンや亀仙人など悟空の仲間たちや多くの武道家たちが殺される。悟空は仇を討つため、道中に出会ったヤジロベーや仙猫カリンの協力を得て命を賭して潜在する力を引き出し、ピッコロ大魔王に闘いを挑み勝利する。その約3年後、少年から青年へと成長した悟空は、天下一武道会の会場で仲間たちと再会。試合では、少年時代に出会った際に「嫁にもらう」と約束していた牛魔王の娘・チチと再会しその場で結婚。\n"
     ]
    }
   ],
   "source": [
    "prompt = crean_text(text) +  prompt\n",
    "\n",
    "\n",
    "# 結果出力\n",
    "print(text_summary(prompt))"
   ]
  },
  {
   "cell_type": "code",
   "execution_count": 57,
   "id": "5831ba9f",
   "metadata": {},
   "outputs": [],
   "source": [
    "import openai\n",
    "\n",
    "def text_summary(prompt):\n",
    "    # 分析の実施\n",
    "    response = openai.Completion.create(\n",
    "    engine=\"text-davinci-002\",\n",
    "    prompt=prompt,\n",
    "    temperature=0,\n",
    "    max_tokens=2048,\n",
    "    )\n",
    "\n",
    "    # 分析結果の出力\n",
    "    return response\n",
    "\n",
    "def crean_text(text):\n",
    "    text= text.replace('　',' ')\n",
    "\n",
    "    return text\n",
    "\n",
    "\n",
    "# 要約対象の文章をここに入力\n",
    "text=\"\"\"\n",
    "地球の人里離れた山奥に住む尻尾の生えた少年・孫悟空はある日、西の都からやって来た少女・ブルマと出会う。そこで、7つ集めると神龍（シェンロン）が現れ、どんな願いでも一つだけ叶えてくれるというドラゴンボールの存在を、さらに育ての親である孫悟飯の形見として大切に持っていた球がその1つ「四星球（スーシンチュウ）」であることを知り、ブルマと共に残りのドラゴンボールを探す旅に出る。人さらいのウーロンや盗賊のヤムチャらを巻き込んだボール探しの末、世界征服を企むピラフ一味にボールを奪われ神龍を呼び出されるが、ウーロンがとっさに言い放った下らない願いを叶えてもらうことで一味の野望を阻止する。その後、悟空は旅の途中に知り合った武術の達人・亀仙人の下で、後に親友となるクリリンと共に8か月間にわたる修行を積み、その成果を確かめるために世界一の武術の達人を決める天下一武道会に出場し、変装して出場していた亀仙人に敗れるも準優勝を果たす。悟空は再び修行の旅へと出発し、ドラゴンボールの悪用を企むレッドリボン軍との闘いや、孫悟飯との再会などを経てさらに強さを増していく。さらに3年後の天下一武道会では、亀仙流のライバルである鶴仙流の天津飯（てんしんはん）と闘うが、あと一歩のところで敗れ、前回と同じく準優勝に終わる。天下一武道会終了後、ピラフ一味によって復活したピッコロ大魔王によって、クリリンや亀仙人など悟空の仲間たちや多くの武道家たちが殺される。悟空は仇を討つため、道中に出会ったヤジロベーや仙猫カリンの協力を得て命を賭して潜在する力を引き出し、ピッコロ大魔王に闘いを挑み勝利する。闘いの後、悟空はピッコロ大魔王に殺された神龍や仲間たちの復活のため天界へ向かい、ドラゴンボールの創造者である神に会う。そこで神龍復活の条件として、神の下で天界で修行することとなった。その約3年後、少年から青年へと成長した悟空は、天下一武道会の会場で仲間たちと再会。試合では、少年時代に出会った際に「嫁にもらう」と約束していた牛魔王の娘・チチと再会しその場で結婚。そして武道会に出場していたピッコロ大魔王の生まれ変わりであるマジュニアと決勝戦で激突、これに勝利し初の天下一武道会優勝を飾る。ピッコロ（マジュニア）との闘いから約5年後、息子の孫悟飯を儲けて平和な日々を過ごしていた悟空のもとに、実兄・ラディッツが宇宙より来襲し、自分が惑星ベジータの戦闘民族・サイヤ人であることを知らされる。さらわれた孫悟飯を助けるため悟空は宿敵ピッコロと手を組み、自らの命と引き換えにラディッツを倒すが、約1年後にはさらに強力なサイヤ人たちがドラゴンボールを求めて地球に来襲することを知る。悟空はドラゴンボールによって生き返るまでの間、あの世の界王の下で修業し、仲間と共に地球に強襲したサイヤ人の戦士・ナッパと王子・ベジータを迎え撃つ。悟空は修行により増した力でナッパを一蹴し、ベジータと決闘。仲間の協力もあり、何とか辛勝し撤退させるが、多くの仲間を失うとともに、ピッコロの戦死により彼と一心同体であった神も死亡し、地球のドラゴンボールも消滅する。\n",
    "\"\"\"\n",
    "\n",
    "# 要約を3点で出力するように調整\n",
    "prompt ='''\n",
    "Tl;dr\n",
    "要約は以下の通りです\n",
    "'''"
   ]
  },
  {
   "cell_type": "code",
   "execution_count": 58,
   "id": "65c04fb0",
   "metadata": {},
   "outputs": [
    {
     "name": "stdout",
     "output_type": "stream",
     "text": [
      "DEBUG:openai:message='Request to OpenAI API' method=post path=https://api.openai.com/v1/engines/text-davinci-002/completions\n",
      "DEBUG:openai:api_version=None data='{\"prompt\": \"\\\\n\\\\u5730\\\\u7403\\\\u306e\\\\u4eba\\\\u91cc\\\\u96e2\\\\u308c\\\\u305f\\\\u5c71\\\\u5965\\\\u306b\\\\u4f4f\\\\u3080\\\\u5c3b\\\\u5c3e\\\\u306e\\\\u751f\\\\u3048\\\\u305f\\\\u5c11\\\\u5e74\\\\u30fb\\\\u5b6b\\\\u609f\\\\u7a7a\\\\u306f\\\\u3042\\\\u308b\\\\u65e5\\\\u3001\\\\u897f\\\\u306e\\\\u90fd\\\\u304b\\\\u3089\\\\u3084\\\\u3063\\\\u3066\\\\u6765\\\\u305f\\\\u5c11\\\\u5973\\\\u30fb\\\\u30d6\\\\u30eb\\\\u30de\\\\u3068\\\\u51fa\\\\u4f1a\\\\u3046\\\\u3002\\\\u305d\\\\u3053\\\\u3067\\\\u30017\\\\u3064\\\\u96c6\\\\u3081\\\\u308b\\\\u3068\\\\u795e\\\\u9f8d\\\\uff08\\\\u30b7\\\\u30a7\\\\u30f3\\\\u30ed\\\\u30f3\\\\uff09\\\\u304c\\\\u73fe\\\\u308c\\\\u3001\\\\u3069\\\\u3093\\\\u306a\\\\u9858\\\\u3044\\\\u3067\\\\u3082\\\\u4e00\\\\u3064\\\\u3060\\\\u3051\\\\u53f6\\\\u3048\\\\u3066\\\\u304f\\\\u308c\\\\u308b\\\\u3068\\\\u3044\\\\u3046\\\\u30c9\\\\u30e9\\\\u30b4\\\\u30f3\\\\u30dc\\\\u30fc\\\\u30eb\\\\u306e\\\\u5b58\\\\u5728\\\\u3092\\\\u3001\\\\u3055\\\\u3089\\\\u306b\\\\u80b2\\\\u3066\\\\u306e\\\\u89aa\\\\u3067\\\\u3042\\\\u308b\\\\u5b6b\\\\u609f\\\\u98ef\\\\u306e\\\\u5f62\\\\u898b\\\\u3068\\\\u3057\\\\u3066\\\\u5927\\\\u5207\\\\u306b\\\\u6301\\\\u3063\\\\u3066\\\\u3044\\\\u305f\\\\u7403\\\\u304c\\\\u305d\\\\u306e1\\\\u3064\\\\u300c\\\\u56db\\\\u661f\\\\u7403\\\\uff08\\\\u30b9\\\\u30fc\\\\u30b7\\\\u30f3\\\\u30c1\\\\u30e5\\\\u30a6\\\\uff09\\\\u300d\\\\u3067\\\\u3042\\\\u308b\\\\u3053\\\\u3068\\\\u3092\\\\u77e5\\\\u308a\\\\u3001\\\\u30d6\\\\u30eb\\\\u30de\\\\u3068\\\\u5171\\\\u306b\\\\u6b8b\\\\u308a\\\\u306e\\\\u30c9\\\\u30e9\\\\u30b4\\\\u30f3\\\\u30dc\\\\u30fc\\\\u30eb\\\\u3092\\\\u63a2\\\\u3059\\\\u65c5\\\\u306b\\\\u51fa\\\\u308b\\\\u3002\\\\u4eba\\\\u3055\\\\u3089\\\\u3044\\\\u306e\\\\u30a6\\\\u30fc\\\\u30ed\\\\u30f3\\\\u3084\\\\u76d7\\\\u8cca\\\\u306e\\\\u30e4\\\\u30e0\\\\u30c1\\\\u30e3\\\\u3089\\\\u3092\\\\u5dfb\\\\u304d\\\\u8fbc\\\\u3093\\\\u3060\\\\u30dc\\\\u30fc\\\\u30eb\\\\u63a2\\\\u3057\\\\u306e\\\\u672b\\\\u3001\\\\u4e16\\\\u754c\\\\u5f81\\\\u670d\\\\u3092\\\\u4f01\\\\u3080\\\\u30d4\\\\u30e9\\\\u30d5\\\\u4e00\\\\u5473\\\\u306b\\\\u30dc\\\\u30fc\\\\u30eb\\\\u3092\\\\u596a\\\\u308f\\\\u308c\\\\u795e\\\\u9f8d\\\\u3092\\\\u547c\\\\u3073\\\\u51fa\\\\u3055\\\\u308c\\\\u308b\\\\u304c\\\\u3001\\\\u30a6\\\\u30fc\\\\u30ed\\\\u30f3\\\\u304c\\\\u3068\\\\u3063\\\\u3055\\\\u306b\\\\u8a00\\\\u3044\\\\u653e\\\\u3063\\\\u305f\\\\u4e0b\\\\u3089\\\\u306a\\\\u3044\\\\u9858\\\\u3044\\\\u3092\\\\u53f6\\\\u3048\\\\u3066\\\\u3082\\\\u3089\\\\u3046\\\\u3053\\\\u3068\\\\u3067\\\\u4e00\\\\u5473\\\\u306e\\\\u91ce\\\\u671b\\\\u3092\\\\u963b\\\\u6b62\\\\u3059\\\\u308b\\\\u3002\\\\u305d\\\\u306e\\\\u5f8c\\\\u3001\\\\u609f\\\\u7a7a\\\\u306f\\\\u65c5\\\\u306e\\\\u9014\\\\u4e2d\\\\u306b\\\\u77e5\\\\u308a\\\\u5408\\\\u3063\\\\u305f\\\\u6b66\\\\u8853\\\\u306e\\\\u9054\\\\u4eba\\\\u30fb\\\\u4e80\\\\u4ed9\\\\u4eba\\\\u306e\\\\u4e0b\\\\u3067\\\\u3001\\\\u5f8c\\\\u306b\\\\u89aa\\\\u53cb\\\\u3068\\\\u306a\\\\u308b\\\\u30af\\\\u30ea\\\\u30ea\\\\u30f3\\\\u3068\\\\u5171\\\\u306b8\\\\u304b\\\\u6708\\\\u9593\\\\u306b\\\\u308f\\\\u305f\\\\u308b\\\\u4fee\\\\u884c\\\\u3092\\\\u7a4d\\\\u307f\\\\u3001\\\\u305d\\\\u306e\\\\u6210\\\\u679c\\\\u3092\\\\u78ba\\\\u304b\\\\u3081\\\\u308b\\\\u305f\\\\u3081\\\\u306b\\\\u4e16\\\\u754c\\\\u4e00\\\\u306e\\\\u6b66\\\\u8853\\\\u306e\\\\u9054\\\\u4eba\\\\u3092\\\\u6c7a\\\\u3081\\\\u308b\\\\u5929\\\\u4e0b\\\\u4e00\\\\u6b66\\\\u9053\\\\u4f1a\\\\u306b\\\\u51fa\\\\u5834\\\\u3057\\\\u3001\\\\u5909\\\\u88c5\\\\u3057\\\\u3066\\\\u51fa\\\\u5834\\\\u3057\\\\u3066\\\\u3044\\\\u305f\\\\u4e80\\\\u4ed9\\\\u4eba\\\\u306b\\\\u6557\\\\u308c\\\\u308b\\\\u3082\\\\u6e96\\\\u512a\\\\u52dd\\\\u3092\\\\u679c\\\\u305f\\\\u3059\\\\u3002\\\\u609f\\\\u7a7a\\\\u306f\\\\u518d\\\\u3073\\\\u4fee\\\\u884c\\\\u306e\\\\u65c5\\\\u3078\\\\u3068\\\\u51fa\\\\u767a\\\\u3057\\\\u3001\\\\u30c9\\\\u30e9\\\\u30b4\\\\u30f3\\\\u30dc\\\\u30fc\\\\u30eb\\\\u306e\\\\u60aa\\\\u7528\\\\u3092\\\\u4f01\\\\u3080\\\\u30ec\\\\u30c3\\\\u30c9\\\\u30ea\\\\u30dc\\\\u30f3\\\\u8ecd\\\\u3068\\\\u306e\\\\u95d8\\\\u3044\\\\u3084\\\\u3001\\\\u5b6b\\\\u609f\\\\u98ef\\\\u3068\\\\u306e\\\\u518d\\\\u4f1a\\\\u306a\\\\u3069\\\\u3092\\\\u7d4c\\\\u3066\\\\u3055\\\\u3089\\\\u306b\\\\u5f37\\\\u3055\\\\u3092\\\\u5897\\\\u3057\\\\u3066\\\\u3044\\\\u304f\\\\u3002\\\\u3055\\\\u3089\\\\u306b3\\\\u5e74\\\\u5f8c\\\\u306e\\\\u5929\\\\u4e0b\\\\u4e00\\\\u6b66\\\\u9053\\\\u4f1a\\\\u3067\\\\u306f\\\\u3001\\\\u4e80\\\\u4ed9\\\\u6d41\\\\u306e\\\\u30e9\\\\u30a4\\\\u30d0\\\\u30eb\\\\u3067\\\\u3042\\\\u308b\\\\u9db4\\\\u4ed9\\\\u6d41\\\\u306e\\\\u5929\\\\u6d25\\\\u98ef\\\\uff08\\\\u3066\\\\u3093\\\\u3057\\\\u3093\\\\u306f\\\\u3093\\\\uff09\\\\u3068\\\\u95d8\\\\u3046\\\\u304c\\\\u3001\\\\u3042\\\\u3068\\\\u4e00\\\\u6b69\\\\u306e\\\\u3068\\\\u3053\\\\u308d\\\\u3067\\\\u6557\\\\u308c\\\\u3001\\\\u524d\\\\u56de\\\\u3068\\\\u540c\\\\u3058\\\\u304f\\\\u6e96\\\\u512a\\\\u52dd\\\\u306b\\\\u7d42\\\\u308f\\\\u308b\\\\u3002\\\\u5929\\\\u4e0b\\\\u4e00\\\\u6b66\\\\u9053\\\\u4f1a\\\\u7d42\\\\u4e86\\\\u5f8c\\\\u3001\\\\u30d4\\\\u30e9\\\\u30d5\\\\u4e00\\\\u5473\\\\u306b\\\\u3088\\\\u3063\\\\u3066\\\\u5fa9\\\\u6d3b\\\\u3057\\\\u305f\\\\u30d4\\\\u30c3\\\\u30b3\\\\u30ed\\\\u5927\\\\u9b54\\\\u738b\\\\u306b\\\\u3088\\\\u3063\\\\u3066\\\\u3001\\\\u30af\\\\u30ea\\\\u30ea\\\\u30f3\\\\u3084\\\\u4e80\\\\u4ed9\\\\u4eba\\\\u306a\\\\u3069\\\\u609f\\\\u7a7a\\\\u306e\\\\u4ef2\\\\u9593\\\\u305f\\\\u3061\\\\u3084\\\\u591a\\\\u304f\\\\u306e\\\\u6b66\\\\u9053\\\\u5bb6\\\\u305f\\\\u3061\\\\u304c\\\\u6bba\\\\u3055\\\\u308c\\\\u308b\\\\u3002\\\\u609f\\\\u7a7a\\\\u306f\\\\u4ec7\\\\u3092\\\\u8a0e\\\\u3064\\\\u305f\\\\u3081\\\\u3001\\\\u9053\\\\u4e2d\\\\u306b\\\\u51fa\\\\u4f1a\\\\u3063\\\\u305f\\\\u30e4\\\\u30b8\\\\u30ed\\\\u30d9\\\\u30fc\\\\u3084\\\\u4ed9\\\\u732b\\\\u30ab\\\\u30ea\\\\u30f3\\\\u306e\\\\u5354\\\\u529b\\\\u3092\\\\u5f97\\\\u3066\\\\u547d\\\\u3092\\\\u8ced\\\\u3057\\\\u3066\\\\u6f5c\\\\u5728\\\\u3059\\\\u308b\\\\u529b\\\\u3092\\\\u5f15\\\\u304d\\\\u51fa\\\\u3057\\\\u3001\\\\u30d4\\\\u30c3\\\\u30b3\\\\u30ed\\\\u5927\\\\u9b54\\\\u738b\\\\u306b\\\\u95d8\\\\u3044\\\\u3092\\\\u6311\\\\u307f\\\\u52dd\\\\u5229\\\\u3059\\\\u308b\\\\u3002\\\\u95d8\\\\u3044\\\\u306e\\\\u5f8c\\\\u3001\\\\u609f\\\\u7a7a\\\\u306f\\\\u30d4\\\\u30c3\\\\u30b3\\\\u30ed\\\\u5927\\\\u9b54\\\\u738b\\\\u306b\\\\u6bba\\\\u3055\\\\u308c\\\\u305f\\\\u795e\\\\u9f8d\\\\u3084\\\\u4ef2\\\\u9593\\\\u305f\\\\u3061\\\\u306e\\\\u5fa9\\\\u6d3b\\\\u306e\\\\u305f\\\\u3081\\\\u5929\\\\u754c\\\\u3078\\\\u5411\\\\u304b\\\\u3044\\\\u3001\\\\u30c9\\\\u30e9\\\\u30b4\\\\u30f3\\\\u30dc\\\\u30fc\\\\u30eb\\\\u306e\\\\u5275\\\\u9020\\\\u8005\\\\u3067\\\\u3042\\\\u308b\\\\u795e\\\\u306b\\\\u4f1a\\\\u3046\\\\u3002\\\\u305d\\\\u3053\\\\u3067\\\\u795e\\\\u9f8d\\\\u5fa9\\\\u6d3b\\\\u306e\\\\u6761\\\\u4ef6\\\\u3068\\\\u3057\\\\u3066\\\\u3001\\\\u795e\\\\u306e\\\\u4e0b\\\\u3067\\\\u5929\\\\u754c\\\\u3067\\\\u4fee\\\\u884c\\\\u3059\\\\u308b\\\\u3053\\\\u3068\\\\u3068\\\\u306a\\\\u3063\\\\u305f\\\\u3002\\\\u305d\\\\u306e\\\\u7d043\\\\u5e74\\\\u5f8c\\\\u3001\\\\u5c11\\\\u5e74\\\\u304b\\\\u3089\\\\u9752\\\\u5e74\\\\u3078\\\\u3068\\\\u6210\\\\u9577\\\\u3057\\\\u305f\\\\u609f\\\\u7a7a\\\\u306f\\\\u3001\\\\u5929\\\\u4e0b\\\\u4e00\\\\u6b66\\\\u9053\\\\u4f1a\\\\u306e\\\\u4f1a\\\\u5834\\\\u3067\\\\u4ef2\\\\u9593\\\\u305f\\\\u3061\\\\u3068\\\\u518d\\\\u4f1a\\\\u3002\\\\u8a66\\\\u5408\\\\u3067\\\\u306f\\\\u3001\\\\u5c11\\\\u5e74\\\\u6642\\\\u4ee3\\\\u306b\\\\u51fa\\\\u4f1a\\\\u3063\\\\u305f\\\\u969b\\\\u306b\\\\u300c\\\\u5ac1\\\\u306b\\\\u3082\\\\u3089\\\\u3046\\\\u300d\\\\u3068\\\\u7d04\\\\u675f\\\\u3057\\\\u3066\\\\u3044\\\\u305f\\\\u725b\\\\u9b54\\\\u738b\\\\u306e\\\\u5a18\\\\u30fb\\\\u30c1\\\\u30c1\\\\u3068\\\\u518d\\\\u4f1a\\\\u3057\\\\u305d\\\\u306e\\\\u5834\\\\u3067\\\\u7d50\\\\u5a5a\\\\u3002\\\\u305d\\\\u3057\\\\u3066\\\\u6b66\\\\u9053\\\\u4f1a\\\\u306b\\\\u51fa\\\\u5834\\\\u3057\\\\u3066\\\\u3044\\\\u305f\\\\u30d4\\\\u30c3\\\\u30b3\\\\u30ed\\\\u5927\\\\u9b54\\\\u738b\\\\u306e\\\\u751f\\\\u307e\\\\u308c\\\\u5909\\\\u308f\\\\u308a\\\\u3067\\\\u3042\\\\u308b\\\\u30de\\\\u30b8\\\\u30e5\\\\u30cb\\\\u30a2\\\\u3068\\\\u6c7a\\\\u52dd\\\\u6226\\\\u3067\\\\u6fc0\\\\u7a81\\\\u3001\\\\u3053\\\\u308c\\\\u306b\\\\u52dd\\\\u5229\\\\u3057\\\\u521d\\\\u306e\\\\u5929\\\\u4e0b\\\\u4e00\\\\u6b66\\\\u9053\\\\u4f1a\\\\u512a\\\\u52dd\\\\u3092\\\\u98fe\\\\u308b\\\\u3002\\\\u30d4\\\\u30c3\\\\u30b3\\\\u30ed\\\\uff08\\\\u30de\\\\u30b8\\\\u30e5\\\\u30cb\\\\u30a2\\\\uff09\\\\u3068\\\\u306e\\\\u95d8\\\\u3044\\\\u304b\\\\u3089\\\\u7d045\\\\u5e74\\\\u5f8c\\\\u3001\\\\u606f\\\\u5b50\\\\u306e\\\\u5b6b\\\\u609f\\\\u98ef\\\\u3092\\\\u5132\\\\u3051\\\\u3066\\\\u5e73\\\\u548c\\\\u306a\\\\u65e5\\\\u3005\\\\u3092\\\\u904e\\\\u3054\\\\u3057\\\\u3066\\\\u3044\\\\u305f\\\\u609f\\\\u7a7a\\\\u306e\\\\u3082\\\\u3068\\\\u306b\\\\u3001\\\\u5b9f\\\\u5144\\\\u30fb\\\\u30e9\\\\u30c7\\\\u30a3\\\\u30c3\\\\u30c4\\\\u304c\\\\u5b87\\\\u5b99\\\\u3088\\\\u308a\\\\u6765\\\\u8972\\\\u3057\\\\u3001\\\\u81ea\\\\u5206\\\\u304c\\\\u60d1\\\\u661f\\\\u30d9\\\\u30b8\\\\u30fc\\\\u30bf\\\\u306e\\\\u6226\\\\u95d8\\\\u6c11\\\\u65cf\\\\u30fb\\\\u30b5\\\\u30a4\\\\u30e4\\\\u4eba\\\\u3067\\\\u3042\\\\u308b\\\\u3053\\\\u3068\\\\u3092\\\\u77e5\\\\u3089\\\\u3055\\\\u308c\\\\u308b\\\\u3002\\\\u3055\\\\u3089\\\\u308f\\\\u308c\\\\u305f\\\\u5b6b\\\\u609f\\\\u98ef\\\\u3092\\\\u52a9\\\\u3051\\\\u308b\\\\u305f\\\\u3081\\\\u609f\\\\u7a7a\\\\u306f\\\\u5bbf\\\\u6575\\\\u30d4\\\\u30c3\\\\u30b3\\\\u30ed\\\\u3068\\\\u624b\\\\u3092\\\\u7d44\\\\u307f\\\\u3001\\\\u81ea\\\\u3089\\\\u306e\\\\u547d\\\\u3068\\\\u5f15\\\\u304d\\\\u63db\\\\u3048\\\\u306b\\\\u30e9\\\\u30c7\\\\u30a3\\\\u30c3\\\\u30c4\\\\u3092\\\\u5012\\\\u3059\\\\u304c\\\\u3001\\\\u7d041\\\\u5e74\\\\u5f8c\\\\u306b\\\\u306f\\\\u3055\\\\u3089\\\\u306b\\\\u5f37\\\\u529b\\\\u306a\\\\u30b5\\\\u30a4\\\\u30e4\\\\u4eba\\\\u305f\\\\u3061\\\\u304c\\\\u30c9\\\\u30e9\\\\u30b4\\\\u30f3\\\\u30dc\\\\u30fc\\\\u30eb\\\\u3092\\\\u6c42\\\\u3081\\\\u3066\\\\u5730\\\\u7403\\\\u306b\\\\u6765\\\\u8972\\\\u3059\\\\u308b\\\\u3053\\\\u3068\\\\u3092\\\\u77e5\\\\u308b\\\\u3002\\\\u609f\\\\u7a7a\\\\u306f\\\\u30c9\\\\u30e9\\\\u30b4\\\\u30f3\\\\u30dc\\\\u30fc\\\\u30eb\\\\u306b\\\\u3088\\\\u3063\\\\u3066\\\\u751f\\\\u304d\\\\u8fd4\\\\u308b\\\\u307e\\\\u3067\\\\u306e\\\\u9593\\\\u3001\\\\u3042\\\\u306e\\\\u4e16\\\\u306e\\\\u754c\\\\u738b\\\\u306e\\\\u4e0b\\\\u3067\\\\u4fee\\\\u696d\\\\u3057\\\\u3001\\\\u4ef2\\\\u9593\\\\u3068\\\\u5171\\\\u306b\\\\u5730\\\\u7403\\\\u306b\\\\u5f37\\\\u8972\\\\u3057\\\\u305f\\\\u30b5\\\\u30a4\\\\u30e4\\\\u4eba\\\\u306e\\\\u6226\\\\u58eb\\\\u30fb\\\\u30ca\\\\u30c3\\\\u30d1\\\\u3068\\\\u738b\\\\u5b50\\\\u30fb\\\\u30d9\\\\u30b8\\\\u30fc\\\\u30bf\\\\u3092\\\\u8fce\\\\u3048\\\\u6483\\\\u3064\\\\u3002\\\\u609f\\\\u7a7a\\\\u306f\\\\u4fee\\\\u884c\\\\u306b\\\\u3088\\\\u308a\\\\u5897\\\\u3057\\\\u305f\\\\u529b\\\\u3067\\\\u30ca\\\\u30c3\\\\u30d1\\\\u3092\\\\u4e00\\\\u8e74\\\\u3057\\\\u3001\\\\u30d9\\\\u30b8\\\\u30fc\\\\u30bf\\\\u3068\\\\u6c7a\\\\u95d8\\\\u3002\\\\u4ef2\\\\u9593\\\\u306e\\\\u5354\\\\u529b\\\\u3082\\\\u3042\\\\u308a\\\\u3001\\\\u4f55\\\\u3068\\\\u304b\\\\u8f9b\\\\u52dd\\\\u3057\\\\u64a4\\\\u9000\\\\u3055\\\\u305b\\\\u308b\\\\u304c\\\\u3001\\\\u591a\\\\u304f\\\\u306e\\\\u4ef2\\\\u9593\\\\u3092\\\\u5931\\\\u3046\\\\u3068\\\\u3068\\\\u3082\\\\u306b\\\\u3001\\\\u30d4\\\\u30c3\\\\u30b3\\\\u30ed\\\\u306e\\\\u6226\\\\u6b7b\\\\u306b\\\\u3088\\\\u308a\\\\u5f7c\\\\u3068\\\\u4e00\\\\u5fc3\\\\u540c\\\\u4f53\\\\u3067\\\\u3042\\\\u3063\\\\u305f\\\\u795e\\\\u3082\\\\u6b7b\\\\u4ea1\\\\u3057\\\\u3001\\\\u5730\\\\u7403\\\\u306e\\\\u30c9\\\\u30e9\\\\u30b4\\\\u30f3\\\\u30dc\\\\u30fc\\\\u30eb\\\\u3082\\\\u6d88\\\\u6ec5\\\\u3059\\\\u308b\\\\u3002\\\\n\\\\nTl;dr\\\\n\\\\u8981\\\\u7d04\\\\u306f\\\\u4ee5\\\\u4e0b\\\\u306e\\\\u901a\\\\u308a\\\\u3067\\\\u3059\\\\n\", \"temperature\": 0, \"max_tokens\": 2048}' message='Post details'\n"
     ]
    },
    {
     "name": "stdout",
     "output_type": "stream",
     "text": [
      "DEBUG:urllib3.connectionpool:https://api.openai.com:443 \"POST /v1/engines/text-davinci-002/completions HTTP/1.1\" 200 None\n",
      "DEBUG:openai:message='OpenAI API response' path=https://api.openai.com/v1/engines/text-davinci-002/completions processing_ms=16645 request_id=d160753236a2975418dad0faae3cd9a9 response_code=200\n",
      "{\n",
      "  \"choices\": [\n",
      "    {\n",
      "      \"finish_reason\": \"stop\",\n",
      "      \"index\": 0,\n",
      "      \"logprobs\": null,\n",
      "      \"text\": \"\\n\\u30c9\\u30e9\\u30b4\\u30f3\\u30dc\\u30fc\\u30eb\\u306f\\u3001\\u795e\\u9f8d\\uff08\\u30b7\\u30a7\\u30f3\\u30ed\\u30f3\\uff09\\u304c\\u73fe\\u308c\\u3001\\u3069\\u3093\\u306a\\u9858\\u3044\\u3067\\u3082\\u4e00\\u3064\\u3060\\u3051\\u53f6\\u3048\\u3066\\u304f\\u308c\\u308b\\u3068\\u3044\\u3046\\u7403\\u306e\\u5b58\\u5728\\u3092\\u77e5\\u3063\\u305f\\u5c11\\u5e74\\u30fb\\u5b6b\\u609f\\u7a7a\\u304c\\u3001\\u30d6\\u30eb\\u30de\\u3068\\u5171\\u306b\\u6b8b\\u308a\\u306e\\u30c9\\u30e9\\u30b4\\u30f3\\u30dc\\u30fc\\u30eb\\u3092\\u63a2\\u3059\\u65c5\\u306b\\u51fa\\u308b\\u3068\\u3044\\u3046\\u7269\\u8a9e\\u3067\\u3059\\u3002\\n\\n\\u30d4\\u30c3\\u30b3\\u30ed\\u5927\\u9b54\\u738b\\u306b\\u3088\\u3063\\u3066\\u3001\\u30af\\u30ea\\u30ea\\u30f3\\u3084\\u4e80\\u4ed9\\u4eba\\u306a\\u3069\\u609f\\u7a7a\\u306e\\u4ef2\\u9593\\u305f\\u3061\\u3084\\u591a\\u304f\\u306e\\u6b66\\u9053\\u5bb6\\u305f\\u3061\\u304c\\u6bba\\u3055\\u308c\\u308b\\u3002\\u609f\\u7a7a\\u306f\\u4ec7\\u3092\\u8a0e\\u3064\\u305f\\u3081\\u3001\\u9053\\u4e2d\\u306b\\u51fa\\u4f1a\\u3063\\u305f\\u30e4\\u30b8\\u30ed\\u30d9\\u30fc\\u3084\\u4ed9\\u732b\\u30ab\\u30ea\\u30f3\\u306e\\u5354\\u529b\\u3092\\u5f97\\u3066\\u547d\\u3092\\u8ced\\u3057\\u3066\\u6f5c\\u5728\\u3059\\u308b\\u529b\\u3092\\u5f15\\u304d\\u51fa\\u3057\\u3001\\u30d4\\u30c3\\u30b3\\u30ed\\u5927\\u9b54\\u738b\\u306b\\u95d8\\u3044\\u3092\\u6311\\u307f\\u52dd\\u5229\\u3059\\u308b\\u3002\\n\\n\\u5929\\u4e0b\\u4e00\\u6b66\\u9053\\u4f1a\\u7d42\\u4e86\\u5f8c\\u3001\\u30d4\\u30e9\\u30d5\\u4e00\\u5473\\u306b\\u3088\\u3063\\u3066\\u5fa9\\u6d3b\\u3057\\u305f\\u30d4\\u30c3\\u30b3\\u30ed\\u5927\\u9b54\\u738b\\u306b\\u3088\\u3063\\u3066\\u3001\\u30af\\u30ea\\u30ea\\u30f3\\u3084\\u4e80\\u4ed9\\u4eba\\u306a\\u3069\\u609f\\u7a7a\\u306e\\u4ef2\\u9593\\u305f\\u3061\\u3084\\u591a\\u304f\\u306e\\u6b66\\u9053\\u5bb6\\u305f\\u3061\\u304c\\u6bba\\u3055\\u308c\\u308b\\u3002\\u609f\\u7a7a\\u306f\\u4ec7\\u3092\\u8a0e\\u3064\\u305f\\u3081\\u3001\\u9053\\u4e2d\\u306b\\u51fa\\u4f1a\\u3063\\u305f\\u30e4\\u30b8\\u30ed\\u30d9\\u30fc\\u3084\\u4ed9\\u732b\\u30ab\\u30ea\\u30f3\\u306e\\u5354\\u529b\\u3092\\u5f97\\u3066\\u547d\\u3092\\u8ced\\u3057\\u3066\\u6f5c\\u5728\\u3059\\u308b\\u529b\\u3092\\u5f15\\u304d\\u51fa\\u3057\\u3001\\u30d4\\u30c3\\u30b3\\u30ed\\u5927\\u9b54\\u738b\\u306b\\u95d8\\u3044\\u3092\\u6311\\u307f\\u52dd\\u5229\\u3059\\u308b\\u3002\\n\\n\\u30d4\\u30c3\\u30b3\\u30ed\\u5927\\u9b54\\u738b\\u306e\\u751f\\u307e\\u308c\\u5909\\u308f\\u308a\\u3067\\u3042\\u308b\\u30de\\u30b8\\u30e5\\u30cb\\u30a2\\u3068\\u6c7a\\u52dd\\u6226\\u3067\\u6fc0\\u7a81\\u3001\\u3053\\u308c\\u306b\\u52dd\\u5229\\u3057\\u521d\\u306e\\u5929\\u4e0b\\u4e00\\u6b66\\u9053\\u4f1a\\u512a\\u52dd\\u3092\\u98fe\\u308b\\u3002\\n\\n\\u30d4\\u30c3\\u30b3\\u30ed\\uff08\\u30de\\u30b8\\u30e5\\u30cb\\u30a2\\uff09\\u3068\\u306e\\u95d8\\u3044\\u304b\\u3089\\u7d045\\u5e74\\u5f8c\\u3001\\u606f\\u5b50\\u306e\\u5b6b\\u609f\\u98ef\\u3092\\u5132\\u3051\\u3066\\u5e73\\u548c\\u306a\\u65e5\\u3005\\u3092\\u904e\\u3054\\u3057\\u3066\\u3044\\u305f\\u609f\\u7a7a\\u306e\\u3082\\u3068\\u306b\\u3001\\u5b9f\\u5144\\u30fb\\u30e9\\u30c7\\u30a3\\u30c3\\u30c4\\u304c\\u5b87\\u5b99\\u3088\\u308a\\u6765\\u8972\\u3057\\u3001\\u81ea\\u5206\\u304c\\u60d1\\u661f\\u30d9\\u30b8\\u30fc\\u30bf\\u306e\\u6226\\u95d8\\u6c11\\u65cf\\u30fb\\u30b5\\u30a4\\u30e4\\u4eba\\u3067\\u3042\\u308b\\u3053\\u3068\\u3092\\u77e5\\u3089\\u3055\\u308c\\u308b\\u3002\\n\\n\\u3055\\u3089\\u306b\\u5f37\\u529b\\u306a\\u30b5\\u30a4\\u30e4\\u4eba\\u305f\\u3061\\u304c\\u30c9\\u30e9\\u30b4\\u30f3\\u30dc\\u30fc\\u30eb\\u3092\\u6c42\\u3081\\u3066\\u5730\\u7403\\u306b\\u6765\\u8972\\u3059\\u308b\\u3053\\u3068\\u3092\\u77e5\\u308b\\u3002\\u609f\\u7a7a\\u306f\\u30c9\\u30e9\\u30b4\\u30f3\\u30dc\\u30fc\\u30eb\\u306b\\u3088\\u3063\\u3066\\u751f\\u304d\\u8fd4\\u308b\\u307e\\u3067\\u306e\\u9593\\u3001\\u3042\\u306e\\u4e16\\u306e\\u754c\\u738b\\u306e\\u4e0b\\u3067\\u4fee\\u696d\\u3057\\u3001\\u4ef2\\u9593\\u3068\\u5171\\u306b\\u5730\\u7403\\u306b\\u5f37\\u8972\\u3057\\u305f\\u30b5\\u30a4\\u30e4\\u4eba\\u306e\\u6226\\u58eb\\u30fb\\u30ca\\u30c3\\u30d1\\u3068\\u738b\\u5b50\\u30fb\\u30d9\\u30b8\\u30fc\\u30bf\\u3092\\u8fce\\u3048\\u6483\\u3064\\u3002\\u609f\\u7a7a\\u306f\\u4fee\\u884c\\u306b\\u3088\\u308a\\u5897\\u3057\\u305f\\u529b\\u3067\\u30ca\\u30c3\\u30d1\\u3092\\u4e00\\u8e74\\u3057\\u3001\\u30d9\\u30b8\\u30fc\\u30bf\\u3068\\u6c7a\\u95d8\\u3002\\u4ef2\\u9593\\u306e\\u5354\\u529b\\u3082\\u3042\\u308a\\u3001\\u4f55\\u3068\\u304b\\u8f9b\\u52dd\\u3057\\u64a4\\u9000\\u3055\\u305b\\u308b\\u304c\\u3001\\u591a\\u304f\\u306e\\u4ef2\\u9593\\u3092\\u5931\\u3046\\u3068\\u3068\\u3082\\u306b\\u3001\\u30d4\\u30c3\\u30b3\\u30ed\\u306e\\u6226\\u6b7b\\u306b\\u3088\\u308a\\u5f7c\\u3068\\u4e00\\u5fc3\\u540c\\u4f53\\u3067\\u3042\\u3063\\u305f\\u795e\\u3082\\u6b7b\\u4ea1\\u3057\\u3001\\u5730\\u7403\\u306e\\u30c9\\u30e9\\u30b4\\u30f3\\u30dc\\u30fc\\u30eb\\u3082\\u6d88\\u6ec5\\u3059\\u308b\\u3002\"\n",
      "    }\n",
      "  ],\n",
      "  \"created\": 1678462399,\n",
      "  \"id\": \"cmpl-6sZ27OGtYx81PMnxwciVpB7IX1AgV\",\n",
      "  \"model\": \"text-davinci-002\",\n",
      "  \"object\": \"text_completion\",\n",
      "  \"usage\": {\n",
      "    \"completion_tokens\": 1004,\n",
      "    \"prompt_tokens\": 1885,\n",
      "    \"total_tokens\": 2889\n",
      "  }\n",
      "}\n"
     ]
    }
   ],
   "source": [
    "prompt = crean_text(text) +  prompt\n",
    "\n",
    "\n",
    "# 結果出力\n",
    "print(text_summary(prompt))"
   ]
  },
  {
   "cell_type": "code",
   "execution_count": 52,
   "id": "4a8c6574",
   "metadata": {},
   "outputs": [],
   "source": [
    "# 連続で実行するとtoken超過で失敗するっぽい\n",
    "# まだ不安定なのか..."
   ]
  },
  {
   "cell_type": "code",
   "execution_count": 59,
   "id": "c837503c",
   "metadata": {},
   "outputs": [],
   "source": [
    "import openai\n",
    "\n",
    "def text_summary(prompt):\n",
    "    # 分析の実施\n",
    "    response = openai.Completion.create(\n",
    "    engine=\"text-davinci-003\",\n",
    "    prompt=prompt,\n",
    "    temperature=0,\n",
    "    max_tokens=2048,\n",
    "    )\n",
    "\n",
    "    # 分析結果の出力\n",
    "    return response\n",
    "\n",
    "def crean_text(text):\n",
    "    text= text.replace('　',' ')\n",
    "\n",
    "    return text\n",
    "\n",
    "\n",
    "# 要約対象の文章をここに入力\n",
    "text=\"\"\"\n",
    "地球の人里離れた山奥に住む尻尾の生えた少年・孫悟空はある日、西の都からやって来た少女・ブルマと出会う。そこで、7つ集めると神龍（シェンロン）が現れ、どんな願いでも一つだけ叶えてくれるというドラゴンボールの存在を、さらに育ての親である孫悟飯の形見として大切に持っていた球がその1つ「四星球（スーシンチュウ）」であることを知り、ブルマと共に残りのドラゴンボールを探す旅に出る。人さらいのウーロンや盗賊のヤムチャらを巻き込んだボール探しの末、世界征服を企むピラフ一味にボールを奪われ神龍を呼び出されるが、ウーロンがとっさに言い放った下らない願いを叶えてもらうことで一味の野望を阻止する。その後、悟空は旅の途中に知り合った武術の達人・亀仙人の下で、後に親友となるクリリンと共に8か月間にわたる修行を積み、その成果を確かめるために世界一の武術の達人を決める天下一武道会に出場し、変装して出場していた亀仙人に敗れるも準優勝を果たす。悟空は再び修行の旅へと出発し、ドラゴンボールの悪用を企むレッドリボン軍との闘いや、孫悟飯との再会などを経てさらに強さを増していく。さらに3年後の天下一武道会では、亀仙流のライバルである鶴仙流の天津飯（てんしんはん）と闘うが、あと一歩のところで敗れ、前回と同じく準優勝に終わる。天下一武道会終了後、ピラフ一味によって復活したピッコロ大魔王によって、クリリンや亀仙人など悟空の仲間たちや多くの武道家たちが殺される。悟空は仇を討つため、道中に出会ったヤジロベーや仙猫カリンの協力を得て命を賭して潜在する力を引き出し、ピッコロ大魔王に闘いを挑み勝利する。闘いの後、悟空はピッコロ大魔王に殺された神龍や仲間たちの復活のため天界へ向かい、ドラゴンボールの創造者である神に会う。そこで神龍復活の条件として、神の下で天界で修行することとなった。その約3年後、少年から青年へと成長した悟空は、天下一武道会の会場で仲間たちと再会。試合では、少年時代に出会った際に「嫁にもらう」と約束していた牛魔王の娘・チチと再会しその場で結婚。そして武道会に出場していたピッコロ大魔王の生まれ変わりであるマジュニアと決勝戦で激突、これに勝利し初の天下一武道会優勝を飾る。ピッコロ（マジュニア）との闘いから約5年後、息子の孫悟飯を儲けて平和な日々を過ごしていた悟空のもとに、実兄・ラディッツが宇宙より来襲し、自分が惑星ベジータの戦闘民族・サイヤ人であることを知らされる。さらわれた孫悟飯を助けるため悟空は宿敵ピッコロと手を組み、自らの命と引き換えにラディッツを倒すが、約1年後にはさらに強力なサイヤ人たちがドラゴンボールを求めて地球に来襲することを知る。悟空はドラゴンボールによって生き返るまでの間、あの世の界王の下で修業し、仲間と共に地球に強襲したサイヤ人の戦士・ナッパと王子・ベジータを迎え撃つ。悟空は修行により増した力でナッパを一蹴し、ベジータと決闘。仲間の協力もあり、何とか辛勝し撤退させるが、多くの仲間を失うとともに、ピッコロの戦死により彼と一心同体であった神も死亡し、地球のドラゴンボールも消滅する。\n",
    "\"\"\"\n",
    "\n",
    "# 要約を3点で出力するように調整\n",
    "prompt ='''\n",
    "Tl;dr\n",
    "要約は以下の通りです\n",
    "'''"
   ]
  },
  {
   "cell_type": "code",
   "execution_count": 60,
   "id": "9fdebf9a",
   "metadata": {},
   "outputs": [
    {
     "name": "stdout",
     "output_type": "stream",
     "text": [
      "DEBUG:openai:message='Request to OpenAI API' method=post path=https://api.openai.com/v1/engines/text-davinci-003/completions\n",
      "DEBUG:openai:api_version=None data='{\"prompt\": \"\\\\n\\\\u5730\\\\u7403\\\\u306e\\\\u4eba\\\\u91cc\\\\u96e2\\\\u308c\\\\u305f\\\\u5c71\\\\u5965\\\\u306b\\\\u4f4f\\\\u3080\\\\u5c3b\\\\u5c3e\\\\u306e\\\\u751f\\\\u3048\\\\u305f\\\\u5c11\\\\u5e74\\\\u30fb\\\\u5b6b\\\\u609f\\\\u7a7a\\\\u306f\\\\u3042\\\\u308b\\\\u65e5\\\\u3001\\\\u897f\\\\u306e\\\\u90fd\\\\u304b\\\\u3089\\\\u3084\\\\u3063\\\\u3066\\\\u6765\\\\u305f\\\\u5c11\\\\u5973\\\\u30fb\\\\u30d6\\\\u30eb\\\\u30de\\\\u3068\\\\u51fa\\\\u4f1a\\\\u3046\\\\u3002\\\\u305d\\\\u3053\\\\u3067\\\\u30017\\\\u3064\\\\u96c6\\\\u3081\\\\u308b\\\\u3068\\\\u795e\\\\u9f8d\\\\uff08\\\\u30b7\\\\u30a7\\\\u30f3\\\\u30ed\\\\u30f3\\\\uff09\\\\u304c\\\\u73fe\\\\u308c\\\\u3001\\\\u3069\\\\u3093\\\\u306a\\\\u9858\\\\u3044\\\\u3067\\\\u3082\\\\u4e00\\\\u3064\\\\u3060\\\\u3051\\\\u53f6\\\\u3048\\\\u3066\\\\u304f\\\\u308c\\\\u308b\\\\u3068\\\\u3044\\\\u3046\\\\u30c9\\\\u30e9\\\\u30b4\\\\u30f3\\\\u30dc\\\\u30fc\\\\u30eb\\\\u306e\\\\u5b58\\\\u5728\\\\u3092\\\\u3001\\\\u3055\\\\u3089\\\\u306b\\\\u80b2\\\\u3066\\\\u306e\\\\u89aa\\\\u3067\\\\u3042\\\\u308b\\\\u5b6b\\\\u609f\\\\u98ef\\\\u306e\\\\u5f62\\\\u898b\\\\u3068\\\\u3057\\\\u3066\\\\u5927\\\\u5207\\\\u306b\\\\u6301\\\\u3063\\\\u3066\\\\u3044\\\\u305f\\\\u7403\\\\u304c\\\\u305d\\\\u306e1\\\\u3064\\\\u300c\\\\u56db\\\\u661f\\\\u7403\\\\uff08\\\\u30b9\\\\u30fc\\\\u30b7\\\\u30f3\\\\u30c1\\\\u30e5\\\\u30a6\\\\uff09\\\\u300d\\\\u3067\\\\u3042\\\\u308b\\\\u3053\\\\u3068\\\\u3092\\\\u77e5\\\\u308a\\\\u3001\\\\u30d6\\\\u30eb\\\\u30de\\\\u3068\\\\u5171\\\\u306b\\\\u6b8b\\\\u308a\\\\u306e\\\\u30c9\\\\u30e9\\\\u30b4\\\\u30f3\\\\u30dc\\\\u30fc\\\\u30eb\\\\u3092\\\\u63a2\\\\u3059\\\\u65c5\\\\u306b\\\\u51fa\\\\u308b\\\\u3002\\\\u4eba\\\\u3055\\\\u3089\\\\u3044\\\\u306e\\\\u30a6\\\\u30fc\\\\u30ed\\\\u30f3\\\\u3084\\\\u76d7\\\\u8cca\\\\u306e\\\\u30e4\\\\u30e0\\\\u30c1\\\\u30e3\\\\u3089\\\\u3092\\\\u5dfb\\\\u304d\\\\u8fbc\\\\u3093\\\\u3060\\\\u30dc\\\\u30fc\\\\u30eb\\\\u63a2\\\\u3057\\\\u306e\\\\u672b\\\\u3001\\\\u4e16\\\\u754c\\\\u5f81\\\\u670d\\\\u3092\\\\u4f01\\\\u3080\\\\u30d4\\\\u30e9\\\\u30d5\\\\u4e00\\\\u5473\\\\u306b\\\\u30dc\\\\u30fc\\\\u30eb\\\\u3092\\\\u596a\\\\u308f\\\\u308c\\\\u795e\\\\u9f8d\\\\u3092\\\\u547c\\\\u3073\\\\u51fa\\\\u3055\\\\u308c\\\\u308b\\\\u304c\\\\u3001\\\\u30a6\\\\u30fc\\\\u30ed\\\\u30f3\\\\u304c\\\\u3068\\\\u3063\\\\u3055\\\\u306b\\\\u8a00\\\\u3044\\\\u653e\\\\u3063\\\\u305f\\\\u4e0b\\\\u3089\\\\u306a\\\\u3044\\\\u9858\\\\u3044\\\\u3092\\\\u53f6\\\\u3048\\\\u3066\\\\u3082\\\\u3089\\\\u3046\\\\u3053\\\\u3068\\\\u3067\\\\u4e00\\\\u5473\\\\u306e\\\\u91ce\\\\u671b\\\\u3092\\\\u963b\\\\u6b62\\\\u3059\\\\u308b\\\\u3002\\\\u305d\\\\u306e\\\\u5f8c\\\\u3001\\\\u609f\\\\u7a7a\\\\u306f\\\\u65c5\\\\u306e\\\\u9014\\\\u4e2d\\\\u306b\\\\u77e5\\\\u308a\\\\u5408\\\\u3063\\\\u305f\\\\u6b66\\\\u8853\\\\u306e\\\\u9054\\\\u4eba\\\\u30fb\\\\u4e80\\\\u4ed9\\\\u4eba\\\\u306e\\\\u4e0b\\\\u3067\\\\u3001\\\\u5f8c\\\\u306b\\\\u89aa\\\\u53cb\\\\u3068\\\\u306a\\\\u308b\\\\u30af\\\\u30ea\\\\u30ea\\\\u30f3\\\\u3068\\\\u5171\\\\u306b8\\\\u304b\\\\u6708\\\\u9593\\\\u306b\\\\u308f\\\\u305f\\\\u308b\\\\u4fee\\\\u884c\\\\u3092\\\\u7a4d\\\\u307f\\\\u3001\\\\u305d\\\\u306e\\\\u6210\\\\u679c\\\\u3092\\\\u78ba\\\\u304b\\\\u3081\\\\u308b\\\\u305f\\\\u3081\\\\u306b\\\\u4e16\\\\u754c\\\\u4e00\\\\u306e\\\\u6b66\\\\u8853\\\\u306e\\\\u9054\\\\u4eba\\\\u3092\\\\u6c7a\\\\u3081\\\\u308b\\\\u5929\\\\u4e0b\\\\u4e00\\\\u6b66\\\\u9053\\\\u4f1a\\\\u306b\\\\u51fa\\\\u5834\\\\u3057\\\\u3001\\\\u5909\\\\u88c5\\\\u3057\\\\u3066\\\\u51fa\\\\u5834\\\\u3057\\\\u3066\\\\u3044\\\\u305f\\\\u4e80\\\\u4ed9\\\\u4eba\\\\u306b\\\\u6557\\\\u308c\\\\u308b\\\\u3082\\\\u6e96\\\\u512a\\\\u52dd\\\\u3092\\\\u679c\\\\u305f\\\\u3059\\\\u3002\\\\u609f\\\\u7a7a\\\\u306f\\\\u518d\\\\u3073\\\\u4fee\\\\u884c\\\\u306e\\\\u65c5\\\\u3078\\\\u3068\\\\u51fa\\\\u767a\\\\u3057\\\\u3001\\\\u30c9\\\\u30e9\\\\u30b4\\\\u30f3\\\\u30dc\\\\u30fc\\\\u30eb\\\\u306e\\\\u60aa\\\\u7528\\\\u3092\\\\u4f01\\\\u3080\\\\u30ec\\\\u30c3\\\\u30c9\\\\u30ea\\\\u30dc\\\\u30f3\\\\u8ecd\\\\u3068\\\\u306e\\\\u95d8\\\\u3044\\\\u3084\\\\u3001\\\\u5b6b\\\\u609f\\\\u98ef\\\\u3068\\\\u306e\\\\u518d\\\\u4f1a\\\\u306a\\\\u3069\\\\u3092\\\\u7d4c\\\\u3066\\\\u3055\\\\u3089\\\\u306b\\\\u5f37\\\\u3055\\\\u3092\\\\u5897\\\\u3057\\\\u3066\\\\u3044\\\\u304f\\\\u3002\\\\u3055\\\\u3089\\\\u306b3\\\\u5e74\\\\u5f8c\\\\u306e\\\\u5929\\\\u4e0b\\\\u4e00\\\\u6b66\\\\u9053\\\\u4f1a\\\\u3067\\\\u306f\\\\u3001\\\\u4e80\\\\u4ed9\\\\u6d41\\\\u306e\\\\u30e9\\\\u30a4\\\\u30d0\\\\u30eb\\\\u3067\\\\u3042\\\\u308b\\\\u9db4\\\\u4ed9\\\\u6d41\\\\u306e\\\\u5929\\\\u6d25\\\\u98ef\\\\uff08\\\\u3066\\\\u3093\\\\u3057\\\\u3093\\\\u306f\\\\u3093\\\\uff09\\\\u3068\\\\u95d8\\\\u3046\\\\u304c\\\\u3001\\\\u3042\\\\u3068\\\\u4e00\\\\u6b69\\\\u306e\\\\u3068\\\\u3053\\\\u308d\\\\u3067\\\\u6557\\\\u308c\\\\u3001\\\\u524d\\\\u56de\\\\u3068\\\\u540c\\\\u3058\\\\u304f\\\\u6e96\\\\u512a\\\\u52dd\\\\u306b\\\\u7d42\\\\u308f\\\\u308b\\\\u3002\\\\u5929\\\\u4e0b\\\\u4e00\\\\u6b66\\\\u9053\\\\u4f1a\\\\u7d42\\\\u4e86\\\\u5f8c\\\\u3001\\\\u30d4\\\\u30e9\\\\u30d5\\\\u4e00\\\\u5473\\\\u306b\\\\u3088\\\\u3063\\\\u3066\\\\u5fa9\\\\u6d3b\\\\u3057\\\\u305f\\\\u30d4\\\\u30c3\\\\u30b3\\\\u30ed\\\\u5927\\\\u9b54\\\\u738b\\\\u306b\\\\u3088\\\\u3063\\\\u3066\\\\u3001\\\\u30af\\\\u30ea\\\\u30ea\\\\u30f3\\\\u3084\\\\u4e80\\\\u4ed9\\\\u4eba\\\\u306a\\\\u3069\\\\u609f\\\\u7a7a\\\\u306e\\\\u4ef2\\\\u9593\\\\u305f\\\\u3061\\\\u3084\\\\u591a\\\\u304f\\\\u306e\\\\u6b66\\\\u9053\\\\u5bb6\\\\u305f\\\\u3061\\\\u304c\\\\u6bba\\\\u3055\\\\u308c\\\\u308b\\\\u3002\\\\u609f\\\\u7a7a\\\\u306f\\\\u4ec7\\\\u3092\\\\u8a0e\\\\u3064\\\\u305f\\\\u3081\\\\u3001\\\\u9053\\\\u4e2d\\\\u306b\\\\u51fa\\\\u4f1a\\\\u3063\\\\u305f\\\\u30e4\\\\u30b8\\\\u30ed\\\\u30d9\\\\u30fc\\\\u3084\\\\u4ed9\\\\u732b\\\\u30ab\\\\u30ea\\\\u30f3\\\\u306e\\\\u5354\\\\u529b\\\\u3092\\\\u5f97\\\\u3066\\\\u547d\\\\u3092\\\\u8ced\\\\u3057\\\\u3066\\\\u6f5c\\\\u5728\\\\u3059\\\\u308b\\\\u529b\\\\u3092\\\\u5f15\\\\u304d\\\\u51fa\\\\u3057\\\\u3001\\\\u30d4\\\\u30c3\\\\u30b3\\\\u30ed\\\\u5927\\\\u9b54\\\\u738b\\\\u306b\\\\u95d8\\\\u3044\\\\u3092\\\\u6311\\\\u307f\\\\u52dd\\\\u5229\\\\u3059\\\\u308b\\\\u3002\\\\u95d8\\\\u3044\\\\u306e\\\\u5f8c\\\\u3001\\\\u609f\\\\u7a7a\\\\u306f\\\\u30d4\\\\u30c3\\\\u30b3\\\\u30ed\\\\u5927\\\\u9b54\\\\u738b\\\\u306b\\\\u6bba\\\\u3055\\\\u308c\\\\u305f\\\\u795e\\\\u9f8d\\\\u3084\\\\u4ef2\\\\u9593\\\\u305f\\\\u3061\\\\u306e\\\\u5fa9\\\\u6d3b\\\\u306e\\\\u305f\\\\u3081\\\\u5929\\\\u754c\\\\u3078\\\\u5411\\\\u304b\\\\u3044\\\\u3001\\\\u30c9\\\\u30e9\\\\u30b4\\\\u30f3\\\\u30dc\\\\u30fc\\\\u30eb\\\\u306e\\\\u5275\\\\u9020\\\\u8005\\\\u3067\\\\u3042\\\\u308b\\\\u795e\\\\u306b\\\\u4f1a\\\\u3046\\\\u3002\\\\u305d\\\\u3053\\\\u3067\\\\u795e\\\\u9f8d\\\\u5fa9\\\\u6d3b\\\\u306e\\\\u6761\\\\u4ef6\\\\u3068\\\\u3057\\\\u3066\\\\u3001\\\\u795e\\\\u306e\\\\u4e0b\\\\u3067\\\\u5929\\\\u754c\\\\u3067\\\\u4fee\\\\u884c\\\\u3059\\\\u308b\\\\u3053\\\\u3068\\\\u3068\\\\u306a\\\\u3063\\\\u305f\\\\u3002\\\\u305d\\\\u306e\\\\u7d043\\\\u5e74\\\\u5f8c\\\\u3001\\\\u5c11\\\\u5e74\\\\u304b\\\\u3089\\\\u9752\\\\u5e74\\\\u3078\\\\u3068\\\\u6210\\\\u9577\\\\u3057\\\\u305f\\\\u609f\\\\u7a7a\\\\u306f\\\\u3001\\\\u5929\\\\u4e0b\\\\u4e00\\\\u6b66\\\\u9053\\\\u4f1a\\\\u306e\\\\u4f1a\\\\u5834\\\\u3067\\\\u4ef2\\\\u9593\\\\u305f\\\\u3061\\\\u3068\\\\u518d\\\\u4f1a\\\\u3002\\\\u8a66\\\\u5408\\\\u3067\\\\u306f\\\\u3001\\\\u5c11\\\\u5e74\\\\u6642\\\\u4ee3\\\\u306b\\\\u51fa\\\\u4f1a\\\\u3063\\\\u305f\\\\u969b\\\\u306b\\\\u300c\\\\u5ac1\\\\u306b\\\\u3082\\\\u3089\\\\u3046\\\\u300d\\\\u3068\\\\u7d04\\\\u675f\\\\u3057\\\\u3066\\\\u3044\\\\u305f\\\\u725b\\\\u9b54\\\\u738b\\\\u306e\\\\u5a18\\\\u30fb\\\\u30c1\\\\u30c1\\\\u3068\\\\u518d\\\\u4f1a\\\\u3057\\\\u305d\\\\u306e\\\\u5834\\\\u3067\\\\u7d50\\\\u5a5a\\\\u3002\\\\u305d\\\\u3057\\\\u3066\\\\u6b66\\\\u9053\\\\u4f1a\\\\u306b\\\\u51fa\\\\u5834\\\\u3057\\\\u3066\\\\u3044\\\\u305f\\\\u30d4\\\\u30c3\\\\u30b3\\\\u30ed\\\\u5927\\\\u9b54\\\\u738b\\\\u306e\\\\u751f\\\\u307e\\\\u308c\\\\u5909\\\\u308f\\\\u308a\\\\u3067\\\\u3042\\\\u308b\\\\u30de\\\\u30b8\\\\u30e5\\\\u30cb\\\\u30a2\\\\u3068\\\\u6c7a\\\\u52dd\\\\u6226\\\\u3067\\\\u6fc0\\\\u7a81\\\\u3001\\\\u3053\\\\u308c\\\\u306b\\\\u52dd\\\\u5229\\\\u3057\\\\u521d\\\\u306e\\\\u5929\\\\u4e0b\\\\u4e00\\\\u6b66\\\\u9053\\\\u4f1a\\\\u512a\\\\u52dd\\\\u3092\\\\u98fe\\\\u308b\\\\u3002\\\\u30d4\\\\u30c3\\\\u30b3\\\\u30ed\\\\uff08\\\\u30de\\\\u30b8\\\\u30e5\\\\u30cb\\\\u30a2\\\\uff09\\\\u3068\\\\u306e\\\\u95d8\\\\u3044\\\\u304b\\\\u3089\\\\u7d045\\\\u5e74\\\\u5f8c\\\\u3001\\\\u606f\\\\u5b50\\\\u306e\\\\u5b6b\\\\u609f\\\\u98ef\\\\u3092\\\\u5132\\\\u3051\\\\u3066\\\\u5e73\\\\u548c\\\\u306a\\\\u65e5\\\\u3005\\\\u3092\\\\u904e\\\\u3054\\\\u3057\\\\u3066\\\\u3044\\\\u305f\\\\u609f\\\\u7a7a\\\\u306e\\\\u3082\\\\u3068\\\\u306b\\\\u3001\\\\u5b9f\\\\u5144\\\\u30fb\\\\u30e9\\\\u30c7\\\\u30a3\\\\u30c3\\\\u30c4\\\\u304c\\\\u5b87\\\\u5b99\\\\u3088\\\\u308a\\\\u6765\\\\u8972\\\\u3057\\\\u3001\\\\u81ea\\\\u5206\\\\u304c\\\\u60d1\\\\u661f\\\\u30d9\\\\u30b8\\\\u30fc\\\\u30bf\\\\u306e\\\\u6226\\\\u95d8\\\\u6c11\\\\u65cf\\\\u30fb\\\\u30b5\\\\u30a4\\\\u30e4\\\\u4eba\\\\u3067\\\\u3042\\\\u308b\\\\u3053\\\\u3068\\\\u3092\\\\u77e5\\\\u3089\\\\u3055\\\\u308c\\\\u308b\\\\u3002\\\\u3055\\\\u3089\\\\u308f\\\\u308c\\\\u305f\\\\u5b6b\\\\u609f\\\\u98ef\\\\u3092\\\\u52a9\\\\u3051\\\\u308b\\\\u305f\\\\u3081\\\\u609f\\\\u7a7a\\\\u306f\\\\u5bbf\\\\u6575\\\\u30d4\\\\u30c3\\\\u30b3\\\\u30ed\\\\u3068\\\\u624b\\\\u3092\\\\u7d44\\\\u307f\\\\u3001\\\\u81ea\\\\u3089\\\\u306e\\\\u547d\\\\u3068\\\\u5f15\\\\u304d\\\\u63db\\\\u3048\\\\u306b\\\\u30e9\\\\u30c7\\\\u30a3\\\\u30c3\\\\u30c4\\\\u3092\\\\u5012\\\\u3059\\\\u304c\\\\u3001\\\\u7d041\\\\u5e74\\\\u5f8c\\\\u306b\\\\u306f\\\\u3055\\\\u3089\\\\u306b\\\\u5f37\\\\u529b\\\\u306a\\\\u30b5\\\\u30a4\\\\u30e4\\\\u4eba\\\\u305f\\\\u3061\\\\u304c\\\\u30c9\\\\u30e9\\\\u30b4\\\\u30f3\\\\u30dc\\\\u30fc\\\\u30eb\\\\u3092\\\\u6c42\\\\u3081\\\\u3066\\\\u5730\\\\u7403\\\\u306b\\\\u6765\\\\u8972\\\\u3059\\\\u308b\\\\u3053\\\\u3068\\\\u3092\\\\u77e5\\\\u308b\\\\u3002\\\\u609f\\\\u7a7a\\\\u306f\\\\u30c9\\\\u30e9\\\\u30b4\\\\u30f3\\\\u30dc\\\\u30fc\\\\u30eb\\\\u306b\\\\u3088\\\\u3063\\\\u3066\\\\u751f\\\\u304d\\\\u8fd4\\\\u308b\\\\u307e\\\\u3067\\\\u306e\\\\u9593\\\\u3001\\\\u3042\\\\u306e\\\\u4e16\\\\u306e\\\\u754c\\\\u738b\\\\u306e\\\\u4e0b\\\\u3067\\\\u4fee\\\\u696d\\\\u3057\\\\u3001\\\\u4ef2\\\\u9593\\\\u3068\\\\u5171\\\\u306b\\\\u5730\\\\u7403\\\\u306b\\\\u5f37\\\\u8972\\\\u3057\\\\u305f\\\\u30b5\\\\u30a4\\\\u30e4\\\\u4eba\\\\u306e\\\\u6226\\\\u58eb\\\\u30fb\\\\u30ca\\\\u30c3\\\\u30d1\\\\u3068\\\\u738b\\\\u5b50\\\\u30fb\\\\u30d9\\\\u30b8\\\\u30fc\\\\u30bf\\\\u3092\\\\u8fce\\\\u3048\\\\u6483\\\\u3064\\\\u3002\\\\u609f\\\\u7a7a\\\\u306f\\\\u4fee\\\\u884c\\\\u306b\\\\u3088\\\\u308a\\\\u5897\\\\u3057\\\\u305f\\\\u529b\\\\u3067\\\\u30ca\\\\u30c3\\\\u30d1\\\\u3092\\\\u4e00\\\\u8e74\\\\u3057\\\\u3001\\\\u30d9\\\\u30b8\\\\u30fc\\\\u30bf\\\\u3068\\\\u6c7a\\\\u95d8\\\\u3002\\\\u4ef2\\\\u9593\\\\u306e\\\\u5354\\\\u529b\\\\u3082\\\\u3042\\\\u308a\\\\u3001\\\\u4f55\\\\u3068\\\\u304b\\\\u8f9b\\\\u52dd\\\\u3057\\\\u64a4\\\\u9000\\\\u3055\\\\u305b\\\\u308b\\\\u304c\\\\u3001\\\\u591a\\\\u304f\\\\u306e\\\\u4ef2\\\\u9593\\\\u3092\\\\u5931\\\\u3046\\\\u3068\\\\u3068\\\\u3082\\\\u306b\\\\u3001\\\\u30d4\\\\u30c3\\\\u30b3\\\\u30ed\\\\u306e\\\\u6226\\\\u6b7b\\\\u306b\\\\u3088\\\\u308a\\\\u5f7c\\\\u3068\\\\u4e00\\\\u5fc3\\\\u540c\\\\u4f53\\\\u3067\\\\u3042\\\\u3063\\\\u305f\\\\u795e\\\\u3082\\\\u6b7b\\\\u4ea1\\\\u3057\\\\u3001\\\\u5730\\\\u7403\\\\u306e\\\\u30c9\\\\u30e9\\\\u30b4\\\\u30f3\\\\u30dc\\\\u30fc\\\\u30eb\\\\u3082\\\\u6d88\\\\u6ec5\\\\u3059\\\\u308b\\\\u3002\\\\n\\\\nTl;dr\\\\n\\\\u8981\\\\u7d04\\\\u306f\\\\u4ee5\\\\u4e0b\\\\u306e\\\\u901a\\\\u308a\\\\u3067\\\\u3059\\\\n\", \"temperature\": 0, \"max_tokens\": 2048}' message='Post details'\n"
     ]
    },
    {
     "name": "stdout",
     "output_type": "stream",
     "text": [
      "DEBUG:urllib3.connectionpool:Resetting dropped connection: api.openai.com\n",
      "DEBUG:urllib3.connectionpool:https://api.openai.com:443 \"POST /v1/engines/text-davinci-003/completions HTTP/1.1\" 200 None\n",
      "DEBUG:openai:message='OpenAI API response' path=https://api.openai.com/v1/engines/text-davinci-003/completions processing_ms=23611 request_id=9b0666c42bb83c17a6822f0e16c801ad response_code=200\n",
      "{\n",
      "  \"choices\": [\n",
      "    {\n",
      "      \"finish_reason\": \"stop\",\n",
      "      \"index\": 0,\n",
      "      \"logprobs\": null,\n",
      "      \"text\": \"\\n\\u5b6b\\u609f\\u7a7a\\u306f\\u3001\\u30c9\\u30e9\\u30b4\\u30f3\\u30dc\\u30fc\\u30eb\\u30927\\u3064\\u96c6\\u3081\\u308b\\u3053\\u3068\\u3067\\u795e\\u9f8d\\u3092\\u53ec\\u559a\\u3067\\u304d\\u308b\\u3053\\u3068\\u3092\\u77e5\\u308a\\u3001\\u30d6\\u30eb\\u30de\\u3068\\u5171\\u306b\\u6b8b\\u308a\\u306e\\u30c9\\u30e9\\u30b4\\u30f3\\u30dc\\u30fc\\u30eb\\u3092\\u63a2\\u3059\\u65c5\\u306b\\u51fa\\u308b\\u3002\\u305d\\u306e\\u9053\\u4e2d\\u3067\\u6b66\\u8853\\u306e\\u9054\\u4eba\\u30fb\\u4e80\\u4ed9\\u4eba\\u306e\\u4e0b\\u3067\\u4fee\\u884c\\u3092\\u7a4d\\u307f\\u3001\\u5929\\u4e0b\\u4e00\\u6b66\\u9053\\u4f1a\\u306b\\u51fa\\u5834\\u3057\\u6e96\\u512a\\u52dd\\u3092\\u679c\\u305f\\u3059\\u3002\\u305d\\u306e\\u5f8c\\u3001\\u30d4\\u30e9\\u30d5\\u4e00\\u5473\\u306b\\u3088\\u3063\\u3066\\u5fa9\\u6d3b\\u3057\\u305f\\u30d4\\u30c3\\u30b3\\u30ed\\u5927\\u9b54\\u738b\\u306b\\u3088\\u3063\\u3066\\u3001\\u609f\\u7a7a\\u306e\\u4ef2\\u9593\\u305f\\u3061\\u304c\\u6bba\\u3055\\u308c\\u308b\\u3002\\u609f\\u7a7a\\u306f\\u4ec7\\u3092\\u8a0e\\u3064\\u305f\\u3081\\u3001\\u529b\\u3092\\u5f15\\u304d\\u51fa\\u3057\\u30d4\\u30c3\\u30b3\\u30ed\\u5927\\u9b54\\u738b\\u306b\\u95d8\\u3044\\u3092\\u6311\\u307f\\u52dd\\u5229\\u3059\\u308b\\u3002\\u305d\\u306e\\u5f8c\\u3001\\u609f\\u7a7a\\u306f\\u5929\\u754c\\u3078\\u5411\\u304b\\u3044\\u3001\\u30c9\\u30e9\\u30b4\\u30f3\\u30dc\\u30fc\\u30eb\\u306e\\u5275\\u9020\\u8005\\u3067\\u3042\\u308b\\u795e\\u306b\\u4f1a\\u3044\\u3001\\u795e\\u9f8d\\u306e\\u5fa9\\u6d3b\\u306e\\u6761\\u4ef6\\u3068\\u3057\\u3066\\u5929\\u754c\\u3067\\u4fee\\u884c\\u3059\\u308b\\u3053\\u3068\\u3092\\u7d04\\u675f\\u3059\\u308b\\u30023\\u5e74\\u5f8c\\u3001\\u609f\\u7a7a\\u306f\\u5929\\u4e0b\\u4e00\\u6b66\\u9053\\u4f1a\\u306e\\u4f1a\\u5834\\u3067\\u4ef2\\u9593\\u305f\\u3061\\u3068\\u518d\\u4f1a\\u3057\\u3001\\u512a\\u52dd\\u3092\\u679c\\u305f\\u3059\\u3002\\u305d\\u3057\\u3066\\u7d045\\u5e74\\u5f8c\\u3001\\u609f\\u7a7a\\u306f\\u5b87\\u5b99\\u304b\\u3089\\u6765\\u8972\\u3057\\u305f\\u5b9f\\u5144\\u30fb\\u30e9\\u30c7\\u30a3\\u30c3\\u30c4\\u3092\\u5012\\u3059\\u305f\\u3081\\u3001\\u30d4\\u30c3\\u30b3\\u30ed\\u3068\\u624b\\u3092\\u7d44\\u3080\\u304c\\u3001\\u3055\\u3089\\u306b\\u5f37\\u529b\\u306a\\u30b5\\u30a4\\u30e4\\u4eba\\u305f\\u3061\\u304c\\u30c9\\u30e9\\u30b4\\u30f3\\u30dc\\u30fc\\u30eb\\u3092\\u6c42\\u3081\\u3066\\u5730\\u7403\\u306b\\u6765\\u8972\\u3059\\u308b\\u3053\\u3068\\u3092\\u77e5\\u308b\\u3002\\u609f\\u7a7a\\u306f\\u4fee\\u884c\\u306b\\u3088\\u308a\\u5897\\u3057\\u305f\\u529b\\u3067\\u30ca\\u30c3\\u30d1\\u3092\\u4e00\\u8e74\\u3057\\u3001\\u30d9\\u30b8\\u30fc\\u30bf\\u3068\\u6c7a\\u95d8\\u3057\\u8f9b\\u52dd\\u3057\\u64a4\\u9000\\u3055\\u305b\\u308b\\u304c\\u3001\\u591a\\u304f\\u306e\\u4ef2\\u9593\\u3092\\u5931\\u3046\\u3068\\u3068\\u3082\\u306b\\u3001\\u30c9\\u30e9\\u30b4\\u30f3\\u30dc\\u30fc\\u30eb\\u3082\\u6d88\\u6ec5\\u3059\\u308b\\u3002\"\n",
      "    }\n",
      "  ],\n",
      "  \"created\": 1678462509,\n",
      "  \"id\": \"cmpl-6sZ3tu6RgfekkmYRAVBzaJzgNRUyX\",\n",
      "  \"model\": \"text-davinci-003\",\n",
      "  \"object\": \"text_completion\",\n",
      "  \"usage\": {\n",
      "    \"completion_tokens\": 591,\n",
      "    \"prompt_tokens\": 1885,\n",
      "    \"total_tokens\": 2476\n",
      "  }\n",
      "}\n"
     ]
    }
   ],
   "source": [
    "prompt = crean_text(text) +  prompt\n",
    "\n",
    "\n",
    "# 結果出力\n",
    "print(text_summary(prompt))"
   ]
  },
  {
   "cell_type": "code",
   "execution_count": 5,
   "id": "2d85162d",
   "metadata": {},
   "outputs": [],
   "source": [
    "import openai\n",
    "\n",
    "def text_summary(prompt):\n",
    "    # 分析の実施\n",
    "    response = openai.Completion.create(\n",
    "    engine=\"text-davinci-003\",\n",
    "    prompt=prompt,\n",
    "    temperature=0,\n",
    "    max_tokens=4096,\n",
    "    )\n",
    "\n",
    "    # 分析結果の出力\n",
    "    return response\n",
    "\n",
    "def crean_text(text):\n",
    "    text= text.replace('　',' ')\n",
    "\n",
    "    return text\n",
    "\n",
    "\n",
    "# 要約対象の文章をここに入力\n",
    "text=\"\"\"\n",
    "地球の人里離れた山奥に住む尻尾の生えた少年・孫悟空はある日、西の都からやって来た少女・ブルマと出会う。そこで、7つ集めると神龍（シェンロン）が現れ、どんな願いでも一つだけ叶えてくれるというドラゴンボールの存在を、さらに育ての親である孫悟飯の形見として大切に持っていた球がその1つ「四星球（スーシンチュウ）」であることを知り、ブルマと共に残りのドラゴンボールを探す旅に出る。人さらいのウーロンや盗賊のヤムチャらを巻き込んだボール探しの末、世界征服を企むピラフ一味にボールを奪われ神龍を呼び出されるが、ウーロンがとっさに言い放った下らない願いを叶えてもらうことで一味の野望を阻止する。その後、悟空は旅の途中に知り合った武術の達人・亀仙人の下で、後に親友となるクリリンと共に8か月間にわたる修行を積み、その成果を確かめるために世界一の武術の達人を決める天下一武道会に出場し、変装して出場していた亀仙人に敗れるも準優勝を果たす。悟空は再び修行の旅へと出発し、ドラゴンボールの悪用を企むレッドリボン軍との闘いや、孫悟飯との再会などを経てさらに強さを増していく。さらに3年後の天下一武道会では、亀仙流のライバルである鶴仙流の天津飯（てんしんはん）と闘うが、あと一歩のところで敗れ、前回と同じく準優勝に終わる。天下一武道会終了後、ピラフ一味によって復活したピッコロ大魔王によって、クリリンや亀仙人など悟空の仲間たちや多くの武道家たちが殺される。悟空は仇を討つため、道中に出会ったヤジロベーや仙猫カリンの協力を得て命を賭して潜在する力を引き出し、ピッコロ大魔王に闘いを挑み勝利する。闘いの後、悟空はピッコロ大魔王に殺された神龍や仲間たちの復活のため天界へ向かい、ドラゴンボールの創造者である神に会う。そこで神龍復活の条件として、神の下で天界で修行することとなった。その約3年後、少年から青年へと成長した悟空は、天下一武道会の会場で仲間たちと再会。試合では、少年時代に出会った際に「嫁にもらう」と約束していた牛魔王の娘・チチと再会しその場で結婚。そして武道会に出場していたピッコロ大魔王の生まれ変わりであるマジュニアと決勝戦で激突、これに勝利し初の天下一武道会優勝を飾る。ピッコロ（マジュニア）との闘いから約5年後、息子の孫悟飯を儲けて平和な日々を過ごしていた悟空のもとに、実兄・ラディッツが宇宙より来襲し、自分が惑星ベジータの戦闘民族・サイヤ人であることを知らされる。さらわれた孫悟飯を助けるため悟空は宿敵ピッコロと手を組み、自らの命と引き換えにラディッツを倒すが、約1年後にはさらに強力なサイヤ人たちがドラゴンボールを求めて地球に来襲することを知る。悟空はドラゴンボールによって生き返るまでの間、あの世の界王の下で修業し、仲間と共に地球に強襲したサイヤ人の戦士・ナッパと王子・ベジータを迎え撃つ。悟空は修行により増した力でナッパを一蹴し、ベジータと決闘。仲間の協力もあり、何とか辛勝し撤退させるが、多くの仲間を失うとともに、ピッコロの戦死により彼と一心同体であった神も死亡し、地球のドラゴンボールも消滅する。\n",
    "\"\"\"\n",
    "#text=\"\"\"\n",
    "#地球の神と殺された仲間たちを甦らせるため、重傷で入院中の悟空に代わり、悟飯、クリリン、ブルマの3人が神とピッコロの故郷であるナメック星へ向かう。だが、そこには地球で闘ったベジータや、界王すら畏怖する宇宙の帝王・フリーザとその一味が不老不死を求めて来襲し、ナメック星人を虐殺しながらドラゴンボールを略奪していた。悟飯たちはベジータ、フリーザ一味とのドラゴンボールをめぐる三つ巴の攻防の末、後から到着した悟空とナメック星人たちの協力を得てナメック星の神龍・ポルンガを呼び出し、ピッコロと地球のドラゴンボールを復活させる。出し抜かれて願いが叶えられなかったフリーザは激怒し、一行は対決を強いられる。フリーザの持つ圧倒的な力の前にはベジータやピッコロ、悟空すら歯が立たず仲間たちが次々と命を落としていった。怒りを爆発させた悟空は伝説の戦士・超（スーパー）サイヤ人へと覚醒。フルパワーを解放したフリーザに勝利する。ポルンガによって地球に帰還した悟飯たちは復活したドラゴンボールによりサイヤ人やフリーザ一味に殺された人々を蘇生させた。一方の悟空も爆発するナメック星を辛くも脱出、ヤードラット星に漂着し一命を取り留めた。ナメック星での闘いから約1年後、密かに生き延びていたフリーザとその一味が地球を襲撃するが、謎の超サイヤ人によって撃退される。トランクスと名乗るその青年は、自分は未来からやってきたブルマとベジータの息子であることを悟空にだけ明かすと同時に、悟空は心臓病によって命を落とすこと、3年後に現れる2体の人造人間が絶望の未来をもたらすことを告げる。その後本当に心臓病によって危篤状態になるも、トランクスから渡された特効薬によって生還、来るべき日に備えて3年間各々に修行してその日を迎える悟空たちであったが、事態はトランクスが知っている歴史とは大きく違うものとなり、彼さえ知らなかった人造人間たちまで現れ、さらに究極の人造人間・セルが未来から出現。悟空らの想定を遥かに超えた戦士が続々と現れた人造人間17号と人造人間18号を吸収することで完全体となったセルは地球の命運を賭けた武道会「セルゲーム」の開催を全世界に宣言する。悟空らは天界にある1日で1年の修行が行えるも過酷な環境に晒される「精神と時の部屋」で修行し、強さを増してセルゲームに臨むが、悟空はこのセルとの闘いの中で地球を守るために命を落とす。だが、その遺志を受け継いだ息子・悟飯が超サイヤ人2へと覚醒、父・悟空の幻影と共にかめはめ波を放ちセルを撃破。セルゲームを制した悟飯たちは、ドラゴンボールによりセルに殺された人々を蘇生させるが、悟空は自分が悪人を引き寄せているという理由で生き返りを拒否し、あの世に残ることを選ぶ。セルゲームより約7年後、高校生に成長した悟飯が天下一武道会に出場することを知った悟空は、自らも出場するために占いババの力によって1日だけこの世に戻る。天下一武道会の最中、悟空たちは界王よりもさらに高位の存在である界王神から、恐ろしい力を持つ魔人ブウの封印が解かれようとしていることを知らされる。復活した魔人ブウにより悟飯やベジータが倒され、悟空はあの世に帰ったため、地球の命運は悟空の次男・孫悟天と少年トランクスの幼い二人に託される。一方、魔人ブウは様々な人間との出会いからより邪悪で強力な魔人へと変貌。悟天とトランクスが「フュージョン（融合）」して誕生した戦士・ゴテンクスや、潜在能力を解放し、パワーアップを遂げて帰ってきた悟飯らが応戦するが、戦士たちを次々と吸収し姿を変えていく魔人ブウに苦戦を強いられる。危機に陥った悟飯らを救うため現世に舞い戻った悟空とベジータは、界王神界で真の姿となった魔人ブウとの最終決戦に臨む。ドラゴンボールの協力もあり、地球・ナメック星・あの世の人々のエネルギーによって作り上げられた超特大の元気玉によって魔人ブウは完全に消滅する。それから10年後、悟空は孫のパンと共に天下一武道会に久しぶりに出場し、魔人ブウの生まれ変わりである少年・ウーブと出会う。悟空はウーブと共に見果てぬ強さを追い求めて修行に旅立ち、物語は幕を閉じる。\n",
    "#\"\"\"\n",
    "\n",
    "# 要約を3点で出力するように調整\n",
    "prompt ='''\n",
    "Tl;dr\n",
    "要約は以下の通りです\n",
    "'''"
   ]
  },
  {
   "cell_type": "code",
   "execution_count": 6,
   "id": "d71d4594",
   "metadata": {},
   "outputs": [
    {
     "data": {
      "text/plain": [
       "'\\nTl;dr\\n要約は以下の通りです\\n'"
      ]
     },
     "execution_count": 6,
     "metadata": {},
     "output_type": "execute_result"
    }
   ],
   "source": [
    "prompt"
   ]
  },
  {
   "cell_type": "code",
   "execution_count": 7,
   "id": "099c1ee6",
   "metadata": {},
   "outputs": [
    {
     "data": {
      "text/plain": [
       "'\\n地球の人里離れた山奥に住む尻尾の生えた少年・孫悟空はある日、西の都からやって来た少女・ブルマと出会う。そこで、7つ集めると神龍（シェンロン）が現れ、どんな願いでも一つだけ叶えてくれるというドラゴンボールの存在を、さらに育ての親である孫悟飯の形見として大切に持っていた球がその1つ「四星球（スーシンチュウ）」であることを知り、ブルマと共に残りのドラゴンボールを探す旅に出る。人さらいのウーロンや盗賊のヤムチャらを巻き込んだボール探しの末、世界征服を企むピラフ一味にボールを奪われ神龍を呼び出されるが、ウーロンがとっさに言い放った下らない願いを叶えてもらうことで一味の野望を阻止する。その後、悟空は旅の途中に知り合った武術の達人・亀仙人の下で、後に親友となるクリリンと共に8か月間にわたる修行を積み、その成果を確かめるために世界一の武術の達人を決める天下一武道会に出場し、変装して出場していた亀仙人に敗れるも準優勝を果たす。悟空は再び修行の旅へと出発し、ドラゴンボールの悪用を企むレッドリボン軍との闘いや、孫悟飯との再会などを経てさらに強さを増していく。さらに3年後の天下一武道会では、亀仙流のライバルである鶴仙流の天津飯（てんしんはん）と闘うが、あと一歩のところで敗れ、前回と同じく準優勝に終わる。天下一武道会終了後、ピラフ一味によって復活したピッコロ大魔王によって、クリリンや亀仙人など悟空の仲間たちや多くの武道家たちが殺される。悟空は仇を討つため、道中に出会ったヤジロベーや仙猫カリンの協力を得て命を賭して潜在する力を引き出し、ピッコロ大魔王に闘いを挑み勝利する。闘いの後、悟空はピッコロ大魔王に殺された神龍や仲間たちの復活のため天界へ向かい、ドラゴンボールの創造者である神に会う。そこで神龍復活の条件として、神の下で天界で修行することとなった。その約3年後、少年から青年へと成長した悟空は、天下一武道会の会場で仲間たちと再会。試合では、少年時代に出会った際に「嫁にもらう」と約束していた牛魔王の娘・チチと再会しその場で結婚。そして武道会に出場していたピッコロ大魔王の生まれ変わりであるマジュニアと決勝戦で激突、これに勝利し初の天下一武道会優勝を飾る。ピッコロ（マジュニア）との闘いから約5年後、息子の孫悟飯を儲けて平和な日々を過ごしていた悟空のもとに、実兄・ラディッツが宇宙より来襲し、自分が惑星ベジータの戦闘民族・サイヤ人であることを知らされる。さらわれた孫悟飯を助けるため悟空は宿敵ピッコロと手を組み、自らの命と引き換えにラディッツを倒すが、約1年後にはさらに強力なサイヤ人たちがドラゴンボールを求めて地球に来襲することを知る。悟空はドラゴンボールによって生き返るまでの間、あの世の界王の下で修業し、仲間と共に地球に強襲したサイヤ人の戦士・ナッパと王子・ベジータを迎え撃つ。悟空は修行により増した力でナッパを一蹴し、ベジータと決闘。仲間の協力もあり、何とか辛勝し撤退させるが、多くの仲間を失うとともに、ピッコロの戦死により彼と一心同体であった神も死亡し、地球のドラゴンボールも消滅する。\\n\\nTl;dr\\n要約は以下の通りです\\n'"
      ]
     },
     "execution_count": 7,
     "metadata": {},
     "output_type": "execute_result"
    }
   ],
   "source": [
    "crean_text(text) + prompt"
   ]
  },
  {
   "cell_type": "code",
   "execution_count": 8,
   "id": "921a8b70",
   "metadata": {},
   "outputs": [
    {
     "name": "stdout",
     "output_type": "stream",
     "text": [
      "DEBUG:openai:message='Request to OpenAI API' method=post path=https://api.openai.com/v1/engines/text-davinci-003/completions\n",
      "DEBUG:openai:api_version=None data='{\"prompt\": \"\\\\n\\\\u5730\\\\u7403\\\\u306e\\\\u4eba\\\\u91cc\\\\u96e2\\\\u308c\\\\u305f\\\\u5c71\\\\u5965\\\\u306b\\\\u4f4f\\\\u3080\\\\u5c3b\\\\u5c3e\\\\u306e\\\\u751f\\\\u3048\\\\u305f\\\\u5c11\\\\u5e74\\\\u30fb\\\\u5b6b\\\\u609f\\\\u7a7a\\\\u306f\\\\u3042\\\\u308b\\\\u65e5\\\\u3001\\\\u897f\\\\u306e\\\\u90fd\\\\u304b\\\\u3089\\\\u3084\\\\u3063\\\\u3066\\\\u6765\\\\u305f\\\\u5c11\\\\u5973\\\\u30fb\\\\u30d6\\\\u30eb\\\\u30de\\\\u3068\\\\u51fa\\\\u4f1a\\\\u3046\\\\u3002\\\\u305d\\\\u3053\\\\u3067\\\\u30017\\\\u3064\\\\u96c6\\\\u3081\\\\u308b\\\\u3068\\\\u795e\\\\u9f8d\\\\uff08\\\\u30b7\\\\u30a7\\\\u30f3\\\\u30ed\\\\u30f3\\\\uff09\\\\u304c\\\\u73fe\\\\u308c\\\\u3001\\\\u3069\\\\u3093\\\\u306a\\\\u9858\\\\u3044\\\\u3067\\\\u3082\\\\u4e00\\\\u3064\\\\u3060\\\\u3051\\\\u53f6\\\\u3048\\\\u3066\\\\u304f\\\\u308c\\\\u308b\\\\u3068\\\\u3044\\\\u3046\\\\u30c9\\\\u30e9\\\\u30b4\\\\u30f3\\\\u30dc\\\\u30fc\\\\u30eb\\\\u306e\\\\u5b58\\\\u5728\\\\u3092\\\\u3001\\\\u3055\\\\u3089\\\\u306b\\\\u80b2\\\\u3066\\\\u306e\\\\u89aa\\\\u3067\\\\u3042\\\\u308b\\\\u5b6b\\\\u609f\\\\u98ef\\\\u306e\\\\u5f62\\\\u898b\\\\u3068\\\\u3057\\\\u3066\\\\u5927\\\\u5207\\\\u306b\\\\u6301\\\\u3063\\\\u3066\\\\u3044\\\\u305f\\\\u7403\\\\u304c\\\\u305d\\\\u306e1\\\\u3064\\\\u300c\\\\u56db\\\\u661f\\\\u7403\\\\uff08\\\\u30b9\\\\u30fc\\\\u30b7\\\\u30f3\\\\u30c1\\\\u30e5\\\\u30a6\\\\uff09\\\\u300d\\\\u3067\\\\u3042\\\\u308b\\\\u3053\\\\u3068\\\\u3092\\\\u77e5\\\\u308a\\\\u3001\\\\u30d6\\\\u30eb\\\\u30de\\\\u3068\\\\u5171\\\\u306b\\\\u6b8b\\\\u308a\\\\u306e\\\\u30c9\\\\u30e9\\\\u30b4\\\\u30f3\\\\u30dc\\\\u30fc\\\\u30eb\\\\u3092\\\\u63a2\\\\u3059\\\\u65c5\\\\u306b\\\\u51fa\\\\u308b\\\\u3002\\\\u4eba\\\\u3055\\\\u3089\\\\u3044\\\\u306e\\\\u30a6\\\\u30fc\\\\u30ed\\\\u30f3\\\\u3084\\\\u76d7\\\\u8cca\\\\u306e\\\\u30e4\\\\u30e0\\\\u30c1\\\\u30e3\\\\u3089\\\\u3092\\\\u5dfb\\\\u304d\\\\u8fbc\\\\u3093\\\\u3060\\\\u30dc\\\\u30fc\\\\u30eb\\\\u63a2\\\\u3057\\\\u306e\\\\u672b\\\\u3001\\\\u4e16\\\\u754c\\\\u5f81\\\\u670d\\\\u3092\\\\u4f01\\\\u3080\\\\u30d4\\\\u30e9\\\\u30d5\\\\u4e00\\\\u5473\\\\u306b\\\\u30dc\\\\u30fc\\\\u30eb\\\\u3092\\\\u596a\\\\u308f\\\\u308c\\\\u795e\\\\u9f8d\\\\u3092\\\\u547c\\\\u3073\\\\u51fa\\\\u3055\\\\u308c\\\\u308b\\\\u304c\\\\u3001\\\\u30a6\\\\u30fc\\\\u30ed\\\\u30f3\\\\u304c\\\\u3068\\\\u3063\\\\u3055\\\\u306b\\\\u8a00\\\\u3044\\\\u653e\\\\u3063\\\\u305f\\\\u4e0b\\\\u3089\\\\u306a\\\\u3044\\\\u9858\\\\u3044\\\\u3092\\\\u53f6\\\\u3048\\\\u3066\\\\u3082\\\\u3089\\\\u3046\\\\u3053\\\\u3068\\\\u3067\\\\u4e00\\\\u5473\\\\u306e\\\\u91ce\\\\u671b\\\\u3092\\\\u963b\\\\u6b62\\\\u3059\\\\u308b\\\\u3002\\\\u305d\\\\u306e\\\\u5f8c\\\\u3001\\\\u609f\\\\u7a7a\\\\u306f\\\\u65c5\\\\u306e\\\\u9014\\\\u4e2d\\\\u306b\\\\u77e5\\\\u308a\\\\u5408\\\\u3063\\\\u305f\\\\u6b66\\\\u8853\\\\u306e\\\\u9054\\\\u4eba\\\\u30fb\\\\u4e80\\\\u4ed9\\\\u4eba\\\\u306e\\\\u4e0b\\\\u3067\\\\u3001\\\\u5f8c\\\\u306b\\\\u89aa\\\\u53cb\\\\u3068\\\\u306a\\\\u308b\\\\u30af\\\\u30ea\\\\u30ea\\\\u30f3\\\\u3068\\\\u5171\\\\u306b8\\\\u304b\\\\u6708\\\\u9593\\\\u306b\\\\u308f\\\\u305f\\\\u308b\\\\u4fee\\\\u884c\\\\u3092\\\\u7a4d\\\\u307f\\\\u3001\\\\u305d\\\\u306e\\\\u6210\\\\u679c\\\\u3092\\\\u78ba\\\\u304b\\\\u3081\\\\u308b\\\\u305f\\\\u3081\\\\u306b\\\\u4e16\\\\u754c\\\\u4e00\\\\u306e\\\\u6b66\\\\u8853\\\\u306e\\\\u9054\\\\u4eba\\\\u3092\\\\u6c7a\\\\u3081\\\\u308b\\\\u5929\\\\u4e0b\\\\u4e00\\\\u6b66\\\\u9053\\\\u4f1a\\\\u306b\\\\u51fa\\\\u5834\\\\u3057\\\\u3001\\\\u5909\\\\u88c5\\\\u3057\\\\u3066\\\\u51fa\\\\u5834\\\\u3057\\\\u3066\\\\u3044\\\\u305f\\\\u4e80\\\\u4ed9\\\\u4eba\\\\u306b\\\\u6557\\\\u308c\\\\u308b\\\\u3082\\\\u6e96\\\\u512a\\\\u52dd\\\\u3092\\\\u679c\\\\u305f\\\\u3059\\\\u3002\\\\u609f\\\\u7a7a\\\\u306f\\\\u518d\\\\u3073\\\\u4fee\\\\u884c\\\\u306e\\\\u65c5\\\\u3078\\\\u3068\\\\u51fa\\\\u767a\\\\u3057\\\\u3001\\\\u30c9\\\\u30e9\\\\u30b4\\\\u30f3\\\\u30dc\\\\u30fc\\\\u30eb\\\\u306e\\\\u60aa\\\\u7528\\\\u3092\\\\u4f01\\\\u3080\\\\u30ec\\\\u30c3\\\\u30c9\\\\u30ea\\\\u30dc\\\\u30f3\\\\u8ecd\\\\u3068\\\\u306e\\\\u95d8\\\\u3044\\\\u3084\\\\u3001\\\\u5b6b\\\\u609f\\\\u98ef\\\\u3068\\\\u306e\\\\u518d\\\\u4f1a\\\\u306a\\\\u3069\\\\u3092\\\\u7d4c\\\\u3066\\\\u3055\\\\u3089\\\\u306b\\\\u5f37\\\\u3055\\\\u3092\\\\u5897\\\\u3057\\\\u3066\\\\u3044\\\\u304f\\\\u3002\\\\u3055\\\\u3089\\\\u306b3\\\\u5e74\\\\u5f8c\\\\u306e\\\\u5929\\\\u4e0b\\\\u4e00\\\\u6b66\\\\u9053\\\\u4f1a\\\\u3067\\\\u306f\\\\u3001\\\\u4e80\\\\u4ed9\\\\u6d41\\\\u306e\\\\u30e9\\\\u30a4\\\\u30d0\\\\u30eb\\\\u3067\\\\u3042\\\\u308b\\\\u9db4\\\\u4ed9\\\\u6d41\\\\u306e\\\\u5929\\\\u6d25\\\\u98ef\\\\uff08\\\\u3066\\\\u3093\\\\u3057\\\\u3093\\\\u306f\\\\u3093\\\\uff09\\\\u3068\\\\u95d8\\\\u3046\\\\u304c\\\\u3001\\\\u3042\\\\u3068\\\\u4e00\\\\u6b69\\\\u306e\\\\u3068\\\\u3053\\\\u308d\\\\u3067\\\\u6557\\\\u308c\\\\u3001\\\\u524d\\\\u56de\\\\u3068\\\\u540c\\\\u3058\\\\u304f\\\\u6e96\\\\u512a\\\\u52dd\\\\u306b\\\\u7d42\\\\u308f\\\\u308b\\\\u3002\\\\u5929\\\\u4e0b\\\\u4e00\\\\u6b66\\\\u9053\\\\u4f1a\\\\u7d42\\\\u4e86\\\\u5f8c\\\\u3001\\\\u30d4\\\\u30e9\\\\u30d5\\\\u4e00\\\\u5473\\\\u306b\\\\u3088\\\\u3063\\\\u3066\\\\u5fa9\\\\u6d3b\\\\u3057\\\\u305f\\\\u30d4\\\\u30c3\\\\u30b3\\\\u30ed\\\\u5927\\\\u9b54\\\\u738b\\\\u306b\\\\u3088\\\\u3063\\\\u3066\\\\u3001\\\\u30af\\\\u30ea\\\\u30ea\\\\u30f3\\\\u3084\\\\u4e80\\\\u4ed9\\\\u4eba\\\\u306a\\\\u3069\\\\u609f\\\\u7a7a\\\\u306e\\\\u4ef2\\\\u9593\\\\u305f\\\\u3061\\\\u3084\\\\u591a\\\\u304f\\\\u306e\\\\u6b66\\\\u9053\\\\u5bb6\\\\u305f\\\\u3061\\\\u304c\\\\u6bba\\\\u3055\\\\u308c\\\\u308b\\\\u3002\\\\u609f\\\\u7a7a\\\\u306f\\\\u4ec7\\\\u3092\\\\u8a0e\\\\u3064\\\\u305f\\\\u3081\\\\u3001\\\\u9053\\\\u4e2d\\\\u306b\\\\u51fa\\\\u4f1a\\\\u3063\\\\u305f\\\\u30e4\\\\u30b8\\\\u30ed\\\\u30d9\\\\u30fc\\\\u3084\\\\u4ed9\\\\u732b\\\\u30ab\\\\u30ea\\\\u30f3\\\\u306e\\\\u5354\\\\u529b\\\\u3092\\\\u5f97\\\\u3066\\\\u547d\\\\u3092\\\\u8ced\\\\u3057\\\\u3066\\\\u6f5c\\\\u5728\\\\u3059\\\\u308b\\\\u529b\\\\u3092\\\\u5f15\\\\u304d\\\\u51fa\\\\u3057\\\\u3001\\\\u30d4\\\\u30c3\\\\u30b3\\\\u30ed\\\\u5927\\\\u9b54\\\\u738b\\\\u306b\\\\u95d8\\\\u3044\\\\u3092\\\\u6311\\\\u307f\\\\u52dd\\\\u5229\\\\u3059\\\\u308b\\\\u3002\\\\u95d8\\\\u3044\\\\u306e\\\\u5f8c\\\\u3001\\\\u609f\\\\u7a7a\\\\u306f\\\\u30d4\\\\u30c3\\\\u30b3\\\\u30ed\\\\u5927\\\\u9b54\\\\u738b\\\\u306b\\\\u6bba\\\\u3055\\\\u308c\\\\u305f\\\\u795e\\\\u9f8d\\\\u3084\\\\u4ef2\\\\u9593\\\\u305f\\\\u3061\\\\u306e\\\\u5fa9\\\\u6d3b\\\\u306e\\\\u305f\\\\u3081\\\\u5929\\\\u754c\\\\u3078\\\\u5411\\\\u304b\\\\u3044\\\\u3001\\\\u30c9\\\\u30e9\\\\u30b4\\\\u30f3\\\\u30dc\\\\u30fc\\\\u30eb\\\\u306e\\\\u5275\\\\u9020\\\\u8005\\\\u3067\\\\u3042\\\\u308b\\\\u795e\\\\u306b\\\\u4f1a\\\\u3046\\\\u3002\\\\u305d\\\\u3053\\\\u3067\\\\u795e\\\\u9f8d\\\\u5fa9\\\\u6d3b\\\\u306e\\\\u6761\\\\u4ef6\\\\u3068\\\\u3057\\\\u3066\\\\u3001\\\\u795e\\\\u306e\\\\u4e0b\\\\u3067\\\\u5929\\\\u754c\\\\u3067\\\\u4fee\\\\u884c\\\\u3059\\\\u308b\\\\u3053\\\\u3068\\\\u3068\\\\u306a\\\\u3063\\\\u305f\\\\u3002\\\\u305d\\\\u306e\\\\u7d043\\\\u5e74\\\\u5f8c\\\\u3001\\\\u5c11\\\\u5e74\\\\u304b\\\\u3089\\\\u9752\\\\u5e74\\\\u3078\\\\u3068\\\\u6210\\\\u9577\\\\u3057\\\\u305f\\\\u609f\\\\u7a7a\\\\u306f\\\\u3001\\\\u5929\\\\u4e0b\\\\u4e00\\\\u6b66\\\\u9053\\\\u4f1a\\\\u306e\\\\u4f1a\\\\u5834\\\\u3067\\\\u4ef2\\\\u9593\\\\u305f\\\\u3061\\\\u3068\\\\u518d\\\\u4f1a\\\\u3002\\\\u8a66\\\\u5408\\\\u3067\\\\u306f\\\\u3001\\\\u5c11\\\\u5e74\\\\u6642\\\\u4ee3\\\\u306b\\\\u51fa\\\\u4f1a\\\\u3063\\\\u305f\\\\u969b\\\\u306b\\\\u300c\\\\u5ac1\\\\u306b\\\\u3082\\\\u3089\\\\u3046\\\\u300d\\\\u3068\\\\u7d04\\\\u675f\\\\u3057\\\\u3066\\\\u3044\\\\u305f\\\\u725b\\\\u9b54\\\\u738b\\\\u306e\\\\u5a18\\\\u30fb\\\\u30c1\\\\u30c1\\\\u3068\\\\u518d\\\\u4f1a\\\\u3057\\\\u305d\\\\u306e\\\\u5834\\\\u3067\\\\u7d50\\\\u5a5a\\\\u3002\\\\u305d\\\\u3057\\\\u3066\\\\u6b66\\\\u9053\\\\u4f1a\\\\u306b\\\\u51fa\\\\u5834\\\\u3057\\\\u3066\\\\u3044\\\\u305f\\\\u30d4\\\\u30c3\\\\u30b3\\\\u30ed\\\\u5927\\\\u9b54\\\\u738b\\\\u306e\\\\u751f\\\\u307e\\\\u308c\\\\u5909\\\\u308f\\\\u308a\\\\u3067\\\\u3042\\\\u308b\\\\u30de\\\\u30b8\\\\u30e5\\\\u30cb\\\\u30a2\\\\u3068\\\\u6c7a\\\\u52dd\\\\u6226\\\\u3067\\\\u6fc0\\\\u7a81\\\\u3001\\\\u3053\\\\u308c\\\\u306b\\\\u52dd\\\\u5229\\\\u3057\\\\u521d\\\\u306e\\\\u5929\\\\u4e0b\\\\u4e00\\\\u6b66\\\\u9053\\\\u4f1a\\\\u512a\\\\u52dd\\\\u3092\\\\u98fe\\\\u308b\\\\u3002\\\\u30d4\\\\u30c3\\\\u30b3\\\\u30ed\\\\uff08\\\\u30de\\\\u30b8\\\\u30e5\\\\u30cb\\\\u30a2\\\\uff09\\\\u3068\\\\u306e\\\\u95d8\\\\u3044\\\\u304b\\\\u3089\\\\u7d045\\\\u5e74\\\\u5f8c\\\\u3001\\\\u606f\\\\u5b50\\\\u306e\\\\u5b6b\\\\u609f\\\\u98ef\\\\u3092\\\\u5132\\\\u3051\\\\u3066\\\\u5e73\\\\u548c\\\\u306a\\\\u65e5\\\\u3005\\\\u3092\\\\u904e\\\\u3054\\\\u3057\\\\u3066\\\\u3044\\\\u305f\\\\u609f\\\\u7a7a\\\\u306e\\\\u3082\\\\u3068\\\\u306b\\\\u3001\\\\u5b9f\\\\u5144\\\\u30fb\\\\u30e9\\\\u30c7\\\\u30a3\\\\u30c3\\\\u30c4\\\\u304c\\\\u5b87\\\\u5b99\\\\u3088\\\\u308a\\\\u6765\\\\u8972\\\\u3057\\\\u3001\\\\u81ea\\\\u5206\\\\u304c\\\\u60d1\\\\u661f\\\\u30d9\\\\u30b8\\\\u30fc\\\\u30bf\\\\u306e\\\\u6226\\\\u95d8\\\\u6c11\\\\u65cf\\\\u30fb\\\\u30b5\\\\u30a4\\\\u30e4\\\\u4eba\\\\u3067\\\\u3042\\\\u308b\\\\u3053\\\\u3068\\\\u3092\\\\u77e5\\\\u3089\\\\u3055\\\\u308c\\\\u308b\\\\u3002\\\\u3055\\\\u3089\\\\u308f\\\\u308c\\\\u305f\\\\u5b6b\\\\u609f\\\\u98ef\\\\u3092\\\\u52a9\\\\u3051\\\\u308b\\\\u305f\\\\u3081\\\\u609f\\\\u7a7a\\\\u306f\\\\u5bbf\\\\u6575\\\\u30d4\\\\u30c3\\\\u30b3\\\\u30ed\\\\u3068\\\\u624b\\\\u3092\\\\u7d44\\\\u307f\\\\u3001\\\\u81ea\\\\u3089\\\\u306e\\\\u547d\\\\u3068\\\\u5f15\\\\u304d\\\\u63db\\\\u3048\\\\u306b\\\\u30e9\\\\u30c7\\\\u30a3\\\\u30c3\\\\u30c4\\\\u3092\\\\u5012\\\\u3059\\\\u304c\\\\u3001\\\\u7d041\\\\u5e74\\\\u5f8c\\\\u306b\\\\u306f\\\\u3055\\\\u3089\\\\u306b\\\\u5f37\\\\u529b\\\\u306a\\\\u30b5\\\\u30a4\\\\u30e4\\\\u4eba\\\\u305f\\\\u3061\\\\u304c\\\\u30c9\\\\u30e9\\\\u30b4\\\\u30f3\\\\u30dc\\\\u30fc\\\\u30eb\\\\u3092\\\\u6c42\\\\u3081\\\\u3066\\\\u5730\\\\u7403\\\\u306b\\\\u6765\\\\u8972\\\\u3059\\\\u308b\\\\u3053\\\\u3068\\\\u3092\\\\u77e5\\\\u308b\\\\u3002\\\\u609f\\\\u7a7a\\\\u306f\\\\u30c9\\\\u30e9\\\\u30b4\\\\u30f3\\\\u30dc\\\\u30fc\\\\u30eb\\\\u306b\\\\u3088\\\\u3063\\\\u3066\\\\u751f\\\\u304d\\\\u8fd4\\\\u308b\\\\u307e\\\\u3067\\\\u306e\\\\u9593\\\\u3001\\\\u3042\\\\u306e\\\\u4e16\\\\u306e\\\\u754c\\\\u738b\\\\u306e\\\\u4e0b\\\\u3067\\\\u4fee\\\\u696d\\\\u3057\\\\u3001\\\\u4ef2\\\\u9593\\\\u3068\\\\u5171\\\\u306b\\\\u5730\\\\u7403\\\\u306b\\\\u5f37\\\\u8972\\\\u3057\\\\u305f\\\\u30b5\\\\u30a4\\\\u30e4\\\\u4eba\\\\u306e\\\\u6226\\\\u58eb\\\\u30fb\\\\u30ca\\\\u30c3\\\\u30d1\\\\u3068\\\\u738b\\\\u5b50\\\\u30fb\\\\u30d9\\\\u30b8\\\\u30fc\\\\u30bf\\\\u3092\\\\u8fce\\\\u3048\\\\u6483\\\\u3064\\\\u3002\\\\u609f\\\\u7a7a\\\\u306f\\\\u4fee\\\\u884c\\\\u306b\\\\u3088\\\\u308a\\\\u5897\\\\u3057\\\\u305f\\\\u529b\\\\u3067\\\\u30ca\\\\u30c3\\\\u30d1\\\\u3092\\\\u4e00\\\\u8e74\\\\u3057\\\\u3001\\\\u30d9\\\\u30b8\\\\u30fc\\\\u30bf\\\\u3068\\\\u6c7a\\\\u95d8\\\\u3002\\\\u4ef2\\\\u9593\\\\u306e\\\\u5354\\\\u529b\\\\u3082\\\\u3042\\\\u308a\\\\u3001\\\\u4f55\\\\u3068\\\\u304b\\\\u8f9b\\\\u52dd\\\\u3057\\\\u64a4\\\\u9000\\\\u3055\\\\u305b\\\\u308b\\\\u304c\\\\u3001\\\\u591a\\\\u304f\\\\u306e\\\\u4ef2\\\\u9593\\\\u3092\\\\u5931\\\\u3046\\\\u3068\\\\u3068\\\\u3082\\\\u306b\\\\u3001\\\\u30d4\\\\u30c3\\\\u30b3\\\\u30ed\\\\u306e\\\\u6226\\\\u6b7b\\\\u306b\\\\u3088\\\\u308a\\\\u5f7c\\\\u3068\\\\u4e00\\\\u5fc3\\\\u540c\\\\u4f53\\\\u3067\\\\u3042\\\\u3063\\\\u305f\\\\u795e\\\\u3082\\\\u6b7b\\\\u4ea1\\\\u3057\\\\u3001\\\\u5730\\\\u7403\\\\u306e\\\\u30c9\\\\u30e9\\\\u30b4\\\\u30f3\\\\u30dc\\\\u30fc\\\\u30eb\\\\u3082\\\\u6d88\\\\u6ec5\\\\u3059\\\\u308b\\\\u3002\\\\n\\\\nTl;dr\\\\n\\\\u8981\\\\u7d04\\\\u306f\\\\u4ee5\\\\u4e0b\\\\u306e\\\\u901a\\\\u308a\\\\u3067\\\\u3059\\\\n\", \"temperature\": 0, \"max_tokens\": 4096}' message='Post details'\n"
     ]
    },
    {
     "name": "stdout",
     "output_type": "stream",
     "text": [
      "DEBUG:urllib3.util.retry:Converted retries value: 2 -> Retry(total=2, connect=None, read=None, redirect=None, status=None)\n",
      "DEBUG:urllib3.connectionpool:Starting new HTTPS connection (1): api.openai.com:443\n",
      "DEBUG:urllib3.connectionpool:https://api.openai.com:443 \"POST /v1/engines/text-davinci-003/completions HTTP/1.1\" 400 295\n",
      "DEBUG:openai:message='OpenAI API response' path=https://api.openai.com/v1/engines/text-davinci-003/completions processing_ms=8 request_id=36daa57ad3f2a9a31490c99eac52dc9e response_code=400\n",
      "INFO:openai:error_code=None error_message=\"This model's maximum context length is 4097 tokens, however you requested 5981 tokens (1885 in your prompt; 4096 for the completion). Please reduce your prompt; or completion length.\" error_param=None error_type=invalid_request_error message='OpenAI API error received' stream_error=False\n"
     ]
    },
    {
     "ename": "InvalidRequestError",
     "evalue": "This model's maximum context length is 4097 tokens, however you requested 5981 tokens (1885 in your prompt; 4096 for the completion). Please reduce your prompt; or completion length.",
     "output_type": "error",
     "traceback": [
      "\u001b[0;31m---------------------------------------------------------------------------\u001b[0m",
      "\u001b[0;31mInvalidRequestError\u001b[0m                       Traceback (most recent call last)",
      "Cell \u001b[0;32mIn[8], line 2\u001b[0m\n\u001b[1;32m      1\u001b[0m prompt \u001b[38;5;241m=\u001b[39m crean_text(text) \u001b[38;5;241m+\u001b[39m  prompt\n\u001b[0;32m----> 2\u001b[0m result \u001b[38;5;241m=\u001b[39m \u001b[43mtext_summary\u001b[49m\u001b[43m(\u001b[49m\u001b[43mprompt\u001b[49m\u001b[43m)\u001b[49m\n",
      "Cell \u001b[0;32mIn[5], line 5\u001b[0m, in \u001b[0;36mtext_summary\u001b[0;34m(prompt)\u001b[0m\n\u001b[1;32m      3\u001b[0m \u001b[38;5;28;01mdef\u001b[39;00m \u001b[38;5;21mtext_summary\u001b[39m(prompt):\n\u001b[1;32m      4\u001b[0m     \u001b[38;5;66;03m# 分析の実施\u001b[39;00m\n\u001b[0;32m----> 5\u001b[0m     response \u001b[38;5;241m=\u001b[39m \u001b[43mopenai\u001b[49m\u001b[38;5;241;43m.\u001b[39;49m\u001b[43mCompletion\u001b[49m\u001b[38;5;241;43m.\u001b[39;49m\u001b[43mcreate\u001b[49m\u001b[43m(\u001b[49m\n\u001b[1;32m      6\u001b[0m \u001b[43m    \u001b[49m\u001b[43mengine\u001b[49m\u001b[38;5;241;43m=\u001b[39;49m\u001b[38;5;124;43m\"\u001b[39;49m\u001b[38;5;124;43mtext-davinci-003\u001b[39;49m\u001b[38;5;124;43m\"\u001b[39;49m\u001b[43m,\u001b[49m\n\u001b[1;32m      7\u001b[0m \u001b[43m    \u001b[49m\u001b[43mprompt\u001b[49m\u001b[38;5;241;43m=\u001b[39;49m\u001b[43mprompt\u001b[49m\u001b[43m,\u001b[49m\n\u001b[1;32m      8\u001b[0m \u001b[43m    \u001b[49m\u001b[43mtemperature\u001b[49m\u001b[38;5;241;43m=\u001b[39;49m\u001b[38;5;241;43m0\u001b[39;49m\u001b[43m,\u001b[49m\n\u001b[1;32m      9\u001b[0m \u001b[43m    \u001b[49m\u001b[43mmax_tokens\u001b[49m\u001b[38;5;241;43m=\u001b[39;49m\u001b[38;5;241;43m4096\u001b[39;49m\u001b[43m,\u001b[49m\n\u001b[1;32m     10\u001b[0m \u001b[43m    \u001b[49m\u001b[43m)\u001b[49m\n\u001b[1;32m     12\u001b[0m     \u001b[38;5;66;03m# 分析結果の出力\u001b[39;00m\n\u001b[1;32m     13\u001b[0m     \u001b[38;5;28;01mreturn\u001b[39;00m response\n",
      "File \u001b[0;32m~/opt/anaconda3/envs/openai/lib/python3.11/site-packages/openai/api_resources/completion.py:25\u001b[0m, in \u001b[0;36mCompletion.create\u001b[0;34m(cls, *args, **kwargs)\u001b[0m\n\u001b[1;32m     23\u001b[0m \u001b[38;5;28;01mwhile\u001b[39;00m \u001b[38;5;28;01mTrue\u001b[39;00m:\n\u001b[1;32m     24\u001b[0m     \u001b[38;5;28;01mtry\u001b[39;00m:\n\u001b[0;32m---> 25\u001b[0m         \u001b[38;5;28;01mreturn\u001b[39;00m \u001b[38;5;28;43msuper\u001b[39;49m\u001b[43m(\u001b[49m\u001b[43m)\u001b[49m\u001b[38;5;241;43m.\u001b[39;49m\u001b[43mcreate\u001b[49m\u001b[43m(\u001b[49m\u001b[38;5;241;43m*\u001b[39;49m\u001b[43margs\u001b[49m\u001b[43m,\u001b[49m\u001b[43m \u001b[49m\u001b[38;5;241;43m*\u001b[39;49m\u001b[38;5;241;43m*\u001b[39;49m\u001b[43mkwargs\u001b[49m\u001b[43m)\u001b[49m\n\u001b[1;32m     26\u001b[0m     \u001b[38;5;28;01mexcept\u001b[39;00m TryAgain \u001b[38;5;28;01mas\u001b[39;00m e:\n\u001b[1;32m     27\u001b[0m         \u001b[38;5;28;01mif\u001b[39;00m timeout \u001b[38;5;129;01mis\u001b[39;00m \u001b[38;5;129;01mnot\u001b[39;00m \u001b[38;5;28;01mNone\u001b[39;00m \u001b[38;5;129;01mand\u001b[39;00m time\u001b[38;5;241m.\u001b[39mtime() \u001b[38;5;241m>\u001b[39m start \u001b[38;5;241m+\u001b[39m timeout:\n",
      "File \u001b[0;32m~/opt/anaconda3/envs/openai/lib/python3.11/site-packages/openai/api_resources/abstract/engine_api_resource.py:153\u001b[0m, in \u001b[0;36mEngineAPIResource.create\u001b[0;34m(cls, api_key, api_base, api_type, request_id, api_version, organization, **params)\u001b[0m\n\u001b[1;32m    127\u001b[0m \u001b[38;5;129m@classmethod\u001b[39m\n\u001b[1;32m    128\u001b[0m \u001b[38;5;28;01mdef\u001b[39;00m \u001b[38;5;21mcreate\u001b[39m(\n\u001b[1;32m    129\u001b[0m     \u001b[38;5;28mcls\u001b[39m,\n\u001b[0;32m   (...)\u001b[0m\n\u001b[1;32m    136\u001b[0m     \u001b[38;5;241m*\u001b[39m\u001b[38;5;241m*\u001b[39mparams,\n\u001b[1;32m    137\u001b[0m ):\n\u001b[1;32m    138\u001b[0m     (\n\u001b[1;32m    139\u001b[0m         deployment_id,\n\u001b[1;32m    140\u001b[0m         engine,\n\u001b[0;32m   (...)\u001b[0m\n\u001b[1;32m    150\u001b[0m         api_key, api_base, api_type, api_version, organization, \u001b[38;5;241m*\u001b[39m\u001b[38;5;241m*\u001b[39mparams\n\u001b[1;32m    151\u001b[0m     )\n\u001b[0;32m--> 153\u001b[0m     response, _, api_key \u001b[38;5;241m=\u001b[39m \u001b[43mrequestor\u001b[49m\u001b[38;5;241;43m.\u001b[39;49m\u001b[43mrequest\u001b[49m\u001b[43m(\u001b[49m\n\u001b[1;32m    154\u001b[0m \u001b[43m        \u001b[49m\u001b[38;5;124;43m\"\u001b[39;49m\u001b[38;5;124;43mpost\u001b[39;49m\u001b[38;5;124;43m\"\u001b[39;49m\u001b[43m,\u001b[49m\n\u001b[1;32m    155\u001b[0m \u001b[43m        \u001b[49m\u001b[43murl\u001b[49m\u001b[43m,\u001b[49m\n\u001b[1;32m    156\u001b[0m \u001b[43m        \u001b[49m\u001b[43mparams\u001b[49m\u001b[38;5;241;43m=\u001b[39;49m\u001b[43mparams\u001b[49m\u001b[43m,\u001b[49m\n\u001b[1;32m    157\u001b[0m \u001b[43m        \u001b[49m\u001b[43mheaders\u001b[49m\u001b[38;5;241;43m=\u001b[39;49m\u001b[43mheaders\u001b[49m\u001b[43m,\u001b[49m\n\u001b[1;32m    158\u001b[0m \u001b[43m        \u001b[49m\u001b[43mstream\u001b[49m\u001b[38;5;241;43m=\u001b[39;49m\u001b[43mstream\u001b[49m\u001b[43m,\u001b[49m\n\u001b[1;32m    159\u001b[0m \u001b[43m        \u001b[49m\u001b[43mrequest_id\u001b[49m\u001b[38;5;241;43m=\u001b[39;49m\u001b[43mrequest_id\u001b[49m\u001b[43m,\u001b[49m\n\u001b[1;32m    160\u001b[0m \u001b[43m        \u001b[49m\u001b[43mrequest_timeout\u001b[49m\u001b[38;5;241;43m=\u001b[39;49m\u001b[43mrequest_timeout\u001b[49m\u001b[43m,\u001b[49m\n\u001b[1;32m    161\u001b[0m \u001b[43m    \u001b[49m\u001b[43m)\u001b[49m\n\u001b[1;32m    163\u001b[0m     \u001b[38;5;28;01mif\u001b[39;00m stream:\n\u001b[1;32m    164\u001b[0m         \u001b[38;5;66;03m# must be an iterator\u001b[39;00m\n\u001b[1;32m    165\u001b[0m         \u001b[38;5;28;01massert\u001b[39;00m \u001b[38;5;129;01mnot\u001b[39;00m \u001b[38;5;28misinstance\u001b[39m(response, OpenAIResponse)\n",
      "File \u001b[0;32m~/opt/anaconda3/envs/openai/lib/python3.11/site-packages/openai/api_requestor.py:226\u001b[0m, in \u001b[0;36mAPIRequestor.request\u001b[0;34m(self, method, url, params, headers, files, stream, request_id, request_timeout)\u001b[0m\n\u001b[1;32m    205\u001b[0m \u001b[38;5;28;01mdef\u001b[39;00m \u001b[38;5;21mrequest\u001b[39m(\n\u001b[1;32m    206\u001b[0m     \u001b[38;5;28mself\u001b[39m,\n\u001b[1;32m    207\u001b[0m     method,\n\u001b[0;32m   (...)\u001b[0m\n\u001b[1;32m    214\u001b[0m     request_timeout: Optional[Union[\u001b[38;5;28mfloat\u001b[39m, Tuple[\u001b[38;5;28mfloat\u001b[39m, \u001b[38;5;28mfloat\u001b[39m]]] \u001b[38;5;241m=\u001b[39m \u001b[38;5;28;01mNone\u001b[39;00m,\n\u001b[1;32m    215\u001b[0m ) \u001b[38;5;241m-\u001b[39m\u001b[38;5;241m>\u001b[39m Tuple[Union[OpenAIResponse, Iterator[OpenAIResponse]], \u001b[38;5;28mbool\u001b[39m, \u001b[38;5;28mstr\u001b[39m]:\n\u001b[1;32m    216\u001b[0m     result \u001b[38;5;241m=\u001b[39m \u001b[38;5;28mself\u001b[39m\u001b[38;5;241m.\u001b[39mrequest_raw(\n\u001b[1;32m    217\u001b[0m         method\u001b[38;5;241m.\u001b[39mlower(),\n\u001b[1;32m    218\u001b[0m         url,\n\u001b[0;32m   (...)\u001b[0m\n\u001b[1;32m    224\u001b[0m         request_timeout\u001b[38;5;241m=\u001b[39mrequest_timeout,\n\u001b[1;32m    225\u001b[0m     )\n\u001b[0;32m--> 226\u001b[0m     resp, got_stream \u001b[38;5;241m=\u001b[39m \u001b[38;5;28;43mself\u001b[39;49m\u001b[38;5;241;43m.\u001b[39;49m\u001b[43m_interpret_response\u001b[49m\u001b[43m(\u001b[49m\u001b[43mresult\u001b[49m\u001b[43m,\u001b[49m\u001b[43m \u001b[49m\u001b[43mstream\u001b[49m\u001b[43m)\u001b[49m\n\u001b[1;32m    227\u001b[0m     \u001b[38;5;28;01mreturn\u001b[39;00m resp, got_stream, \u001b[38;5;28mself\u001b[39m\u001b[38;5;241m.\u001b[39mapi_key\n",
      "File \u001b[0;32m~/opt/anaconda3/envs/openai/lib/python3.11/site-packages/openai/api_requestor.py:619\u001b[0m, in \u001b[0;36mAPIRequestor._interpret_response\u001b[0;34m(self, result, stream)\u001b[0m\n\u001b[1;32m    611\u001b[0m     \u001b[38;5;28;01mreturn\u001b[39;00m (\n\u001b[1;32m    612\u001b[0m         \u001b[38;5;28mself\u001b[39m\u001b[38;5;241m.\u001b[39m_interpret_response_line(\n\u001b[1;32m    613\u001b[0m             line, result\u001b[38;5;241m.\u001b[39mstatus_code, result\u001b[38;5;241m.\u001b[39mheaders, stream\u001b[38;5;241m=\u001b[39m\u001b[38;5;28;01mTrue\u001b[39;00m\n\u001b[1;32m    614\u001b[0m         )\n\u001b[1;32m    615\u001b[0m         \u001b[38;5;28;01mfor\u001b[39;00m line \u001b[38;5;129;01min\u001b[39;00m parse_stream(result\u001b[38;5;241m.\u001b[39miter_lines())\n\u001b[1;32m    616\u001b[0m     ), \u001b[38;5;28;01mTrue\u001b[39;00m\n\u001b[1;32m    617\u001b[0m \u001b[38;5;28;01melse\u001b[39;00m:\n\u001b[1;32m    618\u001b[0m     \u001b[38;5;28;01mreturn\u001b[39;00m (\n\u001b[0;32m--> 619\u001b[0m         \u001b[38;5;28;43mself\u001b[39;49m\u001b[38;5;241;43m.\u001b[39;49m\u001b[43m_interpret_response_line\u001b[49m\u001b[43m(\u001b[49m\n\u001b[1;32m    620\u001b[0m \u001b[43m            \u001b[49m\u001b[43mresult\u001b[49m\u001b[38;5;241;43m.\u001b[39;49m\u001b[43mcontent\u001b[49m\u001b[38;5;241;43m.\u001b[39;49m\u001b[43mdecode\u001b[49m\u001b[43m(\u001b[49m\u001b[38;5;124;43m\"\u001b[39;49m\u001b[38;5;124;43mutf-8\u001b[39;49m\u001b[38;5;124;43m\"\u001b[39;49m\u001b[43m)\u001b[49m\u001b[43m,\u001b[49m\n\u001b[1;32m    621\u001b[0m \u001b[43m            \u001b[49m\u001b[43mresult\u001b[49m\u001b[38;5;241;43m.\u001b[39;49m\u001b[43mstatus_code\u001b[49m\u001b[43m,\u001b[49m\n\u001b[1;32m    622\u001b[0m \u001b[43m            \u001b[49m\u001b[43mresult\u001b[49m\u001b[38;5;241;43m.\u001b[39;49m\u001b[43mheaders\u001b[49m\u001b[43m,\u001b[49m\n\u001b[1;32m    623\u001b[0m \u001b[43m            \u001b[49m\u001b[43mstream\u001b[49m\u001b[38;5;241;43m=\u001b[39;49m\u001b[38;5;28;43;01mFalse\u001b[39;49;00m\u001b[43m,\u001b[49m\n\u001b[1;32m    624\u001b[0m \u001b[43m        \u001b[49m\u001b[43m)\u001b[49m,\n\u001b[1;32m    625\u001b[0m         \u001b[38;5;28;01mFalse\u001b[39;00m,\n\u001b[1;32m    626\u001b[0m     )\n",
      "File \u001b[0;32m~/opt/anaconda3/envs/openai/lib/python3.11/site-packages/openai/api_requestor.py:679\u001b[0m, in \u001b[0;36mAPIRequestor._interpret_response_line\u001b[0;34m(self, rbody, rcode, rheaders, stream)\u001b[0m\n\u001b[1;32m    677\u001b[0m stream_error \u001b[38;5;241m=\u001b[39m stream \u001b[38;5;129;01mand\u001b[39;00m \u001b[38;5;124m\"\u001b[39m\u001b[38;5;124merror\u001b[39m\u001b[38;5;124m\"\u001b[39m \u001b[38;5;129;01min\u001b[39;00m resp\u001b[38;5;241m.\u001b[39mdata\n\u001b[1;32m    678\u001b[0m \u001b[38;5;28;01mif\u001b[39;00m stream_error \u001b[38;5;129;01mor\u001b[39;00m \u001b[38;5;129;01mnot\u001b[39;00m \u001b[38;5;241m200\u001b[39m \u001b[38;5;241m<\u001b[39m\u001b[38;5;241m=\u001b[39m rcode \u001b[38;5;241m<\u001b[39m \u001b[38;5;241m300\u001b[39m:\n\u001b[0;32m--> 679\u001b[0m     \u001b[38;5;28;01mraise\u001b[39;00m \u001b[38;5;28mself\u001b[39m\u001b[38;5;241m.\u001b[39mhandle_error_response(\n\u001b[1;32m    680\u001b[0m         rbody, rcode, resp\u001b[38;5;241m.\u001b[39mdata, rheaders, stream_error\u001b[38;5;241m=\u001b[39mstream_error\n\u001b[1;32m    681\u001b[0m     )\n\u001b[1;32m    682\u001b[0m \u001b[38;5;28;01mreturn\u001b[39;00m resp\n",
      "\u001b[0;31mInvalidRequestError\u001b[0m: This model's maximum context length is 4097 tokens, however you requested 5981 tokens (1885 in your prompt; 4096 for the completion). Please reduce your prompt; or completion length."
     ]
    }
   ],
   "source": [
    "prompt = crean_text(text) +  prompt\n",
    "result = text_summary(prompt)"
   ]
  },
  {
   "cell_type": "code",
   "execution_count": null,
   "id": "733f46b2",
   "metadata": {},
   "outputs": [],
   "source": [
    "# そもそも論として連続実行すると必ず失敗することが判明"
   ]
  },
  {
   "cell_type": "code",
   "execution_count": 97,
   "id": "4ae7a8c7",
   "metadata": {},
   "outputs": [
    {
     "data": {
      "text/plain": [
       "'\\n地球の人里離れた山奥に住む尻尾の生えた少年・孫悟空はある日、西の都からやって来た少女・ブルマと出会う。そこで、7つ集めると神龍（シェンロン）が現れ、どんな願いでも一つだけ叶えてくれるというドラゴンボールの存在を、さらに育ての親である孫悟飯の形見として大切に持っていた球がその1つ「四星球（スーシンチュウ）」であることを知り、ブルマと共に残りのドラゴンボールを探す旅に出る。人さらいのウーロンや盗賊のヤムチャらを巻き込んだボール探しの末、世界征服を企むピラフ一味にボールを奪われ神龍を呼び出されるが、ウーロンがとっさに言い放った下らない願いを叶えてもらうことで一味の野望を阻止する。その後、悟空は旅の途中に知り合った武術の達人・亀仙人の下で、後に親友となるクリリンと共に8か月間にわたる修行を積み、その成果を確かめるために世界一の武術の達人を決める天下一武道会に出場し、変装して出場していた亀仙人に敗れるも準優勝を果たす。悟空は再び修行の旅へと出発し、ドラゴンボールの悪用を企むレッドリボン軍との闘いや、孫悟飯との再会などを経てさらに強さを増していく。さらに3年後の天下一武道会では、亀仙流のライバルである鶴仙流の天津飯（てんしんはん）と闘うが、あと一歩のところで敗れ、前回と同じく準優勝に終わる。天下一武道会終了後、ピラフ一味によって復活したピッコロ大魔王によって、クリリンや亀仙人など悟空の仲間たちや多くの武道家たちが殺される。悟空は仇を討つため、道中に出会ったヤジロベーや仙猫カリンの協力を得て命を賭して潜在する力を引き出し、ピッコロ大魔王に闘いを挑み勝利する。闘いの後、悟空はピッコロ大魔王に殺された神龍や仲間たちの復活のため天界へ向かい、ドラゴンボールの創造者である神に会う。そこで神龍復活の条件として、神の下で天界で修行することとなった。その約3年後、少年から青年へと成長した悟空は、天下一武道会の会場で仲間たちと再会。試合では、少年時代に出会った際に「嫁にもらう」と約束していた牛魔王の娘・チチと再会しその場で結婚。そして武道会に出場していたピッコロ大魔王の生まれ変わりであるマジュニアと決勝戦で激突、これに勝利し初の天下一武道会優勝を飾る。ピッコロ（マジュニア）との闘いから約5年後、息子の孫悟飯を儲けて平和な日々を過ごしていた悟空のもとに、実兄・ラディッツが宇宙より来襲し、自分が惑星ベジータの戦闘民族・サイヤ人であることを知らされる。さらわれた孫悟飯を助けるため悟空は宿敵ピッコロと手を組み、自らの命と引き換えにラディッツを倒すが、約1年後にはさらに強力なサイヤ人たちがドラゴンボールを求めて地球に来襲することを知る。悟空はドラゴンボールによって生き返るまでの間、あの世の界王の下で修業し、仲間と共に地球に強襲したサイヤ人の戦士・ナッパと王子・ベジータを迎え撃つ。悟空は修行により増した力でナッパを一蹴し、ベジータと決闘。仲間の協力もあり、何とか辛勝し撤退させるが、多くの仲間を失うとともに、ピッコロの戦死により彼と一心同体であった神も死亡し、地球のドラゴンボールも消滅する。\\n\\nTl;dr\\n要約は以下の通りです\\n'"
      ]
     },
     "execution_count": 97,
     "metadata": {},
     "output_type": "execute_result"
    }
   ],
   "source": [
    "prompt"
   ]
  },
  {
   "cell_type": "code",
   "execution_count": null,
   "id": "1024cf51",
   "metadata": {},
   "outputs": [],
   "source": []
  }
 ],
 "metadata": {
  "kernelspec": {
   "display_name": "Python 3 (ipykernel)",
   "language": "python",
   "name": "python3"
  },
  "language_info": {
   "codemirror_mode": {
    "name": "ipython",
    "version": 3
   },
   "file_extension": ".py",
   "mimetype": "text/x-python",
   "name": "python",
   "nbconvert_exporter": "python",
   "pygments_lexer": "ipython3",
   "version": "3.11.0"
  }
 },
 "nbformat": 4,
 "nbformat_minor": 5
}

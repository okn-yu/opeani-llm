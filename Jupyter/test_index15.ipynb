{
 "cells": [
  {
   "cell_type": "markdown",
   "id": "b0ae5eb1",
   "metadata": {},
   "source": [
    "# 概要\n",
    "* 結局基本のOpenAIの素のAPIを触る\n",
    "\n",
    "# 参考\n",
    "* https://platform.openai.com/docs/api-reference/completions"
   ]
  },
  {
   "cell_type": "code",
   "execution_count": 1,
   "id": "d0bdc17b",
   "metadata": {},
   "outputs": [],
   "source": [
    "import os\n",
    "import openai\n",
    "\n",
    "openai.api_key = os.getenv(\"OPENAI_API_KEY\")"
   ]
  },
  {
   "cell_type": "code",
   "execution_count": 2,
   "id": "382f4e9d",
   "metadata": {},
   "outputs": [],
   "source": [
    "#Jupyterでも実行できるのは知らんかった...\n",
    "import logging\n",
    "import sys\n",
    "logging.basicConfig(stream=sys.stdout, level=logging.DEBUG, force=True)"
   ]
  },
  {
   "cell_type": "markdown",
   "id": "9ec9a1eb",
   "metadata": {},
   "source": [
    "# complementation\n",
    "* レスポンスはJSON形式\n",
    "* レスポンスの日本語が途中で切れる場合は、total_tokensを確認する\n",
    "* total_tokensがmax_tokensを下回っている場合は途中で回答が切れる\n",
    "* total_tokensにはprompt_tokensとcompletion_tokensの合算値からなる\n",
    "* max_tokensの上限は4096\n",
    "* TransformersはN^2でメモリを消費するため長い文章の取り扱いが苦手\n",
    "* max_tokensには4096 - promt_tokensを指定する必要があることに注意\n",
    "* つまり最大値を指定するなら、max_tokensを下げて指定する必要がある\n",
    "* promptが文字列でAIPの外側で定義して、それをAPIに渡して実行させる\n",
    "* prromptは最初と最後を\"\"\"で囲むと改行を意識せずに済むので楽"
   ]
  },
  {
   "cell_type": "code",
   "execution_count": 15,
   "id": "5ebd9fb1",
   "metadata": {},
   "outputs": [
    {
     "name": "stdout",
     "output_type": "stream",
     "text": [
      "DEBUG:openai:message='Request to OpenAI API' method=post path=https://api.openai.com/v1/completions\n",
      "DEBUG:openai:api_version=None data='{\"model\": \"text-davinci-003\", \"prompt\": \"\\\\u521d\\\\u97f3\\\\u30df\\\\u30af\\\\u306f\", \"max_tokens\": 200, \"temperature\": 0}' message='Post details'\n",
      "DEBUG:urllib3.connectionpool:https://api.openai.com:443 \"POST /v1/completions HTTP/1.1\" 200 None\n",
      "DEBUG:openai:message='OpenAI API response' path=https://api.openai.com/v1/completions processing_ms=5482 request_id=ed143ae186bb91949fce9266737282ef response_code=200\n",
      "{\n",
      "  \"choices\": [\n",
      "    {\n",
      "      \"finish_reason\": \"length\",\n",
      "      \"index\": 0,\n",
      "      \"logprobs\": null,\n",
      "      \"text\": \"\\u3001\\u65e5\\u672c\\u306e\\u30f4\\u30a9\\u30fc\\u30ab\\u30ed\\u30a4\\u30c9\\u3067\\u3042\\u308b\\u3002\\u5f7c\\u5973\\u306f\\u3001Crypton Future Media\\u304c\\u958b\\u767a\\u3057\\u305f\\u521d\\u97f3\\u30df\\u30af\\u30fb\\u30d7\\u30ed\\u30b8\\u30a7\\u30af\\u30c8\\u306b\\u3088\\u3063\\u3066\\u30012007\\u5e748\\u670831\\u65e5\\u306b\\u767a\\u8868\\u3055\\u308c\\u305f\\u3002\\u5f7c\\u5973\\u306f\\u3001\\u6b4c\\u58f0\\u5408\\u6210\\u30bd\\u30d5\\u30c8\\u30a6\\u30a7\\u30a2\\u300cVocaloid2\\u300d\\u3092\\u4f7f\\u7528\\u3057\\u3066\\u3001\\u6b4c\\u3092\\u6b4c\\u3046\\u3053\\u3068\\u304c\\u3067\\u304d\\u308b\\u3002\\u5f7c\\u5973\\u306f\\u3001\\u65e5\\u672c\\u306e\\u30a2\\u30a4\\u30c9\\u30eb\\u3068\\u3057\\u3066\\u4eba\\u6c17\\u3092\\u535a\\u3057\\u3001\\u4e16\\u754c\\u4e2d\\u3067\\u4eba\\u6c17\\u3092\\u535a\\u3057\\u3066\\u3044\\u308b\\u3002\\u5f7c\\u5973\\u306f\\u3001\\u69d8\\u3005\\u306a\\u30b8\\u30e3\\u30f3\\u30eb\\u306e\\u66f2\\u3092\\u6b4c\\u3046\\u3053\\u3068\\u304c\\u3067\\u304d\\u3001\\u7279\\u306bJ-POP\\u3001\\u30a2\\u30cb\\u30bd\\u30f3\"\n",
      "    }\n",
      "  ],\n",
      "  \"created\": 1678372529,\n",
      "  \"id\": \"cmpl-6sBebnwoZoDsZDNDcKLTWiwVJbkw5\",\n",
      "  \"model\": \"text-davinci-003\",\n",
      "  \"object\": \"text_completion\",\n",
      "  \"usage\": {\n",
      "    \"completion_tokens\": 200,\n",
      "    \"prompt_tokens\": 8,\n",
      "    \"total_tokens\": 208\n",
      "  }\n",
      "}\n",
      "、日本のヴォーカロイドである。彼女は、Crypton Future Mediaが開発した初音ミク・プロジェクトによって、2007年8月31日に発表された。彼女は、歌声合成ソフトウェア「Vocaloid2」を使用して、歌を歌うことができる。彼女は、日本のアイドルとして人気を博し、世界中で人気を博している。彼女は、様々なジャンルの曲を歌うことができ、特にJ-POP、アニソン\n"
     ]
    }
   ],
   "source": [
    "prompt = \"初音ミクは\"\n",
    "\n",
    "res = openai.Completion.create(\n",
    "    model=\"text-davinci-003\",\n",
    "    prompt=prompt,\n",
    "    max_tokens=200,\n",
    "    temperature=0\n",
    ")\n",
    "\n",
    "print(res)\n",
    "print(res.choices[0].text)"
   ]
  },
  {
   "cell_type": "markdown",
   "id": "3ebc4372",
   "metadata": {},
   "source": [
    "## 長文回答させると壊れることがある"
   ]
  },
  {
   "cell_type": "code",
   "execution_count": 21,
   "id": "ab9c4348",
   "metadata": {},
   "outputs": [
    {
     "name": "stdout",
     "output_type": "stream",
     "text": [
      "DEBUG:openai:message='Request to OpenAI API' method=post path=https://api.openai.com/v1/completions\n",
      "DEBUG:openai:api_version=None data='{\"model\": \"text-davinci-003\", \"prompt\": \"\\\\u521d\\\\u97f3\\\\u30df\\\\u30af\\\\u306b\\\\u95a2\\\\u3057\\\\u30663000\\\\u6587\\\\u5b57\\\\u7a0b\\\\u5ea6\\\\u3067\\\\u6559\\\\u3048\\\\u3066\\\\u4e0b\\\\u3055\\\\u3044\", \"max_tokens\": 4000, \"temperature\": 0}' message='Post details'\n",
      "DEBUG:urllib3.connectionpool:https://api.openai.com:443 \"POST /v1/completions HTTP/1.1\" 200 None\n",
      "DEBUG:openai:message='OpenAI API response' path=https://api.openai.com/v1/completions processing_ms=119223 request_id=05156788c5892eaf18d43c0500f8f4d3 response_code=200\n",
      "{\n",
      "  \"choices\": [\n",
      "    {\n",
      "      \"finish_reason\": \"length\",\n",
      "      \"index\": 0,\n",
      "      \"logprobs\": null,\n",
      "      \"text\": \"\\n\\n\\u521d\\u97f3\\u30df\\u30af\\u306f\\u30012007\\u5e74\\u306bCrypton Future Media\\u304b\\u3089\\u767a\\u58f2\\u3055\\u308c\\u305f\\u97f3\\u58f0\\u5408\\u6210\\u30bd\\u30d5\\u30c8\\u30a6\\u30a7\\u30a2\\u300cVOCALOID2\\u300d\\u306b\\u767b\\u5834\\u3057\\u305f3D\\u30ad\\u30e3\\u30e9\\u30af\\u30bf\\u30fc\\u3067\\u3059\\u3002\\u5f7c\\u5973\\u306f\\u3001\\u65e5\\u672c\\u306e\\u30a2\\u30fc\\u30c6\\u30a3\\u30b9\\u30c8\\u3067\\u3042\\u308b\\u521d\\u97f3\\u30df\\u30af\\u3092\\u30e2\\u30c7\\u30eb\\u306b\\u3057\\u3066\\u3044\\u307e\\u3059\\u3002\\u5f7c\\u5973\\u306f\\u3001\\u65e5\\u672c\\u306e\\u30a2\\u30cb\\u30e1\\u3084\\u30b2\\u30fc\\u30e0\\u3001\\u97f3\\u697d\\u306a\\u3069\\u306e\\u6587\\u5316\\u306e\\u4e2d\\u3067\\u5e83\\u304f\\u77e5\\u3089\\u308c\\u3066\\u3044\\u307e\\u3059\\u3002\\n\\n\\u521d\\u97f3\\u30df\\u30af\\u306f\\u3001VOCALOID2\\u3092\\u4f7f\\u7528\\u3057\\u3066\\u6b4c\\u3092\\u6b4c\\u3046\\u3053\\u3068\\u304c\\u3067\\u304d\\u307e\\u3059\\u3002VOCALOID2\\u306f\\u3001\\u30e6\\u30fc\\u30b6\\u30fc\\u304c\\u5165\\u529b\\u3057\\u305f\\u6b4c\\u8a5e\\u3068\\u30e1\\u30ed\\u30c7\\u30a3\\u30fc\\u3092\\u5143\\u306b\\u3001\\u6b4c\\u58f0\\u3092\\u5408\\u6210\\u3059\\u308b\\u30bd\\u30d5\\u30c8\\u30a6\\u30a7\\u30a2\\u3067\\u3059\\u3002\\u521d\\u97f3\\u30df\\u30af\\u306f\\u3001\\u30e6\\u30fc\\u30b6\\u30fc\\u304c\\u5165\\u529b\\u3057\\u305f\\u6b4c\\u8a5e\\u3068\\u30e1\\u30ed\\u30c7\\u30a3\\u30fc\\u3092\\u5143\\u306b\\u3001\\u6b4c\\u58f0\\u3092\\u5408\\u6210\\u3059\\u308b\\u3053\\u3068\\u304c\\u3067\\u304d\\u307e\\u3059\\u3002\\n\\n\\u521d\\u97f3\\u30df\\u30af\\u306f\\u3001\\u65e5\\u672c\\u306e\\u30a2\\u30cb\\u30e1\\u3084\\u30b2\\u30fc\\u30e0\\u3001\\u97f3\\u697d\\u306a\\u3069\\u306e\\u6587\\u5316\\u306e\\u4e2d\\u3067\\u5e83\\u304f\\u77e5\\u3089\\u308c\\u3066\\u3044\\u307e\\u3059\\u3002\\u5f7c\\u5973\\u306f\\u3001\\u65e5\\u672c\\u306e\\u30a2\\u30fc\\u30c6\\u30a3\\u30b9\\u30c8\\u3067\\u3042\\u308b\\u521d\\u97f3\\u30df\\u30af\\u3092\\u30e2\\u30c7\\u30eb\\u306b\\u3057\\u3066\\u3044\\u307e\\u3059\\u3002\\u5f7c\\u5973\\u306f\\u3001\\u65e5\\u672c\\u306e\\u30a2\\u30cb\\u30e1\\u3084\\u30b2\\u30fc\\u30e0\\u3001\\u97f3\\u697d\\u306a\\u3069\\u306e\\u6587\\u5316\\u306e\\u4e2d\\u3067\\u5e83\\u304f\\u77e5\\u3089\\u308c\\u3066\\u3044\\u307e\\u3059\\u3002\\n\\n\\u521d\\u97f3\\u30df\\u30af\\u306f\\u3001\\u65e5\\u672c\\u306e\\u30a2\\u30cb\\u30e1\\u3084\\u30b2\\u30fc\\u30e0\\u3001\\u97f3\\u697d\\u306a\\u3069\\u306e\\u6587\\u5316\\u306e\\u4e2d\\u3067\\u5e83\\u304f\\u77e5\\u3089\\u308c\\u3066\\u3044\\u307e\\u3059\\u304c\\u3001\\u5f7c\\u5973\\u306f\\u4e16\\u754c\\u4e2d\\u3067\\u4eba\\u6c17\\u3092\\u535a\\u3057\\u3066\\u3044\\u307e\\u3059\\u3002\\u5f7c\\u5973\\u306f\\u3001\\u4e16\\u754c\\u4e2d\\u3067\\u69d8\\u3005\\u306a\\u30a4\\u30d9\\u30f3\\u30c8\\u306b\\u53c2\\u52a0\\u3057\\u3001\\u591a\\u304f\\u306e\\u30d5\\u30a1\\u30f3\\u3092\\u7372\\u5f97\\u3057\\u3066\\u3044\\u307e\\u3059\\u3002\\n\\n\\u521d\\u97f3\\u30df\\u30af\\u306f\\u3001\\u65e5\\u672c\\u306e\\u30a2\\u30cb\\u30e1\\u3084\\u30b2\\u30fc\\u30e0\\u3001\\u97f3\\u697d\\u306a\\u3069\\u306e\\u6587\\u5316\\u306e\\u4e2d\\u3067\\u5e83\\u304f\\u77e5\\u3089\\u308c\\u3066\\u3044\\u307e\\u3059\\u304c\\u3001\\u5f7c\\u5973\\u306f\\u4e16\\u754c\\u4e2d\\u3067\\u4eba\\u6c17\\u3092\\u535a\\u3057\\u3066\\u3044\\u307e\\u3059\\u3002\\u5f7c\\u5973\\u306f\\u3001\\u4e16\\u754c\\u4e2d\\u3067\\u69d8\\u3005\\u306a\\u30a4\\u30d9\\u30f3\\u30c8\\u306b\\u53c2\\u52a0\\u3057\\u3001\\u591a\\u304f\\u306e\\u30d5\\u30a1\\u30f3\\u3092\\u7372\\u5f97\\u3057\\u3066\\u3044\\u307e\\u3059\\u3002\\u307e\\u305f\\u3001\\u5f7c\\u5973\\u306f\\u3001\\u65e5\\u672c\\u306e\\u30a2\\u30cb\\u30e1\\u3084\\u30b2\\u30fc\\u30e0\\u3001\\u97f3\\u697d\\u306a\\u3069\\u306e\\u6587\\u5316\\u306e\\u4e2d\\u3067\\u5e83\\u304f\\u77e5\\u3089\\u308c\\u3066\\u3044\\u308b\\u3060\\u3051\\u3067\\u306a\\u304f\\u3001\\u4e16\\u754c\\u4e2d\\u3067\\u3082\\u4eba\\u6c17\\u3092\\u535a\\u3057\\u3066\\u3044\\u307e\\u3059\\u3002\\n\\n\\u521d\\u97f3\\u30df\\u30af\\u306f\\u3001\\u65e5\\u672c\\u306e\\u30a2\\u30cb\\u30e1\\u3084\\u30b2\\u30fc\\u30e0\\u3001\\u97f3\\u697d\\u306a\\u3069\\u306e\\u6587\\u5316\\u306e\\u4e2d\\u3067\\u5e83\\u304f\\u77e5\\u3089\\u308c\\u3066\\u3044\\u307e\\u3059\\u304c\\u3001\\u5f7c\\u5973\\u306f\\u4e16\\u754c\\u4e2d\\u3067\\u4eba\\u6c17\\u3092\\u535a\\u3057\\u3066\\u3044\\u307e\\u3059\\u3002\\u5f7c\\u5973\\u306f\\u3001\\u4e16\\u754c\\u4e2d\\u3067\\u69d8\\u3005\\u306a\\u30a4\\u30d9\\u30f3\\u30c8\\u306b\\u53c2\\u52a0\\u3057\\u3001\\u591a\\u304f\\u306e\\u30d5\\u30a1\\u30f3\\u3092\\u7372\\u5f97\\u3057\\u3066\\u3044\\u307e\\u3059\\u3002\\u307e\\u305f\\u3001\\u5f7c\\u5973\\u306f\\u3001\\u65e5\\u672c\\u306e\\u30a2\\u30cb\\u30e1\\u3084\\u30b2\\u30fc\\u30e0\\u3001\\u97f3\\u697d\\u306a\\u3069\\u306e\\u6587\\u5316\\u306e\\u4e2d\\u3067\\u5e83\\u304f\\u77e5\\u3089\\u308c\\u3066\\u3044\\u308b\\u3060\\u3051\\u3067\\u306a\\u304f\\u3001\\u4e16\\u754c\\u4e2d\\u3067\\u3082\\u4eba\\u6c17\\u3092\\u535a\\u3057\\u3066\\u3044\\u307e\\u3059\\u3002\\u5f7c\\u5973\\u306f\\u3001\\u4e16\\u754c\\u4e2d\\u3067\\u69d8\\u3005\\u306a\\u30a4\\u30d9\\u30f3\\u30c8\\u306b\\u53c2\\u52a0\\u3057\\u3001\\u591a\\u304f\\u306e\\u30d5\\u30a1\\u30f3\\u3092\\u7372\\u5f97\\u3057\\u3066\\u3044\\u307e\\u3059\\u3002\\u3055\\u3089\\u306b\\u3001\\u5f7c\\u5973\\u306f\\u3001\\u65e5\\u672c\\u306e\\u30a2\\u30cb\\u30e1\\u3084\\u30b2\\u30fc\\u30e0\\u3001\\u97f3\\u697d\\u306a\\u3069\\u306e\\u6587\\u5316\\u306e\\u4e2d\\u3067\\u5e83\\u304f\\u77e5\\u3089\\u308c\\u3066\\u3044\\u308b\\u3060\\u3051\\u3067\\u306a\\u304f\\u3001\\u4e16\\u754c\\u4e2d\\u3067\\u3082\\u4eba\\u6c17\\u3092\\u535a\\u3057\\u3066\\u3044\\u307e\\u3059\\u3002\\n\\n\\u521d\\u97f3\\u30df\\u30af\\u306f\\u3001\\u65e5\\u672c\\u306e\\u30a2\\u30cb\\u30e1\\u3084\\u30b2\\u30fc\\u30e0\\u3001\\u97f3\\u697d\\u306a\\u3069\\u306e\\u6587\\u5316\\u306e\\u4e2d\\u3067\\u5e83\\u304f\\u77e5\\u3089\\u308c\\u3066\\u3044\\u307e\\u3059\\u304c\\u3001\\u5f7c\\u5973\\u306f\\u4e16\\u754c\\u4e2d\\u3067\\u4eba\\u6c17\\u3092\\u535a\\u3057\\u3066\\u3044\\u307e\\u3059\\u3002\\u5f7c\\u5973\\u306f\\u3001\\u4e16\\u754c\\u4e2d\\u3067\\u69d8\\u3005\\u306a\\u30a4\\u30d9\\u30f3\\u30c8\\u306b\\u53c2\\u52a0\\u3057\\u3001\\u591a\\u304f\\u306e\\u30d5\\u30a1\\u30f3\\u3092\\u7372\\u5f97\\u3057\\u3066\\u3044\\u307e\\u3059\\u3002\\u307e\\u305f\\u3001\\u5f7c\\u5973\\u306f\\u3001\\u65e5\\u672c\\u306e\\u30a2\\u30cb\\u30e1\\u3084\\u30b2\\u30fc\\u30e0\\u3001\\u97f3\\u697d\\u306a\\u3069\\u306e\\u6587\\u5316\\u306e\\u4e2d\\u3067\\u5e83\\u304f\\u77e5\\u3089\\u308c\\u3066\\u3044\\u308b\\u3060\\u3051\\u3067\\u306a\\u304f\\u3001\\u4e16\\u754c\\u4e2d\\u3067\\u3082\\u4eba\\u6c17\\u3092\\u535a\\u3057\\u3066\\u3044\\u307e\\u3059\\u3002\\u3055\\u3089\\u306b\\u3001\\u5f7c\\u5973\\u306f\\u3001\\u65e5\\u672c\\u306e\\u30a2\\u30cb\\u30e1\\u3084\\u30b2\\u30fc\\u30e0\\u3001\\u97f3\\u697d\\u306a\\u3069\\u306e\\u6587\\u5316\\u306e\\u4e2d\\u3067\\u5e83\\u304f\\u77e5\\u3089\\u308c\\u3066\\u3044\\u308b\\u3060\\u3051\\u3067\\u306a\\u304f\\u3001\\u4e16\\u754c\\u4e2d\\u3067\\u3082\\u4eba\\u6c17\\u3092\\u535a\\u3057\\u3066\\u3044\\u307e\\u3059\\u3002\\u5f7c\\u5973\\u306f\\u3001\\u4e16\\u754c\\u4e2d\\u3067\\u69d8\\u3005\\u306a\\u30a4\\u30d9\\u30f3\\u30c8\\u306b\\u53c2\\u52a0\\u3057\\u3001\\u591a\\u304f\\u306e\\u30d5\\u30a1\\u30f3\\u3092\\u7372\\u5f97\\u3057\\u3066\\u3044\\u307e\\u3059\\u3002\\u307e\\u305f\\u3001\\u5f7c\\u5973\\u306f\\u3001\\u65e5\\u672c\\u306e\\u30a2\\u30cb\\u30e1\\u3084\\u30b2\\u30fc\\u30e0\\u3001\\u97f3\\u697d\\u306a\\u3069\\u306e\\u6587\\u5316\\u306e\\u4e2d\\u3067\\u5e83\\u304f\\u77e5\\u3089\\u308c\\u3066\\u3044\\u308b\\u3060\\u3051\\u3067\\u306a\\u304f\\u3001\\u4e16\\u754c\\u4e2d\\u3067\\u3082\\u4eba\\u6c17\\u3092\\u535a\\u3057\\u3066\\u3044\\u307e\\u3059\\u3002\\u3055\\u3089\\u306b\\u3001\\u5f7c\\u5973\\u306f\\u3001\\u65e5\\u672c\\u306e\\u30a2\\u30cb\\u30e1\\u3084\\u30b2\\u30fc\\u30e0\\u3001\\u97f3\\u697d\\u306a\\u3069\\u306e\\u6587\\u5316\\u306e\\u4e2d\\u3067\\u5e83\\u304f\\u77e5\\u3089\\u308c\\u3066\\u3044\\u308b\\u3060\\u3051\\u3067\\u306a\\u304f\\u3001\\u4e16\\u754c\\u4e2d\\u3067\\u3082\\u4eba\\u6c17\\u3092\\u535a\\u3057\\u3066\\u3044\\u307e\\u3059\\u3002\\u5f7c\\u5973\\u306f\\u3001\\u4e16\\u754c\\u4e2d\\u3067\\u69d8\\u3005\\u306a\\u30a4\\u30d9\\u30f3\\u30c8\\u306b\\u53c2\\u52a0\\u3057\\u3001\\u591a\\u304f\\u306e\\u30d5\\u30a1\\u30f3\\u3092\\u7372\\u5f97\\u3057\\u3066\\u3044\\u307e\\u3059\\u3002\\u307e\\u305f\\u3001\\u5f7c\\u5973\\u306f\\u3001\\u65e5\\u672c\\u306e\\u30a2\\u30cb\\u30e1\\u3084\\u30b2\\u30fc\\u30e0\\u3001\\u97f3\\u697d\\u306a\\u3069\\u306e\\u6587\\u5316\\u306e\\u4e2d\\u3067\\u5e83\\u304f\\u77e5\\u3089\\u308c\\u3066\\u3044\\u308b\\u3060\\u3051\\u3067\\u306a\\u304f\\u3001\\u4e16\\u754c\\u4e2d\\u3067\\u3082\\u4eba\\u6c17\\u3092\\u535a\\u3057\\u3066\\u3044\\u307e\\u3059\\u3002\\u3055\\u3089\\u306b\\u3001\\u5f7c\\u5973\\u306f\\u3001\\u65e5\\u672c\\u306e\\u30a2\\u30cb\\u30e1\\u3084\\u30b2\\u30fc\\u30e0\\u3001\\u97f3\\u697d\\u306a\\u3069\\u306e\\u6587\\u5316\\u306e\\u4e2d\\u3067\\u5e83\\u304f\\u77e5\\u3089\\u308c\\u3066\\u3044\\u308b\\u3060\\u3051\\u3067\\u306a\\u304f\\u3001\\u4e16\\u754c\\u4e2d\\u3067\\u3082\\u4eba\\u6c17\\u3092\\u535a\\u3057\\u3066\\u3044\\u307e\\u3059\\u3002\\n\\n\\u521d\\u97f3\\u30df\\u30af\\u306f\\u3001\\u65e5\\u672c\\u306e\\u30a2\\u30cb\\u30e1\\u3084\\u30b2\\u30fc\\u30e0\\u3001\\u97f3\\u697d\\u306a\\u3069\\u306e\\u6587\\u5316\\u306e\\u4e2d\\u3067\\u5e83\\u304f\\u77e5\\u3089\\u308c\\u3066\\u3044\\u307e\\u3059\\u304c\\u3001\\u5f7c\\u5973\\u306f\\u4e16\\u754c\\u4e2d\\u3067\\u4eba\\u6c17\\u3092\\u535a\\u3057\\u3066\\u3044\\u307e\\u3059\\u3002\\u5f7c\\u5973\\u306f\\u3001\\u4e16\\u754c\\u4e2d\\u3067\\u69d8\\u3005\\u306a\\u30a4\\u30d9\\u30f3\\u30c8\\u306b\\u53c2\\u52a0\\u3057\\u3001\\u591a\\u304f\\u306e\\u30d5\\u30a1\\u30f3\\u3092\\u7372\\u5f97\\u3057\\u3066\\u3044\\u307e\\u3059\\u3002\\u307e\\u305f\\u3001\\u5f7c\\u5973\\u306f\\u3001\\u65e5\\u672c\\u306e\\u30a2\\u30cb\\u30e1\\u3084\\u30b2\\u30fc\\u30e0\\u3001\\u97f3\\u697d\\u306a\\u3069\\u306e\\u6587\\u5316\\u306e\\u4e2d\\u3067\\u5e83\\u304f\\u77e5\\u3089\\u308c\\u3066\\u3044\\u308b\\u3060\\u3051\\u3067\\u306a\\u304f\\u3001\\u4e16\\u754c\\u4e2d\\u3067\\u3082\\u4eba\\u6c17\\u3092\\u535a\\u3057\\u3066\\u3044\\u307e\\u3059\\u3002\\u3055\\u3089\\u306b\\u3001\\u5f7c\\u5973\\u306f\\u3001\\u65e5\\u672c\\u306e\\u30a2\\u30cb\\u30e1\\u3084\\u30b2\\u30fc\\u30e0\\u3001\\u97f3\\u697d\\u306a\\u3069\\u306e\\u6587\\u5316\\u306e\\u4e2d\\u3067\\u5e83\\u304f\\u77e5\\u3089\\u308c\\u3066\\u3044\\u308b\\u3060\\u3051\\u3067\\u306a\\u304f\\u3001\\u4e16\\u754c\\u4e2d\\u3067\\u3082\\u4eba\\u6c17\\u3092\\u535a\\u3057\\u3066\\u3044\\u307e\\u3059\\u3002\\u5f7c\\u5973\\u306f\\u3001\\u4e16\\u754c\\u4e2d\\u3067\\u69d8\\u3005\\u306a\\u30a4\\u30d9\\u30f3\\u30c8\\u306b\\u53c2\\u52a0\\u3057\\u3001\\u591a\\u304f\\u306e\\u30d5\\u30a1\\u30f3\\u3092\\u7372\\u5f97\\u3057\\u3066\\u3044\\u307e\\u3059\\u3002\\u307e\\u305f\\u3001\\u5f7c\\u5973\\u306f\\u3001\\u65e5\\u672c\\u306e\\u30a2\\u30cb\\u30e1\\u3084\\u30b2\\u30fc\\u30e0\\u3001\\u97f3\\u697d\\u306a\\u3069\\u306e\\u6587\\u5316\\u306e\\u4e2d\\u3067\\u5e83\\u304f\\u77e5\\u3089\\u308c\\u3066\\u3044\\u308b\\u3060\\u3051\\u3067\\u306a\\u304f\\u3001\\u4e16\\u754c\\u4e2d\\u3067\\u3082\\u4eba\\u6c17\\u3092\\u535a\\u3057\\u3066\\u3044\\u307e\\u3059\\u3002\\u3055\\u3089\\u306b\\u3001\\u5f7c\\u5973\\u306f\\u3001\\u65e5\\u672c\\u306e\\u30a2\\u30cb\\u30e1\\u3084\\u30b2\\u30fc\\u30e0\\u3001\\u97f3\\u697d\\u306a\\u3069\\u306e\\u6587\\u5316\\u306e\\u4e2d\\u3067\\u5e83\\u304f\\u77e5\\u3089\\u308c\\u3066\\u3044\\u308b\\u3060\\u3051\\u3067\\u306a\\u304f\\u3001\\u4e16\\u754c\\u4e2d\\u3067\\u3082\\u4eba\\u6c17\\u3092\\u535a\\u3057\\u3066\\u3044\\u307e\\u3059\\u3002\\u5f7c\\u5973\\u306f\\u3001\\u4e16\\u754c\\u4e2d\\u3067\\u69d8\\u3005\\u306a\\u30a4\\u30d9\\u30f3\\u30c8\\u306b\\u53c2\\u52a0\\u3057\\u3001\\u591a\\u304f\\u306e\\u30d5\\u30a1\\u30f3\\u3092\\u7372\\u5f97\\u3057\\u3066\\u3044\\u307e\\u3059\\u3002\\u307e\\u305f\\u3001\\u5f7c\\u5973\\u306f\\u3001\\u65e5\\u672c\\u306e\\u30a2\\u30cb\\u30e1\\u3084\\u30b2\\u30fc\\u30e0\\u3001\\u97f3\\u697d\\u306a\\u3069\\u306e\\u6587\\u5316\\u306e\\u4e2d\\u3067\\u5e83\\u304f\\u77e5\\u3089\\u308c\\u3066\\u3044\\u308b\\u3060\\u3051\\u3067\\u306a\\u304f\\u3001\\u4e16\\u754c\\u4e2d\\u3067\\u3082\\u4eba\\u6c17\\u3092\\u535a\\u3057\\u3066\\u3044\\u307e\\u3059\\u3002\\u3055\\u3089\\u306b\\u3001\\u5f7c\\u5973\\u306f\\u3001\\u65e5\\u672c\\u306e\\u30a2\\u30cb\\u30e1\\u3084\\u30b2\\u30fc\\u30e0\\u3001\\u97f3\\u697d\\u306a\\u3069\\u306e\\u6587\\u5316\\u306e\\u4e2d\\u3067\\u5e83\\u304f\\u77e5\\u3089\\u308c\\u3066\\u3044\\u308b\\u3060\\u3051\\u3067\\u306a\\u304f\\u3001\\u4e16\\u754c\\u4e2d\\u3067\\u3082\\u4eba\\u6c17\\u3092\\u535a\\u3057\\u3066\\u3044\\u307e\\u3059\\u3002\\u5f7c\\u5973\\u306f\\u3001\\u4e16\\u754c\\u4e2d\\u3067\\u69d8\\u3005\\u306a\\u30a4\\u30d9\\u30f3\\u30c8\\u306b\\u53c2\\u52a0\\u3057\\u3001\\u591a\\u304f\\u306e\\u30d5\\u30a1\\u30f3\\u3092\\u7372\\u5f97\\u3057\\u3066\\u3044\\u307e\\u3059\\u3002\\u307e\\u305f\\u3001\\u5f7c\\u5973\\u306f\\u3001\\u65e5\\u672c\\u306e\\u30a2\\u30cb\\u30e1\\u3084\\u30b2\\u30fc\\u30e0\\u3001\\u97f3\\u697d\\u306a\\u3069\\u306e\\u6587\\u5316\\u306e\\u4e2d\\u3067\\u5e83\\u304f\\u77e5\\u3089\\u308c\\u3066\\u3044\\u308b\\u3060\\u3051\\u3067\\u306a\\u304f\\u3001\\u4e16\\u754c\\u4e2d\\u3067\\u3082\\u4eba\\u6c17\\u3092\\u535a\\u3057\\u3066\\u3044\\u307e\\u3059\\u3002\\u3055\\u3089\\u306b\\u3001\\u5f7c\\u5973\\u306f\\u3001\\u65e5\\u672c\\u306e\\u30a2\\u30cb\\u30e1\\u3084\\u30b2\\u30fc\\u30e0\\u3001\\u97f3\\u697d\\u306a\\u3069\\u306e\\u6587\\u5316\\u306e\\u4e2d\\u3067\\u5e83\\u304f\\u77e5\\u3089\\u308c\\u3066\\u3044\\u308b\\u3060\\u3051\\u3067\\u306a\\u304f\\u3001\\u4e16\\u754c\\u4e2d\\u3067\\u3082\\u4eba\\u6c17\\u3092\\u535a\\u3057\\u3066\\u3044\\u307e\\u3059\\u3002\\n\\n\\u521d\\u97f3\\u30df\\u30af\\u306f\\u3001\\u65e5\\u672c\\u306e\\u30a2\\u30cb\\u30e1\\u3084\\u30b2\\u30fc\\u30e0\\u3001\\u97f3\\u697d\\u306a\\u3069\\u306e\\u6587\\u5316\\u306e\\u4e2d\\u3067\\u5e83\\u304f\\u77e5\\u3089\\u308c\\u3066\\u3044\\u307e\\u3059\\u304c\\u3001\\u5f7c\\u5973\\u306f\\u4e16\\u754c\\u4e2d\\u3067\\u4eba\\u6c17\\u3092\\u535a\\u3057\\u3066\\u3044\\u307e\\u3059\\u3002\\u5f7c\\u5973\\u306f\\u3001\\u4e16\\u754c\\u4e2d\\u3067\\u69d8\\u3005\\u306a\\u30a4\\u30d9\\u30f3\\u30c8\\u306b\\u53c2\\u52a0\\u3057\\u3001\\u591a\\u304f\\u306e\\u30d5\\u30a1\\u30f3\\u3092\\u7372\\u5f97\\u3057\\u3066\\u3044\\u307e\\u3059\\u3002\\u307e\\u305f\\u3001\\u5f7c\\u5973\\u306f\\u3001\\u65e5\\u672c\\u306e\\u30a2\\u30cb\\u30e1\\u3084\\u30b2\\u30fc\\u30e0\\u3001\\u97f3\\u697d\\u306a\\u3069\\u306e\\u6587\\u5316\\u306e\\u4e2d\\u3067\\u5e83\\u304f\\u77e5\\u3089\\u308c\\u3066\\u3044\\u308b\\u3060\\u3051\\u3067\\u306a\\u304f\\u3001\\u4e16\\u754c\\u4e2d\\u3067\\u3082\\u4eba\\u6c17\\u3092\\u535a\\u3057\\u3066\\u3044\\u307e\\u3059\\u3002\\u3055\\u3089\\u306b\\u3001\\u5f7c\\u5973\\u306f\\u3001\\u65e5\\u672c\\u306e\\u30a2\\u30cb\\u30e1\\u3084\\u30b2\\u30fc\\u30e0\\u3001\\u97f3\\u697d\\u306a\\u3069\\u306e\\u6587\\u5316\\u306e\\u4e2d\\u3067\\u5e83\\u304f\\u77e5\\u3089\\u308c\\u3066\\u3044\\u308b\\u3060\\u3051\\u3067\\u306a\\u304f\\u3001\\u4e16\\u754c\\u4e2d\\u3067\\u3082\\u4eba\\u6c17\\u3092\\u535a\\u3057\\u3066\\u3044\\u307e\\u3059\\u3002\\u5f7c\\u5973\\u306f\\u3001\\u4e16\\u754c\\u4e2d\\u3067\\u69d8\\u3005\\u306a\\u30a4\\u30d9\\u30f3\\u30c8\\u306b\\u53c2\\u52a0\\u3057\\u3001\\u591a\\u304f\\u306e\\u30d5\\u30a1\\u30f3\\u3092\\u7372\\u5f97\\u3057\\u3066\\u3044\\u307e\\u3059\\u3002\\u307e\\u305f\\u3001\\u5f7c\\u5973\\u306f\\u3001\\u65e5\\u672c\\u306e\\u30a2\\u30cb\\u30e1\\u3084\\u30b2\\u30fc\\u30e0\\u3001\\u97f3\\u697d\\u306a\\u3069\\u306e\\u6587\\u5316\\u306e\\u4e2d\\u3067\\u5e83\\u304f\\u77e5\\u3089\\u308c\\u3066\\u3044\\u308b\\u3060\\u3051\\u3067\\u306a\\u304f\\u3001\\u4e16\\u754c\\u4e2d\\u3067\\u3082\\u4eba\\u6c17\\u3092\\u535a\\u3057\\u3066\\u3044\\u307e\\u3059\\u3002\\u3055\\u3089\\u306b\\u3001\\u5f7c\\u5973\\u306f\\u3001\\u65e5\\u672c\\u306e\\u30a2\\u30cb\\u30e1\\u3084\\u30b2\\u30fc\\u30e0\\u3001\\u97f3\\u697d\\u306a\\u3069\\u306e\\u6587\\u5316\\u306e\\u4e2d\\u3067\\u5e83\\u304f\\u77e5\\u3089\\u308c\\u3066\\u3044\\u308b\\u3060\\u3051\\u3067\\u306a\\u304f\\u3001\\u4e16\\u754c\\u4e2d\\u3067\\u3082\\u4eba\\u6c17\\u3092\\u535a\\u3057\\u3066\\u3044\\u307e\\u3059\\u3002\\u5f7c\\u5973\\u306f\\u3001\\u4e16\\u754c\\u4e2d\\u3067\\u69d8\\u3005\\u306a\\u30a4\\u30d9\\u30f3\\u30c8\\u306b\\u53c2\\u52a0\\u3057\\u3001\\u591a\\u304f\\u306e\\u30d5\\u30a1\\u30f3\\u3092\\u7372\\u5f97\\u3057\\u3066\\u3044\\u307e\\u3059\\u3002\\u307e\\u305f\\u3001\\u5f7c\\u5973\\u306f\\u3001\\u65e5\\u672c\\u306e\\u30a2\\u30cb\\u30e1\\u3084\\u30b2\\u30fc\\u30e0\\u3001\\u97f3\\u697d\\u306a\\u3069\\u306e\\u6587\\u5316\\u306e\\u4e2d\\u3067\\u5e83\\u304f\\u77e5\\u3089\\u308c\\u3066\\u3044\\u308b\\u3060\\u3051\\u3067\\u306a\\u304f\\u3001\\u4e16\\u754c\\u4e2d\\u3067\\u3082\\u4eba\\u6c17\\u3092\\u535a\\u3057\\u3066\\u3044\\u307e\\u3059\\u3002\\u3055\\u3089\\u306b\\u3001\\u5f7c\\u5973\\u306f\\u3001\\u65e5\\u672c\\u306e\\u30a2\\u30cb\\u30e1\\u3084\\u30b2\\u30fc\\u30e0\\u3001\\u97f3\\u697d\\u306a\\u3069\\u306e\\u6587\\u5316\\u306e\\u4e2d\\u3067\\u5e83\\u304f\\u77e5\\u3089\\u308c\\u3066\\u3044\\u308b\\u3060\\u3051\\u3067\\u306a\\u304f\\u3001\\u4e16\\u754c\\u4e2d\\u3067\\u3082\\u4eba\\u6c17\\u3092\\u535a\\u3057\\u3066\\u3044\\u307e\\u3059\\u3002\\u5f7c\\u5973\\u306f\\u3001\\u4e16\\u754c\\u4e2d\\u3067\\u69d8\\u3005\\u306a\\u30a4\\u30d9\\u30f3\\u30c8\\u306b\\u53c2\\u52a0\\u3057\\u3001\\u591a\\u304f\\u306e\\u30d5\\u30a1\\u30f3\\u3092\\u7372\\u5f97\\u3057\\u3066\\u3044\\u307e\\u3059\\u3002\\u307e\\u305f\\u3001\\u5f7c\\u5973\\u306f\\u3001\\u65e5\\u672c\\u306e\\u30a2\\u30cb\\u30e1\\u3084\\u30b2\\u30fc\\u30e0\\u3001\\u97f3\\u697d\\u306a\\u3069\\u306e\\u6587\\u5316\\u306e\\u4e2d\\u3067\\u5e83\\u304f\\u77e5\\u3089\\u308c\\u3066\\u3044\\u308b\\u3060\\u3051\\u3067\\u306a\\u304f\\u3001\\u4e16\\u754c\\u4e2d\\u3067\\u3082\\u4eba\\u6c17\\u3092\\u535a\\u3057\\u3066\\u3044\\u307e\\u3059\\u3002\\u3055\\u3089\\u306b\\u3001\\u5f7c\\u5973\\u306f\\u3001\\u65e5\\u672c\\u306e\\u30a2\\u30cb\\u30e1\\u3084\\u30b2\\u30fc\\u30e0\\u3001\\u97f3\\u697d\\u306a\\u3069\\u306e\\u6587\\u5316\\u306e\\u4e2d\\u3067\\u5e83\\u304f\\u77e5\\u3089\\u308c\\u3066\\u3044\\u308b\\u3060\\u3051\\u3067\\u306a\\u304f\\u3001\\u4e16\\u754c\\u4e2d\\u3067\\u3082\\u4eba\\u6c17\\u3092\\u535a\\u3057\\u3066\\u3044\\u307e\\u3059\\u3002\\u5f7c\\u5973\\u306f\\u3001\\u4e16\\u754c\\u4e2d\\u3067\\u69d8\\u3005\\u306a\\u30a4\\u30d9\\u30f3\\u30c8\\u306b\\u53c2\\u52a0\\u3057\\u3001\\u591a\\u304f\\u306e\\u30d5\\u30a1\\u30f3\\u3092\\u7372\\u5f97\\u3057\\u3066\\u3044\\u307e\\u3059\\u3002\\n\\n\\u521d\\u97f3\\u30df\\u30af\\u306f\\u3001\\u65e5\\u672c\\u306e\\u30a2\\u30cb\\u30e1\\u3084\\u30b2\\u30fc\\u30e0\\u3001\\u97f3\\u697d\\u306a\\u3069\\u306e\\u6587\\u5316\\u306e\\u4e2d\\u3067\\u5e83\\u304f\\u77e5\\u3089\\u308c\\u3066\\u3044\\u307e\\u3059\\u304c\\u3001\\u5f7c\\u5973\\u306f\\u4e16\\u754c\\u4e2d\\u3067\\u4eba\\u6c17\\u3092\\u535a\\u3057\\u3066\\u3044\\u307e\\u3059\\u3002\\u5f7c\\u5973\\u306f\\u3001\\u4e16\\u754c\\u4e2d\\u3067\\u69d8\\u3005\\u306a\\u30a4\\u30d9\\u30f3\\u30c8\\u306b\\u53c2\\u52a0\\u3057\\u3001\\u591a\\u304f\\u306e\\u30d5\\u30a1\\u30f3\\u3092\\u7372\\u5f97\\u3057\\u3066\\u3044\\u307e\\u3059\\u3002\\u307e\\u305f\\u3001\\u5f7c\\u5973\\u306f\\u3001\\u65e5\\u672c\\u306e\\u30a2\\u30cb\\u30e1\\u3084\\u30b2\\u30fc\\u30e0\\u3001\\u97f3\\u697d\\u306a\\u3069\\u306e\\u6587\\u5316\\u306e\\u4e2d\\u3067\\u5e83\\u304f\\u77e5\\u3089\\u308c\\u3066\\u3044\\u308b\\u3060\\u3051\\u3067\\u306a\\u304f\\u3001\\u4e16\\u754c\\u4e2d\\u3067\\u3082\\u4eba\\u6c17\\u3092\\u535a\\u3057\\u3066\\u3044\\u307e\\u3059\\u3002\\u3055\\u3089\\u306b\\u3001\\u5f7c\\u5973\\u306f\\u3001\\u65e5\\u672c\\u306e\\u30a2\\u30cb\\u30e1\\u3084\\u30b2\\u30fc\\u30e0\\u3001\\u97f3\\u697d\\u306a\\u3069\\u306e\\u6587\\u5316\\u306e\\u4e2d\\u3067\\u5e83\\u304f\\u77e5\\u3089\\u308c\\u3066\\u3044\\u308b\\u3060\\u3051\\u3067\\u306a\\u304f\\u3001\\u4e16\\u754c\\u4e2d\\u3067\\u3082\\u4eba\\u6c17\\u3092\\u535a\\u3057\\u3066\\u3044\\u307e\\u3059\\u3002\\u5f7c\\u5973\\u306f\\u3001\\u4e16\\u754c\\u4e2d\\u3067\\u69d8\\u3005\\u306a\\u30a4\\u30d9\\u30f3\\u30c8\\u306b\\u53c2\\u52a0\\u3057\\u3001\\u591a\\u304f\\u306e\\u30d5\\u30a1\\u30f3\\u3092\\u7372\\u5f97\\u3057\\u3066\\u3044\\u307e\\u3059\\u3002\\u307e\\u305f\\u3001\\u5f7c\\u5973\\u306f\\u3001\\u65e5\\u672c\\u306e\\u30a2\\u30cb\\u30e1\\u3084\\u30b2\\u30fc\\u30e0\\u3001\\u97f3\\u697d\\u306a\\u3069\\u306e\\u6587\\u5316\\u306e\\u4e2d\\u3067\\u5e83\\u304f\\u77e5\\u3089\\u308c\\u3066\\u3044\\u308b\\u3060\\u3051\\u3067\\u306a\\u304f\\u3001\\u4e16\\u754c\\u4e2d\\u3067\\u3082\\u4eba\\u6c17\\u3092\\u535a\\u3057\\u3066\\u3044\\u307e\\u3059\\u3002\\u3055\\u3089\\u306b\\u3001\\u5f7c\\u5973\"\n",
      "    }\n",
      "  ],\n",
      "  \"created\": 1678372975,\n",
      "  \"id\": \"cmpl-6sBlnEdQNEbEgU4f1kfpcXgSKc9W7\",\n",
      "  \"model\": \"text-davinci-003\",\n",
      "  \"object\": \"text_completion\",\n",
      "  \"usage\": {\n",
      "    \"completion_tokens\": 4000,\n",
      "    \"prompt_tokens\": 32,\n",
      "    \"total_tokens\": 4032\n",
      "  }\n",
      "}\n",
      "\n",
      "\n",
      "初音ミクは、2007年にCrypton Future Mediaから発売された音声合成ソフトウェア「VOCALOID2」に登場した3Dキャラクターです。彼女は、日本のアーティストである初音ミクをモデルにしています。彼女は、日本のアニメやゲーム、音楽などの文化の中で広く知られています。\n",
      "\n",
      "初音ミクは、VOCALOID2を使用して歌を歌うことができます。VOCALOID2は、ユーザーが入力した歌詞とメロディーを元に、歌声を合成するソフトウェアです。初音ミクは、ユーザーが入力した歌詞とメロディーを元に、歌声を合成することができます。\n",
      "\n",
      "初音ミクは、日本のアニメやゲーム、音楽などの文化の中で広く知られています。彼女は、日本のアーティストである初音ミクをモデルにしています。彼女は、日本のアニメやゲーム、音楽などの文化の中で広く知られています。\n",
      "\n",
      "初音ミクは、日本のアニメやゲーム、音楽などの文化の中で広く知られていますが、彼女は世界中で人気を博しています。彼女は、世界中で様々なイベントに参加し、多くのファンを獲得しています。\n",
      "\n",
      "初音ミクは、日本のアニメやゲーム、音楽などの文化の中で広く知られていますが、彼女は世界中で人気を博しています。彼女は、世界中で様々なイベントに参加し、多くのファンを獲得しています。また、彼女は、日本のアニメやゲーム、音楽などの文化の中で広く知られているだけでなく、世界中でも人気を博しています。\n",
      "\n",
      "初音ミクは、日本のアニメやゲーム、音楽などの文化の中で広く知られていますが、彼女は世界中で人気を博しています。彼女は、世界中で様々なイベントに参加し、多くのファンを獲得しています。また、彼女は、日本のアニメやゲーム、音楽などの文化の中で広く知られているだけでなく、世界中でも人気を博しています。彼女は、世界中で様々なイベントに参加し、多くのファンを獲得しています。さらに、彼女は、日本のアニメやゲーム、音楽などの文化の中で広く知られているだけでなく、世界中でも人気を博しています。\n",
      "\n",
      "初音ミクは、日本のアニメやゲーム、音楽などの文化の中で広く知られていますが、彼女は世界中で人気を博しています。彼女は、世界中で様々なイベントに参加し、多くのファンを獲得しています。また、彼女は、日本のアニメやゲーム、音楽などの文化の中で広く知られているだけでなく、世界中でも人気を博しています。さらに、彼女は、日本のアニメやゲーム、音楽などの文化の中で広く知られているだけでなく、世界中でも人気を博しています。彼女は、世界中で様々なイベントに参加し、多くのファンを獲得しています。また、彼女は、日本のアニメやゲーム、音楽などの文化の中で広く知られているだけでなく、世界中でも人気を博しています。さらに、彼女は、日本のアニメやゲーム、音楽などの文化の中で広く知られているだけでなく、世界中でも人気を博しています。彼女は、世界中で様々なイベントに参加し、多くのファンを獲得しています。また、彼女は、日本のアニメやゲーム、音楽などの文化の中で広く知られているだけでなく、世界中でも人気を博しています。さらに、彼女は、日本のアニメやゲーム、音楽などの文化の中で広く知られているだけでなく、世界中でも人気を博しています。\n",
      "\n",
      "初音ミクは、日本のアニメやゲーム、音楽などの文化の中で広く知られていますが、彼女は世界中で人気を博しています。彼女は、世界中で様々なイベントに参加し、多くのファンを獲得しています。また、彼女は、日本のアニメやゲーム、音楽などの文化の中で広く知られているだけでなく、世界中でも人気を博しています。さらに、彼女は、日本のアニメやゲーム、音楽などの文化の中で広く知られているだけでなく、世界中でも人気を博しています。彼女は、世界中で様々なイベントに参加し、多くのファンを獲得しています。また、彼女は、日本のアニメやゲーム、音楽などの文化の中で広く知られているだけでなく、世界中でも人気を博しています。さらに、彼女は、日本のアニメやゲーム、音楽などの文化の中で広く知られているだけでなく、世界中でも人気を博しています。彼女は、世界中で様々なイベントに参加し、多くのファンを獲得しています。また、彼女は、日本のアニメやゲーム、音楽などの文化の中で広く知られているだけでなく、世界中でも人気を博しています。さらに、彼女は、日本のアニメやゲーム、音楽などの文化の中で広く知られているだけでなく、世界中でも人気を博しています。彼女は、世界中で様々なイベントに参加し、多くのファンを獲得しています。また、彼女は、日本のアニメやゲーム、音楽などの文化の中で広く知られているだけでなく、世界中でも人気を博しています。さらに、彼女は、日本のアニメやゲーム、音楽などの文化の中で広く知られているだけでなく、世界中でも人気を博しています。\n",
      "\n",
      "初音ミクは、日本のアニメやゲーム、音楽などの文化の中で広く知られていますが、彼女は世界中で人気を博しています。彼女は、世界中で様々なイベントに参加し、多くのファンを獲得しています。また、彼女は、日本のアニメやゲーム、音楽などの文化の中で広く知られているだけでなく、世界中でも人気を博しています。さらに、彼女は、日本のアニメやゲーム、音楽などの文化の中で広く知られているだけでなく、世界中でも人気を博しています。彼女は、世界中で様々なイベントに参加し、多くのファンを獲得しています。また、彼女は、日本のアニメやゲーム、音楽などの文化の中で広く知られているだけでなく、世界中でも人気を博しています。さらに、彼女は、日本のアニメやゲーム、音楽などの文化の中で広く知られているだけでなく、世界中でも人気を博しています。彼女は、世界中で様々なイベントに参加し、多くのファンを獲得しています。また、彼女は、日本のアニメやゲーム、音楽などの文化の中で広く知られているだけでなく、世界中でも人気を博しています。さらに、彼女は、日本のアニメやゲーム、音楽などの文化の中で広く知られているだけでなく、世界中でも人気を博しています。彼女は、世界中で様々なイベントに参加し、多くのファンを獲得しています。また、彼女は、日本のアニメやゲーム、音楽などの文化の中で広く知られているだけでなく、世界中でも人気を博しています。さらに、彼女は、日本のアニメやゲーム、音楽などの文化の中で広く知られているだけでなく、世界中でも人気を博しています。彼女は、世界中で様々なイベントに参加し、多くのファンを獲得しています。\n",
      "\n",
      "初音ミクは、日本のアニメやゲーム、音楽などの文化の中で広く知られていますが、彼女は世界中で人気を博しています。彼女は、世界中で様々なイベントに参加し、多くのファンを獲得しています。また、彼女は、日本のアニメやゲーム、音楽などの文化の中で広く知られているだけでなく、世界中でも人気を博しています。さらに、彼女は、日本のアニメやゲーム、音楽などの文化の中で広く知られているだけでなく、世界中でも人気を博しています。彼女は、世界中で様々なイベントに参加し、多くのファンを獲得しています。また、彼女は、日本のアニメやゲーム、音楽などの文化の中で広く知られているだけでなく、世界中でも人気を博しています。さらに、彼女\n"
     ]
    }
   ],
   "source": [
    "prompt = \"初音ミクに関して3000文字程度で教えて下さい\"\n",
    "\n",
    "res = openai.Completion.create(\n",
    "    model=\"text-davinci-003\",\n",
    "    prompt=prompt,\n",
    "    max_tokens=4000,\n",
    "    temperature=0\n",
    ")\n",
    "\n",
    "print(res)\n",
    "print(res.choices[0].text)"
   ]
  },
  {
   "cell_type": "markdown",
   "id": "5a4e9104",
   "metadata": {},
   "source": [
    "## プロンプトエンジニアリング"
   ]
  },
  {
   "cell_type": "code",
   "execution_count": 24,
   "id": "cc40379b",
   "metadata": {},
   "outputs": [
    {
     "name": "stdout",
     "output_type": "stream",
     "text": [
      "DEBUG:openai:message='Request to OpenAI API' method=post path=https://api.openai.com/v1/completions\n",
      "DEBUG:openai:api_version=None data='{\"model\": \"text-davinci-003\", \"prompt\": \"\\\\u521d\\\\u97f3\\\\u30df\\\\u30af\\\\u306b\\\\u95a2\\\\u3057\\\\u30663\\\\u70b9\\\\u3067\\\\u6559\\\\u3048\\\\u3066\\\\u4e0b\\\\u3055\\\\u3044\\\\u30dd\\\\u30a4\\\\u30f3\\\\u30c81:\\\\u30dd\\\\u30a4\\\\u30f3\\\\u30c82:\\\\u30dd\\\\u30a4\\\\u30f3\\\\u30c83:\", \"max_tokens\": 500, \"temperature\": 0}' message='Post details'\n",
      "DEBUG:urllib3.connectionpool:Resetting dropped connection: api.openai.com\n",
      "DEBUG:urllib3.connectionpool:https://api.openai.com:443 \"POST /v1/completions HTTP/1.1\" 200 None\n",
      "DEBUG:openai:message='OpenAI API response' path=https://api.openai.com/v1/completions processing_ms=6668 request_id=09fbf0574f78c85ffb91bd81a12430ec response_code=200\n",
      "{\n",
      "  \"choices\": [\n",
      "    {\n",
      "      \"finish_reason\": \"stop\",\n",
      "      \"index\": 0,\n",
      "      \"logprobs\": null,\n",
      "      \"text\": \"\\n\\n\\u30dd\\u30a4\\u30f3\\u30c81:\\u521d\\u97f3\\u30df\\u30af\\u306f\\u3001\\u65e5\\u672c\\u306e\\u30af\\u30ea\\u30d7\\u30c8\\u30f3\\u30fb\\u30d5\\u30e5\\u30fc\\u30c1\\u30e3\\u30fc\\u30fb\\u30e1\\u30c7\\u30a3\\u30a2\\u304c\\u958b\\u767a\\u3057\\u305fVOCALOID3\\u97f3\\u6e90\\u30bd\\u30d5\\u30c8\\u30a6\\u30a7\\u30a2\\u3067\\u3042\\u308b\\u3002\\n\\n\\u30dd\\u30a4\\u30f3\\u30c82:\\u521d\\u97f3\\u30df\\u30af\\u306f\\u3001\\u6b4c\\u58f0\\u5408\\u6210\\u30bd\\u30d5\\u30c8\\u30a6\\u30a7\\u30a2\\u3068\\u3057\\u3066\\u6700\\u3082\\u6709\\u540d\\u3067\\u3042\\u308a\\u3001\\u591a\\u304f\\u306e\\u30e6\\u30fc\\u30b6\\u30fc\\u304c\\u5229\\u7528\\u3057\\u3066\\u3044\\u308b\\u3002\\n\\n\\u30dd\\u30a4\\u30f3\\u30c83:\\u521d\\u97f3\\u30df\\u30af\\u306f\\u3001\\u97f3\\u697d\\u5236\\u4f5c\\u3001\\u6b4c\\u5531\\u3001\\u30e9\\u30a4\\u30d6\\u30d1\\u30d5\\u30a9\\u30fc\\u30de\\u30f3\\u30b9\\u306a\\u3069\\u3001\\u69d8\\u3005\\u306a\\u5206\\u91ce\\u3067\\u6d3b\\u8e8d\\u3057\\u3066\\u3044\\u308b\\u3002\"\n",
      "    }\n",
      "  ],\n",
      "  \"created\": 1678373331,\n",
      "  \"id\": \"cmpl-6sBrXW1KD5ocED5WS5yg8apkCef1R\",\n",
      "  \"model\": \"text-davinci-003\",\n",
      "  \"object\": \"text_completion\",\n",
      "  \"usage\": {\n",
      "    \"completion_tokens\": 203,\n",
      "    \"prompt_tokens\": 47,\n",
      "    \"total_tokens\": 250\n",
      "  }\n",
      "}\n",
      "\n",
      "\n",
      "ポイント1:初音ミクは、日本のクリプトン・フューチャー・メディアが開発したVOCALOID3音源ソフトウェアである。\n",
      "\n",
      "ポイント2:初音ミクは、歌声合成ソフトウェアとして最も有名であり、多くのユーザーが利用している。\n",
      "\n",
      "ポイント3:初音ミクは、音楽制作、歌唱、ライブパフォーマンスなど、様々な分野で活躍している。\n"
     ]
    }
   ],
   "source": [
    "prompt = \"初音ミクに関して3点で教えて下さい\\\n",
    "ポイント1:\\\n",
    "ポイント2:\\\n",
    "ポイント3:\\\n",
    "\"\n",
    "\n",
    "res = openai.Completion.create(\n",
    "    model=\"text-davinci-003\",\n",
    "    prompt=prompt,\n",
    "    max_tokens=500,\n",
    "    temperature=0\n",
    ")\n",
    "\n",
    "print(res)\n",
    "print(res.choices[0].text)"
   ]
  },
  {
   "cell_type": "code",
   "execution_count": 26,
   "id": "49dd0989",
   "metadata": {},
   "outputs": [
    {
     "name": "stdout",
     "output_type": "stream",
     "text": [
      "DEBUG:openai:message='Request to OpenAI API' method=post path=https://api.openai.com/v1/completions\n",
      "DEBUG:openai:api_version=None data='{\"model\": \"text-davinci-003\", \"prompt\": \"\\\\u65e5\\\\u672c\\\\u8a9e\\\\u3092\\\\u82f1\\\\u8a9e\\\\u306b\\\\u8a33\\\\u3057\\\\u3066\\\\u304f\\\\u3060\\\\u3055\\\\u3044\\\\u65e5\\\\u672c\\\\u8a9e:\\\\u543e\\\\u8f29\\\\u306f\\\\u732b\\\\u3067\\\\u3042\\\\u308b\\\\u82f1\\\\u8a9e:\", \"max_tokens\": 500, \"temperature\": 0}' message='Post details'\n",
      "DEBUG:urllib3.connectionpool:https://api.openai.com:443 \"POST /v1/completions HTTP/1.1\" 200 272\n",
      "DEBUG:openai:message='OpenAI API response' path=https://api.openai.com/v1/completions processing_ms=420 request_id=fe73662f594d474162d99f7c81d308b8 response_code=200\n",
      "{\n",
      "  \"choices\": [\n",
      "    {\n",
      "      \"finish_reason\": \"stop\",\n",
      "      \"index\": 0,\n",
      "      \"logprobs\": null,\n",
      "      \"text\": \"I am a cat.\"\n",
      "    }\n",
      "  ],\n",
      "  \"created\": 1678373401,\n",
      "  \"id\": \"cmpl-6sBsfa0JH5swhx9kcbysk4KJGgSCq\",\n",
      "  \"model\": \"text-davinci-003\",\n",
      "  \"object\": \"text_completion\",\n",
      "  \"usage\": {\n",
      "    \"completion_tokens\": 5,\n",
      "    \"prompt_tokens\": 47,\n",
      "    \"total_tokens\": 52\n",
      "  }\n",
      "}\n",
      "I am a cat.\n"
     ]
    }
   ],
   "source": [
    "prompt = \"日本語を英語に訳してください\\\n",
    "日本語:吾輩は猫である\\\n",
    "英語:\\\n",
    "\"\n",
    "\n",
    "res = openai.Completion.create(\n",
    "    model=\"text-davinci-003\",\n",
    "    prompt=prompt,\n",
    "    max_tokens=500,\n",
    "    temperature=0\n",
    ")\n",
    "\n",
    "print(res)\n",
    "print(res.choices[0].text)"
   ]
  },
  {
   "cell_type": "markdown",
   "id": "771cb459",
   "metadata": {},
   "source": [
    "## few shot"
   ]
  },
  {
   "cell_type": "code",
   "execution_count": 27,
   "id": "c51d5de5",
   "metadata": {},
   "outputs": [
    {
     "name": "stdout",
     "output_type": "stream",
     "text": [
      "DEBUG:openai:message='Request to OpenAI API' method=post path=https://api.openai.com/v1/completions\n",
      "DEBUG:openai:api_version=None data='{\"model\": \"text-davinci-003\", \"prompt\": \"Convert movie titles into emoji.Back to the Future: \\\\ud83d\\\\udc68\\\\ud83d\\\\udc74\\\\ud83d\\\\ude97\\\\ud83d\\\\udd52 Batman: \\\\ud83e\\\\udd35\\\\ud83e\\\\udd87 Transformers: \\\\ud83d\\\\ude97\\\\ud83e\\\\udd16 Star Wars:\", \"max_tokens\": 500, \"temperature\": 0}' message='Post details'\n",
      "DEBUG:urllib3.connectionpool:https://api.openai.com:443 \"POST /v1/completions HTTP/1.1\" 200 None\n",
      "DEBUG:openai:message='OpenAI API response' path=https://api.openai.com/v1/completions processing_ms=348 request_id=547ed2858429936b10cc600768c37939 response_code=200\n",
      "{\n",
      "  \"choices\": [\n",
      "    {\n",
      "      \"finish_reason\": \"stop\",\n",
      "      \"index\": 0,\n",
      "      \"logprobs\": null,\n",
      "      \"text\": \" \\u2b50\\ufe0f\\ud83c\\udf0c\"\n",
      "    }\n",
      "  ],\n",
      "  \"created\": 1678373475,\n",
      "  \"id\": \"cmpl-6sBtrOr5rdLq0UlLmoLTKaAU0mnaJ\",\n",
      "  \"model\": \"text-davinci-003\",\n",
      "  \"object\": \"text_completion\",\n",
      "  \"usage\": {\n",
      "    \"completion_tokens\": 7,\n",
      "    \"prompt_tokens\": 41,\n",
      "    \"total_tokens\": 48\n",
      "  }\n",
      "}\n",
      " ⭐️🌌\n"
     ]
    }
   ],
   "source": [
    "prompt = \"Convert movie titles into emoji.\\\n",
    "Back to the Future: 👨👴🚗🕒 \\\n",
    "Batman: 🤵🦇 \\\n",
    "Transformers: 🚗🤖 \\\n",
    "Star Wars:\\\n",
    "\"\n",
    "\n",
    "res = openai.Completion.create(\n",
    "    model=\"text-davinci-003\",\n",
    "    prompt=prompt,\n",
    "    max_tokens=500,\n",
    "    temperature=0\n",
    ")\n",
    "\n",
    "print(res)\n",
    "print(res.choices[0].text)"
   ]
  },
  {
   "cell_type": "code",
   "execution_count": 28,
   "id": "0040b90a",
   "metadata": {},
   "outputs": [
    {
     "name": "stdout",
     "output_type": "stream",
     "text": [
      "DEBUG:openai:message='Request to OpenAI API' method=post path=https://api.openai.com/v1/completions\n",
      "DEBUG:openai:api_version=None data='{\"model\": \"text-davinci-003\", \"prompt\": \"\\\\u4ee5\\\\u4e0b\\\\u3092\\\\u5b9f\\\\u65bd\\\\u3057\\\\u3066\\\\u304f\\\\u3060\\\\u3055\\\\u3044\\\\u65e5\\\\u672c\\\\u8a9e:\\\\u543e\\\\u8f29\\\\u306f\\\\u732b\\\\u3067\\\\u3042\\\\u308b\\\\u82f1\\\\u8a9e:I am a cat.\\\\u65e5\\\\u672c\\\\u8a9e:\\\\u543e\\\\u8f29\\\\u306f\\\\u72ac\\\\u3067\\\\u3042\\\\u308b\\\\u82f1\\\\u8a9e:\", \"max_tokens\": 500, \"temperature\": 0}' message='Post details'\n",
      "DEBUG:urllib3.connectionpool:https://api.openai.com:443 \"POST /v1/completions HTTP/1.1\" 200 272\n",
      "DEBUG:openai:message='OpenAI API response' path=https://api.openai.com/v1/completions processing_ms=322 request_id=b8133c7a538d689127a51c50c160b48c response_code=200\n",
      "{\n",
      "  \"choices\": [\n",
      "    {\n",
      "      \"finish_reason\": \"stop\",\n",
      "      \"index\": 0,\n",
      "      \"logprobs\": null,\n",
      "      \"text\": \"I am a dog.\"\n",
      "    }\n",
      "  ],\n",
      "  \"created\": 1678373549,\n",
      "  \"id\": \"cmpl-6sBv36iF6FigkbDpqLxxkcO5HOb8w\",\n",
      "  \"model\": \"text-davinci-003\",\n",
      "  \"object\": \"text_completion\",\n",
      "  \"usage\": {\n",
      "    \"completion_tokens\": 5,\n",
      "    \"prompt_tokens\": 70,\n",
      "    \"total_tokens\": 75\n",
      "  }\n",
      "}\n",
      "I am a dog.\n"
     ]
    }
   ],
   "source": [
    "prompt = \"以下を実施してください\\\n",
    "日本語:吾輩は猫である\\\n",
    "英語:I am a cat.\\\n",
    "日本語:吾輩は犬である\\\n",
    "英語:\\\n",
    "\"\n",
    "\n",
    "res = openai.Completion.create(\n",
    "    model=\"text-davinci-003\",\n",
    "    prompt=prompt,\n",
    "    max_tokens=500,\n",
    "    temperature=0\n",
    ")\n",
    "\n",
    "print(res)\n",
    "print(res.choices[0].text)"
   ]
  }
 ],
 "metadata": {
  "kernelspec": {
   "display_name": "Python 3 (ipykernel)",
   "language": "python",
   "name": "python3"
  },
  "language_info": {
   "codemirror_mode": {
    "name": "ipython",
    "version": 3
   },
   "file_extension": ".py",
   "mimetype": "text/x-python",
   "name": "python",
   "nbconvert_exporter": "python",
   "pygments_lexer": "ipython3",
   "version": "3.11.0"
  }
 },
 "nbformat": 4,
 "nbformat_minor": 5
}
